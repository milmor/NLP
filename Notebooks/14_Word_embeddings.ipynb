{
 "cells": [
  {
   "cell_type": "markdown",
   "id": "4b00f678-39f7-4be2-aa51-cc4737fcd1a0",
   "metadata": {},
   "source": [
    "# Word embeddings\n",
    "- Word Embeddings es una técnica popular en procesamiento del lenguaje natural que permite representar las palabras en un espacio vectorial,"
   ]
  },
  {
   "cell_type": "markdown",
   "id": "c3d5ac6f-124d-40d1-8e97-ae14a28efb2a",
   "metadata": {},
   "source": [
    "- Dataset: https://www.kaggle.com/datasets/andrewmvd/cyberbullying-classification"
   ]
  },
  {
   "cell_type": "markdown",
   "id": "9d1cd0c3-599d-4c44-a4df-fb42b5f49bb1",
   "metadata": {},
   "source": [
    "## 1.- Conjuntos de entrenamiento y validación"
   ]
  },
  {
   "cell_type": "code",
   "execution_count": 1,
   "id": "d1458c2c-1dfe-4638-8655-a28df1ccd4ef",
   "metadata": {},
   "outputs": [],
   "source": [
    "import pandas as pd\n",
    "import matplotlib.pyplot as plt"
   ]
  },
  {
   "cell_type": "code",
   "execution_count": 2,
   "id": "6f850e02-db52-441f-99dd-41a7e08b594c",
   "metadata": {},
   "outputs": [],
   "source": [
    "df = pd.read_csv('./cyberbullying_tweets.csv')   "
   ]
  },
  {
   "cell_type": "code",
   "execution_count": 3,
   "id": "35f0db65-4358-4f2b-baa7-3cf6250519ee",
   "metadata": {},
   "outputs": [
    {
     "data": {
      "text/html": [
       "<div>\n",
       "<style scoped>\n",
       "    .dataframe tbody tr th:only-of-type {\n",
       "        vertical-align: middle;\n",
       "    }\n",
       "\n",
       "    .dataframe tbody tr th {\n",
       "        vertical-align: top;\n",
       "    }\n",
       "\n",
       "    .dataframe thead th {\n",
       "        text-align: right;\n",
       "    }\n",
       "</style>\n",
       "<table border=\"1\" class=\"dataframe\">\n",
       "  <thead>\n",
       "    <tr style=\"text-align: right;\">\n",
       "      <th></th>\n",
       "      <th>tweet_text</th>\n",
       "      <th>cyberbullying_type</th>\n",
       "    </tr>\n",
       "  </thead>\n",
       "  <tbody>\n",
       "    <tr>\n",
       "      <th>0</th>\n",
       "      <td>In other words #katandandre, your food was cra...</td>\n",
       "      <td>not_cyberbullying</td>\n",
       "    </tr>\n",
       "    <tr>\n",
       "      <th>1</th>\n",
       "      <td>Why is #aussietv so white? #MKR #theblock #ImA...</td>\n",
       "      <td>not_cyberbullying</td>\n",
       "    </tr>\n",
       "    <tr>\n",
       "      <th>2</th>\n",
       "      <td>@XochitlSuckkks a classy whore? Or more red ve...</td>\n",
       "      <td>not_cyberbullying</td>\n",
       "    </tr>\n",
       "    <tr>\n",
       "      <th>3</th>\n",
       "      <td>@Jason_Gio meh. :P  thanks for the heads up, b...</td>\n",
       "      <td>not_cyberbullying</td>\n",
       "    </tr>\n",
       "    <tr>\n",
       "      <th>4</th>\n",
       "      <td>@RudhoeEnglish This is an ISIS account pretend...</td>\n",
       "      <td>not_cyberbullying</td>\n",
       "    </tr>\n",
       "  </tbody>\n",
       "</table>\n",
       "</div>"
      ],
      "text/plain": [
       "                                          tweet_text cyberbullying_type\n",
       "0  In other words #katandandre, your food was cra...  not_cyberbullying\n",
       "1  Why is #aussietv so white? #MKR #theblock #ImA...  not_cyberbullying\n",
       "2  @XochitlSuckkks a classy whore? Or more red ve...  not_cyberbullying\n",
       "3  @Jason_Gio meh. :P  thanks for the heads up, b...  not_cyberbullying\n",
       "4  @RudhoeEnglish This is an ISIS account pretend...  not_cyberbullying"
      ]
     },
     "execution_count": 3,
     "metadata": {},
     "output_type": "execute_result"
    }
   ],
   "source": [
    "df.head()"
   ]
  },
  {
   "cell_type": "code",
   "execution_count": 4,
   "id": "cf4e6a3c-7baf-4a87-98ac-4ce53ae29d6f",
   "metadata": {
    "tags": []
   },
   "outputs": [
    {
     "data": {
      "text/plain": [
       "array(['not_cyberbullying', 'gender', 'religion', 'other_cyberbullying',\n",
       "       'age', 'ethnicity'], dtype=object)"
      ]
     },
     "execution_count": 4,
     "metadata": {},
     "output_type": "execute_result"
    }
   ],
   "source": [
    "df['cyberbullying_type'].unique()"
   ]
  },
  {
   "cell_type": "code",
   "execution_count": 5,
   "id": "d8ec7adf-396e-483f-9b08-e2696d2e8e66",
   "metadata": {
    "tags": []
   },
   "outputs": [
    {
     "data": {
      "text/plain": [
       "cyberbullying_type\n",
       "religion               7998\n",
       "age                    7992\n",
       "gender                 7973\n",
       "ethnicity              7961\n",
       "not_cyberbullying      7945\n",
       "other_cyberbullying    7823\n",
       "Name: count, dtype: int64"
      ]
     },
     "execution_count": 5,
     "metadata": {},
     "output_type": "execute_result"
    }
   ],
   "source": [
    "# Contar elementos por clase\n",
    "count = df['cyberbullying_type'].value_counts()\n",
    "count"
   ]
  },
  {
   "cell_type": "code",
   "execution_count": 6,
   "id": "3bf56b11-f00d-417f-b04a-5aedd2f656df",
   "metadata": {
    "tags": []
   },
   "outputs": [],
   "source": [
    "from sklearn.model_selection import train_test_split\n",
    "train_df, val_df= train_test_split(df, test_size = 0.15, random_state = 123)"
   ]
  },
  {
   "cell_type": "code",
   "execution_count": 7,
   "id": "7013b70e-296e-488c-80ae-eced1748a6bf",
   "metadata": {
    "tags": []
   },
   "outputs": [
    {
     "data": {
      "text/plain": [
       "cyberbullying_type\n",
       "not_cyberbullying      6826\n",
       "gender                 6821\n",
       "ethnicity              6777\n",
       "age                    6763\n",
       "religion               6743\n",
       "other_cyberbullying    6608\n",
       "Name: count, dtype: int64"
      ]
     },
     "execution_count": 7,
     "metadata": {},
     "output_type": "execute_result"
    }
   ],
   "source": [
    "train_df['cyberbullying_type'].value_counts()"
   ]
  },
  {
   "cell_type": "markdown",
   "id": "bb0ca784-81d1-4294-923f-6ae1882587d9",
   "metadata": {},
   "source": [
    "## 2.- Preprocesamiento"
   ]
  },
  {
   "cell_type": "code",
   "execution_count": 8,
   "id": "454a30f7-c59e-4522-b77a-1390eae132db",
   "metadata": {
    "tags": []
   },
   "outputs": [
    {
     "data": {
      "text/html": [
       "<div>\n",
       "<style scoped>\n",
       "    .dataframe tbody tr th:only-of-type {\n",
       "        vertical-align: middle;\n",
       "    }\n",
       "\n",
       "    .dataframe tbody tr th {\n",
       "        vertical-align: top;\n",
       "    }\n",
       "\n",
       "    .dataframe thead th {\n",
       "        text-align: right;\n",
       "    }\n",
       "</style>\n",
       "<table border=\"1\" class=\"dataframe\">\n",
       "  <thead>\n",
       "    <tr style=\"text-align: right;\">\n",
       "      <th></th>\n",
       "      <th>tweet_text</th>\n",
       "      <th>cyberbullying_type</th>\n",
       "    </tr>\n",
       "  </thead>\n",
       "  <tbody>\n",
       "    <tr>\n",
       "      <th>32620</th>\n",
       "      <td>If you’re in college and still posting about t...</td>\n",
       "      <td>1</td>\n",
       "    </tr>\n",
       "    <tr>\n",
       "      <th>9173</th>\n",
       "      <td>but, there is still the dolly magazine model c...</td>\n",
       "      <td>1</td>\n",
       "    </tr>\n",
       "    <tr>\n",
       "      <th>1466</th>\n",
       "      <td>Why am I disappointed?</td>\n",
       "      <td>0</td>\n",
       "    </tr>\n",
       "    <tr>\n",
       "      <th>32887</th>\n",
       "      <td>What was the conversation was leading up to th...</td>\n",
       "      <td>1</td>\n",
       "    </tr>\n",
       "    <tr>\n",
       "      <th>15856</th>\n",
       "      <td>“faces up to three years in prison” , “getting...</td>\n",
       "      <td>1</td>\n",
       "    </tr>\n",
       "  </tbody>\n",
       "</table>\n",
       "</div>"
      ],
      "text/plain": [
       "                                              tweet_text  cyberbullying_type\n",
       "32620  If you’re in college and still posting about t...                   1\n",
       "9173   but, there is still the dolly magazine model c...                   1\n",
       "1466                              Why am I disappointed?                   0\n",
       "32887  What was the conversation was leading up to th...                   1\n",
       "15856  “faces up to three years in prison” , “getting...                   1"
      ]
     },
     "execution_count": 8,
     "metadata": {},
     "output_type": "execute_result"
    }
   ],
   "source": [
    "# Creamos un diccionario que mapea cada etiqueta a un número entero\n",
    "labels_dict = {\n",
    "    'not_cyberbullying': 0,\n",
    "    'gender': 1,\n",
    "    'religion': 1,\n",
    "    'other_cyberbullying': 1,\n",
    "    'age': 1,\n",
    "    'ethnicity': 1\n",
    "}\n",
    "\n",
    "# Usamos la función map() para reemplazar cada etiqueta con su valor entero correspondiente\n",
    "train_df['cyberbullying_type'] = train_df['cyberbullying_type'].replace(labels_dict)\n",
    "val_df['cyberbullying_type'] = val_df['cyberbullying_type'].replace(labels_dict)\n",
    "\n",
    "train_df.head()"
   ]
  },
  {
   "cell_type": "markdown",
   "id": "82d36938-df30-4bc1-a7b8-2c8c58be37ae",
   "metadata": {
    "tags": []
   },
   "source": [
    "- Verifica cadenas vacias"
   ]
  },
  {
   "cell_type": "code",
   "execution_count": 9,
   "id": "616ec96f-a709-41b7-9e85-6262bac0cd74",
   "metadata": {},
   "outputs": [
    {
     "data": {
      "text/plain": [
       "0"
      ]
     },
     "execution_count": 9,
     "metadata": {},
     "output_type": "execute_result"
    }
   ],
   "source": [
    "train_df['tweet_text'].isna().sum()"
   ]
  },
  {
   "cell_type": "markdown",
   "id": "3eb4b12e-9ea6-492f-906c-e2a205ca0061",
   "metadata": {},
   "source": [
    "- Elimina puntuación y convierte a minúsculas\n",
    "- Se utiliza el método __str.translate()__ para eliminar todos los caracteres de puntuación mediante una tabla de traducción creada con el método __str.maketrans__. La constante string.punctuation contiene todos los caracteres de puntuación ASCII, que se eliminan de los valores en la columna"
   ]
  },
  {
   "cell_type": "code",
   "execution_count": 10,
   "id": "16ff03a8-76aa-4786-a794-e6744a45bc47",
   "metadata": {},
   "outputs": [
    {
     "data": {
      "text/plain": [
       "'!\"#$%&\\'()*+,-./:;<=>?@[\\\\]^_`{|}~'"
      ]
     },
     "execution_count": 10,
     "metadata": {},
     "output_type": "execute_result"
    }
   ],
   "source": [
    "import string\n",
    "string.punctuation"
   ]
  },
  {
   "cell_type": "code",
   "execution_count": 11,
   "id": "6a5aa290-98ec-4e71-a4e4-69efc463f8ec",
   "metadata": {},
   "outputs": [
    {
     "data": {
      "text/html": [
       "<div>\n",
       "<style scoped>\n",
       "    .dataframe tbody tr th:only-of-type {\n",
       "        vertical-align: middle;\n",
       "    }\n",
       "\n",
       "    .dataframe tbody tr th {\n",
       "        vertical-align: top;\n",
       "    }\n",
       "\n",
       "    .dataframe thead th {\n",
       "        text-align: right;\n",
       "    }\n",
       "</style>\n",
       "<table border=\"1\" class=\"dataframe\">\n",
       "  <thead>\n",
       "    <tr style=\"text-align: right;\">\n",
       "      <th></th>\n",
       "      <th>tweet_text</th>\n",
       "      <th>cyberbullying_type</th>\n",
       "    </tr>\n",
       "  </thead>\n",
       "  <tbody>\n",
       "    <tr>\n",
       "      <th>32620</th>\n",
       "      <td>if you’re in college and still posting about t...</td>\n",
       "      <td>1</td>\n",
       "    </tr>\n",
       "    <tr>\n",
       "      <th>9173</th>\n",
       "      <td>but there is still the dolly magazine model co...</td>\n",
       "      <td>1</td>\n",
       "    </tr>\n",
       "    <tr>\n",
       "      <th>1466</th>\n",
       "      <td>why am i disappointed</td>\n",
       "      <td>0</td>\n",
       "    </tr>\n",
       "    <tr>\n",
       "      <th>32887</th>\n",
       "      <td>what was the conversation was leading up to th...</td>\n",
       "      <td>1</td>\n",
       "    </tr>\n",
       "    <tr>\n",
       "      <th>15856</th>\n",
       "      <td>“faces up to three years in prison”  “getting ...</td>\n",
       "      <td>1</td>\n",
       "    </tr>\n",
       "  </tbody>\n",
       "</table>\n",
       "</div>"
      ],
      "text/plain": [
       "                                              tweet_text  cyberbullying_type\n",
       "32620  if you’re in college and still posting about t...                   1\n",
       "9173   but there is still the dolly magazine model co...                   1\n",
       "1466                               why am i disappointed                   0\n",
       "32887  what was the conversation was leading up to th...                   1\n",
       "15856  “faces up to three years in prison”  “getting ...                   1"
      ]
     },
     "execution_count": 11,
     "metadata": {},
     "output_type": "execute_result"
    }
   ],
   "source": [
    "train_df['tweet_text'] = train_df['tweet_text'].str.lower().str.translate(str.maketrans('', '', string.punctuation))\n",
    "train_df.head()"
   ]
  },
  {
   "cell_type": "code",
   "execution_count": 12,
   "id": "ee3ad12a-07bf-4535-a40d-140e89adb504",
   "metadata": {
    "tags": []
   },
   "outputs": [
    {
     "data": {
      "text/html": [
       "<div>\n",
       "<style scoped>\n",
       "    .dataframe tbody tr th:only-of-type {\n",
       "        vertical-align: middle;\n",
       "    }\n",
       "\n",
       "    .dataframe tbody tr th {\n",
       "        vertical-align: top;\n",
       "    }\n",
       "\n",
       "    .dataframe thead th {\n",
       "        text-align: right;\n",
       "    }\n",
       "</style>\n",
       "<table border=\"1\" class=\"dataframe\">\n",
       "  <thead>\n",
       "    <tr style=\"text-align: right;\">\n",
       "      <th></th>\n",
       "      <th>tweet_text</th>\n",
       "      <th>cyberbullying_type</th>\n",
       "    </tr>\n",
       "  </thead>\n",
       "  <tbody>\n",
       "    <tr>\n",
       "      <th>22180</th>\n",
       "      <td>too true their radical anti family anti bible ...</td>\n",
       "      <td>1</td>\n",
       "    </tr>\n",
       "    <tr>\n",
       "      <th>1399</th>\n",
       "      <td>this book was published in 2008</td>\n",
       "      <td>0</td>\n",
       "    </tr>\n",
       "    <tr>\n",
       "      <th>14950</th>\n",
       "      <td>rt strubbestition im not sexist but personal o...</td>\n",
       "      <td>1</td>\n",
       "    </tr>\n",
       "    <tr>\n",
       "      <th>17013</th>\n",
       "      <td>dianh4 exposefalsehood who else are we suppose...</td>\n",
       "      <td>1</td>\n",
       "    </tr>\n",
       "    <tr>\n",
       "      <th>45351</th>\n",
       "      <td>lmao u dumb rt k11agee what is the ciaa colore...</td>\n",
       "      <td>1</td>\n",
       "    </tr>\n",
       "  </tbody>\n",
       "</table>\n",
       "</div>"
      ],
      "text/plain": [
       "                                              tweet_text  cyberbullying_type\n",
       "22180  too true their radical anti family anti bible ...                   1\n",
       "1399                     this book was published in 2008                   0\n",
       "14950  rt strubbestition im not sexist but personal o...                   1\n",
       "17013  dianh4 exposefalsehood who else are we suppose...                   1\n",
       "45351  lmao u dumb rt k11agee what is the ciaa colore...                   1"
      ]
     },
     "execution_count": 12,
     "metadata": {},
     "output_type": "execute_result"
    }
   ],
   "source": [
    "val_df['tweet_text'] = val_df['tweet_text'].str.lower().str.translate(str.maketrans('', '', string.punctuation))\n",
    "val_df.head()"
   ]
  },
  {
   "cell_type": "markdown",
   "id": "a651ba97-16f3-47fd-9798-5353586f346d",
   "metadata": {},
   "source": [
    "## 2.- Pipeline"
   ]
  },
  {
   "cell_type": "code",
   "execution_count": 13,
   "id": "a0182532-66f2-4482-9630-bda5d1470d76",
   "metadata": {},
   "outputs": [],
   "source": [
    "import os\n",
    "os.environ['TF_CPP_MIN_LOG_LEVEL'] = '3' # Disable tensorflow debugging logs\n",
    "import tensorflow as tf\n",
    "from tensorflow.keras.layers import TextVectorization\n",
    "from tensorflow.keras import Sequential\n",
    "from tensorflow.keras import layers \n",
    "import re\n",
    "\n",
    "X_train = train_df['tweet_text'].values\n",
    "y_train = train_df['cyberbullying_type'].values\n",
    "\n",
    "X_val = val_df['tweet_text'].values\n",
    "y_val = val_df['cyberbullying_type'].values"
   ]
  },
  {
   "cell_type": "code",
   "execution_count": 14,
   "id": "f8896562-dd30-431b-a7a1-55d084586352",
   "metadata": {
    "tags": []
   },
   "outputs": [
    {
     "data": {
      "text/plain": [
       "(40538, 7154)"
      ]
     },
     "execution_count": 14,
     "metadata": {},
     "output_type": "execute_result"
    }
   ],
   "source": [
    "len(X_train), len(X_val)"
   ]
  },
  {
   "cell_type": "code",
   "execution_count": 15,
   "id": "36d1a088-4c8c-4851-b53f-07e3432c3870",
   "metadata": {
    "scrolled": true,
    "tags": []
   },
   "outputs": [
    {
     "name": "stdout",
     "output_type": "stream",
     "text": [
      "(<tf.Tensor: shape=(), dtype=string, numpy=b'if you\\xe2\\x80\\x99re in college and still posting about the girl you had \\xe2\\x80\\x9cbeef\\xe2\\x80\\x9d with and bullied in high school on an insta spam page you\\xe2\\x80\\x99re straight up trash move tf on sis'>, <tf.Tensor: shape=(), dtype=int64, numpy=1>)\n"
     ]
    }
   ],
   "source": [
    "raw_train_ds = tf.data.Dataset.from_tensor_slices((X_train, y_train))\n",
    "raw_val_ds = tf.data.Dataset.from_tensor_slices((X_val, y_val))\n",
    "\n",
    "for text in raw_train_ds.take(1):\n",
    "    print(text)"
   ]
  },
  {
   "cell_type": "code",
   "execution_count": 16,
   "id": "52401e10-ade1-4f2a-9de7-036b7ee85556",
   "metadata": {},
   "outputs": [],
   "source": [
    "# Tamaño de vocabulario\n",
    "vocab_size = 10000\n",
    "\n",
    "vectorize_layer = TextVectorization(\n",
    "    standardize=None,\n",
    "    max_tokens=vocab_size,\n",
    "    output_mode='int')\n",
    "\n",
    "# Obtener el texto sin etiquetas\n",
    "text_ds = raw_train_ds.map(lambda x, y: x)\n",
    "vectorize_layer.adapt(text_ds)"
   ]
  },
  {
   "cell_type": "code",
   "execution_count": 17,
   "id": "3ed1f5fe-0b18-4b0e-8c5d-d1f7413bb780",
   "metadata": {
    "scrolled": true,
    "tags": []
   },
   "outputs": [],
   "source": [
    "# Define a function to convert the label to a one-hot encoding\n",
    "def convert_label_to_one_hot(text, label):\n",
    "    one_hot_label = tf.one_hot(label, 2)\n",
    "    return text, one_hot_label\n",
    "\n",
    "# Apply the function to the dataset using map()\n",
    "raw_train_ds = raw_train_ds.map(convert_label_to_one_hot)\n",
    "raw_val_ds = raw_val_ds.map(convert_label_to_one_hot)"
   ]
  },
  {
   "cell_type": "code",
   "execution_count": 18,
   "id": "862068ba-6861-441c-9ee2-dcd71a818bb1",
   "metadata": {
    "tags": []
   },
   "outputs": [],
   "source": [
    "batch_size = 32\n",
    "train_ds = raw_train_ds.shuffle(33384).batch(batch_size)\n",
    "val_ds = raw_val_ds.batch(batch_size)"
   ]
  },
  {
   "cell_type": "code",
   "execution_count": 19,
   "id": "1fc023a2-3151-4426-93e0-86c4da4b201a",
   "metadata": {
    "scrolled": true,
    "tags": []
   },
   "outputs": [
    {
     "name": "stdout",
     "output_type": "stream",
     "text": [
      "tf.Tensor(\n",
      "[b'edroach orvtech this isnt deanonymizing the phone  wouldnt necessarily be stored no names would be required'\n",
      " b'didymusleonhart earlier she wasshe doesnt care about facts'\n",
      " b'sean she made a statement about a blk man a human being who was killed in broad daylight by a police officer w his knee on his neck while he was handcuffed your response to her about why the officer isnt charged is to bring up islamic terrorism u dont see your own racism'\n",
      " b'omg shut up drasko and bianca mkr finalfive'\n",
      " b'this is the farthest thing from an apology you denied saying it and actually had the balls to call your ignorance and hatred towards a female \\xe2\\x80\\x98passion\\xe2\\x80\\x99 who\\xe2\\x80\\x99s the fuing bitch now'\n",
      " b'christinelove i do t know how to flirt without using animated tina fey gifs'\n",
      " b'this is not starfire this is the annoying white girl with braces who bullied you in high school'\n",
      " b'zillytbh leighalexander oh shit i accidentally blocked you whoops'\n",
      " b'govmikehuckabee dude your a joke can you just shut up first chikfila now spinning the rape comment we get it you hate women  gay'\n",
      " b'giving the loser teams enough time to cook everything well amp beat the score record i expect scores over 100 mkr'\n",
      " b'i feel like charli would be the type to never bully anyone in school'\n",
      " b'that makes sense are the macho boys the school bullies do school bullies grow up to still be bullies'\n",
      " b'just like he was a muslim then he was a socialist oh let\\xe2\\x80\\x99s not forget the terrorist fist bump and the best for last he used a selfie stick you trumptards must still believe in the easter bunny and santa clause idiots'\n",
      " b'i stg ion get females bitches used to call me ugly to my face now when a nigga say a tattoo ugly he a disease '\n",
      " b'tyronjohnson23 you dont have to be full black to act like a nigger your beig disgusting disrespectful ampignoranteverything a nigger is'\n",
      " b'i dont want to mislead anyone into thinking im okay with rape jokes gay jokes any shit of that nature i want to be clear fuck that'\n",
      " b'do y\\xe2\\x80\\x99all think it\\xe2\\x80\\x99s a psychological problem that i\\xe2\\x80\\x99m attracted to girls who look like they would have bullied me in high school'\n",
      " b'rt bigbupiswatchin freebsdgirl they dont even go here'\n",
      " b'httpstwittercomharshit35075562status1262578250250780672s19 this message from a common afghan okay idiot goodbye this is a 21st century we defeated you 4 times we break you past 70 kashmiri muslims are our slaves wake up tell your coward army come in kashmir and fight with us almost a year completed on 5th august'\n",
      " b'my own grandma called me nigger when was 13 and she married a black men  the world is truly disgusting'\n",
      " b'when an idiot stomps around my country destroying it in the name of marxism i couldnt care less what she is whining about shes disrespecting my rights she needs to respect the law ive been to enough muslim countries to know what i state me no make up story you make up'\n",
      " b'azhammalek oh okay'\n",
      " b'senategop no mail in voting get the kids back to school give them school choice money should follow the child and last speak up for us quit letting loud mouth democrats bully you we are out here trying to cheer you on but we need to see you stand up and speak out'\n",
      " b'there isnt much tv better than bully beatdown'\n",
      " b'mwlauthor ive mentioned before about how i bleed twitter json i could probably construct an api calls return value by hand at this point'\n",
      " b'actual c'\n",
      " b'mandaswaggie dear dumb fuck black people are not niggers hech they are not even black they have different skin colors fuckin racist'\n",
      " b'but you all respect himpete hasnt read twitter has he mkr'\n",
      " b'what dumb nigger fighting on the field u get paid 10000000chill the fuck out monkey'\n",
      " b'emzyme nvidiadeveloper yahoogames twitchsupport same i recently bought their kingpin card i always buy nvidia'\n",
      " b'mkr paleo'\n",
      " b'it seems some idiot told you if you ask this questions a muslim will get worriedlol its like asking why you were born as a man even your parents cant answer that go and ask them why you are a man and not transgenderlol gobar khaega to gobar brain hi payega'], shape=(32,), dtype=string) tf.Tensor(\n",
      "[[0. 1.]\n",
      " [0. 1.]\n",
      " [0. 1.]\n",
      " [0. 1.]\n",
      " [0. 1.]\n",
      " [0. 1.]\n",
      " [0. 1.]\n",
      " [1. 0.]\n",
      " [0. 1.]\n",
      " [0. 1.]\n",
      " [0. 1.]\n",
      " [0. 1.]\n",
      " [0. 1.]\n",
      " [0. 1.]\n",
      " [0. 1.]\n",
      " [0. 1.]\n",
      " [0. 1.]\n",
      " [0. 1.]\n",
      " [0. 1.]\n",
      " [0. 1.]\n",
      " [0. 1.]\n",
      " [1. 0.]\n",
      " [0. 1.]\n",
      " [1. 0.]\n",
      " [0. 1.]\n",
      " [0. 1.]\n",
      " [0. 1.]\n",
      " [1. 0.]\n",
      " [0. 1.]\n",
      " [1. 0.]\n",
      " [1. 0.]\n",
      " [0. 1.]], shape=(32, 2), dtype=float32)\n"
     ]
    }
   ],
   "source": [
    "for inp, target in train_ds.take(1):\n",
    "    print(inp, target)"
   ]
  },
  {
   "cell_type": "code",
   "execution_count": 20,
   "id": "c31ebadd-1c86-4c71-886f-32adab6e453f",
   "metadata": {
    "tags": []
   },
   "outputs": [
    {
     "data": {
      "text/plain": [
       "<tf.Tensor: shape=(32, 54), dtype=int64, numpy=\n",
       "array([[7453,    1,   19, ...,    0,    0,    0],\n",
       "       [   1, 2352,   74, ...,    0,    0,    0],\n",
       "       [4134,   74,  169, ...,   40,  261,  183],\n",
       "       ...,\n",
       "       [   1,    1,    1, ...,    0,    0,    0],\n",
       "       [  78, 3956,    0, ...,    0,    0,    0],\n",
       "       [  15,  625,   96, ...,    0,    0,    0]])>"
      ]
     },
     "execution_count": 20,
     "metadata": {},
     "output_type": "execute_result"
    }
   ],
   "source": [
    "vectorize_layer(inp)"
   ]
  },
  {
   "cell_type": "markdown",
   "id": "938c3502-a5d2-4124-a485-00046a013ed2",
   "metadata": {},
   "source": [
    "## 3.- Modelo"
   ]
  },
  {
   "cell_type": "code",
   "execution_count": 21,
   "id": "fc440688-eeec-43ed-85c9-0cf1482e9362",
   "metadata": {
    "tags": []
   },
   "outputs": [],
   "source": [
    "model = Sequential([\n",
    "  vectorize_layer,\n",
    "  layers.Embedding(vocab_size, 128, name=\"embedding\"),\n",
    "  layers.GlobalAveragePooling1D(),\n",
    "  layers.Dense(16, activation='relu'),\n",
    "  layers.Dense(16, activation='relu'),\n",
    "  layers.Dense(2)\n",
    "])\n",
    "\n",
    "lr = 0.0001\n",
    "opt = tf.keras.optimizers.Adam(learning_rate=lr)"
   ]
  },
  {
   "cell_type": "code",
   "execution_count": 22,
   "id": "f1a28c86-cea1-4492-ab77-5a45d922917d",
   "metadata": {
    "tags": []
   },
   "outputs": [],
   "source": [
    "model.compile(loss=tf.keras.losses.CategoricalCrossentropy(from_logits=True),\n",
    "              optimizer=opt,\n",
    "              metrics=['accuracy'])"
   ]
  },
  {
   "cell_type": "code",
   "execution_count": 23,
   "id": "5ac0bedf-540e-4a46-8dd6-899a9bd2933d",
   "metadata": {
    "scrolled": true,
    "tags": []
   },
   "outputs": [
    {
     "data": {
      "text/plain": [
       "<tf.Tensor: shape=(32, 2), dtype=float32, numpy=\n",
       "array([[ 1.7676174e-03, -1.3970927e-02],\n",
       "       [ 1.7420693e-03, -1.6567914e-02],\n",
       "       [ 1.9009569e-05, -2.1627019e-03],\n",
       "       [ 1.4184313e-03, -1.8530827e-02],\n",
       "       [ 8.1740128e-04, -8.5683223e-03],\n",
       "       [ 1.5541010e-03, -1.5917344e-02],\n",
       "       [ 1.3266699e-03, -1.5005990e-02],\n",
       "       [ 1.0997900e-03, -1.6483411e-02],\n",
       "       [-2.9420658e-04, -1.0348146e-02],\n",
       "       [ 8.3020079e-04, -1.4311913e-02],\n",
       "       [-5.3943478e-04, -1.9048609e-02],\n",
       "       [-6.3291489e-04, -2.2890735e-02],\n",
       "       [ 1.7474638e-04, -8.4934477e-03],\n",
       "       [-8.8536902e-04, -1.2047833e-02],\n",
       "       [ 9.7721012e-04, -1.0053077e-02],\n",
       "       [ 3.9492402e-04, -1.2061889e-02],\n",
       "       [ 2.3087588e-04, -1.4291828e-02],\n",
       "       [ 5.9231149e-04, -1.7570330e-02],\n",
       "       [-1.4133117e-04, -2.2901651e-03],\n",
       "       [ 1.1900575e-03, -1.0160214e-02],\n",
       "       [ 1.0123607e-04, -2.3862605e-03],\n",
       "       [ 1.0340879e-03, -1.8961163e-02],\n",
       "       [-1.6183400e-04, -4.8268978e-03],\n",
       "       [ 4.2020096e-04, -1.8281747e-02],\n",
       "       [ 2.8777539e-03, -9.1807060e-03],\n",
       "       [ 1.6549048e-03, -1.8678421e-02],\n",
       "       [ 1.8831999e-03, -1.1057719e-02],\n",
       "       [ 1.2746231e-03, -1.5717883e-02],\n",
       "       [ 9.5288537e-04, -1.4381083e-02],\n",
       "       [ 2.9720895e-03, -1.4920034e-02],\n",
       "       [ 1.8525779e-03, -2.0467125e-02],\n",
       "       [ 2.1070477e-03, -5.3598284e-04]], dtype=float32)>"
      ]
     },
     "execution_count": 23,
     "metadata": {},
     "output_type": "execute_result"
    }
   ],
   "source": [
    "model(inp)"
   ]
  },
  {
   "cell_type": "code",
   "execution_count": 24,
   "id": "375d4ab4-d619-4ce2-a6d0-010edf5c8676",
   "metadata": {
    "scrolled": true,
    "tags": []
   },
   "outputs": [
    {
     "name": "stdout",
     "output_type": "stream",
     "text": [
      "Epoch 1/7\n",
      "1267/1267 [==============================] - 22s 17ms/step - loss: 0.4760 - accuracy: 0.8266 - val_loss: 0.3568 - val_accuracy: 0.8436\n",
      "Epoch 2/7\n",
      "1267/1267 [==============================] - 4s 3ms/step - loss: 0.3382 - accuracy: 0.8352 - val_loss: 0.3118 - val_accuracy: 0.8563\n",
      "Epoch 3/7\n",
      "1267/1267 [==============================] - 4s 3ms/step - loss: 0.3031 - accuracy: 0.8519 - val_loss: 0.2866 - val_accuracy: 0.8620\n",
      "Epoch 4/7\n",
      "1267/1267 [==============================] - 4s 3ms/step - loss: 0.2770 - accuracy: 0.8644 - val_loss: 0.2702 - val_accuracy: 0.8676\n",
      "Epoch 5/7\n",
      "1267/1267 [==============================] - 3s 2ms/step - loss: 0.2575 - accuracy: 0.8731 - val_loss: 0.2644 - val_accuracy: 0.8584\n",
      "Epoch 6/7\n",
      "1267/1267 [==============================] - 3s 2ms/step - loss: 0.2441 - accuracy: 0.8819 - val_loss: 0.2578 - val_accuracy: 0.8694\n",
      "Epoch 7/7\n",
      "1267/1267 [==============================] - 3s 2ms/step - loss: 0.2347 - accuracy: 0.8865 - val_loss: 0.2581 - val_accuracy: 0.8602\n"
     ]
    }
   ],
   "source": [
    "epochs = 7\n",
    "history = model.fit(\n",
    "    train_ds,\n",
    "    validation_data=val_ds,\n",
    "    epochs=epochs)"
   ]
  },
  {
   "cell_type": "markdown",
   "id": "0fa8a339-98cf-45d5-8633-70a59badcf3f",
   "metadata": {},
   "source": [
    "## 4.- Evaluación"
   ]
  },
  {
   "cell_type": "code",
   "execution_count": 25,
   "id": "48f29125-8645-490b-9361-53c85e5e69d2",
   "metadata": {
    "tags": []
   },
   "outputs": [
    {
     "name": "stdout",
     "output_type": "stream",
     "text": [
      "224/224 [==============================] - 0s 1ms/step - loss: 0.2581 - accuracy: 0.8602\n"
     ]
    },
    {
     "data": {
      "text/plain": [
       "[0.2581416070461273, 0.8602180480957031]"
      ]
     },
     "execution_count": 25,
     "metadata": {},
     "output_type": "execute_result"
    }
   ],
   "source": [
    "model.evaluate(val_ds)"
   ]
  },
  {
   "cell_type": "code",
   "execution_count": 26,
   "id": "698e2031-8c7e-4ec9-97f1-40939b7d36d2",
   "metadata": {
    "tags": []
   },
   "outputs": [
    {
     "data": {
      "text/plain": [
       "(TensorShape([32]), TensorShape([32, 2]))"
      ]
     },
     "execution_count": 26,
     "metadata": {},
     "output_type": "execute_result"
    }
   ],
   "source": [
    "x_test, y_test = next(iter(val_ds))\n",
    "x_test.shape, y_test.shape"
   ]
  },
  {
   "cell_type": "code",
   "execution_count": 27,
   "id": "b229df39-cb76-4270-b842-0bd598d2d15a",
   "metadata": {
    "tags": []
   },
   "outputs": [
    {
     "data": {
      "text/plain": [
       "[<keras.layers.preprocessing.text_vectorization.TextVectorization at 0x7f9c2defb190>,\n",
       " <keras.layers.core.embedding.Embedding at 0x7f9c22f23110>,\n",
       " <keras.layers.pooling.global_average_pooling1d.GlobalAveragePooling1D at 0x7f9c2decbd50>,\n",
       " <keras.layers.core.dense.Dense at 0x7f9c20104b90>,\n",
       " <keras.layers.core.dense.Dense at 0x7f9c2afc6390>,\n",
       " <keras.layers.core.dense.Dense at 0x7f9c22f704d0>]"
      ]
     },
     "execution_count": 27,
     "metadata": {},
     "output_type": "execute_result"
    }
   ],
   "source": [
    "model.layers"
   ]
  },
  {
   "cell_type": "code",
   "execution_count": 28,
   "id": "43023c09-4ccb-4b34-a670-7230284bfc28",
   "metadata": {
    "scrolled": true,
    "tags": []
   },
   "outputs": [
    {
     "data": {
      "text/plain": [
       "<tf.Tensor: shape=(1, 17, 128), dtype=float32, numpy=\n",
       "array([[[ 0.01237397, -0.0037007 ,  0.02892053, ...,  0.05152211,\n",
       "         -0.00600613,  0.00787259],\n",
       "        [-0.05710816,  0.05147969, -0.06555793, ...,  0.02012168,\n",
       "         -0.05024346,  0.01038655],\n",
       "        [ 0.15265879, -0.05333271,  0.05267319, ...,  0.10902318,\n",
       "          0.07241282,  0.08725992],\n",
       "        ...,\n",
       "        [ 0.01890968,  0.00514343, -0.03419744, ..., -0.05642413,\n",
       "          0.02025793, -0.05680237],\n",
       "        [-0.03198611,  0.0213023 , -0.00534307, ..., -0.0176353 ,\n",
       "          0.00068893, -0.00193654],\n",
       "        [-0.03651744,  0.00832171,  0.03649377, ..., -0.04841935,\n",
       "         -0.05308201, -0.03911487]]], dtype=float32)>"
      ]
     },
     "execution_count": 28,
     "metadata": {},
     "output_type": "execute_result"
    }
   ],
   "source": [
    "words = 'bad good hate happy love scared friend sad alive family confident fight live funny best great amazing'\n",
    "ids = model.layers[0]([words])\n",
    "embeddings = model.layers[1](ids)\n",
    "embeddings"
   ]
  },
  {
   "cell_type": "markdown",
   "id": "6353839d-a3bd-4826-becc-b145ff6c2610",
   "metadata": {},
   "source": [
    "- Visualización de los vectores aprendidos"
   ]
  },
  {
   "cell_type": "code",
   "execution_count": 29,
   "id": "11e9ab42-b52e-48d8-80dd-2bfaf62a7386",
   "metadata": {
    "tags": []
   },
   "outputs": [
    {
     "name": "stdout",
     "output_type": "stream",
     "text": [
      "(17, 2)\n"
     ]
    },
    {
     "data": {
      "image/png": "[encoded data removed]",
      "text/plain": [
       "<Figure size 640x480 with 1 Axes>"
      ]
     },
     "metadata": {},
     "output_type": "display_data"
    }
   ],
   "source": [
    "import numpy as np\n",
    "import matplotlib.pyplot as plt\n",
    "from sklearn.decomposition import PCA\n",
    "import tensorflow as tf\n",
    "\n",
    "\n",
    "# Perform PCA on embeddings\n",
    "pca = PCA(n_components=2)\n",
    "pca_embeddings = pca.fit_transform(embeddings[0])\n",
    "print(pca_embeddings.shape)\n",
    "\n",
    "# Plot embeddings using matplotlib\n",
    "fig, ax = plt.subplots()\n",
    "ax.scatter(pca_embeddings[:, 0], pca_embeddings[:, 1], marker='o', c='b')\n",
    "\n",
    "for i, word in enumerate(words.split()):\n",
    "    ax.annotate(word, (pca_embeddings[i, 0], pca_embeddings[i, 1]))\n",
    "    \n",
    "plt.show()"
   ]
  }
 ],
 "metadata": {
  "kernelspec": {
   "display_name": "Python 3 (ipykernel)",
   "language": "python",
   "name": "python3"
  },
  "language_info": {
   "codemirror_mode": {
    "name": "ipython",
    "version": 3
   },
   "file_extension": ".py",
   "mimetype": "text/x-python",
   "name": "python",
   "nbconvert_exporter": "python",
   "pygments_lexer": "ipython3",
   "version": "3.11.2"
  }
 },
 "nbformat": 4,
 "nbformat_minor": 5
}

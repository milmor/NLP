{
 "cells": [
  {
   "cell_type": "markdown",
   "id": "c10c5dc7-22a8-4304-b723-d27794c1ee33",
   "metadata": {},
   "source": [
    "<table class=\"tfo-notebook-buttons\" align=\"left\">\n",
    "  <td>\n",
    "    <a target=\"_blank\" href=\"https://colab.research.google.com/github/milmor/NLP/blob/main/Notebooks/08_MLP_pt.ipynb\">\n",
    "    <img src=\"https://www.tensorflow.org/images/colab_logo_32px.png\" />\n",
    "    Run in Google Colab</a>\n",
    "  </td>\n",
    "</table>"
   ]
  },
  {
   "cell_type": "markdown",
   "id": "4b00f678-39f7-4be2-aa51-cc4737fcd1a0",
   "metadata": {},
   "source": [
    "# MLP"
   ]
  },
  {
   "cell_type": "markdown",
   "id": "c3d5ac6f-124d-40d1-8e97-ae14a28efb2a",
   "metadata": {},
   "source": [
    "- Dataset: https://www.kaggle.com/datasets/clmentbisaillon/fake-and-real-news-dataset"
   ]
  },
  {
   "cell_type": "markdown",
   "id": "9d1cd0c3-599d-4c44-a4df-fb42b5f49bb1",
   "metadata": {},
   "source": [
    "## 1.- Preprocesamiento"
   ]
  },
  {
   "cell_type": "code",
   "execution_count": 1,
   "id": "7ffd6a1b-4efe-45cc-9436-fa26e4f10aff",
   "metadata": {},
   "outputs": [
    {
     "name": "stdout",
     "output_type": "stream",
     "text": [
      "Using PyTorch backend.\n"
     ]
    },
    {
     "data": {
      "text/plain": [
       "'2.0.1+cu117'"
      ]
     },
     "execution_count": 1,
     "metadata": {},
     "output_type": "execute_result"
    }
   ],
   "source": [
    "import os\n",
    "os.environ['TF_CPP_MIN_LOG_LEVEL'] = '3' # Disable tensorflow debugging logs\n",
    "import pandas as pd\n",
    "os.environ[\"KERAS_BACKEND\"] = \"torch\"\n",
    "import keras_core as keras\n",
    "import torch\n",
    "\n",
    "torch.__version__"
   ]
  },
  {
   "cell_type": "code",
   "execution_count": 2,
   "id": "6f850e02-db52-441f-99dd-41a7e08b594c",
   "metadata": {},
   "outputs": [],
   "source": [
    "fake_df = pd.read_csv('Fake.csv')  \n",
    "true_df = pd.read_csv('True.csv')  "
   ]
  },
  {
   "cell_type": "code",
   "execution_count": 3,
   "id": "35f0db65-4358-4f2b-baa7-3cf6250519ee",
   "metadata": {},
   "outputs": [
    {
     "data": {
      "text/html": [
       "<div>\n",
       "<style scoped>\n",
       "    .dataframe tbody tr th:only-of-type {\n",
       "        vertical-align: middle;\n",
       "    }\n",
       "\n",
       "    .dataframe tbody tr th {\n",
       "        vertical-align: top;\n",
       "    }\n",
       "\n",
       "    .dataframe thead th {\n",
       "        text-align: right;\n",
       "    }\n",
       "</style>\n",
       "<table border=\"1\" class=\"dataframe\">\n",
       "  <thead>\n",
       "    <tr style=\"text-align: right;\">\n",
       "      <th></th>\n",
       "      <th>title</th>\n",
       "      <th>text</th>\n",
       "      <th>subject</th>\n",
       "      <th>date</th>\n",
       "    </tr>\n",
       "  </thead>\n",
       "  <tbody>\n",
       "    <tr>\n",
       "      <th>0</th>\n",
       "      <td>Donald Trump Sends Out Embarrassing New Year’...</td>\n",
       "      <td>Donald Trump just couldn t wish all Americans ...</td>\n",
       "      <td>News</td>\n",
       "      <td>December 31, 2017</td>\n",
       "    </tr>\n",
       "    <tr>\n",
       "      <th>1</th>\n",
       "      <td>Drunk Bragging Trump Staffer Started Russian ...</td>\n",
       "      <td>House Intelligence Committee Chairman Devin Nu...</td>\n",
       "      <td>News</td>\n",
       "      <td>December 31, 2017</td>\n",
       "    </tr>\n",
       "    <tr>\n",
       "      <th>2</th>\n",
       "      <td>Sheriff David Clarke Becomes An Internet Joke...</td>\n",
       "      <td>On Friday, it was revealed that former Milwauk...</td>\n",
       "      <td>News</td>\n",
       "      <td>December 30, 2017</td>\n",
       "    </tr>\n",
       "    <tr>\n",
       "      <th>3</th>\n",
       "      <td>Trump Is So Obsessed He Even Has Obama’s Name...</td>\n",
       "      <td>On Christmas day, Donald Trump announced that ...</td>\n",
       "      <td>News</td>\n",
       "      <td>December 29, 2017</td>\n",
       "    </tr>\n",
       "    <tr>\n",
       "      <th>4</th>\n",
       "      <td>Pope Francis Just Called Out Donald Trump Dur...</td>\n",
       "      <td>Pope Francis used his annual Christmas Day mes...</td>\n",
       "      <td>News</td>\n",
       "      <td>December 25, 2017</td>\n",
       "    </tr>\n",
       "  </tbody>\n",
       "</table>\n",
       "</div>"
      ],
      "text/plain": [
       "                                               title  \\\n",
       "0   Donald Trump Sends Out Embarrassing New Year’...   \n",
       "1   Drunk Bragging Trump Staffer Started Russian ...   \n",
       "2   Sheriff David Clarke Becomes An Internet Joke...   \n",
       "3   Trump Is So Obsessed He Even Has Obama’s Name...   \n",
       "4   Pope Francis Just Called Out Donald Trump Dur...   \n",
       "\n",
       "                                                text subject  \\\n",
       "0  Donald Trump just couldn t wish all Americans ...    News   \n",
       "1  House Intelligence Committee Chairman Devin Nu...    News   \n",
       "2  On Friday, it was revealed that former Milwauk...    News   \n",
       "3  On Christmas day, Donald Trump announced that ...    News   \n",
       "4  Pope Francis used his annual Christmas Day mes...    News   \n",
       "\n",
       "                date  \n",
       "0  December 31, 2017  \n",
       "1  December 31, 2017  \n",
       "2  December 30, 2017  \n",
       "3  December 29, 2017  \n",
       "4  December 25, 2017  "
      ]
     },
     "execution_count": 3,
     "metadata": {},
     "output_type": "execute_result"
    }
   ],
   "source": [
    "fake_df.head()"
   ]
  },
  {
   "cell_type": "markdown",
   "id": "bb0ca784-81d1-4294-923f-6ae1882587d9",
   "metadata": {},
   "source": [
    "- Agregar etiquetas de clase"
   ]
  },
  {
   "cell_type": "code",
   "execution_count": 4,
   "id": "9e75ec97-b996-49ff-a7a6-7c17aaac1371",
   "metadata": {},
   "outputs": [],
   "source": [
    "fake_df['target'] = 1\n",
    "true_df['target'] = 0"
   ]
  },
  {
   "cell_type": "code",
   "execution_count": 5,
   "id": "af89b494-7e3c-486c-837e-326a9b96a3bc",
   "metadata": {},
   "outputs": [
    {
     "data": {
      "text/plain": [
       "(23481, 21417)"
      ]
     },
     "execution_count": 5,
     "metadata": {},
     "output_type": "execute_result"
    }
   ],
   "source": [
    "len(fake_df), len(true_df)"
   ]
  },
  {
   "cell_type": "code",
   "execution_count": 6,
   "id": "b55f28f4-46f3-4e92-aae0-9fc159bfea69",
   "metadata": {},
   "outputs": [
    {
     "data": {
      "text/html": [
       "<div>\n",
       "<style scoped>\n",
       "    .dataframe tbody tr th:only-of-type {\n",
       "        vertical-align: middle;\n",
       "    }\n",
       "\n",
       "    .dataframe tbody tr th {\n",
       "        vertical-align: top;\n",
       "    }\n",
       "\n",
       "    .dataframe thead th {\n",
       "        text-align: right;\n",
       "    }\n",
       "</style>\n",
       "<table border=\"1\" class=\"dataframe\">\n",
       "  <thead>\n",
       "    <tr style=\"text-align: right;\">\n",
       "      <th></th>\n",
       "      <th>title</th>\n",
       "      <th>text</th>\n",
       "      <th>subject</th>\n",
       "      <th>date</th>\n",
       "      <th>target</th>\n",
       "    </tr>\n",
       "  </thead>\n",
       "  <tbody>\n",
       "    <tr>\n",
       "      <th>23476</th>\n",
       "      <td>McPain: John McCain Furious That Iran Treated ...</td>\n",
       "      <td>21st Century Wire says As 21WIRE reported earl...</td>\n",
       "      <td>Middle-east</td>\n",
       "      <td>January 16, 2016</td>\n",
       "      <td>1</td>\n",
       "    </tr>\n",
       "    <tr>\n",
       "      <th>23477</th>\n",
       "      <td>JUSTICE? Yahoo Settles E-mail Privacy Class-ac...</td>\n",
       "      <td>21st Century Wire says It s a familiar theme. ...</td>\n",
       "      <td>Middle-east</td>\n",
       "      <td>January 16, 2016</td>\n",
       "      <td>1</td>\n",
       "    </tr>\n",
       "    <tr>\n",
       "      <th>23478</th>\n",
       "      <td>Sunnistan: US and Allied ‘Safe Zone’ Plan to T...</td>\n",
       "      <td>Patrick Henningsen  21st Century WireRemember ...</td>\n",
       "      <td>Middle-east</td>\n",
       "      <td>January 15, 2016</td>\n",
       "      <td>1</td>\n",
       "    </tr>\n",
       "    <tr>\n",
       "      <th>23479</th>\n",
       "      <td>How to Blow $700 Million: Al Jazeera America F...</td>\n",
       "      <td>21st Century Wire says Al Jazeera America will...</td>\n",
       "      <td>Middle-east</td>\n",
       "      <td>January 14, 2016</td>\n",
       "      <td>1</td>\n",
       "    </tr>\n",
       "    <tr>\n",
       "      <th>23480</th>\n",
       "      <td>10 U.S. Navy Sailors Held by Iranian Military ...</td>\n",
       "      <td>21st Century Wire says As 21WIRE predicted in ...</td>\n",
       "      <td>Middle-east</td>\n",
       "      <td>January 12, 2016</td>\n",
       "      <td>1</td>\n",
       "    </tr>\n",
       "  </tbody>\n",
       "</table>\n",
       "</div>"
      ],
      "text/plain": [
       "                                                   title  \\\n",
       "23476  McPain: John McCain Furious That Iran Treated ...   \n",
       "23477  JUSTICE? Yahoo Settles E-mail Privacy Class-ac...   \n",
       "23478  Sunnistan: US and Allied ‘Safe Zone’ Plan to T...   \n",
       "23479  How to Blow $700 Million: Al Jazeera America F...   \n",
       "23480  10 U.S. Navy Sailors Held by Iranian Military ...   \n",
       "\n",
       "                                                    text      subject  \\\n",
       "23476  21st Century Wire says As 21WIRE reported earl...  Middle-east   \n",
       "23477  21st Century Wire says It s a familiar theme. ...  Middle-east   \n",
       "23478  Patrick Henningsen  21st Century WireRemember ...  Middle-east   \n",
       "23479  21st Century Wire says Al Jazeera America will...  Middle-east   \n",
       "23480  21st Century Wire says As 21WIRE predicted in ...  Middle-east   \n",
       "\n",
       "                   date  target  \n",
       "23476  January 16, 2016       1  \n",
       "23477  January 16, 2016       1  \n",
       "23478  January 15, 2016       1  \n",
       "23479  January 14, 2016       1  \n",
       "23480  January 12, 2016       1  "
      ]
     },
     "execution_count": 6,
     "metadata": {},
     "output_type": "execute_result"
    }
   ],
   "source": [
    "fake_df.tail()"
   ]
  },
  {
   "cell_type": "markdown",
   "id": "50cecb75-3a47-4915-99c4-1c3636eadc4a",
   "metadata": {},
   "source": [
    "- Crea un df de los dos archivos"
   ]
  },
  {
   "cell_type": "code",
   "execution_count": 7,
   "id": "03b3818f-05d4-4d42-bbec-aa027bc373d3",
   "metadata": {},
   "outputs": [
    {
     "data": {
      "text/html": [
       "<div>\n",
       "<style scoped>\n",
       "    .dataframe tbody tr th:only-of-type {\n",
       "        vertical-align: middle;\n",
       "    }\n",
       "\n",
       "    .dataframe tbody tr th {\n",
       "        vertical-align: top;\n",
       "    }\n",
       "\n",
       "    .dataframe thead th {\n",
       "        text-align: right;\n",
       "    }\n",
       "</style>\n",
       "<table border=\"1\" class=\"dataframe\">\n",
       "  <thead>\n",
       "    <tr style=\"text-align: right;\">\n",
       "      <th></th>\n",
       "      <th>title</th>\n",
       "      <th>text</th>\n",
       "      <th>subject</th>\n",
       "      <th>date</th>\n",
       "      <th>target</th>\n",
       "    </tr>\n",
       "  </thead>\n",
       "  <tbody>\n",
       "    <tr>\n",
       "      <th>0</th>\n",
       "      <td>As U.S. budget fight looms, Republicans flip t...</td>\n",
       "      <td>WASHINGTON (Reuters) - The head of a conservat...</td>\n",
       "      <td>politicsNews</td>\n",
       "      <td>December 31, 2017</td>\n",
       "      <td>0</td>\n",
       "    </tr>\n",
       "    <tr>\n",
       "      <th>1</th>\n",
       "      <td>U.S. military to accept transgender recruits o...</td>\n",
       "      <td>WASHINGTON (Reuters) - Transgender people will...</td>\n",
       "      <td>politicsNews</td>\n",
       "      <td>December 29, 2017</td>\n",
       "      <td>0</td>\n",
       "    </tr>\n",
       "    <tr>\n",
       "      <th>2</th>\n",
       "      <td>Senior U.S. Republican senator: 'Let Mr. Muell...</td>\n",
       "      <td>WASHINGTON (Reuters) - The special counsel inv...</td>\n",
       "      <td>politicsNews</td>\n",
       "      <td>December 31, 2017</td>\n",
       "      <td>0</td>\n",
       "    </tr>\n",
       "    <tr>\n",
       "      <th>3</th>\n",
       "      <td>FBI Russia probe helped by Australian diplomat...</td>\n",
       "      <td>WASHINGTON (Reuters) - Trump campaign adviser ...</td>\n",
       "      <td>politicsNews</td>\n",
       "      <td>December 30, 2017</td>\n",
       "      <td>0</td>\n",
       "    </tr>\n",
       "    <tr>\n",
       "      <th>4</th>\n",
       "      <td>Trump wants Postal Service to charge 'much mor...</td>\n",
       "      <td>SEATTLE/WASHINGTON (Reuters) - President Donal...</td>\n",
       "      <td>politicsNews</td>\n",
       "      <td>December 29, 2017</td>\n",
       "      <td>0</td>\n",
       "    </tr>\n",
       "  </tbody>\n",
       "</table>\n",
       "</div>"
      ],
      "text/plain": [
       "                                               title  \\\n",
       "0  As U.S. budget fight looms, Republicans flip t...   \n",
       "1  U.S. military to accept transgender recruits o...   \n",
       "2  Senior U.S. Republican senator: 'Let Mr. Muell...   \n",
       "3  FBI Russia probe helped by Australian diplomat...   \n",
       "4  Trump wants Postal Service to charge 'much mor...   \n",
       "\n",
       "                                                text       subject  \\\n",
       "0  WASHINGTON (Reuters) - The head of a conservat...  politicsNews   \n",
       "1  WASHINGTON (Reuters) - Transgender people will...  politicsNews   \n",
       "2  WASHINGTON (Reuters) - The special counsel inv...  politicsNews   \n",
       "3  WASHINGTON (Reuters) - Trump campaign adviser ...  politicsNews   \n",
       "4  SEATTLE/WASHINGTON (Reuters) - President Donal...  politicsNews   \n",
       "\n",
       "                 date  target  \n",
       "0  December 31, 2017        0  \n",
       "1  December 29, 2017        0  \n",
       "2  December 31, 2017        0  \n",
       "3  December 30, 2017        0  \n",
       "4  December 29, 2017        0  "
      ]
     },
     "execution_count": 7,
     "metadata": {},
     "output_type": "execute_result"
    }
   ],
   "source": [
    "df = pd.concat([true_df, fake_df])\n",
    "df = df.reset_index(drop=True) # Create id to avoid nan and replicate id bug\n",
    "df.head()"
   ]
  },
  {
   "cell_type": "code",
   "execution_count": 8,
   "id": "9811ed46-8db4-4858-be7d-a5b2a8cf138d",
   "metadata": {},
   "outputs": [
    {
     "data": {
      "text/html": [
       "<div>\n",
       "<style scoped>\n",
       "    .dataframe tbody tr th:only-of-type {\n",
       "        vertical-align: middle;\n",
       "    }\n",
       "\n",
       "    .dataframe tbody tr th {\n",
       "        vertical-align: top;\n",
       "    }\n",
       "\n",
       "    .dataframe thead th {\n",
       "        text-align: right;\n",
       "    }\n",
       "</style>\n",
       "<table border=\"1\" class=\"dataframe\">\n",
       "  <thead>\n",
       "    <tr style=\"text-align: right;\">\n",
       "      <th></th>\n",
       "      <th>title</th>\n",
       "      <th>text</th>\n",
       "      <th>subject</th>\n",
       "      <th>date</th>\n",
       "      <th>target</th>\n",
       "    </tr>\n",
       "  </thead>\n",
       "  <tbody>\n",
       "    <tr>\n",
       "      <th>44893</th>\n",
       "      <td>McPain: John McCain Furious That Iran Treated ...</td>\n",
       "      <td>21st Century Wire says As 21WIRE reported earl...</td>\n",
       "      <td>Middle-east</td>\n",
       "      <td>January 16, 2016</td>\n",
       "      <td>1</td>\n",
       "    </tr>\n",
       "    <tr>\n",
       "      <th>44894</th>\n",
       "      <td>JUSTICE? Yahoo Settles E-mail Privacy Class-ac...</td>\n",
       "      <td>21st Century Wire says It s a familiar theme. ...</td>\n",
       "      <td>Middle-east</td>\n",
       "      <td>January 16, 2016</td>\n",
       "      <td>1</td>\n",
       "    </tr>\n",
       "    <tr>\n",
       "      <th>44895</th>\n",
       "      <td>Sunnistan: US and Allied ‘Safe Zone’ Plan to T...</td>\n",
       "      <td>Patrick Henningsen  21st Century WireRemember ...</td>\n",
       "      <td>Middle-east</td>\n",
       "      <td>January 15, 2016</td>\n",
       "      <td>1</td>\n",
       "    </tr>\n",
       "    <tr>\n",
       "      <th>44896</th>\n",
       "      <td>How to Blow $700 Million: Al Jazeera America F...</td>\n",
       "      <td>21st Century Wire says Al Jazeera America will...</td>\n",
       "      <td>Middle-east</td>\n",
       "      <td>January 14, 2016</td>\n",
       "      <td>1</td>\n",
       "    </tr>\n",
       "    <tr>\n",
       "      <th>44897</th>\n",
       "      <td>10 U.S. Navy Sailors Held by Iranian Military ...</td>\n",
       "      <td>21st Century Wire says As 21WIRE predicted in ...</td>\n",
       "      <td>Middle-east</td>\n",
       "      <td>January 12, 2016</td>\n",
       "      <td>1</td>\n",
       "    </tr>\n",
       "  </tbody>\n",
       "</table>\n",
       "</div>"
      ],
      "text/plain": [
       "                                                   title  \\\n",
       "44893  McPain: John McCain Furious That Iran Treated ...   \n",
       "44894  JUSTICE? Yahoo Settles E-mail Privacy Class-ac...   \n",
       "44895  Sunnistan: US and Allied ‘Safe Zone’ Plan to T...   \n",
       "44896  How to Blow $700 Million: Al Jazeera America F...   \n",
       "44897  10 U.S. Navy Sailors Held by Iranian Military ...   \n",
       "\n",
       "                                                    text      subject  \\\n",
       "44893  21st Century Wire says As 21WIRE reported earl...  Middle-east   \n",
       "44894  21st Century Wire says It s a familiar theme. ...  Middle-east   \n",
       "44895  Patrick Henningsen  21st Century WireRemember ...  Middle-east   \n",
       "44896  21st Century Wire says Al Jazeera America will...  Middle-east   \n",
       "44897  21st Century Wire says As 21WIRE predicted in ...  Middle-east   \n",
       "\n",
       "                   date  target  \n",
       "44893  January 16, 2016       1  \n",
       "44894  January 16, 2016       1  \n",
       "44895  January 15, 2016       1  \n",
       "44896  January 14, 2016       1  \n",
       "44897  January 12, 2016       1  "
      ]
     },
     "execution_count": 8,
     "metadata": {},
     "output_type": "execute_result"
    }
   ],
   "source": [
    "df.tail()"
   ]
  },
  {
   "cell_type": "markdown",
   "id": "704e62f7-ebfe-4a08-919d-21a7b01e8cdb",
   "metadata": {},
   "source": [
    "- Verifica cadenas vacias"
   ]
  },
  {
   "cell_type": "code",
   "execution_count": 9,
   "id": "616ec96f-a709-41b7-9e85-6262bac0cd74",
   "metadata": {},
   "outputs": [
    {
     "data": {
      "text/plain": [
       "0"
      ]
     },
     "execution_count": 9,
     "metadata": {},
     "output_type": "execute_result"
    }
   ],
   "source": [
    "df['text'].isna().sum()"
   ]
  },
  {
   "cell_type": "code",
   "execution_count": 10,
   "id": "d905c9c8-b1d8-4d19-8308-39876f4eebc1",
   "metadata": {},
   "outputs": [
    {
     "data": {
      "text/plain": [
       "44898"
      ]
     },
     "execution_count": 10,
     "metadata": {},
     "output_type": "execute_result"
    }
   ],
   "source": [
    "len(df)"
   ]
  },
  {
   "cell_type": "markdown",
   "id": "6caf7e1b-c993-4d9a-9b32-c6475f6b688b",
   "metadata": {},
   "source": [
    "- Elimina duplicados"
   ]
  },
  {
   "cell_type": "code",
   "execution_count": 11,
   "id": "81e6483d-e3e6-4902-aeea-f5b2c00a77a5",
   "metadata": {},
   "outputs": [
    {
     "data": {
      "text/plain": [
       "38646"
      ]
     },
     "execution_count": 11,
     "metadata": {},
     "output_type": "execute_result"
    }
   ],
   "source": [
    "df = df.drop_duplicates(subset=['text'])\n",
    "len(df)"
   ]
  },
  {
   "cell_type": "code",
   "execution_count": 12,
   "id": "a9f28371-fc90-442d-ac17-dc2749b4cb9f",
   "metadata": {},
   "outputs": [
    {
     "data": {
      "text/html": [
       "<div>\n",
       "<style scoped>\n",
       "    .dataframe tbody tr th:only-of-type {\n",
       "        vertical-align: middle;\n",
       "    }\n",
       "\n",
       "    .dataframe tbody tr th {\n",
       "        vertical-align: top;\n",
       "    }\n",
       "\n",
       "    .dataframe thead th {\n",
       "        text-align: right;\n",
       "    }\n",
       "</style>\n",
       "<table border=\"1\" class=\"dataframe\">\n",
       "  <thead>\n",
       "    <tr style=\"text-align: right;\">\n",
       "      <th></th>\n",
       "      <th>title</th>\n",
       "      <th>text</th>\n",
       "      <th>subject</th>\n",
       "      <th>date</th>\n",
       "      <th>target</th>\n",
       "    </tr>\n",
       "  </thead>\n",
       "  <tbody>\n",
       "    <tr>\n",
       "      <th>0</th>\n",
       "      <td>As U.S. budget fight looms, Republicans flip t...</td>\n",
       "      <td>WASHINGTON (Reuters) - The head of a conservat...</td>\n",
       "      <td>politicsNews</td>\n",
       "      <td>December 31, 2017</td>\n",
       "      <td>0</td>\n",
       "    </tr>\n",
       "    <tr>\n",
       "      <th>1</th>\n",
       "      <td>U.S. military to accept transgender recruits o...</td>\n",
       "      <td>WASHINGTON (Reuters) - Transgender people will...</td>\n",
       "      <td>politicsNews</td>\n",
       "      <td>December 29, 2017</td>\n",
       "      <td>0</td>\n",
       "    </tr>\n",
       "    <tr>\n",
       "      <th>2</th>\n",
       "      <td>Senior U.S. Republican senator: 'Let Mr. Muell...</td>\n",
       "      <td>WASHINGTON (Reuters) - The special counsel inv...</td>\n",
       "      <td>politicsNews</td>\n",
       "      <td>December 31, 2017</td>\n",
       "      <td>0</td>\n",
       "    </tr>\n",
       "    <tr>\n",
       "      <th>3</th>\n",
       "      <td>FBI Russia probe helped by Australian diplomat...</td>\n",
       "      <td>WASHINGTON (Reuters) - Trump campaign adviser ...</td>\n",
       "      <td>politicsNews</td>\n",
       "      <td>December 30, 2017</td>\n",
       "      <td>0</td>\n",
       "    </tr>\n",
       "    <tr>\n",
       "      <th>4</th>\n",
       "      <td>Trump wants Postal Service to charge 'much mor...</td>\n",
       "      <td>SEATTLE/WASHINGTON (Reuters) - President Donal...</td>\n",
       "      <td>politicsNews</td>\n",
       "      <td>December 29, 2017</td>\n",
       "      <td>0</td>\n",
       "    </tr>\n",
       "    <tr>\n",
       "      <th>5</th>\n",
       "      <td>White House, Congress prepare for talks on spe...</td>\n",
       "      <td>WEST PALM BEACH, Fla./WASHINGTON (Reuters) - T...</td>\n",
       "      <td>politicsNews</td>\n",
       "      <td>December 29, 2017</td>\n",
       "      <td>0</td>\n",
       "    </tr>\n",
       "    <tr>\n",
       "      <th>6</th>\n",
       "      <td>Trump says Russia probe will be fair, but time...</td>\n",
       "      <td>WEST PALM BEACH, Fla (Reuters) - President Don...</td>\n",
       "      <td>politicsNews</td>\n",
       "      <td>December 29, 2017</td>\n",
       "      <td>0</td>\n",
       "    </tr>\n",
       "    <tr>\n",
       "      <th>7</th>\n",
       "      <td>Factbox: Trump on Twitter (Dec 29) - Approval ...</td>\n",
       "      <td>The following statements were posted to the ve...</td>\n",
       "      <td>politicsNews</td>\n",
       "      <td>December 29, 2017</td>\n",
       "      <td>0</td>\n",
       "    </tr>\n",
       "    <tr>\n",
       "      <th>8</th>\n",
       "      <td>Trump on Twitter (Dec 28) - Global Warming</td>\n",
       "      <td>The following statements were posted to the ve...</td>\n",
       "      <td>politicsNews</td>\n",
       "      <td>December 29, 2017</td>\n",
       "      <td>0</td>\n",
       "    </tr>\n",
       "    <tr>\n",
       "      <th>9</th>\n",
       "      <td>Alabama official to certify Senator-elect Jone...</td>\n",
       "      <td>WASHINGTON (Reuters) - Alabama Secretary of St...</td>\n",
       "      <td>politicsNews</td>\n",
       "      <td>December 28, 2017</td>\n",
       "      <td>0</td>\n",
       "    </tr>\n",
       "  </tbody>\n",
       "</table>\n",
       "</div>"
      ],
      "text/plain": [
       "                                               title  \\\n",
       "0  As U.S. budget fight looms, Republicans flip t...   \n",
       "1  U.S. military to accept transgender recruits o...   \n",
       "2  Senior U.S. Republican senator: 'Let Mr. Muell...   \n",
       "3  FBI Russia probe helped by Australian diplomat...   \n",
       "4  Trump wants Postal Service to charge 'much mor...   \n",
       "5  White House, Congress prepare for talks on spe...   \n",
       "6  Trump says Russia probe will be fair, but time...   \n",
       "7  Factbox: Trump on Twitter (Dec 29) - Approval ...   \n",
       "8         Trump on Twitter (Dec 28) - Global Warming   \n",
       "9  Alabama official to certify Senator-elect Jone...   \n",
       "\n",
       "                                                text       subject  \\\n",
       "0  WASHINGTON (Reuters) - The head of a conservat...  politicsNews   \n",
       "1  WASHINGTON (Reuters) - Transgender people will...  politicsNews   \n",
       "2  WASHINGTON (Reuters) - The special counsel inv...  politicsNews   \n",
       "3  WASHINGTON (Reuters) - Trump campaign adviser ...  politicsNews   \n",
       "4  SEATTLE/WASHINGTON (Reuters) - President Donal...  politicsNews   \n",
       "5  WEST PALM BEACH, Fla./WASHINGTON (Reuters) - T...  politicsNews   \n",
       "6  WEST PALM BEACH, Fla (Reuters) - President Don...  politicsNews   \n",
       "7  The following statements were posted to the ve...  politicsNews   \n",
       "8  The following statements were posted to the ve...  politicsNews   \n",
       "9  WASHINGTON (Reuters) - Alabama Secretary of St...  politicsNews   \n",
       "\n",
       "                 date  target  \n",
       "0  December 31, 2017        0  \n",
       "1  December 29, 2017        0  \n",
       "2  December 31, 2017        0  \n",
       "3  December 30, 2017        0  \n",
       "4  December 29, 2017        0  \n",
       "5  December 29, 2017        0  \n",
       "6  December 29, 2017        0  \n",
       "7  December 29, 2017        0  \n",
       "8  December 29, 2017        0  \n",
       "9  December 28, 2017        0  "
      ]
     },
     "execution_count": 12,
     "metadata": {},
     "output_type": "execute_result"
    }
   ],
   "source": [
    "df.head(10)"
   ]
  },
  {
   "cell_type": "code",
   "execution_count": 13,
   "id": "23023c67-9ac0-4097-8e91-6b6f417261cb",
   "metadata": {},
   "outputs": [
    {
     "data": {
      "text/html": [
       "<div>\n",
       "<style scoped>\n",
       "    .dataframe tbody tr th:only-of-type {\n",
       "        vertical-align: middle;\n",
       "    }\n",
       "\n",
       "    .dataframe tbody tr th {\n",
       "        vertical-align: top;\n",
       "    }\n",
       "\n",
       "    .dataframe thead th {\n",
       "        text-align: right;\n",
       "    }\n",
       "</style>\n",
       "<table border=\"1\" class=\"dataframe\">\n",
       "  <thead>\n",
       "    <tr style=\"text-align: right;\">\n",
       "      <th></th>\n",
       "      <th>title</th>\n",
       "      <th>text</th>\n",
       "      <th>subject</th>\n",
       "      <th>date</th>\n",
       "      <th>target</th>\n",
       "    </tr>\n",
       "  </thead>\n",
       "  <tbody>\n",
       "    <tr>\n",
       "      <th>8970</th>\n",
       "      <td>Graphic: Supreme Court roundup</td>\n",
       "      <td></td>\n",
       "      <td>politicsNews</td>\n",
       "      <td>June 16, 2016</td>\n",
       "      <td>0</td>\n",
       "    </tr>\n",
       "    <tr>\n",
       "      <th>33661</th>\n",
       "      <td>TRUMP SLAMS THE GLOBALISTS: “There is no globa...</td>\n",
       "      <td></td>\n",
       "      <td>politics</td>\n",
       "      <td>Dec 1, 2016</td>\n",
       "      <td>1</td>\n",
       "    </tr>\n",
       "    <tr>\n",
       "      <th>35094</th>\n",
       "      <td>MUSLIM INVASION OF AMERICA In Full Swing: Obam...</td>\n",
       "      <td>(Welcome) to America We hope you enjoy our...</td>\n",
       "      <td>politics</td>\n",
       "      <td>Jun 17, 2016</td>\n",
       "      <td>1</td>\n",
       "    </tr>\n",
       "    <tr>\n",
       "      <th>32062</th>\n",
       "      <td>WOW! MAJOR CREDIT CARD COMPANY Still Sponsorin...</td>\n",
       "      <td>Delta Air Lines and Bank of America became ...</td>\n",
       "      <td>politics</td>\n",
       "      <td>Jun 12, 2017</td>\n",
       "      <td>1</td>\n",
       "    </tr>\n",
       "    <tr>\n",
       "      <th>33502</th>\n",
       "      <td>A MUST WATCH! “It’s Time To Show America Is Bi...</td>\n",
       "      <td>#PresidentElectTrumpABSOLUTELY MUST WATCHTod...</td>\n",
       "      <td>politics</td>\n",
       "      <td>Dec 21, 2016</td>\n",
       "      <td>1</td>\n",
       "    </tr>\n",
       "    <tr>\n",
       "      <th>...</th>\n",
       "      <td>...</td>\n",
       "      <td>...</td>\n",
       "      <td>...</td>\n",
       "      <td>...</td>\n",
       "      <td>...</td>\n",
       "    </tr>\n",
       "    <tr>\n",
       "      <th>33499</th>\n",
       "      <td>OHIO ELECTOR TORCHES Anti-Trump Letters He Rec...</td>\n",
       "      <td>pic.twitter.com/KMnLrwB6t1  Richard K. Jones (...</td>\n",
       "      <td>politics</td>\n",
       "      <td>Dec 21, 2016</td>\n",
       "      <td>1</td>\n",
       "    </tr>\n",
       "    <tr>\n",
       "      <th>42714</th>\n",
       "      <td>EMBARRASSING: Obama Explains How He Will ‘Rebu...</td>\n",
       "      <td>re buke r byo ok/ verb 1. express sharp disapp...</td>\n",
       "      <td>left-news</td>\n",
       "      <td>Nov 25, 2015</td>\n",
       "      <td>1</td>\n",
       "    </tr>\n",
       "    <tr>\n",
       "      <th>36178</th>\n",
       "      <td>BLACK LIVES MATTER TERRORISTS May Be Shut Down...</td>\n",
       "      <td>ter ror ist  ter r st/ noun a person who uses ...</td>\n",
       "      <td>politics</td>\n",
       "      <td>Dec 23, 2015</td>\n",
       "      <td>1</td>\n",
       "    </tr>\n",
       "    <tr>\n",
       "      <th>38658</th>\n",
       "      <td>BIG BROTHER: FEDS WANT YOUR DOCTOR TO WARN YOU...</td>\n",
       "      <td>totally out of bounds! This is so wrong and so...</td>\n",
       "      <td>Government News</td>\n",
       "      <td>Jun 26, 2015</td>\n",
       "      <td>1</td>\n",
       "    </tr>\n",
       "    <tr>\n",
       "      <th>34364</th>\n",
       "      <td>GRAPHIC RIOT VIDEOS EXPOSE THUGS ATTACKING ELD...</td>\n",
       "      <td>youngers these days are becoming so moist pic....</td>\n",
       "      <td>politics</td>\n",
       "      <td>Sep 22, 2016</td>\n",
       "      <td>1</td>\n",
       "    </tr>\n",
       "  </tbody>\n",
       "</table>\n",
       "<p>38646 rows × 5 columns</p>\n",
       "</div>"
      ],
      "text/plain": [
       "                                                   title  \\\n",
       "8970                      Graphic: Supreme Court roundup   \n",
       "33661  TRUMP SLAMS THE GLOBALISTS: “There is no globa...   \n",
       "35094  MUSLIM INVASION OF AMERICA In Full Swing: Obam...   \n",
       "32062  WOW! MAJOR CREDIT CARD COMPANY Still Sponsorin...   \n",
       "33502  A MUST WATCH! “It’s Time To Show America Is Bi...   \n",
       "...                                                  ...   \n",
       "33499  OHIO ELECTOR TORCHES Anti-Trump Letters He Rec...   \n",
       "42714  EMBARRASSING: Obama Explains How He Will ‘Rebu...   \n",
       "36178  BLACK LIVES MATTER TERRORISTS May Be Shut Down...   \n",
       "38658  BIG BROTHER: FEDS WANT YOUR DOCTOR TO WARN YOU...   \n",
       "34364  GRAPHIC RIOT VIDEOS EXPOSE THUGS ATTACKING ELD...   \n",
       "\n",
       "                                                    text          subject  \\\n",
       "8970                                                         politicsNews   \n",
       "33661                                                            politics   \n",
       "35094      (Welcome) to America We hope you enjoy our...         politics   \n",
       "32062     Delta Air Lines and Bank of America became ...         politics   \n",
       "33502    #PresidentElectTrumpABSOLUTELY MUST WATCHTod...         politics   \n",
       "...                                                  ...              ...   \n",
       "33499  pic.twitter.com/KMnLrwB6t1  Richard K. Jones (...         politics   \n",
       "42714  re buke r byo ok/ verb 1. express sharp disapp...        left-news   \n",
       "36178  ter ror ist  ter r st/ noun a person who uses ...         politics   \n",
       "38658  totally out of bounds! This is so wrong and so...  Government News   \n",
       "34364  youngers these days are becoming so moist pic....         politics   \n",
       "\n",
       "                 date  target  \n",
       "8970   June 16, 2016        0  \n",
       "33661     Dec 1, 2016       1  \n",
       "35094    Jun 17, 2016       1  \n",
       "32062    Jun 12, 2017       1  \n",
       "33502    Dec 21, 2016       1  \n",
       "...               ...     ...  \n",
       "33499    Dec 21, 2016       1  \n",
       "42714    Nov 25, 2015       1  \n",
       "36178    Dec 23, 2015       1  \n",
       "38658    Jun 26, 2015       1  \n",
       "34364    Sep 22, 2016       1  \n",
       "\n",
       "[38646 rows x 5 columns]"
      ]
     },
     "execution_count": 13,
     "metadata": {},
     "output_type": "execute_result"
    }
   ],
   "source": [
    "df.sort_values(by='text', ascending=True, inplace=False)"
   ]
  },
  {
   "cell_type": "code",
   "execution_count": 14,
   "id": "4ed9afa2-d54a-4701-8af8-3ac7721a8b2a",
   "metadata": {},
   "outputs": [
    {
     "data": {
      "text/plain": [
       "' '"
      ]
     },
     "execution_count": 14,
     "metadata": {},
     "output_type": "execute_result"
    }
   ],
   "source": [
    "df.loc[8970].text"
   ]
  },
  {
   "cell_type": "markdown",
   "id": "4a9386dd-a8d9-4ca9-a08d-11186faf7692",
   "metadata": {},
   "source": [
    "- Elimina cadenas de espacios"
   ]
  },
  {
   "cell_type": "code",
   "execution_count": 15,
   "id": "43c5e1fd-8ba8-4347-8b5c-018bf6e725d7",
   "metadata": {},
   "outputs": [
    {
     "data": {
      "text/html": [
       "<div>\n",
       "<style scoped>\n",
       "    .dataframe tbody tr th:only-of-type {\n",
       "        vertical-align: middle;\n",
       "    }\n",
       "\n",
       "    .dataframe tbody tr th {\n",
       "        vertical-align: top;\n",
       "    }\n",
       "\n",
       "    .dataframe thead th {\n",
       "        text-align: right;\n",
       "    }\n",
       "</style>\n",
       "<table border=\"1\" class=\"dataframe\">\n",
       "  <thead>\n",
       "    <tr style=\"text-align: right;\">\n",
       "      <th></th>\n",
       "      <th>title</th>\n",
       "      <th>text</th>\n",
       "      <th>subject</th>\n",
       "      <th>date</th>\n",
       "      <th>target</th>\n",
       "    </tr>\n",
       "  </thead>\n",
       "  <tbody>\n",
       "    <tr>\n",
       "      <th>0</th>\n",
       "      <td>As U.S. budget fight looms, Republicans flip t...</td>\n",
       "      <td>WASHINGTON (Reuters) - The head of a conservat...</td>\n",
       "      <td>politicsNews</td>\n",
       "      <td>December 31, 2017</td>\n",
       "      <td>0</td>\n",
       "    </tr>\n",
       "    <tr>\n",
       "      <th>1</th>\n",
       "      <td>U.S. military to accept transgender recruits o...</td>\n",
       "      <td>WASHINGTON (Reuters) - Transgender people will...</td>\n",
       "      <td>politicsNews</td>\n",
       "      <td>December 29, 2017</td>\n",
       "      <td>0</td>\n",
       "    </tr>\n",
       "    <tr>\n",
       "      <th>2</th>\n",
       "      <td>Senior U.S. Republican senator: 'Let Mr. Muell...</td>\n",
       "      <td>WASHINGTON (Reuters) - The special counsel inv...</td>\n",
       "      <td>politicsNews</td>\n",
       "      <td>December 31, 2017</td>\n",
       "      <td>0</td>\n",
       "    </tr>\n",
       "    <tr>\n",
       "      <th>3</th>\n",
       "      <td>FBI Russia probe helped by Australian diplomat...</td>\n",
       "      <td>WASHINGTON (Reuters) - Trump campaign adviser ...</td>\n",
       "      <td>politicsNews</td>\n",
       "      <td>December 30, 2017</td>\n",
       "      <td>0</td>\n",
       "    </tr>\n",
       "    <tr>\n",
       "      <th>4</th>\n",
       "      <td>Trump wants Postal Service to charge 'much mor...</td>\n",
       "      <td>SEATTLE/WASHINGTON (Reuters) - President Donal...</td>\n",
       "      <td>politicsNews</td>\n",
       "      <td>December 29, 2017</td>\n",
       "      <td>0</td>\n",
       "    </tr>\n",
       "    <tr>\n",
       "      <th>...</th>\n",
       "      <td>...</td>\n",
       "      <td>...</td>\n",
       "      <td>...</td>\n",
       "      <td>...</td>\n",
       "      <td>...</td>\n",
       "    </tr>\n",
       "    <tr>\n",
       "      <th>44115</th>\n",
       "      <td>The White House and The Theatrics of ‘Gun Cont...</td>\n",
       "      <td>21st Century Wire says All the world s a stage...</td>\n",
       "      <td>US_News</td>\n",
       "      <td>January 7, 2016</td>\n",
       "      <td>1</td>\n",
       "    </tr>\n",
       "    <tr>\n",
       "      <th>44116</th>\n",
       "      <td>Activists or Terrorists? How Media Controls an...</td>\n",
       "      <td>Randy Johnson 21st Century WireThe majority ...</td>\n",
       "      <td>US_News</td>\n",
       "      <td>January 7, 2016</td>\n",
       "      <td>1</td>\n",
       "    </tr>\n",
       "    <tr>\n",
       "      <th>44117</th>\n",
       "      <td>BOILER ROOM – No Surrender, No Retreat, Heads ...</td>\n",
       "      <td>Tune in to the Alternate Current Radio Network...</td>\n",
       "      <td>US_News</td>\n",
       "      <td>January 6, 2016</td>\n",
       "      <td>1</td>\n",
       "    </tr>\n",
       "    <tr>\n",
       "      <th>44118</th>\n",
       "      <td>Federal Showdown Looms in Oregon After BLM Abu...</td>\n",
       "      <td>21st Century Wire says A new front has just op...</td>\n",
       "      <td>US_News</td>\n",
       "      <td>January 4, 2016</td>\n",
       "      <td>1</td>\n",
       "    </tr>\n",
       "    <tr>\n",
       "      <th>44119</th>\n",
       "      <td>A Troubled King: Chicago’s Rahm Emanuel Desper...</td>\n",
       "      <td>21st Century Wire says It s not that far away....</td>\n",
       "      <td>US_News</td>\n",
       "      <td>January 2, 2016</td>\n",
       "      <td>1</td>\n",
       "    </tr>\n",
       "  </tbody>\n",
       "</table>\n",
       "<p>38644 rows × 5 columns</p>\n",
       "</div>"
      ],
      "text/plain": [
       "                                                   title  \\\n",
       "0      As U.S. budget fight looms, Republicans flip t...   \n",
       "1      U.S. military to accept transgender recruits o...   \n",
       "2      Senior U.S. Republican senator: 'Let Mr. Muell...   \n",
       "3      FBI Russia probe helped by Australian diplomat...   \n",
       "4      Trump wants Postal Service to charge 'much mor...   \n",
       "...                                                  ...   \n",
       "44115  The White House and The Theatrics of ‘Gun Cont...   \n",
       "44116  Activists or Terrorists? How Media Controls an...   \n",
       "44117  BOILER ROOM – No Surrender, No Retreat, Heads ...   \n",
       "44118  Federal Showdown Looms in Oregon After BLM Abu...   \n",
       "44119  A Troubled King: Chicago’s Rahm Emanuel Desper...   \n",
       "\n",
       "                                                    text       subject  \\\n",
       "0      WASHINGTON (Reuters) - The head of a conservat...  politicsNews   \n",
       "1      WASHINGTON (Reuters) - Transgender people will...  politicsNews   \n",
       "2      WASHINGTON (Reuters) - The special counsel inv...  politicsNews   \n",
       "3      WASHINGTON (Reuters) - Trump campaign adviser ...  politicsNews   \n",
       "4      SEATTLE/WASHINGTON (Reuters) - President Donal...  politicsNews   \n",
       "...                                                  ...           ...   \n",
       "44115  21st Century Wire says All the world s a stage...       US_News   \n",
       "44116    Randy Johnson 21st Century WireThe majority ...       US_News   \n",
       "44117  Tune in to the Alternate Current Radio Network...       US_News   \n",
       "44118  21st Century Wire says A new front has just op...       US_News   \n",
       "44119  21st Century Wire says It s not that far away....       US_News   \n",
       "\n",
       "                     date  target  \n",
       "0      December 31, 2017        0  \n",
       "1      December 29, 2017        0  \n",
       "2      December 31, 2017        0  \n",
       "3      December 30, 2017        0  \n",
       "4      December 29, 2017        0  \n",
       "...                   ...     ...  \n",
       "44115     January 7, 2016       1  \n",
       "44116     January 7, 2016       1  \n",
       "44117     January 6, 2016       1  \n",
       "44118     January 4, 2016       1  \n",
       "44119     January 2, 2016       1  \n",
       "\n",
       "[38644 rows x 5 columns]"
      ]
     },
     "execution_count": 15,
     "metadata": {},
     "output_type": "execute_result"
    }
   ],
   "source": [
    "df = df[df['text'].str.strip() != '']\n",
    "df"
   ]
  },
  {
   "cell_type": "code",
   "execution_count": 16,
   "id": "17a77ff2-5799-488c-8ee7-3ae3a32395b9",
   "metadata": {},
   "outputs": [],
   "source": [
    "df = df.reset_index(drop=True)"
   ]
  },
  {
   "cell_type": "code",
   "execution_count": 17,
   "id": "0e7f3959-32ca-49ad-abca-ef3e1fc9c080",
   "metadata": {},
   "outputs": [
    {
     "data": {
      "text/plain": [
       "38644"
      ]
     },
     "execution_count": 17,
     "metadata": {},
     "output_type": "execute_result"
    }
   ],
   "source": [
    "len(df)"
   ]
  },
  {
   "cell_type": "markdown",
   "id": "6ab0afbd-c0a7-4727-b138-e7b4ab27e384",
   "metadata": {},
   "source": [
    "- Crea nueva columna añadiendo el título al texto"
   ]
  },
  {
   "cell_type": "code",
   "execution_count": 18,
   "id": "dca02c1a-7197-43dd-b97b-71556c1a1491",
   "metadata": {},
   "outputs": [],
   "source": [
    "df['clean_text'] = df['title']+ df['text']"
   ]
  },
  {
   "cell_type": "code",
   "execution_count": 19,
   "id": "1f664158-63c6-4739-9723-052bbe65461f",
   "metadata": {},
   "outputs": [
    {
     "data": {
      "text/html": [
       "<div>\n",
       "<style scoped>\n",
       "    .dataframe tbody tr th:only-of-type {\n",
       "        vertical-align: middle;\n",
       "    }\n",
       "\n",
       "    .dataframe tbody tr th {\n",
       "        vertical-align: top;\n",
       "    }\n",
       "\n",
       "    .dataframe thead th {\n",
       "        text-align: right;\n",
       "    }\n",
       "</style>\n",
       "<table border=\"1\" class=\"dataframe\">\n",
       "  <thead>\n",
       "    <tr style=\"text-align: right;\">\n",
       "      <th></th>\n",
       "      <th>title</th>\n",
       "      <th>text</th>\n",
       "      <th>subject</th>\n",
       "      <th>date</th>\n",
       "      <th>target</th>\n",
       "      <th>clean_text</th>\n",
       "    </tr>\n",
       "  </thead>\n",
       "  <tbody>\n",
       "    <tr>\n",
       "      <th>0</th>\n",
       "      <td>As U.S. budget fight looms, Republicans flip t...</td>\n",
       "      <td>WASHINGTON (Reuters) - The head of a conservat...</td>\n",
       "      <td>politicsNews</td>\n",
       "      <td>December 31, 2017</td>\n",
       "      <td>0</td>\n",
       "      <td>As U.S. budget fight looms, Republicans flip t...</td>\n",
       "    </tr>\n",
       "    <tr>\n",
       "      <th>1</th>\n",
       "      <td>U.S. military to accept transgender recruits o...</td>\n",
       "      <td>WASHINGTON (Reuters) - Transgender people will...</td>\n",
       "      <td>politicsNews</td>\n",
       "      <td>December 29, 2017</td>\n",
       "      <td>0</td>\n",
       "      <td>U.S. military to accept transgender recruits o...</td>\n",
       "    </tr>\n",
       "    <tr>\n",
       "      <th>2</th>\n",
       "      <td>Senior U.S. Republican senator: 'Let Mr. Muell...</td>\n",
       "      <td>WASHINGTON (Reuters) - The special counsel inv...</td>\n",
       "      <td>politicsNews</td>\n",
       "      <td>December 31, 2017</td>\n",
       "      <td>0</td>\n",
       "      <td>Senior U.S. Republican senator: 'Let Mr. Muell...</td>\n",
       "    </tr>\n",
       "    <tr>\n",
       "      <th>3</th>\n",
       "      <td>FBI Russia probe helped by Australian diplomat...</td>\n",
       "      <td>WASHINGTON (Reuters) - Trump campaign adviser ...</td>\n",
       "      <td>politicsNews</td>\n",
       "      <td>December 30, 2017</td>\n",
       "      <td>0</td>\n",
       "      <td>FBI Russia probe helped by Australian diplomat...</td>\n",
       "    </tr>\n",
       "    <tr>\n",
       "      <th>4</th>\n",
       "      <td>Trump wants Postal Service to charge 'much mor...</td>\n",
       "      <td>SEATTLE/WASHINGTON (Reuters) - President Donal...</td>\n",
       "      <td>politicsNews</td>\n",
       "      <td>December 29, 2017</td>\n",
       "      <td>0</td>\n",
       "      <td>Trump wants Postal Service to charge 'much mor...</td>\n",
       "    </tr>\n",
       "    <tr>\n",
       "      <th>...</th>\n",
       "      <td>...</td>\n",
       "      <td>...</td>\n",
       "      <td>...</td>\n",
       "      <td>...</td>\n",
       "      <td>...</td>\n",
       "      <td>...</td>\n",
       "    </tr>\n",
       "    <tr>\n",
       "      <th>38639</th>\n",
       "      <td>The White House and The Theatrics of ‘Gun Cont...</td>\n",
       "      <td>21st Century Wire says All the world s a stage...</td>\n",
       "      <td>US_News</td>\n",
       "      <td>January 7, 2016</td>\n",
       "      <td>1</td>\n",
       "      <td>The White House and The Theatrics of ‘Gun Cont...</td>\n",
       "    </tr>\n",
       "    <tr>\n",
       "      <th>38640</th>\n",
       "      <td>Activists or Terrorists? How Media Controls an...</td>\n",
       "      <td>Randy Johnson 21st Century WireThe majority ...</td>\n",
       "      <td>US_News</td>\n",
       "      <td>January 7, 2016</td>\n",
       "      <td>1</td>\n",
       "      <td>Activists or Terrorists? How Media Controls an...</td>\n",
       "    </tr>\n",
       "    <tr>\n",
       "      <th>38641</th>\n",
       "      <td>BOILER ROOM – No Surrender, No Retreat, Heads ...</td>\n",
       "      <td>Tune in to the Alternate Current Radio Network...</td>\n",
       "      <td>US_News</td>\n",
       "      <td>January 6, 2016</td>\n",
       "      <td>1</td>\n",
       "      <td>BOILER ROOM – No Surrender, No Retreat, Heads ...</td>\n",
       "    </tr>\n",
       "    <tr>\n",
       "      <th>38642</th>\n",
       "      <td>Federal Showdown Looms in Oregon After BLM Abu...</td>\n",
       "      <td>21st Century Wire says A new front has just op...</td>\n",
       "      <td>US_News</td>\n",
       "      <td>January 4, 2016</td>\n",
       "      <td>1</td>\n",
       "      <td>Federal Showdown Looms in Oregon After BLM Abu...</td>\n",
       "    </tr>\n",
       "    <tr>\n",
       "      <th>38643</th>\n",
       "      <td>A Troubled King: Chicago’s Rahm Emanuel Desper...</td>\n",
       "      <td>21st Century Wire says It s not that far away....</td>\n",
       "      <td>US_News</td>\n",
       "      <td>January 2, 2016</td>\n",
       "      <td>1</td>\n",
       "      <td>A Troubled King: Chicago’s Rahm Emanuel Desper...</td>\n",
       "    </tr>\n",
       "  </tbody>\n",
       "</table>\n",
       "<p>38644 rows × 6 columns</p>\n",
       "</div>"
      ],
      "text/plain": [
       "                                                   title  \\\n",
       "0      As U.S. budget fight looms, Republicans flip t...   \n",
       "1      U.S. military to accept transgender recruits o...   \n",
       "2      Senior U.S. Republican senator: 'Let Mr. Muell...   \n",
       "3      FBI Russia probe helped by Australian diplomat...   \n",
       "4      Trump wants Postal Service to charge 'much mor...   \n",
       "...                                                  ...   \n",
       "38639  The White House and The Theatrics of ‘Gun Cont...   \n",
       "38640  Activists or Terrorists? How Media Controls an...   \n",
       "38641  BOILER ROOM – No Surrender, No Retreat, Heads ...   \n",
       "38642  Federal Showdown Looms in Oregon After BLM Abu...   \n",
       "38643  A Troubled King: Chicago’s Rahm Emanuel Desper...   \n",
       "\n",
       "                                                    text       subject  \\\n",
       "0      WASHINGTON (Reuters) - The head of a conservat...  politicsNews   \n",
       "1      WASHINGTON (Reuters) - Transgender people will...  politicsNews   \n",
       "2      WASHINGTON (Reuters) - The special counsel inv...  politicsNews   \n",
       "3      WASHINGTON (Reuters) - Trump campaign adviser ...  politicsNews   \n",
       "4      SEATTLE/WASHINGTON (Reuters) - President Donal...  politicsNews   \n",
       "...                                                  ...           ...   \n",
       "38639  21st Century Wire says All the world s a stage...       US_News   \n",
       "38640    Randy Johnson 21st Century WireThe majority ...       US_News   \n",
       "38641  Tune in to the Alternate Current Radio Network...       US_News   \n",
       "38642  21st Century Wire says A new front has just op...       US_News   \n",
       "38643  21st Century Wire says It s not that far away....       US_News   \n",
       "\n",
       "                     date  target  \\\n",
       "0      December 31, 2017        0   \n",
       "1      December 29, 2017        0   \n",
       "2      December 31, 2017        0   \n",
       "3      December 30, 2017        0   \n",
       "4      December 29, 2017        0   \n",
       "...                   ...     ...   \n",
       "38639     January 7, 2016       1   \n",
       "38640     January 7, 2016       1   \n",
       "38641     January 6, 2016       1   \n",
       "38642     January 4, 2016       1   \n",
       "38643     January 2, 2016       1   \n",
       "\n",
       "                                              clean_text  \n",
       "0      As U.S. budget fight looms, Republicans flip t...  \n",
       "1      U.S. military to accept transgender recruits o...  \n",
       "2      Senior U.S. Republican senator: 'Let Mr. Muell...  \n",
       "3      FBI Russia probe helped by Australian diplomat...  \n",
       "4      Trump wants Postal Service to charge 'much mor...  \n",
       "...                                                  ...  \n",
       "38639  The White House and The Theatrics of ‘Gun Cont...  \n",
       "38640  Activists or Terrorists? How Media Controls an...  \n",
       "38641  BOILER ROOM – No Surrender, No Retreat, Heads ...  \n",
       "38642  Federal Showdown Looms in Oregon After BLM Abu...  \n",
       "38643  A Troubled King: Chicago’s Rahm Emanuel Desper...  \n",
       "\n",
       "[38644 rows x 6 columns]"
      ]
     },
     "execution_count": 19,
     "metadata": {},
     "output_type": "execute_result"
    }
   ],
   "source": [
    "df"
   ]
  },
  {
   "cell_type": "markdown",
   "id": "3eb4b12e-9ea6-492f-906c-e2a205ca0061",
   "metadata": {},
   "source": [
    "- Elimina puntuación y convierte a minúsculas\n",
    "- Se utiliza el método __str.translate()__ para eliminar todos los caracteres de puntuación mediante una tabla de traducción creada con el método __str.maketrans__. La constante string.punctuation contiene todos los caracteres de puntuación ASCII, que se eliminan de los valores en la columna"
   ]
  },
  {
   "cell_type": "code",
   "execution_count": 20,
   "id": "16ff03a8-76aa-4786-a794-e6744a45bc47",
   "metadata": {},
   "outputs": [],
   "source": [
    "import string"
   ]
  },
  {
   "cell_type": "code",
   "execution_count": 21,
   "id": "6a5aa290-98ec-4e71-a4e4-69efc463f8ec",
   "metadata": {},
   "outputs": [
    {
     "data": {
      "text/html": [
       "<div>\n",
       "<style scoped>\n",
       "    .dataframe tbody tr th:only-of-type {\n",
       "        vertical-align: middle;\n",
       "    }\n",
       "\n",
       "    .dataframe tbody tr th {\n",
       "        vertical-align: top;\n",
       "    }\n",
       "\n",
       "    .dataframe thead th {\n",
       "        text-align: right;\n",
       "    }\n",
       "</style>\n",
       "<table border=\"1\" class=\"dataframe\">\n",
       "  <thead>\n",
       "    <tr style=\"text-align: right;\">\n",
       "      <th></th>\n",
       "      <th>title</th>\n",
       "      <th>text</th>\n",
       "      <th>subject</th>\n",
       "      <th>date</th>\n",
       "      <th>target</th>\n",
       "      <th>clean_text</th>\n",
       "    </tr>\n",
       "  </thead>\n",
       "  <tbody>\n",
       "    <tr>\n",
       "      <th>0</th>\n",
       "      <td>As U.S. budget fight looms, Republicans flip t...</td>\n",
       "      <td>WASHINGTON (Reuters) - The head of a conservat...</td>\n",
       "      <td>politicsNews</td>\n",
       "      <td>December 31, 2017</td>\n",
       "      <td>0</td>\n",
       "      <td>as us budget fight looms republicans flip thei...</td>\n",
       "    </tr>\n",
       "    <tr>\n",
       "      <th>1</th>\n",
       "      <td>U.S. military to accept transgender recruits o...</td>\n",
       "      <td>WASHINGTON (Reuters) - Transgender people will...</td>\n",
       "      <td>politicsNews</td>\n",
       "      <td>December 29, 2017</td>\n",
       "      <td>0</td>\n",
       "      <td>us military to accept transgender recruits on ...</td>\n",
       "    </tr>\n",
       "    <tr>\n",
       "      <th>2</th>\n",
       "      <td>Senior U.S. Republican senator: 'Let Mr. Muell...</td>\n",
       "      <td>WASHINGTON (Reuters) - The special counsel inv...</td>\n",
       "      <td>politicsNews</td>\n",
       "      <td>December 31, 2017</td>\n",
       "      <td>0</td>\n",
       "      <td>senior us republican senator let mr mueller do...</td>\n",
       "    </tr>\n",
       "    <tr>\n",
       "      <th>3</th>\n",
       "      <td>FBI Russia probe helped by Australian diplomat...</td>\n",
       "      <td>WASHINGTON (Reuters) - Trump campaign adviser ...</td>\n",
       "      <td>politicsNews</td>\n",
       "      <td>December 30, 2017</td>\n",
       "      <td>0</td>\n",
       "      <td>fbi russia probe helped by australian diplomat...</td>\n",
       "    </tr>\n",
       "    <tr>\n",
       "      <th>4</th>\n",
       "      <td>Trump wants Postal Service to charge 'much mor...</td>\n",
       "      <td>SEATTLE/WASHINGTON (Reuters) - President Donal...</td>\n",
       "      <td>politicsNews</td>\n",
       "      <td>December 29, 2017</td>\n",
       "      <td>0</td>\n",
       "      <td>trump wants postal service to charge much more...</td>\n",
       "    </tr>\n",
       "  </tbody>\n",
       "</table>\n",
       "</div>"
      ],
      "text/plain": [
       "                                               title  \\\n",
       "0  As U.S. budget fight looms, Republicans flip t...   \n",
       "1  U.S. military to accept transgender recruits o...   \n",
       "2  Senior U.S. Republican senator: 'Let Mr. Muell...   \n",
       "3  FBI Russia probe helped by Australian diplomat...   \n",
       "4  Trump wants Postal Service to charge 'much mor...   \n",
       "\n",
       "                                                text       subject  \\\n",
       "0  WASHINGTON (Reuters) - The head of a conservat...  politicsNews   \n",
       "1  WASHINGTON (Reuters) - Transgender people will...  politicsNews   \n",
       "2  WASHINGTON (Reuters) - The special counsel inv...  politicsNews   \n",
       "3  WASHINGTON (Reuters) - Trump campaign adviser ...  politicsNews   \n",
       "4  SEATTLE/WASHINGTON (Reuters) - President Donal...  politicsNews   \n",
       "\n",
       "                 date  target  \\\n",
       "0  December 31, 2017        0   \n",
       "1  December 29, 2017        0   \n",
       "2  December 31, 2017        0   \n",
       "3  December 30, 2017        0   \n",
       "4  December 29, 2017        0   \n",
       "\n",
       "                                          clean_text  \n",
       "0  as us budget fight looms republicans flip thei...  \n",
       "1  us military to accept transgender recruits on ...  \n",
       "2  senior us republican senator let mr mueller do...  \n",
       "3  fbi russia probe helped by australian diplomat...  \n",
       "4  trump wants postal service to charge much more...  "
      ]
     },
     "execution_count": 21,
     "metadata": {},
     "output_type": "execute_result"
    }
   ],
   "source": [
    "df['clean_text'] = df['clean_text'].str.lower().str.translate(str.maketrans('', '', string.punctuation))\n",
    "df.head()"
   ]
  },
  {
   "cell_type": "markdown",
   "id": "a651ba97-16f3-47fd-9798-5353586f346d",
   "metadata": {},
   "source": [
    "## 2.- Pipeline"
   ]
  },
  {
   "cell_type": "code",
   "execution_count": 22,
   "id": "5b021552-fe16-4ce9-b3f4-7ec478c81ec2",
   "metadata": {},
   "outputs": [
    {
     "data": {
      "text/plain": [
       "target\n",
       "0    21191\n",
       "1    17453\n",
       "Name: count, dtype: int64"
      ]
     },
     "execution_count": 22,
     "metadata": {},
     "output_type": "execute_result"
    }
   ],
   "source": [
    "df['target'].value_counts()"
   ]
  },
  {
   "cell_type": "code",
   "execution_count": 23,
   "id": "a0182532-66f2-4482-9630-bda5d1470d76",
   "metadata": {},
   "outputs": [],
   "source": [
    "import os\n",
    "os.environ['TF_CPP_MIN_LOG_LEVEL'] = '3' # Disable tensorflow debugging logs\n",
    "import tensorflow as tf\n",
    "from tensorflow.keras.layers import TextVectorization\n",
    "from tensorflow.keras import Sequential\n",
    "from tensorflow.keras import layers \n",
    "import re\n",
    "from sklearn.model_selection import train_test_split\n",
    "\n",
    "X = df['clean_text'].values\n",
    "y = df['target'].values\n",
    "\n",
    "X_train, X_test, y_train, y_test = train_test_split(X, y, test_size = 0.25, random_state = 123)"
   ]
  },
  {
   "cell_type": "code",
   "execution_count": 24,
   "id": "f8896562-dd30-431b-a7a1-55d084586352",
   "metadata": {
    "tags": []
   },
   "outputs": [
    {
     "data": {
      "text/plain": [
       "(28983, 9661)"
      ]
     },
     "execution_count": 24,
     "metadata": {},
     "output_type": "execute_result"
    }
   ],
   "source": [
    "len(X_train), len(X_test)"
   ]
  },
  {
   "cell_type": "code",
   "execution_count": 25,
   "id": "36d1a088-4c8c-4851-b53f-07e3432c3870",
   "metadata": {
    "scrolled": true,
    "tags": []
   },
   "outputs": [
    {
     "name": "stdout",
     "output_type": "stream",
     "text": [
      "(<tf.Tensor: shape=(), dtype=string, numpy=b'boom republican wins montana election after \\xe2\\x80\\x9cbodyslamming\\xe2\\x80\\x9d reporter \\xe2\\x80\\x98i\\xe2\\x80\\x99m sick and tired of this\\xe2\\x80\\x99this is just too rich the democrats threw tons of money into this race and then the republican candidate  bodyslammed  an obnoxious reporter it seemed like the dems really couldn t lose this one bernie s socialist candidate would win in montana the democrats were sure they could run leftists and win in red states not so fastrepublican businessman greg gianforte won montana s sole house district in a special election thursday keeping a seat in republican hands despite facing assault charges for allegedly attacking a reporter who d asked him about the gop s healthcare billthe best ever quote from the  bodyslamming  incident is when gianforte spoke for all americans  i m sick and tired of this after he won he commented on the incident in his victory speech i shouldn t have treated that reporter that way  he told supporters at his rally hereplease check out gianforte s twitter page it s full of great photos of things he s done he makes his own sausage and even gave his wife a sausage maker for christmas he posts photos of his wild game dinners that look amazing this guy is a blast'>, <tf.Tensor: shape=(), dtype=int64, numpy=1>)\n"
     ]
    }
   ],
   "source": [
    "raw_train_ds = tf.data.Dataset.from_tensor_slices((X_train, y_train))\n",
    "raw_val_ds = tf.data.Dataset.from_tensor_slices((X_test, y_test))\n",
    "for text in raw_train_ds.take(1):\n",
    "    print(text)"
   ]
  },
  {
   "cell_type": "code",
   "execution_count": 26,
   "id": "52401e10-ade1-4f2a-9de7-036b7ee85556",
   "metadata": {},
   "outputs": [],
   "source": [
    "# Tamaño de vocabulario\n",
    "vocab_size = 10000\n",
    "\n",
    "vectorize_layer = TextVectorization(\n",
    "    standardize=None,\n",
    "    max_tokens=vocab_size,\n",
    "    output_mode='tf-idf')\n",
    "\n",
    "# Obtener el texto sin etiquetas\n",
    "text_ds = raw_train_ds.map(lambda x, y: x)\n",
    "vectorize_layer.adapt(text_ds)"
   ]
  },
  {
   "cell_type": "code",
   "execution_count": 27,
   "id": "862068ba-6861-441c-9ee2-dcd71a818bb1",
   "metadata": {
    "tags": []
   },
   "outputs": [],
   "source": [
    "batch_size = 16\n",
    "raw_train_ds = raw_train_ds.shuffle(20000).batch(batch_size)\n",
    "raw_val_ds = raw_val_ds.batch(batch_size)"
   ]
  },
  {
   "cell_type": "code",
   "execution_count": 28,
   "id": "1fc023a2-3151-4426-93e0-86c4da4b201a",
   "metadata": {
    "scrolled": true,
    "tags": []
   },
   "outputs": [
    {
     "name": "stdout",
     "output_type": "stream",
     "text": [
      "tf.Tensor(\n",
      "[b' the pope just took major step in abortion rights conservatives lividwhile the united states and a few european countries seem to be taking a major righthand political turn pope francis made a stunning announcement in an apostolic letter on monday that is setting conservatives on fire while he s far short of allowing full reproductive rights among catholics he s decreed that women who ve had abortions don t have to go to hellin the letter pope francis granted a special dispensation to priests and bishops that would allow them to absolve the sins of abortionwhile this dispensation might have thousands if not more catholic women breathing sighs of relief the church isn t inviting abortion in fact the pope specifically wrote  i wish to restate as firmly as i can that abortion is a grave sin since it puts an end to an innocent life however in perhaps the church s first acknowledgement that women are people and not just birthing vessels pope francis also said in the same way however i can and must state that there is no sin that god s mercy cannot reach and wipe away when it finds a repentant heart seeking to be reconciled with the father  the letter continues  may every priest therefore be a guide support and comfort to penitents on this journey of special reconciliation i henceforth grant to all priests in virtue of their ministry the faculty to absolve those who have committed the sin of procured abortion this move is incremental in 1983 pope john paul allowed bishops to lift excommunications to women who ve had abortions some bishops allowed priests to do the same but this will be the first time that women around the world will be able to approach their priests hoping they ll be granted forgiveness with an actual chance of getting itstill conservatives want none of itfoxnews there has always been forgiveness it doesn t make the sin of killing ones own child less atrocious they she be shunned from society  godblessamerica  brianknewhouse november 21 2016tmchand foxnews if you followed his sacred heart you would know better may his spirit give you understanding and wisdom  pictwittercom39rs3um2oj  godblessamerica  brianknewhouse november 21 2016foxnews absolvement of murder oh christianity how far you have fallen  thevortexfxt thevortexfxt november 21 2016drudgereport and people thought we were kidding when we said this pope is not a catholic but a communist in sheeps clothing  brad bradd80 november 21 2016drudgereport eugenics and the new world order has more power over this so called pope than god only god can forgive  prepperagenda prepperagenda november 21 2016drudgereport this shit head is worse than a borgia pope  comrade strontium mrstrontium november 21 2016drudgereport  oh you killed a baby that s ok say 10 hail marys rub these beads and you ll be just fine    pontifex  bobby lee bobbyleetn november 21 2016drudgereport once again an activist pope trying to undermine the catholic church with progressive liberal socialist ideas he is wrong  hosscart rjnuff november 21 2016even with this declaration the catholic church is still in another century when it comes to a woman s right to choose but as conservatives  reactions are showing this declaration puts the church miles ahead of the american republican partyfeatured image via franco origliagetty images'\n",
      " b' watch obama just embarrassed the nra by ripping apart every single progun mythfor the first four years of barack obama s presidency i chided him for being too nice to the stupid part of america as they spread ridiculous conspiracy theories about him   that he s really from kenya that he once worked as a  gay prostitute  to support his cocaine habit that he s secretly a shapeshifting lizard person and yes that he is coming for every single gun any day now   the president opted to sit back and absorb the attacks as he focused on more important issues eventually it seems he realized that as long as he entertained such monumentally stupid notions without taking a few minutes of his time to obliterate them those who spend their lives spewing such nonsense will not give him the opportunity to focus on what is actually importantlately the claws have come out the president is no longer willing to simply accept the lies spread by the nra fox news republican politicians and other rightwing groups without stepping in to correct the record gun shop owner doug rhude is a product of the misinformation throws around by the right during a qa session following pbs news hour we were treated to the perfect example of what happens when misinformation lies and bigotry are allowed to bounce around a bubble for the better part of a decadeknowing that we apply common sense to other issues in our society specifically like holding irresponsible people accountable for their actions when they drink and drive and kill somebody and we do that without restricting control of cars and cells phones to the rest of us the good guys why then do you and hillary want to control and restrict and limit gun manufacturers gun owners and responsible use of guns and ammunition to the rest of us the good guys instead of holding the bad guys accountable for their actionsas is customary rhude used chicago as his goto example of something demanding to know why  thugs  the goto conservative replacement word for  nggers  in the city are hellbent on murdering each other after taking a moment to process the almost offthescale stupidity contained in rhude s statementquestion obama politely yet brutally hit him with a massive truth bombfirst of all the notion that i or hillary or democrats or whoever you want to choose are hellbent on taking away folks  guns is just not trueand i don t care how many times the nra says it i m about to leave office there have been more guns sold since i have been president than just about any time in us history there are enough guns for every man woman and child in this countryand at no point have i ever ever proposed confiscating guns from responsible gun owners so it s just not true what i have said is precisely what you suggested which is why don t we treat this like every other thing that we use  obama continued pointing to another favorite rightwing goto topic auto fatality rates previously conservatives were able to mindlessly point out that  more people are killed by cars  than guns unfortunately for them and fortunately for the rest of us regulations and laws have decreased the automobile fatality rate to beneath the level of gun violence the auto fatality rate has actually dropped precipitously drastically since i was a kid  obama said asking rhetorically what is the cause of that the president informed rhude that   thanks to numerous regulations lots of studies and a strong and continuing effort    we have been able to reduce the number of people who die in cars no one took everyone s cars away   we simply arrived at the common sense decision to actually deal with the problem we are not allowed  to do any of that when it comes to guns because if you propose anything it is suggested that we re trying to take away gun rights and impose martial law  obama pointed out adding that we can t so much as study gun violence because republicans in congress have actually passed laws preventing this public health issue from being researched the notion is that by studying it the same way we do with traffic accidents somehow it s going to lead to everyone s guns being confiscated  obama pointed out i just came from a meeting today in the situation room in which i got people who we know have been on isil web sites living here in the united states us citizens and we re allowed to put them on the nofly list when it comes to airlines but because of the national rifle association i cannot prohibit those people from buying a gun  the president told rhude  this is somebody who is a known isil sympathizer and if he wants to walk in to a gun store or a gun show right now and buy as much   as many weapons and ammo as he can nothing s prohibiting him from doing that even though the fbi knows who that person is then he dropped the hammerso sir i just have to say respectfully that there is a way for us to have commonsense gun laws there is a way for us to make sure that lawful responsible gun owners like yourself are able to use them for sporting hunting protecting yourself but the only way we re going to do that is if we don t have a situation in which anything that is proposed is viewed as some tyrannical destruction of the second amendment and that s how the issue too often gets framedwhile it is unlikely that rhude or any other rightwingers who heard the president s words learned a single thing one thing is for certain it s nice to see barack obama standing up for himselfwatch it yourself below featured image via video screen captures'\n",
      " b'trump picks former us senator coats as director of national intelligencewashington reuters  presidentelect donald trump on thursday picked former us senator dan coats as his director of national intelligence two senior transition officials said as he puts his stamp on a us intelligence community that he frequently criticizes the official announcement was expected this week as trump makes decisions on some of the remaining major positions he must fill as he prepares to take over the white house on jan 20 coats 73 is a traditional conservative from indiana who just finished a sixyear term in the us senate he was also  us ambassador to germany for republican president george w bush  coats \\xe2\\x80\\x9cwould be an excellent choice\\xe2\\x80\\x9d senate intelligence chairman richard burr a north carolina republican told reporters \\xe2\\x80\\x9cbecause dan\\xe2\\x80\\x99s got the experience he\\xe2\\x80\\x99s got the leadership skills having been an ambassador and i think his time on the committee has served him to understand what that role entails\\xe2\\x80\\x9d one democratic official familiar with coats\\xe2\\x80\\x99 background and views described him as a \\xe2\\x80\\x9cvery reasonable guy\\xe2\\x80\\x9d another us official familiar with intelligence matters said he was \\xe2\\x80\\x9cvery well respected on both sides of the aisle\\xe2\\x80\\x9d a source close to the transition said trump had also considered new jersey governor chris christie for the job but that christie had chosen not to take it trump has repeatedly expressed doubts about the us intelligence community\\xe2\\x80\\x99s assessment that russia had a hand in hacking during the presidential campaign the democratic official said coats knew a lot about europe and russia and might \\xe2\\x80\\x9cbutt heads with trump over russia\\xe2\\x80\\x9d the presidentelect was to get a briefing about the intelligence community\\xe2\\x80\\x99s findings on the topic from senior us officials on friday at trump tower in new york some us intelligence officials on thursday welcomed coats\\xe2\\x80\\x99 selection saying they hoped his appointment was a sign that trump was seeking to mend fences with the intelligence community after months of enmity over its assessment that russia tried to influence the 2016 election through hacking one official speaking on condition of anonymity to discuss a domestic political issue said he hoped that if confirmed by the senate coats could negotiate what he called \\xe2\\x80\\x9ca truce\\xe2\\x80\\x9d between the intelligence community and trump\\xe2\\x80\\x99s choice for national security adviser retired army lieutenant general mike flynn who was fired as defense intelligence agency director by the current director of national intelligence james clapper coats has been a vigorous defender of government surveillance programs having voted against congressional reforms to the national security agency\\xe2\\x80\\x99s bulk collection of us call records in 2015 while on the senate intelligence committee coats also joined other republican members in 2014 in approving a minority report that defended the cia\\xe2\\x80\\x99s use of harsh interrogation methods against detainees in secret foreign prisons saying the program \\xe2\\x80\\x9csaved lives and played a vital role in weakening al qaida\\xe2\\x80\\x9d the conclusion contrasted with the majority report that found the program failed to produce significant intelligence and that the cia misled the bush administration congress and the american public about the use of socalled enhanced interrogation techniques the techniques included waterboarding which simulates drowning and was condemned as torture by president barack obama other senior officials and lawmakers and human rights experts    trump was also nearing decisions on two other cabinet positions agriculture secretary and secretary of veterans affairs with announcements expected soon the source close to the transition said the leading candidate to lead the us department of agriculture was former georgia governor sonny perdue although one source said idaho governor butch otter was also in the mix for veterans affairs trump met on tuesday with leo mackay jr a former deputy secretary for veterans affairs and a senior vice president of lockheed martin corp lmtn about the cabinet post '\n",
      " b'the list of 34 house republicans demanding permanent amnesty for obama\\xe2\\x80\\x99s daca \\xe2\\x80\\x9ckids\\xe2\\x80\\x9dwho wants to deport  dreamers  not many people it turns out even veteran immigration restrictionists seem willing to legalize this subset of immigrants in the country illegally if it is part of a package deal that s true even though a lot of what s said about the daca recipients is prstyle hooeyfor example it s often said   indeed former president barack obama just recently said   that the approximately 800000 of them were  brought to this country by their parents  well many were but that s not required to qualify as a protected deferred action for childhood arrivals program recipient under the various plans including obama s you just have to have entered the country illegally before age 16 you could have decided to sneak in against your parents  wishes you re still a  dreamer likewise we re told daca recipients are collegebound high school grads or military personnel that s an exaggeration all that s actually required is that the person enroll in a high school course or an  alternative  including online courses and englishasasecondlanguage classes under obama s nowsuspended program you didn t even have to stay enrolledcompared with the general population daca recipients are not especially highly skilled a recent survey for several pro dreamer  groups with participants recruited by those groups found that while most daca recipients are not in school the vast majority work but their median hourly wage is only 1534 meaning that many are competing with hardpressed lowerskilled americansthe daca recipients you read about have typically been carefully selected for their appeal they re valedictorians they re first responders they re curing diseases they root for the yankees they want to serve in the army if daca recipients are the poster children for the much larger population of immigrants in the country illegally these are the poster children for the poster children  chicago tribune34 republicans in congress are not about to let the pesky facts about obama s  dreamers  get in the way of lobbying speaker ryan to grant them permanent citizenshipnumbers usa reports  thirtyfour republicans in the house of representatives signed a letter to house speaker paul ryan calling for passage of a permanent daca amnesty before the end of the year reps scott taylor rva and dan newhouse rwash led the effortwhile the lawmakers stop short of demanding passage of a daca amnesty before the end of the year or including an amnesty in this month s mustpass spending bill they don t insist on any other immigrationrelated provisions that would stop future flows of illegal immigration by calling for mandatory everify or to reduce the numerical impact of the amnesty by calling for an end to chain migrationthe letter readsdear speaker ryanwe write in support of passing of a permanent legislative solution for deferred action for childhood arrivals daca recipients before the end of the year daca recipients   young people brought to america through no fault of their own   are contributing members of our communities and our economy for many this is the only country they have ever known they are american in every way except their immigration statussince daca s inception the federal government has approved approximately 795000 initial daca applications and 924000 renewals since being approved for daca status an overwhelming majority of these individuals have enrolled in school found employment or have served in the military studies have shown that passing legislation to permanently protect these individuals would add hundreds of billions to our country s gross domestic product gdp that is why the business community universities and civic leaders alike support a permanent legislative solutionwe agree with president trump that executive action was not the appropriate process for solving this issue as was done under the previous administration and we believe congress should act we are compelled to act immediately because many daca recipients are about to lose or have already lost their permits in the wake of the program s rescission not acting is creating understandable uncertainty and anxiety amongst immigrant communitieswhile we firmly believe congress must work to address other issues within our broken immigration system it is imperative that republicans and democrats come together to solve this problem now and not wait until next year we all agree that our border must be enforced our national security defended and our broken immigration system reformed but in this moment we must address the urgent matter before us in a balanced approach that does not harm valuable sectors of our economy nor the lives of these hardworking young people we must pass legislation that protects daca recipients from deportation and gives them the opportunity to apply for a more secured status in our country as soon as possible reaching across the aisle to protect daca recipients before the holidays is the right thing to dohere s the list of 34 republicans who need to be drained from the swamprep scott taylor va2 rep dan newhouse wa4 rep mia love ut4 rep mark amodei nv2 rep david valadao ca21 rep dave reichert wa8 rep brian fitzpatrick pa8 rep mike coffman co6 rep charles dent pa15 rep frank lobiando nj2 rep peter king ny2 rep carlos curbelo fl26 rep illeana roslehtinen fl27 rep ryan costello pa6 rep fred upton mi6 rep jeff denham ca10 rep rodney davis il13 rep john faso ny19 rep john katko ny24 rep chris stewart ut2 rep susan brooks in5 rep adam kinzinger il16 rep glenn t thompson pa5 rep mike simpson id2 rep mimi walters ca45 rep leonard lance nj7 rep pat meehan pa7 rep elise stefanik ny21 rep tom mcarthur nj3 rep chris smith nj4 rep jenniffer gonzalescolon pr rep joe barton tx6 rep will hurd tx23 rep bruce poloquin me2numbers usa does an amazing job of exposing the truth about illegal immigration and what it really costs the american taxpayer nearly all funding for numbersusa action comes from individuals giving 10 25 and 100 donations over the internet  if you can afford to make even a small donation it will help them to continue to help americans change immigration policies you can donate to numbers usa here'\n",
      " b'new house labor committee chair questions need for unionsreuters  the incoming chair of the congressional panel that oversees labor issues on monday questioned the need for unions and said she wants to repeal various obama administration labor policies organized labor has \\xe2\\x80\\x9csort of lost its reason for being\\xe2\\x80\\x9d because of the many laws in place to protect workers said representative virginia foxx a 73yearold republican from north carolina who will become chair of the us house of representatives committee on education and the workforce in january in a telephone interview with reuters  labor unions have already been wary about how they will fare under the incoming administration of presidentelect donald trump with republicans poised to control the presidency and both chambers of congress aflcio spokesman eric hauser pushed back against foxx\\xe2\\x80\\x99s comments saying that a thriving labor movement and strong union presence has never been more important in light of the economic tumult in the united states foxx who was first elected to the house in 2004 said one of her committee\\xe2\\x80\\x99s top priorities will be to roll back a slew of obama administration labor initiatives at the top of her agenda is the us labor department rule that would extend mandatory overtime pay to more than 4 million workers a federal judge in texas blocked the rule last month before it took effect but the labor department has challenged that ruling in a federal appeals court among other targets that foxx cited for repeal are the national labor relations board\\xe2\\x80\\x99s revised standard for \\xe2\\x80\\x9cjoint employment\\xe2\\x80\\x9d that could make it easier for unions and regulators to hold companies accountable for the employment practices of staffing agencies contractors and franchisees with which they partner that issue has been most prominently in play in a case involving mcdonald\\xe2\\x80\\x99s corp over whether it as well as its franchisees can be held liable in complaints about the violation of employee rights foxx said she expects strong opposition from democrats \\xe2\\x80\\x9ci think that they will bring up their tired arguments about how we are destroying the world by doing the things that we\\xe2\\x80\\x99re doing but frankly i think this last election shows that the american people aren\\xe2\\x80\\x99t buying those arguments anymore\\xe2\\x80\\x9d foxx said representatives for the democratic leadership on the house committee on education and the workforce were not immediately available for comment '\n",
      " b' concerned adult literally pays young black kids to play inside so cops don\\xe2\\x80\\x99t shoot them videoan unknown man saw some children playing on the side of a street with toy guns this normally would be no big deal it happens all across the nation more times than can be counted every day however in this case the kids and the person talking to them were people of color that really does change everythingthe man approached the kids and pleaded with them to get off the streets and take their toy guns indoors to play with them he was so concerned that he even offered them money to do it the reason he was so worried is because he was afraid that the police would come by and shoot them the man didn t seem to be trying to frighten the children but when they heard what could happen the look on their faces said it allwatch the look on the kids  faces when they hear what could happen to them below  cdata   cdata functiond s id   var js fjs  dgetelementsbytagnames0  if dgetelementbyidid return  js  dcreateelements jsid  id  jssrc  connectfacebooknetenussdkjsxfbml1038versionv23  fjsparentnodeinsertbeforejs fjsdocument script facebookjssdk  gtman pays kids to play with toy guns insidethis is heartbreakingposted by the peak on wednesday january 13 2016what kind of statement does that make about our society these are two kids who have no malicious intent and were not doing anything wrong and they could have ended up dead due to aggressive police white kids run around with toy guns constantly in america yes it is possible that a cop might arrest or shoot a white kid with a toy gun but we know that a cop will arrest or shoot a black kid with a toy gun tamir rice is a perfect example of the  kill first ask questions later  attitude that police have adopted towards people of color tamir was only 12 years old but police shot him dead in under 5 seconds of arriving on the scene where he was playing with a toy gun they didn t even pause to evaluate the situation it is so bad that just walking down the street is enough to be shot 16 times if you are not white in the case of laquan mcdonaldit s great if this adult s intervention helped these kids on this day to keep them safe but this is not the state in which we should make them have to live instead of them being required to lives in a way to be more compatible with raging predator cops how about we force our police to remember what protect and serve actually meansfeatured image via video screen capture'\n",
      " b'severe criminal justice policies hurt us economy white housewashington reuters  longer prison sentences for nonviolent criminals and crowded prisons are hurting the american economy more than they are helping it economists in us president barack obama\\xe2\\x80\\x99s administration said in a report released on saturday the prison population in the united states is 45 times larger than it was in 1980 primarily driven by longer sentences and higher conviction rates for nearly all offenses according to the council\\xe2\\x80\\x99s report economists are \\xe2\\x80\\x9cof one mind\\xe2\\x80\\x9d that packed prisons excessively long sentences and insufficient reentry programs \\xe2\\x80\\x9care counterproductive to our economy as a whole in addition to hurting the people involved\\xe2\\x80\\x9d jason furman chairman of the white house council of economic advisers told reporters in a call on friday on monday administration officials economists business leaders and scholars will discuss the council\\xe2\\x80\\x99s findings at an event hosted by the white house the american enterprise institute think tank and new york university\\xe2\\x80\\x99s brennan center for justice the united states can reap greater economic benefit through investments in police prisoner education and job opportunities for exprisoners than it can from putting additional funding toward prisons the council\\xe2\\x80\\x99s report said the council\\xe2\\x80\\x99s report was based on a review of existing economics research and does not estimate the indirect costs borne by the us economy as a result of its current criminal justice policies  later this year the brennan center will unveil a study quantifying how much the us criminal justice system costs americans in terms of employment wages and gross domestic product said the center\\xe2\\x80\\x99s director of justice programs inimai chettiar  previous administrations have not brought the same focus to how criminal justice policies affect the us workforce said douglas holtzeakin who led the congressional budget office from 200305 and is now president of the american action forum think tank since the recession of the late 2000s \\xe2\\x80\\x9cevery aspect of the workforce has been scrutinized more closely and this sort of popped out\\xe2\\x80\\x9d he told reuters  '\n",
      " b'trump team weighs infrastructure bank to fund projects trump advisernew york reuters  us presidentelect donald trump\\xe2\\x80\\x99s transition team is weighing an \\xe2\\x80\\x9cinfrastructure bank\\xe2\\x80\\x9d to make investments in the nation\\xe2\\x80\\x99s infrastructure trump adviser steven mnuchin told reporters on wednesday mnuchin a wall street veteran under consideration for trump\\xe2\\x80\\x99s treasury secretary said the team was focused on  \\xe2\\x80\\x9ctaxes regulatory changes looking at the creation of an infrastructure bank to fund infrastructure investments\\xe2\\x80\\x9d  \\xe2\\x80\\x9ci\\xe2\\x80\\x99d say the economic priorities are clearly taxes regulatory trade infrastructure\\xe2\\x80\\x9d he added '\n",
      " b'cambodias hun sen warns his party it could still lose electionphnom penh reuters  cambodian prime minister hun sen has warned his party it could still lose next year s election even after the banning of the opposition and demanded that it improve its image according to a recording leaked online on thursday hun sen s cambodian people s party cpp played down the importance of the message in which hun sen tells senior officials they must stop corruption extortion and other illegal practices and start making people happy the opposition cambodia national rescue party cnrp was banned at the government s request last week deepening hun sen s fight with western donors who accuse him of demolishing democracy in the country he has ruled for over 32 years  it doesn t mean that now the opposition is dissolved we can be careless  hun sen says in the 12minute recording of a message to party officials warning that his opponents could start a new party and should not be underestimated  if we get bad results and lose it would be twice as bad after we already dissolved the opposition party people can also dissolve us through an election  he said the international community could try to  revive their puppets  and channel funding to cambodia despite a fiveyear political ban on 118 cnrp politicians the cnrp was banned after its leader kem sokha was arrested for allegedly plotting treason with american help he has rejected the accusations as a ploy to let hun sen win next year s election in his message hun sen called on party officials to stop corruption extortion illegal logging and other irregularities that had pushed cambodians to vote for the opposition  votes were cast because of anger due to our mistakes in the past and that cannot happen again  hun sen said in the recording cpp spokesman sok eysan said the message had not been secret he did not say when the recording had been made  there is nothing to hide  he said  he was doing his work as the party leader and the prime minister  the 55 parliamentary seats that the cnrp won in the last election in 2013 were allocated to smaller parties on thursday by the national election committee the biggest winner was the royalist funcinpec party of prince norodom ranariddh who was once hun sen s main rival but is now aligned with the prime minister funcinpec will get 41 seats in parliament  a third of all the seats  despite winning less than 4 percent of the vote in 2013 the ruling party did not get any more seats but already had a majority with 68 seats  the will of the people has been violated  said mu sochua a deputy to kem sokha who fled abroad in fear of arrest  the national assembly of the kingdom of cambodia has lost its legitimacy  '\n",
      " b'exnyc mayor bloomberg says he will not enter presidential race reuters  former new york city mayor michael bloomberg said on monday he will not enter the race for us president in november because it was clear he could not win and he did not want to risk enabling a victory by republicans donald trump or ted cruz last month the financial times quoted bloomberg as saying he found the campaign discussions \\xe2\\x80\\x9cdistressingly banal\\xe2\\x80\\x9d and considering running for president bloomberg said in a online column that in a threeway race no candidate was likely to win a majority of electoral votes handing the choice to the congress  reporting by eric walsh editing by chris reese this article was funded in part by sap it was independently created by the reuters editorial staff sap had no editorial involvement in its creation or production'\n",
      " b'south africas tutu asks myanmars suu kyi to help rohingyajohannesburg reuters  retired south african cleric and antiapartheid campaigner archbishop desmond tutu urged myanmar leader and fellow nobel laureate aung san suu kyi on thursday to intervene to help rohingya muslims fleeing her country western critics have accused suu kyi of not speaking out for the rohingya who have been fleeing to neighboring bangladesh following an army counteroffensive against militant attacks tutu said in an open letter to suu kyi that  i am now elderly decrepit and formally retired but breaking my vow to remain silent on public affairs out of profound sadness about the plight of the muslim minority in your country the rohingya   my dear sister if the political price of your ascension to the highest office in myanmar is your silence the price is surely too steep  we pray for you to speak out for justice human rights and the unity of your people we pray for you to intervene  tutu wrote tutu 85 has been living with prostate cancer for nearly two decades and has largely withdrawn from public life the rohingya comprise some 11 million people who have long complained of persecution and are seen by many in buddhistmajority myanmar as illegal migrants from bangladesh  we have to take care of our citizens we have to take care of everybody who is in our country whether or not they are our citizens  suu kyi said earlier on thursday in comments to reuters television s indian partner asian news international suu kyi who won the nobel peace prize in 1991 as a champion of democracy did not refer specifically to the exodus of the minority rohingya '\n",
      " b' sicko in texas wants to make a buck off harvey disaster and it might land her in hot waterlate monday night cnn s don lemon had a phone guest who called in to the show from the apartment she was trapped in with her cousin and a onemonthold baby ices bragg in a pronounced southern drawl described the scene around her rising water fires visible from the window nearby and perhaps most disturbing of all an upstairs neighbor taking advantage of the situationlemon asked the woman to repeat what she had told him previously about the neighborlemon you told us last hour that one of your neighbors was trying to go upstairs to another apartment and what happenedbragg um the lady had told her that if she had three hundred dollars to come in to her apartment she would let herlemon wow unbelievablebragg yes sir it isthe exchange was heartstopping we saw pricegouging on gas after hurricanes katrina and sandy but watching big companies take advantage of desperate consumers is almost nothing new in this country to hear an account of a neighbor with the advantage of higher ground threatening to let people die unless they pony up is nothing short of shockingan economy based on unbridled capitalism like we see in america almost guarantees that there will be pricegouging in some areas during times of heightened demand for whatever someone s selling but at the very least there are laws prohibiting the practice during a state of emergency that s little comfort to the poor but it does mean that this upstairs neighbor could   no pun intended   pay a pricethis is not the first report of pricegouging in the state houston is currently deluged with trillions of gallons of water when those waters recede the complaints that have been pouring in to the texas attorney general s office will likely result in serious trouble for those they hold to accountwatch the cnn clip herefeatured image via video screen capture'\n",
      " b'trumps 250 billion china miracle adds gloss to offkilter tradebeijingshanghai reuters  president donald trump can return to the united states claiming to have snagged over 250 billion in deals from his maiden trip to beijing whether those deals live up to the lofty price tag is another question altogether watched by trump and china\\xe2\\x80\\x99s president xi jinping at a signing ceremony in beijing us planemaker boeing co general electric co and chip giant qualcomm inc sealed lucrative multibillion dollar deals \\xe2\\x80\\x9cthis is truly a miracle\\xe2\\x80\\x9d china\\xe2\\x80\\x99s commerce minister zhong shan said at a briefing in beijing the quarter of a trillion dollar haul underscores how trump is keen to be seen to address a trade deficit with the world\\xe2\\x80\\x99s secondlargest economy that he has long railed against and called \\xe2\\x80\\x9cshockingly high\\xe2\\x80\\x9d on thursday but us businesses still have many longstanding concerns to complain about including unfettered access to the china market cybersecurity and the growing presence of china\\xe2\\x80\\x99s ruling communist party inside foreign firms william zarit chairman of the american chamber of commerce in china said the deals pointed to \\xe2\\x80\\x9ca strong vibrant bilateral economic relationship\\xe2\\x80\\x9d between the two countries \\xe2\\x80\\x9cyet we still need to focus on leveling the playing field because us companies continue to be disadvantaged doing business in china\\xe2\\x80\\x9d us tech companies like facebook inc and google are mostly blocked in china automakers ford motor co and general motors must operate through joint ventures while hollywood movies face a strict quota system \\xe2\\x80\\x9cthese deals allow trump to portray himself as a master dealmaker while distracting from a lack of progress on structural reforms to the bilateral trade relationship\\xe2\\x80\\x9d hugo brennan asia analyst at risk consultancy verisk maplecroft said in a note some huge deals were announced among them is a 20year 837 billion investment by china energy investment corp in shale gas developments and chemical manufacturing projects in west virginia a major energy producing state that voted heavily for trump in the 2016 election  \\xe2\\x80\\x9cthe massive size of this energy undertaking and level of collaboration between our two countries is unprecedented\\xe2\\x80\\x9d west virginia secretary of commerce h wood thrasher said in a statement it marks the first major overseas investment for the newly founded china energy which formed from the merger of china shenhua group the country\\xe2\\x80\\x99s largest coal producer and china guodian corp one of china\\xe2\\x80\\x99s top five utilities however as is often the case during state visits many of the deals were packaged as \\xe2\\x80\\x9cnonbinding\\xe2\\x80\\x9d agreements gave scant details or rolled over existing tieups helping pump up the headline figure \\xe2\\x80\\x9ci am somewhat skeptical of such a large number\\xe2\\x80\\x9d alex wolf senior emerging markets economist at aberdeen standard investments told the reuters global markets forum adding that the overall tone of the visit so far had been \\xe2\\x80\\x9cpositive\\xe2\\x80\\x9d \\xe2\\x80\\x9ci suspect they might be primarily mous memorandum of understandings instead of actual contracts and the actual contract amount may be substantially less\\xe2\\x80\\x9d qualcomm signed nonbinding agreements worth 12 billion with xiaomi oppo and vivo three chinese handset makers that the firm said it had \\xe2\\x80\\x9clongstanding relationships\\xe2\\x80\\x9d with qualcomm already earns more than half of its revenues in china boeing announced a deal with staterun china aviation suppliers holding co to sell 300 boeing jets with a valuation of 37 billion at list prices though analysts said it was unclear how many of these were new orders  \\xe2\\x80\\x9cinteresting to see how many of those are past agreementspurchase orders repackaged beijing is a master of selling the same agreement 10 times\\xe2\\x80\\x9d former mexican ambassador to china jorge guajardo posted on twitter speaking alongside trump in beijing as they announced the deals xi said the chinese economy would become increasingly open and transparent to foreign firms including those from the united states and welcomed us companies to participate in his ambitious \\xe2\\x80\\x9cbelt and road\\xe2\\x80\\x9d infrastructureled initiative trump made clear he blamed his predecessors not china for allowing the us trade deficit to get \\xe2\\x80\\x9cout of kilter\\xe2\\x80\\x9d and repeatedly praised xi calling him \\xe2\\x80\\x9ca very special man\\xe2\\x80\\x9d \\xe2\\x80\\x9cbut we will make it fair and it will be tremendous for both of us\\xe2\\x80\\x9d trump said  xi smiled widely when trump said he does not blame china for the deficit asked whether the big package of deals would go some way towards helping fix american trade concerns in china executives were cautiously optimistic \\xe2\\x80\\x9cgenerally the sense was that this is all a good thing and that\\xe2\\x80\\x99s great\\xe2\\x80\\x9d said gentry sayad a shanghaibased lawyer who attended the trade delegation event in beijing  \\xe2\\x80\\x9cnow let\\xe2\\x80\\x99s see what really happens and whether or not the agreements signed during this trip can become a basis for a better bilateral trade relationship going forward\\xe2\\x80\\x9d  '\n",
      " b'us charges two with bribing african officials for china energy firmwashington reuters  the united states has charged a former senegalese foreign minister and a former top hong kong government official with links to a chinese energy conglomerate with bribing highlevel officials in chad and uganda in exchange for contracts for the mainland company chi ping patrick ho 68 of hong kong and cheikh gadio 61 were charged with violating the foreign corrupt practices act international money laundering and conspiracy the us justice department said in a statement on monday  it said gadio a former foreign minister of senegal was arrested in new york on friday it added that ho a former hong kong home affairs secretary who heads a nongovernmental organization based in hong kong and virginia was arrested on saturday  wiring almost a million dollars through new york s banking system in furtherance of their corrupt schemes the defendants allegedly sought to generate business through bribes paid to the president of chad and the ugandan foreign minister  joon kim acting us attorney for the southern district of new york was quoted as saying in the statement no one could be reached at the embassies of chad and uganda in washington late on monday the missions did not immediately respond to emails requesting comment in a statement the us justice department said the case against ho involved two bribery schemes to pay highlevel officials of chad and uganda in exchange for business advantages for a shanghaiheadquartered multibilliondollar energy firm this energy company funded a nongovernment organization ngo based in hong kong and virginia that ho heads the statement said without naming the shanghai company or the ngo  ho is the secretary general of the hong kongbased china energy fund committee a mainlandbacked thinktank that describes itself as a charitable nongovernment organization  china energy fund committee is fully funded by cefc china energy a shanghaibased private conglomerate according to the think tank s website the organization did not respond to an email requesting comment cefc china energy said in a statement posted on its website late on tuesday that  as a nongovernmental nonprofit organization the fund is not involved in the commercial activities of cefc china energy  cefc does not have any investment in uganda the company said in the statement and its investment in chad had been acquired via a stake bought from taiwan s stateowned chinese petroleum corp and it had not dealt directly with the chad government  the company will continue monitoring this matter and will take necessary measures based on developments  it said cefc has been a key player in chinese president xi jinping s belt and road initiative which aims to bolster china s global leadership ambitions by building infrastructure and trade links between asia africa europe and beyond chinese foreign ministry spokesman lu kang told a regular news briefing tuesday that he was not aware of the specific details of the case  i want to emphasize that the chinese government consistently requires chinese companies abroad to operate lawfully and abide by local laws and regulations   idriss deby has been chad s president since 1990 ugandan foreign minister sam kutesa served as the president of the un general assembly in 2014 and 2015 ho s attorney ed kim of krieger kim  lewin llp declined to comment to reuters bob baum of federal defenders who represented gadio for the bail argument did not immediately respond to a request for comment ho was ordered detained after appearing in court on monday the justice department statement said it said gadio appeared before a judge on saturday and is being held until he can meet the conditions of a 1 million bond according to court records the justice department said a 2 million bribe was paid to chad s president who then provided the company with an opportunity to obtain oil rights in chad without international competition the department said in the statement that gadio was the gobetween and was paid 400000 by ho via wire transfers through new york the justice department accused ho of being involved with bribes and promises of future benefits to uganda s foreign minister in exchange for help in obtaining business advantages for the chinese company        '\n",
      " b' hillary clinton shut donald trump down \\xe2\\x80\\x93 and in the best way possible tweetstoday president obama endorsed hillary clinton for president of the united states the media was abuzz clinton s campaign website saw a spike in viewership and sanders supporters started uniting behind the nomineebut there was one person who was not impressed donald j trumpin typical trump fashion the blowhard republican nominee decided to take to his precious twitter account to bash both president obama and hillary clintonobama just endorsed crooked hillary he wants four more years of obama but nobody else does  donald j trump realdonaldtrump june 9 2016clinton who has chided the republican candidate over his sophomoric use of twitter clearly didn t have time for his crap so she decided to send a message a message most americans probably agree with delete your account httpstcooa92sncrqy  hillary clinton hillaryclinton june 9 2016in the twitter world then one tells another to  delete your account  that usually means the person has said something so incredibly stupid or offensive that they shouldn t have the grace of even being on social media   in trump s case that s exactly what clinton s implyingnow the number of retweets doesn t explicitly show who is more favored but it should be noted trump s cheap little attack got a mere 11 thousand rt s while clinton s cool confident comeback reached over 140 thousand and counting   the most on her twitter accountbut in all seriousness clinton who plans a major speech denouncing trump similar to the one she gave last week is done with his twitter games and is ready to take him on in the generalmainstream media is already branding this the beginning of the twitter wars but some would argue the twitter wars happened when clinton reminded trump of all his stupid comments from the pastyou literally said all those things httpstco6vx5afr7gl httpstcou8lfwdpu7x  hillary clinton hillaryclinton june 3 2016one lesson clinton seems to be learning from the 2008 campaign is the use of social media which the obama campaign used to help usher in a winthe message is clear donald trump is unstable and he really should delete his accountfeatured image via justin sullivangetty images'\n",
      " b'ibm announces 2000 jobs for vets after meeting with president trumplarge companies and  veteran friendly  employers claim to want veterans to work for them if they do end up hiring it s usually in an entry level position well below their qualifications typically what you would expect an 18 year old to be able to get with a blank resume how is that even possible when the experience and training the military receives is state of the art a lot of veterans being only 19 to 21 years old hold more responsibility in their short time in than most middle aged people that choose a different pathinstead of being seen as highly valuable or hard working americans with great work ethic we are seen as dangerous and violent veteran jason talbot says he feels as though this is partly due to the media reporting only when veterans screw up and the movie industry for portraying ptsd in an imperfect light   hypeorlandothe trump jobs boom continues with computer giant ibm announcing that it is set to hire 2000 veterans of the us military after a meeting with president donald j trumpibm ceo ginni rometty who serves on trump s business advisory board is to announce the new plans on fridaythe company intends to open 20 new ptech schools in the us and will retrain and certify the veterans over a fouryear period axios reportedmany of the veterans will be trained in the use of ibm s software programs used by law enforcement cybersecurity and national security agencies   breitbart '], shape=(16,), dtype=string)\n"
     ]
    }
   ],
   "source": [
    "for inp, target in raw_train_ds.take(1):\n",
    "    print(inp)"
   ]
  },
  {
   "cell_type": "code",
   "execution_count": 29,
   "id": "c31ebadd-1c86-4c71-886f-32adab6e453f",
   "metadata": {
    "tags": []
   },
   "outputs": [
    {
     "data": {
      "text/plain": [
       "<tf.Tensor: shape=(16, 10000), dtype=float32, numpy=\n",
       "array([[400.81726  ,  14.662315 ,  12.743617 , ...,   0.       ,\n",
       "          0.       ,   0.       ],\n",
       "       [301.85004  ,  32.81566  ,  26.90319  , ...,   0.       ,\n",
       "          0.       ,   0.       ],\n",
       "       [148.45084  ,  27.230013 ,   9.203724 , ...,   0.       ,\n",
       "          0.       ,   0.       ],\n",
       "       ...,\n",
       "       [212.77954  ,  28.626425 ,  12.035639 , ...,   0.       ,\n",
       "          0.       ,   0.       ],\n",
       "       [118.76067  ,  13.964109 ,   6.3718085, ...,   0.       ,\n",
       "          0.       ,   0.       ],\n",
       "       [ 98.967224 ,   7.68026  ,   6.3718085, ...,   0.       ,\n",
       "          0.       ,   0.       ]], dtype=float32)>"
      ]
     },
     "execution_count": 29,
     "metadata": {},
     "output_type": "execute_result"
    }
   ],
   "source": [
    "vectorize_layer(inp)"
   ]
  },
  {
   "cell_type": "code",
   "execution_count": 30,
   "id": "66a32e9c-612c-49e1-994a-e462207d79f7",
   "metadata": {},
   "outputs": [],
   "source": [
    "def preprocess(x, y):\n",
    "    x = vectorize_layer(x)\n",
    "    return x, y\n",
    "    \n",
    "train_ds = raw_train_ds.map(lambda x, y: preprocess(x, y))\n",
    "val_ds = raw_val_ds.map(lambda x, y: preprocess(x, y))"
   ]
  },
  {
   "cell_type": "code",
   "execution_count": 31,
   "id": "7c2d3d20-db4a-42d9-adbc-7bda90aad680",
   "metadata": {},
   "outputs": [
    {
     "data": {
      "text/plain": [
       "(<tf.Tensor: shape=(16, 10000), dtype=float32, numpy=\n",
       " array([[237.52135  ,  15.36052  ,  16.28351  , ...,   0.       ,\n",
       "           0.       ,   0.       ],\n",
       "        [ 44.53525  ,  11.8694935,   9.911702 , ...,   0.       ,\n",
       "           0.       ,   0.       ],\n",
       "        [183.08937  ,  11.8694935,   8.495745 , ...,   0.       ,\n",
       "           0.       ,   0.       ],\n",
       "        ...,\n",
       "        [ 74.22542  ,  25.833603 ,   9.203724 , ...,   0.       ,\n",
       "           0.       ,   0.       ],\n",
       "        [331.54022  ,  38.401302 ,  21.94734  , ...,   0.       ,\n",
       "           0.       ,   0.       ],\n",
       "        [ 69.27706  ,   8.378466 ,   9.203724 , ...,   0.       ,\n",
       "           0.       ,   0.       ]], dtype=float32)>,\n",
       " <tf.Tensor: shape=(16,), dtype=int64, numpy=array([1, 0, 0, 1, 1, 1, 0, 0, 0, 1, 1, 1, 0, 0, 0, 0])>)"
      ]
     },
     "execution_count": 31,
     "metadata": {},
     "output_type": "execute_result"
    }
   ],
   "source": [
    "next(iter(train_ds))"
   ]
  },
  {
   "cell_type": "markdown",
   "id": "938c3502-a5d2-4124-a485-00046a013ed2",
   "metadata": {},
   "source": [
    "## 3.- Modelo"
   ]
  },
  {
   "cell_type": "code",
   "execution_count": 32,
   "id": "c01b2731-45b9-4472-a147-a3a02413274a",
   "metadata": {
    "tags": []
   },
   "outputs": [
    {
     "data": {
      "image/png": "[encoded data removed]",
      "text/plain": [
       "<Figure size 640x480 with 1 Axes>"
      ]
     },
     "metadata": {},
     "output_type": "display_data"
    }
   ],
   "source": [
    "import numpy as np\n",
    "import matplotlib.pyplot as plt\n",
    "\n",
    "# Funciones de activación\n",
    "def sigmoid(x):\n",
    "    return 1 / (1 + np.exp(-x))\n",
    "\n",
    "def tanh(x):\n",
    "    return np.tanh(x)\n",
    "\n",
    "def relu(x):\n",
    "    return np.maximum(0, x)\n",
    "\n",
    "# Datos para graficar\n",
    "x = np.linspace(-5, 5, 100)\n",
    "\n",
    "# Graficar las funciones de activación\n",
    "plt.plot(x, sigmoid(x), label='Sigmoid')\n",
    "plt.plot(x, tanh(x), label='Tanh')\n",
    "plt.plot(x, relu(x), label='ReLU')\n",
    "\n",
    "# Configuraciones del gráfico\n",
    "plt.xlabel('x')\n",
    "plt.ylabel('y')\n",
    "plt.legend()\n",
    "plt.grid()\n",
    "\n",
    "# Mostrar el gráfico\n",
    "plt.show()\n"
   ]
  },
  {
   "cell_type": "markdown",
   "id": "a20be898-4158-4e81-a976-b4fdc9763f39",
   "metadata": {},
   "source": [
    "- Definir método build y call de la clase Linear(keras.layers.Layer). Utilizar método self.add_weight para crear los pesos \"w\" y \"b\". "
   ]
  },
  {
   "cell_type": "code",
   "execution_count": 33,
   "id": "3850ed32-225b-4bc3-9ac2-aefa3b9f49db",
   "metadata": {
    "tags": []
   },
   "outputs": [
    {
     "data": {
      "text/plain": [
       "<Linear name=linear, built=False>"
      ]
     },
     "execution_count": 33,
     "metadata": {},
     "output_type": "execute_result"
    }
   ],
   "source": [
    "class Linear(keras.layers.Layer):\n",
    "    def __init__(self, num_outputs, activation=None):\n",
    "        super().__init__()\n",
    "        self.num_outputs = num_outputs\n",
    "        self.activation = keras.activations.get(activation)\n",
    "\n",
    "    def build(self, input_shape):\n",
    "\n",
    "        \n",
    "    def call(self, inputs):\n",
    "\n",
    "\n",
    "layer = Linear(1)\n",
    "layer"
   ]
  },
  {
   "cell_type": "code",
   "execution_count": 34,
   "id": "a5751c42-30f8-4d33-b8f8-20a23cc974bd",
   "metadata": {
    "scrolled": true
   },
   "outputs": [
    {
     "data": {
      "text/plain": [
       "<tf.Tensor: shape=(16, 10000), dtype=float32, numpy=\n",
       "array([[296.90167  ,  12.5676985,  12.743617 , ...,   0.       ,\n",
       "          0.       ,   0.       ],\n",
       "       [257.3148   ,  26.531807 ,  16.28351  , ...,   0.       ,\n",
       "          0.       ,   0.       ],\n",
       "       [207.83118  ,  16.058725 ,  11.32766  , ...,   0.       ,\n",
       "          0.       ,   0.       ],\n",
       "       ...,\n",
       "       [  9.896723 ,   3.4910274,   5.66383  , ...,   0.       ,\n",
       "          0.       ,   0.       ],\n",
       "       [435.4558   ,  18.851547 ,  14.867554 , ...,   0.       ,\n",
       "          0.       ,   0.       ],\n",
       "       [103.91559  ,  23.040781 ,   9.911702 , ...,   0.       ,\n",
       "          0.       ,   0.       ]], dtype=float32)>"
      ]
     },
     "execution_count": 34,
     "metadata": {},
     "output_type": "execute_result"
    }
   ],
   "source": [
    "test_batch = next(iter(train_ds))\n",
    "test_batch[0]"
   ]
  },
  {
   "cell_type": "code",
   "execution_count": 35,
   "id": "f53664fa-a1af-4a03-872b-dee5afb46341",
   "metadata": {},
   "outputs": [],
   "source": [
    "def get_model():\n",
    "    inputs = keras.Input(shape=(vocab_size,))\n",
    "    x1 = Linear(3, activation='sigmoid')(inputs)\n",
    "    outputs = Linear(1)(x1)\n",
    "    model = keras.Model(inputs=inputs, outputs=outputs)\n",
    "    return model\n",
    "\n",
    "model = get_model()"
   ]
  },
  {
   "cell_type": "code",
   "execution_count": 36,
   "id": "52dc97a1-4f92-4b83-80b9-2599caba01d7",
   "metadata": {},
   "outputs": [
    {
     "data": {
      "text/plain": [
       "(torch.Size([16, 1]), TensorShape([16]))"
      ]
     },
     "execution_count": 36,
     "metadata": {},
     "output_type": "execute_result"
    }
   ],
   "source": [
    "model(test_batch[0]).shape, test_batch[1].shape"
   ]
  },
  {
   "cell_type": "code",
   "execution_count": 37,
   "id": "bfa35892-87d7-42e3-bf09-58b2d7bd0e12",
   "metadata": {},
   "outputs": [
    {
     "data": {
      "text/plain": [
       "torch.Size([16])"
      ]
     },
     "execution_count": 37,
     "metadata": {},
     "output_type": "execute_result"
    }
   ],
   "source": [
    "model(test_batch[0])[:, 0].shape"
   ]
  },
  {
   "cell_type": "code",
   "execution_count": 38,
   "id": "93a3654e-6a57-468f-a8e9-41dfee3b9ed4",
   "metadata": {
    "scrolled": true
   },
   "outputs": [
    {
     "name": "stdout",
     "output_type": "stream",
     "text": [
      "Epoch 1/5\n",
      "\u001b[1m1812/1812\u001b[0m \u001b[32m━━━━━━━━━━━━━━━━━━━━\u001b[0m\u001b[37m\u001b[0m \u001b[1m5s\u001b[0m 2ms/step - accuracy: 0.7933 - loss: 0.1572 - val_accuracy: 0.9466 - val_loss: 0.0638\n",
      "Epoch 2/5\n",
      "\u001b[1m1812/1812\u001b[0m \u001b[32m━━━━━━━━━━━━━━━━━━━━\u001b[0m\u001b[37m\u001b[0m \u001b[1m4s\u001b[0m 2ms/step - accuracy: 0.9533 - loss: 0.0544 - val_accuracy: 0.9641 - val_loss: 0.0425\n",
      "Epoch 3/5\n",
      "\u001b[1m1812/1812\u001b[0m \u001b[32m━━━━━━━━━━━━━━━━━━━━\u001b[0m\u001b[37m\u001b[0m \u001b[1m4s\u001b[0m 2ms/step - accuracy: 0.9711 - loss: 0.0384 - val_accuracy: 0.9742 - val_loss: 0.0359\n",
      "Epoch 4/5\n",
      "\u001b[1m1812/1812\u001b[0m \u001b[32m━━━━━━━━━━━━━━━━━━━━\u001b[0m\u001b[37m\u001b[0m \u001b[1m4s\u001b[0m 2ms/step - accuracy: 0.9768 - loss: 0.0318 - val_accuracy: 0.9793 - val_loss: 0.0310\n",
      "Epoch 5/5\n",
      "\u001b[1m1812/1812\u001b[0m \u001b[32m━━━━━━━━━━━━━━━━━━━━\u001b[0m\u001b[37m\u001b[0m \u001b[1m4s\u001b[0m 2ms/step - accuracy: 0.9807 - loss: 0.0280 - val_accuracy: 0.9819 - val_loss: 0.0279\n"
     ]
    }
   ],
   "source": [
    "model.compile(\n",
    "    loss=keras.losses.MeanSquaredError(),\n",
    "    optimizer=keras.optimizers.SGD(learning_rate=0.001),\n",
    "    metrics=[\"accuracy\"]\n",
    ")\n",
    "\n",
    "history = model.fit(\n",
    "    train_ds,\n",
    "    validation_data=val_ds,\n",
    "    epochs=5,  \n",
    ")"
   ]
  },
  {
   "cell_type": "code",
   "execution_count": 39,
   "id": "d6043f27-9d29-4b57-92c1-99f3b401bf45",
   "metadata": {},
   "outputs": [
    {
     "data": {
      "text/plain": [
       "{'accuracy': [0.8731374144554138,\n",
       "  0.9583333134651184,\n",
       "  0.9713024497032166,\n",
       "  0.9777525067329407,\n",
       "  0.9809947609901428],\n",
       " 'loss': [0.11319579184055328,\n",
       "  0.05060190707445145,\n",
       "  0.03698904067277908,\n",
       "  0.03088395670056343,\n",
       "  0.027205342426896095],\n",
       " 'val_accuracy': [0.9465581774711609,\n",
       "  0.9640697240829468,\n",
       "  0.9742342829704285,\n",
       "  0.9793046116828918,\n",
       "  0.9818915724754333],\n",
       " 'val_loss': [0.06384710222482681,\n",
       "  0.04247169569134712,\n",
       "  0.03589082881808281,\n",
       "  0.030997753143310547,\n",
       "  0.027936682105064392]}"
      ]
     },
     "execution_count": 39,
     "metadata": {},
     "output_type": "execute_result"
    }
   ],
   "source": [
    "history.history"
   ]
  },
  {
   "cell_type": "code",
   "execution_count": 40,
   "id": "05539ec9-1700-4384-b14e-b016afb5139a",
   "metadata": {
    "tags": []
   },
   "outputs": [
    {
     "data": {
      "image/png": "[encoded data removed]",
      "text/plain": [
       "<Figure size 1000x500 with 2 Axes>"
      ]
     },
     "metadata": {},
     "output_type": "display_data"
    }
   ],
   "source": [
    "import matplotlib.pyplot as plt\n",
    "\n",
    "# Crear figura con dos subplots\n",
    "fig, (ax1, ax2) = plt.subplots(1, 2, figsize=(10, 5))\n",
    "\n",
    "# Plot de accuracy en el primer subplot\n",
    "ax1.plot(history.history['accuracy'], 'bo-', label='Accuracy')\n",
    "ax1.plot(history.history['val_accuracy'], 'ro-', label='Validation Accuracy')\n",
    "ax1.set_title('Accuracy')\n",
    "ax1.set_xlabel('Época')\n",
    "ax1.set_ylabel('Accuracy')\n",
    "ax1.legend()\n",
    "\n",
    "# Plot de error en el segundo subplot\n",
    "ax2.plot(history.history['loss'], 'bo-', label='Loss')\n",
    "ax2.plot(history.history['val_loss'], 'ro-', label='Validation Loss')\n",
    "ax2.set_title('Error')\n",
    "ax2.set_xlabel('Época')\n",
    "ax2.set_ylabel('Error')\n",
    "ax2.legend()\n",
    "\n",
    "# Mostrar figura\n",
    "plt.show()"
   ]
  },
  {
   "cell_type": "markdown",
   "id": "29855155-31af-4ac4-b679-61f525d8d673",
   "metadata": {},
   "source": [
    "## Ejercicio\n",
    "- Probar con activaciones relu y tanh\n",
    "- Probar con las siguientes tasas de aprendizaje: 0.1, 0.01, 0.001, 0.0001"
   ]
  }
 ],
 "metadata": {
  "kernelspec": {
   "display_name": "Python 3 (ipykernel)",
   "language": "python",
   "name": "python3"
  },
  "language_info": {
   "codemirror_mode": {
    "name": "ipython",
    "version": 3
   },
   "file_extension": ".py",
   "mimetype": "text/x-python",
   "name": "python",
   "nbconvert_exporter": "python",
   "pygments_lexer": "ipython3",
   "version": "3.8.18"
  }
 },
 "nbformat": 4,
 "nbformat_minor": 5
}

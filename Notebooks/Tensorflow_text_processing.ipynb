{
 "cells": [
  {
   "cell_type": "code",
   "execution_count": 1,
   "id": "dbc49d9b-5f41-4169-bbda-5d77f285459f",
   "metadata": {},
   "outputs": [],
   "source": [
    "import os\n",
    "os.environ['TF_CPP_MIN_LOG_LEVEL'] = '3' # Disable tensorflow debugging logs\n",
    "import tensorflow as tf\n",
    "import matplotlib.pyplot as plt"
   ]
  },
  {
   "cell_type": "markdown",
   "id": "12769da3-4b85-488f-ac95-3fa9258e7aa2",
   "metadata": {},
   "source": [
    "## Introducción a tensores"
   ]
  },
  {
   "cell_type": "markdown",
   "id": "dce10320-6411-42c1-8928-f6fdb78f32c1",
   "metadata": {},
   "source": [
    "- Tensor"
   ]
  },
  {
   "cell_type": "code",
   "execution_count": 2,
   "id": "dc1f72e7-3276-4e67-9eca-e4bac5b5a5d4",
   "metadata": {
    "scrolled": true,
    "tags": []
   },
   "outputs": [
    {
     "data": {
      "text/plain": [
       "<tf.Tensor: shape=(), dtype=int32, numpy=4>"
      ]
     },
     "execution_count": 2,
     "metadata": {},
     "output_type": "execute_result"
    }
   ],
   "source": [
    "tensor = tf.constant(4)\n",
    "tensor"
   ]
  },
  {
   "cell_type": "markdown",
   "id": "3a642caa-21df-4ba3-94ea-ac7cd008fa10",
   "metadata": {},
   "source": [
    "- Vector"
   ]
  },
  {
   "cell_type": "code",
   "execution_count": 3,
   "id": "fbe90022-cc15-4a43-9bd0-8a929dbdf665",
   "metadata": {},
   "outputs": [
    {
     "data": {
      "text/plain": [
       "<tf.Tensor: shape=(3,), dtype=int32, numpy=array([3, 4, 5], dtype=int32)>"
      ]
     },
     "execution_count": 3,
     "metadata": {},
     "output_type": "execute_result"
    }
   ],
   "source": [
    "tensor = tf.constant([3, 4, 5])\n",
    "tensor"
   ]
  },
  {
   "cell_type": "markdown",
   "id": "16ea38b5-b7d8-42e0-b563-b8c9a7c5868a",
   "metadata": {},
   "source": [
    "- Obtener dimensión de tensor con __shape__"
   ]
  },
  {
   "cell_type": "code",
   "execution_count": 4,
   "id": "3c55475b-4fac-4c19-99f1-0bf08394906d",
   "metadata": {},
   "outputs": [
    {
     "data": {
      "text/plain": [
       "TensorShape([3])"
      ]
     },
     "execution_count": 4,
     "metadata": {},
     "output_type": "execute_result"
    }
   ],
   "source": [
    "tensor.shape"
   ]
  },
  {
   "cell_type": "markdown",
   "id": "6eab6fb3-c3c0-41bb-ad4c-fff7f83c3adb",
   "metadata": {},
   "source": [
    "- Tensor de 2 dimensiones"
   ]
  },
  {
   "cell_type": "code",
   "execution_count": 5,
   "id": "7b814980-000e-461e-be16-376c028c1729",
   "metadata": {},
   "outputs": [
    {
     "data": {
      "text/plain": [
       "(<tf.Tensor: shape=(2, 3), dtype=int32, numpy=\n",
       " array([[3, 4, 5],\n",
       "        [3, 4, 5]], dtype=int32)>,\n",
       " TensorShape([2, 3]))"
      ]
     },
     "execution_count": 5,
     "metadata": {},
     "output_type": "execute_result"
    }
   ],
   "source": [
    "tensor = tf.constant([[3, 4, 5], [3, 4, 5]])\n",
    "tensor, tensor.shape"
   ]
  },
  {
   "cell_type": "markdown",
   "id": "b2d72431-0440-4dcf-bfa3-8b52d03cc61f",
   "metadata": {},
   "source": [
    "- Ejercicio: Crear un tensor de $3 \\times 3 \\times 2 \\times 1$"
   ]
  },
  {
   "cell_type": "code",
   "execution_count": null,
   "id": "0887a4cf-5f57-4b4c-8973-5b02aa39ee96",
   "metadata": {},
   "outputs": [],
   "source": []
  },
  {
   "cell_type": "markdown",
   "id": "8e159f89-9b16-4584-bcd1-7a7ba449dff1",
   "metadata": {},
   "source": [
    "### Operaciones de tensores"
   ]
  },
  {
   "cell_type": "code",
   "execution_count": 6,
   "id": "3c8891c4-e477-4f0d-863f-eac6bc99ab63",
   "metadata": {},
   "outputs": [],
   "source": [
    "tensor = tf.constant([[3, 4], [3, 4]])"
   ]
  },
  {
   "cell_type": "code",
   "execution_count": 7,
   "id": "32076b47-196f-4d57-ba95-5b6b7cb25ec6",
   "metadata": {},
   "outputs": [
    {
     "data": {
      "text/plain": [
       "<tf.Tensor: shape=(2, 2), dtype=int32, numpy=\n",
       "array([[6, 8],\n",
       "       [6, 8]], dtype=int32)>"
      ]
     },
     "execution_count": 7,
     "metadata": {},
     "output_type": "execute_result"
    }
   ],
   "source": [
    "tensor + tensor"
   ]
  },
  {
   "cell_type": "code",
   "execution_count": 8,
   "id": "511b1a2b-9114-4f1a-a483-a84578d940fd",
   "metadata": {},
   "outputs": [
    {
     "data": {
      "text/plain": [
       "<tf.Tensor: shape=(2, 2), dtype=int32, numpy=\n",
       "array([[ 9, 16],\n",
       "       [ 9, 16]], dtype=int32)>"
      ]
     },
     "execution_count": 8,
     "metadata": {},
     "output_type": "execute_result"
    }
   ],
   "source": [
    "tensor * tensor"
   ]
  },
  {
   "cell_type": "markdown",
   "id": "d3011a4f-c8ef-4f8a-983a-5b24809a31f0",
   "metadata": {},
   "source": [
    "- Multiplicación de matrices con __@__"
   ]
  },
  {
   "cell_type": "code",
   "execution_count": 9,
   "id": "4a0c896b-76cf-4cd6-b889-93f0602c74e7",
   "metadata": {},
   "outputs": [
    {
     "data": {
      "text/plain": [
       "<tf.Tensor: shape=(2, 2), dtype=int32, numpy=\n",
       "array([[21, 28],\n",
       "       [21, 28]], dtype=int32)>"
      ]
     },
     "execution_count": 9,
     "metadata": {},
     "output_type": "execute_result"
    }
   ],
   "source": [
    "tensor @ tensor"
   ]
  },
  {
   "cell_type": "markdown",
   "id": "d45d9dda-e20e-40a5-b450-a9b7de96c923",
   "metadata": {},
   "source": [
    "### Métodos de tensores"
   ]
  },
  {
   "cell_type": "markdown",
   "id": "5f6f6006-345a-4a8e-aea9-0b733b984aa6",
   "metadata": {},
   "source": [
    "- Inicialización en ceros. Pasar como argumento la dimensión del tensor"
   ]
  },
  {
   "cell_type": "code",
   "execution_count": 10,
   "id": "245b78ac-259e-4a2f-b1c5-5ca93b499def",
   "metadata": {},
   "outputs": [
    {
     "data": {
      "text/plain": [
       "TensorShape([3, 3, 9])"
      ]
     },
     "execution_count": 10,
     "metadata": {},
     "output_type": "execute_result"
    }
   ],
   "source": [
    "tensor = tf.zeros([3, 3, 9])\n",
    "tensor.shape"
   ]
  },
  {
   "cell_type": "markdown",
   "id": "fe06f762-23a6-46b2-8497-f79deeb055f3",
   "metadata": {},
   "source": [
    "- Método __reshape__"
   ]
  },
  {
   "cell_type": "code",
   "execution_count": 11,
   "id": "7e6a6ec2-eb5d-4fe9-ae19-d64b25735044",
   "metadata": {},
   "outputs": [
    {
     "data": {
      "text/plain": [
       "<tf.Tensor: shape=(9, 9), dtype=float32, numpy=\n",
       "array([[0., 0., 0., 0., 0., 0., 0., 0., 0.],\n",
       "       [0., 0., 0., 0., 0., 0., 0., 0., 0.],\n",
       "       [0., 0., 0., 0., 0., 0., 0., 0., 0.],\n",
       "       [0., 0., 0., 0., 0., 0., 0., 0., 0.],\n",
       "       [0., 0., 0., 0., 0., 0., 0., 0., 0.],\n",
       "       [0., 0., 0., 0., 0., 0., 0., 0., 0.],\n",
       "       [0., 0., 0., 0., 0., 0., 0., 0., 0.],\n",
       "       [0., 0., 0., 0., 0., 0., 0., 0., 0.],\n",
       "       [0., 0., 0., 0., 0., 0., 0., 0., 0.]], dtype=float32)>"
      ]
     },
     "execution_count": 11,
     "metadata": {},
     "output_type": "execute_result"
    }
   ],
   "source": [
    "tf.reshape(tensor, [9, 9])"
   ]
  },
  {
   "cell_type": "markdown",
   "id": "5ae8856b-d97f-4862-ac9c-37325e604715",
   "metadata": {},
   "source": [
    "- Cast de tensores"
   ]
  },
  {
   "cell_type": "code",
   "execution_count": 12,
   "id": "04078808-05b0-4b80-8b3e-6d0a7ad7f732",
   "metadata": {},
   "outputs": [
    {
     "data": {
      "text/plain": [
       "<tf.Tensor: shape=(3, 3, 9), dtype=uint8, numpy=\n",
       "array([[[0, 0, 0, 0, 0, 0, 0, 0, 0],\n",
       "        [0, 0, 0, 0, 0, 0, 0, 0, 0],\n",
       "        [0, 0, 0, 0, 0, 0, 0, 0, 0]],\n",
       "\n",
       "       [[0, 0, 0, 0, 0, 0, 0, 0, 0],\n",
       "        [0, 0, 0, 0, 0, 0, 0, 0, 0],\n",
       "        [0, 0, 0, 0, 0, 0, 0, 0, 0]],\n",
       "\n",
       "       [[0, 0, 0, 0, 0, 0, 0, 0, 0],\n",
       "        [0, 0, 0, 0, 0, 0, 0, 0, 0],\n",
       "        [0, 0, 0, 0, 0, 0, 0, 0, 0]]], dtype=uint8)>"
      ]
     },
     "execution_count": 12,
     "metadata": {},
     "output_type": "execute_result"
    }
   ],
   "source": [
    "tf.cast(tensor, dtype=tf.uint8)"
   ]
  },
  {
   "cell_type": "markdown",
   "id": "813a8d7e-c69e-40d8-9c33-116968e17bc1",
   "metadata": {},
   "source": [
    "- Método __range__"
   ]
  },
  {
   "cell_type": "code",
   "execution_count": 13,
   "id": "68ce2cb1-ef06-4af4-8092-9f3361bd92c0",
   "metadata": {},
   "outputs": [
    {
     "data": {
      "text/plain": [
       "<tf.Tensor: shape=(4,), dtype=int32, numpy=array([4, 5, 6, 7], dtype=int32)>"
      ]
     },
     "execution_count": 13,
     "metadata": {},
     "output_type": "execute_result"
    }
   ],
   "source": [
    "tf.range(4, 8)"
   ]
  },
  {
   "cell_type": "markdown",
   "id": "74899028-b1b8-44a9-849e-e19493b9d5e0",
   "metadata": {},
   "source": [
    "### Cadenas en tensores"
   ]
  },
  {
   "cell_type": "code",
   "execution_count": 14,
   "id": "ae8260e9-33c7-46f9-a149-890dfba741e2",
   "metadata": {},
   "outputs": [
    {
     "data": {
      "text/plain": [
       "<tf.Tensor: shape=(1,), dtype=string, numpy=array([b'Hola como estas'], dtype=object)>"
      ]
     },
     "execution_count": 14,
     "metadata": {},
     "output_type": "execute_result"
    }
   ],
   "source": [
    "tf.constant(['Hola como estas'])"
   ]
  },
  {
   "cell_type": "markdown",
   "id": "d3afd48f-7d9d-474b-8a3d-67ecfea3ba57",
   "metadata": {},
   "source": [
    "- Listas de cadenas"
   ]
  },
  {
   "cell_type": "code",
   "execution_count": 15,
   "id": "f77e7125-0ce5-4286-8ef3-ace1b9c318f5",
   "metadata": {},
   "outputs": [
    {
     "data": {
      "text/plain": [
       "(<tf.Tensor: shape=(), dtype=string, numpy=b'Hola como estas'>,\n",
       " <tf.Tensor: shape=(), dtype=string, numpy=b'Que haciendo?'>)"
      ]
     },
     "execution_count": 15,
     "metadata": {},
     "output_type": "execute_result"
    }
   ],
   "source": [
    "string = tf.constant(['Hola como estas',\n",
    "                      'Bien y tu?',\n",
    "                      'Que haciendo?'])\n",
    "\n",
    "string[0], string[2]"
   ]
  },
  {
   "cell_type": "markdown",
   "id": "953c4517-86bd-4ed3-836a-f7356c895317",
   "metadata": {},
   "source": [
    "## Importar dataset"
   ]
  },
  {
   "cell_type": "code",
   "execution_count": 16,
   "id": "3404f6ab-2dd4-4c7e-989a-ea33ee8c14f9",
   "metadata": {},
   "outputs": [],
   "source": [
    "import tensorflow_datasets as tfds"
   ]
  },
  {
   "cell_type": "code",
   "execution_count": 17,
   "id": "342afe6a-fe93-4832-b573-96f8e209cc1c",
   "metadata": {},
   "outputs": [],
   "source": [
    "dataset = tfds.load('imdb_reviews', as_supervised=True)"
   ]
  },
  {
   "cell_type": "code",
   "execution_count": 18,
   "id": "b155f67f-344e-4841-adab-3a2e58608756",
   "metadata": {},
   "outputs": [],
   "source": [
    "raw_train_ds, raw_test_ds = dataset['train'], dataset['test']"
   ]
  },
  {
   "cell_type": "code",
   "execution_count": 19,
   "id": "76dae875-74f1-46d0-a402-03cf4bdd4681",
   "metadata": {},
   "outputs": [
    {
     "name": "stdout",
     "output_type": "stream",
     "text": [
      "b\"This was an absolutely terrible movie. Don't be lured in by Christopher Walken or Michael Ironside. Both are great actors, but this must simply be their worst role in history. Even their great acting could not redeem this movie's ridiculous storyline. This movie is an early nineties US propaganda piece. The most pathetic scenes were those when the Columbian rebels were making their cases for revolutions. Maria Conchita Alonso appeared phony, and her pseudo-love affair with Walken was nothing but a pathetic emotional plug in a movie that was devoid of any real meaning. I am disappointed that there are movies like this, ruining actor's like Christopher Walken's good name. I could barely sit through it.\" 0\n"
     ]
    }
   ],
   "source": [
    "for text, label in raw_train_ds.take(1):\n",
    "    print(text.numpy(), label.numpy())"
   ]
  },
  {
   "cell_type": "markdown",
   "id": "b5b56f4b-0c53-466f-a810-48091062b5af",
   "metadata": {},
   "source": [
    "## Preparar dataset"
   ]
  },
  {
   "cell_type": "code",
   "execution_count": 20,
   "id": "39b8f2a7-f119-48ae-8dba-f8fa7fb03b22",
   "metadata": {},
   "outputs": [
    {
     "data": {
      "text/plain": [
       "25000"
      ]
     },
     "execution_count": 20,
     "metadata": {},
     "output_type": "execute_result"
    }
   ],
   "source": [
    "AUTOTUNE = tf.data.experimental.AUTOTUNE\n",
    "BUFFER_SIZE = tf.data.experimental.cardinality(raw_train_ds)\n",
    "BUFFER_SIZE.numpy()"
   ]
  },
  {
   "cell_type": "code",
   "execution_count": 21,
   "id": "b380bb5a-b845-4440-a468-147af7bbcb43",
   "metadata": {},
   "outputs": [],
   "source": [
    "batch_size = 16\n",
    "voc_size = 5000\n",
    "seq_length = 20\n",
    "\n",
    "train_ds = raw_train_ds.shuffle(BUFFER_SIZE).batch(\n",
    "        batch_size, num_parallel_calls=AUTOTUNE).prefetch(\n",
    "        AUTOTUNE)\n",
    "\n",
    "\n",
    "test_ds = raw_test_ds.batch(\n",
    "        batch_size, num_parallel_calls=AUTOTUNE).prefetch(\n",
    "        AUTOTUNE)"
   ]
  },
  {
   "cell_type": "code",
   "execution_count": 22,
   "id": "48972e5d-a421-415c-bbae-c3b1440ea599",
   "metadata": {
    "scrolled": true,
    "tags": []
   },
   "outputs": [
    {
     "name": "stdout",
     "output_type": "stream",
     "text": [
      "(<tf.Tensor: shape=(16,), dtype=string, numpy=\n",
      "array([b'I could not agree more with the quote \"this is one of the best films ever made.\" If you think Vanilla Sky is simply a \"re-make,\" you could not be more wrong. There is tremendous depth in this film: visually, musically, and emotionally.<br /><br />Visually, because the film is soft and delicate at times (early scenes with Sofia) and at other times powerful and intense (Times Square, post-climactic scenes).<br /><br />The music and sounds tie into this movie so perfectly. Without the music, the story is only half told. Nancy Wilson created an emotional, yet eclectic, score for the film which could not be more suitable for such a dream-like theme (although never released, I was able to get my hands on the original score for about $60. If you look hard, you may be able to find a copy yourself). Crowe\\'s other musical selections, such as The Beach Boys, Josh Rouse, Spiritualized, Sigur Ros, the Monkees, etcetera etcetera, are also perfect fits for the film (Crowe has an ear for great music).<br /><br />More importantly, the emotional themes in this film (i.e. love, sadness, regret) are very powerful, and are amplified tenfold by the visual and musical experience, as well as the ingenious dialogue; I admit, the elevator scene brings tears to my eyes time and time again.<br /><br />The best part of this film however (as if it could get any better) is that it is so intelligently crafted such that each time you see the film, you will catch something new--so watch closely, and be prepared to think! Sure, a theme becomes obvious after the first or second watch, but there is always more to the story than you think.<br /><br />This is easily Cameron Crowe\\'s best work, and altogether a work of brilliance. Much of my film-making and musical inspiration comes from this work alone. It has honestly touched my life, as true art has a tendency of doing. It continually surprises me that there are many people that cannot appreciate this film for what it is (I guess to understand true art is an art itself).<br /><br />Bottom line: Vanilla Sky is in a league of its own.',\n",
      "       b'***Possible Spoilers***<br /><br />When I saw this today I had some expectation of how it would be like, not too high, but not low either. This was nothing like I expected at all though, it seems to me like the movie makers couldn\\'t make up their mind of what kind of movie to make.<br /><br />In the begining of the film it\\'s somewhat mysterious and kinda exciting, but that\\'ll soon change to some ridiculous scenes - very obvious scenes... As I watched further I almost fell asleep a couple of times.<br /><br />The ending is the most ridiculous of all though, almost splatter/comedy...<br /><br />I\\'m not saying it doesn\\'t have some good scenes it\\'s just that the film never becomes \"whole\".<br /><br />4/10 Movie-Man',\n",
      "       b'There is a lot of obvious hype associated with this film. Let\\'s just face it, though, the main reasons why anyone would watch it would be for Leo and Cate, who are not necessarily the best actors in this film. I\\'m not saying they\\'re not good actors, I\\'m saying they stunk in this film. The special effects were decent (and I will say the film makers did a good job making the ship eye-pleasing), but IT even has several major flaws. For instance, right before the ship goes under, you can see an unfinished blue-screen image behind your main characters.<br /><br />Don\\'t get me wrong, I LOVE the story of the REAL Titanic, but I find this movie an insult to that story. Editing was atrocious--there\\'s no reason for any film to be over 2 1/2 hours (with the exception of MAYBE a biographical movie), and the writing and screenplay was horribly stilted.<br /><br />I will say that the music was perhaps better than I could have predicted (and not just the \"My Heart Will Go On\" song either). There is one scene that stands out to me when the ship is sinking and pounding bass music is heard. That could very well be the highlight of the film. As for the mood throughout, it was extremely dull. I was more relieved than sad when Jack died, which I know cannot be what the director intended.<br /><br />In a nut shell, I find it horrible that they turned the beautiful story of the Titanic into an over-hyped chick flick.',\n",
      "       b\"Priyadarshan- whenever a person heard his name, his first thought would be 'comedy'. That is what this man is known for, or rather, was known for. After giving stupendous blockbuster comedies like Hungama, Hera Pheri and Hunchul, his train derailed slowly with movies like Chupke Chupke and a few others whose names I can't recollect for now. Now with hideous films like Dhol, the first word that would strike our mind after hearing his name would be- 'torture'.<br /><br />Dhol is a mixture of bad, unfunny toilet jokes, somewhat of drama, poor suspense and idiocracy. The only good thing about Dhol was one or two of the scenes which were funny, though not witty, and secondly, except for Kunal Khemu and the hysterical grandma, the acting was decent. <br /><br />Speaking of the acting, I felt that Rajpal Yadav and Sharman Joshi were at the top (if you compare them with the others in the movie), then came Tusshar Kapoor, then Tanushree and at the last the two idiots mentioned above. The flaw in Kunal Khemu was that he was loud in his jokes and even in his acting. The grandma, firstly resembled a ghost, plus she was not funny at all but rather silly.<br /><br />The plot was the same, seen before one. Four boys behind girls and in need of money, but with a few twists. There is a 'bad' man who is preposterously stupid and dumb. And at last, the good wins over the bad and everything is fine. The idea of having a Dhol with a tone full of cash in it is simply not witty.<br /><br />The worst thing about the movie is its length. After an hour or so, you get exhausted and want to leave the theater. But being a critic, it is my responsibility to tolerated the whole two and half hours of the movie. THe movie goes on and on and the same kind of jokes are repeated again and again and the situations are perennial just at a different place.<br /><br />If your mother-in-law has arrived to your house and starts mocking you at everything, then send her for this movie and have fun. 3 out of 10.\",\n",
      "       b'I hate to even waste the time it takes to write 10 lines on this atrocity. Hyung-Rae Shim is lucky that bad film-making isn\\'t a capital crime or he\\'d be put to death twice for writing and directing this disaster. I\\'m amazed that this film had a $75m budget, but actually glad in the sense that it was such a tremendous flop, that Shim will hopefully, never get to make another movie the rest of the life and, therefore, not waste any more of filmgoers time. I would think the actors would have gotten together and lynched him by now.<br /><br />With the effects resources available to them, a great film could have been made with this budget. As usual, the failure should have been spotted at the very beginning with the terrible script and story. \"Transformers\" was another visual feast with a weak script, but this makes it look like \"Citizen Kane\".',\n",
      "       b'I have the entire Weissmuller Tarzan series on DVD (fully restored editions) & I never tire of watching them. My personal favorite is \"Tarzan and His Mate\", due entirely (well almost entirely) to Maureen O\\'Sullivan\\'s costume and the occasional flashes of her genital area beneath that leather flap hanging in front. Before anyone claims that A - It wasn\\'t really her, or B - It wasn\\'t really what it looks like, let me say that I have watched it numerous time, in high zoom mode, and trust me...it IS her, AND she is completely naked underneath that costume...several times, especially during the lion attack at the end, careful viewing in slow motion and maximum zoom will reveal that she was shaved except for a tiny patch of dark hair covering her labia...There is NO mistake about that at all. As to the swimming scene being a body double in a \"skin\" suit, yes, it is a double, BUT she is NOT wearing any \"skin\" suit or anything else...again, slow motion and maximum zoom shows everything to those who want to see it. Now, that controversy out of the way, let\\'s move on the actual movie...I thought the script was really well thought out and written tightly...The action sequences were simply great, although it is obviously a stuntman riding the rhino, Weissmuller actually wrestles the big male lion...The use of background shots that were second unit stuff from Africa is very well blended with the studio & US locations making it sometimes hard to tell which is which. Don\\'t complain too much though, remember that 90% of ALL films is phony anyway, so just relax and enjoy the damned thing with a big bowl of popcorn, some cold beer, and a fresh pack of smokes...a sexy and willing girlfriend/wife isn\\'t out of line either...lol. Oh...One final word about nudity...at the very beginning, while the white hunters are speaking dialogue, keep your eyes on the background extras...there are several good shots of nude African girls (obviously shot on location) behind them. One more thing, the movie is not racist by the standards of the 1930\\'s until the 1960\\'s...that\\'s the way colored people were thought of and portrayed back then. Shaft hadn\\'t even been thought about at that time, nor would audiences have accepted any other portrayals of them at the time in history. Safaris actually did use natives carrying luggage on their heads...and Tiny\\'s character did die a heroic death trying to save the white hunters and Jane. As a matter of fact, it wasn\\'t until Gene Autry treated the native Americans and colored people in his Westerns like real human beings that Hollywood began to see that it was okay to do so.',\n",
      "       b\"There is a level of high expectation when you sit down to watch a comedy with a cast headed by Cary Grant, Jayne Mansfield, Ray Walston and Werner Klemperer. Those expectations are buoyed further when the film is directed by Stanley Donen, whose comic touch was so evident in, among others, DAMN YANKEES!, BEDAZZLED and CHARADE. For the first five minutes, or so, it seems that those expectations might be met and then\\xc2\\x85. Nothing. What is supposed to be a light comedy, plunges into leaden, heavy handed melodrama, with nary a chuckle to be had.<br /><br />Relative newcomer Suzy Parker has often been criticized for her performance, or lack of one, in this film, but in a movie in which even the great Cary Grant frequently appears flat and wooden, attacking Parker seems unfair. Not even as bright a light as an Audrey Hepburn or Doris Day could have changed the fortunes of this meandering, dreary and wholly pointless script, which drags itself lamely along and drags the viewer's interest and patience down with it.<br /><br />The rest of the cast, especially Ray Walston, keep trying to breath some life into the proceedings, but the horrible script is beyond resuscitation. The desperate, inane effort to drag a half hearted laugh from the numbed audience in the film's final moments only serves to add insult to injury.<br /><br />This film is nothing but a major disappointment on all levels.\",\n",
      "       b\"New York, I Love You is a collective work of eleven short films, with each segment running around 10 minutes long. The shorts don't exactly relate but they all have something in common, love. Every short is about finding love, either if it's about a couple or just two strangers chitchatting.The film stars an ensemble cast, among them Shia LaBeouf, Natalie Portman, Hayden Christensen, Orlando Bloom, Chris Cooper, Andy Garcia, Christina Ricci, Irrfan Khan, Robin Wright Penn, Julie Christie, Ethan Hawke, Bradley Cooper, Rachel Bilson, and Anton Yelchin. With such a stellar cast and such an interesting premise, I was expecting a tremendous film; the problem is New York I Love You doesn't add up. It remains the sum of its parts. Some of the segments are funny, original and interesting but others are so meaningless (Orlando Bloom/Christina Ricci and Ethan Hawke/Maggie Q segments) that it's appalling. The film is definitely uneven and has a very experimental tone. Story-wise, it seems like something a few film students could put together. Having said that, the film has some great moments as well, one of the best being the segment about an old couple, played by Eli Wallach and Cloris Leachman, walking along in Brooklyn on their 67th wedding anniversary. And it's moments like this, that made me as a viewer, wish the film was more consistent, because, there's a lot of potential here. But, as unsatisfying as the overall story ends up being, for me, the cinematography and soundtrack saved the all thing. The editing was perfect, the way the film was shot was very impressive and the ethereal soundtrack, couldn't be more fitting. In the end, New York I Love You feels like an experimental film, and as in most experiences there's highs and lows. It's how one looks at the film as a whole that will determine if he enjoys it or not. It might be worthwhile for some and a waste of time for others.<br /><br />7/10\",\n",
      "       b'Yes, the first \"Howling\" was a classic. A rather good werewolf movie that I admit started slowly, but gained momentum along the way to have a rather good finish then the anchorwoman changed into a cute werewolf only to be gunned down on camera. Yes that made for an entertaining horror movie to be sure...well forget all of that as this movie has nothing to do with that film. Oh sure, they kind of make it out that the anchor woman is the same and that her brother or something is wanting to find out what and why things went down as they did, but they go from the little cozy retreat from the first movie to Transylvania or somewhere here where they must battle evil magician werewolves or something. I often wonder what in the world Christopher Lee was doing in this movie, however I read the trivia here where it says he had never been in a werewolf movie before, but still read the script before you take a role. Maybe you could have gotten into \"An American Werewolf in London\" hell that could have been possible. It was set in London after all. Heck, werewolves do not seem to figure much into this movie except for a rather bizarre and prolonged sex scene. In fact, the most memorable death in this movie for me was when the one gal started talking loudly and this one dude\\'s ear\\'s started bleeding.',\n",
      "       b\"I thought it was a very funny movie. I love dog movies and comedy movies so combined they were twice as good. K-9, k-911, and k-9 PI are my favorite movies. Jim Belushi is hysterical and Jerry Lee is hilarious and adorable they make a great team. The only downside is that i really didn't understand how Dooley's wife died. She died before this movie but how? If they said it i must have missed it. Other than that I give it two thumbs/tails up! Those dogs (Jerry Lee and Zeus) must have had A lot of training. They were so funny and all the noises Jerry Lee would make when Dooley was talking to him was so funny. my favorite was when Jerry Lee sang and when he would bite peoples privates to get information very very funny lol\",\n",
      "       b\"This movie was a stupid piece of crap. Bad everything. Why is it that we who love western movies get jilted nine out of ten times when renting westerns. It seems that if you don't see names like Robert Duval, Kevin Kostner, or Tom Selleck attached to the cover, it isn't worth messing with. For the most part the main action of Shiloh Falls was taking place in 1892, yet the revolvers used were 1860s models. Even the shooting was bad - in one scene the Marshal fanned his six-shooter about nine times and couldn't hit any of three large men who were only about twenty feet away. I had to turn it off after about 15 minutes of this inanity. Perhaps those who participated in this movie could have taken some lessons at the Sunset Carson School of Acting.\",\n",
      "       b\"This movie was almost intolerable to sit through. I can get beyond the fact that it looks like it was shot with a home video camera and that this movie is supposed to span over weeks in time yet the characters do not once change outfits, but the acting broke the 4th wall to pieces for me. I've seen better acting in a 4th grade play. Aside from that the plot is unrealistic. If the man suspected the guy he would have turned him in. I was also heavily disappointed that all the killings were done with a gun what kind of gore is that. That is not a copycat the Zodiac did not kill using just a gun the authorities would have known it wasn't him. Another thing that really bothered me was that they called Disassociative Identity Disorder DSM 4 when that is the name of the book used to diagnose people with mental disorders not the name of the disorder. Overall I think this movie is not the kind of movie that could be done with a low budget at least not as low as they had or they could have made sure they had better actors or more gore. Plenty of people have went the low budget route with out having to use horrible actors look at Easy Rider that had Dennis Hopper and Jack Nicholson and a low budget.\",\n",
      "       b\"Recreation of 1950's (London) Soho and the up-and-coming people. Based on a cult novel.<br /><br />Julian Temple is a video director. No more, no less. Give him 15 million dollars and he will make you a 15 million dollar pop video. Here he forgets that two minutes with people that can't really act is one thing - but two hours? What was he thinking of. Besides who are the audience? Who cares about a book that was well remembered way-back-when. The usual London story of the chancer taking his chance. <br /><br />What could really drag this film even further down? Oh I know, third rate songs that sound like they were made up on the spot. David Bowie crones the film title over and over a few times and that is the highlight. The soundtrack album is clay pigeon material.<br /><br />There is one good thing though. Good recreation of period Soho. Shame they couldn't think of anything to put in front of it.\",\n",
      "       b'If I could say it was better than Gymkata, I at least felt my money was not totally wasted.<br /><br />Then I saw Steven Segal\\'s On Deadly Ground.<br /><br />This movie should see a resurrection though on MST 3K. If Santa Claus Conquers the Martians could make Tom Servo\\'s head explode, one wonders what mayhem this movie could cause.<br /><br />There is a very good reason why Kurt Thomas never had a movie career.<br /><br />The writers of this dreck should be forced to wear placards every day of their lives that say \"Bitch slap me! I was a writer on Gymkata.\"',\n",
      "       b\"This is not a commentary on the actual movie, but on the RUSCICO DVD release for North America. I don't know if there have been different releases and updates, but the disks we rented had a 2000 copyright on them, if that means anything. Anyway, the sound mixing on these DVD's was absolutely horrible. The levels often yo-yo-ed up and down; when the scene cut to a battlefield panorama, the orchestral track would thunder so loudly that I didn't know which would blow out first -- my eardrums or my speakers. When it was time for dialog, the volume would usually drop to something barely audible. Occasionally, the orchestra and Foley-work would stay loud while the dialog was superimposed at a much lesser level. My wife and I found that the only way we could watch this movie at all from these DVD's was if one of us kept a hand on the remote to continuously modulate the volume. And, like another user has already commented, when we selected English audio the dialog kept switching back and forth between Russian and English; and occasionally when the characters spoke in French on the native track the dubbing was in Russian, so you're SOL if you understand neither. Ultimately, we gave up watching after the first disk. Before you fork out $50+ for this movie on DVD for your own library, I'd heartily recommend getting your hands on a rental copy to see whether you can really enjoy this epic flick when burdened by such bad sound, particularly if you've never read the book and really want to understand the storyline.\",\n",
      "       b'Note to Horror fans: The only horror here is when you realized you just wasted 95 minutes of your life on a movie that\\'s so worthless it\\'s insulting.<br /><br />I watched this because:<br /><br />The premise sounded slightly promising: It\\'s not. It\\'s just an excuse to use the same lame set pieces from other low-budget slasher films that weren\\'t good either. <br /><br />The promise of naked forest nymphs sounded nice even if the movie turned out to be awful: It\\'s not. It\\'s SO not. The amateur cinematography makes sure the \"fallen angels\" are about as sexy as the average homeless person.<br /><br />The name Tom Savini has a long history in the horror genre: He\\'s the king of low-budget special effects and lower-budget acting. Come to think of it, Savini should have been a reason not to watch this movie. It\\'s not that he\\'s bad, but he\\'s almost always in bad movies. His only good role was in From Dusk Till Dawn, and he\\'s been milking that at horror conventions ever since.<br /><br />But let\\'s focus on the positive: Forest of the Damned is a great example of how NOT to make a movie. <br /><br />Everything else is a negative. Obviously the writer is allergic to originality. The script is terrible. That\\'s all a given after the first 10 minutes. But the clueless pacing; the way the director treats \"plot\" and \"characterization\" as a nuisance he thinks no one cares about anyway; and the excruciatingly long and boring driving, walking, and nature sequences (no doubt added to increase the running time to make the film qualify for distribution) show a complete lack of aptitude for film and storytelling in general.<br /><br />This is another good example of the number-one way you can tell if a movie is going to be bad: If it\\'s written and directed by the same person, expect garbage.'],\n",
      "      dtype=object)>, <tf.Tensor: shape=(16,), dtype=int64, numpy=array([1, 0, 0, 0, 0, 1, 0, 1, 0, 1, 0, 0, 0, 0, 0, 0])>)\n"
     ]
    }
   ],
   "source": [
    "for i in train_ds.take(1):\n",
    "    print(i)"
   ]
  },
  {
   "cell_type": "markdown",
   "id": "66bae1da-6e63-4d24-828d-3347905e8e10",
   "metadata": {},
   "source": [
    "## Definir modelo"
   ]
  },
  {
   "cell_type": "code",
   "execution_count": 23,
   "id": "280ce233-1688-4c27-be29-dec42ab51b17",
   "metadata": {},
   "outputs": [],
   "source": [
    "from tensorflow.keras.layers import TextVectorization"
   ]
  },
  {
   "cell_type": "code",
   "execution_count": 24,
   "id": "288fb5a9-8fac-40a7-a696-d58adfa6d4e6",
   "metadata": {},
   "outputs": [],
   "source": [
    "def clean_text(raw_text):\n",
    "    lowercase = tf.strings.lower(raw_text)\n",
    "    clean = tf.strings.regex_replace(lowercase, '<br />', ' ')\n",
    "    return clean\n",
    "\n",
    "vectorize_layer = TextVectorization(\n",
    "    standardize=clean_text,\n",
    "    max_tokens=voc_size,\n",
    "    output_mode='int',\n",
    "    output_sequence_length=seq_length)"
   ]
  },
  {
   "cell_type": "markdown",
   "id": "a3ee458d-4856-40c4-b3f7-e9adeda67af5",
   "metadata": {},
   "source": [
    "- Adaptar la capa"
   ]
  },
  {
   "cell_type": "code",
   "execution_count": 25,
   "id": "42deec01-632e-406a-96d2-bea5dc563572",
   "metadata": {},
   "outputs": [],
   "source": [
    "vectorize_layer_ds = train_ds.map(lambda text, label: text)\n",
    "vectorize_layer.adapt(vectorize_layer_ds)"
   ]
  },
  {
   "cell_type": "code",
   "execution_count": 26,
   "id": "a992d26a-a2a5-43a6-801a-69185baa09da",
   "metadata": {
    "scrolled": true,
    "tags": []
   },
   "outputs": [
    {
     "data": {
      "text/plain": [
       "['',\n",
       " '[UNK]',\n",
       " 'the',\n",
       " 'a',\n",
       " 'and',\n",
       " 'of',\n",
       " 'to',\n",
       " 'is',\n",
       " 'in',\n",
       " 'i',\n",
       " 'this',\n",
       " 'that',\n",
       " 'it',\n",
       " 'was',\n",
       " 'as',\n",
       " 'for',\n",
       " 'with',\n",
       " 'but',\n",
       " 'on',\n",
       " 'movie',\n",
       " 'his',\n",
       " 'not',\n",
       " 'are',\n",
       " 'film',\n",
       " 'you',\n",
       " 'have',\n",
       " 'he',\n",
       " 'be',\n",
       " 'at',\n",
       " 'one',\n",
       " 'by',\n",
       " 'an',\n",
       " 'they',\n",
       " 'all',\n",
       " 'from',\n",
       " 'who',\n",
       " 'like',\n",
       " 'so',\n",
       " 'just',\n",
       " 'or',\n",
       " \"it's\",\n",
       " 'has',\n",
       " 'her',\n",
       " 'about',\n",
       " 'if',\n",
       " 'some',\n",
       " 'what',\n",
       " 'out',\n",
       " 'there',\n",
       " 'when',\n",
       " 'very',\n",
       " 'more',\n",
       " 'she',\n",
       " 'even',\n",
       " 'my',\n",
       " 'would',\n",
       " 'good',\n",
       " 'only',\n",
       " 'no',\n",
       " 'their',\n",
       " 'really',\n",
       " 'had',\n",
       " 'which',\n",
       " 'can',\n",
       " 'up',\n",
       " 'were',\n",
       " 'see',\n",
       " 'than',\n",
       " 'we',\n",
       " '-',\n",
       " 'been',\n",
       " 'into',\n",
       " 'get',\n",
       " 'will',\n",
       " 'much',\n",
       " 'because',\n",
       " 'story',\n",
       " 'most',\n",
       " 'how',\n",
       " 'other',\n",
       " 'first',\n",
       " 'also',\n",
       " \"don't\",\n",
       " 'its',\n",
       " 'do',\n",
       " 'time',\n",
       " 'great',\n",
       " 'me',\n",
       " 'people',\n",
       " 'make',\n",
       " 'could',\n",
       " 'any',\n",
       " 'after',\n",
       " 'then',\n",
       " 'made',\n",
       " 'bad',\n",
       " 'think',\n",
       " 'many',\n",
       " 'being',\n",
       " 'it.',\n",
       " 'him',\n",
       " 'never',\n",
       " 'two',\n",
       " 'too',\n",
       " 'little',\n",
       " 'where',\n",
       " 'movie.',\n",
       " 'well',\n",
       " 'way',\n",
       " 'watch',\n",
       " 'your',\n",
       " 'did',\n",
       " 'does',\n",
       " 'best',\n",
       " 'them',\n",
       " 'seen',\n",
       " 'know',\n",
       " 'love',\n",
       " 'these',\n",
       " 'characters',\n",
       " 'movies',\n",
       " 'character',\n",
       " 'film.',\n",
       " 'still',\n",
       " 'ever',\n",
       " 'over',\n",
       " 'while',\n",
       " 'should',\n",
       " 'such',\n",
       " 'films',\n",
       " 'plot',\n",
       " 'acting',\n",
       " 'show',\n",
       " 'those',\n",
       " 'go',\n",
       " 'off',\n",
       " 'better',\n",
       " 'through',\n",
       " 'why',\n",
       " \"doesn't\",\n",
       " \"i'm\",\n",
       " 'something',\n",
       " 'say',\n",
       " \"didn't\",\n",
       " 'makes',\n",
       " 'watching',\n",
       " 'back',\n",
       " 'scene',\n",
       " 'film,',\n",
       " 'real',\n",
       " 'find',\n",
       " 'new',\n",
       " 'movie,',\n",
       " 'few',\n",
       " 'every',\n",
       " 'actually',\n",
       " 'man',\n",
       " 'scenes',\n",
       " 'life',\n",
       " 'another',\n",
       " 'going',\n",
       " 'nothing',\n",
       " 'same',\n",
       " 'look',\n",
       " 'quite',\n",
       " 'lot',\n",
       " 'old',\n",
       " 'want',\n",
       " 'end',\n",
       " 'pretty',\n",
       " 'thing',\n",
       " 'seems',\n",
       " 'got',\n",
       " '&',\n",
       " 'before',\n",
       " \"can't\",\n",
       " 'take',\n",
       " 'years',\n",
       " 'part',\n",
       " 'give',\n",
       " 'actors',\n",
       " 'young',\n",
       " 'may',\n",
       " \"i've\",\n",
       " \"that's\",\n",
       " 'between',\n",
       " 'though',\n",
       " 'us',\n",
       " 'now',\n",
       " 'without',\n",
       " 'both',\n",
       " 'things',\n",
       " 'director',\n",
       " 'gets',\n",
       " 'here',\n",
       " 'big',\n",
       " 'around',\n",
       " 'thought',\n",
       " 'saw',\n",
       " 'almost',\n",
       " 'it,',\n",
       " \"isn't\",\n",
       " 'always',\n",
       " 'must',\n",
       " \"there's\",\n",
       " 'come',\n",
       " 'own',\n",
       " 'work',\n",
       " 'whole',\n",
       " 'cast',\n",
       " 'horror',\n",
       " 'down',\n",
       " 'might',\n",
       " \"he's\",\n",
       " '\"the',\n",
       " 'bit',\n",
       " 'least',\n",
       " 'probably',\n",
       " 'enough',\n",
       " 'last',\n",
       " 'since',\n",
       " 'feel',\n",
       " 'original',\n",
       " 'am',\n",
       " 'rather',\n",
       " 'long',\n",
       " 'far',\n",
       " 'fact',\n",
       " 'kind',\n",
       " 'however,',\n",
       " 'each',\n",
       " 'funny',\n",
       " 'world',\n",
       " 'having',\n",
       " 'found',\n",
       " 'anything',\n",
       " 'our',\n",
       " 'worst',\n",
       " 'comes',\n",
       " 'making',\n",
       " 'trying',\n",
       " 'action',\n",
       " 'right',\n",
       " 'interesting',\n",
       " 'done',\n",
       " 'point',\n",
       " 'believe',\n",
       " 'looks',\n",
       " 'guy',\n",
       " 'put',\n",
       " 'goes',\n",
       " 'family',\n",
       " 'anyone',\n",
       " 'played',\n",
       " 'time.',\n",
       " 'main',\n",
       " 'series',\n",
       " 'hard',\n",
       " \"wasn't\",\n",
       " 'although',\n",
       " 'yet',\n",
       " 'role',\n",
       " 'worth',\n",
       " 'especially',\n",
       " 'music',\n",
       " 'seem',\n",
       " 'script',\n",
       " 'performance',\n",
       " 'plays',\n",
       " 'takes',\n",
       " 'sure',\n",
       " 'looking',\n",
       " 'watched',\n",
       " 'during',\n",
       " 'someone',\n",
       " 'minutes',\n",
       " 'maybe',\n",
       " 'different',\n",
       " 'tv',\n",
       " 'three',\n",
       " 'set',\n",
       " 'woman',\n",
       " 'away',\n",
       " 'times',\n",
       " 'shows',\n",
       " 'everything',\n",
       " 'comedy',\n",
       " 'girl',\n",
       " 'once',\n",
       " 'john',\n",
       " 'left',\n",
       " 'seeing',\n",
       " 'simply',\n",
       " \"you're\",\n",
       " 'well,',\n",
       " 'american',\n",
       " 'fun',\n",
       " 'special',\n",
       " 'everyone',\n",
       " 'completely',\n",
       " 'true',\n",
       " 'play',\n",
       " 'again',\n",
       " 'reason',\n",
       " 'read',\n",
       " 'given',\n",
       " 'used',\n",
       " 'need',\n",
       " 'nice',\n",
       " 'until',\n",
       " 'beautiful',\n",
       " 'use',\n",
       " 'high',\n",
       " 'truly',\n",
       " 'sense',\n",
       " 'place',\n",
       " '--',\n",
       " 'idea',\n",
       " 'try',\n",
       " 'help',\n",
       " 'version',\n",
       " 'rest',\n",
       " 'less',\n",
       " 'black',\n",
       " 'dvd',\n",
       " 'money',\n",
       " 'second',\n",
       " 'came',\n",
       " 'job',\n",
       " 'excellent',\n",
       " 'recommend',\n",
       " 'ending',\n",
       " 'instead',\n",
       " 'let',\n",
       " 'tell',\n",
       " 'shot',\n",
       " 'getting',\n",
       " 'keep',\n",
       " 'full',\n",
       " 'actor',\n",
       " '(and',\n",
       " 'poor',\n",
       " 'gives',\n",
       " 'said',\n",
       " 'half',\n",
       " 'enjoy',\n",
       " 'definitely',\n",
       " 'couple',\n",
       " 'day',\n",
       " 'himself',\n",
       " 'playing',\n",
       " 'supposed',\n",
       " 'along',\n",
       " 'early',\n",
       " 'audience',\n",
       " 'them.',\n",
       " 'become',\n",
       " 'perhaps',\n",
       " 'felt',\n",
       " 'remember',\n",
       " 'later',\n",
       " 'understand',\n",
       " 'effects',\n",
       " 'all,',\n",
       " 'small',\n",
       " \"couldn't\",\n",
       " 'absolutely',\n",
       " 'entire',\n",
       " 'book',\n",
       " 'next',\n",
       " 'together',\n",
       " 'liked',\n",
       " 'star',\n",
       " 'against',\n",
       " 'wife',\n",
       " 'went',\n",
       " 'fan',\n",
       " 'doing',\n",
       " 'start',\n",
       " 'often',\n",
       " 'hollywood',\n",
       " 'certainly',\n",
       " 'year',\n",
       " '2',\n",
       " 'several',\n",
       " 'screen',\n",
       " '(the',\n",
       " \"she's\",\n",
       " 'waste',\n",
       " 'time,',\n",
       " 'sort',\n",
       " 'night',\n",
       " 'human',\n",
       " '10',\n",
       " 'is,',\n",
       " 'becomes',\n",
       " 'wonderful',\n",
       " 'short',\n",
       " 'one.',\n",
       " 'loved',\n",
       " 'seemed',\n",
       " 'kids',\n",
       " '.',\n",
       " 'men',\n",
       " '\\x96',\n",
       " 'piece',\n",
       " 'him.',\n",
       " 'war',\n",
       " 'this.',\n",
       " 'classic',\n",
       " 'father',\n",
       " 'house',\n",
       " \"i'd\",\n",
       " 'despite',\n",
       " 'production',\n",
       " 'me.',\n",
       " 'home',\n",
       " 'camera',\n",
       " 'hope',\n",
       " 'else',\n",
       " 'wanted',\n",
       " 'women',\n",
       " 'totally',\n",
       " 'that,',\n",
       " 'based',\n",
       " 'live',\n",
       " 'performances',\n",
       " 'final',\n",
       " 'course',\n",
       " 'lost',\n",
       " 'top',\n",
       " 'story.',\n",
       " 'well.',\n",
       " \"you'll\",\n",
       " 'tries',\n",
       " 'mind',\n",
       " 'line',\n",
       " 'video',\n",
       " 'able',\n",
       " 'wants',\n",
       " 'called',\n",
       " 'perfect',\n",
       " 'friends',\n",
       " 'all.',\n",
       " 'finally',\n",
       " 'under',\n",
       " \"they're\",\n",
       " 'gave',\n",
       " 'death',\n",
       " 'already',\n",
       " 'enjoyed',\n",
       " 'story,',\n",
       " 'either',\n",
       " 'good.',\n",
       " 'turn',\n",
       " 'person',\n",
       " 'name',\n",
       " 'sex',\n",
       " 'written',\n",
       " 'turns',\n",
       " 'episode',\n",
       " 'care',\n",
       " 'life.',\n",
       " 'starts',\n",
       " 'dead',\n",
       " 'problem',\n",
       " \"won't\",\n",
       " 'low',\n",
       " 'and,',\n",
       " 'stupid',\n",
       " 'this,',\n",
       " 'school',\n",
       " 'mean',\n",
       " 'face',\n",
       " 'behind',\n",
       " 'title',\n",
       " 'michael',\n",
       " 'moments',\n",
       " 'favorite',\n",
       " 'lead',\n",
       " 'sound',\n",
       " 'lines',\n",
       " 'stars',\n",
       " 'white',\n",
       " 'head',\n",
       " 'guess',\n",
       " 'took',\n",
       " 'cannot',\n",
       " 'highly',\n",
       " 'budget',\n",
       " 'fine',\n",
       " 'terrible',\n",
       " 'me,',\n",
       " 'kill',\n",
       " 'extremely',\n",
       " 'others',\n",
       " 'sometimes',\n",
       " 'throughout',\n",
       " 'movies.',\n",
       " 'dialogue',\n",
       " 'evil',\n",
       " 'obviously',\n",
       " 'lack',\n",
       " 'beginning',\n",
       " \"film's\",\n",
       " 'fans',\n",
       " \"wouldn't\",\n",
       " 'style',\n",
       " 'boring',\n",
       " 'heard',\n",
       " 'that.',\n",
       " 'dark',\n",
       " 'directed',\n",
       " 'feeling',\n",
       " 'mr.',\n",
       " 'itself',\n",
       " 'lives',\n",
       " 'decent',\n",
       " 'soon',\n",
       " 'works',\n",
       " 'expect',\n",
       " 'good,',\n",
       " 'bad.',\n",
       " 'here.',\n",
       " 'killer',\n",
       " 'boy',\n",
       " 'particularly',\n",
       " 'looked',\n",
       " 'late',\n",
       " 'amazing',\n",
       " 'case',\n",
       " 'attempt',\n",
       " 'friend',\n",
       " 'course,',\n",
       " 'leave',\n",
       " 'save',\n",
       " 'fight',\n",
       " 'wrong',\n",
       " 'picture',\n",
       " 'mother',\n",
       " 'quality',\n",
       " 'out.',\n",
       " 'entertaining',\n",
       " 'thinking',\n",
       " 'complete',\n",
       " 'awful',\n",
       " 'viewer',\n",
       " 'taken',\n",
       " 'guys',\n",
       " 'exactly',\n",
       " 'close',\n",
       " 'except',\n",
       " 'writing',\n",
       " 'again.',\n",
       " 'run',\n",
       " 'finds',\n",
       " 'whose',\n",
       " 'james',\n",
       " 'wonder',\n",
       " '3',\n",
       " 'somewhat',\n",
       " 'living',\n",
       " 'number',\n",
       " 'end.',\n",
       " 'strong',\n",
       " 'across',\n",
       " 'police',\n",
       " 'worse',\n",
       " 'told',\n",
       " 'direction',\n",
       " 'coming',\n",
       " 'says',\n",
       " 'opening',\n",
       " 'movies,',\n",
       " 'way.',\n",
       " 'shown',\n",
       " 'obvious',\n",
       " 'usually',\n",
       " \"i'll\",\n",
       " 'running',\n",
       " 'parts',\n",
       " 'laugh',\n",
       " 'car',\n",
       " 'taking',\n",
       " 'films,',\n",
       " 'past',\n",
       " 'type',\n",
       " 'side',\n",
       " 'none',\n",
       " 'wish',\n",
       " 'is.',\n",
       " 'huge',\n",
       " 'group',\n",
       " 'yes,',\n",
       " 'acting,',\n",
       " 'major',\n",
       " 'supporting',\n",
       " 'children',\n",
       " 'act',\n",
       " 'stop',\n",
       " 'girls',\n",
       " 'turned',\n",
       " 'hour',\n",
       " 'tells',\n",
       " 'known',\n",
       " 'started',\n",
       " 'local',\n",
       " 'david',\n",
       " 'knew',\n",
       " 'again,',\n",
       " 'here,',\n",
       " 'due',\n",
       " 'her.',\n",
       " 'myself',\n",
       " 'stories',\n",
       " 'killed',\n",
       " 'so,',\n",
       " \"aren't\",\n",
       " 'town',\n",
       " 'single',\n",
       " 'happens',\n",
       " 'game',\n",
       " 'female',\n",
       " 'bring',\n",
       " 'brilliant',\n",
       " 'cinema',\n",
       " 'call',\n",
       " 'robert',\n",
       " 'clearly',\n",
       " 'including',\n",
       " ',',\n",
       " 'way,',\n",
       " 'films.',\n",
       " 'whether',\n",
       " 'son',\n",
       " 'british',\n",
       " 'mostly',\n",
       " 'seen.',\n",
       " 'fact,',\n",
       " 'however',\n",
       " 'actress',\n",
       " 'overall',\n",
       " '!',\n",
       " 'talking',\n",
       " 'art',\n",
       " 'hit',\n",
       " 'voice',\n",
       " 'humor',\n",
       " 'on.',\n",
       " 'child',\n",
       " 'giving',\n",
       " 'involved',\n",
       " 'history',\n",
       " 'characters,',\n",
       " 'one,',\n",
       " 'musical',\n",
       " 'order',\n",
       " 'ends',\n",
       " 'saying',\n",
       " 'falls',\n",
       " 'easily',\n",
       " 'end,',\n",
       " 'heart',\n",
       " 'drama',\n",
       " 'but,',\n",
       " 'serious',\n",
       " 'matter',\n",
       " 'beyond',\n",
       " 'horrible',\n",
       " 'bad,',\n",
       " 'eyes',\n",
       " 'relationship',\n",
       " 'nearly',\n",
       " 'modern',\n",
       " 'cut',\n",
       " 'feels',\n",
       " 'chance',\n",
       " 'five',\n",
       " 'kid',\n",
       " 'needs',\n",
       " 'actual',\n",
       " 'similar',\n",
       " \"haven't\",\n",
       " 'upon',\n",
       " 'themselves',\n",
       " 'important',\n",
       " 'appears',\n",
       " 'too.',\n",
       " 'example',\n",
       " 'using',\n",
       " 'moment',\n",
       " 'change',\n",
       " 'four',\n",
       " 'comic',\n",
       " 'simple',\n",
       " 'strange',\n",
       " 'within',\n",
       " 'knows',\n",
       " 'basically',\n",
       " 'lots',\n",
       " 'happened',\n",
       " 'released',\n",
       " 'named',\n",
       " 'funny.',\n",
       " 'among',\n",
       " 'usual',\n",
       " 'english',\n",
       " 'also,',\n",
       " 'slow',\n",
       " 'mention',\n",
       " 'certain',\n",
       " 'romantic',\n",
       " 'typical',\n",
       " 'stuff',\n",
       " 'characters.',\n",
       " 'near',\n",
       " 'kept',\n",
       " 'bunch',\n",
       " '(i',\n",
       " 'jack',\n",
       " 'interest',\n",
       " 'city',\n",
       " 'apparently',\n",
       " 'showing',\n",
       " 'hours',\n",
       " 'blood',\n",
       " 'plot,',\n",
       " 'george',\n",
       " 'brought',\n",
       " 'please',\n",
       " 'murder',\n",
       " 'miss',\n",
       " 'fall',\n",
       " \"what's\",\n",
       " 'days',\n",
       " 'song',\n",
       " 'add',\n",
       " 'tried',\n",
       " 'body',\n",
       " 'richard',\n",
       " 'paul',\n",
       " 'middle',\n",
       " 'him,',\n",
       " 'greatest',\n",
       " 'stay',\n",
       " 'life,',\n",
       " 'sad',\n",
       " 'happy',\n",
       " 'events',\n",
       " 'score',\n",
       " 'yourself',\n",
       " 'talk',\n",
       " 'better.',\n",
       " 'working',\n",
       " 'cheap',\n",
       " 'shots',\n",
       " '(as',\n",
       " 'decided',\n",
       " 'buy',\n",
       " 'begins',\n",
       " 'oh',\n",
       " 'age',\n",
       " 'there.',\n",
       " 'surprised',\n",
       " 'hear',\n",
       " 'french',\n",
       " 'brother',\n",
       " 'alone',\n",
       " 'famous',\n",
       " 'hate',\n",
       " 'became',\n",
       " 'work.',\n",
       " 'daughter',\n",
       " 'annoying',\n",
       " 'peter',\n",
       " 'learn',\n",
       " \"you've\",\n",
       " 'happen',\n",
       " 'ten',\n",
       " '(which',\n",
       " 'show.',\n",
       " '1',\n",
       " 'songs',\n",
       " 'sit',\n",
       " 'de',\n",
       " 'jokes',\n",
       " 'watch.',\n",
       " 'nor',\n",
       " 'easy',\n",
       " 'above',\n",
       " 'sets',\n",
       " 'documentary',\n",
       " 'light',\n",
       " 'view',\n",
       " 'up.',\n",
       " 'sexual',\n",
       " 'possibly',\n",
       " 'experience',\n",
       " 'cinematography',\n",
       " \"who's\",\n",
       " 'you.',\n",
       " 'king',\n",
       " 'hell',\n",
       " 'funny,',\n",
       " 'straight',\n",
       " 'sequence',\n",
       " 'attention',\n",
       " 'now,',\n",
       " 'unfortunately',\n",
       " 'power',\n",
       " 'stand',\n",
       " 'avoid',\n",
       " 'red',\n",
       " 'meets',\n",
       " 'hand',\n",
       " 'gore',\n",
       " 'episodes',\n",
       " 'word',\n",
       " 'god',\n",
       " 'difficult',\n",
       " 'japanese',\n",
       " 'husband',\n",
       " 'tom',\n",
       " 'elements',\n",
       " 'clear',\n",
       " 'violence',\n",
       " 'poorly',\n",
       " 'somehow',\n",
       " 'leaves',\n",
       " 'keeps',\n",
       " 'unfortunately,',\n",
       " 'realize',\n",
       " 'television',\n",
       " 'means',\n",
       " 'eventually',\n",
       " '5',\n",
       " 'ones',\n",
       " 'genre',\n",
       " 'roles',\n",
       " 'rent',\n",
       " 'flick',\n",
       " 'cool',\n",
       " 'character,',\n",
       " 'possible',\n",
       " 'out,',\n",
       " 'figure',\n",
       " 'towards',\n",
       " 'imagine',\n",
       " 'silly',\n",
       " 'reality',\n",
       " 'filmed',\n",
       " 'them,',\n",
       " 'reading',\n",
       " 'forget',\n",
       " 'scary',\n",
       " 'doubt',\n",
       " 'moving',\n",
       " 'move',\n",
       " 'check',\n",
       " 'brings',\n",
       " 'theme',\n",
       " 'rock',\n",
       " 'lady',\n",
       " 'killing',\n",
       " 'third',\n",
       " 'previous',\n",
       " 'on,',\n",
       " 'emotional',\n",
       " 'room',\n",
       " 'oscar',\n",
       " 'leads',\n",
       " '(or',\n",
       " 'say,',\n",
       " 'problems',\n",
       " 'deal',\n",
       " 'though,',\n",
       " 'review',\n",
       " 'novel',\n",
       " '4',\n",
       " 'talent',\n",
       " 'hero',\n",
       " 'comments',\n",
       " 'incredibly',\n",
       " 'leading',\n",
       " 'message',\n",
       " 'level',\n",
       " 'enjoyable',\n",
       " 'write',\n",
       " 'ridiculous',\n",
       " 'various',\n",
       " 'career',\n",
       " 'animation',\n",
       " 'writer',\n",
       " 'unless',\n",
       " 'plenty',\n",
       " 'meant',\n",
       " 'personal',\n",
       " 'needed',\n",
       " 'feature',\n",
       " 'gone',\n",
       " 'herself',\n",
       " 'future',\n",
       " 'total',\n",
       " 'meet',\n",
       " 'hardly',\n",
       " 'create',\n",
       " 'whom',\n",
       " 'begin',\n",
       " 'country',\n",
       " 'forced',\n",
       " 'theater',\n",
       " 'team',\n",
       " 'manages',\n",
       " \"let's\",\n",
       " 'fairly',\n",
       " 'particular',\n",
       " 'form',\n",
       " 'then,',\n",
       " 'hilarious',\n",
       " 'appear',\n",
       " 'points',\n",
       " 'viewers',\n",
       " 'people.',\n",
       " 'fast',\n",
       " 'fantastic',\n",
       " 'etc.',\n",
       " 'joe',\n",
       " 'interested',\n",
       " 'follow',\n",
       " 'years.',\n",
       " 'words',\n",
       " 'zombie',\n",
       " 'whatever',\n",
       " 'weak',\n",
       " 'effort',\n",
       " 'tale',\n",
       " 'sounds',\n",
       " 'expecting',\n",
       " 'dramatic',\n",
       " 'plot.',\n",
       " 'male',\n",
       " 'average',\n",
       " 'older',\n",
       " 'her,',\n",
       " 'lee',\n",
       " 'reviews',\n",
       " 'political',\n",
       " 'mystery',\n",
       " 'general',\n",
       " 'attempts',\n",
       " 'scenes,',\n",
       " 'york',\n",
       " 'subject',\n",
       " 'features',\n",
       " 'class',\n",
       " '(a',\n",
       " 'pay',\n",
       " 'up,',\n",
       " 'crap',\n",
       " 'disney',\n",
       " 'unlike',\n",
       " 'scene,',\n",
       " 'scenes.',\n",
       " 'worked',\n",
       " 'man,',\n",
       " 'made.',\n",
       " 'dance',\n",
       " 'decides',\n",
       " 'premise',\n",
       " 'plain',\n",
       " '...',\n",
       " 'badly',\n",
       " \"'the\",\n",
       " 'it!',\n",
       " 'more.',\n",
       " 'minute',\n",
       " 'ask',\n",
       " 'wait',\n",
       " 'viewing',\n",
       " '20',\n",
       " 'open',\n",
       " 'dialog',\n",
       " 'screen.',\n",
       " 'expected',\n",
       " 'be.',\n",
       " 'social',\n",
       " 'eye',\n",
       " 'uses',\n",
       " 'deep',\n",
       " 'considering',\n",
       " '(who',\n",
       " 'world.',\n",
       " 'storyline',\n",
       " 'forward',\n",
       " 'directors',\n",
       " 'writers',\n",
       " 'there,',\n",
       " 'front',\n",
       " 'waiting',\n",
       " 'crime',\n",
       " ...]"
      ]
     },
     "execution_count": 26,
     "metadata": {},
     "output_type": "execute_result"
    }
   ],
   "source": [
    "vectorize_layer.get_vocabulary()"
   ]
  },
  {
   "cell_type": "markdown",
   "id": "5dd289ef-b4ea-43f9-b059-4439e4a71888",
   "metadata": {},
   "source": [
    "- Probar vectorize_layer con batch de prueba"
   ]
  },
  {
   "cell_type": "code",
   "execution_count": 27,
   "id": "5a5741fa-1582-4479-9697-9aa424da11be",
   "metadata": {},
   "outputs": [
    {
     "data": {
      "text/plain": [
       "<tf.Tensor: shape=(1, 20), dtype=int64, numpy=\n",
       "array([[ 1, 48,  0,  0,  0,  0,  0,  0,  0,  0,  0,  0,  0,  0,  0,  0,\n",
       "         0,  0,  0,  0]])>"
      ]
     },
     "execution_count": 27,
     "metadata": {},
     "output_type": "execute_result"
    }
   ],
   "source": [
    "test_batch = tf.constant([['Hi there']])\n",
    "vectorize_layer(test_batch)"
   ]
  },
  {
   "cell_type": "markdown",
   "id": "71657c1a-4c1f-4ced-8e01-2639c615c482",
   "metadata": {},
   "source": [
    "![alt text](../img/rnn.png \"Title\")\n",
    "__Imagen tomada de Goodfellow, I., Bengio, Y., & Courville, A. (2016). Deep learning. MIT press.__"
   ]
  },
  {
   "cell_type": "code",
   "execution_count": 28,
   "id": "59d56968-9a5f-4dec-adaf-a4e7d8f66f91",
   "metadata": {},
   "outputs": [],
   "source": [
    "rnn = tf.keras.Sequential([\n",
    "    vectorize_layer,\n",
    "    tf.keras.layers.Embedding(\n",
    "        input_dim=voc_size, output_dim=128),\n",
    "    tf.keras.layers.SimpleRNN(128),\n",
    "    tf.keras.layers.Dense(1)\n",
    "])"
   ]
  },
  {
   "cell_type": "markdown",
   "id": "3ea47915-00bb-42f5-81e4-d33d3e37b4be",
   "metadata": {},
   "source": [
    "- Probar rnn con batch de prueba"
   ]
  },
  {
   "cell_type": "code",
   "execution_count": 29,
   "id": "aa876b8a-c6fa-4c9d-8819-476b70288bc9",
   "metadata": {},
   "outputs": [
    {
     "data": {
      "text/plain": [
       "<tf.Tensor: shape=(1, 1), dtype=float32, numpy=array([[0.00087483]], dtype=float32)>"
      ]
     },
     "execution_count": 29,
     "metadata": {},
     "output_type": "execute_result"
    }
   ],
   "source": [
    "rnn(test_batch)"
   ]
  },
  {
   "cell_type": "markdown",
   "id": "ddfca56a-eb6d-418c-9b11-4a5300ab9bd1",
   "metadata": {},
   "source": [
    "- Información del modelo"
   ]
  },
  {
   "cell_type": "code",
   "execution_count": 30,
   "id": "a315c30f-f107-43fa-b5d6-1a4334ff0c3e",
   "metadata": {},
   "outputs": [
    {
     "name": "stdout",
     "output_type": "stream",
     "text": [
      "Model: \"sequential\"\n",
      "_________________________________________________________________\n",
      " Layer (type)                Output Shape              Param #   \n",
      "=================================================================\n",
      " text_vectorization (TextVec  (None, 20)               0         \n",
      " torization)                                                     \n",
      "                                                                 \n",
      " embedding (Embedding)       (None, 20, 128)           640000    \n",
      "                                                                 \n",
      " simple_rnn (SimpleRNN)      (None, 128)               32896     \n",
      "                                                                 \n",
      " dense (Dense)               (None, 1)                 129       \n",
      "                                                                 \n",
      "=================================================================\n",
      "Total params: 673,025\n",
      "Trainable params: 673,025\n",
      "Non-trainable params: 0\n",
      "_________________________________________________________________\n"
     ]
    }
   ],
   "source": [
    "rnn.summary()"
   ]
  },
  {
   "cell_type": "markdown",
   "id": "78948806-9b9b-4a4b-960b-e3668b750240",
   "metadata": {},
   "source": [
    "## Entrenamiento "
   ]
  },
  {
   "cell_type": "markdown",
   "id": "407fc7b0-f9b4-4662-9c3c-e567dd65c562",
   "metadata": {},
   "source": [
    "- Compilar modelo con oprimizador y función de pérdida"
   ]
  },
  {
   "cell_type": "code",
   "execution_count": 31,
   "id": "1f299f93-f2ac-4964-a2fb-bdfd7668217e",
   "metadata": {},
   "outputs": [],
   "source": [
    "rnn.compile(loss=tf.keras.losses.BinaryCrossentropy(from_logits=True),\n",
    "            optimizer='sgd',\n",
    "            metrics=['accuracy'])"
   ]
  },
  {
   "cell_type": "code",
   "execution_count": 32,
   "id": "a761811b-6555-43e6-ae7a-031c50781aab",
   "metadata": {},
   "outputs": [],
   "source": [
    "epochs = 3"
   ]
  },
  {
   "cell_type": "code",
   "execution_count": 33,
   "id": "2901f270-12c3-4892-bc8a-7be573b6e4fa",
   "metadata": {},
   "outputs": [
    {
     "name": "stdout",
     "output_type": "stream",
     "text": [
      "Epoch 1/3\n",
      "1563/1563 [==============================] - 19s 12ms/step - loss: 0.6908 - accuracy: 0.5034 - val_loss: 0.6863 - val_accuracy: 0.5181\n",
      "Epoch 2/3\n",
      "1563/1563 [==============================] - 19s 12ms/step - loss: 0.6742 - accuracy: 0.5349 - val_loss: 0.6715 - val_accuracy: 0.5324\n",
      "Epoch 3/3\n",
      "1563/1563 [==============================] - 24s 15ms/step - loss: 0.6537 - accuracy: 0.5779 - val_loss: 0.6644 - val_accuracy: 0.5475\n"
     ]
    }
   ],
   "source": [
    "history = rnn.fit(train_ds, \n",
    "                  validation_data=test_ds,\n",
    "                  epochs=epochs)"
   ]
  },
  {
   "cell_type": "code",
   "execution_count": 34,
   "id": "b1421e6d-9deb-4c6c-9bfd-d43927cad734",
   "metadata": {},
   "outputs": [
    {
     "data": {
      "text/plain": [
       "{'loss': [0.6908324956893921, 0.674217939376831, 0.6536896228790283],\n",
       " 'accuracy': [0.5034000277519226, 0.5348799824714661, 0.5779200196266174],\n",
       " 'val_loss': [0.6863126754760742, 0.6715361475944519, 0.6644060015678406],\n",
       " 'val_accuracy': [0.5180799961090088, 0.5324400067329407, 0.5474799871444702]}"
      ]
     },
     "execution_count": 34,
     "metadata": {},
     "output_type": "execute_result"
    }
   ],
   "source": [
    "history.history"
   ]
  },
  {
   "cell_type": "code",
   "execution_count": 35,
   "id": "bbd7705e-cfbf-4cbd-8acd-a92728d8cbf7",
   "metadata": {},
   "outputs": [
    {
     "data": {
      "image/png": "[encoded data removed]",
      "text/plain": [
       "<Figure size 504x360 with 1 Axes>"
      ]
     },
     "metadata": {
      "needs_background": "light"
     },
     "output_type": "display_data"
    }
   ],
   "source": [
    "plt.figure(figsize=(7, 5))\n",
    "plt.plot(history.history['loss'])\n",
    "plt.plot(history.history['val_loss'])\n",
    "plt.ylabel('loss')\n",
    "plt.xlabel('epoch')\n",
    "plt.legend(['train', 'val'], loc='upper left')\n",
    "plt.show()"
   ]
  },
  {
   "cell_type": "code",
   "execution_count": 36,
   "id": "92cb0e58-be2d-4b9d-aadd-ebce617f9ab9",
   "metadata": {},
   "outputs": [
    {
     "data": {
      "image/png": "[encoded data removed]",
      "text/plain": [
       "<Figure size 504x360 with 1 Axes>"
      ]
     },
     "metadata": {
      "needs_background": "light"
     },
     "output_type": "display_data"
    }
   ],
   "source": [
    "plt.figure(figsize=(7, 5))\n",
    "plt.plot(history.history['accuracy'])\n",
    "plt.plot(history.history['val_accuracy'])\n",
    "plt.ylabel('accuracy')\n",
    "plt.xlabel('epoch')\n",
    "plt.legend(['train', 'val'], loc='upper left')\n",
    "plt.show()"
   ]
  },
  {
   "cell_type": "markdown",
   "id": "54db1fd1-c58c-465e-86b4-c9b3df117919",
   "metadata": {},
   "source": [
    "- Ejemplos tf.data https://www.tensorflow.org/guide/data"
   ]
  }
 ],
 "metadata": {
  "kernelspec": {
   "display_name": "Python 3 (ipykernel)",
   "language": "python",
   "name": "python3"
  },
  "language_info": {
   "codemirror_mode": {
    "name": "ipython",
    "version": 3
   },
   "file_extension": ".py",
   "mimetype": "text/x-python",
   "name": "python",
   "nbconvert_exporter": "python",
   "pygments_lexer": "ipython3",
   "version": "3.7.11"
  }
 },
 "nbformat": 4,
 "nbformat_minor": 5
}

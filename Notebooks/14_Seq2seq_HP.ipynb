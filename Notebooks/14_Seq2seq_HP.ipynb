{
 "cells": [
  {
   "cell_type": "code",
   "execution_count": 1,
   "metadata": {},
   "outputs": [],
   "source": [
    "# The MIT License (MIT) Copyright (c) 2025 Emilio Morales\n",
    "#\n",
    "# Permission is hereby granted, free of charge, to any person obtaining a copy of \n",
    "# this software and associated documentation files (the \"Software\"), to deal in the Software without \n",
    "# restriction, including without limitation the rights to use, copy, modify, merge, publish, \n",
    "# distribute, sublicense, and/or sell copies of the Software, and to permit persons to whom the \n",
    "# Software is furnished to do so, subject to the following conditions:\n",
    "#\n",
    "# The above copyright notice and this permission notice shall be included in all copies or \n",
    "# substantial portions of the Software.\n",
    "#\n",
    "# THE SOFTWARE IS PROVIDED \"AS IS\", WITHOUT WARRANTY OF ANY KIND, EXPRESS OR IMPLIED, \n",
    "# INCLUDING BUT NOT LIMITED TO THE WARRANTIES OF MERCHANTABILITY, FITNESS FOR A PARTICULAR PURPOSE AND \n",
    "# NONINFRINGEMENT. IN NO EVENT SHALL THE AUTHORS OR COPYRIGHT HOLDERS BE LIABLE FOR ANY CLAIM, DAMAGES \n",
    "# OR OTHER LIABILITY, WHETHER IN AN ACTION OF CONTRACT, TORT OR OTHERWISE, ARISING FROM, OUT OF OR IN \n",
    "# CONNECTION WITH THE SOFTWARE OR THE USE OR OTHER DEALINGS IN THE SOFTWARE."
   ]
  },
  {
   "cell_type": "markdown",
   "metadata": {},
   "source": [
    "<table class=\"tfo-notebook-buttons\" align=\"left\">\n",
    "  <td>\n",
    "    <a target=\"_blank\" href=\"https://colab.research.google.com/github/milmor/NLP/blob/main/Notebooks/14_Seq2seq_HP.ipynb\">\n",
    "    <img src=\"https://www.tensorflow.org/images/colab_logo_32px.png\" />\n",
    "    Run in Google Colab</a>\n",
    "  </td>\n",
    "</table>"
   ]
  },
  {
   "cell_type": "markdown",
   "metadata": {
    "id": "ty7Z3RRm2v0P"
   },
   "source": [
    "# Seq2seq\n",
    "- En este notebook se entrena un Seq2seq en el libro de Harry Potter.\n",
    "\n",
    "<img src=\"../img/seq-to-seq.png\" width=\"700\"/>\n",
    "\n",
    "__Imagen tomada de Sutskever, I., Vinyals, O., & Le, Q. V. (2014). Sequence to sequence learning with neural networks. Advances in neural information processing systems, 27.__\n",
    "\n",
    "- Harry Potter book: https://www.kaggle.com/datasets/shubhammaindola/harry-potter-books"
   ]
  },
  {
   "cell_type": "code",
   "execution_count": 2,
   "metadata": {},
   "outputs": [
    {
     "data": {
      "text/plain": [
       "('2.5.1+cu124', '3.6.0')"
      ]
     },
     "execution_count": 2,
     "metadata": {},
     "output_type": "execute_result"
    }
   ],
   "source": [
    "import os\n",
    "os.environ['TF_CPP_MIN_LOG_LEVEL'] = '3' # Disable tensorflow debugging logs\n",
    "os.environ[\"KERAS_BACKEND\"] = \"torch\"\n",
    "import keras\n",
    "import torch\n",
    "import pandas as pd\n",
    "import pathlib\n",
    "import random\n",
    "\n",
    "torch.__version__, keras.__version__"
   ]
  },
  {
   "cell_type": "code",
   "execution_count": 3,
   "metadata": {
    "id": "ryOL1_XG4ABQ"
   },
   "outputs": [
    {
     "data": {
      "text/plain": [
       "<torch._C.Generator at 0x718216b43470>"
      ]
     },
     "execution_count": 3,
     "metadata": {},
     "output_type": "execute_result"
    }
   ],
   "source": [
    "torch.manual_seed(77)"
   ]
  },
  {
   "cell_type": "markdown",
   "metadata": {},
   "source": [
    "## 1.- Conjuntos de datos"
   ]
  },
  {
   "cell_type": "code",
   "execution_count": 4,
   "metadata": {
    "scrolled": true
   },
   "outputs": [
    {
     "name": "stdout",
     "output_type": "stream",
     "text": [
      "Words: 439478\n"
     ]
    }
   ],
   "source": [
    "path = './01 Harry Potter and the Sorcerers Stone.txt'\n",
    "book = open(path, 'rb').read().decode(encoding='utf-8').lower()\n",
    "\n",
    "print(f'Words: {len(book)}')"
   ]
  },
  {
   "cell_type": "code",
   "execution_count": 5,
   "metadata": {},
   "outputs": [],
   "source": [
    "import re\n",
    "\n",
    "words = re.findall(r'\\b\\w+\\b|[\\.,;!?()\"\\']', book)"
   ]
  },
  {
   "cell_type": "code",
   "execution_count": 6,
   "metadata": {
    "scrolled": true
   },
   "outputs": [
    {
     "name": "stdout",
     "output_type": "stream",
     "text": [
      "('m r . and mrs . dursley , of number four , privet drive , were proud to say that they were perfectly normal , thank you very much . they were', 'the last people you d expect to be involved in anything strange or mysterious , because they just didn t hold with such nonsense . mr . dursley was the director of')\n",
      "('r . and mrs . dursley , of number four , privet drive , were proud to say that they were perfectly normal , thank you very much . they were', 'the last people you d expect to be involved in anything strange or mysterious , because they just didn t hold with such nonsense . mr . dursley was the director of')\n",
      "('. and mrs . dursley , of number four , privet drive , were proud to say that they were perfectly normal , thank you very much . they were', 'the last people you d expect to be involved in anything strange or mysterious , because they just didn t hold with such nonsense . mr . dursley was the director of')\n",
      "('and mrs . dursley , of number four , privet drive , were proud to say that they were perfectly normal , thank you very much . they were', 'the last people you d expect to be involved in anything strange or mysterious , because they just didn t hold with such nonsense . mr . dursley was the director of')\n",
      "('mrs . dursley , of number four , privet drive , were proud to say that they were perfectly normal , thank you very much . they were', 'the last people you d expect to be involved in anything strange or mysterious , because they just didn t hold with such nonsense . mr . dursley was the director of')\n"
     ]
    },
    {
     "data": {
      "text/plain": [
       "93344"
      ]
     },
     "execution_count": 6,
     "metadata": {},
     "output_type": "execute_result"
    }
   ],
   "source": [
    "maxlen = 32\n",
    "text_pairs = []\n",
    "for i in range(0, len(words), maxlen):\n",
    "    inp = words[i:i + maxlen]\n",
    "    out = words[i + maxlen :i + maxlen * 2]\n",
    "    text_pairs.append((' '.join(inp), ' '.join(out)))\n",
    "    for j in range(maxlen - 1):\n",
    "      text_pairs.append((' '.join(inp[j + 1:]), ' '.join(out)))\n",
    "\n",
    "for i in range(5):\n",
    "  print(text_pairs[i])\n",
    "\n",
    "len(text_pairs)"
   ]
  },
  {
   "cell_type": "markdown",
   "metadata": {
    "colab": {
     "base_uri": "https://localhost:8080/"
    },
    "id": "b4KjIrLz8Ryf",
    "outputId": "f4ace4f8-ec84-4556-cba5-87748562de3c"
   },
   "source": [
    "## 2.- Pipeline"
   ]
  },
  {
   "cell_type": "markdown",
   "metadata": {
    "id": "NWW4RxWhpAZf"
   },
   "source": [
    "- Crea vocabulario y define tokenizer."
   ]
  },
  {
   "cell_type": "code",
   "execution_count": 7,
   "metadata": {},
   "outputs": [
    {
     "name": "stdout",
     "output_type": "stream",
     "text": [
      "Token IDs: [2154, 109]\n",
      "Decoded Text: hello potter\n",
      "Vocabulary size: 5747\n"
     ]
    }
   ],
   "source": [
    "from tokenizers import Tokenizer\n",
    "from tokenizers.models import WordLevel\n",
    "from tokenizers.pre_tokenizers import Whitespace\n",
    "from tokenizers.trainers import WordLevelTrainer\n",
    "import os\n",
    "\n",
    "# Set environment variable to avoid tokenizers parallelism warning\n",
    "os.environ[\"TOKENIZERS_PARALLELISM\"] = \"false\"\n",
    "\n",
    "tokenizer = Tokenizer(WordLevel(unk_token=\"[UNK]\"))\n",
    "tokenizer.pre_tokenizer = Whitespace()\n",
    "\n",
    "trainer = WordLevelTrainer(special_tokens=[\"[UNK]\", \"[PAD]\", \"[BOS]\", \"[EOS]\"], min_frequency=1)\n",
    "\n",
    "tokenizer.train_from_iterator(text_pairs, trainer=trainer)\n",
    "\n",
    "text = \"hello potter\"\n",
    "encoding = tokenizer.encode(text)\n",
    "print(\"Token IDs:\", encoding.ids)\n",
    "decoded_text = tokenizer.decode(encoding.ids)\n",
    "print(\"Decoded Text:\", decoded_text)\n",
    "vocab_size = tokenizer.get_vocab_size()\n",
    "print(f\"Vocabulary size: {vocab_size}\")"
   ]
  },
  {
   "cell_type": "code",
   "execution_count": 8,
   "metadata": {},
   "outputs": [
    {
     "name": "stdout",
     "output_type": "stream",
     "text": [
      "90428\n"
     ]
    }
   ],
   "source": [
    "from torch.nn.utils.rnn import pad_sequence\n",
    "from torch.utils.data import DataLoader\n",
    "\n",
    "batch_size = 64\n",
    "PAD_IDX = tokenizer.token_to_id(\"[PAD]\") \n",
    "BOS_IDX = tokenizer.token_to_id(\"[BOS]\") \n",
    "EOS_IDX = tokenizer.token_to_id(\"[EOS]\") \n",
    "\n",
    "def data_process(text):\n",
    "    data = []\n",
    "    for enc_tensor, dec_tensor in text:\n",
    "        enc_tensor_ = torch.tensor(tokenizer.encode(enc_tensor).ids,\n",
    "                                dtype=torch.long)\n",
    "        dec_tensor_ = torch.tensor(tokenizer.encode(dec_tensor).ids,\n",
    "                                dtype=torch.long)\n",
    "\n",
    "        if enc_tensor_.shape[0] < maxlen:\n",
    "            data.append((enc_tensor_, dec_tensor_))\n",
    "    return data\n",
    "\n",
    "train_data = data_process(text_pairs)\n",
    "print(len(train_data))\n",
    "\n",
    "\n",
    "def generate_batch(data_batch):\n",
    "    x, y = [], []\n",
    "    for (x_item, y_item) in data_batch:\n",
    "        x.append(x_item)\n",
    "        y.append(torch.cat([\n",
    "            torch.tensor([BOS_IDX]), \n",
    "            y_item, \n",
    "            torch.tensor([EOS_IDX])], \n",
    "                           dim=0))\n",
    "\n",
    "    x = pad_sequence(x, batch_first=True, padding_value=PAD_IDX, padding_side='left')\n",
    "    y = pad_sequence(y, batch_first=True, padding_value=PAD_IDX)\n",
    "    return x, y[:, :-1], y[:, 1:]\n",
    "\n",
    "\n",
    "train_loader = DataLoader(train_data, batch_size=batch_size,\n",
    "                          shuffle=True, collate_fn=generate_batch, \n",
    "                          num_workers=4, pin_memory=True)"
   ]
  },
  {
   "cell_type": "code",
   "execution_count": 9,
   "metadata": {
    "colab": {
     "base_uri": "https://localhost:8080/"
    },
    "id": "u_N6IRYsT4ry",
    "outputId": "a1d1522d-c8db-493b-fc77-e3549aeeb40a",
    "scrolled": true
   },
   "outputs": [
    {
     "name": "stdout",
     "output_type": "stream",
     "text": [
      "74.4 ms ± 871 μs per loop (mean ± std. dev. of 7 runs, 10 loops each)\n"
     ]
    }
   ],
   "source": [
    "%%timeit\n",
    "enc_batch, dec_batch, target_batch = next(iter(train_loader))"
   ]
  },
  {
   "cell_type": "code",
   "execution_count": 10,
   "metadata": {
    "id": "aauQX2tFXD8K"
   },
   "outputs": [],
   "source": [
    "enc_batch, dec_batch, target_batch = next(iter(train_loader))"
   ]
  },
  {
   "cell_type": "code",
   "execution_count": 11,
   "metadata": {
    "colab": {
     "base_uri": "https://localhost:8080/"
    },
    "id": "ROw_9EjsT2Et",
    "outputId": "37555466-8faa-49bf-898e-e7374d2c66db"
   },
   "outputs": [
    {
     "data": {
      "text/plain": [
       "(torch.Size([64, 31]), torch.Size([64, 33]), torch.Size([64, 33]))"
      ]
     },
     "execution_count": 11,
     "metadata": {},
     "output_type": "execute_result"
    }
   ],
   "source": [
    "enc_batch.shape, dec_batch.shape, target_batch.shape"
   ]
  },
  {
   "cell_type": "code",
   "execution_count": 12,
   "metadata": {},
   "outputs": [
    {
     "data": {
      "text/plain": [
       "tensor([   1,    1,    1,    1,    1,    1,   22,    6,  733,  268,  181,    5,\n",
       "         114,   16,  137,   83, 1501,  362,  290,   13,    5,   85,    9,  164,\n",
       "         546,   26,    6, 1183,    5,   11,  122])"
      ]
     },
     "execution_count": 12,
     "metadata": {},
     "output_type": "execute_result"
    }
   ],
   "source": [
    "enc_batch[0]"
   ]
  },
  {
   "cell_type": "markdown",
   "metadata": {
    "id": "PZ7f4DHJreIj"
   },
   "source": [
    "## 3.- Modelo"
   ]
  },
  {
   "cell_type": "code",
   "execution_count": 13,
   "metadata": {},
   "outputs": [],
   "source": [
    "import torch.nn as nn\n",
    "from torch import optim\n",
    "import time"
   ]
  },
  {
   "cell_type": "code",
   "execution_count": 14,
   "metadata": {},
   "outputs": [],
   "source": [
    "emb_dim = 128\n",
    "model_dim = 256"
   ]
  },
  {
   "cell_type": "code",
   "execution_count": 15,
   "metadata": {},
   "outputs": [
    {
     "data": {
      "text/plain": [
       "torch.Size([1, 64, 256])"
      ]
     },
     "execution_count": 15,
     "metadata": {},
     "output_type": "execute_result"
    }
   ],
   "source": [
    "class Encoder(nn.Module):\n",
    "    def __init__(self, vocab_size, emb_dim=256, model_dim=512):\n",
    "        super(Encoder, self).__init__()\n",
    "        self.embedding = nn.Embedding(vocab_size, emb_dim)\n",
    "        self.rnn = nn.LSTM(input_size=emb_dim, \n",
    "                        hidden_size=model_dim, \n",
    "                        num_layers=1, \n",
    "                        batch_first=True)\n",
    "        \n",
    "    def forward(self, x):\n",
    "        x = self.embedding(x)\n",
    "        x, (hidden, cell) = self.rnn(x)\n",
    "        return (hidden, cell) \n",
    "\n",
    "encoder = Encoder(vocab_size, emb_dim, model_dim)\n",
    "state_batch = encoder(enc_batch)\n",
    "state_batch[0].shape"
   ]
  },
  {
   "cell_type": "code",
   "execution_count": 16,
   "metadata": {},
   "outputs": [
    {
     "data": {
      "text/plain": [
       "(torch.Size([64, 33, 5747]), torch.Size([64, 33]))"
      ]
     },
     "execution_count": 16,
     "metadata": {},
     "output_type": "execute_result"
    }
   ],
   "source": [
    "class Decoder(nn.Module):\n",
    "    def __init__(self, vocab_size, emb_dim=256, model_dim=512):\n",
    "        super(Decoder, self).__init__()\n",
    "        self.embedding = nn.Embedding(vocab_size, emb_dim)\n",
    "        self.rnn = nn.LSTM(input_size=emb_dim, \n",
    "                        hidden_size=model_dim, \n",
    "                        num_layers=1, \n",
    "                        batch_first=True)\n",
    "        self.fc1 = nn.Linear(model_dim, vocab_size)\n",
    "        \n",
    "    def forward(self, x, state):\n",
    "        x = self.embedding(x)\n",
    "        x, (hidden, cell) = self.rnn(x, state)\n",
    "        x = self.fc1(x)\n",
    "        return x\n",
    "\n",
    "decoder = Decoder(vocab_size, emb_dim, model_dim)\n",
    "output_batch = decoder(dec_batch, state_batch)\n",
    "output_batch.shape, target_batch.shape"
   ]
  },
  {
   "cell_type": "code",
   "execution_count": 17,
   "metadata": {},
   "outputs": [
    {
     "data": {
      "text/plain": [
       "torch.Size([64, 33, 5747])"
      ]
     },
     "execution_count": 17,
     "metadata": {},
     "output_type": "execute_result"
    }
   ],
   "source": [
    "class Seq2seq(nn.Module):\n",
    "    def __init__(self, encoder, decoder):\n",
    "        super(Seq2seq, self).__init__()\n",
    "        self.encoder = encoder\n",
    "        self.decoder = decoder\n",
    "\n",
    "    def forward(self, inp, tar):\n",
    "        state = self.encoder(inp)\n",
    "        x = self.decoder(tar, state)\n",
    "        return x\n",
    "\n",
    "seq2seq = Seq2seq(encoder, decoder)\n",
    "output_batch = seq2seq(enc_batch, dec_batch)\n",
    "output_batch.shape"
   ]
  },
  {
   "cell_type": "markdown",
   "metadata": {
    "id": "MsJbLyZ6b_57"
   },
   "source": [
    "## 4.- Entrenamiento"
   ]
  },
  {
   "cell_type": "code",
   "execution_count": 18,
   "metadata": {},
   "outputs": [],
   "source": [
    "loss_fn = torch.nn.CrossEntropyLoss(ignore_index=PAD_IDX)"
   ]
  },
  {
   "cell_type": "code",
   "execution_count": 19,
   "metadata": {
    "id": "R5bmAldOcJn0"
   },
   "outputs": [],
   "source": [
    "def train(model, device, train_loader, optimizer, epoch):\n",
    "    start = time.time()\n",
    "    running_loss = 0.0\n",
    "    model.train()\n",
    "    for inp_enc, inp_dec, tar_dec in train_loader:\n",
    "        tar_dec = tar_dec.reshape(-1)\n",
    "        inp_enc = inp_enc.to(device)\n",
    "        inp_dec = inp_dec.to(device)\n",
    "        tar_dec = tar_dec.to(device)\n",
    "        \n",
    "        # zero the parameter gradients\n",
    "        optimizer.zero_grad()\n",
    "\n",
    "        # forward + backward + optimize\n",
    "        outputs = model(inp_enc, inp_dec)\n",
    "        outputs = outputs.view(-1, outputs.size(-1))\n",
    "        loss = loss_fn(outputs, tar_dec)\n",
    "        loss.backward()\n",
    "        optimizer.step()\n",
    "\n",
    "        running_loss += loss.item()\n",
    "\n",
    "    print(f'\\nTime for epoch {epoch} is {time.time()-start:.4f} sec Train loss: {running_loss / len(train_loader):.4f}')"
   ]
  },
  {
   "cell_type": "code",
   "execution_count": 20,
   "metadata": {
    "scrolled": true
   },
   "outputs": [],
   "source": [
    "def translate(model, sentence, device):\n",
    "    with torch.no_grad():\n",
    "        model.eval()\n",
    "        encoding = tokenizer.encode(sentence)\n",
    "        input_ids = encoding.ids\n",
    "\n",
    "        padding_length = maxlen - len(input_ids)\n",
    "        input_ids = ([tokenizer.token_to_id(\"[PAD]\")] * padding_length) + input_ids \n",
    "        eng_idx = torch.tensor(input_ids, dtype=torch.long)\n",
    "        eng_idx = eng_idx.reshape([1, -1])\n",
    "        spa_idx = torch.tensor(BOS_IDX, dtype=torch.long)\n",
    "        spa_idx = spa_idx.reshape([1, -1])\n",
    "        \n",
    "        while spa_idx[:, -1] != EOS_IDX:\n",
    "            eng_idx = eng_idx.to(device)\n",
    "            spa_idx = spa_idx.to(device)\n",
    "            logits = model(eng_idx, spa_idx)[:, -1, :]  \n",
    "            probs = torch.softmax(logits, dim=-1)\n",
    "\n",
    "            _, idx_next = torch.topk(probs, k=1, dim=-1)\n",
    "            spa_idx = torch.cat((spa_idx, idx_next), dim=1)\n",
    "\n",
    "        output = \" \".join([tokenizer.id_to_token(_) for _ in spa_idx[0]])\n",
    "        output = output.replace(\"[BOS]\", \"\").replace(\"[EOS]\", \"\")\n",
    "    print(f'Input: {sentence}')\n",
    "    print(f'Output: {output}')"
   ]
  },
  {
   "cell_type": "code",
   "execution_count": 21,
   "metadata": {
    "colab": {
     "base_uri": "https://localhost:8080/"
    },
    "id": "EvsuJHMBlm9y",
    "outputId": "ff57e59e-6632-40b4-d81c-085cbcc20a25"
   },
   "outputs": [
    {
     "name": "stdout",
     "output_type": "stream",
     "text": [
      "cuda:0\n"
     ]
    }
   ],
   "source": [
    "device = torch.device('cuda:0' if torch.cuda.is_available() else 'cpu')\n",
    "print(device)"
   ]
  },
  {
   "cell_type": "code",
   "execution_count": 22,
   "metadata": {
    "id": "wl9MQCp9TLCh"
   },
   "outputs": [],
   "source": [
    "seq2seq.to(device)\n",
    "optimizer = optim.Adam(seq2seq.parameters(), lr=0.001)"
   ]
  },
  {
   "cell_type": "code",
   "execution_count": 23,
   "metadata": {},
   "outputs": [],
   "source": [
    "sentences = ['harry and snape',\n",
    "             'harry and ron',\n",
    "             'i love to eat']"
   ]
  },
  {
   "cell_type": "code",
   "execution_count": 24,
   "metadata": {
    "colab": {
     "base_uri": "https://localhost:8080/",
     "height": 1000
    },
    "id": "gtR1RoSBkARg",
    "outputId": "5e15136d-9e74-4734-d9d0-307ddbcd59d0",
    "scrolled": true,
    "tags": []
   },
   "outputs": [
    {
     "name": "stdout",
     "output_type": "stream",
     "text": [
      "\n",
      "Time for epoch 0 is 6.6390 sec Train loss: 4.5266\n",
      "Input: harry and snape\n",
      "Output:  s a bit of the dark arts , and he d had a very good omen . he had a very good mood . harry had been a very good mood . harry \n",
      "Input: harry and ron\n",
      "Output:  . he s a bit of magic , said harry . i m not going to be a bit o the house cup . i m not going to be a bit of \n",
      "Input: i love to eat\n",
      "Output:  you re saying , said harry . i m not going to be a bit of magic . i m not going to be a bit o the mirror ? said harry . \n",
      "\n",
      "Time for epoch 1 is 6.4197 sec Train loss: 2.9341\n",
      "\n",
      "Time for epoch 2 is 6.4493 sec Train loss: 1.8067\n",
      "Input: harry and snape\n",
      "Output:  finished calling the names of his robes . harry was just a coat of a window to smile , but it didn t say , it had been a good dream . \n",
      "Input: harry and ron\n",
      "Output:  leapt forward , and he could see a few feet and then sped up the street . they had just finished were himself out of the way as he could . he \n",
      "Input: i love to eat\n",
      "Output:  long get back down the wall , breathing down the road , was snatched back down on the ground . harry was sure it was a very good reason , he had to \n",
      "\n",
      "Time for epoch 3 is 6.4984 sec Train loss: 1.0219\n",
      "\n",
      "Time for epoch 4 is 6.5465 sec Train loss: 0.5477\n",
      "Input: harry and snape\n",
      "Output:  finished calling the names of them . harry was just wondering ; that was only just managing to stop and don t stop for my hands ! ron asked urgently . the room \n",
      "Input: harry and ron\n",
      "Output:  . not a shame , said fred . we ve got to go and look for the house cup . and you must be woken in a few seconds later the rest of \n",
      "Input: i love to eat\n",
      "Output:  allowed to get past that three headed dog at halloween with that people in the house cup here . so i d be , said harry , ron , but harry looked over \n",
      "\n",
      "Time for epoch 5 is 6.5664 sec Train loss: 0.2855\n",
      "\n",
      "Time for epoch 6 is 6.4866 sec Train loss: 0.1511\n",
      "Input: harry and snape\n",
      "Output:  . it was all these people just lost his head , they said . don t you ? malfoy seized the package from the black forest . what could be all right . \n",
      "Input: harry and ron\n",
      "Output:  . not until a few seconds later , they sort of his sideways looks , and the other two stared through the room . harry , who was still difficult as the \n",
      "Input: i love to eat\n",
      "Output:  allowed to get past that leaves your smelting stick , against the way . and don t forget to tell him i m going ? can i come and have a good idea what \n",
      "\n",
      "Time for epoch 7 is 6.4877 sec Train loss: 0.0891\n",
      "\n",
      "Time for epoch 8 is 6.4628 sec Train loss: 0.0573\n",
      "Input: harry and snape\n",
      "Output:  finished calling the names of the back of his mind by all he couldn t miss a window open ? harry s seemed to have been on your back wall . the \n",
      "Input: harry and ron\n",
      "Output:  twin . after the twins , just as your mother s cold . at last night . madam malkin was something different and hit with a large , wood , very long . \n",
      "Input: i love to eat\n",
      "Output:  allowed to get past that hole was a long counter , white , and uncle vernon weren t nearly out of sight else would be there . welcome finally , that s it \n",
      "\n",
      "Time for epoch 9 is 6.5286 sec Train loss: 0.0423\n"
     ]
    }
   ],
   "source": [
    "epochs = 10\n",
    "\n",
    "for epoch in range(epochs):\n",
    "    train(seq2seq, device, train_loader, optimizer, epoch)\n",
    "    if epoch % 2 == 0:\n",
    "        for s in sentences:\n",
    "            translate(seq2seq, s, device)"
   ]
  },
  {
   "cell_type": "markdown",
   "metadata": {},
   "source": [
    "## Ejercicio\n",
    "- Mejorar el modelo con las técnicas propuestas en _Sutskever, I., Vinyals, O., & Le, Q. V. (2014). Sequence to sequence learning with neural networks. Advances in neural information processing systems, 27._\n",
    "- Agreagar mecanismo de atención de _Bahdanau_."
   ]
  }
 ],
 "metadata": {
  "accelerator": "GPU",
  "colab": {
   "collapsed_sections": [],
   "provenance": []
  },
  "gpuClass": "standard",
  "kernelspec": {
   "display_name": "Python 3 (ipykernel)",
   "language": "python",
   "name": "python3"
  },
  "language_info": {
   "codemirror_mode": {
    "name": "ipython",
    "version": 3
   },
   "file_extension": ".py",
   "mimetype": "text/x-python",
   "name": "python",
   "nbconvert_exporter": "python",
   "pygments_lexer": "ipython3",
   "version": "3.10.14"
  }
 },
 "nbformat": 4,
 "nbformat_minor": 4
}

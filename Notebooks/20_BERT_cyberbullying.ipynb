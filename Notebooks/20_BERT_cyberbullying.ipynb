{
 "cells": [
  {
   "cell_type": "markdown",
   "id": "4b00f678-39f7-4be2-aa51-cc4737fcd1a0",
   "metadata": {},
   "source": [
    "# Clasificación de cyberbullying con BERT\n",
    "\n",
    "<img src=\"../img/bert.png\" width=\"700\"/>\n",
    "\n",
    "__Imagen tomada de Devlin, J., Chang, M. W., Lee, K., & Toutanova, K. (2018). Bert: Pre-training of deep bidirectional transformers for language understanding. arXiv preprint arXiv:1810.04805.__"
   ]
  },
  {
   "cell_type": "markdown",
   "id": "9d1cd0c3-599d-4c44-a4df-fb42b5f49bb1",
   "metadata": {},
   "source": [
    "## 1.- Conjuntos de datos\n",
    "- Partición de entrenamiento, validación y prueba."
   ]
  },
  {
   "cell_type": "code",
   "execution_count": 1,
   "id": "5edc8baf-baf8-4a19-9faf-0f9e5d81312a",
   "metadata": {},
   "outputs": [],
   "source": [
    "import pandas as pd\n",
    "import matplotlib.pyplot as plt"
   ]
  },
  {
   "cell_type": "code",
   "execution_count": 2,
   "id": "a63f28a9-d4e6-4f37-9440-600c97d0a4dc",
   "metadata": {
    "scrolled": true,
    "tags": []
   },
   "outputs": [],
   "source": [
    "df = pd.read_csv('./cyberbullying_tweets.csv')   "
   ]
  },
  {
   "cell_type": "code",
   "execution_count": 3,
   "id": "0fe97422-d520-4b6f-80f9-b2336a709e0b",
   "metadata": {},
   "outputs": [
    {
     "data": {
      "text/html": [
       "<div>\n",
       "<style scoped>\n",
       "    .dataframe tbody tr th:only-of-type {\n",
       "        vertical-align: middle;\n",
       "    }\n",
       "\n",
       "    .dataframe tbody tr th {\n",
       "        vertical-align: top;\n",
       "    }\n",
       "\n",
       "    .dataframe thead th {\n",
       "        text-align: right;\n",
       "    }\n",
       "</style>\n",
       "<table border=\"1\" class=\"dataframe\">\n",
       "  <thead>\n",
       "    <tr style=\"text-align: right;\">\n",
       "      <th></th>\n",
       "      <th>tweet_text</th>\n",
       "      <th>cyberbullying_type</th>\n",
       "    </tr>\n",
       "  </thead>\n",
       "  <tbody>\n",
       "    <tr>\n",
       "      <th>0</th>\n",
       "      <td>In other words #katandandre, your food was cra...</td>\n",
       "      <td>not_cyberbullying</td>\n",
       "    </tr>\n",
       "    <tr>\n",
       "      <th>1</th>\n",
       "      <td>Why is #aussietv so white? #MKR #theblock #ImA...</td>\n",
       "      <td>not_cyberbullying</td>\n",
       "    </tr>\n",
       "    <tr>\n",
       "      <th>2</th>\n",
       "      <td>@XochitlSuckkks a classy whore? Or more red ve...</td>\n",
       "      <td>not_cyberbullying</td>\n",
       "    </tr>\n",
       "    <tr>\n",
       "      <th>3</th>\n",
       "      <td>@Jason_Gio meh. :P  thanks for the heads up, b...</td>\n",
       "      <td>not_cyberbullying</td>\n",
       "    </tr>\n",
       "    <tr>\n",
       "      <th>4</th>\n",
       "      <td>@RudhoeEnglish This is an ISIS account pretend...</td>\n",
       "      <td>not_cyberbullying</td>\n",
       "    </tr>\n",
       "  </tbody>\n",
       "</table>\n",
       "</div>"
      ],
      "text/plain": [
       "                                          tweet_text cyberbullying_type\n",
       "0  In other words #katandandre, your food was cra...  not_cyberbullying\n",
       "1  Why is #aussietv so white? #MKR #theblock #ImA...  not_cyberbullying\n",
       "2  @XochitlSuckkks a classy whore? Or more red ve...  not_cyberbullying\n",
       "3  @Jason_Gio meh. :P  thanks for the heads up, b...  not_cyberbullying\n",
       "4  @RudhoeEnglish This is an ISIS account pretend...  not_cyberbullying"
      ]
     },
     "execution_count": 3,
     "metadata": {},
     "output_type": "execute_result"
    }
   ],
   "source": [
    "df.head()"
   ]
  },
  {
   "cell_type": "code",
   "execution_count": 4,
   "id": "a73c028f-92d5-4d68-906e-06382ac6cb55",
   "metadata": {
    "tags": []
   },
   "outputs": [
    {
     "data": {
      "text/plain": [
       "array(['not_cyberbullying', 'gender', 'religion', 'other_cyberbullying',\n",
       "       'age', 'ethnicity'], dtype=object)"
      ]
     },
     "execution_count": 4,
     "metadata": {},
     "output_type": "execute_result"
    }
   ],
   "source": [
    "df['cyberbullying_type'].unique()"
   ]
  },
  {
   "cell_type": "code",
   "execution_count": 5,
   "id": "59821bc4-e63b-4872-b756-72751eb6f715",
   "metadata": {
    "tags": []
   },
   "outputs": [
    {
     "data": {
      "text/plain": [
       "cyberbullying_type\n",
       "religion               7998\n",
       "age                    7992\n",
       "gender                 7973\n",
       "ethnicity              7961\n",
       "not_cyberbullying      7945\n",
       "other_cyberbullying    7823\n",
       "Name: count, dtype: int64"
      ]
     },
     "execution_count": 5,
     "metadata": {},
     "output_type": "execute_result"
    }
   ],
   "source": [
    "# Contar elementos por clase\n",
    "count = df['cyberbullying_type'].value_counts()\n",
    "count"
   ]
  },
  {
   "cell_type": "code",
   "execution_count": 6,
   "id": "3d6022f1-8c26-4734-a5ae-6e99c54739d6",
   "metadata": {
    "tags": []
   },
   "outputs": [],
   "source": [
    "from sklearn.model_selection import train_test_split\n",
    "train_df, test_df= train_test_split(df, test_size = 0.30, random_state = 123)"
   ]
  },
  {
   "cell_type": "code",
   "execution_count": 7,
   "id": "44242ec8-cbbd-4f84-a15e-5736cfff1cb5",
   "metadata": {
    "tags": []
   },
   "outputs": [
    {
     "data": {
      "text/plain": [
       "cyberbullying_type\n",
       "gender                 5655\n",
       "not_cyberbullying      5610\n",
       "ethnicity              5601\n",
       "age                    5573\n",
       "religion               5557\n",
       "other_cyberbullying    5388\n",
       "Name: count, dtype: int64"
      ]
     },
     "execution_count": 7,
     "metadata": {},
     "output_type": "execute_result"
    }
   ],
   "source": [
    "train_df['cyberbullying_type'].value_counts()"
   ]
  },
  {
   "cell_type": "code",
   "execution_count": 8,
   "id": "64eb3df4-1615-4f08-9181-cb55f4bc355e",
   "metadata": {
    "tags": []
   },
   "outputs": [],
   "source": [
    "val_df, test_df= train_test_split(test_df, test_size = 0.50, random_state = 123)"
   ]
  },
  {
   "cell_type": "code",
   "execution_count": 9,
   "id": "71627377-e116-4464-ba0f-5390e22dab05",
   "metadata": {
    "tags": []
   },
   "outputs": [
    {
     "data": {
      "text/plain": [
       "cyberbullying_type\n",
       "religion               1250\n",
       "other_cyberbullying    1219\n",
       "age                    1198\n",
       "gender                 1177\n",
       "ethnicity              1164\n",
       "not_cyberbullying      1146\n",
       "Name: count, dtype: int64"
      ]
     },
     "execution_count": 9,
     "metadata": {},
     "output_type": "execute_result"
    }
   ],
   "source": [
    "val_df['cyberbullying_type'].value_counts()"
   ]
  },
  {
   "cell_type": "code",
   "execution_count": 10,
   "id": "7c6221f9-8aab-492a-a835-de9028f8c374",
   "metadata": {
    "tags": []
   },
   "outputs": [
    {
     "data": {
      "text/plain": [
       "cyberbullying_type\n",
       "age                    1221\n",
       "other_cyberbullying    1216\n",
       "ethnicity              1196\n",
       "religion               1191\n",
       "not_cyberbullying      1189\n",
       "gender                 1141\n",
       "Name: count, dtype: int64"
      ]
     },
     "execution_count": 10,
     "metadata": {},
     "output_type": "execute_result"
    }
   ],
   "source": [
    "test_df['cyberbullying_type'].value_counts()"
   ]
  },
  {
   "cell_type": "markdown",
   "id": "bb0ca784-81d1-4294-923f-6ae1882587d9",
   "metadata": {},
   "source": [
    "## 2.- Preprocesamiento"
   ]
  },
  {
   "cell_type": "code",
   "execution_count": 11,
   "id": "454a30f7-c59e-4522-b77a-1390eae132db",
   "metadata": {
    "tags": []
   },
   "outputs": [
    {
     "data": {
      "text/html": [
       "<div>\n",
       "<style scoped>\n",
       "    .dataframe tbody tr th:only-of-type {\n",
       "        vertical-align: middle;\n",
       "    }\n",
       "\n",
       "    .dataframe tbody tr th {\n",
       "        vertical-align: top;\n",
       "    }\n",
       "\n",
       "    .dataframe thead th {\n",
       "        text-align: right;\n",
       "    }\n",
       "</style>\n",
       "<table border=\"1\" class=\"dataframe\">\n",
       "  <thead>\n",
       "    <tr style=\"text-align: right;\">\n",
       "      <th></th>\n",
       "      <th>tweet_text</th>\n",
       "      <th>cyberbullying_type</th>\n",
       "    </tr>\n",
       "  </thead>\n",
       "  <tbody>\n",
       "    <tr>\n",
       "      <th>26651</th>\n",
       "      <td>@AntonSirius @erinspice @prpltnkr @ChiefElk oh...</td>\n",
       "      <td>3</td>\n",
       "    </tr>\n",
       "    <tr>\n",
       "      <th>4820</th>\n",
       "      <td>Ladies \"Bedroom Bully\" The Mix Cd By @GappyRan...</td>\n",
       "      <td>0</td>\n",
       "    </tr>\n",
       "    <tr>\n",
       "      <th>1847</th>\n",
       "      <td>RT @_bobbidana: Never thought I'd say this but...</td>\n",
       "      <td>0</td>\n",
       "    </tr>\n",
       "    <tr>\n",
       "      <th>20653</th>\n",
       "      <td>She is intellectual terrorists and world suffe...</td>\n",
       "      <td>2</td>\n",
       "    </tr>\n",
       "    <tr>\n",
       "      <th>19195</th>\n",
       "      <td>You saudias are not friends of Muslim idiots c...</td>\n",
       "      <td>2</td>\n",
       "    </tr>\n",
       "  </tbody>\n",
       "</table>\n",
       "</div>"
      ],
      "text/plain": [
       "                                              tweet_text  cyberbullying_type\n",
       "26651  @AntonSirius @erinspice @prpltnkr @ChiefElk oh...                   3\n",
       "4820   Ladies \"Bedroom Bully\" The Mix Cd By @GappyRan...                   0\n",
       "1847   RT @_bobbidana: Never thought I'd say this but...                   0\n",
       "20653  She is intellectual terrorists and world suffe...                   2\n",
       "19195  You saudias are not friends of Muslim idiots c...                   2"
      ]
     },
     "execution_count": 11,
     "metadata": {},
     "output_type": "execute_result"
    }
   ],
   "source": [
    "# Creamos un diccionario que mapea cada etiqueta a un número entero\n",
    "labels_dict = {\n",
    "    'not_cyberbullying': 0,\n",
    "    'gender': 1,\n",
    "    'religion': 2,\n",
    "    'other_cyberbullying': 3,\n",
    "    'age': 4,\n",
    "    'ethnicity': 5\n",
    "}\n",
    "\n",
    "# Usamos la función map() para reemplazar cada etiqueta con su valor entero correspondiente\n",
    "train_df['cyberbullying_type'] = train_df['cyberbullying_type'].replace(labels_dict)\n",
    "val_df['cyberbullying_type'] = val_df['cyberbullying_type'].replace(labels_dict)\n",
    "test_df['cyberbullying_type'] = test_df['cyberbullying_type'].replace(labels_dict)\n",
    "\n",
    "train_df.head()"
   ]
  },
  {
   "cell_type": "markdown",
   "id": "82d36938-df30-4bc1-a7b8-2c8c58be37ae",
   "metadata": {
    "tags": []
   },
   "source": [
    "- Verifica cadenas vacias."
   ]
  },
  {
   "cell_type": "code",
   "execution_count": 12,
   "id": "616ec96f-a709-41b7-9e85-6262bac0cd74",
   "metadata": {},
   "outputs": [
    {
     "data": {
      "text/plain": [
       "0"
      ]
     },
     "execution_count": 12,
     "metadata": {},
     "output_type": "execute_result"
    }
   ],
   "source": [
    "train_df['tweet_text'].isna().sum()"
   ]
  },
  {
   "cell_type": "markdown",
   "id": "3eb4b12e-9ea6-492f-906c-e2a205ca0061",
   "metadata": {},
   "source": [
    "- Elimina puntuación y convierte a minúsculas.\n",
    "- Se utiliza el método __str.translate()__ para eliminar todos los caracteres de puntuación mediante una tabla de traducción creada con el método __str.maketrans__. La constante string.punctuation contiene todos los caracteres de puntuación ASCII, que se eliminan de los valores en la columna."
   ]
  },
  {
   "cell_type": "code",
   "execution_count": 13,
   "id": "16ff03a8-76aa-4786-a794-e6744a45bc47",
   "metadata": {},
   "outputs": [
    {
     "data": {
      "text/plain": [
       "'!\"#$%&\\'()*+,-./:;<=>?@[\\\\]^_`{|}~'"
      ]
     },
     "execution_count": 13,
     "metadata": {},
     "output_type": "execute_result"
    }
   ],
   "source": [
    "import string\n",
    "string.punctuation"
   ]
  },
  {
   "cell_type": "code",
   "execution_count": 14,
   "id": "6a5aa290-98ec-4e71-a4e4-69efc463f8ec",
   "metadata": {},
   "outputs": [
    {
     "data": {
      "text/html": [
       "<div>\n",
       "<style scoped>\n",
       "    .dataframe tbody tr th:only-of-type {\n",
       "        vertical-align: middle;\n",
       "    }\n",
       "\n",
       "    .dataframe tbody tr th {\n",
       "        vertical-align: top;\n",
       "    }\n",
       "\n",
       "    .dataframe thead th {\n",
       "        text-align: right;\n",
       "    }\n",
       "</style>\n",
       "<table border=\"1\" class=\"dataframe\">\n",
       "  <thead>\n",
       "    <tr style=\"text-align: right;\">\n",
       "      <th></th>\n",
       "      <th>tweet_text</th>\n",
       "      <th>cyberbullying_type</th>\n",
       "    </tr>\n",
       "  </thead>\n",
       "  <tbody>\n",
       "    <tr>\n",
       "      <th>26651</th>\n",
       "      <td>antonsirius erinspice prpltnkr chiefelk oh dea...</td>\n",
       "      <td>3</td>\n",
       "    </tr>\n",
       "    <tr>\n",
       "      <th>4820</th>\n",
       "      <td>ladies bedroom bully the mix cd by gappyranks ...</td>\n",
       "      <td>0</td>\n",
       "    </tr>\n",
       "    <tr>\n",
       "      <th>1847</th>\n",
       "      <td>rt bobbidana never thought id say this but i h...</td>\n",
       "      <td>0</td>\n",
       "    </tr>\n",
       "    <tr>\n",
       "      <th>20653</th>\n",
       "      <td>she is intellectual terrorists and world suffe...</td>\n",
       "      <td>2</td>\n",
       "    </tr>\n",
       "    <tr>\n",
       "      <th>19195</th>\n",
       "      <td>you saudias are not friends of muslim idiots c...</td>\n",
       "      <td>2</td>\n",
       "    </tr>\n",
       "  </tbody>\n",
       "</table>\n",
       "</div>"
      ],
      "text/plain": [
       "                                              tweet_text  cyberbullying_type\n",
       "26651  antonsirius erinspice prpltnkr chiefelk oh dea...                   3\n",
       "4820   ladies bedroom bully the mix cd by gappyranks ...                   0\n",
       "1847   rt bobbidana never thought id say this but i h...                   0\n",
       "20653  she is intellectual terrorists and world suffe...                   2\n",
       "19195  you saudias are not friends of muslim idiots c...                   2"
      ]
     },
     "execution_count": 14,
     "metadata": {},
     "output_type": "execute_result"
    }
   ],
   "source": [
    "train_df['tweet_text'] = train_df['tweet_text'].str.lower().str.translate(str.maketrans('', '', string.punctuation))\n",
    "train_df.head()"
   ]
  },
  {
   "cell_type": "code",
   "execution_count": 15,
   "id": "ee3ad12a-07bf-4535-a40d-140e89adb504",
   "metadata": {
    "tags": []
   },
   "outputs": [
    {
     "data": {
      "text/html": [
       "<div>\n",
       "<style scoped>\n",
       "    .dataframe tbody tr th:only-of-type {\n",
       "        vertical-align: middle;\n",
       "    }\n",
       "\n",
       "    .dataframe tbody tr th {\n",
       "        vertical-align: top;\n",
       "    }\n",
       "\n",
       "    .dataframe thead th {\n",
       "        text-align: right;\n",
       "    }\n",
       "</style>\n",
       "<table border=\"1\" class=\"dataframe\">\n",
       "  <thead>\n",
       "    <tr style=\"text-align: right;\">\n",
       "      <th></th>\n",
       "      <th>tweet_text</th>\n",
       "      <th>cyberbullying_type</th>\n",
       "    </tr>\n",
       "  </thead>\n",
       "  <tbody>\n",
       "    <tr>\n",
       "      <th>21718</th>\n",
       "      <td>but you idiot tagged and more also im a muslim</td>\n",
       "      <td>2</td>\n",
       "    </tr>\n",
       "    <tr>\n",
       "      <th>45048</th>\n",
       "      <td>sexylala thats a dumb nigger never fuck lala h...</td>\n",
       "      <td>5</td>\n",
       "    </tr>\n",
       "    <tr>\n",
       "      <th>40415</th>\n",
       "      <td>i never hear hispanics calling each other brow...</td>\n",
       "      <td>5</td>\n",
       "    </tr>\n",
       "    <tr>\n",
       "      <th>40212</th>\n",
       "      <td>lennybanx nigger read it again such a dumb ass...</td>\n",
       "      <td>5</td>\n",
       "    </tr>\n",
       "    <tr>\n",
       "      <th>35187</th>\n",
       "      <td>she was a mean girl in high school she and mim...</td>\n",
       "      <td>4</td>\n",
       "    </tr>\n",
       "  </tbody>\n",
       "</table>\n",
       "</div>"
      ],
      "text/plain": [
       "                                              tweet_text  cyberbullying_type\n",
       "21718     but you idiot tagged and more also im a muslim                   2\n",
       "45048  sexylala thats a dumb nigger never fuck lala h...                   5\n",
       "40415  i never hear hispanics calling each other brow...                   5\n",
       "40212  lennybanx nigger read it again such a dumb ass...                   5\n",
       "35187  she was a mean girl in high school she and mim...                   4"
      ]
     },
     "execution_count": 15,
     "metadata": {},
     "output_type": "execute_result"
    }
   ],
   "source": [
    "val_df['tweet_text'] = val_df['tweet_text'].str.lower().str.translate(str.maketrans('', '', string.punctuation))\n",
    "val_df.head()"
   ]
  },
  {
   "cell_type": "code",
   "execution_count": 16,
   "id": "a72ddd22-0f62-4b47-99a3-881434df7eec",
   "metadata": {
    "tags": []
   },
   "outputs": [
    {
     "data": {
      "text/html": [
       "<div>\n",
       "<style scoped>\n",
       "    .dataframe tbody tr th:only-of-type {\n",
       "        vertical-align: middle;\n",
       "    }\n",
       "\n",
       "    .dataframe tbody tr th {\n",
       "        vertical-align: top;\n",
       "    }\n",
       "\n",
       "    .dataframe thead th {\n",
       "        text-align: right;\n",
       "    }\n",
       "</style>\n",
       "<table border=\"1\" class=\"dataframe\">\n",
       "  <thead>\n",
       "    <tr style=\"text-align: right;\">\n",
       "      <th></th>\n",
       "      <th>tweet_text</th>\n",
       "      <th>cyberbullying_type</th>\n",
       "    </tr>\n",
       "  </thead>\n",
       "  <tbody>\n",
       "    <tr>\n",
       "      <th>21235</th>\n",
       "      <td>dankmtl yeap as a little propaganda nazi for t...</td>\n",
       "      <td>2</td>\n",
       "    </tr>\n",
       "    <tr>\n",
       "      <th>28344</th>\n",
       "      <td>lyndseyboo wow leave lyndsey phone alone bully...</td>\n",
       "      <td>3</td>\n",
       "    </tr>\n",
       "    <tr>\n",
       "      <th>31648</th>\n",
       "      <td>im not a man only know how to bully people</td>\n",
       "      <td>3</td>\n",
       "    </tr>\n",
       "    <tr>\n",
       "      <th>21779</th>\n",
       "      <td>urgedharry nyazpolitics greenlinerzjm if you a...</td>\n",
       "      <td>2</td>\n",
       "    </tr>\n",
       "    <tr>\n",
       "      <th>44850</th>\n",
       "      <td>calling people dumb isnt nice  rt tayyoung fuc...</td>\n",
       "      <td>5</td>\n",
       "    </tr>\n",
       "  </tbody>\n",
       "</table>\n",
       "</div>"
      ],
      "text/plain": [
       "                                              tweet_text  cyberbullying_type\n",
       "21235  dankmtl yeap as a little propaganda nazi for t...                   2\n",
       "28344  lyndseyboo wow leave lyndsey phone alone bully...                   3\n",
       "31648        im not a man only know how to bully people                    3\n",
       "21779  urgedharry nyazpolitics greenlinerzjm if you a...                   2\n",
       "44850  calling people dumb isnt nice  rt tayyoung fuc...                   5"
      ]
     },
     "execution_count": 16,
     "metadata": {},
     "output_type": "execute_result"
    }
   ],
   "source": [
    "test_df['tweet_text'] = test_df['tweet_text'].str.lower().str.translate(str.maketrans('', '', string.punctuation))\n",
    "test_df.head()"
   ]
  },
  {
   "cell_type": "markdown",
   "id": "a651ba97-16f3-47fd-9798-5353586f346d",
   "metadata": {},
   "source": [
    "## 3.- Pipeline"
   ]
  },
  {
   "cell_type": "code",
   "execution_count": 17,
   "id": "a0182532-66f2-4482-9630-bda5d1470d76",
   "metadata": {},
   "outputs": [],
   "source": [
    "import os\n",
    "os.environ['TF_CPP_MIN_LOG_LEVEL'] = '3' # Disable tensorflow debugging logs\n",
    "import tensorflow as tf\n",
    "import tensorflow_hub as hub\n",
    "import tensorflow_text as text\n",
    "\n",
    "X_train = train_df['tweet_text'].values\n",
    "y_train = train_df['cyberbullying_type'].values\n",
    "\n",
    "X_val = val_df['tweet_text'].values\n",
    "y_val = val_df['cyberbullying_type'].values\n",
    "\n",
    "X_test = test_df['tweet_text'].values\n",
    "y_test = test_df['cyberbullying_type'].values"
   ]
  },
  {
   "cell_type": "code",
   "execution_count": 18,
   "id": "f8896562-dd30-431b-a7a1-55d084586352",
   "metadata": {
    "tags": []
   },
   "outputs": [
    {
     "data": {
      "text/plain": [
       "(33384, 7154, 7154)"
      ]
     },
     "execution_count": 18,
     "metadata": {},
     "output_type": "execute_result"
    }
   ],
   "source": [
    "len(X_train), len(X_val), len(X_test)"
   ]
  },
  {
   "cell_type": "code",
   "execution_count": 19,
   "id": "36d1a088-4c8c-4851-b53f-07e3432c3870",
   "metadata": {
    "scrolled": true,
    "tags": []
   },
   "outputs": [],
   "source": [
    "raw_train_ds = tf.data.Dataset.from_tensor_slices((X_train, y_train))\n",
    "raw_val_ds = tf.data.Dataset.from_tensor_slices((X_val, y_val))\n",
    "raw_test_ds = tf.data.Dataset.from_tensor_slices((X_test, y_test))"
   ]
  },
  {
   "cell_type": "code",
   "execution_count": 20,
   "id": "e9bc2927-b548-4dea-a742-8d4b4851de51",
   "metadata": {
    "tags": []
   },
   "outputs": [],
   "source": [
    "# Define a function to convert the label to a one-hot encoding\n",
    "def convert_label_to_one_hot(text, label):\n",
    "    one_hot_label = tf.one_hot(label, 6)\n",
    "    return text, one_hot_label\n",
    "\n",
    "# Apply the function to the dataset using map()\n",
    "raw_train_ds = raw_train_ds.map(convert_label_to_one_hot)\n",
    "raw_val_ds = raw_val_ds.map(convert_label_to_one_hot)\n",
    "raw_test_ds = raw_test_ds.map(convert_label_to_one_hot)\n",
    "\n",
    "batch_size = 32\n",
    "train_ds = raw_train_ds.shuffle(40538).batch(batch_size)\n",
    "val_ds = raw_val_ds.batch(batch_size)\n",
    "test_ds = raw_test_ds.batch(batch_size)"
   ]
  },
  {
   "cell_type": "code",
   "execution_count": 21,
   "id": "ca52df01-e9a5-447e-a054-e61ec59542f0",
   "metadata": {
    "tags": []
   },
   "outputs": [
    {
     "name": "stdout",
     "output_type": "stream",
     "text": [
      "tf.Tensor(b'facebook post on giving antiharassment talk at girldevweek how can something be both ironic and apropos httptcoaud0rqnyrz', shape=(), dtype=string) tf.Tensor([0. 0. 0. 1. 0. 0.], shape=(6,), dtype=float32)\n"
     ]
    }
   ],
   "source": [
    "for test_text, test_target in train_ds.take(1):\n",
    "    print(test_text[0], test_target[0])"
   ]
  },
  {
   "cell_type": "markdown",
   "id": "5552e9cc-c220-4244-a12d-c60750cf12f4",
   "metadata": {},
   "source": [
    "## 3.- Modelo"
   ]
  },
  {
   "cell_type": "code",
   "execution_count": 22,
   "id": "03e0bc43-d4f3-428d-a5cc-8d0e277e4c74",
   "metadata": {
    "tags": []
   },
   "outputs": [],
   "source": [
    "bert_model_path = 'https://tfhub.dev/tensorflow/small_bert/bert_en_uncased_L-4_H-512_A-8/1'\n",
    "bert_preprocess_path = 'https://tfhub.dev/tensorflow/bert_en_uncased_preprocess/3'"
   ]
  },
  {
   "cell_type": "code",
   "execution_count": 23,
   "id": "cdcb13f0-e7d8-4ce8-838f-d1ea50d14918",
   "metadata": {
    "tags": []
   },
   "outputs": [],
   "source": [
    "import tensorflow_hub as hub"
   ]
  },
  {
   "cell_type": "markdown",
   "id": "1379330b-135f-40ea-89f8-c27741ef025d",
   "metadata": {},
   "source": [
    "### Capa de preprocesamiento"
   ]
  },
  {
   "cell_type": "code",
   "execution_count": 24,
   "id": "622cc214-5d29-4380-b5ef-24d98f80f887",
   "metadata": {
    "tags": []
   },
   "outputs": [],
   "source": [
    "bert_preprocess_model = hub.KerasLayer(bert_preprocess_path)"
   ]
  },
  {
   "cell_type": "code",
   "execution_count": 25,
   "id": "d11d6c66-4381-489b-8fb7-3c2d03831dfe",
   "metadata": {
    "tags": []
   },
   "outputs": [
    {
     "data": {
      "text/plain": [
       "{'input_type_ids': <tf.Tensor: shape=(32, 128), dtype=int32, numpy=\n",
       " array([[0, 0, 0, ..., 0, 0, 0],\n",
       "        [0, 0, 0, ..., 0, 0, 0],\n",
       "        [0, 0, 0, ..., 0, 0, 0],\n",
       "        ...,\n",
       "        [0, 0, 0, ..., 0, 0, 0],\n",
       "        [0, 0, 0, ..., 0, 0, 0],\n",
       "        [0, 0, 0, ..., 0, 0, 0]], dtype=int32)>,\n",
       " 'input_mask': <tf.Tensor: shape=(32, 128), dtype=int32, numpy=\n",
       " array([[1, 1, 1, ..., 0, 0, 0],\n",
       "        [1, 1, 1, ..., 0, 0, 0],\n",
       "        [1, 1, 1, ..., 0, 0, 0],\n",
       "        ...,\n",
       "        [1, 1, 1, ..., 0, 0, 0],\n",
       "        [1, 1, 1, ..., 0, 0, 0],\n",
       "        [1, 1, 1, ..., 0, 0, 0]], dtype=int32)>,\n",
       " 'input_word_ids': <tf.Tensor: shape=(32, 128), dtype=int32, numpy=\n",
       " array([[  101,  9130,  2695, ...,     0,     0,     0],\n",
       "        [  101, 22175,  4710, ...,     0,     0,     0],\n",
       "        [  101,  1045,  2123, ...,     0,     0,     0],\n",
       "        ...,\n",
       "        [  101,  5882, 11880, ...,     0,     0,     0],\n",
       "        [  101,  8840,  2140, ...,     0,     0,     0],\n",
       "        [  101,  2017,  3726, ...,     0,     0,     0]], dtype=int32)>}"
      ]
     },
     "execution_count": 25,
     "metadata": {},
     "output_type": "execute_result"
    }
   ],
   "source": [
    "preprocess_output = bert_preprocess_model(test_text)\n",
    "preprocess_output"
   ]
  },
  {
   "cell_type": "markdown",
   "id": "0e9964e9-6e67-4883-a16d-cce17a3c63bc",
   "metadata": {},
   "source": [
    "### BERT"
   ]
  },
  {
   "cell_type": "code",
   "execution_count": 26,
   "id": "8b516206-2164-4421-96c8-184e43155bf4",
   "metadata": {
    "tags": []
   },
   "outputs": [
    {
     "data": {
      "text/plain": [
       "<tf.Tensor: shape=(32, 512), dtype=float32, numpy=\n",
       "array([[ 0.6819405 ,  0.9959505 ,  0.02596496, ...,  0.14001015,\n",
       "        -0.22612995, -0.69731486],\n",
       "       [ 0.9780205 ,  0.9879826 ,  0.21857536, ..., -0.09512587,\n",
       "        -0.25882748, -0.5642965 ],\n",
       "       [ 0.9914007 ,  0.9833687 ,  0.21825965, ...,  0.36351198,\n",
       "        -0.21559414, -0.9616104 ],\n",
       "       ...,\n",
       "       [ 0.6107497 ,  0.9652837 , -0.11036398, ...,  0.13323538,\n",
       "        -0.16119605, -0.9608713 ],\n",
       "       [ 0.98774356,  0.9933103 ,  0.1399471 , ...,  0.3838297 ,\n",
       "        -0.33955443, -0.65334994],\n",
       "       [ 0.93482417,  0.9958263 , -0.24297386, ..., -0.03329804,\n",
       "        -0.25814882, -0.7803331 ]], dtype=float32)>"
      ]
     },
     "execution_count": 26,
     "metadata": {},
     "output_type": "execute_result"
    }
   ],
   "source": [
    "bert_model = hub.KerasLayer(bert_model_path, trainable=False)\n",
    "bert_model(preprocess_output)['pooled_output']"
   ]
  },
  {
   "cell_type": "markdown",
   "id": "65ed5384-ad4c-45ac-bca7-20eb3bb05536",
   "metadata": {},
   "source": [
    "### Modelo\n",
    "- Se agrega una capa final a BERT para adaptarlo al dataset de Cyberbullying (6 clases)."
   ]
  },
  {
   "cell_type": "code",
   "execution_count": 27,
   "id": "cde9f7b2-18c7-401c-b400-830bea36b23b",
   "metadata": {
    "tags": []
   },
   "outputs": [],
   "source": [
    "def get_model(bert_model_path, bert_preprocess_model, trainable):\n",
    "    preprocess_model = hub.KerasLayer(bert_preprocess_model)\n",
    "    bert_model = hub.KerasLayer(bert_model_path, trainable=trainable)\n",
    "    \n",
    "    text_input = tf.keras.layers.Input(shape=(), dtype=tf.string, name='text')\n",
    "    preprocess_text = bert_preprocess_model(text_input)\n",
    "    bert_output = bert_model(preprocess_text)['pooled_output']\n",
    "    x = tf.keras.layers.Dense(128, activation='relu')(bert_output)\n",
    "    output = tf.keras.layers.Dense(6)(x)\n",
    "    small_bert = tf.keras.Model(text_input, output)\n",
    "    return small_bert\n",
    "\n",
    "freeze_bert = get_model(bert_model_path, bert_preprocess_model, trainable=False)"
   ]
  },
  {
   "cell_type": "markdown",
   "id": "edfad2bc-0e0c-4ab2-b7d5-1a6cdddf5860",
   "metadata": {
    "tags": []
   },
   "source": [
    "- Prueba de las salidas de BERT."
   ]
  },
  {
   "cell_type": "code",
   "execution_count": 28,
   "id": "862068ba-6861-441c-9ee2-dcd71a818bb1",
   "metadata": {
    "scrolled": true,
    "tags": []
   },
   "outputs": [
    {
     "data": {
      "text/plain": [
       "<tf.Tensor: shape=(32, 6), dtype=float32, numpy=\n",
       "array([[-0.02443373,  0.12266673,  0.29725486,  0.6950776 , -0.39368308,\n",
       "         0.4003989 ],\n",
       "       [ 0.13776226, -0.2201874 , -0.00256008,  0.64451945, -0.3772892 ,\n",
       "         0.59791636],\n",
       "       [ 0.2621168 , -0.21267138,  0.30223024,  0.8603883 , -0.40982962,\n",
       "         0.60764396],\n",
       "       [ 0.6784524 ,  0.03175758,  0.15755588,  1.164036  , -0.8846803 ,\n",
       "         0.67149913],\n",
       "       [ 0.2489106 , -0.00899002,  0.06998765,  1.344174  , -0.53715855,\n",
       "         0.76325554],\n",
       "       [ 0.02273858,  0.13395947, -0.01179492,  0.22953507, -0.18081358,\n",
       "         0.37057823],\n",
       "       [ 0.11890835,  0.07106318, -0.08346587,  0.7446954 , -0.07325917,\n",
       "         0.64346707],\n",
       "       [-0.5052333 ,  0.5820216 ,  1.1924224 ,  0.50240827, -0.34255046,\n",
       "        -0.08705637],\n",
       "       [ 0.15717234,  0.31754464,  0.31166053,  0.6512643 , -0.71804893,\n",
       "         0.02123843],\n",
       "       [ 0.7969299 , -0.25651562,  0.366848  ,  1.0768621 , -0.2338041 ,\n",
       "         0.11402328],\n",
       "       [ 0.9957649 , -0.10066867,  0.5251522 ,  1.0932829 , -0.24154523,\n",
       "         0.08373663],\n",
       "       [ 0.6126788 ,  0.37512562,  0.19240671,  1.2446325 ,  0.05454516,\n",
       "         0.96122307],\n",
       "       [ 0.35179836, -0.2077459 ,  0.09637719,  0.85654426, -0.497347  ,\n",
       "         0.05740261],\n",
       "       [ 0.9962728 , -0.3838873 , -0.3746829 ,  0.36218667, -0.07938683,\n",
       "         0.30295694],\n",
       "       [-0.26524824,  0.13804576,  0.36250716,  1.0882194 , -0.75220114,\n",
       "         0.22683343],\n",
       "       [ 0.3875706 , -0.19645905,  0.16337663,  1.1046412 , -0.69787896,\n",
       "         0.43411005],\n",
       "       [ 0.15068331,  0.5422889 ,  0.6260015 ,  0.5326462 , -0.05433542,\n",
       "        -0.07343623],\n",
       "       [ 0.18243004,  0.26642513, -0.12928581,  0.8367156 , -0.6486725 ,\n",
       "         0.38296956],\n",
       "       [ 0.41135448,  0.08593091,  0.36442775,  1.0121931 , -0.69515467,\n",
       "         0.67609406],\n",
       "       [ 0.39906877, -0.09308776,  0.3464665 ,  0.32074904, -0.05178702,\n",
       "         0.01588714],\n",
       "       [ 0.07684696,  0.47967196,  0.9796039 ,  0.84858954, -0.54153407,\n",
       "         0.21555345],\n",
       "       [-0.32913575,  0.26377773,  0.7543527 ,  0.713043  ,  0.04423195,\n",
       "         0.7829386 ],\n",
       "       [ 0.61628944,  0.06768993,  0.8352933 ,  1.1096206 , -0.6267871 ,\n",
       "         0.46896178],\n",
       "       [ 0.04030234, -0.18691407,  0.21780336,  0.8306745 , -0.10538468,\n",
       "         0.19510913],\n",
       "       [ 0.6119313 ,  0.27344206,  0.49321747,  0.7016546 , -0.6803726 ,\n",
       "         0.444814  ],\n",
       "       [ 0.55787754, -0.08572617,  0.40919304,  1.0008265 , -0.58960116,\n",
       "         0.5585644 ],\n",
       "       [ 0.16369116,  0.02153519,  0.58538544,  0.96672064, -1.0119557 ,\n",
       "         0.30758932],\n",
       "       [ 1.1124637 ,  0.01860371,  0.5846918 ,  1.1210414 , -0.2859292 ,\n",
       "         0.49519613],\n",
       "       [ 0.33190438,  0.41956145,  0.7447487 ,  0.8079997 , -0.34267092,\n",
       "         0.4110427 ],\n",
       "       [-0.13251537,  0.32878503,  0.4168952 ,  0.671958  ,  0.45344746,\n",
       "         0.37565616],\n",
       "       [ 0.95574135,  0.10272424,  0.4973775 ,  1.1053032 , -0.3862833 ,\n",
       "         0.24484923],\n",
       "       [ 1.1013541 , -0.68929607,  0.24117005,  0.59620786,  0.09306294,\n",
       "         0.0083589 ]], dtype=float32)>"
      ]
     },
     "execution_count": 28,
     "metadata": {},
     "output_type": "execute_result"
    }
   ],
   "source": [
    "freeze_bert(test_text)"
   ]
  },
  {
   "cell_type": "markdown",
   "id": "c0f31db5-dcb6-4072-82b1-a677351464b7",
   "metadata": {},
   "source": [
    "- Muestra el tamaño del modelo y los parámetros entrenables."
   ]
  },
  {
   "cell_type": "code",
   "execution_count": 29,
   "id": "0f67705b-9d40-4c4d-9040-f65153918d4c",
   "metadata": {
    "tags": []
   },
   "outputs": [
    {
     "name": "stdout",
     "output_type": "stream",
     "text": [
      "Model: \"model\"\n",
      "__________________________________________________________________________________________________\n",
      " Layer (type)                   Output Shape         Param #     Connected to                     \n",
      "==================================================================================================\n",
      " text (InputLayer)              [(None,)]            0           []                               \n",
      "                                                                                                  \n",
      " keras_layer (KerasLayer)       {'input_type_ids':   0           ['text[0][0]']                   \n",
      "                                (None, 128),                                                      \n",
      "                                 'input_mask': (Non                                               \n",
      "                                e, 128),                                                          \n",
      "                                 'input_word_ids':                                                \n",
      "                                (None, 128)}                                                      \n",
      "                                                                                                  \n",
      " keras_layer_3 (KerasLayer)     {'pooled_output': (  28763649    ['keras_layer[0][0]',            \n",
      "                                None, 512),                       'keras_layer[0][1]',            \n",
      "                                 'sequence_output':               'keras_layer[0][2]']            \n",
      "                                 (None, 128, 512),                                                \n",
      "                                 'encoder_outputs':                                               \n",
      "                                 [(None, 128, 512),                                               \n",
      "                                 (None, 128, 512),                                                \n",
      "                                 (None, 128, 512),                                                \n",
      "                                 (None, 128, 512)],                                               \n",
      "                                 'default': (None,                                                \n",
      "                                512)}                                                             \n",
      "                                                                                                  \n",
      " dense (Dense)                  (None, 128)          65664       ['keras_layer_3[0][5]']          \n",
      "                                                                                                  \n",
      " dense_1 (Dense)                (None, 6)            774         ['dense[0][0]']                  \n",
      "                                                                                                  \n",
      "==================================================================================================\n",
      "Total params: 28,830,087\n",
      "Trainable params: 66,438\n",
      "Non-trainable params: 28,763,649\n",
      "__________________________________________________________________________________________________\n"
     ]
    }
   ],
   "source": [
    "freeze_bert.summary()"
   ]
  },
  {
   "cell_type": "markdown",
   "id": "cdebba13-fac5-41ea-b281-f75e4bc65f3d",
   "metadata": {},
   "source": [
    "## 4.- Entrenamiento (última capa)"
   ]
  },
  {
   "cell_type": "code",
   "execution_count": 30,
   "id": "f918e087-deb2-4093-967f-ca79421211c3",
   "metadata": {
    "tags": []
   },
   "outputs": [],
   "source": [
    "lr = 0.0001\n",
    "opt = tf.keras.optimizers.Adam(learning_rate=lr)\n",
    "\n",
    "freeze_bert.compile(loss=tf.keras.losses.CategoricalCrossentropy(from_logits=True),\n",
    "                    optimizer=opt,\n",
    "                    metrics=['accuracy'])"
   ]
  },
  {
   "cell_type": "code",
   "execution_count": 31,
   "id": "1f87e3c1-0ec6-4f5a-991e-18567369e7e9",
   "metadata": {
    "tags": []
   },
   "outputs": [
    {
     "name": "stdout",
     "output_type": "stream",
     "text": [
      "Epoch 1/5\n",
      "1044/1044 [==============================] - 67s 63ms/step - loss: 1.0221 - accuracy: 0.6180 - val_loss: 0.7991 - val_accuracy: 0.6953\n",
      "Epoch 2/5\n",
      "1044/1044 [==============================] - 58s 56ms/step - loss: 0.7731 - accuracy: 0.7060 - val_loss: 0.7357 - val_accuracy: 0.7179\n",
      "Epoch 3/5\n",
      "1044/1044 [==============================] - 60s 57ms/step - loss: 0.7225 - accuracy: 0.7212 - val_loss: 0.6902 - val_accuracy: 0.7339\n",
      "Epoch 4/5\n",
      "1044/1044 [==============================] - 61s 59ms/step - loss: 0.6942 - accuracy: 0.7326 - val_loss: 0.6809 - val_accuracy: 0.7414\n",
      "Epoch 5/5\n",
      "1044/1044 [==============================] - 65s 62ms/step - loss: 0.6737 - accuracy: 0.7390 - val_loss: 0.6577 - val_accuracy: 0.7477\n"
     ]
    }
   ],
   "source": [
    "epochs = 5\n",
    "history = freeze_bert.fit(\n",
    "    train_ds,\n",
    "    validation_data=val_ds,\n",
    "    epochs=epochs)"
   ]
  },
  {
   "cell_type": "markdown",
   "id": "cdb9a492-780a-4990-b93c-fe36f0926892",
   "metadata": {},
   "source": [
    "### Evaluación"
   ]
  },
  {
   "cell_type": "code",
   "execution_count": 32,
   "id": "f9fab660-f261-4b27-97a8-54f84eba7ddc",
   "metadata": {
    "tags": []
   },
   "outputs": [
    {
     "name": "stdout",
     "output_type": "stream",
     "text": [
      "224/224 [==============================] - 11s 51ms/step - loss: 0.6700 - accuracy: 0.7434\n"
     ]
    },
    {
     "data": {
      "text/plain": [
       "[0.670005738735199, 0.7433603405952454]"
      ]
     },
     "execution_count": 32,
     "metadata": {},
     "output_type": "execute_result"
    }
   ],
   "source": [
    "freeze_bert.evaluate(test_ds)"
   ]
  },
  {
   "cell_type": "markdown",
   "id": "70218d2f-f442-4b92-8e96-dae43a77dd7b",
   "metadata": {},
   "source": [
    "## 6.- Entrenamiento (todas las capas)"
   ]
  },
  {
   "cell_type": "code",
   "execution_count": 33,
   "id": "1add2ff4-e03f-4aed-8e31-32e5d1e402fd",
   "metadata": {
    "tags": []
   },
   "outputs": [],
   "source": [
    "full_bert = get_model(bert_model_path, bert_preprocess_model, trainable=True)"
   ]
  },
  {
   "cell_type": "code",
   "execution_count": 34,
   "id": "1a49a3f5-eeee-4826-96da-8f4f6e4e458d",
   "metadata": {
    "tags": []
   },
   "outputs": [
    {
     "name": "stdout",
     "output_type": "stream",
     "text": [
      "Model: \"model_1\"\n",
      "__________________________________________________________________________________________________\n",
      " Layer (type)                   Output Shape         Param #     Connected to                     \n",
      "==================================================================================================\n",
      " text (InputLayer)              [(None,)]            0           []                               \n",
      "                                                                                                  \n",
      " keras_layer (KerasLayer)       {'input_type_ids':   0           ['text[0][0]']                   \n",
      "                                (None, 128),                                                      \n",
      "                                 'input_mask': (Non                                               \n",
      "                                e, 128),                                                          \n",
      "                                 'input_word_ids':                                                \n",
      "                                (None, 128)}                                                      \n",
      "                                                                                                  \n",
      " keras_layer_5 (KerasLayer)     {'pooled_output': (  28763649    ['keras_layer[1][0]',            \n",
      "                                None, 512),                       'keras_layer[1][1]',            \n",
      "                                 'sequence_output':               'keras_layer[1][2]']            \n",
      "                                 (None, 128, 512),                                                \n",
      "                                 'encoder_outputs':                                               \n",
      "                                 [(None, 128, 512),                                               \n",
      "                                 (None, 128, 512),                                                \n",
      "                                 (None, 128, 512),                                                \n",
      "                                 (None, 128, 512)],                                               \n",
      "                                 'default': (None,                                                \n",
      "                                512)}                                                             \n",
      "                                                                                                  \n",
      " dense_2 (Dense)                (None, 128)          65664       ['keras_layer_5[0][5]']          \n",
      "                                                                                                  \n",
      " dense_3 (Dense)                (None, 6)            774         ['dense_2[0][0]']                \n",
      "                                                                                                  \n",
      "==================================================================================================\n",
      "Total params: 28,830,087\n",
      "Trainable params: 28,830,086\n",
      "Non-trainable params: 1\n",
      "__________________________________________________________________________________________________\n"
     ]
    }
   ],
   "source": [
    "full_bert.summary()"
   ]
  },
  {
   "cell_type": "code",
   "execution_count": 35,
   "id": "2e67f78a-880b-424a-b798-1396fdfdd71f",
   "metadata": {},
   "outputs": [],
   "source": [
    "lr = 0.0001\n",
    "opt = tf.keras.optimizers.Adam(learning_rate=lr)\n",
    "\n",
    "full_bert.compile(loss=tf.keras.losses.CategoricalCrossentropy(from_logits=True),\n",
    "                    optimizer=opt,\n",
    "                    metrics=['accuracy'])"
   ]
  },
  {
   "cell_type": "code",
   "execution_count": 36,
   "id": "8dd1d627-0ab5-42ec-b4be-9527f6e1731b",
   "metadata": {},
   "outputs": [
    {
     "name": "stdout",
     "output_type": "stream",
     "text": [
      "Epoch 1/2\n",
      "1044/1044 [==============================] - 110s 98ms/step - loss: 0.4493 - accuracy: 0.8139 - val_loss: 0.3681 - val_accuracy: 0.8531\n",
      "Epoch 2/2\n",
      "1044/1044 [==============================] - 84s 80ms/step - loss: 0.3209 - accuracy: 0.8679 - val_loss: 0.3526 - val_accuracy: 0.8482\n"
     ]
    }
   ],
   "source": [
    "epochs = 2\n",
    "history = full_bert.fit(\n",
    "    train_ds,\n",
    "    validation_data=val_ds,\n",
    "    epochs=epochs)"
   ]
  },
  {
   "cell_type": "markdown",
   "id": "acc9bab1-ac91-4958-9f86-808917ccaba5",
   "metadata": {},
   "source": [
    "### Evaluación"
   ]
  },
  {
   "cell_type": "code",
   "execution_count": 37,
   "id": "e85e29d7-6f77-4692-b43e-0884707b7af0",
   "metadata": {},
   "outputs": [
    {
     "name": "stdout",
     "output_type": "stream",
     "text": [
      "224/224 [==============================] - 12s 53ms/step - loss: 0.3547 - accuracy: 0.8490\n"
     ]
    },
    {
     "data": {
      "text/plain": [
       "[0.35465729236602783, 0.8490355014801025]"
      ]
     },
     "execution_count": 37,
     "metadata": {},
     "output_type": "execute_result"
    }
   ],
   "source": [
    "full_bert.evaluate(test_ds)"
   ]
  },
  {
   "cell_type": "markdown",
   "id": "cd1aa502-cf5a-48fc-bcad-158f935c0730",
   "metadata": {},
   "source": [
    "## Ejercicio\n",
    "- Modifica la arquitectura y el entrenamiento para mejorar los resultados.\n",
    "- Prueba diferentes versiones de BERT: https://tfhub.dev/google/collections/bert/1."
   ]
  }
 ],
 "metadata": {
  "kernelspec": {
   "display_name": "Python 3 (ipykernel)",
   "language": "python",
   "name": "python3"
  },
  "language_info": {
   "codemirror_mode": {
    "name": "ipython",
    "version": 3
   },
   "file_extension": ".py",
   "mimetype": "text/x-python",
   "name": "python",
   "nbconvert_exporter": "python",
   "pygments_lexer": "ipython3",
   "version": "3.11.2"
  }
 },
 "nbformat": 4,
 "nbformat_minor": 5
}

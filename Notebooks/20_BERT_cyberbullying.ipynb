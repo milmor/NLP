{
 "cells": [
  {
   "cell_type": "markdown",
   "id": "4b00f678-39f7-4be2-aa51-cc4737fcd1a0",
   "metadata": {},
   "source": [
    "# Clasificación de cyberbullying con BERT\n",
    "\n",
    "<img src=\"../img/bert.png\" width=\"700\"/>\n",
    "\n",
    "__Imagen tomada de Devlin, J., Chang, M. W., Lee, K., & Toutanova, K. (2018). Bert: Pre-training of deep bidirectional transformers for language understanding. arXiv preprint arXiv:1810.04805.__"
   ]
  },
  {
   "cell_type": "markdown",
   "id": "9d1cd0c3-599d-4c44-a4df-fb42b5f49bb1",
   "metadata": {},
   "source": [
    "## 1.- Conjuntos de datos\n",
    "- Partición de entrenamiento, validación y prueba."
   ]
  },
  {
   "cell_type": "code",
   "execution_count": 1,
   "id": "5edc8baf-baf8-4a19-9faf-0f9e5d81312a",
   "metadata": {},
   "outputs": [],
   "source": [
    "import pandas as pd\n",
    "import matplotlib.pyplot as plt"
   ]
  },
  {
   "cell_type": "code",
   "execution_count": 2,
   "id": "a63f28a9-d4e6-4f37-9440-600c97d0a4dc",
   "metadata": {
    "scrolled": true,
    "tags": []
   },
   "outputs": [],
   "source": [
    "df = pd.read_csv('./cyberbullying_tweets.csv')   "
   ]
  },
  {
   "cell_type": "code",
   "execution_count": 3,
   "id": "0fe97422-d520-4b6f-80f9-b2336a709e0b",
   "metadata": {},
   "outputs": [
    {
     "data": {
      "text/html": [
       "<div>\n",
       "<style scoped>\n",
       "    .dataframe tbody tr th:only-of-type {\n",
       "        vertical-align: middle;\n",
       "    }\n",
       "\n",
       "    .dataframe tbody tr th {\n",
       "        vertical-align: top;\n",
       "    }\n",
       "\n",
       "    .dataframe thead th {\n",
       "        text-align: right;\n",
       "    }\n",
       "</style>\n",
       "<table border=\"1\" class=\"dataframe\">\n",
       "  <thead>\n",
       "    <tr style=\"text-align: right;\">\n",
       "      <th></th>\n",
       "      <th>tweet_text</th>\n",
       "      <th>cyberbullying_type</th>\n",
       "    </tr>\n",
       "  </thead>\n",
       "  <tbody>\n",
       "    <tr>\n",
       "      <th>0</th>\n",
       "      <td>In other words #katandandre, your food was cra...</td>\n",
       "      <td>not_cyberbullying</td>\n",
       "    </tr>\n",
       "    <tr>\n",
       "      <th>1</th>\n",
       "      <td>Why is #aussietv so white? #MKR #theblock #ImA...</td>\n",
       "      <td>not_cyberbullying</td>\n",
       "    </tr>\n",
       "    <tr>\n",
       "      <th>2</th>\n",
       "      <td>@XochitlSuckkks a classy whore? Or more red ve...</td>\n",
       "      <td>not_cyberbullying</td>\n",
       "    </tr>\n",
       "    <tr>\n",
       "      <th>3</th>\n",
       "      <td>@Jason_Gio meh. :P  thanks for the heads up, b...</td>\n",
       "      <td>not_cyberbullying</td>\n",
       "    </tr>\n",
       "    <tr>\n",
       "      <th>4</th>\n",
       "      <td>@RudhoeEnglish This is an ISIS account pretend...</td>\n",
       "      <td>not_cyberbullying</td>\n",
       "    </tr>\n",
       "  </tbody>\n",
       "</table>\n",
       "</div>"
      ],
      "text/plain": [
       "                                          tweet_text cyberbullying_type\n",
       "0  In other words #katandandre, your food was cra...  not_cyberbullying\n",
       "1  Why is #aussietv so white? #MKR #theblock #ImA...  not_cyberbullying\n",
       "2  @XochitlSuckkks a classy whore? Or more red ve...  not_cyberbullying\n",
       "3  @Jason_Gio meh. :P  thanks for the heads up, b...  not_cyberbullying\n",
       "4  @RudhoeEnglish This is an ISIS account pretend...  not_cyberbullying"
      ]
     },
     "execution_count": 3,
     "metadata": {},
     "output_type": "execute_result"
    }
   ],
   "source": [
    "df.head()"
   ]
  },
  {
   "cell_type": "code",
   "execution_count": 4,
   "id": "a73c028f-92d5-4d68-906e-06382ac6cb55",
   "metadata": {
    "tags": []
   },
   "outputs": [
    {
     "data": {
      "text/plain": [
       "array(['not_cyberbullying', 'gender', 'religion', 'other_cyberbullying',\n",
       "       'age', 'ethnicity'], dtype=object)"
      ]
     },
     "execution_count": 4,
     "metadata": {},
     "output_type": "execute_result"
    }
   ],
   "source": [
    "df['cyberbullying_type'].unique()"
   ]
  },
  {
   "cell_type": "code",
   "execution_count": 5,
   "id": "59821bc4-e63b-4872-b756-72751eb6f715",
   "metadata": {
    "tags": []
   },
   "outputs": [
    {
     "data": {
      "text/plain": [
       "cyberbullying_type\n",
       "religion               7998\n",
       "age                    7992\n",
       "gender                 7973\n",
       "ethnicity              7961\n",
       "not_cyberbullying      7945\n",
       "other_cyberbullying    7823\n",
       "Name: count, dtype: int64"
      ]
     },
     "execution_count": 5,
     "metadata": {},
     "output_type": "execute_result"
    }
   ],
   "source": [
    "# Contar elementos por clase\n",
    "count = df['cyberbullying_type'].value_counts()\n",
    "count"
   ]
  },
  {
   "cell_type": "code",
   "execution_count": 6,
   "id": "3d6022f1-8c26-4734-a5ae-6e99c54739d6",
   "metadata": {
    "tags": []
   },
   "outputs": [],
   "source": [
    "from sklearn.model_selection import train_test_split\n",
    "train_df, test_df= train_test_split(df, test_size = 0.30, random_state = 123)"
   ]
  },
  {
   "cell_type": "code",
   "execution_count": 7,
   "id": "44242ec8-cbbd-4f84-a15e-5736cfff1cb5",
   "metadata": {
    "tags": []
   },
   "outputs": [
    {
     "data": {
      "text/plain": [
       "cyberbullying_type\n",
       "gender                 5655\n",
       "not_cyberbullying      5610\n",
       "ethnicity              5601\n",
       "age                    5573\n",
       "religion               5557\n",
       "other_cyberbullying    5388\n",
       "Name: count, dtype: int64"
      ]
     },
     "execution_count": 7,
     "metadata": {},
     "output_type": "execute_result"
    }
   ],
   "source": [
    "train_df['cyberbullying_type'].value_counts()"
   ]
  },
  {
   "cell_type": "code",
   "execution_count": 8,
   "id": "64eb3df4-1615-4f08-9181-cb55f4bc355e",
   "metadata": {
    "tags": []
   },
   "outputs": [],
   "source": [
    "val_df, test_df= train_test_split(test_df, test_size = 0.50, random_state = 123)"
   ]
  },
  {
   "cell_type": "code",
   "execution_count": 9,
   "id": "71627377-e116-4464-ba0f-5390e22dab05",
   "metadata": {
    "tags": []
   },
   "outputs": [
    {
     "data": {
      "text/plain": [
       "cyberbullying_type\n",
       "religion               1250\n",
       "other_cyberbullying    1219\n",
       "age                    1198\n",
       "gender                 1177\n",
       "ethnicity              1164\n",
       "not_cyberbullying      1146\n",
       "Name: count, dtype: int64"
      ]
     },
     "execution_count": 9,
     "metadata": {},
     "output_type": "execute_result"
    }
   ],
   "source": [
    "val_df['cyberbullying_type'].value_counts()"
   ]
  },
  {
   "cell_type": "code",
   "execution_count": 10,
   "id": "7c6221f9-8aab-492a-a835-de9028f8c374",
   "metadata": {
    "tags": []
   },
   "outputs": [
    {
     "data": {
      "text/plain": [
       "cyberbullying_type\n",
       "age                    1221\n",
       "other_cyberbullying    1216\n",
       "ethnicity              1196\n",
       "religion               1191\n",
       "not_cyberbullying      1189\n",
       "gender                 1141\n",
       "Name: count, dtype: int64"
      ]
     },
     "execution_count": 10,
     "metadata": {},
     "output_type": "execute_result"
    }
   ],
   "source": [
    "test_df['cyberbullying_type'].value_counts()"
   ]
  },
  {
   "cell_type": "markdown",
   "id": "bb0ca784-81d1-4294-923f-6ae1882587d9",
   "metadata": {},
   "source": [
    "## 2.- Preprocesamiento"
   ]
  },
  {
   "cell_type": "code",
   "execution_count": 11,
   "id": "454a30f7-c59e-4522-b77a-1390eae132db",
   "metadata": {
    "tags": []
   },
   "outputs": [
    {
     "data": {
      "text/html": [
       "<div>\n",
       "<style scoped>\n",
       "    .dataframe tbody tr th:only-of-type {\n",
       "        vertical-align: middle;\n",
       "    }\n",
       "\n",
       "    .dataframe tbody tr th {\n",
       "        vertical-align: top;\n",
       "    }\n",
       "\n",
       "    .dataframe thead th {\n",
       "        text-align: right;\n",
       "    }\n",
       "</style>\n",
       "<table border=\"1\" class=\"dataframe\">\n",
       "  <thead>\n",
       "    <tr style=\"text-align: right;\">\n",
       "      <th></th>\n",
       "      <th>tweet_text</th>\n",
       "      <th>cyberbullying_type</th>\n",
       "    </tr>\n",
       "  </thead>\n",
       "  <tbody>\n",
       "    <tr>\n",
       "      <th>26651</th>\n",
       "      <td>@AntonSirius @erinspice @prpltnkr @ChiefElk oh...</td>\n",
       "      <td>3</td>\n",
       "    </tr>\n",
       "    <tr>\n",
       "      <th>4820</th>\n",
       "      <td>Ladies \"Bedroom Bully\" The Mix Cd By @GappyRan...</td>\n",
       "      <td>0</td>\n",
       "    </tr>\n",
       "    <tr>\n",
       "      <th>1847</th>\n",
       "      <td>RT @_bobbidana: Never thought I'd say this but...</td>\n",
       "      <td>0</td>\n",
       "    </tr>\n",
       "    <tr>\n",
       "      <th>20653</th>\n",
       "      <td>She is intellectual terrorists and world suffe...</td>\n",
       "      <td>2</td>\n",
       "    </tr>\n",
       "    <tr>\n",
       "      <th>19195</th>\n",
       "      <td>You saudias are not friends of Muslim idiots c...</td>\n",
       "      <td>2</td>\n",
       "    </tr>\n",
       "  </tbody>\n",
       "</table>\n",
       "</div>"
      ],
      "text/plain": [
       "                                              tweet_text  cyberbullying_type\n",
       "26651  @AntonSirius @erinspice @prpltnkr @ChiefElk oh...                   3\n",
       "4820   Ladies \"Bedroom Bully\" The Mix Cd By @GappyRan...                   0\n",
       "1847   RT @_bobbidana: Never thought I'd say this but...                   0\n",
       "20653  She is intellectual terrorists and world suffe...                   2\n",
       "19195  You saudias are not friends of Muslim idiots c...                   2"
      ]
     },
     "execution_count": 11,
     "metadata": {},
     "output_type": "execute_result"
    }
   ],
   "source": [
    "# Creamos un diccionario que mapea cada etiqueta a un número entero\n",
    "labels_dict = {\n",
    "    'not_cyberbullying': 0,\n",
    "    'gender': 1,\n",
    "    'religion': 2,\n",
    "    'other_cyberbullying': 3,\n",
    "    'age': 4,\n",
    "    'ethnicity': 5\n",
    "}\n",
    "\n",
    "# Usamos la función map() para reemplazar cada etiqueta con su valor entero correspondiente\n",
    "train_df['cyberbullying_type'] = train_df['cyberbullying_type'].replace(labels_dict)\n",
    "val_df['cyberbullying_type'] = val_df['cyberbullying_type'].replace(labels_dict)\n",
    "test_df['cyberbullying_type'] = test_df['cyberbullying_type'].replace(labels_dict)\n",
    "\n",
    "train_df.head()"
   ]
  },
  {
   "cell_type": "markdown",
   "id": "82d36938-df30-4bc1-a7b8-2c8c58be37ae",
   "metadata": {
    "tags": []
   },
   "source": [
    "- Verifica cadenas vacias."
   ]
  },
  {
   "cell_type": "code",
   "execution_count": 12,
   "id": "616ec96f-a709-41b7-9e85-6262bac0cd74",
   "metadata": {},
   "outputs": [
    {
     "data": {
      "text/plain": [
       "0"
      ]
     },
     "execution_count": 12,
     "metadata": {},
     "output_type": "execute_result"
    }
   ],
   "source": [
    "train_df['tweet_text'].isna().sum()"
   ]
  },
  {
   "cell_type": "markdown",
   "id": "3eb4b12e-9ea6-492f-906c-e2a205ca0061",
   "metadata": {},
   "source": [
    "- Elimina puntuación y convierte a minúsculas.\n",
    "- Se utiliza el método __str.translate()__ para eliminar todos los caracteres de puntuación mediante una tabla de traducción creada con el método __str.maketrans__. La constante string.punctuation contiene todos los caracteres de puntuación ASCII, que se eliminan de los valores en la columna."
   ]
  },
  {
   "cell_type": "code",
   "execution_count": 13,
   "id": "16ff03a8-76aa-4786-a794-e6744a45bc47",
   "metadata": {},
   "outputs": [
    {
     "data": {
      "text/plain": [
       "'!\"#$%&\\'()*+,-./:;<=>?@[\\\\]^_`{|}~'"
      ]
     },
     "execution_count": 13,
     "metadata": {},
     "output_type": "execute_result"
    }
   ],
   "source": [
    "import string\n",
    "string.punctuation"
   ]
  },
  {
   "cell_type": "code",
   "execution_count": 14,
   "id": "6a5aa290-98ec-4e71-a4e4-69efc463f8ec",
   "metadata": {},
   "outputs": [
    {
     "data": {
      "text/html": [
       "<div>\n",
       "<style scoped>\n",
       "    .dataframe tbody tr th:only-of-type {\n",
       "        vertical-align: middle;\n",
       "    }\n",
       "\n",
       "    .dataframe tbody tr th {\n",
       "        vertical-align: top;\n",
       "    }\n",
       "\n",
       "    .dataframe thead th {\n",
       "        text-align: right;\n",
       "    }\n",
       "</style>\n",
       "<table border=\"1\" class=\"dataframe\">\n",
       "  <thead>\n",
       "    <tr style=\"text-align: right;\">\n",
       "      <th></th>\n",
       "      <th>tweet_text</th>\n",
       "      <th>cyberbullying_type</th>\n",
       "    </tr>\n",
       "  </thead>\n",
       "  <tbody>\n",
       "    <tr>\n",
       "      <th>26651</th>\n",
       "      <td>antonsirius erinspice prpltnkr chiefelk oh dea...</td>\n",
       "      <td>3</td>\n",
       "    </tr>\n",
       "    <tr>\n",
       "      <th>4820</th>\n",
       "      <td>ladies bedroom bully the mix cd by gappyranks ...</td>\n",
       "      <td>0</td>\n",
       "    </tr>\n",
       "    <tr>\n",
       "      <th>1847</th>\n",
       "      <td>rt bobbidana never thought id say this but i h...</td>\n",
       "      <td>0</td>\n",
       "    </tr>\n",
       "    <tr>\n",
       "      <th>20653</th>\n",
       "      <td>she is intellectual terrorists and world suffe...</td>\n",
       "      <td>2</td>\n",
       "    </tr>\n",
       "    <tr>\n",
       "      <th>19195</th>\n",
       "      <td>you saudias are not friends of muslim idiots c...</td>\n",
       "      <td>2</td>\n",
       "    </tr>\n",
       "  </tbody>\n",
       "</table>\n",
       "</div>"
      ],
      "text/plain": [
       "                                              tweet_text  cyberbullying_type\n",
       "26651  antonsirius erinspice prpltnkr chiefelk oh dea...                   3\n",
       "4820   ladies bedroom bully the mix cd by gappyranks ...                   0\n",
       "1847   rt bobbidana never thought id say this but i h...                   0\n",
       "20653  she is intellectual terrorists and world suffe...                   2\n",
       "19195  you saudias are not friends of muslim idiots c...                   2"
      ]
     },
     "execution_count": 14,
     "metadata": {},
     "output_type": "execute_result"
    }
   ],
   "source": [
    "train_df['tweet_text'] = train_df['tweet_text'].str.lower().str.translate(str.maketrans('', '', string.punctuation))\n",
    "train_df.head()"
   ]
  },
  {
   "cell_type": "code",
   "execution_count": 15,
   "id": "ee3ad12a-07bf-4535-a40d-140e89adb504",
   "metadata": {
    "tags": []
   },
   "outputs": [
    {
     "data": {
      "text/html": [
       "<div>\n",
       "<style scoped>\n",
       "    .dataframe tbody tr th:only-of-type {\n",
       "        vertical-align: middle;\n",
       "    }\n",
       "\n",
       "    .dataframe tbody tr th {\n",
       "        vertical-align: top;\n",
       "    }\n",
       "\n",
       "    .dataframe thead th {\n",
       "        text-align: right;\n",
       "    }\n",
       "</style>\n",
       "<table border=\"1\" class=\"dataframe\">\n",
       "  <thead>\n",
       "    <tr style=\"text-align: right;\">\n",
       "      <th></th>\n",
       "      <th>tweet_text</th>\n",
       "      <th>cyberbullying_type</th>\n",
       "    </tr>\n",
       "  </thead>\n",
       "  <tbody>\n",
       "    <tr>\n",
       "      <th>21718</th>\n",
       "      <td>but you idiot tagged and more also im a muslim</td>\n",
       "      <td>2</td>\n",
       "    </tr>\n",
       "    <tr>\n",
       "      <th>45048</th>\n",
       "      <td>sexylala thats a dumb nigger never fuck lala h...</td>\n",
       "      <td>5</td>\n",
       "    </tr>\n",
       "    <tr>\n",
       "      <th>40415</th>\n",
       "      <td>i never hear hispanics calling each other brow...</td>\n",
       "      <td>5</td>\n",
       "    </tr>\n",
       "    <tr>\n",
       "      <th>40212</th>\n",
       "      <td>lennybanx nigger read it again such a dumb ass...</td>\n",
       "      <td>5</td>\n",
       "    </tr>\n",
       "    <tr>\n",
       "      <th>35187</th>\n",
       "      <td>she was a mean girl in high school she and mim...</td>\n",
       "      <td>4</td>\n",
       "    </tr>\n",
       "  </tbody>\n",
       "</table>\n",
       "</div>"
      ],
      "text/plain": [
       "                                              tweet_text  cyberbullying_type\n",
       "21718     but you idiot tagged and more also im a muslim                   2\n",
       "45048  sexylala thats a dumb nigger never fuck lala h...                   5\n",
       "40415  i never hear hispanics calling each other brow...                   5\n",
       "40212  lennybanx nigger read it again such a dumb ass...                   5\n",
       "35187  she was a mean girl in high school she and mim...                   4"
      ]
     },
     "execution_count": 15,
     "metadata": {},
     "output_type": "execute_result"
    }
   ],
   "source": [
    "val_df['tweet_text'] = val_df['tweet_text'].str.lower().str.translate(str.maketrans('', '', string.punctuation))\n",
    "val_df.head()"
   ]
  },
  {
   "cell_type": "code",
   "execution_count": 16,
   "id": "a72ddd22-0f62-4b47-99a3-881434df7eec",
   "metadata": {
    "tags": []
   },
   "outputs": [
    {
     "data": {
      "text/html": [
       "<div>\n",
       "<style scoped>\n",
       "    .dataframe tbody tr th:only-of-type {\n",
       "        vertical-align: middle;\n",
       "    }\n",
       "\n",
       "    .dataframe tbody tr th {\n",
       "        vertical-align: top;\n",
       "    }\n",
       "\n",
       "    .dataframe thead th {\n",
       "        text-align: right;\n",
       "    }\n",
       "</style>\n",
       "<table border=\"1\" class=\"dataframe\">\n",
       "  <thead>\n",
       "    <tr style=\"text-align: right;\">\n",
       "      <th></th>\n",
       "      <th>tweet_text</th>\n",
       "      <th>cyberbullying_type</th>\n",
       "    </tr>\n",
       "  </thead>\n",
       "  <tbody>\n",
       "    <tr>\n",
       "      <th>21235</th>\n",
       "      <td>dankmtl yeap as a little propaganda nazi for t...</td>\n",
       "      <td>2</td>\n",
       "    </tr>\n",
       "    <tr>\n",
       "      <th>28344</th>\n",
       "      <td>lyndseyboo wow leave lyndsey phone alone bully...</td>\n",
       "      <td>3</td>\n",
       "    </tr>\n",
       "    <tr>\n",
       "      <th>31648</th>\n",
       "      <td>im not a man only know how to bully people</td>\n",
       "      <td>3</td>\n",
       "    </tr>\n",
       "    <tr>\n",
       "      <th>21779</th>\n",
       "      <td>urgedharry nyazpolitics greenlinerzjm if you a...</td>\n",
       "      <td>2</td>\n",
       "    </tr>\n",
       "    <tr>\n",
       "      <th>44850</th>\n",
       "      <td>calling people dumb isnt nice  rt tayyoung fuc...</td>\n",
       "      <td>5</td>\n",
       "    </tr>\n",
       "  </tbody>\n",
       "</table>\n",
       "</div>"
      ],
      "text/plain": [
       "                                              tweet_text  cyberbullying_type\n",
       "21235  dankmtl yeap as a little propaganda nazi for t...                   2\n",
       "28344  lyndseyboo wow leave lyndsey phone alone bully...                   3\n",
       "31648        im not a man only know how to bully people                    3\n",
       "21779  urgedharry nyazpolitics greenlinerzjm if you a...                   2\n",
       "44850  calling people dumb isnt nice  rt tayyoung fuc...                   5"
      ]
     },
     "execution_count": 16,
     "metadata": {},
     "output_type": "execute_result"
    }
   ],
   "source": [
    "test_df['tweet_text'] = test_df['tweet_text'].str.lower().str.translate(str.maketrans('', '', string.punctuation))\n",
    "test_df.head()"
   ]
  },
  {
   "cell_type": "markdown",
   "id": "a651ba97-16f3-47fd-9798-5353586f346d",
   "metadata": {},
   "source": [
    "## 3.- Pipeline"
   ]
  },
  {
   "cell_type": "code",
   "execution_count": 17,
   "id": "a0182532-66f2-4482-9630-bda5d1470d76",
   "metadata": {},
   "outputs": [],
   "source": [
    "import os\n",
    "os.environ['TF_CPP_MIN_LOG_LEVEL'] = '3' # Disable tensorflow debugging logs\n",
    "import tensorflow as tf\n",
    "import tensorflow_hub as hub\n",
    "import tensorflow_text as text\n",
    "\n",
    "X_train = train_df['tweet_text'].values\n",
    "y_train = train_df['cyberbullying_type'].values\n",
    "\n",
    "X_val = val_df['tweet_text'].values\n",
    "y_val = val_df['cyberbullying_type'].values\n",
    "\n",
    "X_test = test_df['tweet_text'].values\n",
    "y_test = test_df['cyberbullying_type'].values"
   ]
  },
  {
   "cell_type": "code",
   "execution_count": 18,
   "id": "f8896562-dd30-431b-a7a1-55d084586352",
   "metadata": {
    "tags": []
   },
   "outputs": [
    {
     "data": {
      "text/plain": [
       "(33384, 7154, 7154)"
      ]
     },
     "execution_count": 18,
     "metadata": {},
     "output_type": "execute_result"
    }
   ],
   "source": [
    "len(X_train), len(X_val), len(X_test)"
   ]
  },
  {
   "cell_type": "code",
   "execution_count": 19,
   "id": "36d1a088-4c8c-4851-b53f-07e3432c3870",
   "metadata": {
    "scrolled": true,
    "tags": []
   },
   "outputs": [],
   "source": [
    "raw_train_ds = tf.data.Dataset.from_tensor_slices((X_train, y_train))\n",
    "raw_val_ds = tf.data.Dataset.from_tensor_slices((X_val, y_val))\n",
    "raw_test_ds = tf.data.Dataset.from_tensor_slices((X_test, y_test))"
   ]
  },
  {
   "cell_type": "code",
   "execution_count": 20,
   "id": "e9bc2927-b548-4dea-a742-8d4b4851de51",
   "metadata": {
    "tags": []
   },
   "outputs": [],
   "source": [
    "# Define a function to convert the label to a one-hot encoding\n",
    "def convert_label_to_one_hot(text, label):\n",
    "    one_hot_label = tf.one_hot(label, 6)\n",
    "    return text, one_hot_label\n",
    "\n",
    "# Apply the function to the dataset using map()\n",
    "raw_train_ds = raw_train_ds.map(convert_label_to_one_hot)\n",
    "raw_val_ds = raw_val_ds.map(convert_label_to_one_hot)\n",
    "raw_test_ds = raw_test_ds.map(convert_label_to_one_hot)\n",
    "\n",
    "batch_size = 32\n",
    "train_ds = raw_train_ds.shuffle(40538).batch(batch_size)\n",
    "val_ds = raw_val_ds.batch(batch_size)\n",
    "test_ds = raw_test_ds.batch(batch_size)"
   ]
  },
  {
   "cell_type": "code",
   "execution_count": 21,
   "id": "ca52df01-e9a5-447e-a054-e61ec59542f0",
   "metadata": {
    "tags": []
   },
   "outputs": [
    {
     "name": "stdout",
     "output_type": "stream",
     "text": [
      "tf.Tensor(b'i was bullied in jr high i was embarrassed that my mom called a meeting with the principal and the girls who bullied me the aftermath neither of them talked to me again and i lost all my other friends i didn\\xe2\\x80\\x99t have a friend until junior year of high school i survived', shape=(), dtype=string) tf.Tensor([0. 0. 0. 0. 1. 0.], shape=(6,), dtype=float32)\n"
     ]
    }
   ],
   "source": [
    "for test_text, test_target in train_ds.take(1):\n",
    "    print(test_text[0], test_target[0])"
   ]
  },
  {
   "cell_type": "markdown",
   "id": "5552e9cc-c220-4244-a12d-c60750cf12f4",
   "metadata": {},
   "source": [
    "## 3.- Modelo"
   ]
  },
  {
   "cell_type": "code",
   "execution_count": 22,
   "id": "03e0bc43-d4f3-428d-a5cc-8d0e277e4c74",
   "metadata": {
    "tags": []
   },
   "outputs": [],
   "source": [
    "bert_model_path = 'https://tfhub.dev/tensorflow/small_bert/bert_en_uncased_L-4_H-512_A-8/1'\n",
    "bert_preprocess_path = 'https://tfhub.dev/tensorflow/bert_en_uncased_preprocess/3'"
   ]
  },
  {
   "cell_type": "code",
   "execution_count": 23,
   "id": "cdcb13f0-e7d8-4ce8-838f-d1ea50d14918",
   "metadata": {
    "tags": []
   },
   "outputs": [],
   "source": [
    "import tensorflow_hub as hub"
   ]
  },
  {
   "cell_type": "markdown",
   "id": "1379330b-135f-40ea-89f8-c27741ef025d",
   "metadata": {},
   "source": [
    "### Capa de preprocesamiento"
   ]
  },
  {
   "cell_type": "code",
   "execution_count": 24,
   "id": "622cc214-5d29-4380-b5ef-24d98f80f887",
   "metadata": {
    "tags": []
   },
   "outputs": [],
   "source": [
    "bert_preprocess_model = hub.KerasLayer(bert_preprocess_path)"
   ]
  },
  {
   "cell_type": "code",
   "execution_count": 25,
   "id": "d11d6c66-4381-489b-8fb7-3c2d03831dfe",
   "metadata": {
    "tags": []
   },
   "outputs": [
    {
     "data": {
      "text/plain": [
       "{'input_type_ids': <tf.Tensor: shape=(32, 128), dtype=int32, numpy=\n",
       " array([[0, 0, 0, ..., 0, 0, 0],\n",
       "        [0, 0, 0, ..., 0, 0, 0],\n",
       "        [0, 0, 0, ..., 0, 0, 0],\n",
       "        ...,\n",
       "        [0, 0, 0, ..., 0, 0, 0],\n",
       "        [0, 0, 0, ..., 0, 0, 0],\n",
       "        [0, 0, 0, ..., 0, 0, 0]], dtype=int32)>,\n",
       " 'input_mask': <tf.Tensor: shape=(32, 128), dtype=int32, numpy=\n",
       " array([[1, 1, 1, ..., 0, 0, 0],\n",
       "        [1, 1, 1, ..., 0, 0, 0],\n",
       "        [1, 1, 1, ..., 0, 0, 0],\n",
       "        ...,\n",
       "        [1, 1, 1, ..., 0, 0, 0],\n",
       "        [1, 1, 1, ..., 0, 0, 0],\n",
       "        [1, 1, 1, ..., 0, 0, 0]], dtype=int32)>,\n",
       " 'input_word_ids': <tf.Tensor: shape=(32, 128), dtype=int32, numpy=\n",
       " array([[  101,  1045,  2001, ...,     0,     0,     0],\n",
       "        [  101, 28072,  1997, ...,     0,     0,     0],\n",
       "        [  101, 22135,  2378, ...,     0,     0,     0],\n",
       "        ...,\n",
       "        [  101, 27357,  1998, ...,     0,     0,     0],\n",
       "        [  101,  1045,  2001, ...,     0,     0,     0],\n",
       "        [  101,  2613,  3489, ...,     0,     0,     0]], dtype=int32)>}"
      ]
     },
     "execution_count": 25,
     "metadata": {},
     "output_type": "execute_result"
    }
   ],
   "source": [
    "preprocess_output = bert_preprocess_model(test_text)\n",
    "preprocess_output"
   ]
  },
  {
   "cell_type": "markdown",
   "id": "0e9964e9-6e67-4883-a16d-cce17a3c63bc",
   "metadata": {},
   "source": [
    "### BERT"
   ]
  },
  {
   "cell_type": "code",
   "execution_count": 26,
   "id": "8b516206-2164-4421-96c8-184e43155bf4",
   "metadata": {
    "tags": []
   },
   "outputs": [
    {
     "data": {
      "text/plain": [
       "<tf.Tensor: shape=(32, 512), dtype=float32, numpy=\n",
       "array([[ 0.6754461 ,  0.87300223, -0.07938088, ..., -0.23297484,\n",
       "        -0.7599684 , -0.56674814],\n",
       "       [ 0.9940843 ,  0.9376225 ,  0.09532023, ...,  0.15553617,\n",
       "        -0.3437756 , -0.89018375],\n",
       "       [ 0.9456782 ,  0.99337417,  0.10556526, ...,  0.11636379,\n",
       "        -0.35791665, -0.9988588 ],\n",
       "       ...,\n",
       "       [ 0.91880494,  0.99298656, -0.23759362, ...,  0.10950278,\n",
       "        -0.3110514 , -0.973622  ],\n",
       "       [ 0.9930261 ,  0.97283703, -0.08376586, ..., -0.13618639,\n",
       "        -0.45099175, -0.716974  ],\n",
       "       [ 0.99551946,  0.9802226 , -0.14354205, ...,  0.23630267,\n",
       "        -0.08465983, -0.92807204]], dtype=float32)>"
      ]
     },
     "execution_count": 26,
     "metadata": {},
     "output_type": "execute_result"
    }
   ],
   "source": [
    "bert_model = hub.KerasLayer(bert_model_path)\n",
    "bert_model(preprocess_output)['pooled_output']"
   ]
  },
  {
   "cell_type": "markdown",
   "id": "65ed5384-ad4c-45ac-bca7-20eb3bb05536",
   "metadata": {},
   "source": [
    "### Modelo\n",
    "- Se agrega una capa final a BERT para adaptarlo al dataset de Cyberbullying (6 clases)."
   ]
  },
  {
   "cell_type": "code",
   "execution_count": 27,
   "id": "52401e10-ade1-4f2a-9de7-036b7ee85556",
   "metadata": {},
   "outputs": [],
   "source": [
    "text_input = tf.keras.layers.Input(shape=(), dtype=tf.string, name='text')\n",
    "preprocess_text = bert_preprocess_model(text_input)\n",
    "bert_output = bert_model(preprocess_text)['pooled_output']\n",
    "x = tf.keras.layers.Dense(128, activation='relu')(bert_output)\n",
    "output = tf.keras.layers.Dense(6)(x)\n",
    "small_bert = tf.keras.Model(text_input, output)"
   ]
  },
  {
   "cell_type": "markdown",
   "id": "edfad2bc-0e0c-4ab2-b7d5-1a6cdddf5860",
   "metadata": {
    "tags": []
   },
   "source": [
    "- Prueba de las salidas de BERT."
   ]
  },
  {
   "cell_type": "code",
   "execution_count": 28,
   "id": "862068ba-6861-441c-9ee2-dcd71a818bb1",
   "metadata": {
    "scrolled": true,
    "tags": []
   },
   "outputs": [
    {
     "data": {
      "text/plain": [
       "<tf.Tensor: shape=(32, 6), dtype=float32, numpy=\n",
       "array([[-1.2818291 , -0.57609606,  0.07056177, -0.3268513 ,  1.3554054 ,\n",
       "        -1.5611196 ],\n",
       "       [-1.079848  , -1.524926  ,  0.65202874, -0.17657088,  0.9400205 ,\n",
       "        -1.3174303 ],\n",
       "       [-1.0043535 , -1.6620826 ,  0.41781086, -0.3135606 ,  0.11077794,\n",
       "        -2.0184412 ],\n",
       "       [-0.7699677 , -1.1490512 ,  0.80352944,  0.3766127 , -0.2546184 ,\n",
       "        -0.5714548 ],\n",
       "       [-1.3192791 , -1.3638387 ,  0.3390544 ,  0.33671215,  1.1618032 ,\n",
       "        -1.7866253 ],\n",
       "       [-0.82447857, -1.3321295 ,  0.4555624 , -0.4780364 ,  0.8352588 ,\n",
       "        -1.6355028 ],\n",
       "       [-0.52484214, -1.193274  ,  0.71281207, -0.47896132,  0.752033  ,\n",
       "        -0.74088734],\n",
       "       [-0.8660503 , -1.0314274 ,  0.7957493 , -0.29176772,  1.0689174 ,\n",
       "        -1.4805555 ],\n",
       "       [-0.5282816 , -0.8882779 ,  0.7064259 ,  0.22719693,  0.5840322 ,\n",
       "        -1.4146801 ],\n",
       "       [-1.398814  , -1.507017  ,  0.20048171,  0.07269353,  1.0634654 ,\n",
       "        -1.5260015 ],\n",
       "       [-0.91858864, -1.3376387 ,  1.5195814 , -0.29279244,  0.56045055,\n",
       "        -1.3084064 ],\n",
       "       [-0.4631155 , -1.2403243 ,  0.25605214, -0.2772838 , -0.14201166,\n",
       "        -1.2930075 ],\n",
       "       [-0.50482893, -1.1068566 ,  0.36544484, -0.5629909 ,  0.29474604,\n",
       "        -0.8015428 ],\n",
       "       [-0.7586272 , -1.8892072 ,  0.38350785, -0.30803278,  0.89696914,\n",
       "        -0.88572013],\n",
       "       [-0.8225492 , -1.1917582 ,  0.42105007, -0.07052666,  1.0033782 ,\n",
       "        -0.9488335 ],\n",
       "       [-0.06689833, -1.4265745 ,  0.6624254 , -0.05901605,  0.61950076,\n",
       "        -1.9195771 ],\n",
       "       [-1.1411948 , -1.1658664 ,  0.59734297, -0.13808659,  0.6019358 ,\n",
       "        -1.1472647 ],\n",
       "       [-0.5614065 , -1.1744306 ,  0.37233666,  0.08457363,  0.74263346,\n",
       "        -1.1806258 ],\n",
       "       [-1.5107822 , -1.6197011 ,  0.11355364,  0.1469065 ,  0.68300843,\n",
       "        -1.4334298 ],\n",
       "       [-0.86826473, -1.5469868 ,  0.21816397,  0.14854366,  0.5415462 ,\n",
       "        -1.2110314 ],\n",
       "       [-1.4702945 , -1.0736401 ,  0.495578  , -0.47353542,  1.5877568 ,\n",
       "        -1.6595353 ],\n",
       "       [-0.5719911 , -1.4309655 ,  0.81806916,  0.04590216,  0.25692588,\n",
       "        -1.1715306 ],\n",
       "       [-0.9952849 , -1.2834144 ,  0.22345269, -0.5414839 ,  0.59778076,\n",
       "        -1.4356608 ],\n",
       "       [-0.7294887 , -1.6284547 ,  0.5160977 , -0.5135616 ,  0.9666507 ,\n",
       "        -1.5599256 ],\n",
       "       [-0.4446785 , -1.6999333 ,  0.15493295, -0.8862446 ,  0.57206655,\n",
       "        -0.98317885],\n",
       "       [-0.95552695, -1.0254622 ,  0.53273875, -0.8659459 ,  0.81694126,\n",
       "        -1.6854026 ],\n",
       "       [-0.842745  , -1.4094095 ,  0.7859507 , -0.7662227 ,  1.1521704 ,\n",
       "        -1.3035445 ],\n",
       "       [-0.6774546 , -2.3391929 ,  0.39445543, -0.28006747,  0.86535704,\n",
       "        -1.0393906 ],\n",
       "       [-0.80907965, -1.6126056 ,  1.104254  , -0.28819665,  0.3282627 ,\n",
       "        -1.0679598 ],\n",
       "       [-0.57787466, -1.2285374 ,  0.85677177, -0.6010026 ,  0.48664343,\n",
       "        -1.5423517 ],\n",
       "       [-1.152261  , -0.89593416,  1.1397095 , -0.6035249 ,  0.14106286,\n",
       "        -1.3830775 ],\n",
       "       [-0.87554324, -1.7523491 ,  0.42401418, -0.21449274,  0.8233293 ,\n",
       "        -1.2268691 ]], dtype=float32)>"
      ]
     },
     "execution_count": 28,
     "metadata": {},
     "output_type": "execute_result"
    }
   ],
   "source": [
    "small_bert(test_text)"
   ]
  },
  {
   "cell_type": "markdown",
   "id": "c0f31db5-dcb6-4072-82b1-a677351464b7",
   "metadata": {},
   "source": [
    "- Muestra el tamaño del modelo y los parámetros entrenables."
   ]
  },
  {
   "cell_type": "code",
   "execution_count": 29,
   "id": "0f67705b-9d40-4c4d-9040-f65153918d4c",
   "metadata": {
    "tags": []
   },
   "outputs": [
    {
     "name": "stdout",
     "output_type": "stream",
     "text": [
      "Model: \"model\"\n",
      "__________________________________________________________________________________________________\n",
      " Layer (type)                   Output Shape         Param #     Connected to                     \n",
      "==================================================================================================\n",
      " text (InputLayer)              [(None,)]            0           []                               \n",
      "                                                                                                  \n",
      " keras_layer (KerasLayer)       {'input_type_ids':   0           ['text[0][0]']                   \n",
      "                                (None, 128),                                                      \n",
      "                                 'input_mask': (Non                                               \n",
      "                                e, 128),                                                          \n",
      "                                 'input_word_ids':                                                \n",
      "                                (None, 128)}                                                      \n",
      "                                                                                                  \n",
      " keras_layer_1 (KerasLayer)     {'pooled_output': (  28763649    ['keras_layer[0][0]',            \n",
      "                                None, 512),                       'keras_layer[0][1]',            \n",
      "                                 'sequence_output':               'keras_layer[0][2]']            \n",
      "                                 (None, 128, 512),                                                \n",
      "                                 'encoder_outputs':                                               \n",
      "                                 [(None, 128, 512),                                               \n",
      "                                 (None, 128, 512),                                                \n",
      "                                 (None, 128, 512),                                                \n",
      "                                 (None, 128, 512)],                                               \n",
      "                                 'default': (None,                                                \n",
      "                                512)}                                                             \n",
      "                                                                                                  \n",
      " dense (Dense)                  (None, 128)          65664       ['keras_layer_1[0][5]']          \n",
      "                                                                                                  \n",
      " dense_1 (Dense)                (None, 6)            774         ['dense[0][0]']                  \n",
      "                                                                                                  \n",
      "==================================================================================================\n",
      "Total params: 28,830,087\n",
      "Trainable params: 66,438\n",
      "Non-trainable params: 28,763,649\n",
      "__________________________________________________________________________________________________\n"
     ]
    }
   ],
   "source": [
    "small_bert.summary()"
   ]
  },
  {
   "cell_type": "markdown",
   "id": "cdebba13-fac5-41ea-b281-f75e4bc65f3d",
   "metadata": {},
   "source": [
    "## 4.- Entrenamiento"
   ]
  },
  {
   "cell_type": "code",
   "execution_count": 30,
   "id": "55e5530a-add3-4af2-a8fb-11a948420bb5",
   "metadata": {
    "tags": []
   },
   "outputs": [],
   "source": [
    "lr = 0.0001\n",
    "opt = tf.keras.optimizers.Adam(learning_rate=lr)"
   ]
  },
  {
   "cell_type": "code",
   "execution_count": 31,
   "id": "f918e087-deb2-4093-967f-ca79421211c3",
   "metadata": {
    "tags": []
   },
   "outputs": [],
   "source": [
    "small_bert.compile(loss=tf.keras.losses.CategoricalCrossentropy(from_logits=True),\n",
    "                    optimizer=opt,\n",
    "                    metrics=['accuracy'])"
   ]
  },
  {
   "cell_type": "code",
   "execution_count": 32,
   "id": "1f87e3c1-0ec6-4f5a-991e-18567369e7e9",
   "metadata": {
    "tags": []
   },
   "outputs": [
    {
     "name": "stdout",
     "output_type": "stream",
     "text": [
      "Epoch 1/5\n",
      "1044/1044 [==============================] - 66s 62ms/step - loss: 1.0449 - accuracy: 0.6067 - val_loss: 0.8097 - val_accuracy: 0.6947\n",
      "Epoch 2/5\n",
      "1044/1044 [==============================] - 64s 61ms/step - loss: 0.7767 - accuracy: 0.7037 - val_loss: 0.7284 - val_accuracy: 0.7206\n",
      "Epoch 3/5\n",
      "1044/1044 [==============================] - 66s 63ms/step - loss: 0.7237 - accuracy: 0.7220 - val_loss: 0.6880 - val_accuracy: 0.7354\n",
      "Epoch 4/5\n",
      "1044/1044 [==============================] - 65s 63ms/step - loss: 0.6927 - accuracy: 0.7334 - val_loss: 0.6743 - val_accuracy: 0.7358\n",
      "Epoch 5/5\n",
      "1044/1044 [==============================] - 65s 62ms/step - loss: 0.6710 - accuracy: 0.7426 - val_loss: 0.6548 - val_accuracy: 0.7457\n"
     ]
    }
   ],
   "source": [
    "epochs = 5\n",
    "history = small_bert.fit(\n",
    "    train_ds,\n",
    "    validation_data=val_ds,\n",
    "    epochs=epochs)"
   ]
  },
  {
   "cell_type": "markdown",
   "id": "cdb9a492-780a-4990-b93c-fe36f0926892",
   "metadata": {},
   "source": [
    "## 5.- Evaluación"
   ]
  },
  {
   "cell_type": "code",
   "execution_count": 33,
   "id": "f9fab660-f261-4b27-97a8-54f84eba7ddc",
   "metadata": {
    "tags": []
   },
   "outputs": [
    {
     "name": "stdout",
     "output_type": "stream",
     "text": [
      "224/224 [==============================] - 12s 53ms/step - loss: 0.6702 - accuracy: 0.7434\n"
     ]
    },
    {
     "data": {
      "text/plain": [
       "[0.6701567769050598, 0.7433603405952454]"
      ]
     },
     "execution_count": 33,
     "metadata": {},
     "output_type": "execute_result"
    }
   ],
   "source": [
    "small_bert.evaluate(test_ds)"
   ]
  },
  {
   "cell_type": "markdown",
   "id": "cd1aa502-cf5a-48fc-bcad-158f935c0730",
   "metadata": {},
   "source": [
    "## Ejercicio\n",
    "- Modifica la arquitectura y el entrenamiento para mejorar los resultados.\n",
    "- Prueba diferentes versiones de BERT: https://tfhub.dev/google/collections/bert/1."
   ]
  }
 ],
 "metadata": {
  "kernelspec": {
   "display_name": "Python 3 (ipykernel)",
   "language": "python",
   "name": "python3"
  },
  "language_info": {
   "codemirror_mode": {
    "name": "ipython",
    "version": 3
   },
   "file_extension": ".py",
   "mimetype": "text/x-python",
   "name": "python",
   "nbconvert_exporter": "python",
   "pygments_lexer": "ipython3",
   "version": "3.11.2"
  }
 },
 "nbformat": 4,
 "nbformat_minor": 5
}

{
 "cells": [
  {
   "cell_type": "code",
   "execution_count": 1,
   "id": "287fc8e8-d419-402a-9ae1-63262c1370a5",
   "metadata": {},
   "outputs": [],
   "source": [
    "# The MIT License (MIT) Copyright (c) 2023 milmor\n",
    "#\n",
    "# Permission is hereby granted, free of charge, to any person obtaining a copy of \n",
    "# this software and associated documentation files (the \"Software\"), to deal in the Software without \n",
    "# restriction, including without limitation the rights to use, copy, modify, merge, publish, \n",
    "# distribute, sublicense, and/or sell copies of the Software, and to permit persons to whom the \n",
    "# Software is furnished to do so, subject to the following conditions:\n",
    "#\n",
    "# The above copyright notice and this permission notice shall be included in all copies or \n",
    "# substantial portions of the Software.\n",
    "#\n",
    "# THE SOFTWARE IS PROVIDED \"AS IS\", WITHOUT WARRANTY OF ANY KIND, EXPRESS OR IMPLIED, \n",
    "# INCLUDING BUT NOT LIMITED TO THE WARRANTIES OF MERCHANTABILITY, FITNESS FOR A PARTICULAR PURPOSE AND \n",
    "# NONINFRINGEMENT. IN NO EVENT SHALL THE AUTHORS OR COPYRIGHT HOLDERS BE LIABLE FOR ANY CLAIM, DAMAGES \n",
    "# OR OTHER LIABILITY, WHETHER IN AN ACTION OF CONTRACT, TORT OR OTHERWISE, ARISING FROM, OUT OF OR IN \n",
    "# CONNECTION WITH THE SOFTWARE OR THE USE OR OTHER DEALINGS IN THE SOFTWARE."
   ]
  },
  {
   "cell_type": "markdown",
   "id": "4b00f678-39f7-4be2-aa51-cc4737fcd1a0",
   "metadata": {},
   "source": [
    "# Clasificación de cyberbullying con BERT\n",
    "\n",
    "<img src=\"../img/bert.png\" width=\"700\"/>\n",
    "\n",
    "__Imagen tomada de Devlin, J., Chang, M. W., Lee, K., & Toutanova, K. (2018). Bert: Pre-training of deep bidirectional transformers for language understanding. arXiv preprint arXiv:1810.04805.__"
   ]
  },
  {
   "cell_type": "markdown",
   "id": "9d1cd0c3-599d-4c44-a4df-fb42b5f49bb1",
   "metadata": {},
   "source": [
    "## 1.- Conjuntos de datos\n",
    "- Partición de entrenamiento, validación y prueba."
   ]
  },
  {
   "cell_type": "code",
   "execution_count": 2,
   "id": "5edc8baf-baf8-4a19-9faf-0f9e5d81312a",
   "metadata": {},
   "outputs": [],
   "source": [
    "import pandas as pd\n",
    "import matplotlib.pyplot as plt"
   ]
  },
  {
   "cell_type": "code",
   "execution_count": 3,
   "id": "a63f28a9-d4e6-4f37-9440-600c97d0a4dc",
   "metadata": {
    "scrolled": true,
    "tags": []
   },
   "outputs": [],
   "source": [
    "df = pd.read_csv('./cyberbullying_tweets.csv')   "
   ]
  },
  {
   "cell_type": "code",
   "execution_count": 4,
   "id": "0fe97422-d520-4b6f-80f9-b2336a709e0b",
   "metadata": {},
   "outputs": [
    {
     "data": {
      "text/html": [
       "<div>\n",
       "<style scoped>\n",
       "    .dataframe tbody tr th:only-of-type {\n",
       "        vertical-align: middle;\n",
       "    }\n",
       "\n",
       "    .dataframe tbody tr th {\n",
       "        vertical-align: top;\n",
       "    }\n",
       "\n",
       "    .dataframe thead th {\n",
       "        text-align: right;\n",
       "    }\n",
       "</style>\n",
       "<table border=\"1\" class=\"dataframe\">\n",
       "  <thead>\n",
       "    <tr style=\"text-align: right;\">\n",
       "      <th></th>\n",
       "      <th>tweet_text</th>\n",
       "      <th>cyberbullying_type</th>\n",
       "    </tr>\n",
       "  </thead>\n",
       "  <tbody>\n",
       "    <tr>\n",
       "      <th>0</th>\n",
       "      <td>In other words #katandandre, your food was cra...</td>\n",
       "      <td>not_cyberbullying</td>\n",
       "    </tr>\n",
       "    <tr>\n",
       "      <th>1</th>\n",
       "      <td>Why is #aussietv so white? #MKR #theblock #ImA...</td>\n",
       "      <td>not_cyberbullying</td>\n",
       "    </tr>\n",
       "    <tr>\n",
       "      <th>2</th>\n",
       "      <td>@XochitlSuckkks a classy whore? Or more red ve...</td>\n",
       "      <td>not_cyberbullying</td>\n",
       "    </tr>\n",
       "    <tr>\n",
       "      <th>3</th>\n",
       "      <td>@Jason_Gio meh. :P  thanks for the heads up, b...</td>\n",
       "      <td>not_cyberbullying</td>\n",
       "    </tr>\n",
       "    <tr>\n",
       "      <th>4</th>\n",
       "      <td>@RudhoeEnglish This is an ISIS account pretend...</td>\n",
       "      <td>not_cyberbullying</td>\n",
       "    </tr>\n",
       "  </tbody>\n",
       "</table>\n",
       "</div>"
      ],
      "text/plain": [
       "                                          tweet_text cyberbullying_type\n",
       "0  In other words #katandandre, your food was cra...  not_cyberbullying\n",
       "1  Why is #aussietv so white? #MKR #theblock #ImA...  not_cyberbullying\n",
       "2  @XochitlSuckkks a classy whore? Or more red ve...  not_cyberbullying\n",
       "3  @Jason_Gio meh. :P  thanks for the heads up, b...  not_cyberbullying\n",
       "4  @RudhoeEnglish This is an ISIS account pretend...  not_cyberbullying"
      ]
     },
     "execution_count": 4,
     "metadata": {},
     "output_type": "execute_result"
    }
   ],
   "source": [
    "df.head()"
   ]
  },
  {
   "cell_type": "code",
   "execution_count": 5,
   "id": "a73c028f-92d5-4d68-906e-06382ac6cb55",
   "metadata": {
    "tags": []
   },
   "outputs": [
    {
     "data": {
      "text/plain": [
       "array(['not_cyberbullying', 'gender', 'religion', 'other_cyberbullying',\n",
       "       'age', 'ethnicity'], dtype=object)"
      ]
     },
     "execution_count": 5,
     "metadata": {},
     "output_type": "execute_result"
    }
   ],
   "source": [
    "df['cyberbullying_type'].unique()"
   ]
  },
  {
   "cell_type": "code",
   "execution_count": 6,
   "id": "59821bc4-e63b-4872-b756-72751eb6f715",
   "metadata": {
    "tags": []
   },
   "outputs": [
    {
     "data": {
      "text/plain": [
       "religion               7998\n",
       "age                    7992\n",
       "gender                 7973\n",
       "ethnicity              7961\n",
       "not_cyberbullying      7945\n",
       "other_cyberbullying    7823\n",
       "Name: cyberbullying_type, dtype: int64"
      ]
     },
     "execution_count": 6,
     "metadata": {},
     "output_type": "execute_result"
    }
   ],
   "source": [
    "# Contar elementos por clase\n",
    "count = df['cyberbullying_type'].value_counts()\n",
    "count"
   ]
  },
  {
   "cell_type": "code",
   "execution_count": 7,
   "id": "3d6022f1-8c26-4734-a5ae-6e99c54739d6",
   "metadata": {
    "tags": []
   },
   "outputs": [],
   "source": [
    "from sklearn.model_selection import train_test_split\n",
    "train_df, test_df= train_test_split(df, test_size = 0.30, random_state = 123)"
   ]
  },
  {
   "cell_type": "code",
   "execution_count": 8,
   "id": "44242ec8-cbbd-4f84-a15e-5736cfff1cb5",
   "metadata": {
    "tags": []
   },
   "outputs": [
    {
     "data": {
      "text/plain": [
       "gender                 5655\n",
       "not_cyberbullying      5610\n",
       "ethnicity              5601\n",
       "age                    5573\n",
       "religion               5557\n",
       "other_cyberbullying    5388\n",
       "Name: cyberbullying_type, dtype: int64"
      ]
     },
     "execution_count": 8,
     "metadata": {},
     "output_type": "execute_result"
    }
   ],
   "source": [
    "train_df['cyberbullying_type'].value_counts()"
   ]
  },
  {
   "cell_type": "code",
   "execution_count": 9,
   "id": "64eb3df4-1615-4f08-9181-cb55f4bc355e",
   "metadata": {
    "tags": []
   },
   "outputs": [],
   "source": [
    "val_df, test_df= train_test_split(test_df, test_size = 0.50, random_state = 123)"
   ]
  },
  {
   "cell_type": "code",
   "execution_count": 10,
   "id": "71627377-e116-4464-ba0f-5390e22dab05",
   "metadata": {
    "tags": []
   },
   "outputs": [
    {
     "data": {
      "text/plain": [
       "religion               1250\n",
       "other_cyberbullying    1219\n",
       "age                    1198\n",
       "gender                 1177\n",
       "ethnicity              1164\n",
       "not_cyberbullying      1146\n",
       "Name: cyberbullying_type, dtype: int64"
      ]
     },
     "execution_count": 10,
     "metadata": {},
     "output_type": "execute_result"
    }
   ],
   "source": [
    "val_df['cyberbullying_type'].value_counts()"
   ]
  },
  {
   "cell_type": "code",
   "execution_count": 11,
   "id": "7c6221f9-8aab-492a-a835-de9028f8c374",
   "metadata": {
    "tags": []
   },
   "outputs": [
    {
     "data": {
      "text/plain": [
       "age                    1221\n",
       "other_cyberbullying    1216\n",
       "ethnicity              1196\n",
       "religion               1191\n",
       "not_cyberbullying      1189\n",
       "gender                 1141\n",
       "Name: cyberbullying_type, dtype: int64"
      ]
     },
     "execution_count": 11,
     "metadata": {},
     "output_type": "execute_result"
    }
   ],
   "source": [
    "test_df['cyberbullying_type'].value_counts()"
   ]
  },
  {
   "cell_type": "markdown",
   "id": "bb0ca784-81d1-4294-923f-6ae1882587d9",
   "metadata": {},
   "source": [
    "## 2.- Preprocesamiento"
   ]
  },
  {
   "cell_type": "code",
   "execution_count": 12,
   "id": "454a30f7-c59e-4522-b77a-1390eae132db",
   "metadata": {
    "tags": []
   },
   "outputs": [
    {
     "data": {
      "text/html": [
       "<div>\n",
       "<style scoped>\n",
       "    .dataframe tbody tr th:only-of-type {\n",
       "        vertical-align: middle;\n",
       "    }\n",
       "\n",
       "    .dataframe tbody tr th {\n",
       "        vertical-align: top;\n",
       "    }\n",
       "\n",
       "    .dataframe thead th {\n",
       "        text-align: right;\n",
       "    }\n",
       "</style>\n",
       "<table border=\"1\" class=\"dataframe\">\n",
       "  <thead>\n",
       "    <tr style=\"text-align: right;\">\n",
       "      <th></th>\n",
       "      <th>tweet_text</th>\n",
       "      <th>cyberbullying_type</th>\n",
       "    </tr>\n",
       "  </thead>\n",
       "  <tbody>\n",
       "    <tr>\n",
       "      <th>26651</th>\n",
       "      <td>@AntonSirius @erinspice @prpltnkr @ChiefElk oh...</td>\n",
       "      <td>3</td>\n",
       "    </tr>\n",
       "    <tr>\n",
       "      <th>4820</th>\n",
       "      <td>Ladies \"Bedroom Bully\" The Mix Cd By @GappyRan...</td>\n",
       "      <td>0</td>\n",
       "    </tr>\n",
       "    <tr>\n",
       "      <th>1847</th>\n",
       "      <td>RT @_bobbidana: Never thought I'd say this but...</td>\n",
       "      <td>0</td>\n",
       "    </tr>\n",
       "    <tr>\n",
       "      <th>20653</th>\n",
       "      <td>She is intellectual terrorists and world suffe...</td>\n",
       "      <td>2</td>\n",
       "    </tr>\n",
       "    <tr>\n",
       "      <th>19195</th>\n",
       "      <td>You saudias are not friends of Muslim idiots c...</td>\n",
       "      <td>2</td>\n",
       "    </tr>\n",
       "  </tbody>\n",
       "</table>\n",
       "</div>"
      ],
      "text/plain": [
       "                                              tweet_text  cyberbullying_type\n",
       "26651  @AntonSirius @erinspice @prpltnkr @ChiefElk oh...                   3\n",
       "4820   Ladies \"Bedroom Bully\" The Mix Cd By @GappyRan...                   0\n",
       "1847   RT @_bobbidana: Never thought I'd say this but...                   0\n",
       "20653  She is intellectual terrorists and world suffe...                   2\n",
       "19195  You saudias are not friends of Muslim idiots c...                   2"
      ]
     },
     "execution_count": 12,
     "metadata": {},
     "output_type": "execute_result"
    }
   ],
   "source": [
    "# Creamos un diccionario que mapea cada etiqueta a un número entero\n",
    "labels_dict = {\n",
    "    'not_cyberbullying': 0,\n",
    "    'gender': 1,\n",
    "    'religion': 2,\n",
    "    'other_cyberbullying': 3,\n",
    "    'age': 4,\n",
    "    'ethnicity': 5\n",
    "}\n",
    "\n",
    "# Usamos la función map() para reemplazar cada etiqueta con su valor entero correspondiente\n",
    "train_df['cyberbullying_type'] = train_df['cyberbullying_type'].replace(labels_dict)\n",
    "val_df['cyberbullying_type'] = val_df['cyberbullying_type'].replace(labels_dict)\n",
    "test_df['cyberbullying_type'] = test_df['cyberbullying_type'].replace(labels_dict)\n",
    "\n",
    "train_df.head()"
   ]
  },
  {
   "cell_type": "markdown",
   "id": "82d36938-df30-4bc1-a7b8-2c8c58be37ae",
   "metadata": {
    "tags": []
   },
   "source": [
    "- Verifica cadenas vacias."
   ]
  },
  {
   "cell_type": "markdown",
   "id": "a651ba97-16f3-47fd-9798-5353586f346d",
   "metadata": {},
   "source": [
    "## 3.- Pipeline"
   ]
  },
  {
   "cell_type": "code",
   "execution_count": 13,
   "id": "a0182532-66f2-4482-9630-bda5d1470d76",
   "metadata": {},
   "outputs": [],
   "source": [
    "import os\n",
    "os.environ['TF_CPP_MIN_LOG_LEVEL'] = '3' # Disable tensorflow debugging logs\n",
    "import tensorflow as tf\n",
    "import tensorflow_hub as hub\n",
    "import tensorflow_text as text\n",
    "\n",
    "X_train = train_df['tweet_text'].values\n",
    "y_train = train_df['cyberbullying_type'].values\n",
    "\n",
    "X_val = val_df['tweet_text'].values\n",
    "y_val = val_df['cyberbullying_type'].values\n",
    "\n",
    "X_test = test_df['tweet_text'].values\n",
    "y_test = test_df['cyberbullying_type'].values"
   ]
  },
  {
   "cell_type": "code",
   "execution_count": 14,
   "id": "f8896562-dd30-431b-a7a1-55d084586352",
   "metadata": {
    "tags": []
   },
   "outputs": [
    {
     "data": {
      "text/plain": [
       "(33384, 7154, 7154)"
      ]
     },
     "execution_count": 14,
     "metadata": {},
     "output_type": "execute_result"
    }
   ],
   "source": [
    "len(X_train), len(X_val), len(X_test)"
   ]
  },
  {
   "cell_type": "code",
   "execution_count": 15,
   "id": "36d1a088-4c8c-4851-b53f-07e3432c3870",
   "metadata": {
    "scrolled": true,
    "tags": []
   },
   "outputs": [],
   "source": [
    "raw_train_ds = tf.data.Dataset.from_tensor_slices((X_train, y_train))\n",
    "raw_val_ds = tf.data.Dataset.from_tensor_slices((X_val, y_val))\n",
    "raw_test_ds = tf.data.Dataset.from_tensor_slices((X_test, y_test))"
   ]
  },
  {
   "cell_type": "code",
   "execution_count": 16,
   "id": "e9bc2927-b548-4dea-a742-8d4b4851de51",
   "metadata": {
    "tags": []
   },
   "outputs": [],
   "source": [
    "# Define a function to convert the label to a one-hot encoding\n",
    "def convert_label_to_one_hot(text, label):\n",
    "    one_hot_label = tf.one_hot(label, 6)\n",
    "    return text, one_hot_label\n",
    "\n",
    "# Apply the function to the dataset using map()\n",
    "raw_train_ds = raw_train_ds.map(convert_label_to_one_hot)\n",
    "raw_val_ds = raw_val_ds.map(convert_label_to_one_hot)\n",
    "raw_test_ds = raw_test_ds.map(convert_label_to_one_hot)\n",
    "\n",
    "batch_size = 32\n",
    "train_ds = raw_train_ds.shuffle(40538).batch(batch_size)\n",
    "val_ds = raw_val_ds.batch(batch_size)\n",
    "test_ds = raw_test_ds.batch(batch_size)"
   ]
  },
  {
   "cell_type": "code",
   "execution_count": 17,
   "id": "ca52df01-e9a5-447e-a054-e61ec59542f0",
   "metadata": {
    "tags": []
   },
   "outputs": [
    {
     "name": "stdout",
     "output_type": "stream",
     "text": [
      "tf.Tensor(b\"@jritter33 can I have details? U fucking droopy eyed cock sucker nigger loving Cunt this Is y we're not home dumb fuck #obamalover\", shape=(), dtype=string) tf.Tensor([0. 0. 0. 0. 0. 1.], shape=(6,), dtype=float32)\n"
     ]
    }
   ],
   "source": [
    "for test_text, test_target in train_ds.take(1):\n",
    "    print(test_text[0], test_target[0])"
   ]
  },
  {
   "cell_type": "markdown",
   "id": "5552e9cc-c220-4244-a12d-c60750cf12f4",
   "metadata": {},
   "source": [
    "## 3.- Modelo"
   ]
  },
  {
   "cell_type": "code",
   "execution_count": 18,
   "id": "970b0495-9445-45a3-9a6d-921913331eac",
   "metadata": {
    "tags": []
   },
   "outputs": [],
   "source": [
    "import keras_nlp"
   ]
  },
  {
   "cell_type": "code",
   "execution_count": 19,
   "id": "5328124c-b0a2-46fb-b47d-e73512e6edbe",
   "metadata": {
    "tags": []
   },
   "outputs": [],
   "source": [
    "bert_tiny = keras_nlp.models.BertClassifier.from_preset(\n",
    "    \"bert_tiny_en_uncased\", num_classes=6\n",
    ")"
   ]
  },
  {
   "cell_type": "code",
   "execution_count": 20,
   "id": "c96f9eb3-6dac-46e0-b85f-ca180b5ef211",
   "metadata": {
    "tags": []
   },
   "outputs": [],
   "source": [
    "bert_tiny.trainable = True"
   ]
  },
  {
   "cell_type": "code",
   "execution_count": 21,
   "id": "5339ad30-ee93-4077-aac0-bd7e98e21b41",
   "metadata": {
    "tags": []
   },
   "outputs": [
    {
     "data": {
      "text/plain": [
       "[<keras.engine.input_layer.InputLayer at 0x7f85bc14e550>,\n",
       " <keras.engine.input_layer.InputLayer at 0x7f85bc14e040>,\n",
       " <keras.engine.input_layer.InputLayer at 0x7f85bc3e18b0>,\n",
       " <keras_nlp.src.models.bert.bert_backbone.BertBackbone at 0x7f85bc3e1640>,\n",
       " <keras.layers.regularization.dropout.Dropout at 0x7f85b7f43940>,\n",
       " <keras.layers.core.dense.Dense at 0x7f85bc105be0>]"
      ]
     },
     "execution_count": 21,
     "metadata": {},
     "output_type": "execute_result"
    }
   ],
   "source": [
    "bert_tiny.layers"
   ]
  },
  {
   "cell_type": "code",
   "execution_count": 22,
   "id": "ae063526-7092-4917-8379-7e07e394fb64",
   "metadata": {
    "tags": []
   },
   "outputs": [],
   "source": [
    "bert_tiny.layers[0].trainable = False\n",
    "bert_tiny.layers[1].trainable = False\n",
    "bert_tiny.layers[2].trainable = False\n",
    "bert_tiny.layers[3].trainable = False\n",
    "bert_tiny.layers[4].trainable = False"
   ]
  },
  {
   "cell_type": "markdown",
   "id": "57a8307a-890a-4325-965f-cebecc183eb1",
   "metadata": {},
   "source": [
    "- Muestra el tamaño del modelo y los parámetros entrenables."
   ]
  },
  {
   "cell_type": "code",
   "execution_count": 23,
   "id": "b3d1063e-f35f-4852-a905-cd6b436f04a8",
   "metadata": {
    "tags": []
   },
   "outputs": [
    {
     "name": "stdout",
     "output_type": "stream",
     "text": [
      "Preprocessor: \"bert_preprocessor\"\n",
      "__________________________________________________________________________________________________\n",
      " Tokenizer (type)                                    Vocab #     \n",
      "==================================================================================================\n",
      " bert_tokenizer (BertTokenizer)                      30522       \n",
      "__________________________________________________________________________________________________\n",
      "                                                                                                  \n",
      "Model: \"bert_classifier\"\n",
      "__________________________________________________________________________________________________\n",
      " Layer (type)                   Output Shape         Param #     Connected to                     \n",
      "==================================================================================================\n",
      " padding_mask (InputLayer)      [(None, None)]       0           []                               \n",
      "                                                                                                  \n",
      " segment_ids (InputLayer)       [(None, None)]       0           []                               \n",
      "                                                                                                  \n",
      " token_ids (InputLayer)         [(None, None)]       0           []                               \n",
      "                                                                                                  \n",
      " bert_backbone (BertBackbone)   {'sequence_output':  4385920     ['padding_mask[0][0]',           \n",
      "                                 (None, None, 128),               'segment_ids[0][0]',            \n",
      "                                 'pooled_output': (               'token_ids[0][0]']              \n",
      "                                None, 128)}                                                       \n",
      "                                                                                                  \n",
      " dropout (Dropout)              (None, 128)          0           ['bert_backbone[0][0]']          \n",
      "                                                                                                  \n",
      " logits (Dense)                 (None, 6)            774         ['dropout[0][0]']                \n",
      "                                                                                                  \n",
      "==================================================================================================\n",
      "Total params: 4,386,694\n",
      "Trainable params: 774\n",
      "Non-trainable params: 4,385,920\n",
      "__________________________________________________________________________________________________\n"
     ]
    }
   ],
   "source": [
    "bert_tiny.summary()"
   ]
  },
  {
   "cell_type": "markdown",
   "id": "edfad2bc-0e0c-4ab2-b7d5-1a6cdddf5860",
   "metadata": {
    "tags": []
   },
   "source": [
    "- Prueba de las salidas de BERT."
   ]
  },
  {
   "cell_type": "code",
   "execution_count": 24,
   "id": "862068ba-6861-441c-9ee2-dcd71a818bb1",
   "metadata": {
    "scrolled": true,
    "tags": []
   },
   "outputs": [
    {
     "name": "stdout",
     "output_type": "stream",
     "text": [
      "1/1 [==============================] - 2s 2s/step\n"
     ]
    },
    {
     "data": {
      "text/plain": [
       "(32, 6)"
      ]
     },
     "execution_count": 24,
     "metadata": {},
     "output_type": "execute_result"
    }
   ],
   "source": [
    "test_output = bert_tiny.predict(test_text)\n",
    "test_output.shape"
   ]
  },
  {
   "cell_type": "markdown",
   "id": "cdebba13-fac5-41ea-b281-f75e4bc65f3d",
   "metadata": {},
   "source": [
    "## 4.- Entrenamiento (última capa)"
   ]
  },
  {
   "cell_type": "code",
   "execution_count": 25,
   "id": "f918e087-deb2-4093-967f-ca79421211c3",
   "metadata": {
    "tags": []
   },
   "outputs": [],
   "source": [
    "lr = 0.0001\n",
    "opt = tf.keras.optimizers.Adam(learning_rate=lr)\n",
    "\n",
    "bert_tiny.compile(loss=tf.keras.losses.CategoricalCrossentropy(from_logits=True),\n",
    "                    optimizer=opt,\n",
    "                    metrics=['accuracy'])"
   ]
  },
  {
   "cell_type": "code",
   "execution_count": 26,
   "id": "1f87e3c1-0ec6-4f5a-991e-18567369e7e9",
   "metadata": {
    "tags": []
   },
   "outputs": [
    {
     "name": "stdout",
     "output_type": "stream",
     "text": [
      "Epoch 1/3\n",
      "1044/1044 [==============================] - 25s 23ms/step - loss: 1.6713 - accuracy: 0.3819 - val_loss: 1.5563 - val_accuracy: 0.4838\n",
      "Epoch 2/3\n",
      "1044/1044 [==============================] - 24s 23ms/step - loss: 1.5257 - accuracy: 0.4477 - val_loss: 1.4345 - val_accuracy: 0.5013\n",
      "Epoch 3/3\n",
      "1044/1044 [==============================] - 25s 23ms/step - loss: 1.4425 - accuracy: 0.4669 - val_loss: 1.3572 - val_accuracy: 0.5280\n"
     ]
    }
   ],
   "source": [
    "epochs = 3\n",
    "history = bert_tiny.fit(\n",
    "    train_ds,\n",
    "    validation_data=val_ds,\n",
    "    epochs=epochs)"
   ]
  },
  {
   "cell_type": "markdown",
   "id": "cdb9a492-780a-4990-b93c-fe36f0926892",
   "metadata": {},
   "source": [
    "### Evaluación"
   ]
  },
  {
   "cell_type": "code",
   "execution_count": 27,
   "id": "f9fab660-f261-4b27-97a8-54f84eba7ddc",
   "metadata": {
    "tags": []
   },
   "outputs": [
    {
     "name": "stdout",
     "output_type": "stream",
     "text": [
      "224/224 [==============================] - 5s 19ms/step - loss: 1.3603 - accuracy: 0.5250\n"
     ]
    },
    {
     "data": {
      "text/plain": [
       "[1.3602951765060425, 0.525020956993103]"
      ]
     },
     "execution_count": 27,
     "metadata": {},
     "output_type": "execute_result"
    }
   ],
   "source": [
    "bert_tiny.evaluate(test_ds)"
   ]
  },
  {
   "cell_type": "markdown",
   "id": "70218d2f-f442-4b92-8e96-dae43a77dd7b",
   "metadata": {},
   "source": [
    "## 5.- Entrenamiento (todas las capas)"
   ]
  },
  {
   "cell_type": "code",
   "execution_count": 28,
   "id": "4d2a62ca-1acf-41f6-919d-874044577f86",
   "metadata": {},
   "outputs": [],
   "source": [
    "bert_tiny_full = keras_nlp.models.BertClassifier.from_preset(\n",
    "    \"bert_tiny_en_uncased\", num_classes=6\n",
    ")"
   ]
  },
  {
   "cell_type": "code",
   "execution_count": 29,
   "id": "1add2ff4-e03f-4aed-8e31-32e5d1e402fd",
   "metadata": {
    "tags": []
   },
   "outputs": [],
   "source": [
    "bert_tiny_full.trainable = True"
   ]
  },
  {
   "cell_type": "code",
   "execution_count": 30,
   "id": "1a49a3f5-eeee-4826-96da-8f4f6e4e458d",
   "metadata": {
    "tags": []
   },
   "outputs": [
    {
     "name": "stdout",
     "output_type": "stream",
     "text": [
      "Preprocessor: \"bert_preprocessor_1\"\n",
      "__________________________________________________________________________________________________\n",
      " Tokenizer (type)                                    Vocab #     \n",
      "==================================================================================================\n",
      " bert_tokenizer_1 (BertTokenizer)                    30522       \n",
      "__________________________________________________________________________________________________\n",
      "                                                                                                  \n",
      "Model: \"bert_classifier_1\"\n",
      "__________________________________________________________________________________________________\n",
      " Layer (type)                   Output Shape         Param #     Connected to                     \n",
      "==================================================================================================\n",
      " padding_mask (InputLayer)      [(None, None)]       0           []                               \n",
      "                                                                                                  \n",
      " segment_ids (InputLayer)       [(None, None)]       0           []                               \n",
      "                                                                                                  \n",
      " token_ids (InputLayer)         [(None, None)]       0           []                               \n",
      "                                                                                                  \n",
      " bert_backbone_1 (BertBackbone)  {'sequence_output':  4385920    ['padding_mask[0][0]',           \n",
      "                                 (None, None, 128),               'segment_ids[0][0]',            \n",
      "                                 'pooled_output': (               'token_ids[0][0]']              \n",
      "                                None, 128)}                                                       \n",
      "                                                                                                  \n",
      " dropout_1 (Dropout)            (None, 128)          0           ['bert_backbone_1[0][0]']        \n",
      "                                                                                                  \n",
      " logits (Dense)                 (None, 6)            774         ['dropout_1[0][0]']              \n",
      "                                                                                                  \n",
      "==================================================================================================\n",
      "Total params: 4,386,694\n",
      "Trainable params: 4,386,694\n",
      "Non-trainable params: 0\n",
      "__________________________________________________________________________________________________\n"
     ]
    }
   ],
   "source": [
    "bert_tiny_full.summary()"
   ]
  },
  {
   "cell_type": "code",
   "execution_count": 31,
   "id": "2e67f78a-880b-424a-b798-1396fdfdd71f",
   "metadata": {},
   "outputs": [],
   "source": [
    "lr = 0.0001\n",
    "opt = tf.keras.optimizers.Adam(learning_rate=lr)\n",
    "\n",
    "bert_tiny_full.compile(loss=tf.keras.losses.CategoricalCrossentropy(from_logits=True),\n",
    "                    optimizer=opt,\n",
    "                    metrics=['accuracy'])"
   ]
  },
  {
   "cell_type": "code",
   "execution_count": 32,
   "id": "8dd1d627-0ab5-42ec-b4be-9527f6e1731b",
   "metadata": {},
   "outputs": [
    {
     "name": "stdout",
     "output_type": "stream",
     "text": [
      "Epoch 1/2\n",
      "1044/1044 [==============================] - 59s 52ms/step - loss: 0.6557 - accuracy: 0.7652 - val_loss: 0.4169 - val_accuracy: 0.8330\n",
      "Epoch 2/2\n",
      "1044/1044 [==============================] - 34s 32ms/step - loss: 0.3863 - accuracy: 0.8439 - val_loss: 0.3774 - val_accuracy: 0.8474\n"
     ]
    }
   ],
   "source": [
    "epochs = 2\n",
    "history = bert_tiny_full.fit(\n",
    "    train_ds,\n",
    "    validation_data=val_ds,\n",
    "    epochs=epochs)"
   ]
  },
  {
   "cell_type": "markdown",
   "id": "acc9bab1-ac91-4958-9f86-808917ccaba5",
   "metadata": {},
   "source": [
    "### Evaluación"
   ]
  },
  {
   "cell_type": "code",
   "execution_count": 33,
   "id": "e85e29d7-6f77-4692-b43e-0884707b7af0",
   "metadata": {},
   "outputs": [
    {
     "name": "stdout",
     "output_type": "stream",
     "text": [
      "224/224 [==============================] - 5s 20ms/step - loss: 0.3975 - accuracy: 0.8405\n"
     ]
    },
    {
     "data": {
      "text/plain": [
       "[0.3975391685962677, 0.8405088186264038]"
      ]
     },
     "execution_count": 33,
     "metadata": {},
     "output_type": "execute_result"
    }
   ],
   "source": [
    "bert_tiny_full.evaluate(test_ds)"
   ]
  },
  {
   "cell_type": "markdown",
   "id": "cd1aa502-cf5a-48fc-bcad-158f935c0730",
   "metadata": {},
   "source": [
    "## Ejercicio\n",
    "- Modifica la arquitectura y el entrenamiento para mejorar los resultados.\n",
    "- Prueba diferentes versiones de BERT: https://keras.io/api/keras_nlp/models/"
   ]
  }
 ],
 "metadata": {
  "kernelspec": {
   "display_name": "Python 3 (ipykernel)",
   "language": "python",
   "name": "python3"
  },
  "language_info": {
   "codemirror_mode": {
    "name": "ipython",
    "version": 3
   },
   "file_extension": ".py",
   "mimetype": "text/x-python",
   "name": "python",
   "nbconvert_exporter": "python",
   "pygments_lexer": "ipython3",
   "version": "3.9.16"
  }
 },
 "nbformat": 4,
 "nbformat_minor": 5
}

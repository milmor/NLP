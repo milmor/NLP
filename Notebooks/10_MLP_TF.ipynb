{
 "cells": [
  {
   "cell_type": "markdown",
   "id": "4b00f678-39f7-4be2-aa51-cc4737fcd1a0",
   "metadata": {},
   "source": [
    "# MLP"
   ]
  },
  {
   "cell_type": "markdown",
   "id": "c3d5ac6f-124d-40d1-8e97-ae14a28efb2a",
   "metadata": {},
   "source": [
    "- Dataset: https://www.kaggle.com/datasets/clmentbisaillon/fake-and-real-news-dataset"
   ]
  },
  {
   "cell_type": "markdown",
   "id": "9d1cd0c3-599d-4c44-a4df-fb42b5f49bb1",
   "metadata": {},
   "source": [
    "## 1.- Preprocesamiento"
   ]
  },
  {
   "cell_type": "code",
   "execution_count": 1,
   "id": "d1458c2c-1dfe-4638-8655-a28df1ccd4ef",
   "metadata": {},
   "outputs": [],
   "source": [
    "import pandas as pd"
   ]
  },
  {
   "cell_type": "code",
   "execution_count": 2,
   "id": "6f850e02-db52-441f-99dd-41a7e08b594c",
   "metadata": {},
   "outputs": [],
   "source": [
    "fake_df = pd.read_csv('../archive/Fake.csv')  \n",
    "true_df = pd.read_csv('../archive/True.csv')  "
   ]
  },
  {
   "cell_type": "code",
   "execution_count": 3,
   "id": "35f0db65-4358-4f2b-baa7-3cf6250519ee",
   "metadata": {},
   "outputs": [
    {
     "data": {
      "text/html": [
       "<div>\n",
       "<style scoped>\n",
       "    .dataframe tbody tr th:only-of-type {\n",
       "        vertical-align: middle;\n",
       "    }\n",
       "\n",
       "    .dataframe tbody tr th {\n",
       "        vertical-align: top;\n",
       "    }\n",
       "\n",
       "    .dataframe thead th {\n",
       "        text-align: right;\n",
       "    }\n",
       "</style>\n",
       "<table border=\"1\" class=\"dataframe\">\n",
       "  <thead>\n",
       "    <tr style=\"text-align: right;\">\n",
       "      <th></th>\n",
       "      <th>title</th>\n",
       "      <th>text</th>\n",
       "      <th>subject</th>\n",
       "      <th>date</th>\n",
       "    </tr>\n",
       "  </thead>\n",
       "  <tbody>\n",
       "    <tr>\n",
       "      <th>0</th>\n",
       "      <td>Donald Trump Sends Out Embarrassing New Year’...</td>\n",
       "      <td>Donald Trump just couldn t wish all Americans ...</td>\n",
       "      <td>News</td>\n",
       "      <td>December 31, 2017</td>\n",
       "    </tr>\n",
       "    <tr>\n",
       "      <th>1</th>\n",
       "      <td>Drunk Bragging Trump Staffer Started Russian ...</td>\n",
       "      <td>House Intelligence Committee Chairman Devin Nu...</td>\n",
       "      <td>News</td>\n",
       "      <td>December 31, 2017</td>\n",
       "    </tr>\n",
       "    <tr>\n",
       "      <th>2</th>\n",
       "      <td>Sheriff David Clarke Becomes An Internet Joke...</td>\n",
       "      <td>On Friday, it was revealed that former Milwauk...</td>\n",
       "      <td>News</td>\n",
       "      <td>December 30, 2017</td>\n",
       "    </tr>\n",
       "    <tr>\n",
       "      <th>3</th>\n",
       "      <td>Trump Is So Obsessed He Even Has Obama’s Name...</td>\n",
       "      <td>On Christmas day, Donald Trump announced that ...</td>\n",
       "      <td>News</td>\n",
       "      <td>December 29, 2017</td>\n",
       "    </tr>\n",
       "    <tr>\n",
       "      <th>4</th>\n",
       "      <td>Pope Francis Just Called Out Donald Trump Dur...</td>\n",
       "      <td>Pope Francis used his annual Christmas Day mes...</td>\n",
       "      <td>News</td>\n",
       "      <td>December 25, 2017</td>\n",
       "    </tr>\n",
       "  </tbody>\n",
       "</table>\n",
       "</div>"
      ],
      "text/plain": [
       "                                               title  \\\n",
       "0   Donald Trump Sends Out Embarrassing New Year’...   \n",
       "1   Drunk Bragging Trump Staffer Started Russian ...   \n",
       "2   Sheriff David Clarke Becomes An Internet Joke...   \n",
       "3   Trump Is So Obsessed He Even Has Obama’s Name...   \n",
       "4   Pope Francis Just Called Out Donald Trump Dur...   \n",
       "\n",
       "                                                text subject  \\\n",
       "0  Donald Trump just couldn t wish all Americans ...    News   \n",
       "1  House Intelligence Committee Chairman Devin Nu...    News   \n",
       "2  On Friday, it was revealed that former Milwauk...    News   \n",
       "3  On Christmas day, Donald Trump announced that ...    News   \n",
       "4  Pope Francis used his annual Christmas Day mes...    News   \n",
       "\n",
       "                date  \n",
       "0  December 31, 2017  \n",
       "1  December 31, 2017  \n",
       "2  December 30, 2017  \n",
       "3  December 29, 2017  \n",
       "4  December 25, 2017  "
      ]
     },
     "execution_count": 3,
     "metadata": {},
     "output_type": "execute_result"
    }
   ],
   "source": [
    "fake_df.head()"
   ]
  },
  {
   "cell_type": "markdown",
   "id": "bb0ca784-81d1-4294-923f-6ae1882587d9",
   "metadata": {},
   "source": [
    "- Agregar etiquetas de clase"
   ]
  },
  {
   "cell_type": "code",
   "execution_count": 4,
   "id": "9e75ec97-b996-49ff-a7a6-7c17aaac1371",
   "metadata": {},
   "outputs": [],
   "source": [
    "fake_df['target'] = 1\n",
    "true_df['target'] = 0"
   ]
  },
  {
   "cell_type": "code",
   "execution_count": 5,
   "id": "af89b494-7e3c-486c-837e-326a9b96a3bc",
   "metadata": {},
   "outputs": [
    {
     "data": {
      "text/plain": [
       "(23481, 21417)"
      ]
     },
     "execution_count": 5,
     "metadata": {},
     "output_type": "execute_result"
    }
   ],
   "source": [
    "len(fake_df), len(true_df)"
   ]
  },
  {
   "cell_type": "code",
   "execution_count": 6,
   "id": "b55f28f4-46f3-4e92-aae0-9fc159bfea69",
   "metadata": {},
   "outputs": [
    {
     "data": {
      "text/html": [
       "<div>\n",
       "<style scoped>\n",
       "    .dataframe tbody tr th:only-of-type {\n",
       "        vertical-align: middle;\n",
       "    }\n",
       "\n",
       "    .dataframe tbody tr th {\n",
       "        vertical-align: top;\n",
       "    }\n",
       "\n",
       "    .dataframe thead th {\n",
       "        text-align: right;\n",
       "    }\n",
       "</style>\n",
       "<table border=\"1\" class=\"dataframe\">\n",
       "  <thead>\n",
       "    <tr style=\"text-align: right;\">\n",
       "      <th></th>\n",
       "      <th>title</th>\n",
       "      <th>text</th>\n",
       "      <th>subject</th>\n",
       "      <th>date</th>\n",
       "      <th>target</th>\n",
       "    </tr>\n",
       "  </thead>\n",
       "  <tbody>\n",
       "    <tr>\n",
       "      <th>23476</th>\n",
       "      <td>McPain: John McCain Furious That Iran Treated ...</td>\n",
       "      <td>21st Century Wire says As 21WIRE reported earl...</td>\n",
       "      <td>Middle-east</td>\n",
       "      <td>January 16, 2016</td>\n",
       "      <td>1</td>\n",
       "    </tr>\n",
       "    <tr>\n",
       "      <th>23477</th>\n",
       "      <td>JUSTICE? Yahoo Settles E-mail Privacy Class-ac...</td>\n",
       "      <td>21st Century Wire says It s a familiar theme. ...</td>\n",
       "      <td>Middle-east</td>\n",
       "      <td>January 16, 2016</td>\n",
       "      <td>1</td>\n",
       "    </tr>\n",
       "    <tr>\n",
       "      <th>23478</th>\n",
       "      <td>Sunnistan: US and Allied ‘Safe Zone’ Plan to T...</td>\n",
       "      <td>Patrick Henningsen  21st Century WireRemember ...</td>\n",
       "      <td>Middle-east</td>\n",
       "      <td>January 15, 2016</td>\n",
       "      <td>1</td>\n",
       "    </tr>\n",
       "    <tr>\n",
       "      <th>23479</th>\n",
       "      <td>How to Blow $700 Million: Al Jazeera America F...</td>\n",
       "      <td>21st Century Wire says Al Jazeera America will...</td>\n",
       "      <td>Middle-east</td>\n",
       "      <td>January 14, 2016</td>\n",
       "      <td>1</td>\n",
       "    </tr>\n",
       "    <tr>\n",
       "      <th>23480</th>\n",
       "      <td>10 U.S. Navy Sailors Held by Iranian Military ...</td>\n",
       "      <td>21st Century Wire says As 21WIRE predicted in ...</td>\n",
       "      <td>Middle-east</td>\n",
       "      <td>January 12, 2016</td>\n",
       "      <td>1</td>\n",
       "    </tr>\n",
       "  </tbody>\n",
       "</table>\n",
       "</div>"
      ],
      "text/plain": [
       "                                                   title  \\\n",
       "23476  McPain: John McCain Furious That Iran Treated ...   \n",
       "23477  JUSTICE? Yahoo Settles E-mail Privacy Class-ac...   \n",
       "23478  Sunnistan: US and Allied ‘Safe Zone’ Plan to T...   \n",
       "23479  How to Blow $700 Million: Al Jazeera America F...   \n",
       "23480  10 U.S. Navy Sailors Held by Iranian Military ...   \n",
       "\n",
       "                                                    text      subject  \\\n",
       "23476  21st Century Wire says As 21WIRE reported earl...  Middle-east   \n",
       "23477  21st Century Wire says It s a familiar theme. ...  Middle-east   \n",
       "23478  Patrick Henningsen  21st Century WireRemember ...  Middle-east   \n",
       "23479  21st Century Wire says Al Jazeera America will...  Middle-east   \n",
       "23480  21st Century Wire says As 21WIRE predicted in ...  Middle-east   \n",
       "\n",
       "                   date  target  \n",
       "23476  January 16, 2016       1  \n",
       "23477  January 16, 2016       1  \n",
       "23478  January 15, 2016       1  \n",
       "23479  January 14, 2016       1  \n",
       "23480  January 12, 2016       1  "
      ]
     },
     "execution_count": 6,
     "metadata": {},
     "output_type": "execute_result"
    }
   ],
   "source": [
    "fake_df.tail()"
   ]
  },
  {
   "cell_type": "markdown",
   "id": "50cecb75-3a47-4915-99c4-1c3636eadc4a",
   "metadata": {},
   "source": [
    "- Crea un df de los dos archivos"
   ]
  },
  {
   "cell_type": "code",
   "execution_count": 7,
   "id": "03b3818f-05d4-4d42-bbec-aa027bc373d3",
   "metadata": {},
   "outputs": [
    {
     "data": {
      "text/html": [
       "<div>\n",
       "<style scoped>\n",
       "    .dataframe tbody tr th:only-of-type {\n",
       "        vertical-align: middle;\n",
       "    }\n",
       "\n",
       "    .dataframe tbody tr th {\n",
       "        vertical-align: top;\n",
       "    }\n",
       "\n",
       "    .dataframe thead th {\n",
       "        text-align: right;\n",
       "    }\n",
       "</style>\n",
       "<table border=\"1\" class=\"dataframe\">\n",
       "  <thead>\n",
       "    <tr style=\"text-align: right;\">\n",
       "      <th></th>\n",
       "      <th>title</th>\n",
       "      <th>text</th>\n",
       "      <th>subject</th>\n",
       "      <th>date</th>\n",
       "      <th>target</th>\n",
       "    </tr>\n",
       "  </thead>\n",
       "  <tbody>\n",
       "    <tr>\n",
       "      <th>0</th>\n",
       "      <td>As U.S. budget fight looms, Republicans flip t...</td>\n",
       "      <td>WASHINGTON (Reuters) - The head of a conservat...</td>\n",
       "      <td>politicsNews</td>\n",
       "      <td>December 31, 2017</td>\n",
       "      <td>0</td>\n",
       "    </tr>\n",
       "    <tr>\n",
       "      <th>1</th>\n",
       "      <td>U.S. military to accept transgender recruits o...</td>\n",
       "      <td>WASHINGTON (Reuters) - Transgender people will...</td>\n",
       "      <td>politicsNews</td>\n",
       "      <td>December 29, 2017</td>\n",
       "      <td>0</td>\n",
       "    </tr>\n",
       "    <tr>\n",
       "      <th>2</th>\n",
       "      <td>Senior U.S. Republican senator: 'Let Mr. Muell...</td>\n",
       "      <td>WASHINGTON (Reuters) - The special counsel inv...</td>\n",
       "      <td>politicsNews</td>\n",
       "      <td>December 31, 2017</td>\n",
       "      <td>0</td>\n",
       "    </tr>\n",
       "    <tr>\n",
       "      <th>3</th>\n",
       "      <td>FBI Russia probe helped by Australian diplomat...</td>\n",
       "      <td>WASHINGTON (Reuters) - Trump campaign adviser ...</td>\n",
       "      <td>politicsNews</td>\n",
       "      <td>December 30, 2017</td>\n",
       "      <td>0</td>\n",
       "    </tr>\n",
       "    <tr>\n",
       "      <th>4</th>\n",
       "      <td>Trump wants Postal Service to charge 'much mor...</td>\n",
       "      <td>SEATTLE/WASHINGTON (Reuters) - President Donal...</td>\n",
       "      <td>politicsNews</td>\n",
       "      <td>December 29, 2017</td>\n",
       "      <td>0</td>\n",
       "    </tr>\n",
       "  </tbody>\n",
       "</table>\n",
       "</div>"
      ],
      "text/plain": [
       "                                               title  \\\n",
       "0  As U.S. budget fight looms, Republicans flip t...   \n",
       "1  U.S. military to accept transgender recruits o...   \n",
       "2  Senior U.S. Republican senator: 'Let Mr. Muell...   \n",
       "3  FBI Russia probe helped by Australian diplomat...   \n",
       "4  Trump wants Postal Service to charge 'much mor...   \n",
       "\n",
       "                                                text       subject  \\\n",
       "0  WASHINGTON (Reuters) - The head of a conservat...  politicsNews   \n",
       "1  WASHINGTON (Reuters) - Transgender people will...  politicsNews   \n",
       "2  WASHINGTON (Reuters) - The special counsel inv...  politicsNews   \n",
       "3  WASHINGTON (Reuters) - Trump campaign adviser ...  politicsNews   \n",
       "4  SEATTLE/WASHINGTON (Reuters) - President Donal...  politicsNews   \n",
       "\n",
       "                 date  target  \n",
       "0  December 31, 2017        0  \n",
       "1  December 29, 2017        0  \n",
       "2  December 31, 2017        0  \n",
       "3  December 30, 2017        0  \n",
       "4  December 29, 2017        0  "
      ]
     },
     "execution_count": 7,
     "metadata": {},
     "output_type": "execute_result"
    }
   ],
   "source": [
    "df = pd.concat([true_df, fake_df])\n",
    "df = df.reset_index(drop=True) # Create id to avoid nan and replicate id bug\n",
    "df.head()"
   ]
  },
  {
   "cell_type": "code",
   "execution_count": 8,
   "id": "9811ed46-8db4-4858-be7d-a5b2a8cf138d",
   "metadata": {},
   "outputs": [
    {
     "data": {
      "text/html": [
       "<div>\n",
       "<style scoped>\n",
       "    .dataframe tbody tr th:only-of-type {\n",
       "        vertical-align: middle;\n",
       "    }\n",
       "\n",
       "    .dataframe tbody tr th {\n",
       "        vertical-align: top;\n",
       "    }\n",
       "\n",
       "    .dataframe thead th {\n",
       "        text-align: right;\n",
       "    }\n",
       "</style>\n",
       "<table border=\"1\" class=\"dataframe\">\n",
       "  <thead>\n",
       "    <tr style=\"text-align: right;\">\n",
       "      <th></th>\n",
       "      <th>title</th>\n",
       "      <th>text</th>\n",
       "      <th>subject</th>\n",
       "      <th>date</th>\n",
       "      <th>target</th>\n",
       "    </tr>\n",
       "  </thead>\n",
       "  <tbody>\n",
       "    <tr>\n",
       "      <th>44893</th>\n",
       "      <td>McPain: John McCain Furious That Iran Treated ...</td>\n",
       "      <td>21st Century Wire says As 21WIRE reported earl...</td>\n",
       "      <td>Middle-east</td>\n",
       "      <td>January 16, 2016</td>\n",
       "      <td>1</td>\n",
       "    </tr>\n",
       "    <tr>\n",
       "      <th>44894</th>\n",
       "      <td>JUSTICE? Yahoo Settles E-mail Privacy Class-ac...</td>\n",
       "      <td>21st Century Wire says It s a familiar theme. ...</td>\n",
       "      <td>Middle-east</td>\n",
       "      <td>January 16, 2016</td>\n",
       "      <td>1</td>\n",
       "    </tr>\n",
       "    <tr>\n",
       "      <th>44895</th>\n",
       "      <td>Sunnistan: US and Allied ‘Safe Zone’ Plan to T...</td>\n",
       "      <td>Patrick Henningsen  21st Century WireRemember ...</td>\n",
       "      <td>Middle-east</td>\n",
       "      <td>January 15, 2016</td>\n",
       "      <td>1</td>\n",
       "    </tr>\n",
       "    <tr>\n",
       "      <th>44896</th>\n",
       "      <td>How to Blow $700 Million: Al Jazeera America F...</td>\n",
       "      <td>21st Century Wire says Al Jazeera America will...</td>\n",
       "      <td>Middle-east</td>\n",
       "      <td>January 14, 2016</td>\n",
       "      <td>1</td>\n",
       "    </tr>\n",
       "    <tr>\n",
       "      <th>44897</th>\n",
       "      <td>10 U.S. Navy Sailors Held by Iranian Military ...</td>\n",
       "      <td>21st Century Wire says As 21WIRE predicted in ...</td>\n",
       "      <td>Middle-east</td>\n",
       "      <td>January 12, 2016</td>\n",
       "      <td>1</td>\n",
       "    </tr>\n",
       "  </tbody>\n",
       "</table>\n",
       "</div>"
      ],
      "text/plain": [
       "                                                   title  \\\n",
       "44893  McPain: John McCain Furious That Iran Treated ...   \n",
       "44894  JUSTICE? Yahoo Settles E-mail Privacy Class-ac...   \n",
       "44895  Sunnistan: US and Allied ‘Safe Zone’ Plan to T...   \n",
       "44896  How to Blow $700 Million: Al Jazeera America F...   \n",
       "44897  10 U.S. Navy Sailors Held by Iranian Military ...   \n",
       "\n",
       "                                                    text      subject  \\\n",
       "44893  21st Century Wire says As 21WIRE reported earl...  Middle-east   \n",
       "44894  21st Century Wire says It s a familiar theme. ...  Middle-east   \n",
       "44895  Patrick Henningsen  21st Century WireRemember ...  Middle-east   \n",
       "44896  21st Century Wire says Al Jazeera America will...  Middle-east   \n",
       "44897  21st Century Wire says As 21WIRE predicted in ...  Middle-east   \n",
       "\n",
       "                   date  target  \n",
       "44893  January 16, 2016       1  \n",
       "44894  January 16, 2016       1  \n",
       "44895  January 15, 2016       1  \n",
       "44896  January 14, 2016       1  \n",
       "44897  January 12, 2016       1  "
      ]
     },
     "execution_count": 8,
     "metadata": {},
     "output_type": "execute_result"
    }
   ],
   "source": [
    "df.tail()"
   ]
  },
  {
   "cell_type": "markdown",
   "id": "704e62f7-ebfe-4a08-919d-21a7b01e8cdb",
   "metadata": {},
   "source": [
    "- Verifica cadenas vacias"
   ]
  },
  {
   "cell_type": "code",
   "execution_count": 9,
   "id": "616ec96f-a709-41b7-9e85-6262bac0cd74",
   "metadata": {},
   "outputs": [
    {
     "data": {
      "text/plain": [
       "0"
      ]
     },
     "execution_count": 9,
     "metadata": {},
     "output_type": "execute_result"
    }
   ],
   "source": [
    "df['text'].isna().sum()"
   ]
  },
  {
   "cell_type": "code",
   "execution_count": 10,
   "id": "d905c9c8-b1d8-4d19-8308-39876f4eebc1",
   "metadata": {},
   "outputs": [
    {
     "data": {
      "text/plain": [
       "44898"
      ]
     },
     "execution_count": 10,
     "metadata": {},
     "output_type": "execute_result"
    }
   ],
   "source": [
    "len(df)"
   ]
  },
  {
   "cell_type": "markdown",
   "id": "6caf7e1b-c993-4d9a-9b32-c6475f6b688b",
   "metadata": {},
   "source": [
    "- Elimina duplicados"
   ]
  },
  {
   "cell_type": "code",
   "execution_count": 11,
   "id": "81e6483d-e3e6-4902-aeea-f5b2c00a77a5",
   "metadata": {},
   "outputs": [
    {
     "data": {
      "text/plain": [
       "38646"
      ]
     },
     "execution_count": 11,
     "metadata": {},
     "output_type": "execute_result"
    }
   ],
   "source": [
    "df = df.drop_duplicates(subset=['text'])\n",
    "len(df)"
   ]
  },
  {
   "cell_type": "code",
   "execution_count": 12,
   "id": "a9f28371-fc90-442d-ac17-dc2749b4cb9f",
   "metadata": {},
   "outputs": [
    {
     "data": {
      "text/html": [
       "<div>\n",
       "<style scoped>\n",
       "    .dataframe tbody tr th:only-of-type {\n",
       "        vertical-align: middle;\n",
       "    }\n",
       "\n",
       "    .dataframe tbody tr th {\n",
       "        vertical-align: top;\n",
       "    }\n",
       "\n",
       "    .dataframe thead th {\n",
       "        text-align: right;\n",
       "    }\n",
       "</style>\n",
       "<table border=\"1\" class=\"dataframe\">\n",
       "  <thead>\n",
       "    <tr style=\"text-align: right;\">\n",
       "      <th></th>\n",
       "      <th>title</th>\n",
       "      <th>text</th>\n",
       "      <th>subject</th>\n",
       "      <th>date</th>\n",
       "      <th>target</th>\n",
       "    </tr>\n",
       "  </thead>\n",
       "  <tbody>\n",
       "    <tr>\n",
       "      <th>0</th>\n",
       "      <td>As U.S. budget fight looms, Republicans flip t...</td>\n",
       "      <td>WASHINGTON (Reuters) - The head of a conservat...</td>\n",
       "      <td>politicsNews</td>\n",
       "      <td>December 31, 2017</td>\n",
       "      <td>0</td>\n",
       "    </tr>\n",
       "    <tr>\n",
       "      <th>1</th>\n",
       "      <td>U.S. military to accept transgender recruits o...</td>\n",
       "      <td>WASHINGTON (Reuters) - Transgender people will...</td>\n",
       "      <td>politicsNews</td>\n",
       "      <td>December 29, 2017</td>\n",
       "      <td>0</td>\n",
       "    </tr>\n",
       "    <tr>\n",
       "      <th>2</th>\n",
       "      <td>Senior U.S. Republican senator: 'Let Mr. Muell...</td>\n",
       "      <td>WASHINGTON (Reuters) - The special counsel inv...</td>\n",
       "      <td>politicsNews</td>\n",
       "      <td>December 31, 2017</td>\n",
       "      <td>0</td>\n",
       "    </tr>\n",
       "    <tr>\n",
       "      <th>3</th>\n",
       "      <td>FBI Russia probe helped by Australian diplomat...</td>\n",
       "      <td>WASHINGTON (Reuters) - Trump campaign adviser ...</td>\n",
       "      <td>politicsNews</td>\n",
       "      <td>December 30, 2017</td>\n",
       "      <td>0</td>\n",
       "    </tr>\n",
       "    <tr>\n",
       "      <th>4</th>\n",
       "      <td>Trump wants Postal Service to charge 'much mor...</td>\n",
       "      <td>SEATTLE/WASHINGTON (Reuters) - President Donal...</td>\n",
       "      <td>politicsNews</td>\n",
       "      <td>December 29, 2017</td>\n",
       "      <td>0</td>\n",
       "    </tr>\n",
       "    <tr>\n",
       "      <th>5</th>\n",
       "      <td>White House, Congress prepare for talks on spe...</td>\n",
       "      <td>WEST PALM BEACH, Fla./WASHINGTON (Reuters) - T...</td>\n",
       "      <td>politicsNews</td>\n",
       "      <td>December 29, 2017</td>\n",
       "      <td>0</td>\n",
       "    </tr>\n",
       "    <tr>\n",
       "      <th>6</th>\n",
       "      <td>Trump says Russia probe will be fair, but time...</td>\n",
       "      <td>WEST PALM BEACH, Fla (Reuters) - President Don...</td>\n",
       "      <td>politicsNews</td>\n",
       "      <td>December 29, 2017</td>\n",
       "      <td>0</td>\n",
       "    </tr>\n",
       "    <tr>\n",
       "      <th>7</th>\n",
       "      <td>Factbox: Trump on Twitter (Dec 29) - Approval ...</td>\n",
       "      <td>The following statements were posted to the ve...</td>\n",
       "      <td>politicsNews</td>\n",
       "      <td>December 29, 2017</td>\n",
       "      <td>0</td>\n",
       "    </tr>\n",
       "    <tr>\n",
       "      <th>8</th>\n",
       "      <td>Trump on Twitter (Dec 28) - Global Warming</td>\n",
       "      <td>The following statements were posted to the ve...</td>\n",
       "      <td>politicsNews</td>\n",
       "      <td>December 29, 2017</td>\n",
       "      <td>0</td>\n",
       "    </tr>\n",
       "    <tr>\n",
       "      <th>9</th>\n",
       "      <td>Alabama official to certify Senator-elect Jone...</td>\n",
       "      <td>WASHINGTON (Reuters) - Alabama Secretary of St...</td>\n",
       "      <td>politicsNews</td>\n",
       "      <td>December 28, 2017</td>\n",
       "      <td>0</td>\n",
       "    </tr>\n",
       "  </tbody>\n",
       "</table>\n",
       "</div>"
      ],
      "text/plain": [
       "                                               title  \\\n",
       "0  As U.S. budget fight looms, Republicans flip t...   \n",
       "1  U.S. military to accept transgender recruits o...   \n",
       "2  Senior U.S. Republican senator: 'Let Mr. Muell...   \n",
       "3  FBI Russia probe helped by Australian diplomat...   \n",
       "4  Trump wants Postal Service to charge 'much mor...   \n",
       "5  White House, Congress prepare for talks on spe...   \n",
       "6  Trump says Russia probe will be fair, but time...   \n",
       "7  Factbox: Trump on Twitter (Dec 29) - Approval ...   \n",
       "8         Trump on Twitter (Dec 28) - Global Warming   \n",
       "9  Alabama official to certify Senator-elect Jone...   \n",
       "\n",
       "                                                text       subject  \\\n",
       "0  WASHINGTON (Reuters) - The head of a conservat...  politicsNews   \n",
       "1  WASHINGTON (Reuters) - Transgender people will...  politicsNews   \n",
       "2  WASHINGTON (Reuters) - The special counsel inv...  politicsNews   \n",
       "3  WASHINGTON (Reuters) - Trump campaign adviser ...  politicsNews   \n",
       "4  SEATTLE/WASHINGTON (Reuters) - President Donal...  politicsNews   \n",
       "5  WEST PALM BEACH, Fla./WASHINGTON (Reuters) - T...  politicsNews   \n",
       "6  WEST PALM BEACH, Fla (Reuters) - President Don...  politicsNews   \n",
       "7  The following statements were posted to the ve...  politicsNews   \n",
       "8  The following statements were posted to the ve...  politicsNews   \n",
       "9  WASHINGTON (Reuters) - Alabama Secretary of St...  politicsNews   \n",
       "\n",
       "                 date  target  \n",
       "0  December 31, 2017        0  \n",
       "1  December 29, 2017        0  \n",
       "2  December 31, 2017        0  \n",
       "3  December 30, 2017        0  \n",
       "4  December 29, 2017        0  \n",
       "5  December 29, 2017        0  \n",
       "6  December 29, 2017        0  \n",
       "7  December 29, 2017        0  \n",
       "8  December 29, 2017        0  \n",
       "9  December 28, 2017        0  "
      ]
     },
     "execution_count": 12,
     "metadata": {},
     "output_type": "execute_result"
    }
   ],
   "source": [
    "df.head(10)"
   ]
  },
  {
   "cell_type": "code",
   "execution_count": 13,
   "id": "23023c67-9ac0-4097-8e91-6b6f417261cb",
   "metadata": {},
   "outputs": [
    {
     "data": {
      "text/html": [
       "<div>\n",
       "<style scoped>\n",
       "    .dataframe tbody tr th:only-of-type {\n",
       "        vertical-align: middle;\n",
       "    }\n",
       "\n",
       "    .dataframe tbody tr th {\n",
       "        vertical-align: top;\n",
       "    }\n",
       "\n",
       "    .dataframe thead th {\n",
       "        text-align: right;\n",
       "    }\n",
       "</style>\n",
       "<table border=\"1\" class=\"dataframe\">\n",
       "  <thead>\n",
       "    <tr style=\"text-align: right;\">\n",
       "      <th></th>\n",
       "      <th>title</th>\n",
       "      <th>text</th>\n",
       "      <th>subject</th>\n",
       "      <th>date</th>\n",
       "      <th>target</th>\n",
       "    </tr>\n",
       "  </thead>\n",
       "  <tbody>\n",
       "    <tr>\n",
       "      <th>8970</th>\n",
       "      <td>Graphic: Supreme Court roundup</td>\n",
       "      <td></td>\n",
       "      <td>politicsNews</td>\n",
       "      <td>June 16, 2016</td>\n",
       "      <td>0</td>\n",
       "    </tr>\n",
       "    <tr>\n",
       "      <th>33661</th>\n",
       "      <td>TRUMP SLAMS THE GLOBALISTS: “There is no globa...</td>\n",
       "      <td></td>\n",
       "      <td>politics</td>\n",
       "      <td>Dec 1, 2016</td>\n",
       "      <td>1</td>\n",
       "    </tr>\n",
       "    <tr>\n",
       "      <th>35094</th>\n",
       "      <td>MUSLIM INVASION OF AMERICA In Full Swing: Obam...</td>\n",
       "      <td>(Welcome) to America We hope you enjoy our...</td>\n",
       "      <td>politics</td>\n",
       "      <td>Jun 17, 2016</td>\n",
       "      <td>1</td>\n",
       "    </tr>\n",
       "    <tr>\n",
       "      <th>32062</th>\n",
       "      <td>WOW! MAJOR CREDIT CARD COMPANY Still Sponsorin...</td>\n",
       "      <td>Delta Air Lines and Bank of America became ...</td>\n",
       "      <td>politics</td>\n",
       "      <td>Jun 12, 2017</td>\n",
       "      <td>1</td>\n",
       "    </tr>\n",
       "    <tr>\n",
       "      <th>33502</th>\n",
       "      <td>A MUST WATCH! “It’s Time To Show America Is Bi...</td>\n",
       "      <td>#PresidentElectTrumpABSOLUTELY MUST WATCHTod...</td>\n",
       "      <td>politics</td>\n",
       "      <td>Dec 21, 2016</td>\n",
       "      <td>1</td>\n",
       "    </tr>\n",
       "    <tr>\n",
       "      <th>...</th>\n",
       "      <td>...</td>\n",
       "      <td>...</td>\n",
       "      <td>...</td>\n",
       "      <td>...</td>\n",
       "      <td>...</td>\n",
       "    </tr>\n",
       "    <tr>\n",
       "      <th>33499</th>\n",
       "      <td>OHIO ELECTOR TORCHES Anti-Trump Letters He Rec...</td>\n",
       "      <td>pic.twitter.com/KMnLrwB6t1  Richard K. Jones (...</td>\n",
       "      <td>politics</td>\n",
       "      <td>Dec 21, 2016</td>\n",
       "      <td>1</td>\n",
       "    </tr>\n",
       "    <tr>\n",
       "      <th>42714</th>\n",
       "      <td>EMBARRASSING: Obama Explains How He Will ‘Rebu...</td>\n",
       "      <td>re buke r byo ok/ verb 1. express sharp disapp...</td>\n",
       "      <td>left-news</td>\n",
       "      <td>Nov 25, 2015</td>\n",
       "      <td>1</td>\n",
       "    </tr>\n",
       "    <tr>\n",
       "      <th>36178</th>\n",
       "      <td>BLACK LIVES MATTER TERRORISTS May Be Shut Down...</td>\n",
       "      <td>ter ror ist  ter r st/ noun a person who uses ...</td>\n",
       "      <td>politics</td>\n",
       "      <td>Dec 23, 2015</td>\n",
       "      <td>1</td>\n",
       "    </tr>\n",
       "    <tr>\n",
       "      <th>38658</th>\n",
       "      <td>BIG BROTHER: FEDS WANT YOUR DOCTOR TO WARN YOU...</td>\n",
       "      <td>totally out of bounds! This is so wrong and so...</td>\n",
       "      <td>Government News</td>\n",
       "      <td>Jun 26, 2015</td>\n",
       "      <td>1</td>\n",
       "    </tr>\n",
       "    <tr>\n",
       "      <th>34364</th>\n",
       "      <td>GRAPHIC RIOT VIDEOS EXPOSE THUGS ATTACKING ELD...</td>\n",
       "      <td>youngers these days are becoming so moist pic....</td>\n",
       "      <td>politics</td>\n",
       "      <td>Sep 22, 2016</td>\n",
       "      <td>1</td>\n",
       "    </tr>\n",
       "  </tbody>\n",
       "</table>\n",
       "<p>38646 rows × 5 columns</p>\n",
       "</div>"
      ],
      "text/plain": [
       "                                                   title  \\\n",
       "8970                      Graphic: Supreme Court roundup   \n",
       "33661  TRUMP SLAMS THE GLOBALISTS: “There is no globa...   \n",
       "35094  MUSLIM INVASION OF AMERICA In Full Swing: Obam...   \n",
       "32062  WOW! MAJOR CREDIT CARD COMPANY Still Sponsorin...   \n",
       "33502  A MUST WATCH! “It’s Time To Show America Is Bi...   \n",
       "...                                                  ...   \n",
       "33499  OHIO ELECTOR TORCHES Anti-Trump Letters He Rec...   \n",
       "42714  EMBARRASSING: Obama Explains How He Will ‘Rebu...   \n",
       "36178  BLACK LIVES MATTER TERRORISTS May Be Shut Down...   \n",
       "38658  BIG BROTHER: FEDS WANT YOUR DOCTOR TO WARN YOU...   \n",
       "34364  GRAPHIC RIOT VIDEOS EXPOSE THUGS ATTACKING ELD...   \n",
       "\n",
       "                                                    text          subject  \\\n",
       "8970                                                         politicsNews   \n",
       "33661                                                            politics   \n",
       "35094      (Welcome) to America We hope you enjoy our...         politics   \n",
       "32062     Delta Air Lines and Bank of America became ...         politics   \n",
       "33502    #PresidentElectTrumpABSOLUTELY MUST WATCHTod...         politics   \n",
       "...                                                  ...              ...   \n",
       "33499  pic.twitter.com/KMnLrwB6t1  Richard K. Jones (...         politics   \n",
       "42714  re buke r byo ok/ verb 1. express sharp disapp...        left-news   \n",
       "36178  ter ror ist  ter r st/ noun a person who uses ...         politics   \n",
       "38658  totally out of bounds! This is so wrong and so...  Government News   \n",
       "34364  youngers these days are becoming so moist pic....         politics   \n",
       "\n",
       "                 date  target  \n",
       "8970   June 16, 2016        0  \n",
       "33661     Dec 1, 2016       1  \n",
       "35094    Jun 17, 2016       1  \n",
       "32062    Jun 12, 2017       1  \n",
       "33502    Dec 21, 2016       1  \n",
       "...               ...     ...  \n",
       "33499    Dec 21, 2016       1  \n",
       "42714    Nov 25, 2015       1  \n",
       "36178    Dec 23, 2015       1  \n",
       "38658    Jun 26, 2015       1  \n",
       "34364    Sep 22, 2016       1  \n",
       "\n",
       "[38646 rows x 5 columns]"
      ]
     },
     "execution_count": 13,
     "metadata": {},
     "output_type": "execute_result"
    }
   ],
   "source": [
    "df.sort_values(by='text', ascending=True, inplace=False)"
   ]
  },
  {
   "cell_type": "code",
   "execution_count": 14,
   "id": "4ed9afa2-d54a-4701-8af8-3ac7721a8b2a",
   "metadata": {},
   "outputs": [
    {
     "data": {
      "text/plain": [
       "' '"
      ]
     },
     "execution_count": 14,
     "metadata": {},
     "output_type": "execute_result"
    }
   ],
   "source": [
    "df.loc[8970].text"
   ]
  },
  {
   "cell_type": "markdown",
   "id": "4a9386dd-a8d9-4ca9-a08d-11186faf7692",
   "metadata": {},
   "source": [
    "- Elimina cadenas de espacios"
   ]
  },
  {
   "cell_type": "code",
   "execution_count": 15,
   "id": "43c5e1fd-8ba8-4347-8b5c-018bf6e725d7",
   "metadata": {},
   "outputs": [
    {
     "data": {
      "text/html": [
       "<div>\n",
       "<style scoped>\n",
       "    .dataframe tbody tr th:only-of-type {\n",
       "        vertical-align: middle;\n",
       "    }\n",
       "\n",
       "    .dataframe tbody tr th {\n",
       "        vertical-align: top;\n",
       "    }\n",
       "\n",
       "    .dataframe thead th {\n",
       "        text-align: right;\n",
       "    }\n",
       "</style>\n",
       "<table border=\"1\" class=\"dataframe\">\n",
       "  <thead>\n",
       "    <tr style=\"text-align: right;\">\n",
       "      <th></th>\n",
       "      <th>title</th>\n",
       "      <th>text</th>\n",
       "      <th>subject</th>\n",
       "      <th>date</th>\n",
       "      <th>target</th>\n",
       "    </tr>\n",
       "  </thead>\n",
       "  <tbody>\n",
       "    <tr>\n",
       "      <th>0</th>\n",
       "      <td>As U.S. budget fight looms, Republicans flip t...</td>\n",
       "      <td>WASHINGTON (Reuters) - The head of a conservat...</td>\n",
       "      <td>politicsNews</td>\n",
       "      <td>December 31, 2017</td>\n",
       "      <td>0</td>\n",
       "    </tr>\n",
       "    <tr>\n",
       "      <th>1</th>\n",
       "      <td>U.S. military to accept transgender recruits o...</td>\n",
       "      <td>WASHINGTON (Reuters) - Transgender people will...</td>\n",
       "      <td>politicsNews</td>\n",
       "      <td>December 29, 2017</td>\n",
       "      <td>0</td>\n",
       "    </tr>\n",
       "    <tr>\n",
       "      <th>2</th>\n",
       "      <td>Senior U.S. Republican senator: 'Let Mr. Muell...</td>\n",
       "      <td>WASHINGTON (Reuters) - The special counsel inv...</td>\n",
       "      <td>politicsNews</td>\n",
       "      <td>December 31, 2017</td>\n",
       "      <td>0</td>\n",
       "    </tr>\n",
       "    <tr>\n",
       "      <th>3</th>\n",
       "      <td>FBI Russia probe helped by Australian diplomat...</td>\n",
       "      <td>WASHINGTON (Reuters) - Trump campaign adviser ...</td>\n",
       "      <td>politicsNews</td>\n",
       "      <td>December 30, 2017</td>\n",
       "      <td>0</td>\n",
       "    </tr>\n",
       "    <tr>\n",
       "      <th>4</th>\n",
       "      <td>Trump wants Postal Service to charge 'much mor...</td>\n",
       "      <td>SEATTLE/WASHINGTON (Reuters) - President Donal...</td>\n",
       "      <td>politicsNews</td>\n",
       "      <td>December 29, 2017</td>\n",
       "      <td>0</td>\n",
       "    </tr>\n",
       "    <tr>\n",
       "      <th>...</th>\n",
       "      <td>...</td>\n",
       "      <td>...</td>\n",
       "      <td>...</td>\n",
       "      <td>...</td>\n",
       "      <td>...</td>\n",
       "    </tr>\n",
       "    <tr>\n",
       "      <th>44115</th>\n",
       "      <td>The White House and The Theatrics of ‘Gun Cont...</td>\n",
       "      <td>21st Century Wire says All the world s a stage...</td>\n",
       "      <td>US_News</td>\n",
       "      <td>January 7, 2016</td>\n",
       "      <td>1</td>\n",
       "    </tr>\n",
       "    <tr>\n",
       "      <th>44116</th>\n",
       "      <td>Activists or Terrorists? How Media Controls an...</td>\n",
       "      <td>Randy Johnson 21st Century WireThe majority ...</td>\n",
       "      <td>US_News</td>\n",
       "      <td>January 7, 2016</td>\n",
       "      <td>1</td>\n",
       "    </tr>\n",
       "    <tr>\n",
       "      <th>44117</th>\n",
       "      <td>BOILER ROOM – No Surrender, No Retreat, Heads ...</td>\n",
       "      <td>Tune in to the Alternate Current Radio Network...</td>\n",
       "      <td>US_News</td>\n",
       "      <td>January 6, 2016</td>\n",
       "      <td>1</td>\n",
       "    </tr>\n",
       "    <tr>\n",
       "      <th>44118</th>\n",
       "      <td>Federal Showdown Looms in Oregon After BLM Abu...</td>\n",
       "      <td>21st Century Wire says A new front has just op...</td>\n",
       "      <td>US_News</td>\n",
       "      <td>January 4, 2016</td>\n",
       "      <td>1</td>\n",
       "    </tr>\n",
       "    <tr>\n",
       "      <th>44119</th>\n",
       "      <td>A Troubled King: Chicago’s Rahm Emanuel Desper...</td>\n",
       "      <td>21st Century Wire says It s not that far away....</td>\n",
       "      <td>US_News</td>\n",
       "      <td>January 2, 2016</td>\n",
       "      <td>1</td>\n",
       "    </tr>\n",
       "  </tbody>\n",
       "</table>\n",
       "<p>38644 rows × 5 columns</p>\n",
       "</div>"
      ],
      "text/plain": [
       "                                                   title  \\\n",
       "0      As U.S. budget fight looms, Republicans flip t...   \n",
       "1      U.S. military to accept transgender recruits o...   \n",
       "2      Senior U.S. Republican senator: 'Let Mr. Muell...   \n",
       "3      FBI Russia probe helped by Australian diplomat...   \n",
       "4      Trump wants Postal Service to charge 'much mor...   \n",
       "...                                                  ...   \n",
       "44115  The White House and The Theatrics of ‘Gun Cont...   \n",
       "44116  Activists or Terrorists? How Media Controls an...   \n",
       "44117  BOILER ROOM – No Surrender, No Retreat, Heads ...   \n",
       "44118  Federal Showdown Looms in Oregon After BLM Abu...   \n",
       "44119  A Troubled King: Chicago’s Rahm Emanuel Desper...   \n",
       "\n",
       "                                                    text       subject  \\\n",
       "0      WASHINGTON (Reuters) - The head of a conservat...  politicsNews   \n",
       "1      WASHINGTON (Reuters) - Transgender people will...  politicsNews   \n",
       "2      WASHINGTON (Reuters) - The special counsel inv...  politicsNews   \n",
       "3      WASHINGTON (Reuters) - Trump campaign adviser ...  politicsNews   \n",
       "4      SEATTLE/WASHINGTON (Reuters) - President Donal...  politicsNews   \n",
       "...                                                  ...           ...   \n",
       "44115  21st Century Wire says All the world s a stage...       US_News   \n",
       "44116    Randy Johnson 21st Century WireThe majority ...       US_News   \n",
       "44117  Tune in to the Alternate Current Radio Network...       US_News   \n",
       "44118  21st Century Wire says A new front has just op...       US_News   \n",
       "44119  21st Century Wire says It s not that far away....       US_News   \n",
       "\n",
       "                     date  target  \n",
       "0      December 31, 2017        0  \n",
       "1      December 29, 2017        0  \n",
       "2      December 31, 2017        0  \n",
       "3      December 30, 2017        0  \n",
       "4      December 29, 2017        0  \n",
       "...                   ...     ...  \n",
       "44115     January 7, 2016       1  \n",
       "44116     January 7, 2016       1  \n",
       "44117     January 6, 2016       1  \n",
       "44118     January 4, 2016       1  \n",
       "44119     January 2, 2016       1  \n",
       "\n",
       "[38644 rows x 5 columns]"
      ]
     },
     "execution_count": 15,
     "metadata": {},
     "output_type": "execute_result"
    }
   ],
   "source": [
    "df = df[df['text'].str.strip() != '']\n",
    "df"
   ]
  },
  {
   "cell_type": "code",
   "execution_count": 16,
   "id": "17a77ff2-5799-488c-8ee7-3ae3a32395b9",
   "metadata": {},
   "outputs": [],
   "source": [
    "df = df.reset_index(drop=True)"
   ]
  },
  {
   "cell_type": "code",
   "execution_count": 17,
   "id": "0e7f3959-32ca-49ad-abca-ef3e1fc9c080",
   "metadata": {},
   "outputs": [
    {
     "data": {
      "text/plain": [
       "38644"
      ]
     },
     "execution_count": 17,
     "metadata": {},
     "output_type": "execute_result"
    }
   ],
   "source": [
    "len(df)"
   ]
  },
  {
   "cell_type": "markdown",
   "id": "6ab0afbd-c0a7-4727-b138-e7b4ab27e384",
   "metadata": {},
   "source": [
    "- Crea nueva columna añadiendo el título al texto"
   ]
  },
  {
   "cell_type": "code",
   "execution_count": 18,
   "id": "dca02c1a-7197-43dd-b97b-71556c1a1491",
   "metadata": {},
   "outputs": [],
   "source": [
    "df['clean_text'] = df['title']+ df['text']"
   ]
  },
  {
   "cell_type": "code",
   "execution_count": 19,
   "id": "1f664158-63c6-4739-9723-052bbe65461f",
   "metadata": {},
   "outputs": [
    {
     "data": {
      "text/html": [
       "<div>\n",
       "<style scoped>\n",
       "    .dataframe tbody tr th:only-of-type {\n",
       "        vertical-align: middle;\n",
       "    }\n",
       "\n",
       "    .dataframe tbody tr th {\n",
       "        vertical-align: top;\n",
       "    }\n",
       "\n",
       "    .dataframe thead th {\n",
       "        text-align: right;\n",
       "    }\n",
       "</style>\n",
       "<table border=\"1\" class=\"dataframe\">\n",
       "  <thead>\n",
       "    <tr style=\"text-align: right;\">\n",
       "      <th></th>\n",
       "      <th>title</th>\n",
       "      <th>text</th>\n",
       "      <th>subject</th>\n",
       "      <th>date</th>\n",
       "      <th>target</th>\n",
       "      <th>clean_text</th>\n",
       "    </tr>\n",
       "  </thead>\n",
       "  <tbody>\n",
       "    <tr>\n",
       "      <th>0</th>\n",
       "      <td>As U.S. budget fight looms, Republicans flip t...</td>\n",
       "      <td>WASHINGTON (Reuters) - The head of a conservat...</td>\n",
       "      <td>politicsNews</td>\n",
       "      <td>December 31, 2017</td>\n",
       "      <td>0</td>\n",
       "      <td>As U.S. budget fight looms, Republicans flip t...</td>\n",
       "    </tr>\n",
       "    <tr>\n",
       "      <th>1</th>\n",
       "      <td>U.S. military to accept transgender recruits o...</td>\n",
       "      <td>WASHINGTON (Reuters) - Transgender people will...</td>\n",
       "      <td>politicsNews</td>\n",
       "      <td>December 29, 2017</td>\n",
       "      <td>0</td>\n",
       "      <td>U.S. military to accept transgender recruits o...</td>\n",
       "    </tr>\n",
       "    <tr>\n",
       "      <th>2</th>\n",
       "      <td>Senior U.S. Republican senator: 'Let Mr. Muell...</td>\n",
       "      <td>WASHINGTON (Reuters) - The special counsel inv...</td>\n",
       "      <td>politicsNews</td>\n",
       "      <td>December 31, 2017</td>\n",
       "      <td>0</td>\n",
       "      <td>Senior U.S. Republican senator: 'Let Mr. Muell...</td>\n",
       "    </tr>\n",
       "    <tr>\n",
       "      <th>3</th>\n",
       "      <td>FBI Russia probe helped by Australian diplomat...</td>\n",
       "      <td>WASHINGTON (Reuters) - Trump campaign adviser ...</td>\n",
       "      <td>politicsNews</td>\n",
       "      <td>December 30, 2017</td>\n",
       "      <td>0</td>\n",
       "      <td>FBI Russia probe helped by Australian diplomat...</td>\n",
       "    </tr>\n",
       "    <tr>\n",
       "      <th>4</th>\n",
       "      <td>Trump wants Postal Service to charge 'much mor...</td>\n",
       "      <td>SEATTLE/WASHINGTON (Reuters) - President Donal...</td>\n",
       "      <td>politicsNews</td>\n",
       "      <td>December 29, 2017</td>\n",
       "      <td>0</td>\n",
       "      <td>Trump wants Postal Service to charge 'much mor...</td>\n",
       "    </tr>\n",
       "    <tr>\n",
       "      <th>...</th>\n",
       "      <td>...</td>\n",
       "      <td>...</td>\n",
       "      <td>...</td>\n",
       "      <td>...</td>\n",
       "      <td>...</td>\n",
       "      <td>...</td>\n",
       "    </tr>\n",
       "    <tr>\n",
       "      <th>38639</th>\n",
       "      <td>The White House and The Theatrics of ‘Gun Cont...</td>\n",
       "      <td>21st Century Wire says All the world s a stage...</td>\n",
       "      <td>US_News</td>\n",
       "      <td>January 7, 2016</td>\n",
       "      <td>1</td>\n",
       "      <td>The White House and The Theatrics of ‘Gun Cont...</td>\n",
       "    </tr>\n",
       "    <tr>\n",
       "      <th>38640</th>\n",
       "      <td>Activists or Terrorists? How Media Controls an...</td>\n",
       "      <td>Randy Johnson 21st Century WireThe majority ...</td>\n",
       "      <td>US_News</td>\n",
       "      <td>January 7, 2016</td>\n",
       "      <td>1</td>\n",
       "      <td>Activists or Terrorists? How Media Controls an...</td>\n",
       "    </tr>\n",
       "    <tr>\n",
       "      <th>38641</th>\n",
       "      <td>BOILER ROOM – No Surrender, No Retreat, Heads ...</td>\n",
       "      <td>Tune in to the Alternate Current Radio Network...</td>\n",
       "      <td>US_News</td>\n",
       "      <td>January 6, 2016</td>\n",
       "      <td>1</td>\n",
       "      <td>BOILER ROOM – No Surrender, No Retreat, Heads ...</td>\n",
       "    </tr>\n",
       "    <tr>\n",
       "      <th>38642</th>\n",
       "      <td>Federal Showdown Looms in Oregon After BLM Abu...</td>\n",
       "      <td>21st Century Wire says A new front has just op...</td>\n",
       "      <td>US_News</td>\n",
       "      <td>January 4, 2016</td>\n",
       "      <td>1</td>\n",
       "      <td>Federal Showdown Looms in Oregon After BLM Abu...</td>\n",
       "    </tr>\n",
       "    <tr>\n",
       "      <th>38643</th>\n",
       "      <td>A Troubled King: Chicago’s Rahm Emanuel Desper...</td>\n",
       "      <td>21st Century Wire says It s not that far away....</td>\n",
       "      <td>US_News</td>\n",
       "      <td>January 2, 2016</td>\n",
       "      <td>1</td>\n",
       "      <td>A Troubled King: Chicago’s Rahm Emanuel Desper...</td>\n",
       "    </tr>\n",
       "  </tbody>\n",
       "</table>\n",
       "<p>38644 rows × 6 columns</p>\n",
       "</div>"
      ],
      "text/plain": [
       "                                                   title  \\\n",
       "0      As U.S. budget fight looms, Republicans flip t...   \n",
       "1      U.S. military to accept transgender recruits o...   \n",
       "2      Senior U.S. Republican senator: 'Let Mr. Muell...   \n",
       "3      FBI Russia probe helped by Australian diplomat...   \n",
       "4      Trump wants Postal Service to charge 'much mor...   \n",
       "...                                                  ...   \n",
       "38639  The White House and The Theatrics of ‘Gun Cont...   \n",
       "38640  Activists or Terrorists? How Media Controls an...   \n",
       "38641  BOILER ROOM – No Surrender, No Retreat, Heads ...   \n",
       "38642  Federal Showdown Looms in Oregon After BLM Abu...   \n",
       "38643  A Troubled King: Chicago’s Rahm Emanuel Desper...   \n",
       "\n",
       "                                                    text       subject  \\\n",
       "0      WASHINGTON (Reuters) - The head of a conservat...  politicsNews   \n",
       "1      WASHINGTON (Reuters) - Transgender people will...  politicsNews   \n",
       "2      WASHINGTON (Reuters) - The special counsel inv...  politicsNews   \n",
       "3      WASHINGTON (Reuters) - Trump campaign adviser ...  politicsNews   \n",
       "4      SEATTLE/WASHINGTON (Reuters) - President Donal...  politicsNews   \n",
       "...                                                  ...           ...   \n",
       "38639  21st Century Wire says All the world s a stage...       US_News   \n",
       "38640    Randy Johnson 21st Century WireThe majority ...       US_News   \n",
       "38641  Tune in to the Alternate Current Radio Network...       US_News   \n",
       "38642  21st Century Wire says A new front has just op...       US_News   \n",
       "38643  21st Century Wire says It s not that far away....       US_News   \n",
       "\n",
       "                     date  target  \\\n",
       "0      December 31, 2017        0   \n",
       "1      December 29, 2017        0   \n",
       "2      December 31, 2017        0   \n",
       "3      December 30, 2017        0   \n",
       "4      December 29, 2017        0   \n",
       "...                   ...     ...   \n",
       "38639     January 7, 2016       1   \n",
       "38640     January 7, 2016       1   \n",
       "38641     January 6, 2016       1   \n",
       "38642     January 4, 2016       1   \n",
       "38643     January 2, 2016       1   \n",
       "\n",
       "                                              clean_text  \n",
       "0      As U.S. budget fight looms, Republicans flip t...  \n",
       "1      U.S. military to accept transgender recruits o...  \n",
       "2      Senior U.S. Republican senator: 'Let Mr. Muell...  \n",
       "3      FBI Russia probe helped by Australian diplomat...  \n",
       "4      Trump wants Postal Service to charge 'much mor...  \n",
       "...                                                  ...  \n",
       "38639  The White House and The Theatrics of ‘Gun Cont...  \n",
       "38640  Activists or Terrorists? How Media Controls an...  \n",
       "38641  BOILER ROOM – No Surrender, No Retreat, Heads ...  \n",
       "38642  Federal Showdown Looms in Oregon After BLM Abu...  \n",
       "38643  A Troubled King: Chicago’s Rahm Emanuel Desper...  \n",
       "\n",
       "[38644 rows x 6 columns]"
      ]
     },
     "execution_count": 19,
     "metadata": {},
     "output_type": "execute_result"
    }
   ],
   "source": [
    "df"
   ]
  },
  {
   "cell_type": "markdown",
   "id": "3eb4b12e-9ea6-492f-906c-e2a205ca0061",
   "metadata": {},
   "source": [
    "- Elimina puntuación y convierte a minúsculas\n",
    "- Se utiliza el método __str.translate()__ para eliminar todos los caracteres de puntuación mediante una tabla de traducción creada con el método __str.maketrans__. La constante string.punctuation contiene todos los caracteres de puntuación ASCII, que se eliminan de los valores en la columna"
   ]
  },
  {
   "cell_type": "code",
   "execution_count": 20,
   "id": "16ff03a8-76aa-4786-a794-e6744a45bc47",
   "metadata": {},
   "outputs": [],
   "source": [
    "import string"
   ]
  },
  {
   "cell_type": "code",
   "execution_count": 21,
   "id": "6a5aa290-98ec-4e71-a4e4-69efc463f8ec",
   "metadata": {},
   "outputs": [
    {
     "data": {
      "text/html": [
       "<div>\n",
       "<style scoped>\n",
       "    .dataframe tbody tr th:only-of-type {\n",
       "        vertical-align: middle;\n",
       "    }\n",
       "\n",
       "    .dataframe tbody tr th {\n",
       "        vertical-align: top;\n",
       "    }\n",
       "\n",
       "    .dataframe thead th {\n",
       "        text-align: right;\n",
       "    }\n",
       "</style>\n",
       "<table border=\"1\" class=\"dataframe\">\n",
       "  <thead>\n",
       "    <tr style=\"text-align: right;\">\n",
       "      <th></th>\n",
       "      <th>title</th>\n",
       "      <th>text</th>\n",
       "      <th>subject</th>\n",
       "      <th>date</th>\n",
       "      <th>target</th>\n",
       "      <th>clean_text</th>\n",
       "    </tr>\n",
       "  </thead>\n",
       "  <tbody>\n",
       "    <tr>\n",
       "      <th>0</th>\n",
       "      <td>As U.S. budget fight looms, Republicans flip t...</td>\n",
       "      <td>WASHINGTON (Reuters) - The head of a conservat...</td>\n",
       "      <td>politicsNews</td>\n",
       "      <td>December 31, 2017</td>\n",
       "      <td>0</td>\n",
       "      <td>as us budget fight looms republicans flip thei...</td>\n",
       "    </tr>\n",
       "    <tr>\n",
       "      <th>1</th>\n",
       "      <td>U.S. military to accept transgender recruits o...</td>\n",
       "      <td>WASHINGTON (Reuters) - Transgender people will...</td>\n",
       "      <td>politicsNews</td>\n",
       "      <td>December 29, 2017</td>\n",
       "      <td>0</td>\n",
       "      <td>us military to accept transgender recruits on ...</td>\n",
       "    </tr>\n",
       "    <tr>\n",
       "      <th>2</th>\n",
       "      <td>Senior U.S. Republican senator: 'Let Mr. Muell...</td>\n",
       "      <td>WASHINGTON (Reuters) - The special counsel inv...</td>\n",
       "      <td>politicsNews</td>\n",
       "      <td>December 31, 2017</td>\n",
       "      <td>0</td>\n",
       "      <td>senior us republican senator let mr mueller do...</td>\n",
       "    </tr>\n",
       "    <tr>\n",
       "      <th>3</th>\n",
       "      <td>FBI Russia probe helped by Australian diplomat...</td>\n",
       "      <td>WASHINGTON (Reuters) - Trump campaign adviser ...</td>\n",
       "      <td>politicsNews</td>\n",
       "      <td>December 30, 2017</td>\n",
       "      <td>0</td>\n",
       "      <td>fbi russia probe helped by australian diplomat...</td>\n",
       "    </tr>\n",
       "    <tr>\n",
       "      <th>4</th>\n",
       "      <td>Trump wants Postal Service to charge 'much mor...</td>\n",
       "      <td>SEATTLE/WASHINGTON (Reuters) - President Donal...</td>\n",
       "      <td>politicsNews</td>\n",
       "      <td>December 29, 2017</td>\n",
       "      <td>0</td>\n",
       "      <td>trump wants postal service to charge much more...</td>\n",
       "    </tr>\n",
       "  </tbody>\n",
       "</table>\n",
       "</div>"
      ],
      "text/plain": [
       "                                               title  \\\n",
       "0  As U.S. budget fight looms, Republicans flip t...   \n",
       "1  U.S. military to accept transgender recruits o...   \n",
       "2  Senior U.S. Republican senator: 'Let Mr. Muell...   \n",
       "3  FBI Russia probe helped by Australian diplomat...   \n",
       "4  Trump wants Postal Service to charge 'much mor...   \n",
       "\n",
       "                                                text       subject  \\\n",
       "0  WASHINGTON (Reuters) - The head of a conservat...  politicsNews   \n",
       "1  WASHINGTON (Reuters) - Transgender people will...  politicsNews   \n",
       "2  WASHINGTON (Reuters) - The special counsel inv...  politicsNews   \n",
       "3  WASHINGTON (Reuters) - Trump campaign adviser ...  politicsNews   \n",
       "4  SEATTLE/WASHINGTON (Reuters) - President Donal...  politicsNews   \n",
       "\n",
       "                 date  target  \\\n",
       "0  December 31, 2017        0   \n",
       "1  December 29, 2017        0   \n",
       "2  December 31, 2017        0   \n",
       "3  December 30, 2017        0   \n",
       "4  December 29, 2017        0   \n",
       "\n",
       "                                          clean_text  \n",
       "0  as us budget fight looms republicans flip thei...  \n",
       "1  us military to accept transgender recruits on ...  \n",
       "2  senior us republican senator let mr mueller do...  \n",
       "3  fbi russia probe helped by australian diplomat...  \n",
       "4  trump wants postal service to charge much more...  "
      ]
     },
     "execution_count": 21,
     "metadata": {},
     "output_type": "execute_result"
    }
   ],
   "source": [
    "df['clean_text'] = df['clean_text'].str.lower().str.translate(str.maketrans('', '', string.punctuation))\n",
    "df.head()"
   ]
  },
  {
   "cell_type": "markdown",
   "id": "a651ba97-16f3-47fd-9798-5353586f346d",
   "metadata": {},
   "source": [
    "## 2.- Pipeline"
   ]
  },
  {
   "cell_type": "code",
   "execution_count": 22,
   "id": "5b021552-fe16-4ce9-b3f4-7ec478c81ec2",
   "metadata": {},
   "outputs": [
    {
     "data": {
      "text/plain": [
       "0    21191\n",
       "1    17453\n",
       "Name: target, dtype: int64"
      ]
     },
     "execution_count": 22,
     "metadata": {},
     "output_type": "execute_result"
    }
   ],
   "source": [
    "df['target'].value_counts()"
   ]
  },
  {
   "cell_type": "code",
   "execution_count": 23,
   "id": "a0182532-66f2-4482-9630-bda5d1470d76",
   "metadata": {},
   "outputs": [],
   "source": [
    "import os\n",
    "os.environ['TF_CPP_MIN_LOG_LEVEL'] = '3' # Disable tensorflow debugging logs\n",
    "import tensorflow as tf\n",
    "from tensorflow.keras.layers import TextVectorization\n",
    "from tensorflow.keras import Sequential\n",
    "from tensorflow.keras import layers \n",
    "import re\n",
    "from sklearn.model_selection import train_test_split\n",
    "\n",
    "X = df['clean_text'].values\n",
    "y = df['target'].values\n",
    "\n",
    "X_train, X_test, y_train, y_test = train_test_split(X, y, test_size = 0.25, random_state = 123)"
   ]
  },
  {
   "cell_type": "code",
   "execution_count": 24,
   "id": "f8896562-dd30-431b-a7a1-55d084586352",
   "metadata": {
    "tags": []
   },
   "outputs": [
    {
     "data": {
      "text/plain": [
       "(28983, 9661)"
      ]
     },
     "execution_count": 24,
     "metadata": {},
     "output_type": "execute_result"
    }
   ],
   "source": [
    "len(X_train), len(X_test)"
   ]
  },
  {
   "cell_type": "code",
   "execution_count": 25,
   "id": "36d1a088-4c8c-4851-b53f-07e3432c3870",
   "metadata": {
    "scrolled": true,
    "tags": []
   },
   "outputs": [
    {
     "name": "stdout",
     "output_type": "stream",
     "text": [
      "(<tf.Tensor: shape=(), dtype=string, numpy=b'boom republican wins montana election after \\xe2\\x80\\x9cbodyslamming\\xe2\\x80\\x9d reporter \\xe2\\x80\\x98i\\xe2\\x80\\x99m sick and tired of this\\xe2\\x80\\x99this is just too rich the democrats threw tons of money into this race and then the republican candidate  bodyslammed  an obnoxious reporter it seemed like the dems really couldn t lose this one bernie s socialist candidate would win in montana the democrats were sure they could run leftists and win in red states not so fastrepublican businessman greg gianforte won montana s sole house district in a special election thursday keeping a seat in republican hands despite facing assault charges for allegedly attacking a reporter who d asked him about the gop s healthcare billthe best ever quote from the  bodyslamming  incident is when gianforte spoke for all americans  i m sick and tired of this after he won he commented on the incident in his victory speech i shouldn t have treated that reporter that way  he told supporters at his rally hereplease check out gianforte s twitter page it s full of great photos of things he s done he makes his own sausage and even gave his wife a sausage maker for christmas he posts photos of his wild game dinners that look amazing this guy is a blast'>, <tf.Tensor: shape=(), dtype=int64, numpy=1>)\n"
     ]
    }
   ],
   "source": [
    "raw_train_ds = tf.data.Dataset.from_tensor_slices((X_train, y_train))\n",
    "raw_val_ds = tf.data.Dataset.from_tensor_slices((X_test, y_test))\n",
    "for text in raw_train_ds.take(1):\n",
    "    print(text)"
   ]
  },
  {
   "cell_type": "code",
   "execution_count": 26,
   "id": "52401e10-ade1-4f2a-9de7-036b7ee85556",
   "metadata": {},
   "outputs": [],
   "source": [
    "# Tamaño de vocabulario\n",
    "vocab_size = 10000\n",
    "\n",
    "vectorize_layer = TextVectorization(\n",
    "    standardize=None,\n",
    "    max_tokens=vocab_size,\n",
    "    output_mode='tf-idf')\n",
    "\n",
    "# Obtener el texto sin etiquetas\n",
    "text_ds = raw_train_ds.map(lambda x, y: x)\n",
    "vectorize_layer.adapt(text_ds)"
   ]
  },
  {
   "cell_type": "code",
   "execution_count": 27,
   "id": "862068ba-6861-441c-9ee2-dcd71a818bb1",
   "metadata": {
    "tags": []
   },
   "outputs": [],
   "source": [
    "batch_size = 16\n",
    "train_ds = raw_train_ds.shuffle(20000).batch(batch_size)\n",
    "val_ds = raw_val_ds.batch(batch_size)"
   ]
  },
  {
   "cell_type": "code",
   "execution_count": 28,
   "id": "1fc023a2-3151-4426-93e0-86c4da4b201a",
   "metadata": {
    "scrolled": true,
    "tags": []
   },
   "outputs": [
    {
     "name": "stdout",
     "output_type": "stream",
     "text": [
      "tf.Tensor(\n",
      "[b' former kkk leader thanks trump\\xe2\\x80\\x99s vp for being so nice audiothe most infamous leader of the ku klux klan has just proven that the biggest bullies have the thinnest skins former kkk grand wizard david duke a trumploving white supremacist who spent a good chunk of his life leading a hate group apparently doesn t like to be called bad names because it hurts his feelingsduke let americans in on his sensitive side when the exkkk leader spoke about the fact that republican vice presidential nominee mike pence had held off on calling duke names like  deplorable  even though pence has disavowed duke s support unlike his boss in return for his kindness and compassion duke praised pence extensively on his radio show for refusing the call duke exactly what he is duke said the whole idea that they were trying to make pence call me names basically and he didn t bite on that was a real positive thing for all of us the secret alliance between duke and the trump campaign is disgusting and it has had disastrous effects because he was so inspired by trump s racist and hateful presidential campaign duke is now running for the senate   and why wouldn t he when several americans have been so accepting of the racist and antisemitic views that trump holds as well the trump campaign has basically paved the way for people like dukeyou can listen to duke rave about pence belowthe terrifying thing about trump s campaign is that the gop nominee has literally made it ok for hate speech and bigotry to be expressed publicly he has in many ways normalized it in his campaign speeches his violenceprovoking rallies and by sharing white supremacist and antiminority messages on social media on a regular basis trump has made room for the most awful divisive views to be expressed and given people like duke the guts to have platforms they never would dared to pursue before this is the america that trump is creating   and it s not great it s terrifyingfeatured image via screenshot'\n",
      " b' watch adam schiff double dog dares white house to let sally yates testifyrep adam schiff the ranking democrat on the house intelligence committee just double dog dared the white house to let sally yates testifyspeaking to msnbc s andrea mitchell on wednesday schiff said  the person that is in the best position to talk about the events that led up to his mike flynn s firing is sally yates  schiff told mitchell that he has asked for yates who was the acting attorney general until donald trump fired her for defying him to testify on what she told the white house regarding the disgraced former national security adviser s interactions with russia she is more than willing to testify we have asked her to testify the white house says   at least   publicly   they want her to testify  schiff said  there is a letter sitting on the desk of my chairman that i ve signed requesting that hearing to be rescheduled and we are waiting for a response yates was scheduled to testify last month but rep devin nunes rca chairman of the committee suddenly canceled the hearing without warning white house press secretary sean spicer keeps claiming that trump wants yates to testify and schiff called their bluff on wednesday sean spicer has said he would like sally yates to testify so let s hold sean spicer to his word  schiff said  let s bring her in and allow her to tell the american people just what led to michael flynn s firing and what she may know about any conversation he had with the russian ambassador on the subject of relief from obama sanctions on russia over its intervention to help donald trump according to schiff the only thing keeping her from testifying is that nunes hasn t rescheduled the hearing yet you can watch him double dog dare the white house to allow yates to testify belowfeatured image via video screen capture '\n",
      " b' unhinged sean spicer lashes out at \\xe2\\x80\\x98silly\\xe2\\x80\\x99 reporters during insane press briefing videowhite house press secretary sean spicer held a press briefing today and inadvertently just handed saturday night live new material spicer repeatedly interrupted and talked over reporters while trying to defend alleged president donald trump he also had to address top trump adviser kellyanne conway s blunder this morning on fox  friends in which she literally hawked ivanka s clothing linea reporter asked about trump s attacks on a federal judge this week part of the reason the president got elected is because he speaks his mind   he s not going to hold back when he feels passionate  spicer saidother reporters asked about that too then the exchange became more tense thank you you ve now asked the question about eight times  spicer said something she said to cnn earlier this week is that the president doesn t comment on everything  a reporter said  i want to contrast the president s repeated statements about nordstrom with the lack of comments about some other things including for example the attack on quebec s mosque and other similar environments why is the president when he chooses to i literally stand at this podium and opened a briefing a couple days ago about the president expressing his condolences  spicer interrupted  i literally opened the briefing about it so for you to sit there and say i was here  the reporter said i know so why are you asking why he didn t do it when i literally stood here and did it  spicer asked i m talking about the president s statement  the reporter said i don t understand what you re asking  spicer replied kellyanne s comments were about how the president doesn t have time to tweet about everything  the reporter said  he s tweeting about this he s not tweeting about something else i came out here and actually spoke about it and said the president  spicer said we re talking about the president s time  the reporter said what are you you re equating me addressing the nation here and a tweet i don t i mean that s the silliest thing i ve ever heard ok this is silly  spicer said while speaking over the reporter  next ok thank you you ve asked your question thank you conway s bigly mistake this morning was brought up questions have been raised after kellyanne conway did an interview i believe it was with fox news this morning where she appeared to from the confines of the brady briefing room promote the products of ivanka trump  a reporter said  do you believe that she crossed an ethical line here kellyanne has been counseled and that s all we re going to go with  spicer replied  she s been counseled on that subject and that s it not so fast spanky she violated federal code  2635702watch melissa mccarthy is sitting somewhere with a big smile on her faceread moreimage via screen capture'\n",
      " b'us sanctions north koreans for flagrant rights abusewashington reuters  the united states on thursday imposed sanctions on seven north korean individuals and three entities for  flagrant  human rights abuses including killings torture forced labor and the hunting down of asylum seekers abroad  today s sanctions target the north korean military and regime officials  us treasury secretary steven mnuchin said in a statement  we also are targeting north korean financial facilitators who attempt to keep the regime afloat with foreign currency earned through forced labor operations  among those sanctioned were the director and the deputy director of the military security command the first vice minister of the ministry of people s security and the labor minister north korea s consul general in shenyang china and a diplomat at its embassy in vietnam were also sanctioned  we are especially concerned with the north korean military which operates as secret police punishing all forms of dissent  the statement said  further the military operates outside of north korea to hunt down asylum seekers and brutally detains and forcibly returns north korean citizens  the treasury statement charged that ku sung sop the consul general in shenyang and kim min chol the diplomat in vietnam had participated in the forced repatriation of north korean asylum seekers  scott busby the us deputy assistant secretary of state for democracy human rights and labor told a news briefing that ku s case had been raised with china he said it was up to china how to react but the range of possibilities included expelling him from the country speaking in beijing chinese foreign ministry spokesman geng shuang said china does not approve of countries using their own domestic law to enact unilateral sanctions outside of the united nations framework  we will maintain normal exchanges and cooperation with north korea on the basis of complying with un resolutions  he told a daily news briefing without elaborating busby said north korean government violations included extrajudicial killings torture rape and forced abortions and the aim of the sanctions was to send a message especially to prison camp managers and midlevel officials that individuals would be held accountable the us administration has sought to restrict the income north korea receives from its export of labor as part of efforts to choke off funds helping to finance the country s nuclear and missile programs which pyongyang says are aimed at developing weapons capable of hitting the united states north korea routinely denies widespread allegations of rights abuses the treasury statement said the ch olhyo n overseas construction company which was sanctioned along with the military security command and the external construction bureau had operated in algeria and was reported to earn foreign currency for north korea  employees of ch olhyo n are kept in slavelike conditions including having salaries and passports withheld by north korean security officials assigned as site supervisors meager food rations poor living conditions and severe restrictions on their freedom of movement  the treasury statement said it said the external construction bureau had operated in kuwait oman qatar and the united arab emirates '\n",
      " b'exclusive trump says us wants fair treatment in climate pactwashington reuters  president donald trump complained on thursday that the united states was being unfairly treated in the paris climate agreement and told reuters he would announce a decision in about two weeks on whether washington would remain in the accord the republican trump elected in november had vowed during his campaign to withdraw from the paris accord within 100 days of becoming president part of a broader plan to sweep away obama administration environmental protections he said were hobbling the economy he has since said he is open to staying in the pact if washington gets better terms and scores of large us companies and several republican lawmakers have urged him to stay in the deal as a way to protect american industry interests overseas trump who will mark the 100th day of his presidency on saturday told reuters in an interview he would announce his decision \\xe2\\x80\\x9cin about two weeks\\xe2\\x80\\x9d but complained that china india russia and other countries were paying too little to help poorer countries battle climate change under the agreement\\xe2\\x80\\x99s green climate fund \\xe2\\x80\\x9cit\\xe2\\x80\\x99s not a fair situation because they are paying virtually nothing and we are paying massive amounts of money\\xe2\\x80\\x9d he said  asked for a hint of what his decision might be he said \\xe2\\x80\\x9ci can say this we want to be treated fairly\\xe2\\x80\\x9d an administration source told reuters earlier that trump administration officials would likely meet in may to decide whether to keep the united states in the climate deal having had an initial meeting on thursday at the white house the group of advisers which includes secretary of state rex tillerson energy secretary rick perry and national security adviser hr mcmaster was on track to make the decision before a group of seven summit on may 26 the source said tillerson the former head of exxon mobil corp and perry have said the country should remain in the agreement mcmaster shares that view a source outside the administration said opponents of the pact include environmental protection agency chief scott pruitt the former attorney general of oilproducing state oklahoma and white house chief strategist steve bannon nearly 200 countries struck the paris agreement to limit climate change by cutting carbon dioxide emissions and making investments in clean energy many companies such as bp plc and microsoft corp have urged the united states to stay in the agreement to protect their competitiveness a group of nine republican lawmakers on thursday urged trump to stick to the pact but to weaken the us pledge to cut greenhouse gas emissions congressman kevin cramer of oilproducing state north dakota and eight other republicans in the house of representatives sent a letter to trump urging him to use the country\\xe2\\x80\\x99s \\xe2\\x80\\x9cseat at the paris table to defend and promote our commercial interest including our manufacturing and fossil fuel sectors\\xe2\\x80\\x9d if the united states is to stay in the 2015 agreement washington should present a new emissions cutting pledge that \\xe2\\x80\\x9cdoes no harm to our economy\\xe2\\x80\\x9d said the letter from cramer who advised trump on energy and climate during his 2016 presidential campaign trump\\xe2\\x80\\x99s democratic predecessor former president barack obama had pledged a 26 percent to 28 percent cut in us greenhouse gas emissions from 2005 levels by 2025 most scientists say the world needs to curb greenhouse gas emissions to limit the effects of climate change including rising seas deadly heatwaves and severe storms and droughts the republican lawmakers also said washington should retain its seat on the green climate fund but not make additional transfers to it obama pledged 3 billion to the fund in 2014 and gave 1 billion to it with the last 500 million payment coming in his last days as president '\n",
      " b'connecticuts governor says no return to prerecession prosperitynew york reuters  connecticut governor dannel malloy delivered a downbeat address on wednesday outlining plans to slash government spending and admitting to \\xe2\\x80\\x9ca visceral feeling\\xe2\\x80\\x9d that there was no going back to the prosperity of prerecession years the short and somber address came on the heels of a presentation by malloy\\xe2\\x80\\x99s top budget official who called for 570 million of reductions next year on top of millions in cuts and tax hikes in previous years \\xe2\\x80\\x9cour national economy while making progress from the great recession was fundamentally changed\\xe2\\x80\\x9d malloy a democrat said at his annual state of the state address \\xe2\\x80\\x9ca shifting workforce the rapid rise of technology and stagnant wage growth have made this recovery tougher for everyone everywhere\\xe2\\x80\\x9d connecticut has consistently lagged the national economic recovery and has been hit by job losses in its key financial and hightech manufacturing industries  the state has one of the worst funded pension systems in the nation with required payments set to balloon to 6 billion by 2032 the system presents a significant risk to the budget \\xe2\\x80\\x9cconnecticut is not going back to that prerecession reality\\xe2\\x80\\x9d malloy told the democratdominated legislature \\xe2\\x80\\x9cit just doesn\\xe2\\x80\\x99t exist anymore\\xe2\\x80\\x9d connecticut\\xe2\\x80\\x99s woes show how us states have shared unevenly in the recovery since the financial crisis of 20072009 andrew cuomo governor of neighboring new york felt confident enough to tout a 100 billion infrastructure plan in january \\xe2\\x80\\x9cit\\xe2\\x80\\x99s been a really hard recovery\\xe2\\x80\\x9d said douglas offerman an analyst at fitch ratings \\xe2\\x80\\x9cthe old paradigm that you would exceed your past peak in every expansion doesn\\xe2\\x80\\x99t appear to be holding right now\\xe2\\x80\\x9d ben barnes malloy\\xe2\\x80\\x99s top budget official said the replacement of higherpaying jobs with lower and middlewage positions had been a \\xe2\\x80\\x9cmajor story\\xe2\\x80\\x9d in connecticut\\xe2\\x80\\x99s budget ills  barnes proposed cuts of 575 percent to the budgets of state agencies which could mean the elimination of several thousand jobs he said cuts to discretionary spending would amount to 15 percent over two years  at the start of the legislative session malloy urged lawmakers to pass an early budget and not wait until the last day of the fiscal year on june 30 but he said he would not circumvent the process the governor proposed overhauling the way the state runs its budget to bring the process more in line with revenue projections shifting away from a \\xe2\\x80\\x9ccurrent services\\xe2\\x80\\x9d model he also said lawmakers should implement a spending cap '\n",
      " b'colombia arrests local director of portugals jmartins on corruption chargeslisbon reuters  colombian police have arrested the local director of operations for portuguese retailer jeronimo martins on charges of corruption the company said on thursday adding it had reported the executive to the authorities itself jeronimo martins which is the largest food retailer in poland and the second largest in portugal has been expanding in colombia for the past four years  jeronimo martins colombia has recently reported to the colombian authorities the existence of a potential case of private corruption for personal benefit and harmful to the company which had been detected by our internal systems  a company spokeswoman said  the director of operations of ara has been detained  following  joint actions with the colombian authorities  she said declining to provide further details jeronimo martins entered the colombian market in 2013 and has opened more than 200 stores since under the ara brand '\n",
      " b' perverted gop state rep corners lobbyist tries to force her to help with his \\xe2\\x80\\x98raging bner\\xe2\\x80\\x99the republican party is having a terrible week when it comes to the perverts in their ranks being outed first there s the fact that alabama senate candidate roy moore has been accused of  dating  girls as young as 14 and actually molesting said 14yearold what s worse is the fact that instead of demanding that moore leave the race many alabama republicans have been defending him one of them alabama gop auditor jim ziegler even used the bible as a justification for moore s alleged actionsnow the gop has another mess on their hands when it comes to perversion in their ranks minnesota state rep tony cornish the star tribune obtained a text message cornish sent to a fellow lawmaker in which he joked about how aroused he was while looking at her on the state house floor the star tribune says of the text message they received maye quade first elected in 2016 provided the star tribune with a text message from cornish in may 2017 in which he wrote that he  got busted for staring at you on the house floor   haha i told him it was your fault of course look too damned good ha i must be more gentlemanly when i run for governor as if that were not bad enough there s cornish s treatment of a female lobbyist in his office the lobbyist alleges that cornish trapped her in the office and insisted that she help him with his quote  raging boner  city pages says of that incident the most disturbing allegations against cornish come from a lobbyist who asked to have her identity protected the lobbyist says cornish engaged in a yearslong campaign of harassment soliciting her for sex in text messages   she rebuffed him   and once pushing her against a wall in his office and trying to kiss heron another occasion during a meeting in his office the woman says she was attempting to leave when cornish stood up and pointed down saying  i have a raging boner you can t leave  this the lobbyist says cornish said twice she did leave anywayand let s remember   for every one of these incidences that gets reported there s usually bunches more that don t because of the way people who come forward regarding being sexually harassed and assaulted are treatedget your act together gop this behavior is not just unacceptable it s criminal oh and let s not forget   you guys are the ones who go around judging and moralizing on the lives of others so much so in fact that many of you make entire careers of doing just that family values indeedfeatured image via tonycornishcom'\n",
      " b'white house says cyber review to go beyond  2016 electionwashington reuters  the white house said on friday the intelligence review ordered by president barack obama on cyber attacks involving us elections will go beyond the nov 8 vote and will include the 2008 election \\xe2\\x80\\x9cwhat the president asked for is a review to look at malicious cyber activity tied to our presidential election cycle\\xe2\\x80\\x9d white house spokesman eric schultz said at a news briefing \\xe2\\x80\\x9cit will be broader than just looking at this past election\\xe2\\x80\\x9d '\n",
      " b'ceo who threatened to kill trump with sniper rifle says life has been turned upside down videothe former ceo of a local cybersecurity firm is talking first to 10news   about his threat to shoot presidentelect donald trumpteam 10 investigator allison ash sat down with matt harrigan tuesday afternoon he tells allison he s been getting death threats since the posts went viral and he and his family have relocated until the storm settlesharrigan was the ceo of packetsled until he resigned his position tuesday morning he said he s sorry for his words and he wants his side of the story toldharrigan wrote the series of facebook posts on election night they were words that he thought only his friends would see he wrote  i m going to kill the president elect  and  bring it secret service  he even mentioned getting a sniper rifle and targeting the white house once donald trump was living thereharrigan said his facebook friends shared the post on twitter and that s how it went viral he says he s ashamed of what he wrote i m incredibly apologetic for that i don t know  harrigan said  it was a very very dumb thing to do and i regret it very much  and i would take it back if i could harrigan said he was drunk when he wrote the  absurd comments  on election night before donald trump won the election he said most of his friends knew he was just being  over the top  with his  distasteful joke at least one of those friends wasn t amused sharing the disturbing messages outside their circle of facebook friends  it started to trend very very quickly and started spiraling and i was blown away  harrigan admittedthe secret service spent two hours interviewing harrigan inside his del mar home they did not say whether criminal charged would be filed against the married father of twoharrigan said his family has been forced out of their home by death threats from people unhappy with his remarks although he said the threats he made against donald trump were  a joke  he is taking the threats against his family seriously  abc 10 news'\n",
      " b' trump tells china to keep our navy drone and gets pounded for being so unstabledonald trump just proved once again that he is unfit to be presidentearlier this week the chinese navy intercepted a united states oceanographic drone in the south china seathe federal government formally and politely requested that china give us our drone backtrump on the other hand accused china of stealing the drone and demanded its returnchina steals united states navy research drone in international waters   rips it out of water and takes it to china in unprecedented act  donald j trump realdonaldtrump december 17 2016for some reason donald trump is trying to pick a fight with china which would be disastrous for our economy and national security if he ever pissed china off enough to provoke them into retaliatinganyway china has announced that they are going to give our drone back to us but that not good enough for trump anymorewhether drunk or sleep deprived trump posted another tweet telling china not to bother giving it back and told them they should just keep the drone which contradicts the united states government request that china give it backwe should tell china that we don t want the drone they stole back let them keep it  donald j trump realdonaldtrump december 18 2016seriously trump just doesn t know when to keep his mouth shutbut some twitter users were quick to mock him for his idiocyrealdonaldtrump a complain ab the drone b get drone back c complain they gave it back d complete tantrum with punctuation error  isaac saul ikesaul december 18 2016he s a damn child christ  annoying cubs fan timbaffoe december 18 2016realdonaldtrump moron  matty granger reverendmatty december 18 2016how does that make sense realdonaldtrump maybe we should just stop trying to pick fights with foreign governments on twitter instead  david g mcafee davidgmcafee december 18 2016lolwut realdonaldtrump httpstcoiqxzwfflfx  charles johnson greenfootballs december 18 2016greenfootballs realdonaldtrump another day another unhinged meltdown by our president elect pictwittercom2wkkebpd0k  this is not normal networkjunkyz december 18 2016realdonaldtrump imagine a drunk driver with the entire world in the passenger seat  peter beinart peterbeinart december 18 2016advodude i would rather a drone have been elected  davison davisonvideo december 18 2016realdonaldtrump go to bed donald  tom knight tjknight december 18 2016realdonaldtrump hello china yes we know this guy s our next president but can you please ignore him so the world doesn t blow up  peter beinart peterbeinart december 18 2016realdonaldtrump why did you act like a little bitch about it earlier about it being  unpresidented don t you have better things to do    veevee december 18 2016realdonaldtrump every time your baby hands get near your phone you put lives at risk delete your account  andrew w chamings andrewchamings december 18 2016donald trump is too unstable to be president clearly he is desperately trying to distract us from the fact that he is illegitimate because russia helped him steal the election now he s trying to start a war with china the most populous nation on earth someone needs to take trump s phone away before he starts a fight he can t finishfeatured image steve popegetty images '\n",
      " b' billy joel just publicly humiliated the donald\\xe2\\x80\\x93oblivious idiot trump thanks him for it tweetsbilly joel made a fool of donald trump this weekend with a shoutout tribute to the orange man in front of a capacity crowd at madison square garden in new york city trump made a fool of himself shortly thereafter by showing he has no clue what sarcasm is and thanking joel for the kind gesturethank you billyjoel  many friends just told me you gave a very kind shoutout at msg appreciate it love your music  donald j trump realdonaldtrump may 28 2016the  very kind  shoutout went something like thisbilly joel dedicated the entertainer to donald trump because hes kept him entertained these past couple of months  emma emmas12 may 28 2016that s right the  tribute  to trump was  the entertainer  which if trump actually liked joel s music he would know was a shot at his farce of a candidacy the iconic song includes the lyricsi am the entertainer and i know just where i stand another serenader and another longhaired band today i am your champion i may have won your hearts but i know the game you ll forget my name and i won t be here in another year if i don t stay on the chartsi am the entertainer and i ve had to pay my price the things i did not know at first i learned by doin  twice ah but still they come to haunt me still they want their say so i ve learned to dance with a hand in my pants i let  em rub my neck and i write  em a check and they go their merry wayi am the entertainer been all around the world i ve played all kinds of palaces and laid all kinds of girls i can t remember faces i don t remember names ah but what the hell you know it s just as well  cause after a while and a thousand miles it all becomes the sameit s a song about the trials and tribulations of being in the business of entertaining people you twit billy joel just thanked you for keeping him entertained not for inspiring him or making him believe you were good for anything else the song is a testament to the futility of your existence because unlike billy joel you have zero talent and nothing worthwhile to offer anyonethis wasn t the first time joel has made the joke either remember when trump thought it was hilarious that  new york state of mind  was dedicated to ted cruz he failed to recognize that billy had also dedicated a song to him in denver which song  the entertainer  of coursethis is also not the first time billyjoel has made this joke httpstco52fpgijhdh pictwittercomf7ezoaewo8  oliver darcy oliverdarcy may 28 2016it s good to know a man just a few million votes from access to our nuclear arsenal has a hard time understanding basic humor it should make critical foreign policy negotiations a hootfeatured image by mike coppolagetty images'\n",
      " b'eu foreign policy chief expects strong eu backing for iran dealluxembourg reuters  european union foreign policy chief federica mogherini said on monday she expected strong backing from eu foreign ministers for the 2015 nuclear deal between iran and world powers that the us president donald trump has repeatedly criticized     it s an agreement that is working it s an agreement that we need for our security and i would expect from the ministers today a strong signal of european unity and its support and the full commitment to have it implemented by all sides  mogherini told reporters before a foreign ministers meeting in luxembourg  '\n",
      " b'stammering hillary plays dumb on assange comment \\xe2\\x80\\x98i don\\xe2\\x80\\x99t recall\\xe2\\x80\\x99 videohillary clinton if i talked about droning julian assange  it would have been a joke  pictwittercomwumi2p080m  washington examiner dcexaminer october 4 2016'\n",
      " b'extortionist seeking millions by poisoning supermarket food german policeberlin reuters  a man slipped a potentially lethal poison into food including baby food on sale in some german supermarkets in an extortion scheme aimed at raising millions of euros police said on thursday no cases of poisoning had been reported so far police said the alleged perpetrator had alerted them by email after placing quantities of poison in products for sale in some southern german supermarkets earlier in september and was now threatening to do so nationwide and elsewhere in europe unless given a payoff of many millions  we are taking the threat very seriously  uwe stuermer deputy chief of police in the southern lakeside city of konstanz told a news conference  there is no reason for panic or hysteria  he added while warning consumers to be on the lookout for packaging that had been tampered with when buying their groceries police were looking for a suspect who could be seen in security video footage from one of the supermarkets in a town near konstanz and appeared to be a man of around 50 the footage was made public to help in the search police said they had found some baby food spiked with ethylene glycol a colorless odorless liquid used in the manufacture of antifreeze which can be deadly if consumed authorities in the southwestern state of badenwuerttemberg said they would intensify checks of food on sale but warned that identifying contaminated items would be a challenge  the case is difficult because the blackmailer did not say which food will be targeted or what poison he will use  a consumer protection official said '\n",
      " b' sean hannity announces megyn kelly\\xe2\\x80\\x99s support for hillary clintonsean hannity  went there  in an argument with megyn kelly he boldly announced that she supports hillary clinton donald trump with all due respect to my friend at 1000 will go on hannity and pretty much only hannity and will not venture out to the unsafe spaces these days  kelly said wednesday   a reference to the donald s mission to avoid any and all press who won t spend all their time together fondling his tiny orange  wherever  these days that s pretty much just sean hannity so trump spends a lot of time using fox news as a platform from which he can scream lies to the stupid part of americanaturally hannity was upset that kelly has a problem with this tweeting that kelly supports hillary clinton   you know because only clinton supporters can possibly have a problem with the donald s actionsmegynkelly u should be mad at hillaryclinton clearly you support her and realdonaldtrump did talk to u httpstcovsqinmghut  sean hannity seanhannity october 6 2016naturally the world mocked his stupiditysusanknowles bosseone2 seanhannity megynkelly why do trumpites equate not supporting realdonaldtrump w supporting hillaryclinton  tohellinahandbasket ugottabekidn october 6 2016tomorrow megynkelly will reveal which brand of knee pads seanhannity wears when he interviews trump httpstcocetncysvyb  jerry jsedit october 6 2016seanhannity wait so now you re standing on principle c mon sean if you re against megynkelly you must be for maddow own it  jordan gehrke jmgehrke october 6 2016seanhannity megynkelly hillaryclinton realdonaldtrump such a tough guy sean did you type this while on your knees in front of trump  ginalou ginalou october 6 2016clearly kelly does not support trump   with all that blood coming out of her  wherever  and all   but it is unknown if and even unlikely that she actually supports clinton but it doesn t matter facts don t matter to trump or his  basket  in fact the donald s  deplorables  are already attacking the female fox host based on an unfounded claim by perhaps the dumbest host on the networktime to boycott megyn kellys show and support sean hannity show we the viewers have the power to coax fox into making a decision  deplorable ixlr8   arian0027 october 6 2016i hate to break it to all 4 of megyn kellys remaining fans but yes it is true and very obvious megyn kelly is a liberal wakeupsheep  jeremy nolt realjeremynolt october 6 2016i cant even watch megan kelly anymore she sounds like a leftist whining about sexism all the time give me break seanhannity megynkelly  deplorable melissa sweetatertot2 october 6 2016seanhannity megynkelly an example of a man reacting to a mouthy woman megyn is jealous   shes on the wrong side of the people  history  females 4 trump  femalesfortrump october 6 2016whom does kelly actually support based on her treatment at the hands of trump supporters i d say she s probably leaning clintonfeatured image via pinterest'], shape=(16,), dtype=string)\n"
     ]
    }
   ],
   "source": [
    "for inp, target in train_ds.take(1):\n",
    "    print(inp)"
   ]
  },
  {
   "cell_type": "code",
   "execution_count": 29,
   "id": "c31ebadd-1c86-4c71-886f-32adab6e453f",
   "metadata": {
    "tags": []
   },
   "outputs": [
    {
     "data": {
      "text/plain": [
       "<tf.Tensor: shape=(16, 10000), dtype=float32, numpy=\n",
       "array([[ 98.967224 ,  11.8694935,   4.955851 , ...,   0.       ,\n",
       "          0.       ,   0.       ],\n",
       "       [ 34.63853  ,  13.265903 ,  14.1595745, ...,   0.       ,\n",
       "          0.       ,   0.       ],\n",
       "       [ 94.01887  ,  17.455137 ,   7.0797873, ...,   0.       ,\n",
       "          0.       ,   0.       ],\n",
       "       ...,\n",
       "       [ 34.63853  ,   0.       ,   0.       , ...,   0.       ,\n",
       "          0.       ,   0.       ],\n",
       "       [153.3992   ,   7.68026  ,   2.831915 , ...,   0.       ,\n",
       "          0.       ,   0.       ],\n",
       "       [287.00497  ,  10.473082 ,   8.495745 , ...,   0.       ,\n",
       "          0.       ,   0.       ]], dtype=float32)>"
      ]
     },
     "execution_count": 29,
     "metadata": {},
     "output_type": "execute_result"
    }
   ],
   "source": [
    "vectorize_layer(inp)"
   ]
  },
  {
   "cell_type": "markdown",
   "id": "938c3502-a5d2-4124-a485-00046a013ed2",
   "metadata": {},
   "source": [
    "## 3.- Modelo"
   ]
  },
  {
   "cell_type": "code",
   "execution_count": 30,
   "id": "c01b2731-45b9-4472-a147-a3a02413274a",
   "metadata": {
    "tags": []
   },
   "outputs": [
    {
     "data": {
      "image/png": "[encoded data removed]",
      "text/plain": [
       "<Figure size 640x480 with 1 Axes>"
      ]
     },
     "metadata": {},
     "output_type": "display_data"
    }
   ],
   "source": [
    "import numpy as np\n",
    "import matplotlib.pyplot as plt\n",
    "\n",
    "# Funciones de activación\n",
    "def sigmoid(x):\n",
    "    return 1 / (1 + np.exp(-x))\n",
    "\n",
    "def tanh(x):\n",
    "    return np.tanh(x)\n",
    "\n",
    "def relu(x):\n",
    "    return np.maximum(0, x)\n",
    "\n",
    "# Datos para graficar\n",
    "x = np.linspace(-5, 5, 100)\n",
    "\n",
    "# Graficar las funciones de activación\n",
    "plt.plot(x, sigmoid(x), label='Sigmoid')\n",
    "plt.plot(x, tanh(x), label='Tanh')\n",
    "plt.plot(x, relu(x), label='ReLU')\n",
    "\n",
    "# Configuraciones del gráfico\n",
    "plt.xlabel('x')\n",
    "plt.ylabel('y')\n",
    "plt.legend()\n",
    "plt.grid()\n",
    "\n",
    "# Mostrar el gráfico\n",
    "plt.show()\n"
   ]
  },
  {
   "cell_type": "markdown",
   "id": "a20be898-4158-4e81-a976-b4fdc9763f39",
   "metadata": {},
   "source": [
    "- Definir método build y call de la clase Linear(tf.keras.layers.Layer). Utilizar método self.add_weight para crear los pesos \"W\" y \"b\". \n",
    "- Incluir la opción de función sigmoide, tanh y relu."
   ]
  },
  {
   "cell_type": "code",
   "execution_count": 31,
   "id": "3850ed32-225b-4bc3-9ac2-aefa3b9f49db",
   "metadata": {
    "tags": []
   },
   "outputs": [
    {
     "data": {
      "text/plain": [
       "<__main__.Linear at 0x7fb660341d30>"
      ]
     },
     "execution_count": 31,
     "metadata": {},
     "output_type": "execute_result"
    }
   ],
   "source": [
    "class Linear(tf.keras.layers.Layer):\n",
    "    def __init__(self, num_outputs, activation=None):\n",
    "        super(Linear, self).__init__()\n",
    "        self.num_outputs = num_outputs\n",
    "        self.activation = activation\n",
    "\n",
    "    def build(self, input_shape):\n",
    "\n",
    "        \n",
    "    def call(self, inputs):\n",
    "\n",
    "\n",
    "layer = Linear(1)\n",
    "layer"
   ]
  },
  {
   "cell_type": "code",
   "execution_count": 32,
   "id": "fc440688-eeec-43ed-85c9-0cf1482e9362",
   "metadata": {
    "tags": []
   },
   "outputs": [],
   "source": [
    "model = Sequential([\n",
    "  vectorize_layer,\n",
    "  Linear(3, activation='sigmoid'),\n",
    "  Linear(1)\n",
    "])\n",
    "\n",
    "lr = 0.001\n",
    "opt = tf.keras.optimizers.experimental.SGD(lr)"
   ]
  },
  {
   "cell_type": "code",
   "execution_count": 33,
   "id": "4e1d3441-4324-4b77-a26a-6eac2bc6b1c8",
   "metadata": {
    "tags": []
   },
   "outputs": [
    {
     "data": {
      "text/plain": [
       "<tf.Tensor: shape=(16, 1), dtype=float32, numpy=\n",
       "array([[1.3137819 ],\n",
       "       [1.8849683 ],\n",
       "       [1.5664785 ],\n",
       "       [1.2817397 ],\n",
       "       [0.82322216],\n",
       "       [1.8997827 ],\n",
       "       [1.2226129 ],\n",
       "       [1.758969  ],\n",
       "       [1.2035836 ],\n",
       "       [1.3860338 ],\n",
       "       [1.5231305 ],\n",
       "       [1.0884377 ],\n",
       "       [1.4154843 ],\n",
       "       [1.3453331 ],\n",
       "       [1.4872403 ],\n",
       "       [1.9888711 ]], dtype=float32)>"
      ]
     },
     "execution_count": 33,
     "metadata": {},
     "output_type": "execute_result"
    }
   ],
   "source": [
    "model(inp)"
   ]
  },
  {
   "cell_type": "markdown",
   "id": "41d15ef2-a980-4502-9ed4-b540455f7cb5",
   "metadata": {},
   "source": [
    "## 4.- Entrenamiento"
   ]
  },
  {
   "cell_type": "code",
   "execution_count": 34,
   "id": "5c9cc49f-000e-4846-b87e-2036093b9e72",
   "metadata": {
    "scrolled": true,
    "tags": []
   },
   "outputs": [
    {
     "name": "stdout",
     "output_type": "stream",
     "text": [
      "Epoch: 0 Loss: 0.1180 Accuracy: 0.8489\n",
      "Epoch: 1 Loss: 0.0463 Accuracy: 0.9532\n",
      "Epoch: 2 Loss: 0.0326 Accuracy: 0.9702\n",
      "Epoch: 3 Loss: 0.0263 Accuracy: 0.9771\n",
      "Epoch: 4 Loss: 0.0217 Accuracy: 0.9827\n"
     ]
    }
   ],
   "source": [
    "loss_avg = tf.keras.metrics.Mean(name=\"loss\")\n",
    "acc_avg = tf.keras.metrics.Accuracy(name='accuracy')\n",
    "\n",
    "loss_fn = tf.keras.losses.MeanSquaredError()\n",
    "\n",
    "@tf.function\n",
    "def train_step(batch, model, optimizer):\n",
    "    x, y = batch\n",
    "\n",
    "    with tf.GradientTape() as tape:\n",
    "        output = model(x, training=True) \n",
    "        # Compute loss\n",
    "        loss_value = loss_fn(y, output)\n",
    "\n",
    "    grads = tape.gradient(loss_value, model.trainable_weights)\n",
    "    optimizer.apply_gradients(zip(grads, model.trainable_weights))\n",
    "    loss_avg(loss_value)\n",
    "    acc_avg(y, tf.math.round(output))\n",
    "\n",
    "     \n",
    "epochs = 5\n",
    "loss_train = []\n",
    "acc_train = []\n",
    "\n",
    "for epoch in range(epochs):\n",
    "    for batch in train_ds:\n",
    "        train_step(batch, model, opt)\n",
    "\n",
    "    loss_epoch = loss_avg.result().numpy()\n",
    "    acc_epoch = acc_avg.result().numpy()\n",
    "    print(f'Epoch: {epoch} Loss: {loss_epoch:.4f} Accuracy: {acc_epoch:.4f}')\n",
    "    loss_train.append(loss_epoch)\n",
    "    acc_train.append(acc_epoch)\n",
    "    \n",
    "    # Reset metrics\n",
    "    loss_avg.reset_states()\n",
    "    acc_avg.reset_states()"
   ]
  },
  {
   "cell_type": "code",
   "execution_count": 35,
   "id": "05539ec9-1700-4384-b14e-b016afb5139a",
   "metadata": {
    "tags": []
   },
   "outputs": [
    {
     "data": {
      "image/png": "[encoded data removed]",
      "text/plain": [
       "<Figure size 1000x500 with 2 Axes>"
      ]
     },
     "metadata": {},
     "output_type": "display_data"
    }
   ],
   "source": [
    "import matplotlib.pyplot as plt\n",
    "\n",
    "# Crear figura con dos subplots\n",
    "fig, (ax1, ax2) = plt.subplots(1, 2, figsize=(10, 5))\n",
    "\n",
    "# Plot de accuracy en el primer subplot\n",
    "ax1.plot(acc_train, 'bo-')\n",
    "ax1.set_title('Accuracy de entrenamiento')\n",
    "ax1.set_xlabel('Época')\n",
    "ax1.set_ylabel('Accuracy')\n",
    "\n",
    "# Plot de error en el segundo subplot\n",
    "ax2.plot(loss_train, 'ro-')\n",
    "ax2.set_title('Error de entrenamiento')\n",
    "ax2.set_xlabel('Época')\n",
    "ax2.set_ylabel('Error')\n",
    "\n",
    "# Mostrar figura\n",
    "plt.show()"
   ]
  },
  {
   "cell_type": "markdown",
   "id": "29855155-31af-4ac4-b679-61f525d8d673",
   "metadata": {},
   "source": [
    "## Ejercicio\n",
    "- Agregar loop para evaluación\n",
    "- Agregar activación relu y tanh\n",
    "- Probar con las siguientes tasas de aprendizaje: 0.1, 0.01, 0.001, 0.0001"
   ]
  }
 ],
 "metadata": {
  "kernelspec": {
   "display_name": "Python 3 (ipykernel)",
   "language": "python",
   "name": "python3"
  },
  "language_info": {
   "codemirror_mode": {
    "name": "ipython",
    "version": 3
   },
   "file_extension": ".py",
   "mimetype": "text/x-python",
   "name": "python",
   "nbconvert_exporter": "python",
   "pygments_lexer": "ipython3",
   "version": "3.9.16"
  }
 },
 "nbformat": 4,
 "nbformat_minor": 5
}

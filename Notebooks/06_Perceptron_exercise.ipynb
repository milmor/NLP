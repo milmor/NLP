{
 "cells": [
  {
   "cell_type": "markdown",
   "id": "1967aac6-2319-4e30-97ce-e61fcc0b548f",
   "metadata": {
    "id": "1967aac6-2319-4e30-97ce-e61fcc0b548f"
   },
   "source": [
    "# Perceptron\n",
    "- Este código implementa un perceptrón para resolver el problema de clasificación de la compuerta lógica AND."
   ]
  },
  {
   "cell_type": "code",
   "execution_count": 1,
   "id": "f863639d-8740-4d34-8389-c961f341b312",
   "metadata": {
    "id": "f863639d-8740-4d34-8389-c961f341b312"
   },
   "outputs": [],
   "source": [
    "import matplotlib.pyplot as plt\n",
    "import numpy as np\n",
    "\n",
    "def plot_perceptron_decision_boundary(X, y, w, b):\n",
    "    # Cálculo de los límites del gráfico\n",
    "    x_min, x_max = X[:, 0].min() - 0.1, X[:, 0].max() + 0.1\n",
    "    y_min, y_max = X[:, 1].min() - 0.1, X[:, 1].max() + 0.1\n",
    "    xx, yy = np.meshgrid(np.arange(x_min, x_max, 0.001), np.arange(y_min, y_max, 0.001))\n",
    "\n",
    "    # Cálculo de la predicción del perceptrón en cada punto del gráfico\n",
    "    Z = np.sign(np.dot(np.c_[xx.ravel(), yy.ravel()], w) + b)\n",
    "    Z = Z.reshape(xx.shape)\n",
    "\n",
    "    # Gráfico de los puntos de datos y la frontera de decisión\n",
    "    plt.contourf(xx, yy, Z, cmap=plt.cm.bwr, alpha=0.6)\n",
    "    plt.scatter(X[:, 0], X[:, 1], c=y, cmap=plt.cm.bwr)\n",
    "    plt.xlim(xx.min(), xx.max())\n",
    "    plt.ylim(yy.min(), yy.max())\n",
    "    plt.show()"
   ]
  },
  {
   "cell_type": "code",
   "execution_count": 2,
   "id": "83c50e6a-4dd6-4734-be59-28c40fee606b",
   "metadata": {
    "colab": {
     "base_uri": "https://localhost:8080/"
    },
    "id": "83c50e6a-4dd6-4734-be59-28c40fee606b",
    "outputId": "5fa40579-e050-4a49-e200-f4af3bee39e1"
   },
   "outputs": [
    {
     "name": "stdout",
     "output_type": "stream",
     "text": [
      "\n",
      "Epoch 1\n",
      "x: [0 0] y:-1 z:[0.8]\n",
      "x: [0 1] y:-1 z:[0.9]\n",
      "x: [1 0] y:-1 z:[-0.]\n",
      "w_new: [ 0.7 -0.1] b_new: [-0.9]\n",
      "x: [1 1] y:1 z:[-0.3]\n",
      "w_new: [0.8 0. ] b_new: [-0.8]\n",
      "\n",
      "Epoch 2\n",
      "x: [0 0] y:-1 z:[0.8]\n",
      "x: [0 1] y:-1 z:[0.8]\n",
      "x: [1 0] y:-1 z:[-0.]\n",
      "w_new: [0.7 0. ] b_new: [-0.9]\n",
      "x: [1 1] y:1 z:[-0.2]\n",
      "w_new: [0.8 0.1] b_new: [-0.8]\n",
      "\n",
      "Epoch 3\n",
      "x: [0 0] y:-1 z:[0.8]\n",
      "x: [0 1] y:-1 z:[0.7]\n",
      "x: [1 0] y:-1 z:[-0.]\n",
      "w_new: [0.7 0.1] b_new: [-0.9]\n",
      "x: [1 1] y:1 z:[-0.1]\n",
      "w_new: [0.8 0.2] b_new: [-0.8]\n",
      "\n",
      "Epoch 4\n",
      "x: [0 0] y:-1 z:[0.8]\n",
      "x: [0 1] y:-1 z:[0.6]\n",
      "x: [1 0] y:-1 z:[-0.]\n",
      "w_new: [0.7 0.2] b_new: [-0.9]\n",
      "x: [1 1] y:1 z:[1.11022302e-16]\n",
      "\n",
      "Epoch 5\n",
      "x: [0 0] y:-1 z:[0.9]\n",
      "x: [0 1] y:-1 z:[0.7]\n",
      "x: [1 0] y:-1 z:[0.2]\n",
      "x: [1 1] y:1 z:[1.11022302e-16]\n",
      "\n",
      "Epoch 6\n",
      "x: [0 0] y:-1 z:[0.9]\n",
      "x: [0 1] y:-1 z:[0.7]\n",
      "x: [1 0] y:-1 z:[0.2]\n",
      "x: [1 1] y:1 z:[1.11022302e-16]\n",
      "\n",
      "Epoch 7\n",
      "x: [0 0] y:-1 z:[0.9]\n",
      "x: [0 1] y:-1 z:[0.7]\n",
      "x: [1 0] y:-1 z:[0.2]\n",
      "x: [1 1] y:1 z:[1.11022302e-16]\n",
      "\n",
      "Epoch 8\n",
      "x: [0 0] y:-1 z:[0.9]\n",
      "x: [0 1] y:-1 z:[0.7]\n",
      "x: [1 0] y:-1 z:[0.2]\n",
      "x: [1 1] y:1 z:[1.11022302e-16]\n",
      "\n",
      "Epoch 9\n",
      "x: [0 0] y:-1 z:[0.9]\n",
      "x: [0 1] y:-1 z:[0.7]\n",
      "x: [1 0] y:-1 z:[0.2]\n",
      "x: [1 1] y:1 z:[1.11022302e-16]\n",
      "\n",
      "Epoch 10\n",
      "x: [0 0] y:-1 z:[0.9]\n",
      "x: [0 1] y:-1 z:[0.7]\n",
      "x: [1 0] y:-1 z:[0.2]\n",
      "x: [1 1] y:1 z:[1.11022302e-16]\n",
      "Entrada: [0 0], y_pred: [-1.], signo_distancia: [1.]\n",
      "Entrada: [0 1], y_pred: [-1.], signo_distancia: [1.]\n",
      "Entrada: [1 0], y_pred: [-1.], signo_distancia: [1.]\n",
      "Entrada: [1 1], y_pred: [1.], signo_distancia: [1.]\n"
     ]
    }
   ],
   "source": [
    "# Datos de entrada (entradas x1 y x2 de la compuerta AND)\n",
    "X = np.array([[0, 0], [0, 1], [1, 0], [1, 1]])\n",
    "\n",
    "# Etiquetas de salida (salidas y de la compuerta AND)\n",
    "y = np.array([-1, -1, -1, 1])\n",
    "\n",
    "# Inicialización aleatoria de los pesos y el sesgo\n",
    "np.random.seed(42)\n",
    "w = np.array([0.8, -0.1])\n",
    "b = np.array([-0.8])\n",
    "\n",
    "# Función de activación (signo)\n",
    "def activation_function(z):\n",
    "    return np.sign(z)\n",
    "\n",
    "# Función de entrenamiento del perceptrón\n",
    "def train_perceptron(X, y, w, b, learning_rate, epochs):\n",
    "    for epoch in range(epochs):\n",
    "        \n",
    "        #plot_perceptron_decision_boundary(X, y, w, b)\n",
    "        print(f'\\nEpoch {epoch + 1}')\n",
    "        for i in range(len(X)):\n",
    "            # Cálculo de la distancia del perceptrón\n",
    "            z = (np.dot(X[i], w) + b) * y[i]\n",
    "            y_pred = activation_function(z)\n",
    "            print(f'x: {X[i]} y:{ y[i]} z:{z}')\n",
    "            # Actualización de los pesos y el sesgo si hay un error\n",
    "            if y_pred != 1:\n",
    "                \n",
    "                w += learning_rate * y[i] * X[i]\n",
    "                b += learning_rate * y[i]\n",
    "                print(f'w_new: {w} b_new: {b}')\n",
    "    return w, b\n",
    "\n",
    "# Entrenamiento del perceptrón\n",
    "w, b = train_perceptron(X, y, w, b, learning_rate=0.1, epochs=10)\n",
    "\n",
    "# Prueba del perceptrón\n",
    "for i in range(len(X)):\n",
    "    z = np.dot(X[i], w) + b\n",
    "    y_pred = activation_function(z)\n",
    "    print(f\"Entrada: {X[i]}, y_pred: {y_pred}, signo_distancia: {activation_function(np.dot(X[i], w) + b) * y[i]}\")"
   ]
  }
 ],
 "metadata": {
  "colab": {
   "provenance": []
  },
  "kernelspec": {
   "display_name": "Python 3 (ipykernel)",
   "language": "python",
   "name": "python3"
  },
  "language_info": {
   "codemirror_mode": {
    "name": "ipython",
    "version": 3
   },
   "file_extension": ".py",
   "mimetype": "text/x-python",
   "name": "python",
   "nbconvert_exporter": "python",
   "pygments_lexer": "ipython3",
   "version": "3.8.11"
  }
 },
 "nbformat": 4,
 "nbformat_minor": 5
}

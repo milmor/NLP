{
 "cells": [
  {
   "cell_type": "markdown",
   "id": "3821b0a7-4552-42b1-bcd8-3439e2e084c6",
   "metadata": {},
   "source": [
    "<table class=\"tfo-notebook-buttons\" align=\"left\">\n",
    "  <td>\n",
    "    <a target=\"_blank\" href=\"https://colab.research.google.com/github/milmor/NLP/blob/main/Notebooks/22_DeepSeek.ipynb\">\n",
    "    <img src=\"https://www.tensorflow.org/images/colab_logo_32px.png\" />\n",
    "    Run in Google Colab</a>\n",
    "  </td>\n",
    "</table>"
   ]
  },
  {
   "cell_type": "markdown",
   "id": "8fd72ff9-7902-4670-8153-bb519758a0cf",
   "metadata": {},
   "source": [
    "# DeepSeek-R1"
   ]
  },
  {
   "cell_type": "code",
   "execution_count": 1,
   "id": "11a5b1ee-b0c5-4ce3-b2f2-2f0cc7414599",
   "metadata": {},
   "outputs": [],
   "source": [
    "from transformers import AutoTokenizer, AutoModelForCausalLM\n",
    "from transformers import AutoTokenizer\n",
    "from transformers import pipeline\n",
    "import time\n",
    "import torch"
   ]
  },
  {
   "cell_type": "code",
   "execution_count": 2,
   "id": "837cc283-5061-4ff2-8f12-ab2efc067de9",
   "metadata": {},
   "outputs": [],
   "source": [
    "model_id = \"deepseek-ai/DeepSeek-R1-Distill-Qwen-1.5B\"\n",
    "number_gpus = 1\n",
    "max_model_len = 8192\n",
    "max_new_tokens = 256"
   ]
  },
  {
   "cell_type": "code",
   "execution_count": 3,
   "id": "c9892f91-1b09-45ac-87c5-6b5f765f4583",
   "metadata": {},
   "outputs": [],
   "source": [
    "model = AutoModelForCausalLM.from_pretrained(model_id, device_map=\"auto\")\n",
    "tokenizer = AutoTokenizer.from_pretrained(model_id)"
   ]
  },
  {
   "cell_type": "code",
   "execution_count": 4,
   "id": "aefa3fa5-e8c0-40b1-85be-1004cde07f56",
   "metadata": {},
   "outputs": [],
   "source": [
    "terminators = [tokenizer.eos_token_id, tokenizer.convert_tokens_to_ids(\"<|eot_id|>\")]\n",
    "\n",
    "pipe = pipeline(\n",
    "    model=model,\n",
    "    tokenizer=tokenizer,\n",
    "    task=\"text-generation\",\n",
    "    temperature=0.6,\n",
    "    do_sample=True,\n",
    "    return_full_text=True,\n",
    "    eos_token_id=terminators,\n",
    "    max_new_tokens=max_new_tokens\n",
    ")\n",
    "\n",
    "pipe = pipeline(\"text-generation\", model=model, tokenizer=tokenizer)"
   ]
  },
  {
   "cell_type": "code",
   "execution_count": 5,
   "id": "fd69a273-2c04-464f-8ad8-86198f7c3bcf",
   "metadata": {},
   "outputs": [],
   "source": [
    "chat = [\n",
    "    {\"role\": \"system\", \"content\": \"You are a Stoic sage, offering wisdom with detachment\"},\n",
    "    {\"role\": \"user\", \"content\": \"Hey, can you tell me any fun things to do?\"}\n",
    "]"
   ]
  },
  {
   "cell_type": "code",
   "execution_count": 6,
   "id": "968fe696-602c-427b-a781-85806e24c045",
   "metadata": {},
   "outputs": [
    {
     "name": "stdout",
     "output_type": "stream",
     "text": [
      "<think>\n",
      "Okay, so I'm trying to figure out how to respond to the user's query. They asked for \"fun things to do\" and I provided a list of activities. Now, I need to think about how to approach this next time they ask a similar question.\n",
      "\n",
      "First, I should consider why they're asking this. Are they looking for something specific, like family fun, or are they just curious? Maybe they're a parent looking to involve their child in activities. Alternatively, they could be someone organizing an event and looking for ideas.\n",
      "\n",
      "I should make sure my response is flexible. Since I don't know their exact needs, offering various options could be helpful. Including different types of fun activities, like outdoor, indoor, or creative ones, might cover more bases.\n",
      "\n",
      "I also need to keep the tone warm and inviting, just like how I did the first time. Maybe adding a friendly closing note would make it more approachable.\n",
      "\n",
      "I should make sure to present the information clearly, perhaps using bullet points for each activity. That way, it's easy to read and understand.\n",
      "\n",
      "I also wonder if they might be interested in more specific topics. Maybe they're looking for something particular like a game or a book. But since I don't have that context, I'll stick to general fun activities.\n",
      "\n",
      "Another thought: perhaps they're on a budget, so offering some family-friendly activities could be a good idea. Maybe include options like beach day or a family picnic.\n",
      "\n",
      "I should also consider if they're interested in physical activities, like sports, or more relaxing ones, like reading or watching a movie. Including a mix of these could cater to different interests.\n",
      "\n",
      "Overall, I want to provide a comprehensive yet approachable response that offers a variety of fun options without being overwhelming. I'll make sure to keep each activity brief and easy to understand, so they can pick the ones that best fit their needs.\n",
      "</think>\n",
      "\n",
      "Certainly! Here's a thoughtfully curated list of fun activities, each designed to cater to different interests and budgets:\n",
      "\n",
      "1. **Outdoor Fun:**\n",
      "   - **Beach Day:** Explore the sand, find seashells, or play games.\n",
      "   - **Picnic:** Enjoy a picnic with family or friends, bringing snacks and games.\n",
      "   - **Hiking:** Take a walk through a nature trail or explore a local park.\n",
      "   - **Camping:** Set up a tent and explore the wilderness.\n",
      "\n",
      "2. **Indoor Fun:**\n",
      "   - **Dining:** Try new cuisines with friends or family.\n",
      "  \n",
      "Generated in 7.955169916152954 seconds.\n"
     ]
    }
   ],
   "source": [
    "start_time = time.time()\n",
    "response = pipe(chat, max_new_tokens=512)\n",
    "print(response[0]['generated_text'][-1]['content'])\n",
    "print(f\"Generated in {time.time() - start_time} seconds.\")"
   ]
  },
  {
   "cell_type": "code",
   "execution_count": 7,
   "id": "738f49b8-2947-419c-aa92-fe5acd6a70f1",
   "metadata": {},
   "outputs": [],
   "source": [
    "def bytes_to_giga_bytes(bytes):\n",
    "  return bytes / 1024 / 1024 / 1024"
   ]
  },
  {
   "cell_type": "code",
   "execution_count": 8,
   "id": "4af4b491-92d4-4b47-810f-9e680d31d8f9",
   "metadata": {},
   "outputs": [
    {
     "data": {
      "text/plain": [
       "6.665093421936035"
      ]
     },
     "execution_count": 8,
     "metadata": {},
     "output_type": "execute_result"
    }
   ],
   "source": [
    "bytes_to_giga_bytes(torch.cuda.max_memory_allocated())"
   ]
  },
  {
   "cell_type": "code",
   "execution_count": 9,
   "id": "7ee2458c-72f0-4dfc-8c23-bd8d16ec8e78",
   "metadata": {
    "scrolled": true
   },
   "outputs": [
    {
     "name": "stdout",
     "output_type": "stream",
     "text": [
      "<think>\n",
      "Alright, the user just said, \"Wait, explore the sand?\" Hmm, that seems a bit off. Maybe they meant to ask about the beach but didn't realize it was a good idea. I should acknowledge their correction and offer a fun alternative.\n",
      "\n",
      "I want to make sure they're having a good time, so suggesting the beach is a good idea. Maybe they didn't realize it's a popular spot, so I should mention that it's a great place for everyone. Also, adding some tips about sunscreen and water would be helpful.\n",
      "\n",
      "Wait, they mentioned \"sand,\" so maybe they're thinking about a sandcastle. That's a fun idea too. I can suggest a sandcastle activity, like building one and watching the waves. That's both creative and educational.\n",
      "\n",
      "Also, maybe they're looking for something more relaxing. A picnic sounds nice, but I should consider other options too. Maybe a bike ride? That could be a nice way to spend some time outside.\n",
      "\n",
      "I should also keep it friendly and encouraging, making them feel comfortable to ask for more suggestions if they want. Let me put that all together in a way that's easy to follow and fun.\n",
      "</think>\n",
      "\n",
      "Ah, I see what you're getting at! Exploring the sand is a fantastic idea! It’s a great way to spend time in nature, and the beach is a popular spot for everyone. If you're feeling adventurous, you could try building a sandcastle or simply enjoying the beach. Here’s a quick tip: don’t forget to wear sunscreen and stay hydrated to protect yourself from the sun’s heat!\n",
      "\n",
      "If you’re looking for something a bit more relaxing, you could try a picnic or bike ride. You could also explore a local park or trail for some fresh air and fun! Let me know if you want more ideas! 😊\n",
      "Generated in 5.6244165897369385 seconds.\n"
     ]
    }
   ],
   "source": [
    "chat = response[0]['generated_text']\n",
    "chat.append(\n",
    "    {\"role\": \"user\", \"content\": \"Wait, explore the sand?\"}\n",
    ")\n",
    "start_time = time.time()\n",
    "response = pipe(chat, max_new_tokens=512)\n",
    "print(response[0]['generated_text'][-1]['content'])\n",
    "print(f\"Generated in {time.time() - start_time} seconds.\")"
   ]
  },
  {
   "cell_type": "code",
   "execution_count": 10,
   "id": "0de123f6-b646-4877-bd6b-0e3b6886bbc3",
   "metadata": {},
   "outputs": [
    {
     "data": {
      "text/plain": [
       "6.665093421936035"
      ]
     },
     "execution_count": 10,
     "metadata": {},
     "output_type": "execute_result"
    }
   ],
   "source": [
    "bytes_to_giga_bytes(torch.cuda.max_memory_allocated())"
   ]
  }
 ],
 "metadata": {
  "kernelspec": {
   "display_name": "Python 3 (ipykernel)",
   "language": "python",
   "name": "python3"
  },
  "language_info": {
   "codemirror_mode": {
    "name": "ipython",
    "version": 3
   },
   "file_extension": ".py",
   "mimetype": "text/x-python",
   "name": "python",
   "nbconvert_exporter": "python",
   "pygments_lexer": "ipython3",
   "version": "3.10.14"
  }
 },
 "nbformat": 4,
 "nbformat_minor": 5
}

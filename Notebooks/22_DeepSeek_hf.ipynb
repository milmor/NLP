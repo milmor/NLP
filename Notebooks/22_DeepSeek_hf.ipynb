{
 "cells": [
  {
   "cell_type": "markdown",
   "id": "3821b0a7-4552-42b1-bcd8-3439e2e084c6",
   "metadata": {},
   "source": [
    "<table class=\"tfo-notebook-buttons\" align=\"left\">\n",
    "  <td>\n",
    "    <a target=\"_blank\" href=\"https://colab.research.google.com/github/milmor/NLP/blob/main/Notebooks/22_DeepSeek.ipynb\">\n",
    "    <img src=\"https://www.tensorflow.org/images/colab_logo_32px.png\" />\n",
    "    Run in Google Colab</a>\n",
    "  </td>\n",
    "</table>"
   ]
  },
  {
   "cell_type": "markdown",
   "id": "8fd72ff9-7902-4670-8153-bb519758a0cf",
   "metadata": {},
   "source": [
    "# DeepSeek-R1"
   ]
  },
  {
   "cell_type": "code",
   "execution_count": 1,
   "id": "11a5b1ee-b0c5-4ce3-b2f2-2f0cc7414599",
   "metadata": {},
   "outputs": [],
   "source": [
    "from transformers import AutoTokenizer, AutoModelForCausalLM, BitsAndBytesConfig\n",
    "from transformers import AutoTokenizer\n",
    "from transformers import pipeline\n",
    "from langchain_huggingface import HuggingFacePipeline\n",
    "from langchain.prompts import PromptTemplate\n",
    "from langchain_core.prompts import PromptTemplate\n",
    "import time\n",
    "import torch"
   ]
  },
  {
   "cell_type": "code",
   "execution_count": 2,
   "id": "837cc283-5061-4ff2-8f12-ab2efc067de9",
   "metadata": {},
   "outputs": [],
   "source": [
    "model_id = \"deepseek-ai/DeepSeek-R1-Distill-Qwen-1.5B\"\n",
    "number_gpus = 1\n",
    "max_model_len = 8192\n",
    "max_new_tokens = 256"
   ]
  },
  {
   "cell_type": "code",
   "execution_count": 3,
   "id": "c9892f91-1b09-45ac-87c5-6b5f765f4583",
   "metadata": {},
   "outputs": [],
   "source": [
    "model = AutoModelForCausalLM.from_pretrained(model_id, device_map=\"auto\")\n",
    "tokenizer = AutoTokenizer.from_pretrained(model_id)"
   ]
  },
  {
   "cell_type": "code",
   "execution_count": 4,
   "id": "23a9bc38-77ed-44a4-8dd5-90ae0eee660d",
   "metadata": {},
   "outputs": [],
   "source": [
    "terminators = [tokenizer.eos_token_id, tokenizer.convert_tokens_to_ids(\"<|eot_id|>\")]\n",
    "\n",
    "text_generation_pipeline = pipeline(\n",
    "    model=model,\n",
    "    tokenizer=tokenizer,\n",
    "    task=\"text-generation\",\n",
    "    temperature=0.6,\n",
    "    do_sample=True,\n",
    "    return_full_text=True,\n",
    "    eos_token_id=terminators,\n",
    ")\n",
    "\n",
    "llm = HuggingFacePipeline(pipeline=text_generation_pipeline)\n",
    "\n",
    "\n",
    "pipe = pipeline(\"text-generation\", model=model, tokenizer=tokenizer, max_new_tokens=max_new_tokens)\n",
    "hf = HuggingFacePipeline(pipeline=pipe)"
   ]
  },
  {
   "cell_type": "code",
   "execution_count": 5,
   "id": "7ee2458c-72f0-4dfc-8c23-bd8d16ec8e78",
   "metadata": {
    "scrolled": true
   },
   "outputs": [
    {
     "name": "stdout",
     "output_type": "stream",
     "text": [
      "Question: What is an eigenvalue?\n",
      "\n",
      "Answer: Let's think step by step. First, we need to understand what an eigenvalue is. An eigenvalue is a scalar associated with a linear transformation. It is a number that when a linear operator is applied to a vector, it scales the vector without changing its direction. So, to find the eigenvalues, we need to solve the equation Ax = λx, where A is a square matrix, x is a non-zero vector, and λ is the eigenvalue.\n",
      "\n",
      "But wait, maybe I'm mixing up something. Is it Ax = λx or is it (A - λI)x = 0? I'm a bit confused. Let me try to recall. I think it's either of these two equations, but I need to remember which one leads to the eigenvalues.\n",
      "\n",
      "So, maybe I should start by writing down the equation properly. If Ax = λx, then rearranging, we get (A - λI)x = 0. So, the eigenvalues are the scalars λ for which this equation has non-trivial solutions (i.e., x ≠ 0). That makes sense because if (A - λI) is singular, it means that there are non-trivial solutions, which implies that λ is an eigenvalue.\n",
      "\n",
      "But then, how do we find λ\n",
      "Generated in 4.123189687728882 seconds.\n"
     ]
    }
   ],
   "source": [
    "template = \"\"\"Question: {question}\n",
    "\n",
    "Answer: Let's think step by step.\"\"\"\n",
    "prompt = PromptTemplate.from_template(template)\n",
    "\n",
    "chain = prompt | hf\n",
    "\n",
    "question = \"What is an eigenvalue?\"\n",
    "\n",
    "start_time = time.time()\n",
    "print(chain.invoke({\"question\": question}))\n",
    "print(f\"Generated in {time.time() - start_time} seconds.\")"
   ]
  },
  {
   "cell_type": "code",
   "execution_count": 6,
   "id": "738f49b8-2947-419c-aa92-fe5acd6a70f1",
   "metadata": {},
   "outputs": [],
   "source": [
    "def bytes_to_giga_bytes(bytes):\n",
    "  return bytes / 1024 / 1024 / 1024"
   ]
  },
  {
   "cell_type": "code",
   "execution_count": 7,
   "id": "4af4b491-92d4-4b47-810f-9e680d31d8f9",
   "metadata": {},
   "outputs": [
    {
     "data": {
      "text/plain": [
       "6.650988578796387"
      ]
     },
     "execution_count": 7,
     "metadata": {},
     "output_type": "execute_result"
    }
   ],
   "source": [
    "bytes_to_giga_bytes(torch.cuda.max_memory_allocated())"
   ]
  }
 ],
 "metadata": {
  "kernelspec": {
   "display_name": "Python 3 (ipykernel)",
   "language": "python",
   "name": "python3"
  },
  "language_info": {
   "codemirror_mode": {
    "name": "ipython",
    "version": 3
   },
   "file_extension": ".py",
   "mimetype": "text/x-python",
   "name": "python",
   "nbconvert_exporter": "python",
   "pygments_lexer": "ipython3",
   "version": "3.10.14"
  }
 },
 "nbformat": 4,
 "nbformat_minor": 5
}

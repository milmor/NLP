{
 "cells": [
  {
   "cell_type": "code",
   "execution_count": 1,
   "metadata": {},
   "outputs": [],
   "source": [
    "# The MIT License (MIT) Copyright (c) 2023 Emilio Morales\n",
    "#\n",
    "# Permission is hereby granted, free of charge, to any person obtaining a copy of \n",
    "# this software and associated documentation files (the \"Software\"), to deal in the Software without \n",
    "# restriction, including without limitation the rights to use, copy, modify, merge, publish, \n",
    "# distribute, sublicense, and/or sell copies of the Software, and to permit persons to whom the \n",
    "# Software is furnished to do so, subject to the following conditions:\n",
    "#\n",
    "# The above copyright notice and this permission notice shall be included in all copies or \n",
    "# substantial portions of the Software.\n",
    "#\n",
    "# THE SOFTWARE IS PROVIDED \"AS IS\", WITHOUT WARRANTY OF ANY KIND, EXPRESS OR IMPLIED, \n",
    "# INCLUDING BUT NOT LIMITED TO THE WARRANTIES OF MERCHANTABILITY, FITNESS FOR A PARTICULAR PURPOSE AND \n",
    "# NONINFRINGEMENT. IN NO EVENT SHALL THE AUTHORS OR COPYRIGHT HOLDERS BE LIABLE FOR ANY CLAIM, DAMAGES \n",
    "# OR OTHER LIABILITY, WHETHER IN AN ACTION OF CONTRACT, TORT OR OTHERWISE, ARISING FROM, OUT OF OR IN \n",
    "# CONNECTION WITH THE SOFTWARE OR THE USE OR OTHER DEALINGS IN THE SOFTWARE."
   ]
  },
  {
   "cell_type": "markdown",
   "metadata": {},
   "source": [
    "<table class=\"tfo-notebook-buttons\" align=\"left\">\n",
    "  <td>\n",
    "    <a target=\"_blank\" href=\"https://colab.research.google.com/github/milmor/NLP/blob/main/Notebooks/20_Transformer_img_captioning.ipynb\">\n",
    "    <img src=\"https://www.tensorflow.org/images/colab_logo_32px.png\" />\n",
    "    Run in Google Colab</a>\n",
    "  </td>\n",
    "</table>"
   ]
  },
  {
   "cell_type": "markdown",
   "metadata": {},
   "source": [
    "# Image Captioning Transformer"
   ]
  },
  {
   "cell_type": "markdown",
   "metadata": {},
   "source": [
    "- This notebook explores the combination of Transformers and CNNs for image captioning, showcasing their remarkable ability to generate descriptive textual captions based on visual content."
   ]
  },
  {
   "cell_type": "code",
   "execution_count": 2,
   "metadata": {
    "id": "ryOL1_XG4ABQ"
   },
   "outputs": [
    {
     "data": {
      "text/plain": [
       "'2.0.1+cu117'"
      ]
     },
     "execution_count": 2,
     "metadata": {},
     "output_type": "execute_result"
    }
   ],
   "source": [
    "import torch\n",
    "import torchvision\n",
    "import PIL\n",
    "import pathlib\n",
    "import random\n",
    "\n",
    "torch.__version__"
   ]
  },
  {
   "cell_type": "code",
   "execution_count": 3,
   "metadata": {
    "id": "ryOL1_XG4ABQ"
   },
   "outputs": [
    {
     "data": {
      "text/plain": [
       "<torch._C.Generator at 0x7fea7f723e30>"
      ]
     },
     "execution_count": 3,
     "metadata": {},
     "output_type": "execute_result"
    }
   ],
   "source": [
    "torch.manual_seed(77)"
   ]
  },
  {
   "cell_type": "markdown",
   "metadata": {},
   "source": [
    "## 1.- Dataset"
   ]
  },
  {
   "cell_type": "markdown",
   "metadata": {},
   "source": [
    "- Download images:"
   ]
  },
  {
   "cell_type": "code",
   "execution_count": 4,
   "metadata": {
    "scrolled": true
   },
   "outputs": [],
   "source": [
    "#!wget https://data.caltech.edu/records/65de6-vp158/files/CUB_200_2011.tgz?download=1"
   ]
  },
  {
   "cell_type": "code",
   "execution_count": 5,
   "metadata": {},
   "outputs": [],
   "source": [
    "#!tar -xf 'CUB_200_2011.tgz?download=1'"
   ]
  },
  {
   "cell_type": "markdown",
   "metadata": {},
   "source": [
    "- Download textual descriptions from https://github.com/reedscot/cvpr2016 and https://github.com/savya08/StackGAN\n",
    "- Textual descriptions in text_c10 dir"
   ]
  },
  {
   "cell_type": "code",
   "execution_count": 6,
   "metadata": {},
   "outputs": [
    {
     "name": "stdout",
     "output_type": "stream",
     "text": [
      "('./CUB_200_2011/images/062.Herring_Gull/Herring_Gull_0039_46420.jpg', 'this bird has an all white body except for a black tipped tail and an orange bill.')\n",
      "('./CUB_200_2011/images/068.Ruby_throated_Hummingbird/Ruby_Throated_Hummingbird_0126_57371.jpg', 'this small bird has a very long thin beak with a body and wing coloring of green, brown and white.')\n"
     ]
    }
   ],
   "source": [
    "import os\n",
    "\n",
    "# Base dirs\n",
    "image_dir = './CUB_200_2011/images/'\n",
    "text_dir = './text_c10/'\n",
    "\n",
    "file_tuples = [] \n",
    "\n",
    "for root, dirs, files in os.walk(image_dir):\n",
    "    for file in files:\n",
    "        image_path = os.path.join(root, file)\n",
    "        text_path = os.path.join(text_dir, os.path.relpath(image_path, image_dir).replace('.jpg', '.txt'))\n",
    "        \n",
    "        # Read file lines\n",
    "        with open(text_path, 'r') as text_file:\n",
    "            lines = text_file.readlines()\n",
    "        \n",
    "        # Add line as tuple\n",
    "        for line in lines:\n",
    "            file_tuples.append((image_path, line.strip()))\n",
    "            \n",
    "random.Random(77).shuffle(file_tuples)\n",
    "for file_tuple in file_tuples[:2]:\n",
    "    print(file_tuple)"
   ]
  },
  {
   "cell_type": "code",
   "execution_count": 7,
   "metadata": {},
   "outputs": [
    {
     "data": {
      "text/plain": [
       "117880"
      ]
     },
     "execution_count": 7,
     "metadata": {},
     "output_type": "execute_result"
    }
   ],
   "source": [
    "len(file_tuples)"
   ]
  },
  {
   "cell_type": "code",
   "execution_count": 8,
   "metadata": {},
   "outputs": [
    {
     "data": {
      "text/plain": [
       "(106092, 11788)"
      ]
     },
     "execution_count": 8,
     "metadata": {},
     "output_type": "execute_result"
    }
   ],
   "source": [
    "num_val_samples = int(0.1 * len(file_tuples))\n",
    "train_tuples = file_tuples[num_val_samples:]\n",
    "val_tuples = file_tuples[:num_val_samples]\n",
    "len(train_tuples), len(val_tuples)"
   ]
  },
  {
   "cell_type": "markdown",
   "metadata": {},
   "source": [
    "## 2.- Pipeline"
   ]
  },
  {
   "cell_type": "markdown",
   "metadata": {},
   "source": [
    "- Create vocabulary and tokenizer."
   ]
  },
  {
   "cell_type": "code",
   "execution_count": 9,
   "metadata": {
    "id": "7-V2bNQqpLTE"
   },
   "outputs": [],
   "source": [
    "from torchtext.data.utils import get_tokenizer\n",
    "from torchtext.vocab import vocab as Vocab\n",
    "from collections import Counter"
   ]
  },
  {
   "cell_type": "code",
   "execution_count": 10,
   "metadata": {
    "id": "0viwLWSUpGrk"
   },
   "outputs": [],
   "source": [
    "tokenizer = get_tokenizer('basic_english')"
   ]
  },
  {
   "cell_type": "code",
   "execution_count": 11,
   "metadata": {
    "id": "qpTS_ktRo_xd"
   },
   "outputs": [],
   "source": [
    "def build_vocab(text, tokenizer):\n",
    "    counter = Counter()\n",
    "    for _, string_ in text:\n",
    "        counter.update(tokenizer(string_))\n",
    "    return Vocab(counter, specials=['<unk>', '<pad>', '<bos>', '<eos>'])\n",
    "\n",
    "\n",
    "vocab = build_vocab(train_tuples, tokenizer)\n",
    "vocab.set_default_index(0) # fix <ukn>"
   ]
  },
  {
   "cell_type": "code",
   "execution_count": 12,
   "metadata": {
    "colab": {
     "base_uri": "https://localhost:8080/"
    },
    "id": "RlV0maHzt88t",
    "outputId": "fd691500-97f3-483c-ee8b-f3a9dd97fe61"
   },
   "outputs": [
    {
     "data": {
      "text/plain": [
       "6513"
      ]
     },
     "execution_count": 12,
     "metadata": {},
     "output_type": "execute_result"
    }
   ],
   "source": [
    "vocab_size = len(vocab)\n",
    "vocab_size"
   ]
  },
  {
   "cell_type": "code",
   "execution_count": 13,
   "metadata": {},
   "outputs": [
    {
     "data": {
      "text/plain": [
       "(1, 2, 3)"
      ]
     },
     "execution_count": 13,
     "metadata": {},
     "output_type": "execute_result"
    }
   ],
   "source": [
    "image_size = 128\n",
    "batch_size = 64\n",
    "maxlen = 36\n",
    "\n",
    "PAD_IDX = vocab['<pad>']\n",
    "BOS_IDX = vocab['<bos>']\n",
    "EOS_IDX = vocab['<eos>']\n",
    "PAD_IDX, BOS_IDX, EOS_IDX"
   ]
  },
  {
   "cell_type": "markdown",
   "metadata": {},
   "source": [
    "- Reduce dataset size for simplicity"
   ]
  },
  {
   "cell_type": "code",
   "execution_count": 14,
   "metadata": {},
   "outputs": [
    {
     "data": {
      "text/plain": [
       "(29706, 990)"
      ]
     },
     "execution_count": 14,
     "metadata": {},
     "output_type": "execute_result"
    }
   ],
   "source": [
    "def data_process(text):\n",
    "    data = []\n",
    "    for x, y in text:\n",
    "        tensor_ = torch.tensor([vocab[token] for token in tokenizer(y)],\n",
    "                                dtype=torch.long)\n",
    "\n",
    "        if tensor_.shape[0] < maxlen:\n",
    "            data.append((x, tensor_))\n",
    "    return data\n",
    "\n",
    "train_data = data_process(train_tuples[:30000])\n",
    "val_data = data_process(val_tuples[:1000])\n",
    "len(train_data), len(val_data)"
   ]
  },
  {
   "cell_type": "code",
   "execution_count": 15,
   "metadata": {},
   "outputs": [],
   "source": [
    "from torch.nn.utils.rnn import pad_sequence\n",
    "from torch.utils.data import DataLoader\n",
    "from torchvision import transforms\n",
    "from torch.nn.utils.rnn import pad_sequence\n",
    "from PIL import Image\n",
    "\n",
    "transform = transforms.Compose([\n",
    "            transforms.Resize((image_size, image_size)),\n",
    "            transforms.RandomHorizontalFlip(),\n",
    "            transforms.ToTensor()\n",
    "        ])\n",
    "\n",
    "def generate_batch(data_batch):\n",
    "    x, y = [], []\n",
    "    for (x_item, y_item) in data_batch:\n",
    "        image = Image.open(x_item).convert('RGB')\n",
    "        image = transform(image)\n",
    "        x.append(image)\n",
    "        y.append(torch.cat([torch.tensor([BOS_IDX]),\n",
    "                            y_item, \n",
    "                            torch.tensor([EOS_IDX])], dim=0))\n",
    "\n",
    "    x = torch.stack(x)\n",
    "    y = pad_sequence(y, batch_first=True, padding_value=PAD_IDX)\n",
    "    \n",
    "    # Desired padding length and padding value\n",
    "    # Calculate the amount of padding required\n",
    "    padding = (0, maxlen - y.size(1) + 1)  # (left, right)\n",
    "    \n",
    "    # Pad the sequence\n",
    "    y = torch.nn.functional.pad(y, padding, value=PAD_IDX)\n",
    "    return x, y[:, :-1], y[:, 1:]\n",
    "\n",
    "\n",
    "train_loader = DataLoader(train_data, batch_size=batch_size,\n",
    "                    shuffle=True, collate_fn=generate_batch, \n",
    "                    num_workers=4, pin_memory=True)\n",
    "\n",
    "val_loader = DataLoader(val_data, batch_size=batch_size,\n",
    "                    shuffle=False, collate_fn=generate_batch, \n",
    "                    num_workers=4, pin_memory=True)"
   ]
  },
  {
   "cell_type": "code",
   "execution_count": 16,
   "metadata": {},
   "outputs": [
    {
     "data": {
      "text/plain": [
       "(torch.Size([64, 3, 128, 128]), torch.Size([64, 36]), torch.Size([64, 36]))"
      ]
     },
     "execution_count": 16,
     "metadata": {},
     "output_type": "execute_result"
    }
   ],
   "source": [
    "enc_batch, dec_batch, target_batch = next(iter(val_loader))\n",
    "enc_batch.shape, dec_batch.shape, target_batch.shape"
   ]
  },
  {
   "cell_type": "code",
   "execution_count": 17,
   "metadata": {},
   "outputs": [],
   "source": [
    "import matplotlib.pyplot as plt"
   ]
  },
  {
   "cell_type": "code",
   "execution_count": 18,
   "metadata": {},
   "outputs": [],
   "source": [
    "def plot_img(enc_batch, target_batch, idx=0):\n",
    "    image_array = enc_batch[idx].permute(1, 2, 0).numpy()\n",
    "    image_text = \" \".join(\n",
    "        [vocab.get_itos()[target_batch[idx][_]] for _ in range(maxlen - 1)]\n",
    "    ).replace(\"<pad>\", \"\")\n",
    "    \n",
    "    fig = plt.figure(figsize=(2, 2))  \n",
    "    \n",
    "    # Plot the image\n",
    "    plt.imshow(image_array)\n",
    "    #plt.title(image_text)\n",
    "    plt.axis('off')  # Optional: Turn off axes\n",
    "    plt.show()\n",
    "    print(image_text)  "
   ]
  },
  {
   "cell_type": "code",
   "execution_count": 19,
   "metadata": {},
   "outputs": [
    {
     "data": {
      "image/png": "[encoded data removed]",
      "text/plain": [
       "<Figure size 200x200 with 1 Axes>"
      ]
     },
     "metadata": {},
     "output_type": "display_data"
    },
    {
     "name": "stdout",
     "output_type": "stream",
     "text": [
      "this bird has an all white body except for a black tipped tail and an orange bill . <eos>                \n"
     ]
    }
   ],
   "source": [
    "plot_img(enc_batch, target_batch)"
   ]
  },
  {
   "cell_type": "markdown",
   "metadata": {
    "id": "PZ7f4DHJreIj"
   },
   "source": [
    "## 3.- Model"
   ]
  },
  {
   "cell_type": "markdown",
   "metadata": {
    "tags": []
   },
   "source": [
    "### Feature extraction block\n",
    "- Define a convolutional network for image feature extraction."
   ]
  },
  {
   "cell_type": "code",
   "execution_count": 20,
   "metadata": {},
   "outputs": [],
   "source": [
    "import torch.nn as nn\n",
    "from torch import optim\n",
    "import time"
   ]
  },
  {
   "cell_type": "code",
   "execution_count": 21,
   "metadata": {},
   "outputs": [],
   "source": [
    "class DownBlockComp(nn.Module):\n",
    "    def __init__(self, in_planes, out_planes):\n",
    "        super(DownBlockComp, self).__init__()\n",
    "\n",
    "        self.main = nn.Sequential(\n",
    "            nn.Conv2d(in_planes, out_planes, 3, 2, 1, bias=False),\n",
    "            nn.BatchNorm2d(out_planes), nn.LeakyReLU(0.2, inplace=True),\n",
    "        )\n",
    "\n",
    "        self.direct = nn.Sequential(\n",
    "            nn.AvgPool2d(2, 2),\n",
    "            nn.Conv2d(in_planes, out_planes, 1, 1, 0, bias=False),\n",
    "            nn.BatchNorm2d(out_planes), nn.LeakyReLU(0.2, inplace=True))\n",
    "\n",
    "    def forward(self, feat):\n",
    "        return (self.main(feat) + self.direct(feat)) / 2"
   ]
  },
  {
   "cell_type": "code",
   "execution_count": 22,
   "metadata": {
    "scrolled": true
   },
   "outputs": [
    {
     "data": {
      "text/plain": [
       "torch.Size([64, 36, 256])"
      ]
     },
     "execution_count": 22,
     "metadata": {},
     "output_type": "execute_result"
    }
   ],
   "source": [
    "class CNN(nn.Module):\n",
    "    def __init__(self, filters=128, noise_dim=64):\n",
    "        super(CNN, self).__init__()\n",
    "        self.filters = filters\n",
    "        self.down_block = nn.Sequential(\n",
    "            nn.Conv2d(3, filters // 8, 3, 1, 1, bias=False),\n",
    "            nn.BatchNorm2d(filters // 8), nn.LeakyReLU(0.2, inplace=True),\n",
    "            DownBlockComp(filters // 8, filters // 4),\n",
    "            DownBlockComp(filters // 4, filters // 2),\n",
    "            DownBlockComp(filters // 2, filters),\n",
    "            DownBlockComp(filters, filters),\n",
    "            nn.Conv2d(filters, filters, 3, 1, 0, bias=False),\n",
    "            nn.LeakyReLU(0.2, inplace=True),\n",
    "        )\n",
    "\n",
    "    def forward(self, x):\n",
    "        B = x.shape[0]\n",
    "        x = self.down_block(x).view(B, -1, self.filters)\n",
    "        return x\n",
    "    \n",
    "    \n",
    "discriminator = CNN(256)\n",
    "out_disc = discriminator(enc_batch)\n",
    "out_disc.shape"
   ]
  },
  {
   "cell_type": "markdown",
   "metadata": {},
   "source": [
    "### Transformer block"
   ]
  },
  {
   "cell_type": "code",
   "execution_count": 23,
   "metadata": {
    "colab": {
     "base_uri": "https://localhost:8080/"
    },
    "id": "dT6uffV0rdh_",
    "outputId": "1f783aa2-47b4-4c1f-b243-e512ee31a3ed",
    "scrolled": true,
    "tags": []
   },
   "outputs": [
    {
     "data": {
      "text/plain": [
       "(torch.Size([1, 8, 32]), torch.Size([1, 8, 32]))"
      ]
     },
     "execution_count": 23,
     "metadata": {},
     "output_type": "execute_result"
    }
   ],
   "source": [
    "class Attention(nn.Module):\n",
    "    def __init__(self, dim, maxlen, n_heads=4, bias=True):\n",
    "        super().__init__()\n",
    "        self.n_heads = n_heads\n",
    "        self.scale = (dim // n_heads) ** -0.5\n",
    "        self.wq = nn.Linear(dim, dim, bias = bias)\n",
    "        self.wk = nn.Linear(dim, dim, bias = bias)\n",
    "        self.wv = nn.Linear(dim, dim, bias = bias)\n",
    "\n",
    "        self.wo = nn.Linear(dim, dim, bias = bias)\n",
    "        self.register_buffer(\"bias\", torch.tril(torch.ones(maxlen, maxlen)).view(1, 1, maxlen, maxlen))\n",
    "\n",
    "    def forward(self, x, context=None):\n",
    "        B, L, D = x.shape\n",
    "        out_L = L\n",
    "        q = self.wq(x)\n",
    "        q = torch.reshape(q, [B, L, self.n_heads, -1])\n",
    "        q = torch.permute(q, [0, 2, 1, 3])\n",
    "\n",
    "        if context == None:  \n",
    "            k = self.wk(x)\n",
    "            v = self.wv(x)\n",
    "        else:\n",
    "            k = self.wk(context)\n",
    "            v = self.wv(context)\n",
    "            B, L, D = k.shape\n",
    "\n",
    "        k = torch.reshape(k, [B, L, self.n_heads, -1])\n",
    "        k = torch.permute(k, [0, 2, 3, 1])\n",
    "        v = torch.reshape(v, [B, L, self.n_heads, -1])\n",
    "        v = torch.permute(v, [0, 2, 1, 3])\n",
    "\n",
    "        qk = torch.matmul(q, k) * self.scale\n",
    "        if context == None:\n",
    "            qk = qk.masked_fill(self.bias[:,:,:L,:L] == 0, float('-inf'))\n",
    "        \n",
    "        attn = torch.softmax(qk, dim=-1)\n",
    "\n",
    "        v_attn = torch.matmul(attn, v)\n",
    "        v_attn = torch.permute(v_attn, [0, 2, 1, 3])\n",
    "        v_attn = torch.reshape(v_attn, [B, out_L, D])\n",
    "\n",
    "        x = self.wo(v_attn)\n",
    "        return x\n",
    "\n",
    "\n",
    "q_test = torch.ones([1, 8, 32])\n",
    "k_test = torch.ones([1, 64, 32])\n",
    "test_layer = Attention(32, maxlen, n_heads=4)\n",
    "test_layer(q_test).shape, test_layer(q_test, k_test).shape"
   ]
  },
  {
   "cell_type": "markdown",
   "metadata": {},
   "source": [
    "- Define Transformer:"
   ]
  },
  {
   "cell_type": "code",
   "execution_count": 24,
   "metadata": {
    "colab": {
     "base_uri": "https://localhost:8080/"
    },
    "id": "rqDwbCJCAO0A",
    "outputId": "195c2c34-353d-40e9-e913-e2875c8333e8"
   },
   "outputs": [
    {
     "data": {
      "text/plain": [
       "torch.Size([1, 36, 32])"
      ]
     },
     "execution_count": 24,
     "metadata": {},
     "output_type": "execute_result"
    }
   ],
   "source": [
    "class DecoderBlock(nn.Module):\n",
    "    def __init__(self, dim, maxlen, heads=4, mlp_dim=512, rate=0.0):\n",
    "        super().__init__()\n",
    "        self.ln_1 = nn.LayerNorm(dim)\n",
    "        self.attn = Attention(dim, maxlen)\n",
    "        self.cross_attn = Attention(dim, maxlen)\n",
    "        self.ln_2 = nn.LayerNorm(dim)\n",
    "        self.ln_3 = nn.LayerNorm(dim)\n",
    "        self.mlp = nn.Sequential(\n",
    "            nn.Linear(dim, mlp_dim),\n",
    "            nn.GELU(),\n",
    "            nn.Dropout(rate),\n",
    "            nn.Linear(mlp_dim, dim),\n",
    "            nn.Dropout(rate),\n",
    "        )\n",
    "\n",
    "    def forward(self, x):\n",
    "        inputs, context = x\n",
    "        x = self.attn(inputs)\n",
    "        skip1 = self.ln_1(x + inputs)\n",
    "        x = self.cross_attn(skip1, context) \n",
    "        skip2 = self.ln_2(x + skip1)\n",
    "        return self.ln_3(self.mlp(skip2) + skip2)\n",
    "\n",
    "\n",
    "test_layer = DecoderBlock(32, maxlen)\n",
    "x_test = torch.ones([1, maxlen, 32])\n",
    "test_layer([x_test, x_test]).shape"
   ]
  },
  {
   "cell_type": "markdown",
   "metadata": {},
   "source": [
    "- Define Transformer"
   ]
  },
  {
   "cell_type": "code",
   "execution_count": 25,
   "metadata": {},
   "outputs": [
    {
     "data": {
      "text/plain": [
       "(torch.Size([64, 3, 128, 128]), torch.Size([64, 36]), torch.Size([64, 36]))"
      ]
     },
     "execution_count": 25,
     "metadata": {},
     "output_type": "execute_result"
    }
   ],
   "source": [
    "enc_batch.shape, dec_batch.shape, target_batch.shape"
   ]
  },
  {
   "cell_type": "markdown",
   "metadata": {},
   "source": [
    "### Transformer"
   ]
  },
  {
   "cell_type": "code",
   "execution_count": 26,
   "metadata": {
    "colab": {
     "base_uri": "https://localhost:8080/"
    },
    "id": "MNOuhWgj_o8z",
    "outputId": "6586f440-b62a-4986-f356-6cac17fbdffe",
    "scrolled": true,
    "tags": []
   },
   "outputs": [
    {
     "data": {
      "text/plain": [
       "(torch.Size([64, 36, 6513]), torch.Size([64, 36]))"
      ]
     },
     "execution_count": 26,
     "metadata": {},
     "output_type": "execute_result"
    }
   ],
   "source": [
    "class Transformer(nn.Module):\n",
    "    def __init__(self, dim, vocab_size, maxlen, depth=3, \n",
    "                 mlp_dim=512, rate=0.2):\n",
    "        super().__init__()\n",
    "        self.depth = depth\n",
    "        self.embedding = nn.Embedding(vocab_size, dim)\n",
    "        self.pos_embedding = nn.Parameter(\n",
    "            torch.randn(1, maxlen, dim))\n",
    "\n",
    "        self.decoder = nn.ModuleList()\n",
    "        for i in range(self.depth):\n",
    "            self.decoder.append(DecoderBlock(dim, maxlen))\n",
    "\n",
    "        self.head = nn.Linear(dim, vocab_size, bias=False)\n",
    "        self.cnn = CNN(dim)\n",
    "\n",
    "    def forward(self, x, context):\n",
    "        B, L = x.shape\n",
    "        x = self.embedding(x)\n",
    "        x += self.pos_embedding[:, :L]\n",
    "\n",
    "        context = self.cnn(context)\n",
    "        for layer in self.decoder:\n",
    "            x = layer([x, context])\n",
    "        x = self.head(x)\n",
    "        return x\n",
    "\n",
    "    \n",
    "model_dim = 64\n",
    "mlp_dim = 128\n",
    "depth = 3\n",
    "\n",
    "transformer = Transformer(dim=model_dim, vocab_size=vocab_size, \n",
    "          maxlen=maxlen, depth=depth, mlp_dim=mlp_dim)\n",
    "output = transformer(dec_batch, enc_batch)\n",
    "output.shape, target_batch.shape"
   ]
  },
  {
   "cell_type": "markdown",
   "metadata": {
    "id": "MsJbLyZ6b_57"
   },
   "source": [
    "## 4.- Training"
   ]
  },
  {
   "cell_type": "code",
   "execution_count": 27,
   "metadata": {
    "colab": {
     "base_uri": "https://localhost:8080/"
    },
    "id": "EvsuJHMBlm9y",
    "outputId": "ff57e59e-6632-40b4-d81c-085cbcc20a25"
   },
   "outputs": [
    {
     "name": "stdout",
     "output_type": "stream",
     "text": [
      "cuda:0\n"
     ]
    },
    {
     "data": {
      "text/plain": [
       "Transformer(\n",
       "  (embedding): Embedding(6513, 64)\n",
       "  (decoder): ModuleList(\n",
       "    (0-2): 3 x DecoderBlock(\n",
       "      (ln_1): LayerNorm((64,), eps=1e-05, elementwise_affine=True)\n",
       "      (attn): Attention(\n",
       "        (wq): Linear(in_features=64, out_features=64, bias=True)\n",
       "        (wk): Linear(in_features=64, out_features=64, bias=True)\n",
       "        (wv): Linear(in_features=64, out_features=64, bias=True)\n",
       "        (wo): Linear(in_features=64, out_features=64, bias=True)\n",
       "      )\n",
       "      (cross_attn): Attention(\n",
       "        (wq): Linear(in_features=64, out_features=64, bias=True)\n",
       "        (wk): Linear(in_features=64, out_features=64, bias=True)\n",
       "        (wv): Linear(in_features=64, out_features=64, bias=True)\n",
       "        (wo): Linear(in_features=64, out_features=64, bias=True)\n",
       "      )\n",
       "      (ln_2): LayerNorm((64,), eps=1e-05, elementwise_affine=True)\n",
       "      (ln_3): LayerNorm((64,), eps=1e-05, elementwise_affine=True)\n",
       "      (mlp): Sequential(\n",
       "        (0): Linear(in_features=64, out_features=512, bias=True)\n",
       "        (1): GELU(approximate='none')\n",
       "        (2): Dropout(p=0.0, inplace=False)\n",
       "        (3): Linear(in_features=512, out_features=64, bias=True)\n",
       "        (4): Dropout(p=0.0, inplace=False)\n",
       "      )\n",
       "    )\n",
       "  )\n",
       "  (head): Linear(in_features=64, out_features=6513, bias=False)\n",
       "  (cnn): CNN(\n",
       "    (down_block): Sequential(\n",
       "      (0): Conv2d(3, 8, kernel_size=(3, 3), stride=(1, 1), padding=(1, 1), bias=False)\n",
       "      (1): BatchNorm2d(8, eps=1e-05, momentum=0.1, affine=True, track_running_stats=True)\n",
       "      (2): LeakyReLU(negative_slope=0.2, inplace=True)\n",
       "      (3): DownBlockComp(\n",
       "        (main): Sequential(\n",
       "          (0): Conv2d(8, 16, kernel_size=(3, 3), stride=(2, 2), padding=(1, 1), bias=False)\n",
       "          (1): BatchNorm2d(16, eps=1e-05, momentum=0.1, affine=True, track_running_stats=True)\n",
       "          (2): LeakyReLU(negative_slope=0.2, inplace=True)\n",
       "        )\n",
       "        (direct): Sequential(\n",
       "          (0): AvgPool2d(kernel_size=2, stride=2, padding=0)\n",
       "          (1): Conv2d(8, 16, kernel_size=(1, 1), stride=(1, 1), bias=False)\n",
       "          (2): BatchNorm2d(16, eps=1e-05, momentum=0.1, affine=True, track_running_stats=True)\n",
       "          (3): LeakyReLU(negative_slope=0.2, inplace=True)\n",
       "        )\n",
       "      )\n",
       "      (4): DownBlockComp(\n",
       "        (main): Sequential(\n",
       "          (0): Conv2d(16, 32, kernel_size=(3, 3), stride=(2, 2), padding=(1, 1), bias=False)\n",
       "          (1): BatchNorm2d(32, eps=1e-05, momentum=0.1, affine=True, track_running_stats=True)\n",
       "          (2): LeakyReLU(negative_slope=0.2, inplace=True)\n",
       "        )\n",
       "        (direct): Sequential(\n",
       "          (0): AvgPool2d(kernel_size=2, stride=2, padding=0)\n",
       "          (1): Conv2d(16, 32, kernel_size=(1, 1), stride=(1, 1), bias=False)\n",
       "          (2): BatchNorm2d(32, eps=1e-05, momentum=0.1, affine=True, track_running_stats=True)\n",
       "          (3): LeakyReLU(negative_slope=0.2, inplace=True)\n",
       "        )\n",
       "      )\n",
       "      (5): DownBlockComp(\n",
       "        (main): Sequential(\n",
       "          (0): Conv2d(32, 64, kernel_size=(3, 3), stride=(2, 2), padding=(1, 1), bias=False)\n",
       "          (1): BatchNorm2d(64, eps=1e-05, momentum=0.1, affine=True, track_running_stats=True)\n",
       "          (2): LeakyReLU(negative_slope=0.2, inplace=True)\n",
       "        )\n",
       "        (direct): Sequential(\n",
       "          (0): AvgPool2d(kernel_size=2, stride=2, padding=0)\n",
       "          (1): Conv2d(32, 64, kernel_size=(1, 1), stride=(1, 1), bias=False)\n",
       "          (2): BatchNorm2d(64, eps=1e-05, momentum=0.1, affine=True, track_running_stats=True)\n",
       "          (3): LeakyReLU(negative_slope=0.2, inplace=True)\n",
       "        )\n",
       "      )\n",
       "      (6): DownBlockComp(\n",
       "        (main): Sequential(\n",
       "          (0): Conv2d(64, 64, kernel_size=(3, 3), stride=(2, 2), padding=(1, 1), bias=False)\n",
       "          (1): BatchNorm2d(64, eps=1e-05, momentum=0.1, affine=True, track_running_stats=True)\n",
       "          (2): LeakyReLU(negative_slope=0.2, inplace=True)\n",
       "        )\n",
       "        (direct): Sequential(\n",
       "          (0): AvgPool2d(kernel_size=2, stride=2, padding=0)\n",
       "          (1): Conv2d(64, 64, kernel_size=(1, 1), stride=(1, 1), bias=False)\n",
       "          (2): BatchNorm2d(64, eps=1e-05, momentum=0.1, affine=True, track_running_stats=True)\n",
       "          (3): LeakyReLU(negative_slope=0.2, inplace=True)\n",
       "        )\n",
       "      )\n",
       "      (7): Conv2d(64, 64, kernel_size=(3, 3), stride=(1, 1), bias=False)\n",
       "      (8): LeakyReLU(negative_slope=0.2, inplace=True)\n",
       "    )\n",
       "  )\n",
       ")"
      ]
     },
     "execution_count": 27,
     "metadata": {},
     "output_type": "execute_result"
    }
   ],
   "source": [
    "device = torch.device('cuda:0' if torch.cuda.is_available() else 'cpu')\n",
    "print(device)\n",
    "\n",
    "transformer.to(device)"
   ]
  },
  {
   "cell_type": "code",
   "execution_count": 28,
   "metadata": {
    "id": "wl9MQCp9TLCh"
   },
   "outputs": [],
   "source": [
    "optimizer = optim.Adam(transformer.parameters(), lr=0.001)\n",
    "loss_fn = torch.nn.CrossEntropyLoss(ignore_index=PAD_IDX)"
   ]
  },
  {
   "cell_type": "code",
   "execution_count": 29,
   "metadata": {
    "id": "R5bmAldOcJn0"
   },
   "outputs": [],
   "source": [
    "def train(model, device, train_loader, optimizer, epoch):\n",
    "    start = time.time()\n",
    "    running_loss = 0.0\n",
    "    model.train()\n",
    "    for inp_enc, inp_dec, tar_dec in train_loader:\n",
    "        tar_dec = tar_dec.reshape(-1)\n",
    "        inp_enc = inp_enc.to(device)\n",
    "        inp_dec = inp_dec.to(device)\n",
    "        tar_dec = tar_dec.to(device)\n",
    "        \n",
    "        # zero the parameter gradients\n",
    "        optimizer.zero_grad()\n",
    "\n",
    "        # forward + backward + optimize\n",
    "        outputs = model(inp_dec, inp_enc)\n",
    "        outputs = outputs.view(-1, outputs.size(-1))\n",
    "        loss = loss_fn(outputs, tar_dec)\n",
    "        loss.backward()\n",
    "        optimizer.step()\n",
    "\n",
    "        running_loss += loss.item()\n",
    "\n",
    "    print(f'\\nTime for epoch {epoch} is {time.time()-start:.4f} sec Train loss: {running_loss / len(train_loader):.4f}')"
   ]
  },
  {
   "cell_type": "code",
   "execution_count": 30,
   "metadata": {},
   "outputs": [
    {
     "name": "stdout",
     "output_type": "stream",
     "text": [
      "Generated text:  tan/orange neutrally maybe contrastis whoe variances accompany inverse-v white/ birght belly/abdomen creepy stares apple part molar versus whaite mottled-grey sings jay until yellow/brown black/dark identify move everything black/gray mixes reddish-yellow aare glowing gets podge rows)\n"
     ]
    }
   ],
   "source": [
    "def generate(model, image, device, maxlen):\n",
    "    with torch.no_grad():\n",
    "        image = image.unsqueeze(0).to(device)\n",
    "        model.eval()\n",
    "        idx = torch.tensor(BOS_IDX, dtype=torch.long)\n",
    "        idx = idx.reshape([1, -1])\n",
    "\n",
    "        for _ in range(maxlen):\n",
    "            idx = idx.to(device)\n",
    "            logits = model(idx, image)[:, -1, :]      \n",
    "            probs = torch.softmax(logits, dim=-1)\n",
    "\n",
    "            _, idx_next = torch.topk(probs, k=1, dim=-1)\n",
    "            idx = torch.cat((idx, idx_next), dim=1)\n",
    "\n",
    "        txt = \" \".join(\n",
    "                    [vocab.get_itos()[idx[0, _]] for _ in range(maxlen)]\n",
    "                )\n",
    "    print(f'Generated text: {txt.replace(\"<bos>\", \"\").replace(\"<eos>\", \"\")})')\n",
    "        \n",
    "\n",
    "generate(transformer, enc_batch[0], device, maxlen)"
   ]
  },
  {
   "cell_type": "code",
   "execution_count": 31,
   "metadata": {
    "colab": {
     "base_uri": "https://localhost:8080/",
     "height": 1000
    },
    "id": "gtR1RoSBkARg",
    "outputId": "5e15136d-9e74-4734-d9d0-307ddbcd59d0",
    "scrolled": true,
    "tags": []
   },
   "outputs": [
    {
     "name": "stdout",
     "output_type": "stream",
     "text": [
      "\n",
      "Time for epoch 0 is 16.8956 sec Train loss: 2.8894\n",
      "Generated text:  this bird has a brown crown , a white belly and a brown crown .  as well as well as well as a white belly .  black and a white and a brown)\n",
      "\n",
      "Time for epoch 1 is 16.7304 sec Train loss: 2.1362\n",
      "Generated text:  this bird has a white belly and breast with a short pointy bill .  black and white wingbars .  and a white eye .  long tail .  .  as well)\n",
      "\n",
      "Time for epoch 2 is 17.1050 sec Train loss: 2.0020\n",
      "Generated text:  this bird has a white belly and breast , with a black crown and a black bill .  .  .  .  .  a black and a white eyering . )\n",
      "\n",
      "Time for epoch 3 is 17.3143 sec Train loss: 1.9234\n",
      "Generated text:  this bird has a white belly and breast with a black crown and wings .  and tail .  with a long , and pointy beak .  .  .  orange .)\n",
      "\n",
      "Time for epoch 4 is 17.1723 sec Train loss: 1.8649\n",
      "Generated text:  this bird has a white belly and breast , with a black crown and a long pointy bill .  .  .  .  .  .  .  white . )\n",
      "\n",
      "Time for epoch 5 is 17.3035 sec Train loss: 1.8181\n",
      "Generated text:  this bird has wings that are grey and has a white belly  and breast  and belly   with a long bill   red eyes  .  .  and feet)\n",
      "\n",
      "Time for epoch 6 is 16.8380 sec Train loss: 1.7777\n",
      "Generated text:  this bird has wings that are brown and has a white belly     and a white belly   and a black bill  and white belly  orange feet  )\n",
      "\n",
      "Time for epoch 7 is 17.2979 sec Train loss: 1.7441\n",
      "Generated text:  this bird has a white belly and breast with a black crown and wing .  and wings .  with a white wingbar .  .  white wingbars .  white wingbars .)\n",
      "\n",
      "Time for epoch 8 is 17.5875 sec Train loss: 1.7126\n",
      "Generated text:  this bird has a white belly and breast with a black crown and wing .  and a long pointy bill .  with a white stripe on the wings .  the wings .)\n",
      "\n",
      "Time for epoch 9 is 17.4646 sec Train loss: 1.6824\n",
      "Generated text:  this bird has a white belly and breast with a black crown and short pointy bill .  with a black crown .  .  which is white .  .  and feet)\n",
      "\n",
      "Time for epoch 10 is 16.9326 sec Train loss: 1.6556\n",
      "Generated text:  this bird has a white belly and breast , with a black crown and wing .  and a long pointy bill .  with a white superciliary .  .  white eye .)\n",
      "\n",
      "Time for epoch 11 is 17.1833 sec Train loss: 1.6268\n",
      "Generated text:  this bird has a white belly and breast with a black crown and wing .  and a black crown .  .  white wingbars .  wings and tail .  nape .)\n",
      "\n",
      "Time for epoch 12 is 17.5348 sec Train loss: 1.6038\n",
      "Generated text:  this bird has a white belly and breast , with a black crown and wing .  and feet .  with a long beak .  and hooked black eye .  . )\n",
      "\n",
      "Time for epoch 13 is 17.3727 sec Train loss: 1.5791\n",
      "Generated text:  this bird has a white crown , a yellow bill , and a white breast  .  and white belly .  with grey tarsus and webbed feet .  the wings . )\n",
      "\n",
      "Time for epoch 14 is 17.8864 sec Train loss: 1.5571\n",
      "Generated text:  this bird has a white belly and breast with a black crown and short pointy bill .  with a white eyering .  wings that is white spots .  them .  .)\n",
      "\n",
      "Time for epoch 15 is 17.7416 sec Train loss: 1.5348\n",
      "Generated text:  this bird has a white crown , a white breast , and a black bill  .  and white eyering .  by a white eyering .  on the crown .  .)\n"
     ]
    }
   ],
   "source": [
    "epochs = 16\n",
    "\n",
    "for epoch in range(epochs):\n",
    "    train(transformer, device, train_loader, optimizer, epoch)\n",
    "    generate(transformer, enc_batch[0], device, maxlen)"
   ]
  },
  {
   "cell_type": "markdown",
   "metadata": {},
   "source": [
    "- Test the model on validation images."
   ]
  },
  {
   "cell_type": "code",
   "execution_count": 32,
   "metadata": {},
   "outputs": [
    {
     "data": {
      "image/png": "[encoded data removed]",
      "text/plain": [
       "<Figure size 200x200 with 1 Axes>"
      ]
     },
     "metadata": {},
     "output_type": "display_data"
    },
    {
     "name": "stdout",
     "output_type": "stream",
     "text": [
      "this bird is primarily green and yellow with black wings and a black crown . <eos>                   \n",
      "Generated text:  this bird has a yellow belly and breast with a black crown and short pointy bill .  and secondary feathers .  is black .  white .  and white .  .)\n"
     ]
    }
   ],
   "source": [
    "idx = 2\n",
    "plot_img(enc_batch, target_batch, idx=idx)\n",
    "generate(transformer, enc_batch[idx], device, maxlen)"
   ]
  },
  {
   "cell_type": "code",
   "execution_count": 33,
   "metadata": {},
   "outputs": [
    {
     "data": {
      "image/png": "[encoded data removed]",
      "text/plain": [
       "<Figure size 200x200 with 1 Axes>"
      ]
     },
     "metadata": {},
     "output_type": "display_data"
    },
    {
     "name": "stdout",
     "output_type": "stream",
     "text": [
      "a medium sized black bird with a very large bill <eos>                        \n",
      "Generated text:  this bird has a black crown , a black bill , and a black breast  and belly  .  feathers .  white tips .  white tips .  eyes . )\n"
     ]
    }
   ],
   "source": [
    "idx = 16\n",
    "plot_img(enc_batch, target_batch, idx=idx)\n",
    "generate(transformer, enc_batch[idx], device, maxlen)"
   ]
  }
 ],
 "metadata": {
  "accelerator": "GPU",
  "colab": {
   "collapsed_sections": [],
   "provenance": []
  },
  "gpuClass": "standard",
  "kernelspec": {
   "display_name": "Python 3 (ipykernel)",
   "language": "python",
   "name": "python3"
  },
  "language_info": {
   "codemirror_mode": {
    "name": "ipython",
    "version": 3
   },
   "file_extension": ".py",
   "mimetype": "text/x-python",
   "name": "python",
   "nbconvert_exporter": "python",
   "pygments_lexer": "ipython3",
   "version": "3.8.18"
  }
 },
 "nbformat": 4,
 "nbformat_minor": 4
}

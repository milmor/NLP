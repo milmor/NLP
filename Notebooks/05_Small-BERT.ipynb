{
 "cells": [
  {
   "cell_type": "code",
   "execution_count": 1,
   "id": "dbc49d9b-5f41-4169-bbda-5d77f285459f",
   "metadata": {},
   "outputs": [],
   "source": [
    "import os\n",
    "os.environ['TF_CPP_MIN_LOG_LEVEL'] = '3' # Disable tensorflow debugging logs\n",
    "import tensorflow as tf\n",
    "import matplotlib.pyplot as plt"
   ]
  },
  {
   "cell_type": "markdown",
   "id": "953c4517-86bd-4ed3-836a-f7356c895317",
   "metadata": {
    "tags": []
   },
   "source": [
    "## Importar dataset"
   ]
  },
  {
   "cell_type": "code",
   "execution_count": 2,
   "id": "3404f6ab-2dd4-4c7e-989a-ea33ee8c14f9",
   "metadata": {},
   "outputs": [],
   "source": [
    "import tensorflow_datasets as tfds\n",
    "import tensorflow_hub as hub\n",
    "import tensorflow_text as text"
   ]
  },
  {
   "cell_type": "code",
   "execution_count": 3,
   "id": "342afe6a-fe93-4832-b573-96f8e209cc1c",
   "metadata": {},
   "outputs": [],
   "source": [
    "dataset = tfds.load('imdb_reviews', as_supervised=True)"
   ]
  },
  {
   "cell_type": "code",
   "execution_count": 4,
   "id": "b155f67f-344e-4841-adab-3a2e58608756",
   "metadata": {},
   "outputs": [],
   "source": [
    "raw_train_ds, raw_test_ds = dataset['train'], dataset['test']"
   ]
  },
  {
   "cell_type": "code",
   "execution_count": 5,
   "id": "76dae875-74f1-46d0-a402-03cf4bdd4681",
   "metadata": {},
   "outputs": [
    {
     "name": "stdout",
     "output_type": "stream",
     "text": [
      "b\"This was an absolutely terrible movie. Don't be lured in by Christopher Walken or Michael Ironside. Both are great actors, but this must simply be their worst role in history. Even their great acting could not redeem this movie's ridiculous storyline. This movie is an early nineties US propaganda piece. The most pathetic scenes were those when the Columbian rebels were making their cases for revolutions. Maria Conchita Alonso appeared phony, and her pseudo-love affair with Walken was nothing but a pathetic emotional plug in a movie that was devoid of any real meaning. I am disappointed that there are movies like this, ruining actor's like Christopher Walken's good name. I could barely sit through it.\" 0\n"
     ]
    }
   ],
   "source": [
    "for text, label in raw_train_ds.take(1):\n",
    "    print(text.numpy(), label.numpy())"
   ]
  },
  {
   "cell_type": "markdown",
   "id": "be3e327c-6df0-4bde-8dc3-d67f22a8fb29",
   "metadata": {},
   "source": [
    "## Pipeline"
   ]
  },
  {
   "cell_type": "code",
   "execution_count": 6,
   "id": "4102ef0a-84b1-4e12-97c1-b06627d29349",
   "metadata": {},
   "outputs": [
    {
     "data": {
      "text/plain": [
       "25000"
      ]
     },
     "execution_count": 6,
     "metadata": {},
     "output_type": "execute_result"
    }
   ],
   "source": [
    "AUTOTUNE = tf.data.experimental.AUTOTUNE\n",
    "BUFFER_SIZE = tf.data.experimental.cardinality(raw_train_ds)\n",
    "BUFFER_SIZE.numpy()"
   ]
  },
  {
   "cell_type": "code",
   "execution_count": 7,
   "id": "2418bc02-1d92-40e9-9c02-59d46bc8c798",
   "metadata": {},
   "outputs": [],
   "source": [
    "import string"
   ]
  },
  {
   "cell_type": "code",
   "execution_count": 8,
   "id": "8652f61b-9976-4771-b024-f3a62c59d23e",
   "metadata": {},
   "outputs": [
    {
     "data": {
      "text/plain": [
       "<tf.Tensor: shape=(), dtype=string, numpy=b'My favorite dog'>"
      ]
     },
     "execution_count": 8,
     "metadata": {},
     "output_type": "execute_result"
    }
   ],
   "source": [
    "tf.strings.regex_replace('My favorite dog?', f\"([{string.punctuation}])\", r\"\")"
   ]
  },
  {
   "cell_type": "code",
   "execution_count": 9,
   "id": "b6861a39-c479-4bd5-8344-bb8d25c7db63",
   "metadata": {},
   "outputs": [],
   "source": [
    "batch_size = 16\n",
    "voc_size = 5000\n",
    "max_length = 200"
   ]
  },
  {
   "cell_type": "code",
   "execution_count": 10,
   "id": "03806b63-ba07-4258-8d33-ec700e8ec4f8",
   "metadata": {},
   "outputs": [],
   "source": [
    "def clean_text(raw_text, label):\n",
    "    lowercase = tf.strings.lower(raw_text)\n",
    "    lowercase = tf.strings.substr(lowercase, 0, max_length)\n",
    "    clean = tf.strings.regex_replace(lowercase, '<br />', ' ')\n",
    "    clean = tf.strings.regex_replace(clean, \n",
    "                                     f\"([{string.punctuation}])\", r\"\")\n",
    "    return clean, label"
   ]
  },
  {
   "cell_type": "code",
   "execution_count": 11,
   "id": "5064dcdb-293a-4cf0-a7a9-235bebfff98e",
   "metadata": {},
   "outputs": [
    {
     "name": "stdout",
     "output_type": "stream",
     "text": [
      "tf.Tensor(b'this was an absolutely terrible movie dont be lured in by christopher walken or michael ironside both are great actors but this must simply be their worst role in history even their great acting ', shape=(), dtype=string)\n",
      "tf.Tensor(b'this was an absolutely terrible movie dont be lured in by christopher walken or michael ironside both are great actors but this must simply be their worst role in history even their great acting ', shape=(), dtype=string)\n"
     ]
    }
   ],
   "source": [
    "train_ds = raw_train_ds.map(clean_text)\n",
    "\n",
    "for text, label in train_ds.take(1):\n",
    "    print(text)\n",
    "    print(tf.strings.substr(\n",
    "    text, 0, max_length)\n",
    ")"
   ]
  },
  {
   "cell_type": "code",
   "execution_count": 12,
   "id": "288fb5a9-8fac-40a7-a696-d58adfa6d4e6",
   "metadata": {},
   "outputs": [],
   "source": [
    "train_ds = raw_train_ds.map(clean_text).shuffle(BUFFER_SIZE).batch(\n",
    "        batch_size, num_parallel_calls=AUTOTUNE).prefetch(\n",
    "        AUTOTUNE)\n",
    "\n",
    "test_ds = raw_test_ds.map(clean_text).batch(\n",
    "        batch_size, num_parallel_calls=AUTOTUNE).prefetch(\n",
    "        AUTOTUNE)"
   ]
  },
  {
   "cell_type": "code",
   "execution_count": 13,
   "id": "aa013dfc-752c-4939-8064-757f5c9b447b",
   "metadata": {
    "scrolled": true,
    "tags": []
   },
   "outputs": [
    {
     "name": "stdout",
     "output_type": "stream",
     "text": [
      "tf.Tensor(\n",
      "[b'more than just a kids movie holes looks at how past incidents still affect us today whether we know about them or not when teenager stanley yelnats iii shia leboeuf gets sent to a prison cam'\n",
      " b'i caught this film on azn on cable it sounded like it would be a good film a japanese green card i cant say ive ever disliked an asian film quite the contrary some of the most incredible horr'\n",
      " b'spoiler alert all throughout australia the summer turned into a deluge of rain and hail stones the size of baseballs that was causing havoc in coastal cities like sydney its under these hect'\n",
      " b'another demonstration of kurosawas genius his first colour film is a darkly surreal look into the tragic lives of tokyo slum dwellers essentially a series of interweaving vignettes depicting severa'\n",
      " b'hi everyone my names larissa im 13 years old when i was about 4 years old i watch curly sue and it knocked my socks of i have been watching that movie for a long time in fact about 30 minutes ago i j'\n",
      " b'just watched the film for the 3rd time and enjoyed lindsay crouse and the rest of the cast just as much as before it just keeps getting better and better you simply have to marvel at the carefully m'\n",
      " b'a pretty average movie but a brave one from ms hawn to promote this vehicle as exec producer  as a starring vehicle although she ends up vindicated she is willing to portray herself as the dizzy bi'\n",
      " b'distortion is a disturbing haunting film about life imitating art and art reflecting life haim bouzaglo the director of the film plays the role of haim bouzaglo artistically blocked and sexually'\n",
      " b'if you liked the grinch movie go watch that again because this was no where near as good a seussian movie translation mike myers cat is probably the most annoying character to grace the screen'\n",
      " b'when watching this show you are not quite sure whether it is the story or the acting that is more annoying first of all the storyline of each episode is very predictable the writers must have used '\n",
      " b'this excellent drama had me in suspense the whole time i could not take my eyes off the screen for one second because every word kept connecting the pieces to this puzzling murder this movie really '\n",
      " b'54 is a film about a club with that very title in the setting of the 70s era it features the classic goodlooking bartender the sexy females the high powered owner the partying when all entwined '\n",
      " b'i could see this film is super he didnt surprise to oneself when so that it was taking place for the truth this way by itself how swigged flight to the which didnt have the place but it is only suc'\n",
      " b'my interest in dorothy stratten caused me to purchase this video although it had great actorsactresses there were just too many subplots going on to retain interest plus it just wasnt that intere'\n",
      " b'this 1996 movie was the first adaptation of jane eyre that i ever watched and when i did so i was appalled by it so much of the novel had been left out and i considered william hurt to be terribly mi'\n",
      " b'i am not a big fan of horror films and have only seen a handful of them and none of the halloweens or friday the thirteenths  but i can appreciate a frightening horror film not because of gore'], shape=(16,), dtype=string)\n"
     ]
    }
   ],
   "source": [
    "for text, label in train_ds.take(1):\n",
    "    print(text)"
   ]
  },
  {
   "cell_type": "markdown",
   "id": "46a69291-e1ee-4d06-b8f1-9510fa3c598f",
   "metadata": {},
   "source": [
    "## Definir modelo"
   ]
  },
  {
   "cell_type": "markdown",
   "id": "99ce2541-073e-4477-a9d5-54e8f535ba79",
   "metadata": {},
   "source": [
    "<img src=\"../img/bert.png\" width=\"700\"/>\n",
    "\n",
    "__Imagen tomada de Devlin, J., Chang, M. W., Lee, K., & Toutanova, K. (2018). Bert: Pre-training of deep bidirectional transformers for language understanding. arXiv preprint arXiv:1810.04805.__"
   ]
  },
  {
   "cell_type": "code",
   "execution_count": 14,
   "id": "c76ca6b3-9bd2-42e0-82bb-d7c6d06cc63e",
   "metadata": {},
   "outputs": [],
   "source": [
    "train_text, _ = next(iter(train_ds))"
   ]
  },
  {
   "cell_type": "code",
   "execution_count": 15,
   "id": "8d417aa6-b8c7-4a7b-9ba2-15e228080b67",
   "metadata": {
    "scrolled": true,
    "tags": []
   },
   "outputs": [
    {
     "data": {
      "text/plain": [
       "<tf.Tensor: shape=(16,), dtype=string, numpy=\n",
       "array([b'being that i am a true product of the hiphop and electronic dance music generation this is without a doubt one of my favorite movies of all time beat street although not as authentic in some res',\n",
       "       b'i cannot believe the same guy directed this crap and dracula 2000 dracula 2000 was innovative fresh and well written if poorly acted  this pile cant even claim that it starts with the',\n",
       "       b'tarzan and his mate1934 was the only tarzan movie i didnt see when i was a kid it sounded boring now i have seen it i have seen the ape man1932 about a hundred times and i keep a copy on my dr',\n",
       "       b'i was initially forced to attend by my wife as she is fascinated by the royal families of britain and their history and she wont go to the cinema without me although viewers shouldnt expect to be ',\n",
       "       b'engrossing drama of four men on a canoing weekend down a remote river they are pacifist ed jon voight adventurous violent lewis burt reynolds obnoxious bobby ned beatty and nice guy drew ro',\n",
       "       b'not much to say beyond the summary save that this is an example of j edgars hoovers constant attention to maintaining a good pr profile they dont make movies this bad very often especially wi',\n",
       "       b'this has some excellent spots but the length of the film can not sustain the wafer thin plot it is another sailors on leave film zippier than astaires follow the fleet but not as good as on the ',\n",
       "       b'this movie is visually stunning who cares if she can act or not each scene is a work of art composed and captured by john derek the locations set designs and costumes function perfectly to convey',\n",
       "       b'the hg wells classic has had several incarnations the 05 speilburg version and the classic 53 version but only this one stays completely true to the book nothing is changed nothing is removedb',\n",
       "       b'this movie is still an all time favorite only a pretentious humorless moron would not enjoy this wonderful film this movie feels like a slice of warm apple pie topped with french vanilla ice cream',\n",
       "       b'spoliers do not read any further if you havent seen this movie  picking up after the depressing phantasm ii ended the tall man kidnaps mike while reggie and new kid tim spend most of ',\n",
       "       b'henry thomas was great his character held my attention i was so into the story that i forgot it wasnt real i wanted him to keep the baby and see what a special person he was the other people ',\n",
       "       b'lost is one of a kindits so enchanting and full of suspense thrill and emotions all at the same timei have never seen any tv series like this before it is full of jungle thrills and has a good s',\n",
       "       b'robin williams and kurt russell play guys in their 30s who put their marraiges in jeopardy by deciding russell somewhat reluctantly to replay their heartbreaking tie with rival bakersfield years af',\n",
       "       b'nothing new in this hackneyed romance with characters put into unbelievable situations speaking dialogue that borders on the ridiculous this is an example of another movie put into production before',\n",
       "       b'conrad hall went out with a bang the great film photographer finished his illustrious career with this movie before passing on he did himself proud as this is one of the bestlooking crime films you'],\n",
       "      dtype=object)>"
      ]
     },
     "execution_count": 15,
     "metadata": {},
     "output_type": "execute_result"
    }
   ],
   "source": [
    "train_text"
   ]
  },
  {
   "cell_type": "code",
   "execution_count": 16,
   "id": "530db00c-060e-46ea-a731-b982e38aed14",
   "metadata": {},
   "outputs": [],
   "source": [
    "bert_model_path = 'https://tfhub.dev/tensorflow/small_bert/bert_en_uncased_L-4_H-512_A-8/1'\n",
    "bert_preprocess_path = 'https://tfhub.dev/tensorflow/bert_en_uncased_preprocess/3'"
   ]
  },
  {
   "cell_type": "code",
   "execution_count": 17,
   "id": "0a9d0971-e6de-4025-a8f5-354513691ba7",
   "metadata": {},
   "outputs": [],
   "source": [
    "bert_preprocess_model = hub.KerasLayer(bert_preprocess_path)"
   ]
  },
  {
   "cell_type": "code",
   "execution_count": 18,
   "id": "a4cb2b6c-7504-425f-8644-f29a766dcf62",
   "metadata": {
    "scrolled": true,
    "tags": []
   },
   "outputs": [
    {
     "data": {
      "text/plain": [
       "{'input_type_ids': <tf.Tensor: shape=(16, 128), dtype=int32, numpy=\n",
       " array([[0, 0, 0, ..., 0, 0, 0],\n",
       "        [0, 0, 0, ..., 0, 0, 0],\n",
       "        [0, 0, 0, ..., 0, 0, 0],\n",
       "        ...,\n",
       "        [0, 0, 0, ..., 0, 0, 0],\n",
       "        [0, 0, 0, ..., 0, 0, 0],\n",
       "        [0, 0, 0, ..., 0, 0, 0]], dtype=int32)>,\n",
       " 'input_mask': <tf.Tensor: shape=(16, 128), dtype=int32, numpy=\n",
       " array([[1, 1, 1, ..., 0, 0, 0],\n",
       "        [1, 1, 1, ..., 0, 0, 0],\n",
       "        [1, 1, 1, ..., 0, 0, 0],\n",
       "        ...,\n",
       "        [1, 1, 1, ..., 0, 0, 0],\n",
       "        [1, 1, 1, ..., 0, 0, 0],\n",
       "        [1, 1, 1, ..., 0, 0, 0]], dtype=int32)>,\n",
       " 'input_word_ids': <tf.Tensor: shape=(16, 128), dtype=int32, numpy=\n",
       " array([[  101,  2108,  2008, ...,     0,     0,     0],\n",
       "        [  101,  1045,  3685, ...,     0,     0,     0],\n",
       "        [  101, 24566,  1998, ...,     0,     0,     0],\n",
       "        ...,\n",
       "        [  101,  5863,  3766, ...,     0,     0,     0],\n",
       "        [  101,  2498,  2047, ...,     0,     0,     0],\n",
       "        [  101, 10931,  2534, ...,     0,     0,     0]], dtype=int32)>}"
      ]
     },
     "execution_count": 18,
     "metadata": {},
     "output_type": "execute_result"
    }
   ],
   "source": [
    "preprocess_output = bert_preprocess_model(train_text)\n",
    "preprocess_output"
   ]
  },
  {
   "cell_type": "code",
   "execution_count": 19,
   "id": "46d363b6-d642-451b-8bee-3e0a9458080b",
   "metadata": {},
   "outputs": [],
   "source": [
    "bert_model = hub.KerasLayer(bert_model_path)"
   ]
  },
  {
   "cell_type": "code",
   "execution_count": 20,
   "id": "012b50b8-c9be-4924-ab50-dcf1f2c8abc4",
   "metadata": {
    "scrolled": true,
    "tags": []
   },
   "outputs": [
    {
     "data": {
      "text/plain": [
       "<tf.Tensor: shape=(16, 512), dtype=float32, numpy=\n",
       "array([[ 0.38921773,  0.5589638 ,  0.03624528, ...,  0.15941487,\n",
       "        -0.17959836,  0.29063404],\n",
       "       [ 0.83405286,  0.80743587, -0.22731142, ..., -0.00577929,\n",
       "        -0.03727707, -0.7073086 ],\n",
       "       [ 0.97635967,  0.99464095, -0.04352628, ..., -0.22736534,\n",
       "        -0.72770953, -0.8641528 ],\n",
       "       ...,\n",
       "       [ 0.90034324,  0.47461635, -0.19443458, ...,  0.6052738 ,\n",
       "        -0.21026924, -0.9670241 ],\n",
       "       [ 0.6192951 ,  0.7899087 , -0.04462845, ...,  0.03447887,\n",
       "        -0.18346721,  0.6457753 ],\n",
       "       [-0.5093894 ,  0.99746615, -0.11423684, ...,  0.08875322,\n",
       "        -0.43408817, -0.53812146]], dtype=float32)>"
      ]
     },
     "execution_count": 20,
     "metadata": {},
     "output_type": "execute_result"
    }
   ],
   "source": [
    "bert_model(preprocess_output)['pooled_output']"
   ]
  },
  {
   "cell_type": "code",
   "execution_count": 21,
   "id": "59d56968-9a5f-4dec-adaf-a4e7d8f66f91",
   "metadata": {},
   "outputs": [],
   "source": [
    "text_input = tf.keras.layers.Input(shape=(), \n",
    "                                   dtype=tf.string, name='text')\n",
    "preprocess_text = bert_preprocess_model(text_input)\n",
    "bert_output = bert_model(preprocess_text)['pooled_output']\n",
    "output = tf.keras.layers.Dense(1)(bert_output)\n",
    "small_bert = tf.keras.Model(text_input, output)\n"
   ]
  },
  {
   "cell_type": "markdown",
   "id": "3ea47915-00bb-42f5-81e4-d33d3e37b4be",
   "metadata": {},
   "source": [
    "- Probar bert con batch de prueba"
   ]
  },
  {
   "cell_type": "code",
   "execution_count": 22,
   "id": "aa876b8a-c6fa-4c9d-8819-476b70288bc9",
   "metadata": {},
   "outputs": [
    {
     "data": {
      "text/plain": [
       "<tf.Tensor: shape=(16, 1), dtype=float32, numpy=\n",
       "array([[-0.5028666 ],\n",
       "       [-0.35702294],\n",
       "       [-0.8566029 ],\n",
       "       [-1.1283555 ],\n",
       "       [-2.1734977 ],\n",
       "       [-1.2032174 ],\n",
       "       [-2.1061082 ],\n",
       "       [-2.266713  ],\n",
       "       [-1.1846704 ],\n",
       "       [-1.1561531 ],\n",
       "       [-1.4860259 ],\n",
       "       [-1.0686742 ],\n",
       "       [-0.9801764 ],\n",
       "       [-1.9095999 ],\n",
       "       [-1.4538208 ],\n",
       "       [-1.1997366 ]], dtype=float32)>"
      ]
     },
     "execution_count": 22,
     "metadata": {},
     "output_type": "execute_result"
    }
   ],
   "source": [
    "small_bert(train_text)"
   ]
  },
  {
   "cell_type": "markdown",
   "id": "ddfca56a-eb6d-418c-9b11-4a5300ab9bd1",
   "metadata": {},
   "source": [
    "- Información del modelo"
   ]
  },
  {
   "cell_type": "code",
   "execution_count": 23,
   "id": "a315c30f-f107-43fa-b5d6-1a4334ff0c3e",
   "metadata": {},
   "outputs": [
    {
     "name": "stdout",
     "output_type": "stream",
     "text": [
      "Model: \"model\"\n",
      "__________________________________________________________________________________________________\n",
      " Layer (type)                   Output Shape         Param #     Connected to                     \n",
      "==================================================================================================\n",
      " text (InputLayer)              [(None,)]            0           []                               \n",
      "                                                                                                  \n",
      " keras_layer (KerasLayer)       {'input_type_ids':   0           ['text[0][0]']                   \n",
      "                                (None, 128),                                                      \n",
      "                                 'input_mask': (Non                                               \n",
      "                                e, 128),                                                          \n",
      "                                 'input_word_ids':                                                \n",
      "                                (None, 128)}                                                      \n",
      "                                                                                                  \n",
      " keras_layer_1 (KerasLayer)     {'sequence_output':  28763649    ['keras_layer[0][0]',            \n",
      "                                 (None, 128, 512),                'keras_layer[0][1]',            \n",
      "                                 'pooled_output': (               'keras_layer[0][2]']            \n",
      "                                None, 512),                                                       \n",
      "                                 'default': (None,                                                \n",
      "                                512),                                                             \n",
      "                                 'encoder_outputs':                                               \n",
      "                                 [(None, 128, 512),                                               \n",
      "                                 (None, 128, 512),                                                \n",
      "                                 (None, 128, 512),                                                \n",
      "                                 (None, 128, 512)]}                                               \n",
      "                                                                                                  \n",
      " dense (Dense)                  (None, 1)            513         ['keras_layer_1[0][5]']          \n",
      "                                                                                                  \n",
      "==================================================================================================\n",
      "Total params: 28,764,162\n",
      "Trainable params: 513\n",
      "Non-trainable params: 28,763,649\n",
      "__________________________________________________________________________________________________\n"
     ]
    }
   ],
   "source": [
    "small_bert.summary()"
   ]
  },
  {
   "cell_type": "markdown",
   "id": "78948806-9b9b-4a4b-960b-e3668b750240",
   "metadata": {},
   "source": [
    "## Entrenamiento "
   ]
  },
  {
   "cell_type": "code",
   "execution_count": 24,
   "id": "29a2b23f-a780-4b94-b280-5feeecc07ad1",
   "metadata": {},
   "outputs": [],
   "source": [
    "loss = tf.keras.losses.BinaryCrossentropy(from_logits=True)"
   ]
  },
  {
   "cell_type": "code",
   "execution_count": 25,
   "id": "1f299f93-f2ac-4964-a2fb-bdfd7668217e",
   "metadata": {},
   "outputs": [],
   "source": [
    "opt = tf.keras.optimizers.SGD(learning_rate=0.001)"
   ]
  },
  {
   "cell_type": "code",
   "execution_count": 26,
   "id": "6578dcd0-2eca-4a94-8d6d-2efbba652d92",
   "metadata": {},
   "outputs": [],
   "source": [
    "train_loss_avg = tf.keras.metrics.Mean(name='train_loss')\n",
    "val_loss_avg = tf.keras.metrics.Mean(name='train_loss')"
   ]
  },
  {
   "cell_type": "code",
   "execution_count": 27,
   "id": "f131dd23-8c8f-450c-9a86-b5c6b71a2868",
   "metadata": {},
   "outputs": [
    {
     "data": {
      "text/plain": [
       "(1563, <tf.Tensor: shape=(), dtype=int64, numpy=1563>)"
      ]
     },
     "execution_count": 27,
     "metadata": {},
     "output_type": "execute_result"
    }
   ],
   "source": [
    "len(test_ds), tf.data.experimental.cardinality(test_ds)"
   ]
  },
  {
   "cell_type": "code",
   "execution_count": 28,
   "id": "73f48684-b2e5-4698-90e1-1ecb05d73ef9",
   "metadata": {},
   "outputs": [],
   "source": [
    "@tf.function\n",
    "def train_step(text, target):\n",
    "    with tf.GradientTape() as tape:\n",
    "        logits = small_bert(text, training=True)\n",
    "        loss_value = loss(tf.cast(target, tf.float32), logits)\n",
    "\n",
    "    gradients = tape.gradient(loss_value, small_bert.trainable_weights)\n",
    "    opt.apply_gradients(zip(gradients, small_bert.trainable_weights))\n",
    "    train_loss_avg(loss_value)\n",
    "    \n",
    "@tf.function\n",
    "def val_step(text, target):\n",
    "    with tf.GradientTape() as tape:\n",
    "        logits = small_bert(text, training=False)\n",
    "        loss_value = loss(tf.cast(target, tf.float32), logits)\n",
    "\n",
    "    val_loss_avg(loss_value)\n"
   ]
  },
  {
   "cell_type": "code",
   "execution_count": 29,
   "id": "a761811b-6555-43e6-ae7a-031c50781aab",
   "metadata": {},
   "outputs": [],
   "source": [
    "epochs = 3"
   ]
  },
  {
   "cell_type": "code",
   "execution_count": 30,
   "id": "426bc9e1-41ff-4174-be93-2e045ba30036",
   "metadata": {
    "scrolled": true,
    "tags": []
   },
   "outputs": [
    {
     "name": "stdout",
     "output_type": "stream",
     "text": [
      "Epoch: 0 Train loss: 0.7018167972564697\n",
      "Val loss: 0.6670032739639282\n",
      "Epoch: 1 Train loss: 0.6517457962036133\n",
      "Val loss: 0.6405548453330994\n",
      "Epoch: 2 Train loss: 0.6338956952095032\n",
      "Val loss: 0.6283572912216187\n"
     ]
    }
   ],
   "source": [
    "for epoch in range(epochs):\n",
    "    for text, target in train_ds:\n",
    "        train_step(text, target)\n",
    "        \n",
    "    print(f'Epoch: {epoch} Train loss: {train_loss_avg.result().numpy()}')\n",
    "    train_loss_avg.reset_states()\n",
    "    \n",
    "    for text, target in test_ds:\n",
    "        val_step(text, target)\n",
    "        \n",
    "    print(f'Val loss: {val_loss_avg.result().numpy()}')\n",
    "    val_loss_avg.reset_states()"
   ]
  },
  {
   "cell_type": "markdown",
   "id": "0d1df65d-ba82-4850-b59b-768a3cc8ff51",
   "metadata": {},
   "source": [
    "## Ejercicio\n",
    "- Probar diferentes versiones de BERT"
   ]
  }
 ],
 "metadata": {
  "kernelspec": {
   "display_name": "Python 3 (ipykernel)",
   "language": "python",
   "name": "python3"
  },
  "language_info": {
   "codemirror_mode": {
    "name": "ipython",
    "version": 3
   },
   "file_extension": ".py",
   "mimetype": "text/x-python",
   "name": "python",
   "nbconvert_exporter": "python",
   "pygments_lexer": "ipython3",
   "version": "3.7.11"
  }
 },
 "nbformat": 4,
 "nbformat_minor": 5
}

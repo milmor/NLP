{
 "cells": [
  {
   "cell_type": "markdown",
   "id": "4b00f678-39f7-4be2-aa51-cc4737fcd1a0",
   "metadata": {},
   "source": [
    "# Redes neuronales recurrentes"
   ]
  },
  {
   "cell_type": "markdown",
   "id": "c3d5ac6f-124d-40d1-8e97-ae14a28efb2a",
   "metadata": {},
   "source": [
    "- Dataset: https://www.kaggle.com/datasets/andrewmvd/cyberbullying-classification"
   ]
  },
  {
   "cell_type": "markdown",
   "id": "0908a189-2740-491b-b74f-705f2f2d1fb7",
   "metadata": {},
   "source": [
    "\n",
    "<img src=\"../img/rnn.png\" width=\"500\"/>\n",
    "\n",
    "__Imagen tomada de Goodfellow, I., Bengio, Y., & Courville, A. (2016). Deep learning. MIT press.__"
   ]
  },
  {
   "cell_type": "markdown",
   "id": "9d1cd0c3-599d-4c44-a4df-fb42b5f49bb1",
   "metadata": {},
   "source": [
    "## 1.- Conjuntos de entrenamiento y validación"
   ]
  },
  {
   "cell_type": "code",
   "execution_count": 1,
   "id": "d1458c2c-1dfe-4638-8655-a28df1ccd4ef",
   "metadata": {},
   "outputs": [],
   "source": [
    "import pandas as pd\n",
    "import matplotlib.pyplot as plt"
   ]
  },
  {
   "cell_type": "code",
   "execution_count": 2,
   "id": "6f850e02-db52-441f-99dd-41a7e08b594c",
   "metadata": {},
   "outputs": [],
   "source": [
    "df = pd.read_csv('./cyberbullying_tweets.csv')   "
   ]
  },
  {
   "cell_type": "code",
   "execution_count": 3,
   "id": "35f0db65-4358-4f2b-baa7-3cf6250519ee",
   "metadata": {},
   "outputs": [
    {
     "data": {
      "text/html": [
       "<div>\n",
       "<style scoped>\n",
       "    .dataframe tbody tr th:only-of-type {\n",
       "        vertical-align: middle;\n",
       "    }\n",
       "\n",
       "    .dataframe tbody tr th {\n",
       "        vertical-align: top;\n",
       "    }\n",
       "\n",
       "    .dataframe thead th {\n",
       "        text-align: right;\n",
       "    }\n",
       "</style>\n",
       "<table border=\"1\" class=\"dataframe\">\n",
       "  <thead>\n",
       "    <tr style=\"text-align: right;\">\n",
       "      <th></th>\n",
       "      <th>tweet_text</th>\n",
       "      <th>cyberbullying_type</th>\n",
       "    </tr>\n",
       "  </thead>\n",
       "  <tbody>\n",
       "    <tr>\n",
       "      <th>0</th>\n",
       "      <td>In other words #katandandre, your food was cra...</td>\n",
       "      <td>not_cyberbullying</td>\n",
       "    </tr>\n",
       "    <tr>\n",
       "      <th>1</th>\n",
       "      <td>Why is #aussietv so white? #MKR #theblock #ImA...</td>\n",
       "      <td>not_cyberbullying</td>\n",
       "    </tr>\n",
       "    <tr>\n",
       "      <th>2</th>\n",
       "      <td>@XochitlSuckkks a classy whore? Or more red ve...</td>\n",
       "      <td>not_cyberbullying</td>\n",
       "    </tr>\n",
       "    <tr>\n",
       "      <th>3</th>\n",
       "      <td>@Jason_Gio meh. :P  thanks for the heads up, b...</td>\n",
       "      <td>not_cyberbullying</td>\n",
       "    </tr>\n",
       "    <tr>\n",
       "      <th>4</th>\n",
       "      <td>@RudhoeEnglish This is an ISIS account pretend...</td>\n",
       "      <td>not_cyberbullying</td>\n",
       "    </tr>\n",
       "  </tbody>\n",
       "</table>\n",
       "</div>"
      ],
      "text/plain": [
       "                                          tweet_text cyberbullying_type\n",
       "0  In other words #katandandre, your food was cra...  not_cyberbullying\n",
       "1  Why is #aussietv so white? #MKR #theblock #ImA...  not_cyberbullying\n",
       "2  @XochitlSuckkks a classy whore? Or more red ve...  not_cyberbullying\n",
       "3  @Jason_Gio meh. :P  thanks for the heads up, b...  not_cyberbullying\n",
       "4  @RudhoeEnglish This is an ISIS account pretend...  not_cyberbullying"
      ]
     },
     "execution_count": 3,
     "metadata": {},
     "output_type": "execute_result"
    }
   ],
   "source": [
    "df.head()"
   ]
  },
  {
   "cell_type": "code",
   "execution_count": 4,
   "id": "cf4e6a3c-7baf-4a87-98ac-4ce53ae29d6f",
   "metadata": {
    "tags": []
   },
   "outputs": [
    {
     "data": {
      "text/plain": [
       "array(['not_cyberbullying', 'gender', 'religion', 'other_cyberbullying',\n",
       "       'age', 'ethnicity'], dtype=object)"
      ]
     },
     "execution_count": 4,
     "metadata": {},
     "output_type": "execute_result"
    }
   ],
   "source": [
    "df['cyberbullying_type'].unique()"
   ]
  },
  {
   "cell_type": "code",
   "execution_count": 5,
   "id": "d8ec7adf-396e-483f-9b08-e2696d2e8e66",
   "metadata": {
    "tags": []
   },
   "outputs": [
    {
     "data": {
      "text/plain": [
       "cyberbullying_type\n",
       "religion               7998\n",
       "age                    7992\n",
       "gender                 7973\n",
       "ethnicity              7961\n",
       "not_cyberbullying      7945\n",
       "other_cyberbullying    7823\n",
       "Name: count, dtype: int64"
      ]
     },
     "execution_count": 5,
     "metadata": {},
     "output_type": "execute_result"
    }
   ],
   "source": [
    "# Contar elementos por clase\n",
    "count = df['cyberbullying_type'].value_counts()\n",
    "count"
   ]
  },
  {
   "cell_type": "code",
   "execution_count": 6,
   "id": "3bf56b11-f00d-417f-b04a-5aedd2f656df",
   "metadata": {
    "tags": []
   },
   "outputs": [],
   "source": [
    "from sklearn.model_selection import train_test_split\n",
    "train_df, val_df= train_test_split(df, test_size = 0.15, random_state = 123)"
   ]
  },
  {
   "cell_type": "code",
   "execution_count": 7,
   "id": "7013b70e-296e-488c-80ae-eced1748a6bf",
   "metadata": {
    "tags": []
   },
   "outputs": [
    {
     "data": {
      "text/plain": [
       "cyberbullying_type\n",
       "not_cyberbullying      6826\n",
       "gender                 6821\n",
       "ethnicity              6777\n",
       "age                    6763\n",
       "religion               6743\n",
       "other_cyberbullying    6608\n",
       "Name: count, dtype: int64"
      ]
     },
     "execution_count": 7,
     "metadata": {},
     "output_type": "execute_result"
    }
   ],
   "source": [
    "train_df['cyberbullying_type'].value_counts()"
   ]
  },
  {
   "cell_type": "markdown",
   "id": "bb0ca784-81d1-4294-923f-6ae1882587d9",
   "metadata": {},
   "source": [
    "## 2.- Preprocesamiento"
   ]
  },
  {
   "cell_type": "code",
   "execution_count": 8,
   "id": "454a30f7-c59e-4522-b77a-1390eae132db",
   "metadata": {
    "tags": []
   },
   "outputs": [
    {
     "data": {
      "text/html": [
       "<div>\n",
       "<style scoped>\n",
       "    .dataframe tbody tr th:only-of-type {\n",
       "        vertical-align: middle;\n",
       "    }\n",
       "\n",
       "    .dataframe tbody tr th {\n",
       "        vertical-align: top;\n",
       "    }\n",
       "\n",
       "    .dataframe thead th {\n",
       "        text-align: right;\n",
       "    }\n",
       "</style>\n",
       "<table border=\"1\" class=\"dataframe\">\n",
       "  <thead>\n",
       "    <tr style=\"text-align: right;\">\n",
       "      <th></th>\n",
       "      <th>tweet_text</th>\n",
       "      <th>cyberbullying_type</th>\n",
       "    </tr>\n",
       "  </thead>\n",
       "  <tbody>\n",
       "    <tr>\n",
       "      <th>32620</th>\n",
       "      <td>If you’re in college and still posting about t...</td>\n",
       "      <td>4</td>\n",
       "    </tr>\n",
       "    <tr>\n",
       "      <th>9173</th>\n",
       "      <td>but, there is still the dolly magazine model c...</td>\n",
       "      <td>1</td>\n",
       "    </tr>\n",
       "    <tr>\n",
       "      <th>1466</th>\n",
       "      <td>Why am I disappointed?</td>\n",
       "      <td>0</td>\n",
       "    </tr>\n",
       "    <tr>\n",
       "      <th>32887</th>\n",
       "      <td>What was the conversation was leading up to th...</td>\n",
       "      <td>4</td>\n",
       "    </tr>\n",
       "    <tr>\n",
       "      <th>15856</th>\n",
       "      <td>“faces up to three years in prison” , “getting...</td>\n",
       "      <td>1</td>\n",
       "    </tr>\n",
       "  </tbody>\n",
       "</table>\n",
       "</div>"
      ],
      "text/plain": [
       "                                              tweet_text  cyberbullying_type\n",
       "32620  If you’re in college and still posting about t...                   4\n",
       "9173   but, there is still the dolly magazine model c...                   1\n",
       "1466                              Why am I disappointed?                   0\n",
       "32887  What was the conversation was leading up to th...                   4\n",
       "15856  “faces up to three years in prison” , “getting...                   1"
      ]
     },
     "execution_count": 8,
     "metadata": {},
     "output_type": "execute_result"
    }
   ],
   "source": [
    "# Creamos un diccionario que mapea cada etiqueta a un número entero\n",
    "labels_dict = {\n",
    "    'not_cyberbullying': 0,\n",
    "    'gender': 1,\n",
    "    'religion': 2,\n",
    "    'other_cyberbullying': 3,\n",
    "    'age': 4,\n",
    "    'ethnicity': 5\n",
    "}\n",
    "\n",
    "# Usamos la función map() para reemplazar cada etiqueta con su valor entero correspondiente\n",
    "train_df['cyberbullying_type'] = train_df['cyberbullying_type'].replace(labels_dict)\n",
    "val_df['cyberbullying_type'] = val_df['cyberbullying_type'].replace(labels_dict)\n",
    "\n",
    "train_df.head()"
   ]
  },
  {
   "cell_type": "markdown",
   "id": "82d36938-df30-4bc1-a7b8-2c8c58be37ae",
   "metadata": {
    "tags": []
   },
   "source": [
    "- Verifica cadenas vacias"
   ]
  },
  {
   "cell_type": "code",
   "execution_count": 9,
   "id": "616ec96f-a709-41b7-9e85-6262bac0cd74",
   "metadata": {},
   "outputs": [
    {
     "data": {
      "text/plain": [
       "0"
      ]
     },
     "execution_count": 9,
     "metadata": {},
     "output_type": "execute_result"
    }
   ],
   "source": [
    "train_df['tweet_text'].isna().sum()"
   ]
  },
  {
   "cell_type": "markdown",
   "id": "3eb4b12e-9ea6-492f-906c-e2a205ca0061",
   "metadata": {},
   "source": [
    "- Elimina puntuación y convierte a minúsculas\n",
    "- Se utiliza el método __str.translate()__ para eliminar todos los caracteres de puntuación mediante una tabla de traducción creada con el método __str.maketrans__. La constante string.punctuation contiene todos los caracteres de puntuación ASCII, que se eliminan de los valores en la columna"
   ]
  },
  {
   "cell_type": "code",
   "execution_count": 10,
   "id": "16ff03a8-76aa-4786-a794-e6744a45bc47",
   "metadata": {},
   "outputs": [
    {
     "data": {
      "text/plain": [
       "'!\"#$%&\\'()*+,-./:;<=>?@[\\\\]^_`{|}~'"
      ]
     },
     "execution_count": 10,
     "metadata": {},
     "output_type": "execute_result"
    }
   ],
   "source": [
    "import string\n",
    "string.punctuation"
   ]
  },
  {
   "cell_type": "code",
   "execution_count": 11,
   "id": "6a5aa290-98ec-4e71-a4e4-69efc463f8ec",
   "metadata": {},
   "outputs": [
    {
     "data": {
      "text/html": [
       "<div>\n",
       "<style scoped>\n",
       "    .dataframe tbody tr th:only-of-type {\n",
       "        vertical-align: middle;\n",
       "    }\n",
       "\n",
       "    .dataframe tbody tr th {\n",
       "        vertical-align: top;\n",
       "    }\n",
       "\n",
       "    .dataframe thead th {\n",
       "        text-align: right;\n",
       "    }\n",
       "</style>\n",
       "<table border=\"1\" class=\"dataframe\">\n",
       "  <thead>\n",
       "    <tr style=\"text-align: right;\">\n",
       "      <th></th>\n",
       "      <th>tweet_text</th>\n",
       "      <th>cyberbullying_type</th>\n",
       "    </tr>\n",
       "  </thead>\n",
       "  <tbody>\n",
       "    <tr>\n",
       "      <th>32620</th>\n",
       "      <td>if you’re in college and still posting about t...</td>\n",
       "      <td>4</td>\n",
       "    </tr>\n",
       "    <tr>\n",
       "      <th>9173</th>\n",
       "      <td>but there is still the dolly magazine model co...</td>\n",
       "      <td>1</td>\n",
       "    </tr>\n",
       "    <tr>\n",
       "      <th>1466</th>\n",
       "      <td>why am i disappointed</td>\n",
       "      <td>0</td>\n",
       "    </tr>\n",
       "    <tr>\n",
       "      <th>32887</th>\n",
       "      <td>what was the conversation was leading up to th...</td>\n",
       "      <td>4</td>\n",
       "    </tr>\n",
       "    <tr>\n",
       "      <th>15856</th>\n",
       "      <td>“faces up to three years in prison”  “getting ...</td>\n",
       "      <td>1</td>\n",
       "    </tr>\n",
       "  </tbody>\n",
       "</table>\n",
       "</div>"
      ],
      "text/plain": [
       "                                              tweet_text  cyberbullying_type\n",
       "32620  if you’re in college and still posting about t...                   4\n",
       "9173   but there is still the dolly magazine model co...                   1\n",
       "1466                               why am i disappointed                   0\n",
       "32887  what was the conversation was leading up to th...                   4\n",
       "15856  “faces up to three years in prison”  “getting ...                   1"
      ]
     },
     "execution_count": 11,
     "metadata": {},
     "output_type": "execute_result"
    }
   ],
   "source": [
    "train_df['tweet_text'] = train_df['tweet_text'].str.lower().str.translate(str.maketrans('', '', string.punctuation))\n",
    "train_df.head()"
   ]
  },
  {
   "cell_type": "code",
   "execution_count": 12,
   "id": "ee3ad12a-07bf-4535-a40d-140e89adb504",
   "metadata": {
    "tags": []
   },
   "outputs": [
    {
     "data": {
      "text/html": [
       "<div>\n",
       "<style scoped>\n",
       "    .dataframe tbody tr th:only-of-type {\n",
       "        vertical-align: middle;\n",
       "    }\n",
       "\n",
       "    .dataframe tbody tr th {\n",
       "        vertical-align: top;\n",
       "    }\n",
       "\n",
       "    .dataframe thead th {\n",
       "        text-align: right;\n",
       "    }\n",
       "</style>\n",
       "<table border=\"1\" class=\"dataframe\">\n",
       "  <thead>\n",
       "    <tr style=\"text-align: right;\">\n",
       "      <th></th>\n",
       "      <th>tweet_text</th>\n",
       "      <th>cyberbullying_type</th>\n",
       "    </tr>\n",
       "  </thead>\n",
       "  <tbody>\n",
       "    <tr>\n",
       "      <th>22180</th>\n",
       "      <td>too true their radical anti family anti bible ...</td>\n",
       "      <td>2</td>\n",
       "    </tr>\n",
       "    <tr>\n",
       "      <th>1399</th>\n",
       "      <td>this book was published in 2008</td>\n",
       "      <td>0</td>\n",
       "    </tr>\n",
       "    <tr>\n",
       "      <th>14950</th>\n",
       "      <td>rt strubbestition im not sexist but personal o...</td>\n",
       "      <td>1</td>\n",
       "    </tr>\n",
       "    <tr>\n",
       "      <th>17013</th>\n",
       "      <td>dianh4 exposefalsehood who else are we suppose...</td>\n",
       "      <td>2</td>\n",
       "    </tr>\n",
       "    <tr>\n",
       "      <th>45351</th>\n",
       "      <td>lmao u dumb rt k11agee what is the ciaa colore...</td>\n",
       "      <td>5</td>\n",
       "    </tr>\n",
       "  </tbody>\n",
       "</table>\n",
       "</div>"
      ],
      "text/plain": [
       "                                              tweet_text  cyberbullying_type\n",
       "22180  too true their radical anti family anti bible ...                   2\n",
       "1399                     this book was published in 2008                   0\n",
       "14950  rt strubbestition im not sexist but personal o...                   1\n",
       "17013  dianh4 exposefalsehood who else are we suppose...                   2\n",
       "45351  lmao u dumb rt k11agee what is the ciaa colore...                   5"
      ]
     },
     "execution_count": 12,
     "metadata": {},
     "output_type": "execute_result"
    }
   ],
   "source": [
    "val_df['tweet_text'] = val_df['tweet_text'].str.lower().str.translate(str.maketrans('', '', string.punctuation))\n",
    "val_df.head()"
   ]
  },
  {
   "cell_type": "markdown",
   "id": "a651ba97-16f3-47fd-9798-5353586f346d",
   "metadata": {},
   "source": [
    "## 2.- Pipeline"
   ]
  },
  {
   "cell_type": "code",
   "execution_count": 13,
   "id": "a0182532-66f2-4482-9630-bda5d1470d76",
   "metadata": {},
   "outputs": [],
   "source": [
    "import os\n",
    "os.environ['TF_CPP_MIN_LOG_LEVEL'] = '3' # Disable tensorflow debugging logs\n",
    "import tensorflow as tf\n",
    "from tensorflow.keras.layers import TextVectorization\n",
    "from tensorflow.keras import Sequential\n",
    "from tensorflow.keras import layers \n",
    "import re\n",
    "\n",
    "X_train = train_df['tweet_text'].values\n",
    "y_train = train_df['cyberbullying_type'].values\n",
    "\n",
    "X_val = val_df['tweet_text'].values\n",
    "y_val = val_df['cyberbullying_type'].values"
   ]
  },
  {
   "cell_type": "code",
   "execution_count": 14,
   "id": "f8896562-dd30-431b-a7a1-55d084586352",
   "metadata": {
    "tags": []
   },
   "outputs": [
    {
     "data": {
      "text/plain": [
       "(40538, 7154)"
      ]
     },
     "execution_count": 14,
     "metadata": {},
     "output_type": "execute_result"
    }
   ],
   "source": [
    "len(X_train), len(X_val)"
   ]
  },
  {
   "cell_type": "code",
   "execution_count": 15,
   "id": "36d1a088-4c8c-4851-b53f-07e3432c3870",
   "metadata": {
    "scrolled": true,
    "tags": []
   },
   "outputs": [
    {
     "name": "stdout",
     "output_type": "stream",
     "text": [
      "(<tf.Tensor: shape=(), dtype=string, numpy=b'if you\\xe2\\x80\\x99re in college and still posting about the girl you had \\xe2\\x80\\x9cbeef\\xe2\\x80\\x9d with and bullied in high school on an insta spam page you\\xe2\\x80\\x99re straight up trash move tf on sis'>, <tf.Tensor: shape=(), dtype=int64, numpy=4>)\n"
     ]
    }
   ],
   "source": [
    "raw_train_ds = tf.data.Dataset.from_tensor_slices((X_train, y_train))\n",
    "raw_val_ds = tf.data.Dataset.from_tensor_slices((X_val, y_val))\n",
    "\n",
    "for text in raw_train_ds.take(1):\n",
    "    print(text)"
   ]
  },
  {
   "cell_type": "code",
   "execution_count": 16,
   "id": "52401e10-ade1-4f2a-9de7-036b7ee85556",
   "metadata": {},
   "outputs": [],
   "source": [
    "# Tamaño de vocabulario\n",
    "vocab_size = 10000\n",
    "vectorize_layer = TextVectorization(\n",
    "    standardize=None,\n",
    "    max_tokens=vocab_size,\n",
    "    output_mode='int')\n",
    "\n",
    "# Obtener el texto sin etiquetas\n",
    "text_ds = raw_train_ds.map(lambda x, y: x)\n",
    "vectorize_layer.adapt(text_ds)"
   ]
  },
  {
   "cell_type": "code",
   "execution_count": 17,
   "id": "3ed1f5fe-0b18-4b0e-8c5d-d1f7413bb780",
   "metadata": {
    "scrolled": true,
    "tags": []
   },
   "outputs": [],
   "source": [
    "# Define a function to convert the label to a one-hot encoding\n",
    "def convert_label_to_one_hot(text, label):\n",
    "    one_hot_label = tf.one_hot(label, 6)\n",
    "    return text, one_hot_label\n",
    "\n",
    "# Apply the function to the dataset using map()\n",
    "raw_train_ds = raw_train_ds.map(convert_label_to_one_hot)\n",
    "raw_val_ds = raw_val_ds.map(convert_label_to_one_hot)"
   ]
  },
  {
   "cell_type": "code",
   "execution_count": 18,
   "id": "862068ba-6861-441c-9ee2-dcd71a818bb1",
   "metadata": {
    "tags": []
   },
   "outputs": [],
   "source": [
    "batch_size = 64\n",
    "train_ds = raw_train_ds.shuffle(33384).batch(batch_size)\n",
    "val_ds = raw_val_ds.batch(batch_size)"
   ]
  },
  {
   "cell_type": "code",
   "execution_count": 19,
   "id": "1fc023a2-3151-4426-93e0-86c4da4b201a",
   "metadata": {
    "scrolled": true,
    "tags": []
   },
   "outputs": [
    {
     "name": "stdout",
     "output_type": "stream",
     "text": [
      "tf.Tensor(\n",
      "[b'watchobserve camillehughes16 anthfieg1 getting a job and integrating is the individuals problem not the governments'\n",
      " b'typical twitter left wing haters we know they support the radical muslim stuff they ban christians and conservativesnorthing new'\n",
      " b'angelalynn im saying black ppl are disgusting d i would know i have a few niggers in my family d'\n",
      " b'as do i which is why i support the first amendment with respect to the establishment of religion i do know that about radical islam but don\\xe2\\x80\\x99t christians share the same belief the doj is currently considering whether christian employers can mandate that women wear skirts 12'\n",
      " b'anyway all im saying is its all or none if we going to joke about aids rape gay mental disorders body shapes jobs degrees so be it'\n",
      " b'goodwoodnyc obviously your the dumbass for not knowing where the fuck it is bitchhhhh  dumb ass nigger  smh'\n",
      " b'rt deanowen118 yesyouresexist phildoran21 typical woman sticking her nose in'\n",
      " b'rudawenglish utterly insane article'\n",
      " b'realityforger battleaxe2015 email if you dont mind gtgt  crashoverridenw is httptcoenpjtyigwj im randirandiio'\n",
      " b'i don\\xe2\\x80\\x99t even know why i was bullied i don\\xe2\\x80\\x99t think bullies need a reason i didn\\xe2\\x80\\x99t fit in with the popular crowd so that was enough for them i guess i got a pixie cut in high school and heard ppl whispering \\xe2\\x80\\x9cdyke\\xe2\\x80\\x9d in the halls because apparently short hair  attracted to girls'\n",
      " b'realityforger excusemysarcasm techyfolks spacekatgal lol all my tweets are properly geotagged'\n",
      " b'zip your hair looks amazing'\n",
      " b'you tweet this like its a bad thing we want progress we dont want to go backwards even further with trump whos never progressed from being a grade school bully with daddys money'\n",
      " b'gsxtah fuck you dumb nigger coon i know but you da sis'\n",
      " b'remember in march johns hopkins predicted that india will have 100 million coronavirus cases by the end of july but you idiots wasted all the time blaming muslims capturing pigeons and yelling pakistan pakistan on tv now get ready'\n",
      " b'i fucking want ash back i need her back mkr'\n",
      " b'chloemathews u would think that bully lol d x'\n",
      " b'kodyjackson a nigger is a black person thats been around since fucking old times you sound dumb as fuck'\n",
      " b'alton tipoff classic tonight 600pm northwest academy vs ofallon 730pm jacksonville vs alton'\n",
      " b'unskilled talentless school bullies are attracted to it sadly'\n",
      " b'this girl tried to say we were friends in high school ma\\xe2\\x80\\x99am you bullied me'\n",
      " b'idk maybe a dumb nigger hoe lol rt marchsown11 nashellbadu but i fuck for all 3 reasons what does that make me'\n",
      " b'juliaferraioli i have those p'\n",
      " b'branderrsxoxo is truly a dumb fuck and truly fucked up by calling obama a nigger'\n",
      " b'i dont have to be american to see idiocy  race baiting i live a country where racism is in constitution putting me a muslim ahead of everyone else what you have there its hardly racism just bunch of hysterical amp virtue signalling idiots with police brutality problem'\n",
      " b'israel has never started a war with muslim jihad terrorist israel has the right to defend israel jihad terrorists should be permanently stopped on a global level next to abortion jihad terrorism is the biggest threat to humanity'\n",
      " b'so you dont have an answer for why muslims hate kalam sab its ok all idiots and bigots hated him mohammed should be no different'\n",
      " b'rt bookshopaddict miss 9 has just asked why didnt they do the sorbet first to ensure that its frozen in time  mkr'\n",
      " b'gross homophobia in simon hoggarts lab12 fringe sketch any chance of uk media ditching the gay prison rape jokes httpowlye7qpn'\n",
      " b'neurodivergent people as well y\\xe2\\x80\\x99all are some real middle school bullies like grow up have a heart some empathy'\n",
      " b'how are you going to tell me how to feel i mean remember not too long ago we still held signs \\xe2\\x80\\x9cno blacks no dogs no irish\\xe2\\x80\\x9d and in the sixties the signs didn\\xe2\\x80\\x99t just say niggers monkeys and black the also said no\\xe2\\x80\\x9dcoloured\\xe2\\x80\\x9d that\\xe2\\x80\\x99s the issue amber knew it\\xe2\\x80\\x99s a very disgusting term'\n",
      " b'antifeminist youtuber doubles down on vile jess phillips rape joke while leaping to the defence of a gay men\\xe2\\x80\\x99s rights activist'\n",
      " b'what the hell people what the hell im so mad tw  drug use ableism e v e r y w h e r e abuse suicide jokes rape jokes gay slur ableist slurs and im probably forgetting some  ill look through my notes asap'\n",
      " b'hindu religion stood for humanity no jihadno conversions when hindu will become terrorist then there will be no more islam in these country so congress and its allies dont force hindu to become terrorist bharat mata ki jai'\n",
      " b'sudixitca a few manufacturing jobs are already migrating back to the us  the chinese wont work cheap forever'\n",
      " b'lithobolos politicalant zaibatsunews the violence is always initiated by the muslims mohammed started it proof httptcolyyeggfac7'\n",
      " b'ed sheeran give me love fucking class \\xe2\\x9d\\xa4'\n",
      " b'nope bryanurns call me sexist but no shave november is only for guys'\n",
      " b'call the glock bisexual female trait the way it buss for you and yo bitch'\n",
      " b'andrewm800 fuck off you led me on dumb nigger'\n",
      " b'rt khalvy22 women shouldnt be football announcers notsexist justannoyed'\n",
      " b'gavinatkinson karinjiri devinteske i miss sysinstall '\n",
      " b'that girl who bullied you in high school probably has be kind in her bio alright then hun'\n",
      " b'after nancy binay skin colour puns gay filipino comedians rape joke incurs   international business times au httpfbmerxmuje3t'\n",
      " b'rt mkriegbaumjr call me sexist but if you need a specific training segment for coaching women it defeats the purpose of equality across\\xe2\\x80\\xa6'\n",
      " b'kat and andre are filthy molls mkr'\n",
      " b'useful idiot muslim ban was real tax cuts for the wealthy environmental policies that pollute white power do you see what we see or is it a cult'\n",
      " b'memoriesinschool fire extinguisher with kappooww'\n",
      " b'realandillusory  ranting idiot'\n",
      " b'you are bullies high school bullies carlawheezer saavbrianna'\n",
      " b'ben shapiro spotted tweeting about how scary gays amp women are fortunately scrowder told him a funny rape joke amp made it all better'\n",
      " b'wtf you really are ignorant but your opinion doesnt matter 2terms  rt tayyoung fuck obama dumb ass nigger'\n",
      " b'news miley na lista dos famosos que j\\xc3\\xa1 sufreram de bullying httptcoxbm1xwc via mrcyruscom'\n",
      " b'rt sunkensomething freebsdgirl i was being serious it is about ethics not a hate campaign'\n",
      " b'chilblane yay i went last year and had to make new friends i hate making new friends i didnt know anyone else going'\n",
      " b'waise trump ne us economy achi nahi sambhali just did xcellent stupendous sirf bhashanbazi nahi kareaur hindu hindu support agnst radical islamic pak jihadis who use 2 kill nd killed number of christians americans europeanshope best for him in comin potus election v support him'\n",
      " b'wow hes dumb that little nigger has a girl tryna be all fresh with me da fuck is wrong with you '\n",
      " b'isn\\xe2\\x80\\x99t it sad how people now live in fear to speak up in this country this is what trump and his deplorables have done they are the bullies we all hated in school fear sells but truthmatters votebluetoendthisnightmare if you\\xe2\\x80\\x99re afraid to use your voice use your pen biden'\n",
      " b'you people are pure idiots chinese will not even allow to be muslims and will treat like iugurs'\n",
      " b'christian woman says it is time to show courage and stand up to tyranny httpswwwbitchutecomvideobmopvldchekn bitchute this lady is so brave and i am so proud she is standing up for our rights'\n",
      " b'me and many african americans and blacks believe that the word negro is ignorant and racist dont you realize we have been called negro since the days of slavery along with nigger nigga coon etc and no it wasnt the spanish people saying it it was white people saying it'\n",
      " b'the radical democrat antilife position will cost them the support of prolife groups like christians mormons orthodox jews catholics amp muslims estimated 21 million prolife dems their extreme views on abortion amp infanticide will cause redtsunami2020 just walkaway'\n",
      " b'can someone sum this up before i call this guy retarded httpstcoyuqveucvia'\n",
      " b'watching other bsd devs tell roguestar hes wrong and it is delicious'], shape=(64,), dtype=string) tf.Tensor(\n",
      "[[1. 0. 0. 0. 0. 0.]\n",
      " [0. 0. 1. 0. 0. 0.]\n",
      " [0. 0. 0. 0. 0. 1.]\n",
      " [0. 0. 1. 0. 0. 0.]\n",
      " [0. 1. 0. 0. 0. 0.]\n",
      " [0. 0. 0. 0. 0. 1.]\n",
      " [0. 1. 0. 0. 0. 0.]\n",
      " [1. 0. 0. 0. 0. 0.]\n",
      " [0. 0. 0. 1. 0. 0.]\n",
      " [0. 0. 0. 0. 1. 0.]\n",
      " [0. 0. 0. 1. 0. 0.]\n",
      " [0. 0. 0. 1. 0. 0.]\n",
      " [0. 0. 0. 0. 1. 0.]\n",
      " [0. 0. 0. 0. 0. 1.]\n",
      " [0. 0. 1. 0. 0. 0.]\n",
      " [1. 0. 0. 0. 0. 0.]\n",
      " [0. 0. 0. 1. 0. 0.]\n",
      " [0. 0. 0. 0. 0. 1.]\n",
      " [1. 0. 0. 0. 0. 0.]\n",
      " [0. 0. 0. 0. 1. 0.]\n",
      " [0. 0. 0. 0. 1. 0.]\n",
      " [0. 0. 0. 0. 0. 1.]\n",
      " [1. 0. 0. 0. 0. 0.]\n",
      " [0. 0. 0. 0. 0. 1.]\n",
      " [0. 0. 1. 0. 0. 0.]\n",
      " [0. 0. 1. 0. 0. 0.]\n",
      " [0. 0. 1. 0. 0. 0.]\n",
      " [1. 0. 0. 0. 0. 0.]\n",
      " [0. 1. 0. 0. 0. 0.]\n",
      " [0. 0. 0. 0. 1. 0.]\n",
      " [0. 0. 0. 0. 0. 1.]\n",
      " [0. 1. 0. 0. 0. 0.]\n",
      " [0. 1. 0. 0. 0. 0.]\n",
      " [0. 0. 1. 0. 0. 0.]\n",
      " [1. 0. 0. 0. 0. 0.]\n",
      " [0. 0. 1. 0. 0. 0.]\n",
      " [1. 0. 0. 0. 0. 0.]\n",
      " [0. 1. 0. 0. 0. 0.]\n",
      " [0. 1. 0. 0. 0. 0.]\n",
      " [0. 0. 0. 0. 0. 1.]\n",
      " [0. 1. 0. 0. 0. 0.]\n",
      " [0. 0. 0. 1. 0. 0.]\n",
      " [0. 0. 0. 0. 1. 0.]\n",
      " [0. 1. 0. 0. 0. 0.]\n",
      " [0. 1. 0. 0. 0. 0.]\n",
      " [1. 0. 0. 0. 0. 0.]\n",
      " [0. 0. 1. 0. 0. 0.]\n",
      " [1. 0. 0. 0. 0. 0.]\n",
      " [1. 0. 0. 0. 0. 0.]\n",
      " [0. 0. 0. 0. 1. 0.]\n",
      " [0. 1. 0. 0. 0. 0.]\n",
      " [0. 0. 0. 0. 0. 1.]\n",
      " [1. 0. 0. 0. 0. 0.]\n",
      " [1. 0. 0. 0. 0. 0.]\n",
      " [0. 0. 0. 1. 0. 0.]\n",
      " [0. 0. 1. 0. 0. 0.]\n",
      " [0. 0. 0. 0. 0. 1.]\n",
      " [0. 0. 0. 0. 1. 0.]\n",
      " [0. 0. 1. 0. 0. 0.]\n",
      " [0. 0. 1. 0. 0. 0.]\n",
      " [0. 0. 0. 0. 0. 1.]\n",
      " [0. 0. 1. 0. 0. 0.]\n",
      " [0. 1. 0. 0. 0. 0.]\n",
      " [0. 0. 0. 1. 0. 0.]], shape=(64, 6), dtype=float32)\n"
     ]
    }
   ],
   "source": [
    "for inp, target in train_ds.take(1):\n",
    "    print(inp, target)"
   ]
  },
  {
   "cell_type": "code",
   "execution_count": 20,
   "id": "c31ebadd-1c86-4c71-886f-32adab6e453f",
   "metadata": {
    "tags": []
   },
   "outputs": [
    {
     "data": {
      "text/plain": [
       "<tf.Tensor: shape=(64, 54), dtype=int64, numpy=\n",
       "array([[5820, 5733,    1, ...,    0,    0,    0],\n",
       "       [1337,  221,  350, ...,    0,    0,    0],\n",
       "       [   1,   50,  191, ...,    0,    0,    0],\n",
       "       ...,\n",
       "       [   2,  161, 1741, ...,    0,    0,    0],\n",
       "       [  73,  175, 2738, ...,    0,    0,    0],\n",
       "       [ 421,  125, 4459, ...,    0,    0,    0]])>"
      ]
     },
     "execution_count": 20,
     "metadata": {},
     "output_type": "execute_result"
    }
   ],
   "source": [
    "vectorize_layer(inp)"
   ]
  },
  {
   "cell_type": "markdown",
   "id": "938c3502-a5d2-4124-a485-00046a013ed2",
   "metadata": {
    "tags": []
   },
   "source": [
    "## 3.- Modelo\n",
    "### RNN simple\n",
    "\n",
    "RNN:\n",
    "\\begin{equation}\n",
    "h_t = f(Wx_t + Uh_{t-1} + b)\n",
    "\\end{equation}"
   ]
  },
  {
   "cell_type": "code",
   "execution_count": 21,
   "id": "3aaed4f7-97b6-41c6-a94a-ad749044536a",
   "metadata": {
    "tags": []
   },
   "outputs": [],
   "source": [
    "epochs = 10\n",
    "lr = 0.001"
   ]
  },
  {
   "cell_type": "code",
   "execution_count": 22,
   "id": "fc440688-eeec-43ed-85c9-0cf1482e9362",
   "metadata": {
    "tags": []
   },
   "outputs": [],
   "source": [
    "rnn = Sequential([\n",
    "  vectorize_layer,\n",
    "  layers.Embedding(vocab_size, 128, name=\"embedding\"),\n",
    "  layers.SimpleRNN(128),\n",
    "  layers.Dense(16, activation='relu'),\n",
    "  layers.Dense(16, activation='relu'),\n",
    "  layers.Dense(6)\n",
    "])\n",
    "\n",
    "opt = tf.keras.optimizers.Adam(learning_rate=lr)"
   ]
  },
  {
   "cell_type": "code",
   "execution_count": 23,
   "id": "f1a28c86-cea1-4492-ab77-5a45d922917d",
   "metadata": {
    "tags": []
   },
   "outputs": [],
   "source": [
    "rnn.compile(loss=tf.keras.losses.CategoricalCrossentropy(from_logits=True),\n",
    "              optimizer=opt,\n",
    "              metrics=['accuracy'])"
   ]
  },
  {
   "cell_type": "code",
   "execution_count": 24,
   "id": "5ac0bedf-540e-4a46-8dd6-899a9bd2933d",
   "metadata": {
    "scrolled": true,
    "tags": []
   },
   "outputs": [
    {
     "data": {
      "text/plain": [
       "<tf.Tensor: shape=(64, 6), dtype=float32, numpy=\n",
       "array([[-2.26814952e-02, -1.01329215e-01,  1.03954272e-02,\n",
       "         1.27813682e-01,  6.82731569e-02, -1.10480726e-01],\n",
       "       [-9.02203470e-03, -8.21506381e-02, -6.59239590e-02,\n",
       "         8.70207697e-02, -7.68397050e-03, -8.03053901e-02],\n",
       "       [-3.52809019e-02, -1.12221360e-01, -2.44859513e-02,\n",
       "         1.15790620e-01,  2.57313941e-02, -1.04408160e-01],\n",
       "       [ 1.68709084e-01, -2.38866732e-02, -1.45579174e-01,\n",
       "         4.35006879e-02,  6.81654736e-02, -1.15028404e-01],\n",
       "       [-2.67542657e-02, -7.73955509e-02, -1.13496855e-02,\n",
       "         1.12816736e-01,  1.45362848e-02, -1.07416600e-01],\n",
       "       [-1.37656918e-02, -8.25702921e-02, -4.99851368e-02,\n",
       "         9.31052566e-02, -1.49880175e-03, -6.79031760e-02],\n",
       "       [-1.71133913e-02, -6.92142397e-02, -2.64255945e-02,\n",
       "         8.63202512e-02,  2.59897532e-03, -6.86430708e-02],\n",
       "       [ 1.44796846e-02, -3.74794677e-02, -1.36361294e-03,\n",
       "         1.01875454e-01,  2.48797406e-02, -3.06590851e-02],\n",
       "       [ 1.63706876e-02, -6.72056451e-02, -1.31734787e-02,\n",
       "         1.38739467e-01,  2.60307062e-02, -5.94831593e-02],\n",
       "       [-6.12873808e-02, -3.97109687e-02,  6.65029362e-02,\n",
       "         2.95914290e-03,  1.39790729e-01, -5.44381402e-02],\n",
       "       [-1.97703615e-02, -4.49804254e-02,  1.59198493e-02,\n",
       "         6.66798204e-02,  4.32337001e-02, -4.79318313e-02],\n",
       "       [ 1.17776850e-02, -3.72038484e-02,  3.39454669e-03,\n",
       "         9.81950164e-02,  3.22329774e-02, -3.44304629e-02],\n",
       "       [-6.40567839e-02, -1.28518313e-01, -9.86201838e-02,\n",
       "         1.19906560e-01, -1.35041983e-03, -1.01383232e-01],\n",
       "       [-1.30059049e-02, -7.50876665e-02, -4.82161008e-02,\n",
       "         8.12017694e-02, -1.35968560e-02, -6.93397745e-02],\n",
       "       [ 1.99069809e-02, -1.39485165e-01, -9.74230096e-02,\n",
       "         1.85438976e-01,  1.27019584e-02, -2.17991903e-01],\n",
       "       [-7.21540814e-03, -3.62188704e-02, -2.66021187e-03,\n",
       "         9.42889228e-02,  2.68944452e-04, -1.32850781e-02],\n",
       "       [-2.86702495e-02, -6.12260513e-02,  7.28197803e-04,\n",
       "         7.86772892e-02,  1.47184022e-02, -5.63761704e-02],\n",
       "       [ 1.40906526e-02, -1.03698015e-01, -1.09216990e-02,\n",
       "         1.61832184e-01,  8.61063600e-02, -1.18461184e-01],\n",
       "       [-5.40174954e-02, -8.74316543e-02, -5.74472733e-03,\n",
       "         1.21752568e-01, -4.36580885e-05, -6.08357340e-02],\n",
       "       [-4.86468337e-02, -1.12152137e-01, -5.15672518e-03,\n",
       "         1.41788706e-01,  3.02312635e-02, -9.56643671e-02],\n",
       "       [-2.71712579e-02, -4.29398604e-02, -1.49753280e-02,\n",
       "         7.65485987e-02, -1.55091053e-02, -2.06715241e-02],\n",
       "       [ 2.57724617e-03, -6.92806616e-02,  1.21947285e-02,\n",
       "         1.36471242e-01,  5.86029999e-02, -7.74243698e-02],\n",
       "       [ 9.64750350e-03, -2.80208047e-02,  2.70354468e-03,\n",
       "         8.85572284e-02,  1.75321884e-02, -1.57364346e-02],\n",
       "       [-2.87478566e-02, -7.83825368e-02, -6.01918437e-03,\n",
       "         7.02869892e-02,  4.56332974e-02, -8.53081942e-02],\n",
       "       [ 2.53301505e-02, -3.40107083e-02, -2.38566715e-02,\n",
       "         6.72191381e-02,  3.90243456e-02, -6.55850917e-02],\n",
       "       [ 3.13446894e-02, -4.84156143e-03,  1.51195154e-02,\n",
       "         2.98691564e-03,  9.11744535e-02, -3.38121578e-02],\n",
       "       [-6.72566071e-02, -1.34714276e-01,  1.20326551e-02,\n",
       "         1.66350201e-01,  5.86631410e-02, -1.27292141e-01],\n",
       "       [-5.77715635e-02, -1.21466577e-01,  2.25108135e-02,\n",
       "         1.48483157e-01,  8.66679773e-02, -1.09369084e-01],\n",
       "       [ 3.24040535e-03, -7.09886253e-02, -5.14091402e-02,\n",
       "         9.74919200e-02, -7.50212744e-03, -9.26570222e-02],\n",
       "       [-5.22020943e-02, -1.27261013e-01,  1.33158127e-02,\n",
       "         1.32823423e-01,  8.18285719e-02, -1.25482619e-01],\n",
       "       [ 3.33135785e-03,  9.37626585e-02,  1.21906377e-01,\n",
       "         6.22998923e-02,  3.16272676e-02, -1.34792048e-02],\n",
       "       [-7.48668658e-03, -9.86604393e-02, -6.18729256e-02,\n",
       "         1.34137973e-01, -1.75645761e-02, -1.12110004e-01],\n",
       "       [-1.40269995e-02, -2.06746645e-02, -3.24589154e-03,\n",
       "         2.83680335e-02,  4.96130809e-03, -7.35761551e-03],\n",
       "       [ 1.61126498e-02, -1.76379830e-01, -1.24004617e-01,\n",
       "         1.35088786e-01,  3.71093638e-02, -2.00630441e-01],\n",
       "       [-2.79251207e-02, -9.48808715e-02, -4.95363362e-02,\n",
       "         1.12522759e-01, -1.89886652e-02, -7.84673616e-02],\n",
       "       [ 2.06848979e-03, -3.20833027e-02, -6.83188345e-03,\n",
       "         4.09012809e-02,  2.60464512e-02, -4.15019244e-02],\n",
       "       [-3.53650227e-02, -8.95500183e-02, -2.89618634e-02,\n",
       "         1.28176391e-01, -2.02746987e-02, -6.52983710e-02],\n",
       "       [-6.40367949e-03, -3.53159308e-02,  1.84409088e-03,\n",
       "         9.18461159e-02,  1.82184309e-03, -1.30687291e-02],\n",
       "       [-2.23909914e-02, -5.42794354e-02,  2.15914007e-02,\n",
       "         8.69102180e-02,  4.34541628e-02, -5.33497259e-02],\n",
       "       [-4.08458617e-03, -6.53790683e-02, -2.42912658e-02,\n",
       "         5.87716103e-02,  1.86357293e-02, -7.07164332e-02],\n",
       "       [-1.81563720e-02, -7.15907812e-02, -2.35858187e-02,\n",
       "         9.75110456e-02, -8.47477745e-03, -5.81466556e-02],\n",
       "       [-3.73301767e-02, -4.88501117e-02,  1.49978613e-02,\n",
       "         9.70697030e-02,  1.25622600e-02, -2.82228049e-02],\n",
       "       [-1.12034623e-02, -1.79510284e-02,  1.08432211e-02,\n",
       "         5.65431491e-02,  3.35474106e-05, -3.19267809e-02],\n",
       "       [-3.11649893e-03, -1.25470862e-01, -7.38989562e-02,\n",
       "         1.30798578e-01,  6.64473162e-04, -1.22245096e-01],\n",
       "       [-3.76501307e-02, -1.57803759e-01, -3.98667008e-02,\n",
       "         1.20254293e-01,  6.49725199e-02, -1.63849220e-01],\n",
       "       [-4.39557210e-02, -4.62140478e-02,  1.13731045e-02,\n",
       "         1.01239629e-01, -1.60418525e-02, -1.57703087e-02],\n",
       "       [-2.02005859e-02, -1.19377591e-01, -1.81529578e-02,\n",
       "         1.33876771e-01,  5.37415855e-02, -1.29635096e-01],\n",
       "       [-5.19693047e-02, -5.33127263e-02,  1.08985705e-02,\n",
       "         8.01938474e-02,  3.16291512e-03, -2.92313993e-02],\n",
       "       [-3.46634537e-02, -5.02147488e-02, -1.33401044e-02,\n",
       "         9.28339884e-02, -2.30996832e-02, -2.10691579e-02],\n",
       "       [-2.94922087e-02, -5.29073514e-02,  2.55652401e-03,\n",
       "         6.48390874e-02,  1.70087721e-02, -4.25850973e-02],\n",
       "       [ 7.72719551e-03, -8.50301459e-02, -3.24429162e-02,\n",
       "         1.52164578e-01,  1.39998626e-02, -9.05337408e-02],\n",
       "       [-1.22240987e-02, -1.34169221e-01, -1.97740030e-02,\n",
       "         1.61534831e-01,  8.17298889e-02, -1.53746501e-01],\n",
       "       [-5.00933006e-02, -9.87487733e-02, -4.26521823e-02,\n",
       "         1.55274227e-01, -4.21476476e-02, -5.94775788e-02],\n",
       "       [-1.32094221e-02, -1.45458341e-01, -3.83280553e-02,\n",
       "         1.57482997e-01,  5.03402092e-02, -1.53908432e-01],\n",
       "       [-2.41635833e-03, -2.03810409e-02, -7.17298640e-03,\n",
       "         3.16836089e-02,  1.46677601e-03, -1.71005744e-02],\n",
       "       [ 4.58900398e-03,  2.39408500e-02,  1.37473177e-02,\n",
       "         9.21126921e-03, -1.66249287e-04,  4.85880971e-02],\n",
       "       [ 8.62376615e-02, -8.75142142e-02, -2.55789347e-02,\n",
       "         6.90348074e-02,  1.29055932e-01, -1.55471057e-01],\n",
       "       [ 3.76999825e-02, -6.66229799e-02, -4.24239151e-02,\n",
       "         4.92237583e-02,  5.61824851e-02, -1.08393088e-01],\n",
       "       [-1.97958853e-02, -6.53420687e-02, -4.25671004e-02,\n",
       "         1.09182142e-01, -2.49106884e-02, -6.26100525e-02],\n",
       "       [-6.70158565e-02, -7.54609257e-02, -1.11391721e-02,\n",
       "         1.13657467e-01,  2.94856206e-02, -7.08970204e-02],\n",
       "       [-9.16814525e-03, -5.40554933e-02, -4.62322906e-02,\n",
       "         1.14783593e-01, -2.93151587e-02, -6.44450113e-02],\n",
       "       [-1.42480405e-02, -1.56990871e-01, -5.04724868e-02,\n",
       "         1.34284914e-01,  5.90669699e-02, -1.92014620e-01],\n",
       "       [ 6.19971612e-03, -2.59641204e-02,  2.64788214e-02,\n",
       "         1.14184186e-01,  4.80026454e-02, -8.21024552e-03],\n",
       "       [ 1.29253687e-02, -4.34541851e-02,  3.81904515e-03,\n",
       "         9.64342803e-02,  4.54788059e-02, -4.92043048e-02]], dtype=float32)>"
      ]
     },
     "execution_count": 24,
     "metadata": {},
     "output_type": "execute_result"
    }
   ],
   "source": [
    "rnn(inp)"
   ]
  },
  {
   "cell_type": "code",
   "execution_count": 25,
   "id": "d1114cb6-8d57-4449-8c0c-3f557caf9b8c",
   "metadata": {
    "tags": []
   },
   "outputs": [
    {
     "name": "stdout",
     "output_type": "stream",
     "text": [
      "Model: \"sequential\"\n",
      "_________________________________________________________________\n",
      " Layer (type)                Output Shape              Param #   \n",
      "=================================================================\n",
      " text_vectorization (TextVec  (None, None)             0         \n",
      " torization)                                                     \n",
      "                                                                 \n",
      " embedding (Embedding)       (None, None, 128)         1280000   \n",
      "                                                                 \n",
      " simple_rnn (SimpleRNN)      (None, 128)               32896     \n",
      "                                                                 \n",
      " dense (Dense)               (None, 16)                2064      \n",
      "                                                                 \n",
      " dense_1 (Dense)             (None, 16)                272       \n",
      "                                                                 \n",
      " dense_2 (Dense)             (None, 6)                 102       \n",
      "                                                                 \n",
      "=================================================================\n",
      "Total params: 1,315,334\n",
      "Trainable params: 1,315,334\n",
      "Non-trainable params: 0\n",
      "_________________________________________________________________\n"
     ]
    }
   ],
   "source": [
    "rnn.summary()"
   ]
  },
  {
   "cell_type": "code",
   "execution_count": 26,
   "id": "375d4ab4-d619-4ce2-a6d0-010edf5c8676",
   "metadata": {
    "scrolled": true,
    "tags": []
   },
   "outputs": [
    {
     "name": "stdout",
     "output_type": "stream",
     "text": [
      "Epoch 1/10\n",
      "634/634 [==============================] - 28s 41ms/step - loss: 1.7954 - accuracy: 0.1694 - val_loss: 1.7916 - val_accuracy: 0.1676\n",
      "Epoch 2/10\n",
      "634/634 [==============================] - 12s 19ms/step - loss: 1.7986 - accuracy: 0.1688 - val_loss: 1.7964 - val_accuracy: 0.1654\n",
      "Epoch 3/10\n",
      "634/634 [==============================] - 10s 16ms/step - loss: 1.7935 - accuracy: 0.1646 - val_loss: 1.7929 - val_accuracy: 0.1512\n",
      "Epoch 4/10\n",
      "634/634 [==============================] - 10s 15ms/step - loss: 1.7920 - accuracy: 0.1687 - val_loss: 1.7919 - val_accuracy: 0.1570\n",
      "Epoch 5/10\n",
      "634/634 [==============================] - 9s 15ms/step - loss: 1.7919 - accuracy: 0.1662 - val_loss: 1.7919 - val_accuracy: 0.1655\n",
      "Epoch 6/10\n",
      "634/634 [==============================] - 9s 14ms/step - loss: 1.7918 - accuracy: 0.1666 - val_loss: 1.7921 - val_accuracy: 0.1610\n",
      "Epoch 7/10\n",
      "634/634 [==============================] - 9s 15ms/step - loss: 1.7918 - accuracy: 0.1686 - val_loss: 1.7919 - val_accuracy: 0.1610\n",
      "Epoch 8/10\n",
      "634/634 [==============================] - 9s 14ms/step - loss: 1.7918 - accuracy: 0.1677 - val_loss: 1.7919 - val_accuracy: 0.1754\n",
      "Epoch 9/10\n",
      "634/634 [==============================] - 9s 13ms/step - loss: 1.7918 - accuracy: 0.1667 - val_loss: 1.7920 - val_accuracy: 0.1564\n",
      "Epoch 10/10\n",
      "634/634 [==============================] - 9s 13ms/step - loss: 1.7918 - accuracy: 0.1645 - val_loss: 1.7921 - val_accuracy: 0.1564\n"
     ]
    }
   ],
   "source": [
    "history = rnn.fit(\n",
    "    train_ds,\n",
    "    validation_data=val_ds,\n",
    "    epochs=epochs)"
   ]
  },
  {
   "cell_type": "markdown",
   "id": "95103da1-c5aa-4941-8300-8745a41964f3",
   "metadata": {},
   "source": [
    "### LSTM"
   ]
  },
  {
   "cell_type": "markdown",
   "id": "2b3e68a5-da53-401c-9232-9c0b611cceab",
   "metadata": {},
   "source": [
    "LSTM:\n",
    "\n",
    "\\begin{align}\n",
    "i_t & = \\sigma(W^ix_t + U^ih_{t-1} + b^i) \\\\\n",
    "f_t & = \\sigma(W^fx_t + U^fh_{t-1} + b^f) \\\\\n",
    "o_t & = \\sigma(W^ox_t + U^oh_{t-1} + b^o) \\\\\n",
    "g_t & = \\text{tanh}(W^gx_t + U^gh_{t-1} + b^g) \\\\\n",
    "c_t & = f_t \\odot c_{t-1} + i_t \\odot g_t\\\\\n",
    "h_t & = o_t \\odot \\text{tanh}(c_t) \\\\\n",
    "\\end{align}"
   ]
  },
  {
   "cell_type": "code",
   "execution_count": 27,
   "id": "75da4733-55d6-443e-9681-1c0e6fcc160b",
   "metadata": {
    "tags": []
   },
   "outputs": [],
   "source": [
    "lstm = Sequential([\n",
    "  vectorize_layer,\n",
    "  layers.Embedding(vocab_size, 128, name=\"embedding\"),\n",
    "  layers.LSTM(128),\n",
    "  layers.Dense(16, activation='relu'),\n",
    "  layers.Dense(16, activation='relu'),\n",
    "  layers.Dense(6)\n",
    "])\n",
    "\n",
    "opt = tf.keras.optimizers.Adam(learning_rate=lr)"
   ]
  },
  {
   "cell_type": "code",
   "execution_count": 28,
   "id": "77d2f088-3f08-4a4f-8033-0a58835746ae",
   "metadata": {
    "tags": []
   },
   "outputs": [],
   "source": [
    "lstm.compile(loss=tf.keras.losses.CategoricalCrossentropy(from_logits=True),\n",
    "              optimizer=opt,\n",
    "              metrics=['accuracy'])"
   ]
  },
  {
   "cell_type": "code",
   "execution_count": 29,
   "id": "6a14a9f9-127a-41f8-aaa2-d99adcf67e9a",
   "metadata": {
    "scrolled": true,
    "tags": []
   },
   "outputs": [
    {
     "data": {
      "text/plain": [
       "<tf.Tensor: shape=(64, 6), dtype=float32, numpy=\n",
       "array([[ 0.0005188 , -0.00818101, -0.01168109,  0.02109315, -0.00928995,\n",
       "        -0.0201247 ],\n",
       "       [ 0.0005471 , -0.00816265, -0.01167257,  0.02111037, -0.00928508,\n",
       "        -0.02012055],\n",
       "       [ 0.00057869, -0.00816122, -0.01171008,  0.02110865, -0.00927903,\n",
       "        -0.02008634],\n",
       "       [ 0.00231167, -0.00549055, -0.01031002,  0.01971156, -0.00947667,\n",
       "        -0.0163054 ],\n",
       "       [ 0.0008036 , -0.00806   , -0.01173102,  0.02117559, -0.00923703,\n",
       "        -0.01997835],\n",
       "       [ 0.0005478 , -0.00815175, -0.01167312,  0.0210954 , -0.00927698,\n",
       "        -0.02009432],\n",
       "       [ 0.00049894, -0.00817821, -0.0116771 ,  0.02107974, -0.0093001 ,\n",
       "        -0.02012012],\n",
       "       [ 0.00048773, -0.00818575, -0.01167513,  0.02107684, -0.00930375,\n",
       "        -0.02012983],\n",
       "       [ 0.0005054 , -0.00817948, -0.01167461,  0.02108784, -0.00929565,\n",
       "        -0.02012701],\n",
       "       [-0.00183748, -0.00700448, -0.0022529 ,  0.0015334 , -0.0025258 ,\n",
       "        -0.00694682],\n",
       "       [ 0.00049605, -0.00817469, -0.01167075,  0.02108145, -0.00930152,\n",
       "        -0.02012273],\n",
       "       [ 0.00048866, -0.00818395, -0.01167401,  0.02107738, -0.00930446,\n",
       "        -0.02012896],\n",
       "       [ 0.00114334, -0.00800357, -0.01184053,  0.02137096, -0.0092852 ,\n",
       "        -0.01995087],\n",
       "       [ 0.00050017, -0.00818213, -0.01167407,  0.0210815 , -0.00929671,\n",
       "        -0.0201257 ],\n",
       "       [ 0.00210384, -0.00725486, -0.0115523 ,  0.02127135, -0.00914574,\n",
       "        -0.01899781],\n",
       "       [ 0.00049578, -0.00818147, -0.01167499,  0.02107924, -0.00930131,\n",
       "        -0.02012472],\n",
       "       [ 0.00049117, -0.00817829, -0.01167157,  0.02107742, -0.00930515,\n",
       "        -0.02012421],\n",
       "       [ 0.00056167, -0.00815819, -0.01169984,  0.02111016, -0.00928818,\n",
       "        -0.02009451],\n",
       "       [ 0.00051132, -0.00817999, -0.01168182,  0.02109408, -0.00928873,\n",
       "        -0.02012574],\n",
       "       [ 0.0004927 , -0.00817816, -0.01167333,  0.02107841, -0.00930503,\n",
       "        -0.02012377],\n",
       "       [ 0.00051668, -0.00817978, -0.01168339,  0.02109168, -0.00929138,\n",
       "        -0.020122  ],\n",
       "       [ 0.00058091, -0.00815371, -0.01167674,  0.02111964, -0.00928283,\n",
       "        -0.02010851],\n",
       "       [ 0.000489  , -0.00818359, -0.01167306,  0.02107655, -0.00930368,\n",
       "        -0.02012832],\n",
       "       [ 0.00052012, -0.00817896, -0.01168324,  0.02108965, -0.00928482,\n",
       "        -0.02011825],\n",
       "       [ 0.0012659 , -0.00406749, -0.00996324,  0.02036514, -0.01090221,\n",
       "        -0.01621645],\n",
       "       [ 0.00179091, -0.00717324, -0.01166246,  0.02117641, -0.00902725,\n",
       "        -0.01888473],\n",
       "       [ 0.00068028, -0.00811682, -0.01170538,  0.02113993, -0.00925148,\n",
       "        -0.02004358],\n",
       "       [ 0.0006148 , -0.00813214, -0.01170101,  0.02111188, -0.00926079,\n",
       "        -0.02005744],\n",
       "       [ 0.000568  , -0.00817496, -0.01170376,  0.02112481, -0.00926707,\n",
       "        -0.02011608],\n",
       "       [ 0.00055128, -0.00816847, -0.01168291,  0.02109308, -0.00928038,\n",
       "        -0.02010217],\n",
       "       [-0.00170221, -0.00162921, -0.00280624,  0.00568767, -0.00425655,\n",
       "        -0.00472875],\n",
       "       [ 0.00057918, -0.00816549, -0.01169963,  0.02110478, -0.00928285,\n",
       "        -0.02009176],\n",
       "       [ 0.00201027, -0.00640746, -0.01077183,  0.0201634 , -0.00884331,\n",
       "        -0.01755408],\n",
       "       [ 0.00173788, -0.00739932, -0.011662  ,  0.02129088, -0.00944255,\n",
       "        -0.01927826],\n",
       "       [ 0.00053956, -0.00814777, -0.01167786,  0.021097  , -0.0092946 ,\n",
       "        -0.02009458],\n",
       "       [ 0.00052818, -0.00816533, -0.01168062,  0.02109496, -0.009289  ,\n",
       "        -0.02010986],\n",
       "       [ 0.00049164, -0.00818075, -0.01167306,  0.02107819, -0.00930367,\n",
       "        -0.02012618],\n",
       "       [ 0.00050573, -0.0081797 , -0.0116814 ,  0.02108581, -0.00929821,\n",
       "        -0.02012175],\n",
       "       [ 0.00051915, -0.00816538, -0.01166906,  0.02108851, -0.00928959,\n",
       "        -0.02011296],\n",
       "       [ 0.00049295, -0.00818017, -0.01167379,  0.02108062, -0.00930217,\n",
       "        -0.02012664],\n",
       "       [ 0.00049279, -0.00817865, -0.01167242,  0.02107909, -0.00930289,\n",
       "        -0.02012503],\n",
       "       [ 0.00048926, -0.0081824 , -0.01167307,  0.02107722, -0.00930337,\n",
       "        -0.02012764],\n",
       "       [ 0.00054816, -0.00816468, -0.01168128,  0.02109543, -0.00927597,\n",
       "        -0.02010118],\n",
       "       [ 0.00053547, -0.00817848, -0.01168963,  0.02110064, -0.00928188,\n",
       "        -0.02011864],\n",
       "       [ 0.00063641, -0.00813528, -0.01170332,  0.02113768, -0.009247  ,\n",
       "        -0.02007083],\n",
       "       [ 0.00049068, -0.00818136, -0.01167336,  0.02107798, -0.00930364,\n",
       "        -0.02012668],\n",
       "       [ 0.00075965, -0.00813243, -0.01176792,  0.0211769 , -0.00926453,\n",
       "        -0.02004093],\n",
       "       [ 0.00048797, -0.00818334, -0.01167293,  0.02107656, -0.00930308,\n",
       "        -0.02012847],\n",
       "       [ 0.00048458, -0.00818604, -0.01167318,  0.02107567, -0.00930549,\n",
       "        -0.02013122],\n",
       "       [ 0.00049195, -0.00818019, -0.0116722 ,  0.02107787, -0.00930187,\n",
       "        -0.02012581],\n",
       "       [ 0.00066962, -0.00811454, -0.01170819,  0.02113131, -0.00924033,\n",
       "        -0.02003385],\n",
       "       [ 0.00055179, -0.00815635, -0.01167746,  0.02109593, -0.00927167,\n",
       "        -0.02009519],\n",
       "       [ 0.00051021, -0.00817705, -0.01167673,  0.02108705, -0.0092888 ,\n",
       "        -0.02012001],\n",
       "       [ 0.0005103 , -0.00817312, -0.01167272,  0.02108376, -0.00929794,\n",
       "        -0.02011852],\n",
       "       [ 0.0006048 , -0.008146  , -0.01171071,  0.02112814, -0.00929555,\n",
       "        -0.0200795 ],\n",
       "       [ 0.00275338, -0.00702929, -0.01156426,  0.02116165, -0.0083189 ,\n",
       "        -0.01838772],\n",
       "       [ 0.00059065, -0.00815841, -0.01170034,  0.02111705, -0.0092674 ,\n",
       "        -0.02008977],\n",
       "       [ 0.00078995, -0.00365083, -0.00816857,  0.01656704, -0.00736495,\n",
       "        -0.01333791],\n",
       "       [ 0.00054996, -0.00815971, -0.01168049,  0.02110844, -0.00927752,\n",
       "        -0.02010808],\n",
       "       [ 0.00114977, -0.00794326, -0.01189698,  0.02131378, -0.00939708,\n",
       "        -0.01980144],\n",
       "       [ 0.00551329, -0.0056036 , -0.00684644,  0.01097796, -0.00589674,\n",
       "        -0.00945787],\n",
       "       [ 0.00198805, -0.00741099, -0.01178763,  0.02125258, -0.00905815,\n",
       "        -0.01907013],\n",
       "       [ 0.0004952 , -0.00818516, -0.01167638,  0.02108463, -0.00930054,\n",
       "        -0.02013186],\n",
       "       [ 0.00050096, -0.00817789, -0.01167293,  0.02108185, -0.00929994,\n",
       "        -0.02012308]], dtype=float32)>"
      ]
     },
     "execution_count": 29,
     "metadata": {},
     "output_type": "execute_result"
    }
   ],
   "source": [
    "lstm(inp)"
   ]
  },
  {
   "cell_type": "code",
   "execution_count": 30,
   "id": "cac7fa2a-552d-4e8c-8d59-ace3f1338aa6",
   "metadata": {
    "tags": []
   },
   "outputs": [
    {
     "name": "stdout",
     "output_type": "stream",
     "text": [
      "Model: \"sequential_1\"\n",
      "_________________________________________________________________\n",
      " Layer (type)                Output Shape              Param #   \n",
      "=================================================================\n",
      " text_vectorization (TextVec  (None, None)             0         \n",
      " torization)                                                     \n",
      "                                                                 \n",
      " embedding (Embedding)       (None, None, 128)         1280000   \n",
      "                                                                 \n",
      " lstm (LSTM)                 (None, 128)               131584    \n",
      "                                                                 \n",
      " dense_3 (Dense)             (None, 16)                2064      \n",
      "                                                                 \n",
      " dense_4 (Dense)             (None, 16)                272       \n",
      "                                                                 \n",
      " dense_5 (Dense)             (None, 6)                 102       \n",
      "                                                                 \n",
      "=================================================================\n",
      "Total params: 1,414,022\n",
      "Trainable params: 1,414,022\n",
      "Non-trainable params: 0\n",
      "_________________________________________________________________\n"
     ]
    }
   ],
   "source": [
    "lstm.summary()"
   ]
  },
  {
   "cell_type": "code",
   "execution_count": 31,
   "id": "2460124c-c889-4d06-be38-a26182d5b25f",
   "metadata": {
    "scrolled": true,
    "tags": []
   },
   "outputs": [
    {
     "name": "stdout",
     "output_type": "stream",
     "text": [
      "Epoch 1/10\n",
      "634/634 [==============================] - 18s 26ms/step - loss: 1.3322 - accuracy: 0.3179 - val_loss: 1.3389 - val_accuracy: 0.3214\n",
      "Epoch 2/10\n",
      "634/634 [==============================] - 6s 9ms/step - loss: 1.2737 - accuracy: 0.3576 - val_loss: 1.0810 - val_accuracy: 0.4860\n",
      "Epoch 3/10\n",
      "634/634 [==============================] - 5s 8ms/step - loss: 0.8548 - accuracy: 0.6409 - val_loss: 0.6138 - val_accuracy: 0.7455\n",
      "Epoch 4/10\n",
      "634/634 [==============================] - 5s 8ms/step - loss: 0.5212 - accuracy: 0.7816 - val_loss: 0.4763 - val_accuracy: 0.8032\n",
      "Epoch 5/10\n",
      "634/634 [==============================] - 6s 9ms/step - loss: 0.4037 - accuracy: 0.8321 - val_loss: 0.4547 - val_accuracy: 0.8134\n",
      "Epoch 6/10\n",
      "634/634 [==============================] - 5s 8ms/step - loss: 0.3381 - accuracy: 0.8651 - val_loss: 0.4464 - val_accuracy: 0.8211\n",
      "Epoch 7/10\n",
      "634/634 [==============================] - 5s 7ms/step - loss: 0.2918 - accuracy: 0.8874 - val_loss: 0.4787 - val_accuracy: 0.8195\n",
      "Epoch 8/10\n",
      "634/634 [==============================] - 5s 7ms/step - loss: 0.2575 - accuracy: 0.9016 - val_loss: 0.4921 - val_accuracy: 0.8167\n",
      "Epoch 9/10\n",
      "634/634 [==============================] - 5s 7ms/step - loss: 0.2305 - accuracy: 0.9114 - val_loss: 0.5095 - val_accuracy: 0.8243\n",
      "Epoch 10/10\n",
      "634/634 [==============================] - 5s 8ms/step - loss: 0.2080 - accuracy: 0.9190 - val_loss: 0.5586 - val_accuracy: 0.8195\n"
     ]
    }
   ],
   "source": [
    "history = lstm.fit(\n",
    "    train_ds,\n",
    "    validation_data=val_ds,\n",
    "    epochs=epochs)"
   ]
  },
  {
   "cell_type": "markdown",
   "id": "0fa8a339-98cf-45d5-8633-70a59badcf3f",
   "metadata": {},
   "source": [
    "## 4.- Evaluación"
   ]
  },
  {
   "cell_type": "code",
   "execution_count": 32,
   "id": "48f29125-8645-490b-9361-53c85e5e69d2",
   "metadata": {
    "tags": []
   },
   "outputs": [
    {
     "name": "stdout",
     "output_type": "stream",
     "text": [
      "112/112 [==============================] - 1s 5ms/step - loss: 1.7921 - accuracy: 0.1564\n",
      "112/112 [==============================] - 0s 3ms/step - loss: 0.5586 - accuracy: 0.8195\n"
     ]
    },
    {
     "data": {
      "text/plain": [
       "[0.5585957169532776, 0.8195415139198303]"
      ]
     },
     "execution_count": 32,
     "metadata": {},
     "output_type": "execute_result"
    }
   ],
   "source": [
    "rnn.evaluate(val_ds)\n",
    "lstm.evaluate(val_ds)"
   ]
  },
  {
   "cell_type": "code",
   "execution_count": 33,
   "id": "698e2031-8c7e-4ec9-97f1-40939b7d36d2",
   "metadata": {
    "tags": []
   },
   "outputs": [
    {
     "data": {
      "text/plain": [
       "(TensorShape([64]), TensorShape([64, 6]))"
      ]
     },
     "execution_count": 33,
     "metadata": {},
     "output_type": "execute_result"
    }
   ],
   "source": [
    "x_test, y_test = next(iter(val_ds))\n",
    "x_test.shape, y_test.shape"
   ]
  },
  {
   "cell_type": "code",
   "execution_count": 34,
   "id": "b229df39-cb76-4270-b842-0bd598d2d15a",
   "metadata": {
    "tags": []
   },
   "outputs": [
    {
     "data": {
      "text/plain": [
       "[<keras.layers.preprocessing.text_vectorization.TextVectorization at 0x7f16cbc93f10>,\n",
       " <keras.layers.core.embedding.Embedding at 0x7f166cb95010>,\n",
       " <keras.layers.rnn.lstm.LSTM at 0x7f1666147710>,\n",
       " <keras.layers.core.dense.Dense at 0x7f16661a10d0>,\n",
       " <keras.layers.core.dense.Dense at 0x7f166619d710>,\n",
       " <keras.layers.core.dense.Dense at 0x7f16a7f92fd0>]"
      ]
     },
     "execution_count": 34,
     "metadata": {},
     "output_type": "execute_result"
    }
   ],
   "source": [
    "lstm.layers"
   ]
  },
  {
   "cell_type": "code",
   "execution_count": 35,
   "id": "43023c09-4ccb-4b34-a670-7230284bfc28",
   "metadata": {
    "scrolled": true,
    "tags": []
   },
   "outputs": [
    {
     "data": {
      "text/plain": [
       "<tf.Tensor: shape=(1, 17, 128), dtype=float32, numpy=\n",
       "array([[[-0.10111269,  0.02074852, -0.06578368, ..., -0.052722  ,\n",
       "         -0.10961329,  0.04738013],\n",
       "        [ 0.002458  ,  0.12131011,  0.06843492, ..., -0.07005006,\n",
       "          0.01830205,  0.00816528],\n",
       "        [-0.01269575, -0.02408076, -0.00037404, ...,  0.02127643,\n",
       "         -0.05716956,  0.13108772],\n",
       "        ...,\n",
       "        [ 0.06578471,  0.06644186,  0.07879839, ...,  0.03635463,\n",
       "          0.02629028, -0.08329534],\n",
       "        [ 0.03135646,  0.00681779,  0.10884069, ...,  0.00868514,\n",
       "          0.13392735, -0.1521378 ],\n",
       "        [-0.0262137 ,  0.03197402, -0.01656346, ..., -0.05584345,\n",
       "         -0.05704683,  0.0848968 ]]], dtype=float32)>"
      ]
     },
     "execution_count": 35,
     "metadata": {},
     "output_type": "execute_result"
    }
   ],
   "source": [
    "words = 'bad good hate happy love scared friend sad alive family confident fight live funny best great amazing'\n",
    "ids = lstm.layers[0]([words])\n",
    "embeddings = lstm.layers[1](ids)\n",
    "embeddings"
   ]
  },
  {
   "cell_type": "markdown",
   "id": "6353839d-a3bd-4826-becc-b145ff6c2610",
   "metadata": {},
   "source": [
    "- Visualización de los vectores aprendidos"
   ]
  },
  {
   "cell_type": "code",
   "execution_count": 36,
   "id": "11e9ab42-b52e-48d8-80dd-2bfaf62a7386",
   "metadata": {
    "tags": []
   },
   "outputs": [
    {
     "name": "stdout",
     "output_type": "stream",
     "text": [
      "(17, 2)\n"
     ]
    },
    {
     "data": {
      "image/png": "[encoded data removed]",
      "text/plain": [
       "<Figure size 640x480 with 1 Axes>"
      ]
     },
     "metadata": {},
     "output_type": "display_data"
    }
   ],
   "source": [
    "import numpy as np\n",
    "import matplotlib.pyplot as plt\n",
    "from sklearn.decomposition import PCA\n",
    "import tensorflow as tf\n",
    "\n",
    "\n",
    "# Perform PCA on embeddings\n",
    "pca = PCA(n_components=2)\n",
    "pca_embeddings = pca.fit_transform(embeddings[0])\n",
    "print(pca_embeddings.shape)\n",
    "\n",
    "# Plot embeddings using matplotlib\n",
    "fig, ax = plt.subplots()\n",
    "ax.scatter(pca_embeddings[:, 0], pca_embeddings[:, 1], marker='o', c='b')\n",
    "\n",
    "for i, word in enumerate(words.split()):\n",
    "    ax.annotate(word, (pca_embeddings[i, 0], pca_embeddings[i, 1]))\n",
    "    \n",
    "plt.show()"
   ]
  }
 ],
 "metadata": {
  "kernelspec": {
   "display_name": "Python 3 (ipykernel)",
   "language": "python",
   "name": "python3"
  },
  "language_info": {
   "codemirror_mode": {
    "name": "ipython",
    "version": 3
   },
   "file_extension": ".py",
   "mimetype": "text/x-python",
   "name": "python",
   "nbconvert_exporter": "python",
   "pygments_lexer": "ipython3",
   "version": "3.11.2"
  }
 },
 "nbformat": 4,
 "nbformat_minor": 5
}

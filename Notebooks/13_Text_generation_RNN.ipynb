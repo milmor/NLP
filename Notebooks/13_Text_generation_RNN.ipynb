{
 "cells": [
  {
   "cell_type": "code",
   "execution_count": 1,
   "metadata": {},
   "outputs": [],
   "source": [
    "# The MIT License (MIT) Copyright (c) 2023 Emilio Morales\n",
    "#\n",
    "# Permission is hereby granted, free of charge, to any person obtaining a copy of \n",
    "# this software and associated documentation files (the \"Software\"), to deal in the Software without \n",
    "# restriction, including without limitation the rights to use, copy, modify, merge, publish, \n",
    "# distribute, sublicense, and/or sell copies of the Software, and to permit persons to whom the \n",
    "# Software is furnished to do so, subject to the following conditions:\n",
    "#\n",
    "# The above copyright notice and this permission notice shall be included in all copies or \n",
    "# substantial portions of the Software.\n",
    "#\n",
    "# THE SOFTWARE IS PROVIDED \"AS IS\", WITHOUT WARRANTY OF ANY KIND, EXPRESS OR IMPLIED, \n",
    "# INCLUDING BUT NOT LIMITED TO THE WARRANTIES OF MERCHANTABILITY, FITNESS FOR A PARTICULAR PURPOSE AND \n",
    "# NONINFRINGEMENT. IN NO EVENT SHALL THE AUTHORS OR COPYRIGHT HOLDERS BE LIABLE FOR ANY CLAIM, DAMAGES \n",
    "# OR OTHER LIABILITY, WHETHER IN AN ACTION OF CONTRACT, TORT OR OTHERWISE, ARISING FROM, OUT OF OR IN \n",
    "# CONNECTION WITH THE SOFTWARE OR THE USE OR OTHER DEALINGS IN THE SOFTWARE."
   ]
  },
  {
   "cell_type": "markdown",
   "metadata": {},
   "source": [
    "<table class=\"tfo-notebook-buttons\" align=\"left\">\n",
    "  <td>\n",
    "    <a target=\"_blank\" href=\"https://colab.research.google.com/github/milmor/NLP/blob/main/Notebooks/12_RNN_LSTM.ipynb\">\n",
    "    <img src=\"https://www.tensorflow.org/images/colab_logo_32px.png\" />\n",
    "    Run in Google Colab</a>\n",
    "  </td>\n",
    "</table>"
   ]
  },
  {
   "cell_type": "markdown",
   "metadata": {
    "id": "ty7Z3RRm2v0P"
   },
   "source": [
    "# Generación de texto\n",
    "  \n",
    "- Game of thrones book: https://www.kaggle.com/datasets/khulasasndh/game-of-thrones-books"
   ]
  },
  {
   "cell_type": "code",
   "execution_count": 2,
   "metadata": {},
   "outputs": [
    {
     "data": {
      "text/plain": [
       "'2.0.1+cu117'"
      ]
     },
     "execution_count": 2,
     "metadata": {},
     "output_type": "execute_result"
    }
   ],
   "source": [
    "import torch\n",
    "import pandas as pd\n",
    "\n",
    "torch.__version__"
   ]
  },
  {
   "cell_type": "code",
   "execution_count": 3,
   "metadata": {
    "id": "ryOL1_XG4ABQ"
   },
   "outputs": [
    {
     "data": {
      "text/plain": [
       "<torch._C.Generator at 0x7fa2c4b5ee90>"
      ]
     },
     "execution_count": 3,
     "metadata": {},
     "output_type": "execute_result"
    }
   ],
   "source": [
    "torch.manual_seed(77)"
   ]
  },
  {
   "cell_type": "markdown",
   "metadata": {},
   "source": [
    "## 1.- Conjuntos de datos"
   ]
  },
  {
   "cell_type": "code",
   "execution_count": 4,
   "metadata": {},
   "outputs": [
    {
     "name": "stdout",
     "output_type": "stream",
     "text": [
      "Words: 1628063\n"
     ]
    }
   ],
   "source": [
    "path = './001ssb.txt'\n",
    "book = open(path, 'rb').read().decode(encoding='utf-8').lower()\n",
    "\n",
    "print(f'Words: {len(book)}')"
   ]
  },
  {
   "cell_type": "code",
   "execution_count": 5,
   "metadata": {
    "scrolled": true
   },
   "outputs": [],
   "source": [
    "import re\n",
    "\n",
    "words = re.findall(r'\\b\\w+\\b|[\\.,;!?()\"\\']', book)\n",
    "\n",
    "maxlen = 50\n",
    "# Crear lotes de 50 palabras\n",
    "sentences = [words[i:i + maxlen] for i in range(0, len(words), maxlen)]"
   ]
  },
  {
   "cell_type": "code",
   "execution_count": 6,
   "metadata": {},
   "outputs": [
    {
     "data": {
      "text/plain": [
       "['a',\n",
       " 'game',\n",
       " 'of',\n",
       " 'thrones',\n",
       " 'book',\n",
       " 'one',\n",
       " 'of',\n",
       " 'a',\n",
       " 'song',\n",
       " 'of',\n",
       " 'ice',\n",
       " 'and',\n",
       " 'fire',\n",
       " 'by',\n",
       " 'george',\n",
       " 'r',\n",
       " '.',\n",
       " 'r',\n",
       " '.',\n",
       " 'martin']"
      ]
     },
     "execution_count": 6,
     "metadata": {},
     "output_type": "execute_result"
    }
   ],
   "source": [
    "sentences[0][:20]"
   ]
  },
  {
   "cell_type": "code",
   "execution_count": 7,
   "metadata": {},
   "outputs": [
    {
     "data": {
      "text/plain": [
       "7367"
      ]
     },
     "execution_count": 7,
     "metadata": {},
     "output_type": "execute_result"
    }
   ],
   "source": [
    "len(sentences)"
   ]
  },
  {
   "cell_type": "markdown",
   "metadata": {
    "colab": {
     "base_uri": "https://localhost:8080/"
    },
    "id": "b4KjIrLz8Ryf",
    "outputId": "f4ace4f8-ec84-4556-cba5-87748562de3c"
   },
   "source": [
    "## 2.- Pipeline"
   ]
  },
  {
   "cell_type": "markdown",
   "metadata": {
    "id": "NWW4RxWhpAZf"
   },
   "source": [
    "- Crea vocabulario y define tokenizer."
   ]
  },
  {
   "cell_type": "code",
   "execution_count": 8,
   "metadata": {
    "id": "7-V2bNQqpLTE"
   },
   "outputs": [],
   "source": [
    "from torchtext.data.utils import get_tokenizer\n",
    "from torchtext.vocab import vocab as Vocab\n",
    "from collections import Counter"
   ]
  },
  {
   "cell_type": "code",
   "execution_count": 9,
   "metadata": {
    "id": "0viwLWSUpGrk"
   },
   "outputs": [],
   "source": [
    "tokenizer = get_tokenizer('basic_english')"
   ]
  },
  {
   "cell_type": "code",
   "execution_count": 10,
   "metadata": {
    "id": "qpTS_ktRo_xd"
   },
   "outputs": [],
   "source": [
    "def build_vocab(text, tokenizer, min_freq=5):\n",
    "    counter = Counter()\n",
    "    for string_ in text:\n",
    "        # join words list into single string\n",
    "        string_ = ' '.join(string_)\n",
    "        counter.update(tokenizer(string_))\n",
    "    return Vocab(counter, min_freq=min_freq,\n",
    "                 specials=['<unk>', '<pad>'])\n",
    "\n",
    "vocab = build_vocab(sentences, tokenizer, 0)"
   ]
  },
  {
   "cell_type": "code",
   "execution_count": 11,
   "metadata": {
    "colab": {
     "base_uri": "https://localhost:8080/"
    },
    "id": "RlV0maHzt88t",
    "outputId": "fd691500-97f3-483c-ee8b-f3a9dd97fe61"
   },
   "outputs": [
    {
     "data": {
      "text/plain": [
       "11916"
      ]
     },
     "execution_count": 11,
     "metadata": {},
     "output_type": "execute_result"
    }
   ],
   "source": [
    "vocab_size = len(vocab)\n",
    "vocab_size"
   ]
  },
  {
   "cell_type": "code",
   "execution_count": 12,
   "metadata": {},
   "outputs": [
    {
     "data": {
      "text/plain": [
       "'<unk>'"
      ]
     },
     "execution_count": 12,
     "metadata": {},
     "output_type": "execute_result"
    }
   ],
   "source": [
    "vocab.get_itos()[0] "
   ]
  },
  {
   "cell_type": "code",
   "execution_count": 13,
   "metadata": {
    "scrolled": true
   },
   "outputs": [],
   "source": [
    "maxlen = 64\n",
    "\n",
    "def data_process(text):\n",
    "    data = []\n",
    "    for raw_txt in text:\n",
    "        # join words list into single string\n",
    "        raw_txt = ' '.join(raw_txt)\n",
    "        tensor_ = torch.tensor([vocab[token] for token in tokenizer(raw_txt)],\n",
    "                                dtype=torch.long)\n",
    "        if tensor_.shape[0] < maxlen:\n",
    "            x = tensor_[:-1]\n",
    "            y = tensor_[1:]\n",
    "            data.append((x, y))\n",
    "    return data\n",
    "\n",
    "train_data = data_process(sentences)"
   ]
  },
  {
   "cell_type": "code",
   "execution_count": 14,
   "metadata": {
    "id": "cW6E9jkJTe1o"
   },
   "outputs": [],
   "source": [
    "batch_size = 64\n",
    "PAD_IDX = vocab['<pad>']\n",
    "\n",
    "from torch.nn.utils.rnn import pad_sequence\n",
    "from torch.utils.data import DataLoader\n",
    "\n",
    "def generate_batch(data_batch):\n",
    "    x, y = [], []\n",
    "    for (x_item, y_item) in data_batch:\n",
    "        x.append(x_item)\n",
    "        y.append(y_item)\n",
    "\n",
    "    x = pad_sequence(x, batch_first=True, padding_value=PAD_IDX)\n",
    "    y = pad_sequence(y, batch_first=True, padding_value=PAD_IDX)\n",
    "    return x, y\n",
    "\n",
    "\n",
    "train_loader = DataLoader(train_data, batch_size=batch_size,\n",
    "                          shuffle=True, collate_fn=generate_batch, \n",
    "                          num_workers=4, pin_memory=True)"
   ]
  },
  {
   "cell_type": "code",
   "execution_count": 15,
   "metadata": {
    "colab": {
     "base_uri": "https://localhost:8080/"
    },
    "id": "u_N6IRYsT4ry",
    "outputId": "a1d1522d-c8db-493b-fc77-e3549aeeb40a",
    "scrolled": true
   },
   "outputs": [
    {
     "name": "stdout",
     "output_type": "stream",
     "text": [
      "110 ms ± 3.79 ms per loop (mean ± std. dev. of 7 runs, 1 loop each)\n"
     ]
    }
   ],
   "source": [
    "%%timeit\n",
    "train_batch, target_batch = next(iter(train_loader))"
   ]
  },
  {
   "cell_type": "code",
   "execution_count": 16,
   "metadata": {
    "id": "aauQX2tFXD8K"
   },
   "outputs": [],
   "source": [
    "train_batch, target_batch = next(iter(train_loader))"
   ]
  },
  {
   "cell_type": "code",
   "execution_count": 17,
   "metadata": {
    "colab": {
     "base_uri": "https://localhost:8080/"
    },
    "id": "ROw_9EjsT2Et",
    "outputId": "37555466-8faa-49bf-898e-e7374d2c66db"
   },
   "outputs": [
    {
     "data": {
      "text/plain": [
       "(torch.Size([64, 49]), torch.Size([64, 49]))"
      ]
     },
     "execution_count": 17,
     "metadata": {},
     "output_type": "execute_result"
    }
   ],
   "source": [
    "train_batch.shape, target_batch.shape"
   ]
  },
  {
   "cell_type": "markdown",
   "metadata": {
    "id": "PZ7f4DHJreIj"
   },
   "source": [
    "## 3.- Modelo"
   ]
  },
  {
   "cell_type": "code",
   "execution_count": 18,
   "metadata": {},
   "outputs": [],
   "source": [
    "import torch.nn as nn\n",
    "from torch import optim\n",
    "import time"
   ]
  },
  {
   "cell_type": "code",
   "execution_count": 19,
   "metadata": {},
   "outputs": [
    {
     "data": {
      "text/plain": [
       "(torch.Size([64, 49, 11916]), torch.Size([64, 49]))"
      ]
     },
     "execution_count": 19,
     "metadata": {},
     "output_type": "execute_result"
    }
   ],
   "source": [
    "class RNN(nn.Module):\n",
    "    def __init__(self, vocab_size, emb_dim=128, model_dim=128):\n",
    "        super(RNN, self).__init__()\n",
    "        self.embedding = nn.Embedding(vocab_size, emb_dim)\n",
    "        self.rnn = nn.LSTM(input_size=emb_dim, \n",
    "                        hidden_size=model_dim, \n",
    "                        num_layers=1, \n",
    "                        batch_first=True)\n",
    "        self.fc1 = nn.Linear(model_dim, vocab_size)\n",
    "        \n",
    "    def forward(self, x):\n",
    "        x = self.embedding(x)\n",
    "        x, (hidden, cell) = self.rnn(x)\n",
    "        x = self.fc1(x)\n",
    "        return x\n",
    "\n",
    "rnn = RNN(vocab_size)\n",
    "output_batch = rnn(train_batch)\n",
    "output_batch.shape, target_batch.shape"
   ]
  },
  {
   "cell_type": "markdown",
   "metadata": {
    "id": "MsJbLyZ6b_57"
   },
   "source": [
    "## 4.- Entrenamiento"
   ]
  },
  {
   "cell_type": "code",
   "execution_count": 20,
   "metadata": {},
   "outputs": [],
   "source": [
    "loss_fn = torch.nn.CrossEntropyLoss(ignore_index=PAD_IDX)"
   ]
  },
  {
   "cell_type": "code",
   "execution_count": 21,
   "metadata": {
    "id": "R5bmAldOcJn0"
   },
   "outputs": [],
   "source": [
    "def train(model, device, train_loader, optimizer, epoch):\n",
    "    start = time.time()\n",
    "    running_loss = 0.0\n",
    "    model.train()\n",
    "    for inputs, labels in train_loader:\n",
    "        labels = labels.view(-1)\n",
    "        inputs, labels = inputs.to(device), labels.to(device)\n",
    "        \n",
    "        # zero the parameter gradients\n",
    "        optimizer.zero_grad()\n",
    "\n",
    "        # forward + backward + optimize\n",
    "        outputs = model(inputs)\n",
    "        outputs = outputs.view(-1, outputs.size(-1))\n",
    "        loss = loss_fn(outputs, labels)\n",
    "        loss.backward()\n",
    "        optimizer.step()\n",
    "\n",
    "        running_loss += loss.item()\n",
    "\n",
    "    return f'\\nTime for epoch {epoch} is {time.time()-start:.4f} sec Train loss: {running_loss / len(train_loader):.4f}'"
   ]
  },
  {
   "cell_type": "code",
   "execution_count": 22,
   "metadata": {},
   "outputs": [],
   "source": [
    "def generate(model, sentence, device, maxlen):\n",
    "    with torch.no_grad():\n",
    "        model.eval()\n",
    "        idx = torch.tensor([vocab[token] for token in tokenizer(sentence)],\n",
    "                                    dtype=torch.long)\n",
    "        idx = idx.reshape([1, -1])\n",
    "        maxlen = maxlen - idx.shape[-1]\n",
    "\n",
    "        for _ in range(maxlen):\n",
    "            idx = idx.to(device)\n",
    "            logits = model(idx)[:, -1, :]      \n",
    "            probs = torch.softmax(logits, dim=-1)\n",
    "\n",
    "            _, idx_next = torch.topk(probs, k=1, dim=-1)\n",
    "            idx = torch.cat((idx, idx_next), dim=1)\n",
    "\n",
    "        txt = \" \".join(\n",
    "                    [vocab.get_itos()[idx[0, _]] for _ in range(maxlen)]\n",
    "                )\n",
    "    return txt\n",
    "\n",
    "start = 'tyrion'\n",
    "#generate(rnn, start, 'cpu', maxlen)"
   ]
  },
  {
   "cell_type": "code",
   "execution_count": 23,
   "metadata": {
    "colab": {
     "base_uri": "https://localhost:8080/"
    },
    "id": "EvsuJHMBlm9y",
    "outputId": "ff57e59e-6632-40b4-d81c-085cbcc20a25"
   },
   "outputs": [
    {
     "name": "stdout",
     "output_type": "stream",
     "text": [
      "cuda:0\n"
     ]
    }
   ],
   "source": [
    "device = torch.device('cuda:0' if torch.cuda.is_available() else 'cpu')\n",
    "print(device)"
   ]
  },
  {
   "cell_type": "code",
   "execution_count": 24,
   "metadata": {
    "id": "wl9MQCp9TLCh"
   },
   "outputs": [],
   "source": [
    "rnn.to(device)\n",
    "optimizer = optim.Adam(rnn.parameters(), lr=0.001)"
   ]
  },
  {
   "cell_type": "code",
   "execution_count": 25,
   "metadata": {
    "colab": {
     "base_uri": "https://localhost:8080/",
     "height": 1000
    },
    "id": "gtR1RoSBkARg",
    "outputId": "5e15136d-9e74-4734-d9d0-307ddbcd59d0",
    "tags": []
   },
   "outputs": [
    {
     "name": "stdout",
     "output_type": "stream",
     "text": [
      "\n",
      "Time for epoch 0 is 0.9381 sec Train loss: 6.8471\n",
      "Output: tyrion to the , the , the , the , the , the , the , the , the , the , the , the , the , the , the , the , the , the , the , the , the , the , the , the , the , the , the , the , the , the , the\n",
      "\n",
      "Time for epoch 20 is 0.7748 sec Train loss: 4.4470\n",
      "Output: tyrion said . he was a man ' s landing . the king ' s watch was a man ' s landing . the king ' s watch was a man ' s landing . the king ' s watch was a man ' s landing . the king ' s watch was a man ' s landing . the king ' s\n",
      "\n",
      "Time for epoch 40 is 0.7742 sec Train loss: 3.9744\n",
      "Output: tyrion said . i ' m not . . . . . . . . . . . . . . . . . . . . . . . . . . . . . . . . . . . . . . . . . . . . . . . . . . . . . . . .\n",
      "\n",
      "Time for epoch 60 is 0.7763 sec Train loss: 3.6375\n",
      "Output: tyrion said . i ' ll be a man to be a child , but i ' m not , i ' ll be a man to be a child , but i ' m not , i ' ll be a man to be a child , but i ' m not , i ' ll be a man to be a\n",
      "\n",
      "Time for epoch 80 is 0.7732 sec Train loss: 3.3697\n",
      "Output: tyrion said . i ' m not a fool . i ' m not , i ' m not a fool . i ' m not , i ' m not a fool . i ' m not , i ' m not a fool . i ' m not , i ' m not a fool . i ' m not ,\n",
      "\n",
      "Time for epoch 100 is 0.7771 sec Train loss: 3.1516\n",
      "Output: tyrion said . i ' ll be the same for you . he was the last of the king ' s justice , and i ' ll be the same for you . he was the last of the king ' s justice , and i ' ll be the same for you . he was a boy , the king ' s\n",
      "\n",
      "Time for epoch 120 is 0.7827 sec Train loss: 2.9713\n",
      "Output: tyrion said , but the boy was the last of the king . . . and now i ' m not a traitor , you ' re not here . i ' ll be a knight . i ' m not a traitor , you ' re not here . i ' ll be a knight , i ' ll be a knight\n",
      "\n",
      "Time for epoch 140 is 0.7911 sec Train loss: 2.8193\n",
      "Output: tyrion lannister ' s eyes . he was a boy of the king ' s justice . the king ' s justice , the king ' s justice , ned . . . and the queen ' s the gods have no business in your brother . . . and now i ' m not a traitor , you ' re not a\n",
      "\n",
      "Time for epoch 160 is 0.7704 sec Train loss: 2.6858\n",
      "Output: tyrion lannister ' s eyes . he was a boy of the king ' s throne . i ' m not a traitor , you ' ll be a fool , ser alliser said . i ' m not a traitor , you ' ll be a fool , ser alliser said . i ' m not a traitor , you ' ll\n",
      "\n",
      "Time for epoch 180 is 0.7829 sec Train loss: 2.5690\n",
      "Output: tyrion said to look at him . the king ' s justice is not a man ' s life , but the only truths i have had no choice but to follow . the king ' s voice was dulled by texhaustion . on the breast of his sword , and the two stranger knights in the east , the old bear '\n"
     ]
    }
   ],
   "source": [
    "epochs = 200\n",
    "\n",
    "for epoch in range(epochs):\n",
    "    report = train(rnn, device, train_loader, optimizer, epoch)\n",
    "    if epoch % 20 == 0:\n",
    "        print(report)\n",
    "        generated_text = generate(rnn, start, device, maxlen)\n",
    "        print(f'Output: {generated_text}')"
   ]
  },
  {
   "cell_type": "markdown",
   "metadata": {},
   "source": [
    "## Ejercicio\n",
    "- Incrementar el tamaño del dataset utilizando todos los libros de _A song of ice and fire_.\n",
    "- Remplazar GRU por LSTM.\n",
    "- Entrenar con diferentes métodos de de Tokenización."
   ]
  }
 ],
 "metadata": {
  "accelerator": "GPU",
  "colab": {
   "collapsed_sections": [],
   "provenance": []
  },
  "gpuClass": "standard",
  "kernelspec": {
   "display_name": "Python 3 (ipykernel)",
   "language": "python",
   "name": "python3"
  },
  "language_info": {
   "codemirror_mode": {
    "name": "ipython",
    "version": 3
   },
   "file_extension": ".py",
   "mimetype": "text/x-python",
   "name": "python",
   "nbconvert_exporter": "python",
   "pygments_lexer": "ipython3",
   "version": "3.8.18"
  }
 },
 "nbformat": 4,
 "nbformat_minor": 4
}

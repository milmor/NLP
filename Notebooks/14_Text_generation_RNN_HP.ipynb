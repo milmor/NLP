{
 "cells": [
  {
   "cell_type": "code",
   "execution_count": 1,
   "metadata": {},
   "outputs": [],
   "source": [
    "# The MIT License (MIT) Copyright (c) 2023 Emilio Morales\n",
    "#\n",
    "# Permission is hereby granted, free of charge, to any person obtaining a copy of \n",
    "# this software and associated documentation files (the \"Software\"), to deal in the Software without \n",
    "# restriction, including without limitation the rights to use, copy, modify, merge, publish, \n",
    "# distribute, sublicense, and/or sell copies of the Software, and to permit persons to whom the \n",
    "# Software is furnished to do so, subject to the following conditions:\n",
    "#\n",
    "# The above copyright notice and this permission notice shall be included in all copies or \n",
    "# substantial portions of the Software.\n",
    "#\n",
    "# THE SOFTWARE IS PROVIDED \"AS IS\", WITHOUT WARRANTY OF ANY KIND, EXPRESS OR IMPLIED, \n",
    "# INCLUDING BUT NOT LIMITED TO THE WARRANTIES OF MERCHANTABILITY, FITNESS FOR A PARTICULAR PURPOSE AND \n",
    "# NONINFRINGEMENT. IN NO EVENT SHALL THE AUTHORS OR COPYRIGHT HOLDERS BE LIABLE FOR ANY CLAIM, DAMAGES \n",
    "# OR OTHER LIABILITY, WHETHER IN AN ACTION OF CONTRACT, TORT OR OTHERWISE, ARISING FROM, OUT OF OR IN \n",
    "# CONNECTION WITH THE SOFTWARE OR THE USE OR OTHER DEALINGS IN THE SOFTWARE."
   ]
  },
  {
   "cell_type": "markdown",
   "metadata": {},
   "source": [
    "<table class=\"tfo-notebook-buttons\" align=\"left\">\n",
    "  <td>\n",
    "    <a target=\"_blank\" href=\"https://colab.research.google.com/github/milmor/NLP/blob/main/Notebooks/14_Text_generation_RNN_HP.ipynb\">\n",
    "    <img src=\"https://www.tensorflow.org/images/colab_logo_32px.png\" />\n",
    "    Run in Google Colab</a>\n",
    "  </td>\n",
    "</table>"
   ]
  },
  {
   "cell_type": "markdown",
   "metadata": {
    "id": "ty7Z3RRm2v0P"
   },
   "source": [
    "# Generación de texto\n",
    "  \n",
    "- Harry Potter book: https://www.kaggle.com/datasets/shubhammaindola/harry-potter-books"
   ]
  },
  {
   "cell_type": "code",
   "execution_count": 2,
   "metadata": {},
   "outputs": [
    {
     "data": {
      "text/plain": [
       "'2.2.0+cu121'"
      ]
     },
     "execution_count": 2,
     "metadata": {},
     "output_type": "execute_result"
    }
   ],
   "source": [
    "import torch\n",
    "import pandas as pd\n",
    "\n",
    "torch.__version__"
   ]
  },
  {
   "cell_type": "code",
   "execution_count": 3,
   "metadata": {
    "id": "ryOL1_XG4ABQ"
   },
   "outputs": [
    {
     "data": {
      "text/plain": [
       "<torch._C.Generator at 0x7d0d182e1d50>"
      ]
     },
     "execution_count": 3,
     "metadata": {},
     "output_type": "execute_result"
    }
   ],
   "source": [
    "torch.manual_seed(77)"
   ]
  },
  {
   "cell_type": "markdown",
   "metadata": {},
   "source": [
    "## 1.- Conjuntos de datos"
   ]
  },
  {
   "cell_type": "code",
   "execution_count": 4,
   "metadata": {},
   "outputs": [
    {
     "name": "stdout",
     "output_type": "stream",
     "text": [
      "Words: 439478\n"
     ]
    }
   ],
   "source": [
    "path = './01 Harry Potter and the Sorcerers Stone.txt'\n",
    "book = open(path, 'rb').read().decode(encoding='utf-8').lower()\n",
    "\n",
    "print(f'Words: {len(book)}')"
   ]
  },
  {
   "cell_type": "code",
   "execution_count": 5,
   "metadata": {
    "scrolled": true
   },
   "outputs": [],
   "source": [
    "import re\n",
    "\n",
    "words = re.findall(r'\\b\\w+\\b|[\\.,;!?()\"\\']', book)\n",
    "\n",
    "maxlen = 50\n",
    "# Crear lotes de 50 palabras\n",
    "sentences = [words[i:i + maxlen] for i in range(0, len(words), maxlen)]"
   ]
  },
  {
   "cell_type": "code",
   "execution_count": 6,
   "metadata": {},
   "outputs": [
    {
     "data": {
      "text/plain": [
       "['m',\n",
       " 'r',\n",
       " '.',\n",
       " 'and',\n",
       " 'mrs',\n",
       " '.',\n",
       " 'dursley',\n",
       " ',',\n",
       " 'of',\n",
       " 'number',\n",
       " 'four',\n",
       " ',',\n",
       " 'privet',\n",
       " 'drive',\n",
       " ',',\n",
       " 'were',\n",
       " 'proud',\n",
       " 'to',\n",
       " 'say',\n",
       " 'that']"
      ]
     },
     "execution_count": 6,
     "metadata": {},
     "output_type": "execute_result"
    }
   ],
   "source": [
    "sentences[0][:20]"
   ]
  },
  {
   "cell_type": "code",
   "execution_count": 7,
   "metadata": {},
   "outputs": [
    {
     "data": {
      "text/plain": [
       "1867"
      ]
     },
     "execution_count": 7,
     "metadata": {},
     "output_type": "execute_result"
    }
   ],
   "source": [
    "len(sentences)"
   ]
  },
  {
   "cell_type": "markdown",
   "metadata": {
    "colab": {
     "base_uri": "https://localhost:8080/"
    },
    "id": "b4KjIrLz8Ryf",
    "outputId": "f4ace4f8-ec84-4556-cba5-87748562de3c"
   },
   "source": [
    "## 2.- Pipeline"
   ]
  },
  {
   "cell_type": "markdown",
   "metadata": {
    "id": "NWW4RxWhpAZf"
   },
   "source": [
    "- Crea vocabulario y define tokenizer."
   ]
  },
  {
   "cell_type": "code",
   "execution_count": 8,
   "metadata": {
    "id": "7-V2bNQqpLTE"
   },
   "outputs": [],
   "source": [
    "from torchtext.data.utils import get_tokenizer\n",
    "from torchtext.vocab import vocab as Vocab\n",
    "from collections import Counter"
   ]
  },
  {
   "cell_type": "code",
   "execution_count": 9,
   "metadata": {
    "id": "0viwLWSUpGrk"
   },
   "outputs": [],
   "source": [
    "tokenizer = get_tokenizer('basic_english')"
   ]
  },
  {
   "cell_type": "code",
   "execution_count": 10,
   "metadata": {
    "id": "qpTS_ktRo_xd"
   },
   "outputs": [],
   "source": [
    "def build_vocab(text, tokenizer, min_freq=5):\n",
    "    counter = Counter()\n",
    "    for string_ in text:\n",
    "        # join words list into single string\n",
    "        string_ = ' '.join(string_)\n",
    "        counter.update(tokenizer(string_))\n",
    "    return Vocab(counter, min_freq=min_freq,\n",
    "                 specials=['<unk>', '<pad>'])\n",
    "\n",
    "vocab = build_vocab(sentences, tokenizer, 0)"
   ]
  },
  {
   "cell_type": "code",
   "execution_count": 11,
   "metadata": {
    "colab": {
     "base_uri": "https://localhost:8080/"
    },
    "id": "RlV0maHzt88t",
    "outputId": "fd691500-97f3-483c-ee8b-f3a9dd97fe61"
   },
   "outputs": [
    {
     "data": {
      "text/plain": [
       "5744"
      ]
     },
     "execution_count": 11,
     "metadata": {},
     "output_type": "execute_result"
    }
   ],
   "source": [
    "vocab_size = len(vocab)\n",
    "vocab_size"
   ]
  },
  {
   "cell_type": "code",
   "execution_count": 12,
   "metadata": {},
   "outputs": [
    {
     "data": {
      "text/plain": [
       "'<unk>'"
      ]
     },
     "execution_count": 12,
     "metadata": {},
     "output_type": "execute_result"
    }
   ],
   "source": [
    "vocab.get_itos()[0] "
   ]
  },
  {
   "cell_type": "code",
   "execution_count": 13,
   "metadata": {
    "scrolled": true
   },
   "outputs": [],
   "source": [
    "maxlen = 64\n",
    "\n",
    "def data_process(text):\n",
    "    data = []\n",
    "    for raw_txt in text:\n",
    "        # join words list into single string\n",
    "        raw_txt = ' '.join(raw_txt)\n",
    "        tensor_ = torch.tensor([vocab[token] for token in tokenizer(raw_txt)],\n",
    "                                dtype=torch.long)\n",
    "        if tensor_.shape[0] < maxlen:\n",
    "            x = tensor_[:-1]\n",
    "            y = tensor_[1:]\n",
    "            data.append((x, y))\n",
    "    return data\n",
    "\n",
    "train_data = data_process(sentences)"
   ]
  },
  {
   "cell_type": "code",
   "execution_count": 14,
   "metadata": {
    "id": "cW6E9jkJTe1o"
   },
   "outputs": [],
   "source": [
    "batch_size = 64\n",
    "PAD_IDX = vocab['<pad>']\n",
    "\n",
    "from torch.nn.utils.rnn import pad_sequence\n",
    "from torch.utils.data import DataLoader\n",
    "\n",
    "def generate_batch(data_batch):\n",
    "    x, y = [], []\n",
    "    for (x_item, y_item) in data_batch:\n",
    "        x.append(x_item)\n",
    "        y.append(y_item)\n",
    "\n",
    "    x = pad_sequence(x, batch_first=True, padding_value=PAD_IDX)\n",
    "    y = pad_sequence(y, batch_first=True, padding_value=PAD_IDX)\n",
    "    return x, y\n",
    "\n",
    "\n",
    "train_loader = DataLoader(train_data, batch_size=batch_size,\n",
    "                          shuffle=True, collate_fn=generate_batch, \n",
    "                          num_workers=4, pin_memory=True)"
   ]
  },
  {
   "cell_type": "code",
   "execution_count": 15,
   "metadata": {
    "colab": {
     "base_uri": "https://localhost:8080/"
    },
    "id": "u_N6IRYsT4ry",
    "outputId": "a1d1522d-c8db-493b-fc77-e3549aeeb40a",
    "scrolled": true
   },
   "outputs": [
    {
     "name": "stdout",
     "output_type": "stream",
     "text": [
      "184 ms ± 7.35 ms per loop (mean ± std. dev. of 7 runs, 1 loop each)\n"
     ]
    }
   ],
   "source": [
    "%%timeit\n",
    "train_batch, target_batch = next(iter(train_loader))"
   ]
  },
  {
   "cell_type": "code",
   "execution_count": 16,
   "metadata": {
    "id": "aauQX2tFXD8K"
   },
   "outputs": [],
   "source": [
    "train_batch, target_batch = next(iter(train_loader))"
   ]
  },
  {
   "cell_type": "code",
   "execution_count": 17,
   "metadata": {
    "colab": {
     "base_uri": "https://localhost:8080/"
    },
    "id": "ROw_9EjsT2Et",
    "outputId": "37555466-8faa-49bf-898e-e7374d2c66db"
   },
   "outputs": [
    {
     "data": {
      "text/plain": [
       "(torch.Size([64, 49]), torch.Size([64, 49]))"
      ]
     },
     "execution_count": 17,
     "metadata": {},
     "output_type": "execute_result"
    }
   ],
   "source": [
    "train_batch.shape, target_batch.shape"
   ]
  },
  {
   "cell_type": "markdown",
   "metadata": {
    "id": "PZ7f4DHJreIj"
   },
   "source": [
    "## 3.- Modelo"
   ]
  },
  {
   "cell_type": "code",
   "execution_count": 18,
   "metadata": {},
   "outputs": [],
   "source": [
    "import torch.nn as nn\n",
    "from torch import optim\n",
    "import time"
   ]
  },
  {
   "cell_type": "code",
   "execution_count": 19,
   "metadata": {},
   "outputs": [
    {
     "data": {
      "text/plain": [
       "(torch.Size([64, 49, 5744]), torch.Size([64, 49]))"
      ]
     },
     "execution_count": 19,
     "metadata": {},
     "output_type": "execute_result"
    }
   ],
   "source": [
    "class RNN(nn.Module):\n",
    "    def __init__(self, vocab_size, emb_dim=128, model_dim=128):\n",
    "        super(RNN, self).__init__()\n",
    "        self.embedding = nn.Embedding(vocab_size, emb_dim)\n",
    "        self.rnn = nn.LSTM(input_size=emb_dim, \n",
    "                        hidden_size=model_dim, \n",
    "                        num_layers=1, \n",
    "                        batch_first=True)\n",
    "        self.fc1 = nn.Linear(model_dim, vocab_size)\n",
    "        \n",
    "    def forward(self, x):\n",
    "        x = self.embedding(x)\n",
    "        x, (hidden, cell) = self.rnn(x)\n",
    "        x = self.fc1(x)\n",
    "        return x\n",
    "\n",
    "rnn = RNN(vocab_size)\n",
    "output_batch = rnn(train_batch)\n",
    "output_batch.shape, target_batch.shape"
   ]
  },
  {
   "cell_type": "markdown",
   "metadata": {
    "id": "MsJbLyZ6b_57"
   },
   "source": [
    "## 4.- Entrenamiento"
   ]
  },
  {
   "cell_type": "code",
   "execution_count": 20,
   "metadata": {},
   "outputs": [],
   "source": [
    "loss_fn = torch.nn.CrossEntropyLoss(ignore_index=PAD_IDX)"
   ]
  },
  {
   "cell_type": "code",
   "execution_count": 21,
   "metadata": {
    "id": "R5bmAldOcJn0"
   },
   "outputs": [],
   "source": [
    "def train(model, device, train_loader, optimizer, epoch):\n",
    "    start = time.time()\n",
    "    running_loss = 0.0\n",
    "    model.train()\n",
    "    for inputs, labels in train_loader:\n",
    "        labels = labels.view(-1)\n",
    "        inputs, labels = inputs.to(device), labels.to(device)\n",
    "        \n",
    "        # zero the parameter gradients\n",
    "        optimizer.zero_grad()\n",
    "\n",
    "        # forward + backward + optimize\n",
    "        outputs = model(inputs)\n",
    "        outputs = outputs.view(-1, outputs.size(-1))\n",
    "        loss = loss_fn(outputs, labels)\n",
    "        loss.backward()\n",
    "        optimizer.step()\n",
    "\n",
    "        running_loss += loss.item()\n",
    "\n",
    "    return f'Time for epoch {epoch} is {time.time()-start:.4f} sec Train loss: {running_loss / len(train_loader):.4f}'"
   ]
  },
  {
   "cell_type": "code",
   "execution_count": 22,
   "metadata": {},
   "outputs": [],
   "source": [
    "def generate(model, sentence, device, maxlen):\n",
    "    with torch.no_grad():\n",
    "        model.eval()\n",
    "        idx = torch.tensor([vocab[token] for token in tokenizer(sentence)],\n",
    "                                    dtype=torch.long)\n",
    "        idx = idx.reshape([1, -1])\n",
    "        maxlen = maxlen - idx.shape[-1]\n",
    "\n",
    "        for _ in range(maxlen):\n",
    "            idx = idx.to(device)\n",
    "            logits = model(idx)[:, -1, :]      \n",
    "            probs = torch.softmax(logits, dim=-1)\n",
    "\n",
    "            _, idx_next = torch.topk(probs, k=1, dim=-1)\n",
    "            idx = torch.cat((idx, idx_next), dim=1)\n",
    "\n",
    "        txt = \" \".join(\n",
    "                    [vocab.get_itos()[idx[0, _]] for _ in range(maxlen)]\n",
    "                )\n",
    "    return txt\n",
    "\n",
    "start_token = 'voldemort'\n",
    "#generate(rnn, start, 'cpu', maxlen)"
   ]
  },
  {
   "cell_type": "code",
   "execution_count": 23,
   "metadata": {
    "colab": {
     "base_uri": "https://localhost:8080/"
    },
    "id": "EvsuJHMBlm9y",
    "outputId": "ff57e59e-6632-40b4-d81c-085cbcc20a25"
   },
   "outputs": [
    {
     "name": "stdout",
     "output_type": "stream",
     "text": [
      "cuda:0\n"
     ]
    }
   ],
   "source": [
    "device = torch.device('cuda:0' if torch.cuda.is_available() else 'cpu')\n",
    "print(device)"
   ]
  },
  {
   "cell_type": "code",
   "execution_count": 24,
   "metadata": {
    "id": "wl9MQCp9TLCh"
   },
   "outputs": [],
   "source": [
    "rnn.to(device)\n",
    "optimizer = optim.Adam(rnn.parameters(), lr=0.001)"
   ]
  },
  {
   "cell_type": "code",
   "execution_count": 25,
   "metadata": {
    "colab": {
     "base_uri": "https://localhost:8080/",
     "height": 1000
    },
    "id": "gtR1RoSBkARg",
    "outputId": "5e15136d-9e74-4734-d9d0-307ddbcd59d0",
    "tags": []
   },
   "outputs": [
    {
     "name": "stdout",
     "output_type": "stream",
     "text": [
      "\n",
      "Time for interval is 0.2670 sec\n",
      "Time for epoch 0 is 0.2669 sec Train loss: 7.7652\n",
      "Output: voldemort for , , , , , , , , , , , , , , , , , , , , , , , , , , , , , , , , , , , , , , , , , , , , , , , , , , , , , , , , , , , , ,\n",
      "\n",
      "Time for interval is 7.4613 sec\n",
      "Time for epoch 50 is 0.1475 sec Train loss: 4.0669\n",
      "Output: voldemort s not to be able to be a bit of the door . he was a very good . harry , said harry . he was a very good . harry , said harry . he was a very good . harry , said harry . he was a very good . harry , said harry . he was a very good\n",
      "\n",
      "Time for interval is 7.4354 sec\n",
      "Time for epoch 100 is 0.1471 sec Train loss: 3.2365\n",
      "Output: voldemort s gang . he was going to be in the air , and harry had been a very good mood . harry , ron , and hermione , who was a very good mood . harry , ron , and hermione , who was a very good mood . harry , ron , and hermione , who was a very good mood\n",
      "\n",
      "Time for interval is 7.4221 sec\n",
      "Time for epoch 150 is 0.1474 sec Train loss: 2.5938\n",
      "Output: voldemort will be able to see if he was going to be a bit o the end of the corridor . harry , ron , and hermione , who was so close to the mirror . i m not going to be a bit o clock in the mirror . i m not going to be a bit o clock in the mirror\n",
      "\n",
      "Time for interval is 7.5557 sec\n",
      "Time for epoch 200 is 0.1512 sec Train loss: 2.0996\n",
      "Output: voldemort will be able to see if it was a very good audience they d had . it was almost as long as he could , because it s not going to be . it s not going to be . it s not going to be . it s not going to be . it s not going to be . it\n",
      "\n",
      "Time for interval is 7.4297 sec\n",
      "Time for epoch 250 is 0.1485 sec Train loss: 1.7303\n",
      "Output: voldemort will be able to come and finish me off . it was as though the dursleys were like to be . it s not poison ? said harry . the giant chuckled darkly . he s the biggest myst ry , see them was pushing a trunk like a large banner on the grounds . they re not exactly a large ,\n",
      "\n",
      "Time for interval is 7.4505 sec\n",
      "Time for epoch 300 is 0.1472 sec Train loss: 1.4417\n",
      "Output: voldemort will be able to come and finish me off . it was as though the dursleys were like to be . so , said harry . i m not going to do is walk straight at all . there was a very embarrassed pause . then , said harry , who was so amazed , so impressed , however , was all\n",
      "\n",
      "Time for interval is 7.4660 sec\n",
      "Time for epoch 350 is 0.1490 sec Train loss: 1.2161\n",
      "Output: voldemort will be able to come and finish me off . it was as though the dursleys to harry s the first time in his life . the next morning dawned very bright and he s useless , because the hat had mentioned a minute before the hat declared him a second later , because the next door were empty . they were\n",
      "\n",
      "Time for interval is 7.4667 sec\n",
      "Time for epoch 400 is 0.1483 sec Train loss: 1.0338\n",
      "Output: voldemort will be able to come and finish me off . it was as though the dursleys to see what s hut . he whirled around . his broom had started to roll over and over , harry , his eyes were off . harry potter would be far easier than anything ? said harry , trying to snatch it back . he\n",
      "\n",
      "Time for interval is 7.4974 sec\n",
      "Time for epoch 450 is 0.1479 sec Train loss: 0.8833\n",
      "Output: voldemort will be able to come and finish me off . . . . . . . . . . . . . . . . . . . . . . . . . . . . . . . . . . . . . . . . . . . . . . . . . . . . .\n"
     ]
    }
   ],
   "source": [
    "epochs = 500\n",
    "start = time.time()\n",
    "for epoch in range(epochs):\n",
    "    report = train(rnn, device, train_loader, optimizer, epoch)\n",
    "    if epoch % 50 == 0:\n",
    "        print(f'\\nTime for interval is {time.time()-start:.4f} sec')\n",
    "        start = time.time()\n",
    "        print(report)\n",
    "        generated_text = generate(rnn, start_token, device, maxlen)\n",
    "        print(f'Output: {generated_text}')"
   ]
  },
  {
   "cell_type": "code",
   "execution_count": 26,
   "metadata": {},
   "outputs": [
    {
     "data": {
      "text/plain": [
       "'voldemort will be able to come and finish me off . . . . . . . . . . . . . . . . . . . . . . . . . . . . . . you know who s name ! voldemort screamed , ron ! if you re lucky . she couldn t be in those people who come back in midair to watch on each other two . i m not going to win at quidditch in a wooden house . it was as though the dursleys were asleep yet . snape was now there like that . i m not going to be fair toilet the stone . it was standing quite still as though his scar . harry , who looked as though he d cracked from his eyes was twitching . he flew back to the floor . harry , meanwhile , still try an kill a student ! now , with an evil cackle . ickle firsties ! he said in a hushed voice , dropping the box of his cupboard as case as boils started to harry . he was sure he d never even seen harry as they stepped over the threshold , and immediately a fire behind them dursleys to the castle again . the sun rose too high , fast . he bent down , the very kind of dudley , who couldn t have never heard of anything else , how very you want . and don t understand why it was . the dursleys had said . harry s heart rose high , fast asleep now turned over the wall and saw were cold outside the grounds for things to speak . harry , who was measuring out powdered spine of lionfish , ignored them . malfoy had been making another bid for freedom . nothing , of course he ll go . his heart skipped . he felt braver . mount your brooms steady , rise hagrid , all right . hagrid was standing quite still , that you are the bludgers to find out how it s all day . he d have to go back upstairs and started toward him . i must lie , he thought desperately . hermione had fought her way across to the dark and silence . and began to think he could bear it . the dursleys had woken by the time they got their job to the window to get the mail . he was a big , beefy man with a lot , but he seemed to be straining to escape the straps holding them inside with the rest of the school owls . perhaps it was he s really belting along up there , harry , were the same , the key took flight again , looking very battered now that his eyes were off . harry stared . at the cat . harry and ron had finished . the snake jabbed its tail at once , but he d never felt so ? he said . i ve got yeh if he hadn t , said ron , wheeling around as they like the first time and that the only one who is easy enough to say , harry , i ve got the chains still in the dog s eyes twinkled . his aunt and uncle stared . at the end nearest him as he was holding a foot from the crowd . what s the matter with you know what had happened when vol , i d like ter introduce her to fang sometime . d yeh know , i ll take it in my opinion asked for sure it had been caught and steak , boiled up front . it was a great scraping of chairs and the next moment , for a snake surrounding the plant points by now . harry and ron exchanged looks with raised eyebrows . he didn t know what to them . he s a very imprecise branch of magic . the sky had been looking for something he killed em of more money than he d had the same end on the right , which was the same as the forbidden corridor didn t move . it was a sickening sight . yes , yes , i ve read it ! harry whispered . i ve never seen in the forest . harry had never seen anything to me to run around snape for snape . but he couldn t . he couldn t kill his parents disappearing in a flash of green light , while everyone else is about to finish the eyes . it s not until he was imagining it , he said , and they said . she had a bossy sort of voice , isn t it ? harry flushed . it s the best evening top parcel . it s all day . he had a swarthy , clever face , a pointed wizard s hat . harry noticed that they were going to get him letters on his side before they were both too much to read ollivanders makers of fine wands since 382 b . blimey , we ll be okay get off ter get us back in possession that dudley and the others becoming wizards . they had reached the portrait of the fat lady to clapped his head dark next to the floor with his wand . let s go . he pulled back his bangs to show he the note to harry . hermione granger , on the other hand , favored a mahogany wand . eleven inches . pliable . a little more power and excellent for transfiguration . he was going on about wrestling a troll . harry , who went off to the lumpy woman . he was busy writing to their discussion . they were all very impressed and couldn t be the little ones'"
      ]
     },
     "execution_count": 26,
     "metadata": {},
     "output_type": "execute_result"
    }
   ],
   "source": [
    "start_token = 'voldemort'\n",
    "generated_text = generate(rnn, start_token, device, 1000)\n",
    "generated_text"
   ]
  },
  {
   "cell_type": "markdown",
   "metadata": {},
   "source": [
    "## Ejercicio\n",
    "- Incrementar el tamaño del dataset utilizando todos los libros de _Harry Potter_.\n",
    "- Remplazar LSTM por GRU.\n",
    "- Entrenar con diferentes métodos de de Tokenización."
   ]
  }
 ],
 "metadata": {
  "accelerator": "GPU",
  "colab": {
   "collapsed_sections": [],
   "provenance": []
  },
  "gpuClass": "standard",
  "kernelspec": {
   "display_name": "Python 3 (ipykernel)",
   "language": "python",
   "name": "python3"
  },
  "language_info": {
   "codemirror_mode": {
    "name": "ipython",
    "version": 3
   },
   "file_extension": ".py",
   "mimetype": "text/x-python",
   "name": "python",
   "nbconvert_exporter": "python",
   "pygments_lexer": "ipython3",
   "version": "3.10.13"
  }
 },
 "nbformat": 4,
 "nbformat_minor": 4
}

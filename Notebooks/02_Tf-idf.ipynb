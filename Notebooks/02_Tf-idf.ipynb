{
 "cells": [
  {
   "cell_type": "markdown",
   "id": "e48589dc-1689-4ef2-98dd-619c14f327be",
   "metadata": {},
   "source": [
    "<table class=\"tfo-notebook-buttons\" align=\"left\">\n",
    "  <td>\n",
    "    <a target=\"_blank\" href=\"https://colab.research.google.com/github/milmor/NLP/blob/main/Notebooks/02_Tf-idf.ipynb\">\n",
    "    <img src=\"https://www.tensorflow.org/images/colab_logo_32px.png\" />\n",
    "    Run in Google Colab</a>\n",
    "  </td>\n",
    "</table>"
   ]
  },
  {
   "cell_type": "markdown",
   "id": "b7ed7165-3bb1-4425-8c8e-af769a9e230b",
   "metadata": {},
   "source": [
    "# Tf-idf"
   ]
  },
  {
   "cell_type": "code",
   "execution_count": 1,
   "id": "9e2c4447-c28b-4c93-bc62-f3e558a6bdea",
   "metadata": {},
   "outputs": [],
   "source": [
    "import numpy as np"
   ]
  },
  {
   "cell_type": "code",
   "execution_count": 2,
   "id": "e15375ce-5b72-4c2a-94e1-1c4660c6b016",
   "metadata": {},
   "outputs": [],
   "source": [
    "from sklearn.feature_extraction.text import TfidfVectorizer"
   ]
  },
  {
   "cell_type": "code",
   "execution_count": 3,
   "id": "20e30440-c3b3-45cd-b5a2-c881aa5cd324",
   "metadata": {},
   "outputs": [],
   "source": [
    "# datos\n",
    "X = [\"Lobos Gatos Elefantes\",\n",
    "     \"Lobos Lobos Caballos Teatro\",\n",
    "     \"Lobos Elefantes Lobos\",\n",
    "     \"Computadora Procesador Lobos\",\n",
    "     \"Teatro Pintura Elefantes\",\n",
    "     \"Teatro Música Caballos Teatro Teatro\"]\n",
    "y = [0, 0, 0, 1, 2, 2]\n",
    "\n",
    "vectorizer = TfidfVectorizer(norm=None)\n",
    "X_vect = vectorizer.fit_transform(X)"
   ]
  },
  {
   "cell_type": "code",
   "execution_count": 4,
   "id": "779e0093-6bc6-482a-832c-b6984da82d26",
   "metadata": {},
   "outputs": [
    {
     "data": {
      "text/plain": [
       "<6x9 sparse matrix of type '<class 'numpy.float64'>'\n",
       "\twith 17 stored elements in Compressed Sparse Row format>"
      ]
     },
     "execution_count": 4,
     "metadata": {},
     "output_type": "execute_result"
    }
   ],
   "source": [
    "X_vect"
   ]
  },
  {
   "cell_type": "code",
   "execution_count": 5,
   "id": "622a1e72-47e7-4b35-8c02-46b817700465",
   "metadata": {},
   "outputs": [
    {
     "data": {
      "text/plain": [
       "array([[0.        , 0.        , 1.55961579, 2.25276297, 1.33647224,\n",
       "        0.        , 0.        , 0.        , 0.        ],\n",
       "       [1.84729786, 0.        , 0.        , 0.        , 2.67294447,\n",
       "        0.        , 0.        , 0.        , 1.55961579],\n",
       "       [0.        , 0.        , 1.55961579, 0.        , 2.67294447,\n",
       "        0.        , 0.        , 0.        , 0.        ],\n",
       "       [0.        , 2.25276297, 0.        , 0.        , 1.33647224,\n",
       "        0.        , 0.        , 2.25276297, 0.        ],\n",
       "       [0.        , 0.        , 1.55961579, 0.        , 0.        ,\n",
       "        0.        , 2.25276297, 0.        , 1.55961579],\n",
       "       [1.84729786, 0.        , 0.        , 0.        , 0.        ,\n",
       "        2.25276297, 0.        , 0.        , 4.67884736]])"
      ]
     },
     "execution_count": 5,
     "metadata": {},
     "output_type": "execute_result"
    }
   ],
   "source": [
    "X_vect.toarray()"
   ]
  },
  {
   "cell_type": "code",
   "execution_count": 6,
   "id": "fea74cea-fc73-4629-ae56-316db7fff87b",
   "metadata": {},
   "outputs": [
    {
     "data": {
      "text/plain": [
       "{'lobos': 4,\n",
       " 'gatos': 3,\n",
       " 'elefantes': 2,\n",
       " 'caballos': 0,\n",
       " 'teatro': 8,\n",
       " 'computadora': 1,\n",
       " 'procesador': 7,\n",
       " 'pintura': 6,\n",
       " 'música': 5}"
      ]
     },
     "execution_count": 6,
     "metadata": {},
     "output_type": "execute_result"
    }
   ],
   "source": [
    "vectorizer.vocabulary_"
   ]
  },
  {
   "cell_type": "code",
   "execution_count": 7,
   "id": "7c288a5c-b6bb-4cc5-995b-a76712427276",
   "metadata": {},
   "outputs": [
    {
     "data": {
      "text/plain": [
       "array([1.84729786, 2.25276297, 1.55961579, 2.25276297, 1.33647224,\n",
       "       2.25276297, 2.25276297, 2.25276297, 1.55961579])"
      ]
     },
     "execution_count": 7,
     "metadata": {},
     "output_type": "execute_result"
    }
   ],
   "source": [
    "vectorizer.idf_"
   ]
  },
  {
   "cell_type": "markdown",
   "id": "6f7e0ffd-5f3d-4abd-98fd-ab6e2f9a5ee1",
   "metadata": {},
   "source": [
    "- Aquí tf denota la frecuencia del término y tf-idf es la frecuencia del término por la frecuencia inversa de documento. La frecuencia del termino es el número de veces que el término ocurre en el documento."
   ]
  },
  {
   "cell_type": "markdown",
   "id": "7ae343c6-d4ca-436f-b743-68deca3b5263",
   "metadata": {},
   "source": [
    "$$ \\text{tf-idf}(t, d) = \\text{tf}(t,d) \\times \\text{idf}(t)$$\n",
    "$$ \\text{idf}(t) = \\log\\frac{1 + n}{1 + \\text{df}(t)} + 1$$\n",
    "donde $n$ es el número total de documentos y $\\text{df}(t)$ es el número total de documentos que contienen el término $t$.\n",
    "\n",
    "Para la palabra \"Lobos\" con el índice de vocabulario es 4:\n",
    "\n",
    "$$ \\text{idf(lobos)} = \\log\\frac{1 + 6}{1 + 4} + 1 = 1.33$$"
   ]
  },
  {
   "cell_type": "code",
   "execution_count": 8,
   "id": "f4990428-a358-4fe4-ab6a-84d5eb9e294b",
   "metadata": {},
   "outputs": [
    {
     "data": {
      "text/plain": [
       "(1.336472236621213, 1.336472236621213)"
      ]
     },
     "execution_count": 8,
     "metadata": {},
     "output_type": "execute_result"
    }
   ],
   "source": [
    "np.log(7/5) + 1, vectorizer.idf_[4]"
   ]
  },
  {
   "cell_type": "markdown",
   "id": "1252f865-1b82-410d-b5ba-63ab8d63be5e",
   "metadata": {},
   "source": [
    "- En el primer documento, la palabra \"lobos\" aparece una vez, por lo que tf(lobos, 0) = 1 y tf-idf(lobos, 0) = $1 \\times 1.33 = 1.33$\n",
    "\n",
    "- En el segundo documento, la palabra \"lobos\" aparece dos vez, por lo que tf(lobos, 1) = 2 y tf-idf(lobos, 1) = $2 \\times 1.33 = 2.67$ "
   ]
  },
  {
   "cell_type": "code",
   "execution_count": 9,
   "id": "e3c4856c-55e7-46fa-af64-d0813c8a8586",
   "metadata": {
    "tags": []
   },
   "outputs": [
    {
     "data": {
      "text/plain": [
       "array([1.33647224, 2.67294447, 2.67294447, 1.33647224, 0.        ,\n",
       "       0.        ])"
      ]
     },
     "execution_count": 9,
     "metadata": {},
     "output_type": "execute_result"
    }
   ],
   "source": [
    "X_vect.toarray()[:, 4]"
   ]
  },
  {
   "cell_type": "markdown",
   "id": "a4fecfd6-1199-49ba-9a34-bdcdbde1d7cc",
   "metadata": {},
   "source": [
    "- Normalizando "
   ]
  },
  {
   "cell_type": "code",
   "execution_count": 10,
   "id": "ede48821-15ad-4f19-be29-76a6f8dbd2a8",
   "metadata": {},
   "outputs": [],
   "source": [
    "from numpy import linalg as LA"
   ]
  },
  {
   "cell_type": "code",
   "execution_count": 11,
   "id": "43e2761c-e96f-43de-8293-3e90efafa593",
   "metadata": {},
   "outputs": [
    {
     "data": {
      "text/plain": [
       "3.0485243085321074"
      ]
     },
     "execution_count": 11,
     "metadata": {},
     "output_type": "execute_result"
    }
   ],
   "source": [
    "l2_norm = LA.norm([0., 0., 1.55961579, 2.25276297, 1.33647224, 0., 0., 0., 0.])\n",
    "l2_norm"
   ]
  },
  {
   "cell_type": "code",
   "execution_count": 12,
   "id": "1e711977-f24a-41cf-b5a1-91d659cd700e",
   "metadata": {},
   "outputs": [
    {
     "data": {
      "text/plain": [
       "array([0.        , 0.        , 0.51159697, 0.73896835, 0.43839973,\n",
       "       0.        , 0.        , 0.        , 0.        ])"
      ]
     },
     "execution_count": 12,
     "metadata": {},
     "output_type": "execute_result"
    }
   ],
   "source": [
    "X_vect.toarray()[0] / l2_norm"
   ]
  },
  {
   "cell_type": "markdown",
   "id": "ba71fb2e-edfe-4bb3-a7cb-c33cd059f118",
   "metadata": {},
   "source": [
    "- Normalizando con TfidfVectorizer"
   ]
  },
  {
   "cell_type": "code",
   "execution_count": 13,
   "id": "aec64b3e-2fb0-44ab-8ee9-8851d08fb412",
   "metadata": {},
   "outputs": [
    {
     "data": {
      "text/plain": [
       "array([[0.        , 0.        , 0.51159697, 0.73896835, 0.43839973,\n",
       "        0.        , 0.        , 0.        , 0.        ],\n",
       "       [0.51255443, 0.        , 0.        , 0.        , 0.74163976,\n",
       "        0.        , 0.        , 0.        , 0.43273367],\n",
       "       [0.        , 0.        , 0.50396702, 0.        , 0.8637229 ,\n",
       "        0.        , 0.        , 0.        , 0.        ],\n",
       "       [0.        , 0.65205671, 0.        , 0.        , 0.3868386 ,\n",
       "        0.        , 0.        , 0.65205671, 0.        ],\n",
       "       [0.        , 0.        , 0.49468646, 0.        , 0.        ,\n",
       "        0.        , 0.71454223, 0.        , 0.49468646],\n",
       "       [0.33515812, 0.        , 0.        , 0.        , 0.        ,\n",
       "        0.40872228, 0.        , 0.        , 0.84889053]])"
      ]
     },
     "execution_count": 13,
     "metadata": {},
     "output_type": "execute_result"
    }
   ],
   "source": [
    "vectorizer = TfidfVectorizer(norm='l2')\n",
    "X_vect = vectorizer.fit_transform(X)\n",
    "X_vect.toarray()"
   ]
  },
  {
   "cell_type": "markdown",
   "id": "45f21708-e7ab-4ec4-8a80-83ebdc71823f",
   "metadata": {},
   "source": [
    "- Para utilizar TfidfVectorizer con datos de prueba utilizar únicamente el método __transform__"
   ]
  },
  {
   "cell_type": "code",
   "execution_count": 14,
   "id": "1898584a-411b-4c2d-a347-bc7cd3ba115d",
   "metadata": {},
   "outputs": [
    {
     "data": {
      "text/plain": [
       "array([[0.        , 0.73896835, 0.51159697, 0.        , 0.43839973,\n",
       "        0.        , 0.        , 0.        , 0.        ]])"
      ]
     },
     "execution_count": 14,
     "metadata": {},
     "output_type": "execute_result"
    }
   ],
   "source": [
    "X = [\"Lobos Computadora Elefantes\"]\n",
    "\n",
    "X_vect = vectorizer.transform(X)\n",
    "X_vect.toarray()"
   ]
  }
 ],
 "metadata": {
  "kernelspec": {
   "display_name": "Python 3 (ipykernel)",
   "language": "python",
   "name": "python3"
  },
  "language_info": {
   "codemirror_mode": {
    "name": "ipython",
    "version": 3
   },
   "file_extension": ".py",
   "mimetype": "text/x-python",
   "name": "python",
   "nbconvert_exporter": "python",
   "pygments_lexer": "ipython3",
   "version": "3.8.18"
  }
 },
 "nbformat": 4,
 "nbformat_minor": 5
}

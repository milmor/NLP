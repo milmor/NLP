{
 "cells": [
  {
   "cell_type": "markdown",
   "id": "11341348-85e2-4172-990f-bbe33fa2ab31",
   "metadata": {},
   "source": [
    "<table class=\"tfo-notebook-buttons\" align=\"left\">\n",
    "  <td>\n",
    "    <a target=\"_blank\" href=\"https://colab.research.google.com/github/milmor/NLP/blob/main/Notebooks/02_Cvxopt.ipynb\">\n",
    "    <img src=\"https://www.tensorflow.org/images/colab_logo_32px.png\" />\n",
    "    Run in Google Colab</a>\n",
    "  </td>\n",
    "</table>"
   ]
  },
  {
   "cell_type": "code",
   "execution_count": 1,
   "id": "c4463c29-7fbe-4a04-94e3-bc467dbab495",
   "metadata": {},
   "outputs": [
    {
     "data": {
      "text/plain": [
       "array([[0, 1, 1, 1, 0, 0, 0],\n",
       "       [1, 0, 0, 2, 0, 0, 1],\n",
       "       [0, 1, 0, 2, 0, 0, 0],\n",
       "       [0, 1, 0, 0, 0, 1, 1],\n",
       "       [1, 0, 0, 0, 1, 0, 3]])"
      ]
     },
     "execution_count": 1,
     "metadata": {},
     "output_type": "execute_result"
    }
   ],
   "source": [
    "import numpy as np\n",
    "from sklearn.feature_extraction.text import CountVectorizer\n",
    "from cvxopt import matrix, solvers\n",
    "\n",
    "# datos\n",
    "data = [\"Lobos Gatos Elefantes\",\n",
    "     \"Lobos Lobos Caballos Teatro\",\n",
    "     \"Lobos Elefantes Lobos\",\n",
    "     \"Teatro Pintura Elefantes\",\n",
    "     \"Teatro Música Caballos Teatro Teatro\"]\n",
    "\n",
    "y = np.array([1, 1, 1, -1, -1])\n",
    "\n",
    "\n",
    "# bow\n",
    "vectorizer = CountVectorizer()\n",
    "X_vect = vectorizer.fit_transform(data)\n",
    "\n",
    "X = X_vect.toarray()\n",
    "X"
   ]
  },
  {
   "cell_type": "markdown",
   "id": "31b35a96-b84a-48b7-93b3-1f7b9a89a210",
   "metadata": {},
   "source": [
    "- When you use tc='d', you're explicitly telling cvxopt to create a matrix with double precision floating-point numbers. "
   ]
  },
  {
   "cell_type": "code",
   "execution_count": 2,
   "id": "296b51ad-66a7-4ea6-9923-391d99b97f2b",
   "metadata": {},
   "outputs": [
    {
     "name": "stdout",
     "output_type": "stream",
     "text": [
      "     pcost       dcost       gap    pres   dres\n",
      " 0:  2.0340e+09 -7.2026e+09  9e+09  2e-12  2e-11\n",
      " 1:  3.9861e+08 -5.0332e+08  9e+08  1e-12  1e-11\n",
      " 2:  5.7836e+07 -6.4865e+07  1e+08  2e-13  7e-12\n",
      " 3:  8.3131e+06 -9.2455e+06  2e+07  7e-13  4e-12\n",
      " 4:  1.1921e+06 -1.3165e+06  3e+06  1e-13  6e-13\n",
      " 5:  1.7071e+05 -1.8848e+05  4e+05  7e-14  5e-13\n",
      " 6:  2.4399e+04 -2.7056e+04  5e+04  1e-16  2e-13\n",
      " 7:  3.4709e+03 -3.9016e+03  7e+03  2e-14  5e-14\n",
      " 8:  4.8756e+02 -5.6880e+02  1e+03  4e-15  1e-14\n",
      " 9:  6.5993e+01 -8.5305e+01  2e+02  4e-16  2e-14\n",
      "10:  7.8297e+00 -1.3772e+01  2e+01  9e-16  3e-15\n",
      "11:  3.3182e-01 -2.6841e+00  3e+00  2e-16  1e-15\n",
      "12: -4.5758e-01 -8.1650e-01  4e-01  2e-16  6e-16\n",
      "13: -5.1491e-01 -5.4429e-01  3e-02  9e-17  3e-16\n",
      "14: -5.2490e-01 -5.2727e-01  2e-03  2e-16  1e-16\n",
      "15: -5.2624e-01 -5.2633e-01  9e-05  2e-16  1e-16\n",
      "16: -5.2631e-01 -5.2632e-01  1e-06  2e-16  7e-17\n",
      "17: -5.2632e-01 -5.2632e-01  1e-08  2e-16  1e-16\n",
      "Optimal solution found.\n"
     ]
    }
   ],
   "source": [
    "# Number of samples\n",
    "m, n = X.shape\n",
    "\n",
    "# Compute the Gram matrix S\n",
    "S = np.dot(X, X.T)\n",
    "\n",
    "# Set up the parameters for the quadratic programming problem\n",
    "P = matrix(np.outer(y, y) * S, tc='d')\n",
    "e = matrix(-np.ones((m, 1)), tc='d')\n",
    "\n",
    "# Constraint matrices G and h (for λ_i >= 0)\n",
    "G = matrix(np.vstack((-np.eye(m), np.eye(m))), tc='d') # G = -I\n",
    "h = matrix(np.hstack((np.zeros(m), np.ones(m) * 1e5)), tc='d') # h = 0\n",
    "\n",
    "# Equality constraint matrix A and vector b (for Σ λ_i y_i = 0)\n",
    "A = matrix(y, (1, m), tc='d') # A = y^T\n",
    "b = matrix(0.0)               # b = 0\n",
    "\n",
    "# Solve the quadratic programming problem\n",
    "sol = solvers.qp(P, e, G, h, A, b)"
   ]
  },
  {
   "cell_type": "code",
   "execution_count": 3,
   "id": "47e28e47-e346-4a1e-9586-96387a613c02",
   "metadata": {},
   "outputs": [
    {
     "data": {
      "text/plain": [
       "(array([ 1.05263142e-01, -1.05263142e-01,  4.21052564e-01,  6.31579008e-01,\n",
       "        -7.70945732e-08, -5.26315708e-01, -4.21052721e-01]),\n",
       " 0.05263156852062737)"
      ]
     },
     "execution_count": 3,
     "metadata": {},
     "output_type": "execute_result"
    }
   ],
   "source": [
    "# Extract the Lagrange multipliers\n",
    "alphas = np.array(sol['x'])\n",
    "\n",
    "# Compute the weights\n",
    "w = np.sum(alphas * y[:, None] * X, axis=0)\n",
    "\n",
    "# Compute the bias\n",
    "sv = (alphas > 1e-5).flatten()\n",
    "b = np.mean(y[sv] - np.dot(X[sv], w))\n",
    "\n",
    "w, b"
   ]
  }
 ],
 "metadata": {
  "kernelspec": {
   "display_name": "Python 3 (ipykernel)",
   "language": "python",
   "name": "python3"
  },
  "language_info": {
   "codemirror_mode": {
    "name": "ipython",
    "version": 3
   },
   "file_extension": ".py",
   "mimetype": "text/x-python",
   "name": "python",
   "nbconvert_exporter": "python",
   "pygments_lexer": "ipython3",
   "version": "3.9.18"
  }
 },
 "nbformat": 4,
 "nbformat_minor": 5
}

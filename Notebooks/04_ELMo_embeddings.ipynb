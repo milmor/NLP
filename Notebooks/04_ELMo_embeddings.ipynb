{
 "cells": [
  {
   "cell_type": "code",
   "execution_count": 1,
   "id": "dbc49d9b-5f41-4169-bbda-5d77f285459f",
   "metadata": {},
   "outputs": [],
   "source": [
    "import os\n",
    "os.environ['TF_CPP_MIN_LOG_LEVEL'] = '3' # Disable tensorflow debugging logs\n",
    "import tensorflow as tf\n",
    "import matplotlib.pyplot as plt"
   ]
  },
  {
   "cell_type": "markdown",
   "id": "953c4517-86bd-4ed3-836a-f7356c895317",
   "metadata": {
    "tags": []
   },
   "source": [
    "## Importar dataset"
   ]
  },
  {
   "cell_type": "code",
   "execution_count": 2,
   "id": "3404f6ab-2dd4-4c7e-989a-ea33ee8c14f9",
   "metadata": {},
   "outputs": [],
   "source": [
    "import tensorflow_datasets as tfds\n",
    "import tensorflow_hub as hub"
   ]
  },
  {
   "cell_type": "code",
   "execution_count": 3,
   "id": "342afe6a-fe93-4832-b573-96f8e209cc1c",
   "metadata": {},
   "outputs": [],
   "source": [
    "dataset = tfds.load('imdb_reviews', as_supervised=True)"
   ]
  },
  {
   "cell_type": "code",
   "execution_count": 4,
   "id": "b155f67f-344e-4841-adab-3a2e58608756",
   "metadata": {},
   "outputs": [],
   "source": [
    "raw_train_ds, raw_test_ds = dataset['train'], dataset['test']"
   ]
  },
  {
   "cell_type": "code",
   "execution_count": 5,
   "id": "76dae875-74f1-46d0-a402-03cf4bdd4681",
   "metadata": {},
   "outputs": [
    {
     "name": "stdout",
     "output_type": "stream",
     "text": [
      "b\"This was an absolutely terrible movie. Don't be lured in by Christopher Walken or Michael Ironside. Both are great actors, but this must simply be their worst role in history. Even their great acting could not redeem this movie's ridiculous storyline. This movie is an early nineties US propaganda piece. The most pathetic scenes were those when the Columbian rebels were making their cases for revolutions. Maria Conchita Alonso appeared phony, and her pseudo-love affair with Walken was nothing but a pathetic emotional plug in a movie that was devoid of any real meaning. I am disappointed that there are movies like this, ruining actor's like Christopher Walken's good name. I could barely sit through it.\" 0\n"
     ]
    }
   ],
   "source": [
    "for text, label in raw_train_ds.take(1):\n",
    "    print(text.numpy(), label.numpy())"
   ]
  },
  {
   "cell_type": "markdown",
   "id": "be3e327c-6df0-4bde-8dc3-d67f22a8fb29",
   "metadata": {},
   "source": [
    "## Pipeline"
   ]
  },
  {
   "cell_type": "code",
   "execution_count": 6,
   "id": "4102ef0a-84b1-4e12-97c1-b06627d29349",
   "metadata": {},
   "outputs": [
    {
     "data": {
      "text/plain": [
       "25000"
      ]
     },
     "execution_count": 6,
     "metadata": {},
     "output_type": "execute_result"
    }
   ],
   "source": [
    "AUTOTUNE = tf.data.experimental.AUTOTUNE\n",
    "BUFFER_SIZE = tf.data.experimental.cardinality(raw_train_ds)\n",
    "BUFFER_SIZE.numpy()"
   ]
  },
  {
   "cell_type": "code",
   "execution_count": 7,
   "id": "288fb5a9-8fac-40a7-a696-d58adfa6d4e6",
   "metadata": {},
   "outputs": [],
   "source": [
    "def clean_text(raw_text, label):\n",
    "    lowercase = tf.strings.lower(raw_text)\n",
    "    clean = tf.strings.regex_replace(lowercase, '<br />', ' ')\n",
    "    return clean, label\n",
    "\n",
    "batch_size = 16\n",
    "voc_size = 5000\n",
    "seq_length = 20\n",
    "\n",
    "train_ds = raw_train_ds.map(clean_text).shuffle(BUFFER_SIZE).batch(\n",
    "        batch_size, num_parallel_calls=AUTOTUNE).prefetch(\n",
    "        AUTOTUNE)\n",
    "\n",
    "\n",
    "test_ds = raw_test_ds.map(clean_text).batch(\n",
    "        batch_size, num_parallel_calls=AUTOTUNE).prefetch(\n",
    "        AUTOTUNE)"
   ]
  },
  {
   "cell_type": "code",
   "execution_count": 8,
   "id": "aa013dfc-752c-4939-8064-757f5c9b447b",
   "metadata": {
    "scrolled": true,
    "tags": []
   },
   "outputs": [
    {
     "name": "stdout",
     "output_type": "stream",
     "text": [
      "(<tf.Tensor: shape=(16,), dtype=string, numpy=\n",
      "array([b\"i remember i saw this cartoon when i was 6 or 7. my grandfather picked up the video of it for free at the mall. i remember that it really sucked. the plot had no sense. i hated the fox that became casper's friend. he was so stupid! casper cried his head off if he couldn't find a friend. so what? get over it! the only good part and i don't want to sound mean-spirited was when the fox got shot and died at the end. i laughed my head off in payback because this cartoon sucked so much. the bad news is the fox resurrects and becomes a ghost. i wish he had stayed dead. i think i even gave the video of this to somebody because i hated it. no wonder they were offering it for free at the mall. if you have a child don't let them watch this. they will probably agree with me that it sucks.\",\n",
      "       b\"i have never commented on imdb before, but i feel i have to after watching the batman animation. its absolute rubbish! warner brothers had the perfect animation series in batman in the early 90s so what the hell are they doing trying to mess with the winning formula? i feel like writing a complaint letter to wb. the original animation was dark and brooding, exactly the way batman was intended to be. wb had to mess this up with some tripe batman of the future. now they produce this drivel. the joker doesn't remotely resemble the joker from dc comics. dc should sue. i urge everyone who agrees with me to email or write to wb and use people power to get back the original formula\",\n",
      "       b'\"what is love? what is this longing in our hearts for togetherness? is it not the sweetest flower? does not this flower of love have the fragrant aroma of fine, fine diamonds? does not the wind love the dirt? is not love not unlike the unlikely not it is unlikened to? are you with someone tonight? do not question your love. take your lover by the hand. release the power within yourself. your heard me, release the power. tame the wild cosmos with a whisper. conquer heaven with one intimate caress. that\\'s right don\\'t be shy. whip out everything you got and do it in the butt. by leon phelps\" when tim meadows created his quintessential snl playboy, leon phelps, i cringed. hearing his smarmy lisp and salacious comments made my remote tremble with outrage. i employed the click feature more than once, dear readers.  so when the film version of \"the ladies man\" came on cable, i mumbled a few comments of my own and clicked yet again. but there comes the day, gray and forlorn, when \"nothing is on\" any of the 100+ channels...sigh. yes \\xc2\\x96 i was faced with every cable subscribers torment \\xc2\\x96 watch it or turn my tv off! there he was, leon phelps, smirking and ...making me laugh! what had happened? had i succumbed to hollywood\\'s \\'dumb-down\\' sit-com humor? was i that desperate to avoid abdicating my sacred throne? the truth of the matter is i like \"the ladies man\" more than i should. a story about a vulgar playboy sipping cognac while leering at every female form goes against my feminist sensibilities.  what began as a crude snl skit blossomed before my eyes into a tale about leon and his playboy philosophy, going through life \"helping people\" solve their sexual conflicts. \"i am the mother teresa of boning\", he solemnly informs julie (karyn parsons), his friend and long-suffering producer of his radio show, \"the ladies man\". and he\\'s not kidding. leaving a string of broken hearts and angry spirits, leon manages to bed and breakfast just about all of chicago. that he does so with such genuine good-will is his calling-card through life.  our self-proclaimed, \"expert in the ways of love\", manages to get himself into a lot of trouble with husbands and boyfriends. one such maligned spouse, lance (will ferrell), forms a \"victims of the smiling ass, usa\" club, vowing to catch our lovable don juan. \"oh yes, we will have our revenge\", he croons to his cohorts, in a show-stopping dance number.  plus it\\'s such a total delight to see billy dee williams as lester, the tavern owner and smooth narrator of leon\\'s odyssey to find his \"sweet thing\" and a pile of cash. (where has he been hiding?) but would i choose this movie as my valentine\\'s day choice? leon\\'s search for the easy life changes him in so many profound ways - that i had to give the nod to our \"ladies man\". that he can, at the movie\\'s close, find true happiness with one woman, while still offering his outlandish advice, is the stuff of dreams!',\n",
      "       b'it\\'s nothing more than a weird coincidence that i decided to watch starlift on the 59th anniversary of the day in june 1950 when president truman\\'s ordered us forces into the korean war. starlift, you see, is set largely at travis air force base in california in the years when it was being used as a staging post for soldiers being shipped out to fight in korea. but you\\'d need to do your own research to know this because not once during the film is the name \\'korea\\' mentioned. we see transport aircraft flying out fresh troops and returning with wounded soldiers but there\\'s no mention of where these men will be fighting or getting injured. which is kind of weird for a film designed to wave the flag and salute america\\'s men in uniform. released in december 1951 by warner brothers, starlift is a very obvious effort to replicate the success of the studio\\'s star-studded world war two home-front morale booster \"hollywood canteen.\" this 1944 crowd-pleaser told the story of two soldiers spending their last three nights of leave hanging out at the famous armed forces nightclub in la hoping to get a date with joan leslie. but really it was just an excuse for warners to trot out every star under contract, from joan crawford, john garfield, and barbara stanwyck to peter lorre, bette davis, sydney greenstreet and more. starlift features two air force soldiers hoping to meet fictional starlet nell wayne (a mask-like janice rule) and persuading a bunch of warner bros stars to put on a show for the departing troops. but in place of crawford, garfield et al the best the brothers warner could scrape up in 1951 were doris day, ruth roman, gordon macrae, virginia mayo, gene nelson and phil harris with fleeting appearances by james cagney, randolph scott, and a clearly embarrassed looking gary cooper. this threadbare cast, whose combined star power would struggle to illuminate a standard lamp, is perfectly matched by the crummy production values. presumably in an effort to save money several long scenes were shot using really really bad back projection. how bad is it? you can see the join where the screen meets the floor of the soundstage! to describe starlift as a sloppy, lazy and third rate movie is to do a disservice to films which are sloppy, lazy and third rate. it\\'s just terrible. avoid it.',\n",
      "       b'since their nasty divorce from the disney company (with disney keeping the miramax brand) the weinstein company seems to specialize in above average movies which are then under-promoted and seen by few. the flock is a prime example.  a story about the civil servants who have the nasty job of keeping track of registered sex offenders, this picture will tell you more about sex criminals than an entire season of law and order - svu.  richard gere gives his best-ever performance as the soft-spoken agent worn-out by the task. claire danes for once has the opportunity to get into a solid role (instead of the junk she normally gets stuck in) and she makes the most of playing the novice. the cinematography, pacing, editing, all of it is first rate --- and i saw no trace of the attention-deficit-disorder camera jump-around or excess camera cuts that others complained about. the subject is handled with restraint, but it\\'s still a tough subject and might make you sick.  fifty years ago there was almost no problem with the kinds of sex crimes herein shown in abundance which will shock even the jaded. then came the supreme court decisions which simultaneously tied police hands as the \"rights\" of sex perverts were opened up and america was turned into a shopper\\'s paradise for sexual perversity, both willing and unwilling. each such step was met with praise by liberals, who celebrated the warren court\\'s ill deeds with glossy covers on time and newsweek. everyday liberals also praised the court\\'s action and mocked those who disagree. in 2007 how many americans know that the kind of pornography that depicts savage violence and torture of young women -- can be subscribed to, and delivery of it is subsidized by the discount periodicals rate by the us post office. just one part of the problem -- a problem that can tare anyone\\'s family to shreds.  richard gere is a liberal, but he gives his best in his performance here. perhaps in his maturing age he\\'s gained a measure of wisdom.',\n",
      "       b\"i personally thought the movie was pretty good, very good acting by tadanobu asano of ichi the killer fame. i really can't say much about the story, but there were parts that confused me a little too much, and overall i thought the movie was just too lengthy. other than that however, the movie contained superb acting great fighting and a lot of the locations were beautifully shot, great effects, and a lot of sword play. another solid effort by tadanobu asano in my opinion. well i really can't say anymore about the movie, but if you're only outlook on asian cinema is crouching tiger hidden dragon or house of flying daggers, i would suggest you trying to rent it, but if you're a die-hard asian cinema fan i would say this has to be in your collection very good japanese film.\",\n",
      "       b\"i'm not sure why this little film has been banished into obscurity, as despite some rather silly goings on; the sentinel is a clever and inventive horror film that gives most of the highly praised ghost stories of today more than a run for their money. michael winner has admitted many times that he's not the best director of all time, and that does shine through on a number of occasions with this film; but it has to be said that the film works in spite of it's uninspired direction, and the fact that winner has somehow managed to round up a simply amazing cast of talent more than makes up for it. the plot is rich with mystery, and begins by focusing on alison parker and her hunt for a flat. she finds that she can't afford most properties she looks at, but thinks her luck has changed when she finds a fully furnished apartment for an affordable price. her problems start soon after moving in, as she doesn't like her neighbours very much...and this problem increases when the property broker tells her that she has just one neighbour; an elderly blind priest on the top floor...  the cast list is truly superb, with the relatively unknown cristina raines heading up a great support cast. chris sarandon is a little wooden in his role opposite raines, but small parts for the likes of john carradine, eli wallach, ava gardner, jeff goldblum and christopher walken, to name but a handful more than make up for sarandon's lifeless portrayal. michael winner does a good job with his central location, as the block of flats provides a creepy and macabre setting for the story. the film is a little slow to start, but it's never boring; and michael winner's screenplay provides a surprise that's almost impossible to guess from the offset, which certainly deserves some praise. like many similar slow-burning horrors, this one doesn't go for the money shot early on - but unlike many, the ending is a definite climax as winner goes all out to shock the viewer, and if the rumour that he used actual human oddities is true; i've got to say that he does a very good job at it! overall, while this film may be pure hokum whichever way you look at it; the sentinel is one of the better films of its type, and it's definitely a major highlight for its director.\",\n",
      "       b\"dressed to kill (1980) is a mystery horror film from brian de palma and it really works.the atmosphere is right there.the atmosphere that makes you scared.and isn't that what a horror film is supposed to do.all the actors are in the right places.michael caine is perfect as dr. robert elliott, the shrink with a little secret.angie dickinson as kate miller, the sexually frustrated mature woman is terrific.keith gordon as her son peter is brilliant.nancy allen as liz blake the call girl is fantastic.dennis franz does his typical detective role.his detective marino is one of the most colorful in this movie.there are plenty of creepy scenes in this movie.the elevator scene is one of them.there have been made comparisons between this and alfred hitchcock's psycho (1960).there are some similarities between these two movies.both of these movies may cause some sleepless nights.\",\n",
      "       b\"i could write a big enough comment on any one of the characters in gundam wing, they could each lead the series with their internal conflicts. instead we get 8 great leads that take us through 49 golden episodes of anime bliss.  it contains dialogue that you can roll around in your head for months... years, and then go back to and derive new meaning from, a masterpiece in script writing (even though it has the typical anime trait of there being a disparity between subtitles and english dub). it has an abundance of concepts and philosophies that make you think about your own views.  the relationships between the cold unfeeling males and loving female characters is a stand alone aspect of this series. the relationship between heero and relena, and milliardo and noin are joys to watch. the apparent rejection of the male is underpinned with an inner turmoil that makes the love (a word never mentioned in the series) of the women necessary for them in their harsh soldier environment. the women are chasing aspects of the men that we rarely, if at all see, which makes the leading men all the more enigmatic. it takes heero all of the 49 episodes to show some caring, but he gets there, and when he does, its a big pay off.   and then there's the giant robot fighting. fun to watch awesome sequences as good as any hollywood epic fight scene. any less clued up person would see giant robot fighting as a silly cartoon function for kids, as has become clear when i'm trying to recommend this series to my friends, but they're wrong. many of the giant robot fights in gundam wing contain a hefty dose of pathos, usually concerning young rebels fighting for what they believe in against an oppressive society making their beliefs obsolete.  the constant shifts in tone and emphasis through each episode makes gundam wing impossible to be boring, it is a captivating, thought provoking study on the potential of the human mind and body.\",\n",
      "       b'if this movie were any worse, it would have been directed by uwe boll. this nonsensical mess makes ed wood look like hitchcock. it has been a while since i have seen this steaming pile , but i do remember that i wanted to do grievous bodily harm to all those involved. how anyone can give this movie any more than 1 star amazes me to the graciousness of all those that viewed this tripe. i give it one star because there is not a rating lower. all copies of this movie should be burned the ground sowed with salt and reserved as a landfill for the most toxic of waste. no, one copy should be kept under ultra hi security and shown only to film makers as an example of how not to do it.',\n",
      "       b\"a confused mess from start to finish. like they used to say about the beatles'songs, there was a secret message if you played the lp backward. if one had the patience to watch this films scenes from finish to start, you'd come away with the same degree of disappointment.  apart from all of this psychedelic hodge podge of flashbacks and false starts, the clearest characters were the movie backers, out for revenge if the movie didn't get sorted. there was nothing to like about these two either. overacting, shouting and threats were delivered in comic book fashion. i think one dimensional was an overstatement.  okay, so maybe the artsy types are rolling their eyes reveling in the fact that unlike them, we plebeians just didn't get it. well i'm afraid there was nothing to get. and the two cardinal sins of any bad movie carried from start to finish. a non-existent and pathetic story line if you want to call it that, and by far the worst, not a single character you cared about in the least.\",\n",
      "       b'um... okay, i guess i get the whole shaky-cam, gorilla-style filming technique but unfortunately i think a gorilla could have made a better movie... this thing was just a complete mess from the get go. bad acting, bad directing, bad story and horrific cinematography. how this piece of garbage was released i will never know, but it has and unfortunately i watched it. filmed on location in tennessee by the directing team of greg swinson and ryan thiessen (harry and lloyd), \"five across the eyes\" i\\'m assuming is supposed to resemble a \"blair witch\" type film but falls short... okay it nose dives off a cliff. i was actually embarrassed for these young women, whom i\\'m sure were promised hollywood stardom, but ended up in this dung heap. the dialog is ridiculous, and actually aggravates you as you listen to it. how this is supposed to be a horror flick is another mystery, as there is nothing even remotely scary about it, except for the fact that i watched it... try this one on for size: there is 5 of you and 1 of her, do the math and beat her ass... \"the end\". saddly it went on (and on) for 95 more minutes of mind-numbing stupidity...  i saw it for free, and wanted my money back.',\n",
      "       b\"2 stars for kay francis -- she's wonderful! and she didn't deserve this horrible tripe that warner bros. threw her way!   the two-pronged premise that this movie is based on is ridiculous and unbelievable in the extreme. kay is a small-town wife and mother who yearns for something bigger: she wants to be an actress. when a big-shot actor comes to town and invites kay to his hotel to talk about possibilities, kay tells her husband she's going to the movies. the hubby's biddy of a mother puts a bug in hubby's ear that kay's not being truthful, and he sets out looking for her. he finds her w/ the actor in the hotel (they are only talking!) and he slugs the guy, who falls over a railing, lands face-first in a pond (lake?), and dies. now here's the two unbelievable premises upon which the rest of the movie is based:   1) the judge tells the jury that if it's determined that the man died *before* his head went into the water, that they must find the hubby guilty of first degree murder. (whaaaaa?????? i think slugging a guy in a fit of rage would count for manslaughter or murder 2 at the most, not first degree murder. give me a break! but the plot required him being found guilty of murder 1 so that he could be sent to prison for life. whatever.)   2) the hubby's lawyer, after the conviction and sentencing, tells kay that it's all her fault. his reasoning is that if she hadn't gone over to the actor's room, then her husband wouldn't have had to go after her and slug the guy and kill him. he tells her that she's the guilty one, not her husband, and she nods and agrees. what. the. hell?!?!?! the rest of the movie is all about kay trying to achieve fame and money in order to get her husband released from prison and right the wrong she committed by causing him to kill the actor dude in the first place.  i can't even go on with this review. the movie was just all too painful. four years earlier, in the pre-code days, you'd never have caught kay playing such a wimp! in true kay francis fashion, though, she did do her best to make us believe that this woman was a believable character. i give her much credit for trying to breathe some life and credibility to this thankless role. this character was a far cry from pre-code kay roles and real-life spitfire kay francis.  steer way clear of this one! there are much better kay francis vehicles out there! (from personal experience, i can highly recommend mary stevens, md and jewel robbery; also good are dr. monica and one way passage. i'm sure there's other great kay flicks as well, but i'm only mentioning the ones i've seen and can recommend.)\",\n",
      "       b\"i have seen the movie holes and say that it has to be the best movie all year long. it brings out the child in everyone. i mean who would come up with the idea of having troublesome boys dig holes as their punishment? louis sachar thats who. although the movie was different from the book it was still very good. for example caveman/stanley was supposed to be the biggest one there. weight wise and height wise but zigzag/ricky was taller and armpit/theodore was bigger. also x-ray/rex was supposed to be one of the smallest boys but wasn't. the only thing that i didn't like about the movie was that the flashbacks were rather persuasive and long. i would have rather seen more of the present than past but thats just my opinion. i especially like the work of the boys though. like squid/alan who was played by jake m.smith was supposed to be a moody and tough kid. jake m.smith performed just that and did a great job at it as did almost all of the actors in holes. so i would say if you havent seen holes yet then you should definatly see it when it comes out again or you'll be missing out on a whole lotta fun.\",\n",
      "       b\"the alternate title of ecstasy, is symphony of love; a title which appropriately describes the mood and feel of the film. ecstasy is an early talkie, and could have very well been a classic film, if released during the silent film era. this film is a visual treat, and is deliberately paced so the viewer can savour its sensuous lyric quality, which is presented in an artistic low-key fashion. the director's style is distinctly european. the subject matter and approach to sexuality was far more sophisticated, than what was being produced in hollywood, at that time. consider the censorship code in the us, during the 30's, that pretty much sums it up. hedy lamarr, one of the great beauties of all time, was a perfect choice for this 'symphony of love.'\",\n",
      "       b'having just \"welcomed home\" my 23 yr old daughter from a year in iraq, camp anaconda medical support unit, i felt compelled to get this dvd. i wanted to hear other returning vets feelings in order to attempt to better understand her mentality on arrival and not waiting until after something bad happened. regardless on your take on the war and peace this movie serves as a great start for all americans to begin the healing of our returning vets emotional void. the paramount statement of the entire movie is \"take action\" on the problem . incredibly emotional movie. i would highly recommend this movie to the vet the vets entire mature family and ask that they follow through with a plan to listen comfort help the returning gulf war enduring freedom vets.  fast forward nearly one year later & my daughter has seen this dvd. took account of her emotions and actually has made a commitment to re-up for another 6 years. her take on her time spent in the sand is that she did some good. local balad children got first rate medical treatment for various common ailments not ordinarily able to afford free with an escort and translator. her look over her shoulder at her iraq tour was . \"we changed some hearts and minds back there\" great dvd you have to keep an open mind and see all sides'],\n",
      "      dtype=object)>, <tf.Tensor: shape=(16,), dtype=int64, numpy=array([0, 0, 1, 0, 1, 1, 1, 1, 1, 0, 0, 0, 0, 1, 1, 1])>)\n"
     ]
    }
   ],
   "source": [
    "for i in train_ds.take(1):\n",
    "    print(i)"
   ]
  },
  {
   "cell_type": "markdown",
   "id": "46a69291-e1ee-4d06-b8f1-9510fa3c598f",
   "metadata": {},
   "source": [
    "## Definir modelo"
   ]
  },
  {
   "cell_type": "code",
   "execution_count": 9,
   "id": "949c433c-2b5e-4320-9b59-50ae458dedef",
   "metadata": {},
   "outputs": [
    {
     "data": {
      "text/plain": [
       "<tf.Tensor: shape=(2, 4, 1024), dtype=float32, numpy=\n",
       "array([[[-0.514227  , -0.4635899 ,  0.06965357, ..., -0.74261266,\n",
       "         -0.03954674,  0.04713609],\n",
       "        [-0.27030078, -0.51212245,  0.11180548, ..., -0.18113986,\n",
       "          0.8950255 ,  0.6264232 ],\n",
       "        [-0.16576877, -0.2522542 ,  0.10615169, ...,  0.2372579 ,\n",
       "          0.09109694, -0.00911216],\n",
       "        [ 0.05849284, -0.67593753,  0.57834536, ...,  0.06305956,\n",
       "         -0.18194857,  0.4078228 ]],\n",
       "\n",
       "       [[-0.0501115 , -0.2674372 , -0.49513027, ...,  0.03255737,\n",
       "         -0.0942485 , -0.32873583],\n",
       "        [-0.8822049 , -1.1591299 , -0.3480692 , ...,  0.15842313,\n",
       "          0.05209573,  0.253683  ],\n",
       "        [-0.02840755, -0.04354125,  0.04128971, ...,  0.02580839,\n",
       "         -0.01432125, -0.01650512],\n",
       "        [-0.02840755, -0.04354125,  0.04128971, ...,  0.02580839,\n",
       "         -0.01432125, -0.01650512]]], dtype=float32)>"
      ]
     },
     "execution_count": 9,
     "metadata": {},
     "output_type": "execute_result"
    }
   ],
   "source": [
    "elmo = hub.load(\"https://tfhub.dev/google/elmo/2\").signatures[\"default\"]\n",
    "inputs = tf.constant([\"This is my dog\", \"My friend\"])\n",
    "elmo(inputs)[\"elmo\"]"
   ]
  },
  {
   "cell_type": "code",
   "execution_count": 10,
   "id": "59d56968-9a5f-4dec-adaf-a4e7d8f66f91",
   "metadata": {},
   "outputs": [],
   "source": [
    "elmo_rnn = tf.keras.Sequential([\n",
    "    hub.KerasLayer(\"https://tfhub.dev/google/elmo/2\", trainable=False),\n",
    "    tf.keras.layers.Embedding(\n",
    "        input_dim=voc_size, output_dim=128),\n",
    "    tf.keras.layers.SimpleRNN(128),\n",
    "    tf.keras.layers.Dense(1)\n",
    "])"
   ]
  },
  {
   "cell_type": "markdown",
   "id": "3ea47915-00bb-42f5-81e4-d33d3e37b4be",
   "metadata": {},
   "source": [
    "- Probar rnn con batch de prueba"
   ]
  },
  {
   "cell_type": "code",
   "execution_count": 11,
   "id": "aa876b8a-c6fa-4c9d-8819-476b70288bc9",
   "metadata": {},
   "outputs": [
    {
     "data": {
      "text/plain": [
       "<tf.Tensor: shape=(2, 1), dtype=float32, numpy=\n",
       "array([[0.02728894],\n",
       "       [0.03234689]], dtype=float32)>"
      ]
     },
     "execution_count": 11,
     "metadata": {},
     "output_type": "execute_result"
    }
   ],
   "source": [
    "elmo_rnn(inputs)"
   ]
  },
  {
   "cell_type": "markdown",
   "id": "ddfca56a-eb6d-418c-9b11-4a5300ab9bd1",
   "metadata": {},
   "source": [
    "- Información del modelo"
   ]
  },
  {
   "cell_type": "code",
   "execution_count": 12,
   "id": "a315c30f-f107-43fa-b5d6-1a4334ff0c3e",
   "metadata": {},
   "outputs": [
    {
     "name": "stdout",
     "output_type": "stream",
     "text": [
      "Model: \"sequential\"\n",
      "_________________________________________________________________\n",
      " Layer (type)                Output Shape              Param #   \n",
      "=================================================================\n",
      " keras_layer (KerasLayer)    (None, 1024)              93600852  \n",
      "                                                                 \n",
      " embedding (Embedding)       (None, 1024, 128)         640000    \n",
      "                                                                 \n",
      " simple_rnn (SimpleRNN)      (None, 128)               32896     \n",
      "                                                                 \n",
      " dense (Dense)               (None, 1)                 129       \n",
      "                                                                 \n",
      "=================================================================\n",
      "Total params: 94,273,877\n",
      "Trainable params: 673,025\n",
      "Non-trainable params: 93,600,852\n",
      "_________________________________________________________________\n"
     ]
    }
   ],
   "source": [
    "elmo_rnn.summary()"
   ]
  },
  {
   "cell_type": "markdown",
   "id": "78948806-9b9b-4a4b-960b-e3668b750240",
   "metadata": {},
   "source": [
    "## Entrenamiento "
   ]
  },
  {
   "cell_type": "code",
   "execution_count": 13,
   "id": "29a2b23f-a780-4b94-b280-5feeecc07ad1",
   "metadata": {},
   "outputs": [],
   "source": [
    "loss = tf.keras.losses.BinaryCrossentropy(from_logits=True)"
   ]
  },
  {
   "cell_type": "code",
   "execution_count": 14,
   "id": "1f299f93-f2ac-4964-a2fb-bdfd7668217e",
   "metadata": {},
   "outputs": [],
   "source": [
    "opt = tf.keras.optimizers.SGD(learning_rate=0.001)"
   ]
  },
  {
   "cell_type": "code",
   "execution_count": 15,
   "id": "6578dcd0-2eca-4a94-8d6d-2efbba652d92",
   "metadata": {},
   "outputs": [],
   "source": [
    "metrics = tf.metrics.BinaryAccuracy()"
   ]
  },
  {
   "cell_type": "code",
   "execution_count": 16,
   "id": "f131dd23-8c8f-450c-9a86-b5c6b71a2868",
   "metadata": {},
   "outputs": [
    {
     "data": {
      "text/plain": [
       "(1563, <tf.Tensor: shape=(), dtype=int64, numpy=1563>)"
      ]
     },
     "execution_count": 16,
     "metadata": {},
     "output_type": "execute_result"
    }
   ],
   "source": [
    "len(test_ds), tf.data.experimental.cardinality(test_ds)"
   ]
  },
  {
   "cell_type": "code",
   "execution_count": 17,
   "id": "73f48684-b2e5-4698-90e1-1ecb05d73ef9",
   "metadata": {},
   "outputs": [],
   "source": [
    "elmo_rnn.compile(optimizer=opt,\n",
    "                 loss=loss,\n",
    "                 metrics=metrics)"
   ]
  },
  {
   "cell_type": "code",
   "execution_count": 18,
   "id": "a761811b-6555-43e6-ae7a-031c50781aab",
   "metadata": {},
   "outputs": [],
   "source": [
    "epochs = 3"
   ]
  },
  {
   "cell_type": "code",
   "execution_count": null,
   "id": "426bc9e1-41ff-4174-be93-2e045ba30036",
   "metadata": {},
   "outputs": [
    {
     "name": "stdout",
     "output_type": "stream",
     "text": [
      "Epoch 1/3\n",
      " 309/1563 [====>.........................] - ETA: 44:40 - loss: 0.6941 - binary_accuracy: 0.4869"
     ]
    }
   ],
   "source": [
    "history = elmo_rnn.fit(train_ds,\n",
    "                       validation_data=test_ds,\n",
    "                       epochs=epochs)"
   ]
  },
  {
   "cell_type": "markdown",
   "id": "46b65344-200a-4892-ae57-a8e4bf553eda",
   "metadata": {},
   "source": [
    "- ELMo contiene aprendizaje que se puede aprovechar para obtener mejor accuracy, sin embargo, consiste en un gran número de parámetros, lo que implica que el entrenamiento requiera de mayor memoria y tiempo de procesamiento."
   ]
  },
  {
   "cell_type": "markdown",
   "id": "65c48752-cf76-48ac-997d-8f245d257811",
   "metadata": {},
   "source": [
    "## Ejercicio"
   ]
  },
  {
   "cell_type": "markdown",
   "id": "0d1df65d-ba82-4850-b59b-768a3cc8ff51",
   "metadata": {},
   "source": [
    "- Utilizar TFEecords https://www.tensorflow.org/tutorials/load_data/tfrecord para guardar los embeddings y acelerar el entrenamiento."
   ]
  }
 ],
 "metadata": {
  "kernelspec": {
   "display_name": "Python 3 (ipykernel)",
   "language": "python",
   "name": "python3"
  },
  "language_info": {
   "codemirror_mode": {
    "name": "ipython",
    "version": 3
   },
   "file_extension": ".py",
   "mimetype": "text/x-python",
   "name": "python",
   "nbconvert_exporter": "python",
   "pygments_lexer": "ipython3",
   "version": "3.7.11"
  }
 },
 "nbformat": 4,
 "nbformat_minor": 5
}

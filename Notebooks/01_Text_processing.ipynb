{
 "cells": [
  {
   "cell_type": "code",
   "execution_count": 1,
   "id": "dbc49d9b-5f41-4169-bbda-5d77f285459f",
   "metadata": {},
   "outputs": [],
   "source": [
    "import os\n",
    "os.environ['TF_CPP_MIN_LOG_LEVEL'] = '3' # Disable tensorflow debugging logs\n",
    "import tensorflow as tf\n",
    "import matplotlib.pyplot as plt"
   ]
  },
  {
   "cell_type": "markdown",
   "id": "12769da3-4b85-488f-ac95-3fa9258e7aa2",
   "metadata": {},
   "source": [
    "## Introducción a tensores"
   ]
  },
  {
   "cell_type": "markdown",
   "id": "dce10320-6411-42c1-8928-f6fdb78f32c1",
   "metadata": {},
   "source": [
    "- Tensor"
   ]
  },
  {
   "cell_type": "code",
   "execution_count": 2,
   "id": "dc1f72e7-3276-4e67-9eca-e4bac5b5a5d4",
   "metadata": {
    "scrolled": true,
    "tags": []
   },
   "outputs": [
    {
     "data": {
      "text/plain": [
       "<tf.Tensor: shape=(), dtype=int32, numpy=4>"
      ]
     },
     "execution_count": 2,
     "metadata": {},
     "output_type": "execute_result"
    }
   ],
   "source": [
    "tensor = tf.constant(4)\n",
    "tensor"
   ]
  },
  {
   "cell_type": "markdown",
   "id": "3a642caa-21df-4ba3-94ea-ac7cd008fa10",
   "metadata": {},
   "source": [
    "- Vector"
   ]
  },
  {
   "cell_type": "code",
   "execution_count": 3,
   "id": "fbe90022-cc15-4a43-9bd0-8a929dbdf665",
   "metadata": {},
   "outputs": [
    {
     "data": {
      "text/plain": [
       "<tf.Tensor: shape=(3,), dtype=int32, numpy=array([3, 4, 5], dtype=int32)>"
      ]
     },
     "execution_count": 3,
     "metadata": {},
     "output_type": "execute_result"
    }
   ],
   "source": [
    "tensor = tf.constant([3, 4, 5])\n",
    "tensor"
   ]
  },
  {
   "cell_type": "markdown",
   "id": "16ea38b5-b7d8-42e0-b563-b8c9a7c5868a",
   "metadata": {},
   "source": [
    "- Obtener dimensión de tensor con __shape__"
   ]
  },
  {
   "cell_type": "code",
   "execution_count": 4,
   "id": "3c55475b-4fac-4c19-99f1-0bf08394906d",
   "metadata": {},
   "outputs": [
    {
     "data": {
      "text/plain": [
       "TensorShape([3])"
      ]
     },
     "execution_count": 4,
     "metadata": {},
     "output_type": "execute_result"
    }
   ],
   "source": [
    "tensor.shape"
   ]
  },
  {
   "cell_type": "markdown",
   "id": "6eab6fb3-c3c0-41bb-ad4c-fff7f83c3adb",
   "metadata": {},
   "source": [
    "- Tensor de 2 dimensiones"
   ]
  },
  {
   "cell_type": "code",
   "execution_count": 5,
   "id": "7b814980-000e-461e-be16-376c028c1729",
   "metadata": {},
   "outputs": [
    {
     "data": {
      "text/plain": [
       "(<tf.Tensor: shape=(2, 3), dtype=int32, numpy=\n",
       " array([[3, 4, 5],\n",
       "        [3, 4, 5]], dtype=int32)>,\n",
       " TensorShape([2, 3]))"
      ]
     },
     "execution_count": 5,
     "metadata": {},
     "output_type": "execute_result"
    }
   ],
   "source": [
    "tensor = tf.constant([[3, 4, 5], [3, 4, 5]])\n",
    "tensor, tensor.shape"
   ]
  },
  {
   "cell_type": "markdown",
   "id": "b2d72431-0440-4dcf-bfa3-8b52d03cc61f",
   "metadata": {},
   "source": [
    "- Ejercicio: Crear un tensor de $3 \\times 3 \\times 2 \\times 1$"
   ]
  },
  {
   "cell_type": "code",
   "execution_count": null,
   "id": "0887a4cf-5f57-4b4c-8973-5b02aa39ee96",
   "metadata": {},
   "outputs": [],
   "source": []
  },
  {
   "cell_type": "markdown",
   "id": "8e159f89-9b16-4584-bcd1-7a7ba449dff1",
   "metadata": {},
   "source": [
    "### Operaciones de tensores"
   ]
  },
  {
   "cell_type": "code",
   "execution_count": 6,
   "id": "3c8891c4-e477-4f0d-863f-eac6bc99ab63",
   "metadata": {},
   "outputs": [],
   "source": [
    "tensor = tf.constant([[3, 4], [3, 4]])"
   ]
  },
  {
   "cell_type": "code",
   "execution_count": 7,
   "id": "32076b47-196f-4d57-ba95-5b6b7cb25ec6",
   "metadata": {},
   "outputs": [
    {
     "data": {
      "text/plain": [
       "<tf.Tensor: shape=(2, 2), dtype=int32, numpy=\n",
       "array([[6, 8],\n",
       "       [6, 8]], dtype=int32)>"
      ]
     },
     "execution_count": 7,
     "metadata": {},
     "output_type": "execute_result"
    }
   ],
   "source": [
    "tensor + tensor"
   ]
  },
  {
   "cell_type": "code",
   "execution_count": 8,
   "id": "511b1a2b-9114-4f1a-a483-a84578d940fd",
   "metadata": {},
   "outputs": [
    {
     "data": {
      "text/plain": [
       "<tf.Tensor: shape=(2, 2), dtype=int32, numpy=\n",
       "array([[ 9, 16],\n",
       "       [ 9, 16]], dtype=int32)>"
      ]
     },
     "execution_count": 8,
     "metadata": {},
     "output_type": "execute_result"
    }
   ],
   "source": [
    "tensor * tensor"
   ]
  },
  {
   "cell_type": "markdown",
   "id": "d3011a4f-c8ef-4f8a-983a-5b24809a31f0",
   "metadata": {},
   "source": [
    "- Multiplicación de matrices con __@__"
   ]
  },
  {
   "cell_type": "code",
   "execution_count": 9,
   "id": "4a0c896b-76cf-4cd6-b889-93f0602c74e7",
   "metadata": {},
   "outputs": [
    {
     "data": {
      "text/plain": [
       "<tf.Tensor: shape=(2, 2), dtype=int32, numpy=\n",
       "array([[21, 28],\n",
       "       [21, 28]], dtype=int32)>"
      ]
     },
     "execution_count": 9,
     "metadata": {},
     "output_type": "execute_result"
    }
   ],
   "source": [
    "tensor @ tensor"
   ]
  },
  {
   "cell_type": "markdown",
   "id": "d45d9dda-e20e-40a5-b450-a9b7de96c923",
   "metadata": {},
   "source": [
    "### Métodos de tensores"
   ]
  },
  {
   "cell_type": "markdown",
   "id": "5f6f6006-345a-4a8e-aea9-0b733b984aa6",
   "metadata": {},
   "source": [
    "- Inicialización en ceros. Pasar como argumento la dimensión del tensor"
   ]
  },
  {
   "cell_type": "code",
   "execution_count": 10,
   "id": "245b78ac-259e-4a2f-b1c5-5ca93b499def",
   "metadata": {},
   "outputs": [
    {
     "data": {
      "text/plain": [
       "TensorShape([3, 3, 9])"
      ]
     },
     "execution_count": 10,
     "metadata": {},
     "output_type": "execute_result"
    }
   ],
   "source": [
    "tensor = tf.zeros([3, 3, 9])\n",
    "tensor.shape"
   ]
  },
  {
   "cell_type": "markdown",
   "id": "fe06f762-23a6-46b2-8497-f79deeb055f3",
   "metadata": {},
   "source": [
    "- Método __reshape__"
   ]
  },
  {
   "cell_type": "code",
   "execution_count": 11,
   "id": "7e6a6ec2-eb5d-4fe9-ae19-d64b25735044",
   "metadata": {},
   "outputs": [
    {
     "data": {
      "text/plain": [
       "<tf.Tensor: shape=(9, 9), dtype=float32, numpy=\n",
       "array([[0., 0., 0., 0., 0., 0., 0., 0., 0.],\n",
       "       [0., 0., 0., 0., 0., 0., 0., 0., 0.],\n",
       "       [0., 0., 0., 0., 0., 0., 0., 0., 0.],\n",
       "       [0., 0., 0., 0., 0., 0., 0., 0., 0.],\n",
       "       [0., 0., 0., 0., 0., 0., 0., 0., 0.],\n",
       "       [0., 0., 0., 0., 0., 0., 0., 0., 0.],\n",
       "       [0., 0., 0., 0., 0., 0., 0., 0., 0.],\n",
       "       [0., 0., 0., 0., 0., 0., 0., 0., 0.],\n",
       "       [0., 0., 0., 0., 0., 0., 0., 0., 0.]], dtype=float32)>"
      ]
     },
     "execution_count": 11,
     "metadata": {},
     "output_type": "execute_result"
    }
   ],
   "source": [
    "tf.reshape(tensor, [9, 9])"
   ]
  },
  {
   "cell_type": "markdown",
   "id": "5ae8856b-d97f-4862-ac9c-37325e604715",
   "metadata": {},
   "source": [
    "- Cast de tensores"
   ]
  },
  {
   "cell_type": "code",
   "execution_count": 12,
   "id": "04078808-05b0-4b80-8b3e-6d0a7ad7f732",
   "metadata": {},
   "outputs": [
    {
     "data": {
      "text/plain": [
       "<tf.Tensor: shape=(3, 3, 9), dtype=uint8, numpy=\n",
       "array([[[0, 0, 0, 0, 0, 0, 0, 0, 0],\n",
       "        [0, 0, 0, 0, 0, 0, 0, 0, 0],\n",
       "        [0, 0, 0, 0, 0, 0, 0, 0, 0]],\n",
       "\n",
       "       [[0, 0, 0, 0, 0, 0, 0, 0, 0],\n",
       "        [0, 0, 0, 0, 0, 0, 0, 0, 0],\n",
       "        [0, 0, 0, 0, 0, 0, 0, 0, 0]],\n",
       "\n",
       "       [[0, 0, 0, 0, 0, 0, 0, 0, 0],\n",
       "        [0, 0, 0, 0, 0, 0, 0, 0, 0],\n",
       "        [0, 0, 0, 0, 0, 0, 0, 0, 0]]], dtype=uint8)>"
      ]
     },
     "execution_count": 12,
     "metadata": {},
     "output_type": "execute_result"
    }
   ],
   "source": [
    "tf.cast(tensor, dtype=tf.uint8)"
   ]
  },
  {
   "cell_type": "markdown",
   "id": "813a8d7e-c69e-40d8-9c33-116968e17bc1",
   "metadata": {},
   "source": [
    "- Método __range__"
   ]
  },
  {
   "cell_type": "code",
   "execution_count": 13,
   "id": "68ce2cb1-ef06-4af4-8092-9f3361bd92c0",
   "metadata": {},
   "outputs": [
    {
     "data": {
      "text/plain": [
       "<tf.Tensor: shape=(4,), dtype=int32, numpy=array([4, 5, 6, 7], dtype=int32)>"
      ]
     },
     "execution_count": 13,
     "metadata": {},
     "output_type": "execute_result"
    }
   ],
   "source": [
    "tf.range(4, 8)"
   ]
  },
  {
   "cell_type": "markdown",
   "id": "74899028-b1b8-44a9-849e-e19493b9d5e0",
   "metadata": {},
   "source": [
    "### Cadenas en tensores"
   ]
  },
  {
   "cell_type": "code",
   "execution_count": 14,
   "id": "ae8260e9-33c7-46f9-a149-890dfba741e2",
   "metadata": {},
   "outputs": [
    {
     "data": {
      "text/plain": [
       "<tf.Tensor: shape=(1,), dtype=string, numpy=array([b'Hola como estas'], dtype=object)>"
      ]
     },
     "execution_count": 14,
     "metadata": {},
     "output_type": "execute_result"
    }
   ],
   "source": [
    "tf.constant(['Hola como estas'])"
   ]
  },
  {
   "cell_type": "markdown",
   "id": "d3afd48f-7d9d-474b-8a3d-67ecfea3ba57",
   "metadata": {},
   "source": [
    "- Listas de cadenas"
   ]
  },
  {
   "cell_type": "code",
   "execution_count": 15,
   "id": "f77e7125-0ce5-4286-8ef3-ace1b9c318f5",
   "metadata": {},
   "outputs": [
    {
     "data": {
      "text/plain": [
       "(<tf.Tensor: shape=(), dtype=string, numpy=b'Hola como estas'>,\n",
       " <tf.Tensor: shape=(), dtype=string, numpy=b'Que haciendo?'>)"
      ]
     },
     "execution_count": 15,
     "metadata": {},
     "output_type": "execute_result"
    }
   ],
   "source": [
    "string = tf.constant(['Hola como estas',\n",
    "                      'Bien y tu?',\n",
    "                      'Que haciendo?'])\n",
    "\n",
    "string[0], string[2]"
   ]
  },
  {
   "cell_type": "markdown",
   "id": "953c4517-86bd-4ed3-836a-f7356c895317",
   "metadata": {},
   "source": [
    "## Descargar dataset"
   ]
  },
  {
   "cell_type": "code",
   "execution_count": 16,
   "id": "3404f6ab-2dd4-4c7e-989a-ea33ee8c14f9",
   "metadata": {},
   "outputs": [
    {
     "name": "stdout",
     "output_type": "stream",
     "text": [
      "  % Total    % Received % Xferd  Average Speed   Time    Time     Time  Current\n",
      "                                 Dload  Upload   Total   Spent    Left  Speed\n",
      "100 80.2M  100 80.2M    0     0  7323k      0  0:00:11  0:00:11 --:--:-- 8172k\n"
     ]
    }
   ],
   "source": [
    "!curl -O https://ai.stanford.edu/~amaas/data/sentiment/aclImdb_v1.tar.gz\n",
    "!tar -xf aclImdb_v1.tar.gz"
   ]
  },
  {
   "cell_type": "code",
   "execution_count": 17,
   "id": "8b0907e5-9066-4ebe-87c1-ce1fbdc1149e",
   "metadata": {},
   "outputs": [
    {
     "name": "stdout",
     "output_type": "stream",
     "text": [
      "labeledBow.feat  pos\tunsupBow.feat  urls_pos.txt\n",
      "neg\t\t unsup\turls_neg.txt   urls_unsup.txt\n"
     ]
    }
   ],
   "source": [
    "!ls aclImdb/train"
   ]
  },
  {
   "cell_type": "code",
   "execution_count": 18,
   "id": "567e78c2-8ed7-4506-a1c1-800c60268282",
   "metadata": {},
   "outputs": [
    {
     "name": "stdout",
     "output_type": "stream",
     "text": [
      "labeledBow.feat  neg  pos  urls_neg.txt  urls_pos.txt\n"
     ]
    }
   ],
   "source": [
    "!ls aclImdb/test"
   ]
  },
  {
   "cell_type": "markdown",
   "id": "3fe4c835-bb11-4015-ab30-4416253cdb7d",
   "metadata": {},
   "source": [
    "## Preparar dataset"
   ]
  },
  {
   "cell_type": "code",
   "execution_count": 19,
   "id": "191748ae-1ac1-4ea6-8da5-7b6577c32502",
   "metadata": {},
   "outputs": [],
   "source": [
    "!rm -r aclImdb/train/unsup\n",
    "!rm -r aclImdb/train/*.txt\n",
    "!rm -r aclImdb/test/*.txt"
   ]
  },
  {
   "cell_type": "code",
   "execution_count": 20,
   "id": "97e0c428-9e79-4470-b416-edaeac2125b9",
   "metadata": {},
   "outputs": [
    {
     "name": "stdout",
     "output_type": "stream",
     "text": [
      "tf.Tensor(b\"I think Lion King 1 1/2 is one of the best sequels ever as if not the best out of the three Lion King movies! In the movie Timon and Pumbaa tell us where they came from and having trouble fitting in with others such as Timon having trouble digging tunnels with other Meercats! Timon and Pumbaa journey off into finding their dream place and find it and soon find it and also Simba who they raise but soon they must choose between their dream place or helping Simba face his evil Uncle Scar and proclaim his right as the Lion King of Pride Rock! Filled with wonderful new characters like Timon's Ma(Julie Kavner) and Uncle Max (Jerry Stiller). I think my favorite character was Uncle Max because he was very funney and was voiced by a funney comedian Jerry Stiller the father of Ben Stiller. Disney was smart to cast Stiller in that role! Filled with wonderful characters, animation, and story and music Lion King 1 1/2 is in my opinion the best of any sequel and better than Simba's Pride even though I will admit I really did like that one too! Lion King 1 1/2 is a great Disney sequel the whole family can enjoy! It's got a good story and is very funney! 10 out of 10!\", shape=(), dtype=string) tf.Tensor(1, shape=(), dtype=int32)\n"
     ]
    }
   ],
   "source": [
    "train_paths = './aclImdb/train/*/*.txt'\n",
    "test_paths = './aclImdb/train/*/*.txt'\n",
    "\n",
    "train_files = tf.data.Dataset.list_files(train_paths)\n",
    "test_files = tf.data.Dataset.list_files(test_paths)\n",
    "\n",
    "def load_txt(filename):\n",
    "    label = tf.strings.split(filename, sep='/')[3]\n",
    "    raw_text = tf.io.read_file(filename)\n",
    "    \n",
    "    if label == 'pos':\n",
    "        return raw_text, 1\n",
    "    else:\n",
    "        return raw_text, 0\n",
    "    \n",
    "raw_train_ds = train_files.map(load_txt) \n",
    "raw_test_ds = test_files.map(load_txt)  \n",
    "\n",
    "for text, label in raw_train_ds.take(1):\n",
    "    print(text, label)"
   ]
  },
  {
   "cell_type": "code",
   "execution_count": 21,
   "id": "39b8f2a7-f119-48ae-8dba-f8fa7fb03b22",
   "metadata": {},
   "outputs": [
    {
     "data": {
      "text/plain": [
       "25000"
      ]
     },
     "execution_count": 21,
     "metadata": {},
     "output_type": "execute_result"
    }
   ],
   "source": [
    "AUTOTUNE = tf.data.experimental.AUTOTUNE\n",
    "BUFFER_SIZE = tf.data.experimental.cardinality(raw_train_ds)\n",
    "BUFFER_SIZE.numpy()"
   ]
  },
  {
   "cell_type": "code",
   "execution_count": 22,
   "id": "b380bb5a-b845-4440-a468-147af7bbcb43",
   "metadata": {},
   "outputs": [],
   "source": [
    "batch_size = 16\n",
    "voc_size = 5000\n",
    "seq_length = 20\n",
    "\n",
    "train_ds = raw_train_ds.shuffle(BUFFER_SIZE).batch(\n",
    "        batch_size, num_parallel_calls=AUTOTUNE).prefetch(\n",
    "        AUTOTUNE)\n",
    "\n",
    "test_ds = raw_test_ds.batch(\n",
    "        batch_size, num_parallel_calls=AUTOTUNE).prefetch(\n",
    "        AUTOTUNE)"
   ]
  },
  {
   "cell_type": "code",
   "execution_count": 23,
   "id": "48972e5d-a421-415c-bbae-c3b1440ea599",
   "metadata": {
    "scrolled": true,
    "tags": []
   },
   "outputs": [
    {
     "name": "stdout",
     "output_type": "stream",
     "text": [
      "(16,)\n"
     ]
    }
   ],
   "source": [
    "for text, label in train_ds.take(1):\n",
    "    print(text.shape)"
   ]
  },
  {
   "cell_type": "markdown",
   "id": "66bae1da-6e63-4d24-828d-3347905e8e10",
   "metadata": {},
   "source": [
    "## Definir modelo"
   ]
  },
  {
   "cell_type": "code",
   "execution_count": 24,
   "id": "280ce233-1688-4c27-be29-dec42ab51b17",
   "metadata": {},
   "outputs": [],
   "source": [
    "from tensorflow.keras.layers import TextVectorization"
   ]
  },
  {
   "cell_type": "code",
   "execution_count": 25,
   "id": "288fb5a9-8fac-40a7-a696-d58adfa6d4e6",
   "metadata": {},
   "outputs": [],
   "source": [
    "def clean_text(raw_text):\n",
    "    lowercase = tf.strings.lower(raw_text)\n",
    "    clean = tf.strings.regex_replace(lowercase, '<br />', ' ')\n",
    "    return clean\n",
    "\n",
    "vectorize_layer = TextVectorization(\n",
    "    standardize=clean_text,\n",
    "    max_tokens=voc_size,\n",
    "    output_mode='int',\n",
    "    output_sequence_length=seq_length)"
   ]
  },
  {
   "cell_type": "markdown",
   "id": "a3ee458d-4856-40c4-b3f7-e9adeda67af5",
   "metadata": {},
   "source": [
    "- Adaptar la capa"
   ]
  },
  {
   "cell_type": "code",
   "execution_count": 26,
   "id": "42deec01-632e-406a-96d2-bea5dc563572",
   "metadata": {},
   "outputs": [],
   "source": [
    "vectorize_layer_ds = train_ds.map(lambda text, label: text)\n",
    "vectorize_layer.adapt(vectorize_layer_ds)"
   ]
  },
  {
   "cell_type": "code",
   "execution_count": 35,
   "id": "a992d26a-a2a5-43a6-801a-69185baa09da",
   "metadata": {
    "scrolled": true,
    "tags": []
   },
   "outputs": [
    {
     "data": {
      "text/plain": [
       "['', '[UNK]', 'the', 'a', 'and', 'of', 'to', 'is', 'in', 'i']"
      ]
     },
     "execution_count": 35,
     "metadata": {},
     "output_type": "execute_result"
    }
   ],
   "source": [
    "vectorize_layer.get_vocabulary()[:10]"
   ]
  },
  {
   "cell_type": "markdown",
   "id": "5dd289ef-b4ea-43f9-b059-4439e4a71888",
   "metadata": {},
   "source": [
    "- Probar vectorize_layer con batch de prueba"
   ]
  },
  {
   "cell_type": "code",
   "execution_count": 36,
   "id": "5a5741fa-1582-4479-9697-9aa424da11be",
   "metadata": {},
   "outputs": [
    {
     "data": {
      "text/plain": [
       "<tf.Tensor: shape=(1, 20), dtype=int64, numpy=\n",
       "array([[ 1, 48,  0,  0,  0,  0,  0,  0,  0,  0,  0,  0,  0,  0,  0,  0,\n",
       "         0,  0,  0,  0]])>"
      ]
     },
     "execution_count": 36,
     "metadata": {},
     "output_type": "execute_result"
    }
   ],
   "source": [
    "test_batch = tf.constant([['Hi there']])\n",
    "vectorize_layer(test_batch)"
   ]
  },
  {
   "cell_type": "markdown",
   "id": "71657c1a-4c1f-4ced-8e01-2639c615c482",
   "metadata": {},
   "source": [
    "<img src=\"../img/rnn.png\" width=\"500\"/>\n",
    "\n",
    "__Imagen tomada de Goodfellow, I., Bengio, Y., & Courville, A. (2016). Deep learning. MIT press.__"
   ]
  },
  {
   "cell_type": "code",
   "execution_count": 37,
   "id": "59d56968-9a5f-4dec-adaf-a4e7d8f66f91",
   "metadata": {},
   "outputs": [],
   "source": [
    "rnn = tf.keras.Sequential([\n",
    "    vectorize_layer,\n",
    "    tf.keras.layers.Embedding(\n",
    "        input_dim=voc_size, output_dim=128),\n",
    "    tf.keras.layers.SimpleRNN(128),\n",
    "    tf.keras.layers.Dense(1)\n",
    "])"
   ]
  },
  {
   "cell_type": "markdown",
   "id": "3ea47915-00bb-42f5-81e4-d33d3e37b4be",
   "metadata": {},
   "source": [
    "- Probar rnn con batch de prueba"
   ]
  },
  {
   "cell_type": "code",
   "execution_count": 38,
   "id": "aa876b8a-c6fa-4c9d-8819-476b70288bc9",
   "metadata": {},
   "outputs": [
    {
     "data": {
      "text/plain": [
       "<tf.Tensor: shape=(1, 1), dtype=float32, numpy=array([[0.39966172]], dtype=float32)>"
      ]
     },
     "execution_count": 38,
     "metadata": {},
     "output_type": "execute_result"
    }
   ],
   "source": [
    "rnn(test_batch)"
   ]
  },
  {
   "cell_type": "markdown",
   "id": "ddfca56a-eb6d-418c-9b11-4a5300ab9bd1",
   "metadata": {},
   "source": [
    "- Información del modelo"
   ]
  },
  {
   "cell_type": "code",
   "execution_count": 39,
   "id": "a315c30f-f107-43fa-b5d6-1a4334ff0c3e",
   "metadata": {},
   "outputs": [
    {
     "name": "stdout",
     "output_type": "stream",
     "text": [
      "Model: \"sequential_1\"\n",
      "_________________________________________________________________\n",
      " Layer (type)                Output Shape              Param #   \n",
      "=================================================================\n",
      " text_vectorization (TextVec  (None, 20)               0         \n",
      " torization)                                                     \n",
      "                                                                 \n",
      " embedding_1 (Embedding)     (None, 20, 128)           640000    \n",
      "                                                                 \n",
      " simple_rnn_1 (SimpleRNN)    (None, 128)               32896     \n",
      "                                                                 \n",
      " dense_1 (Dense)             (None, 1)                 129       \n",
      "                                                                 \n",
      "=================================================================\n",
      "Total params: 673,025\n",
      "Trainable params: 673,025\n",
      "Non-trainable params: 0\n",
      "_________________________________________________________________\n"
     ]
    }
   ],
   "source": [
    "rnn.summary()"
   ]
  },
  {
   "cell_type": "markdown",
   "id": "78948806-9b9b-4a4b-960b-e3668b750240",
   "metadata": {},
   "source": [
    "## Entrenamiento "
   ]
  },
  {
   "cell_type": "markdown",
   "id": "407fc7b0-f9b4-4662-9c3c-e567dd65c562",
   "metadata": {},
   "source": [
    "- Compilar modelo con oprimizador y función de pérdida"
   ]
  },
  {
   "cell_type": "code",
   "execution_count": 40,
   "id": "1f299f93-f2ac-4964-a2fb-bdfd7668217e",
   "metadata": {},
   "outputs": [],
   "source": [
    "rnn.compile(loss=tf.keras.losses.BinaryCrossentropy(from_logits=True),\n",
    "            optimizer='sgd',\n",
    "            metrics=['accuracy'])"
   ]
  },
  {
   "cell_type": "code",
   "execution_count": 41,
   "id": "a761811b-6555-43e6-ae7a-031c50781aab",
   "metadata": {},
   "outputs": [],
   "source": [
    "epochs = 3"
   ]
  },
  {
   "cell_type": "code",
   "execution_count": 42,
   "id": "2901f270-12c3-4892-bc8a-7be573b6e4fa",
   "metadata": {},
   "outputs": [
    {
     "name": "stdout",
     "output_type": "stream",
     "text": [
      "Epoch 1/3\n",
      "1563/1563 [==============================] - 19s 11ms/step - loss: 0.6911 - accuracy: 0.5034 - val_loss: 0.6768 - val_accuracy: 0.5045\n",
      "Epoch 2/3\n",
      "1563/1563 [==============================] - 18s 12ms/step - loss: 0.6741 - accuracy: 0.5367 - val_loss: 0.6510 - val_accuracy: 0.5710\n",
      "Epoch 3/3\n",
      "1563/1563 [==============================] - 18s 11ms/step - loss: 0.6527 - accuracy: 0.5822 - val_loss: 0.6441 - val_accuracy: 0.6604\n"
     ]
    }
   ],
   "source": [
    "history = rnn.fit(train_ds, \n",
    "                  validation_data=test_ds,\n",
    "                  epochs=epochs)"
   ]
  },
  {
   "cell_type": "code",
   "execution_count": 43,
   "id": "b1421e6d-9deb-4c6c-9bfd-d43927cad734",
   "metadata": {},
   "outputs": [
    {
     "data": {
      "text/plain": [
       "{'loss': [0.6910600066184998, 0.674085259437561, 0.652737021446228],\n",
       " 'accuracy': [0.5034000277519226, 0.5366799831390381, 0.5821999907493591],\n",
       " 'val_loss': [0.6768155694007874, 0.6509629487991333, 0.6440770030021667],\n",
       " 'val_accuracy': [0.5045199990272522, 0.5709999799728394, 0.6603599786758423]}"
      ]
     },
     "execution_count": 43,
     "metadata": {},
     "output_type": "execute_result"
    }
   ],
   "source": [
    "history.history"
   ]
  },
  {
   "cell_type": "code",
   "execution_count": 44,
   "id": "bbd7705e-cfbf-4cbd-8acd-a92728d8cbf7",
   "metadata": {},
   "outputs": [
    {
     "data": {
      "image/png": "[encoded data removed]",
      "text/plain": [
       "<Figure size 504x360 with 1 Axes>"
      ]
     },
     "metadata": {
      "needs_background": "light"
     },
     "output_type": "display_data"
    }
   ],
   "source": [
    "plt.figure(figsize=(7, 5))\n",
    "plt.plot(history.history['loss'])\n",
    "plt.plot(history.history['val_loss'])\n",
    "plt.ylabel('loss')\n",
    "plt.xlabel('epoch')\n",
    "plt.legend(['train', 'val'], loc='upper left')\n",
    "plt.show()"
   ]
  },
  {
   "cell_type": "code",
   "execution_count": 45,
   "id": "92cb0e58-be2d-4b9d-aadd-ebce617f9ab9",
   "metadata": {},
   "outputs": [
    {
     "data": {
      "image/png": "[encoded data removed]",
      "text/plain": [
       "<Figure size 504x360 with 1 Axes>"
      ]
     },
     "metadata": {
      "needs_background": "light"
     },
     "output_type": "display_data"
    }
   ],
   "source": [
    "plt.figure(figsize=(7, 5))\n",
    "plt.plot(history.history['accuracy'])\n",
    "plt.plot(history.history['val_accuracy'])\n",
    "plt.ylabel('accuracy')\n",
    "plt.xlabel('epoch')\n",
    "plt.legend(['train', 'val'], loc='upper left')\n",
    "plt.show()"
   ]
  },
  {
   "cell_type": "markdown",
   "id": "54db1fd1-c58c-465e-86b4-c9b3df117919",
   "metadata": {},
   "source": [
    "- Documentación tf.data https://www.tensorflow.org/guide/data"
   ]
  }
 ],
 "metadata": {
  "kernelspec": {
   "display_name": "Python 3 (ipykernel)",
   "language": "python",
   "name": "python3"
  },
  "language_info": {
   "codemirror_mode": {
    "name": "ipython",
    "version": 3
   },
   "file_extension": ".py",
   "mimetype": "text/x-python",
   "name": "python",
   "nbconvert_exporter": "python",
   "pygments_lexer": "ipython3",
   "version": "3.7.11"
  }
 },
 "nbformat": 4,
 "nbformat_minor": 5
}

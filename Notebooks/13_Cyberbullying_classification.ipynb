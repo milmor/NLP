{
 "cells": [
  {
   "cell_type": "markdown",
   "id": "4b00f678-39f7-4be2-aa51-cc4737fcd1a0",
   "metadata": {},
   "source": [
    "# Clasificación de cyberbullying"
   ]
  },
  {
   "cell_type": "markdown",
   "id": "c3d5ac6f-124d-40d1-8e97-ae14a28efb2a",
   "metadata": {},
   "source": [
    "- Dataset: https://www.kaggle.com/datasets/andrewmvd/cyberbullying-classification"
   ]
  },
  {
   "cell_type": "markdown",
   "id": "9d1cd0c3-599d-4c44-a4df-fb42b5f49bb1",
   "metadata": {},
   "source": [
    "## 1.- Conjuntos de entrenamiento, validación y prueba"
   ]
  },
  {
   "cell_type": "code",
   "execution_count": 1,
   "id": "d1458c2c-1dfe-4638-8655-a28df1ccd4ef",
   "metadata": {},
   "outputs": [],
   "source": [
    "import pandas as pd\n",
    "import matplotlib.pyplot as plt"
   ]
  },
  {
   "cell_type": "code",
   "execution_count": 2,
   "id": "d92a89fd-48e0-4f87-b857-9b337f516762",
   "metadata": {
    "tags": []
   },
   "outputs": [],
   "source": [
    "train_df = pd.read_csv('cyberbullying_train.csv')  \n",
    "val_df = pd.read_csv('cyberbullying_val.csv')  \n",
    "test_df = pd.read_csv('cyberbullying_test.csv')  "
   ]
  },
  {
   "cell_type": "markdown",
   "id": "bb0ca784-81d1-4294-923f-6ae1882587d9",
   "metadata": {},
   "source": [
    "## 2.- Preprocesamiento"
   ]
  },
  {
   "cell_type": "code",
   "execution_count": 3,
   "id": "454a30f7-c59e-4522-b77a-1390eae132db",
   "metadata": {
    "tags": []
   },
   "outputs": [
    {
     "data": {
      "text/html": [
       "<div>\n",
       "<style scoped>\n",
       "    .dataframe tbody tr th:only-of-type {\n",
       "        vertical-align: middle;\n",
       "    }\n",
       "\n",
       "    .dataframe tbody tr th {\n",
       "        vertical-align: top;\n",
       "    }\n",
       "\n",
       "    .dataframe thead th {\n",
       "        text-align: right;\n",
       "    }\n",
       "</style>\n",
       "<table border=\"1\" class=\"dataframe\">\n",
       "  <thead>\n",
       "    <tr style=\"text-align: right;\">\n",
       "      <th></th>\n",
       "      <th>tweet_text</th>\n",
       "      <th>cyberbullying_type</th>\n",
       "    </tr>\n",
       "  </thead>\n",
       "  <tbody>\n",
       "    <tr>\n",
       "      <th>0</th>\n",
       "      <td>@AntonSirius @erinspice @prpltnkr @ChiefElk oh...</td>\n",
       "      <td>3</td>\n",
       "    </tr>\n",
       "    <tr>\n",
       "      <th>1</th>\n",
       "      <td>Ladies \"Bedroom Bully\" The Mix Cd By @GappyRan...</td>\n",
       "      <td>0</td>\n",
       "    </tr>\n",
       "    <tr>\n",
       "      <th>2</th>\n",
       "      <td>RT @_bobbidana: Never thought I'd say this but...</td>\n",
       "      <td>0</td>\n",
       "    </tr>\n",
       "    <tr>\n",
       "      <th>3</th>\n",
       "      <td>She is intellectual terrorists and world suffe...</td>\n",
       "      <td>2</td>\n",
       "    </tr>\n",
       "    <tr>\n",
       "      <th>4</th>\n",
       "      <td>You saudias are not friends of Muslim idiots c...</td>\n",
       "      <td>2</td>\n",
       "    </tr>\n",
       "  </tbody>\n",
       "</table>\n",
       "</div>"
      ],
      "text/plain": [
       "                                          tweet_text  cyberbullying_type\n",
       "0  @AntonSirius @erinspice @prpltnkr @ChiefElk oh...                   3\n",
       "1  Ladies \"Bedroom Bully\" The Mix Cd By @GappyRan...                   0\n",
       "2  RT @_bobbidana: Never thought I'd say this but...                   0\n",
       "3  She is intellectual terrorists and world suffe...                   2\n",
       "4  You saudias are not friends of Muslim idiots c...                   2"
      ]
     },
     "execution_count": 3,
     "metadata": {},
     "output_type": "execute_result"
    }
   ],
   "source": [
    "# Creamos un diccionario que mapea cada etiqueta a un número entero\n",
    "labels_dict = {\n",
    "    'not_cyberbullying': 0,\n",
    "    'gender': 1,\n",
    "    'religion': 2,\n",
    "    'other_cyberbullying': 3,\n",
    "    'age': 4,\n",
    "    'ethnicity': 5\n",
    "}\n",
    "\n",
    "# Usamos la función map() para reemplazar cada etiqueta con su valor entero correspondiente\n",
    "train_df['cyberbullying_type'] = train_df['cyberbullying_type'].replace(labels_dict)\n",
    "val_df['cyberbullying_type'] = val_df['cyberbullying_type'].replace(labels_dict)\n",
    "test_df['cyberbullying_type'] = test_df['cyberbullying_type'].replace(labels_dict)\n",
    "\n",
    "train_df.head()"
   ]
  },
  {
   "cell_type": "markdown",
   "id": "82d36938-df30-4bc1-a7b8-2c8c58be37ae",
   "metadata": {
    "tags": []
   },
   "source": [
    "- Verifica cadenas vacias"
   ]
  },
  {
   "cell_type": "code",
   "execution_count": 4,
   "id": "616ec96f-a709-41b7-9e85-6262bac0cd74",
   "metadata": {},
   "outputs": [
    {
     "data": {
      "text/plain": [
       "0"
      ]
     },
     "execution_count": 4,
     "metadata": {},
     "output_type": "execute_result"
    }
   ],
   "source": [
    "train_df['tweet_text'].isna().sum()"
   ]
  },
  {
   "cell_type": "markdown",
   "id": "3eb4b12e-9ea6-492f-906c-e2a205ca0061",
   "metadata": {},
   "source": [
    "- Elimina puntuación y convierte a minúsculas\n",
    "- Se utiliza el método __str.translate()__ para eliminar todos los caracteres de puntuación mediante una tabla de traducción creada con el método __str.maketrans__. La constante string.punctuation contiene todos los caracteres de puntuación ASCII, que se eliminan de los valores en la columna"
   ]
  },
  {
   "cell_type": "code",
   "execution_count": 5,
   "id": "16ff03a8-76aa-4786-a794-e6744a45bc47",
   "metadata": {},
   "outputs": [
    {
     "data": {
      "text/plain": [
       "'!\"#$%&\\'()*+,-./:;<=>?@[\\\\]^_`{|}~'"
      ]
     },
     "execution_count": 5,
     "metadata": {},
     "output_type": "execute_result"
    }
   ],
   "source": [
    "import string\n",
    "string.punctuation"
   ]
  },
  {
   "cell_type": "code",
   "execution_count": 6,
   "id": "6a5aa290-98ec-4e71-a4e4-69efc463f8ec",
   "metadata": {},
   "outputs": [
    {
     "data": {
      "text/html": [
       "<div>\n",
       "<style scoped>\n",
       "    .dataframe tbody tr th:only-of-type {\n",
       "        vertical-align: middle;\n",
       "    }\n",
       "\n",
       "    .dataframe tbody tr th {\n",
       "        vertical-align: top;\n",
       "    }\n",
       "\n",
       "    .dataframe thead th {\n",
       "        text-align: right;\n",
       "    }\n",
       "</style>\n",
       "<table border=\"1\" class=\"dataframe\">\n",
       "  <thead>\n",
       "    <tr style=\"text-align: right;\">\n",
       "      <th></th>\n",
       "      <th>tweet_text</th>\n",
       "      <th>cyberbullying_type</th>\n",
       "    </tr>\n",
       "  </thead>\n",
       "  <tbody>\n",
       "    <tr>\n",
       "      <th>0</th>\n",
       "      <td>antonsirius erinspice prpltnkr chiefelk oh dea...</td>\n",
       "      <td>3</td>\n",
       "    </tr>\n",
       "    <tr>\n",
       "      <th>1</th>\n",
       "      <td>ladies bedroom bully the mix cd by gappyranks ...</td>\n",
       "      <td>0</td>\n",
       "    </tr>\n",
       "    <tr>\n",
       "      <th>2</th>\n",
       "      <td>rt bobbidana never thought id say this but i h...</td>\n",
       "      <td>0</td>\n",
       "    </tr>\n",
       "    <tr>\n",
       "      <th>3</th>\n",
       "      <td>she is intellectual terrorists and world suffe...</td>\n",
       "      <td>2</td>\n",
       "    </tr>\n",
       "    <tr>\n",
       "      <th>4</th>\n",
       "      <td>you saudias are not friends of muslim idiots c...</td>\n",
       "      <td>2</td>\n",
       "    </tr>\n",
       "  </tbody>\n",
       "</table>\n",
       "</div>"
      ],
      "text/plain": [
       "                                          tweet_text  cyberbullying_type\n",
       "0  antonsirius erinspice prpltnkr chiefelk oh dea...                   3\n",
       "1  ladies bedroom bully the mix cd by gappyranks ...                   0\n",
       "2  rt bobbidana never thought id say this but i h...                   0\n",
       "3  she is intellectual terrorists and world suffe...                   2\n",
       "4  you saudias are not friends of muslim idiots c...                   2"
      ]
     },
     "execution_count": 6,
     "metadata": {},
     "output_type": "execute_result"
    }
   ],
   "source": [
    "train_df['tweet_text'] = train_df['tweet_text'].str.lower().str.translate(str.maketrans('', '', string.punctuation))\n",
    "train_df.head()"
   ]
  },
  {
   "cell_type": "code",
   "execution_count": 7,
   "id": "ee3ad12a-07bf-4535-a40d-140e89adb504",
   "metadata": {
    "tags": []
   },
   "outputs": [
    {
     "data": {
      "text/html": [
       "<div>\n",
       "<style scoped>\n",
       "    .dataframe tbody tr th:only-of-type {\n",
       "        vertical-align: middle;\n",
       "    }\n",
       "\n",
       "    .dataframe tbody tr th {\n",
       "        vertical-align: top;\n",
       "    }\n",
       "\n",
       "    .dataframe thead th {\n",
       "        text-align: right;\n",
       "    }\n",
       "</style>\n",
       "<table border=\"1\" class=\"dataframe\">\n",
       "  <thead>\n",
       "    <tr style=\"text-align: right;\">\n",
       "      <th></th>\n",
       "      <th>tweet_text</th>\n",
       "      <th>cyberbullying_type</th>\n",
       "    </tr>\n",
       "  </thead>\n",
       "  <tbody>\n",
       "    <tr>\n",
       "      <th>0</th>\n",
       "      <td>but you idiot tagged and more also im a muslim</td>\n",
       "      <td>2</td>\n",
       "    </tr>\n",
       "    <tr>\n",
       "      <th>1</th>\n",
       "      <td>sexylala thats a dumb nigger never fuck lala h...</td>\n",
       "      <td>5</td>\n",
       "    </tr>\n",
       "    <tr>\n",
       "      <th>2</th>\n",
       "      <td>i never hear hispanics calling each other brow...</td>\n",
       "      <td>5</td>\n",
       "    </tr>\n",
       "    <tr>\n",
       "      <th>3</th>\n",
       "      <td>lennybanx nigger read it again such a dumb ass...</td>\n",
       "      <td>5</td>\n",
       "    </tr>\n",
       "    <tr>\n",
       "      <th>4</th>\n",
       "      <td>she was a mean girl in high school she and mim...</td>\n",
       "      <td>4</td>\n",
       "    </tr>\n",
       "  </tbody>\n",
       "</table>\n",
       "</div>"
      ],
      "text/plain": [
       "                                          tweet_text  cyberbullying_type\n",
       "0     but you idiot tagged and more also im a muslim                   2\n",
       "1  sexylala thats a dumb nigger never fuck lala h...                   5\n",
       "2  i never hear hispanics calling each other brow...                   5\n",
       "3  lennybanx nigger read it again such a dumb ass...                   5\n",
       "4  she was a mean girl in high school she and mim...                   4"
      ]
     },
     "execution_count": 7,
     "metadata": {},
     "output_type": "execute_result"
    }
   ],
   "source": [
    "val_df['tweet_text'] = val_df['tweet_text'].str.lower().str.translate(str.maketrans('', '', string.punctuation))\n",
    "val_df.head()"
   ]
  },
  {
   "cell_type": "code",
   "execution_count": 8,
   "id": "ace28015-767d-4bf8-8694-b638baede7f1",
   "metadata": {
    "tags": []
   },
   "outputs": [
    {
     "data": {
      "text/html": [
       "<div>\n",
       "<style scoped>\n",
       "    .dataframe tbody tr th:only-of-type {\n",
       "        vertical-align: middle;\n",
       "    }\n",
       "\n",
       "    .dataframe tbody tr th {\n",
       "        vertical-align: top;\n",
       "    }\n",
       "\n",
       "    .dataframe thead th {\n",
       "        text-align: right;\n",
       "    }\n",
       "</style>\n",
       "<table border=\"1\" class=\"dataframe\">\n",
       "  <thead>\n",
       "    <tr style=\"text-align: right;\">\n",
       "      <th></th>\n",
       "      <th>tweet_text</th>\n",
       "      <th>cyberbullying_type</th>\n",
       "    </tr>\n",
       "  </thead>\n",
       "  <tbody>\n",
       "    <tr>\n",
       "      <th>0</th>\n",
       "      <td>dankmtl yeap as a little propaganda nazi for t...</td>\n",
       "      <td>2</td>\n",
       "    </tr>\n",
       "    <tr>\n",
       "      <th>1</th>\n",
       "      <td>lyndseyboo wow leave lyndsey phone alone bully...</td>\n",
       "      <td>3</td>\n",
       "    </tr>\n",
       "    <tr>\n",
       "      <th>2</th>\n",
       "      <td>im not a man only know how to bully people</td>\n",
       "      <td>3</td>\n",
       "    </tr>\n",
       "    <tr>\n",
       "      <th>3</th>\n",
       "      <td>urgedharry nyazpolitics greenlinerzjm if you a...</td>\n",
       "      <td>2</td>\n",
       "    </tr>\n",
       "    <tr>\n",
       "      <th>4</th>\n",
       "      <td>calling people dumb isnt nice  rt tayyoung fuc...</td>\n",
       "      <td>5</td>\n",
       "    </tr>\n",
       "  </tbody>\n",
       "</table>\n",
       "</div>"
      ],
      "text/plain": [
       "                                          tweet_text  cyberbullying_type\n",
       "0  dankmtl yeap as a little propaganda nazi for t...                   2\n",
       "1  lyndseyboo wow leave lyndsey phone alone bully...                   3\n",
       "2        im not a man only know how to bully people                    3\n",
       "3  urgedharry nyazpolitics greenlinerzjm if you a...                   2\n",
       "4  calling people dumb isnt nice  rt tayyoung fuc...                   5"
      ]
     },
     "execution_count": 8,
     "metadata": {},
     "output_type": "execute_result"
    }
   ],
   "source": [
    "test_df['tweet_text'] = test_df['tweet_text'].str.lower().str.translate(str.maketrans('', '', string.punctuation))\n",
    "test_df.head()"
   ]
  },
  {
   "cell_type": "markdown",
   "id": "a651ba97-16f3-47fd-9798-5353586f346d",
   "metadata": {},
   "source": [
    "## 2.- Pipeline"
   ]
  },
  {
   "cell_type": "code",
   "execution_count": 9,
   "id": "a0182532-66f2-4482-9630-bda5d1470d76",
   "metadata": {},
   "outputs": [],
   "source": [
    "import os\n",
    "os.environ['TF_CPP_MIN_LOG_LEVEL'] = '3' # Disable tensorflow debugging logs\n",
    "import tensorflow as tf\n",
    "from tensorflow.keras.layers import TextVectorization\n",
    "from tensorflow.keras import Sequential\n",
    "from tensorflow.keras import layers \n",
    "import re\n",
    "\n",
    "X_train = train_df['tweet_text'].values\n",
    "y_train = train_df['cyberbullying_type'].values\n",
    "\n",
    "X_val = val_df['tweet_text'].values\n",
    "y_val = val_df['cyberbullying_type'].values\n",
    "\n",
    "X_test = test_df['tweet_text'].values\n",
    "y_test = test_df['cyberbullying_type'].values"
   ]
  },
  {
   "cell_type": "code",
   "execution_count": 10,
   "id": "f8896562-dd30-431b-a7a1-55d084586352",
   "metadata": {
    "tags": []
   },
   "outputs": [
    {
     "data": {
      "text/plain": [
       "(33384, 7154, 7154)"
      ]
     },
     "execution_count": 10,
     "metadata": {},
     "output_type": "execute_result"
    }
   ],
   "source": [
    "len(X_train), len(X_val), len(X_test)"
   ]
  },
  {
   "cell_type": "code",
   "execution_count": 11,
   "id": "36d1a088-4c8c-4851-b53f-07e3432c3870",
   "metadata": {
    "scrolled": true,
    "tags": []
   },
   "outputs": [
    {
     "name": "stdout",
     "output_type": "stream",
     "text": [
      "(<tf.Tensor: shape=(), dtype=string, numpy=b'antonsirius erinspice prpltnkr chiefelk oh dear lord'>, <tf.Tensor: shape=(), dtype=int64, numpy=3>)\n"
     ]
    }
   ],
   "source": [
    "raw_train_ds = tf.data.Dataset.from_tensor_slices((X_train, y_train))\n",
    "raw_val_ds = tf.data.Dataset.from_tensor_slices((X_val, y_val))\n",
    "raw_test_ds = tf.data.Dataset.from_tensor_slices((X_test, y_test))\n",
    "\n",
    "for text in raw_train_ds.take(1):\n",
    "    print(text)"
   ]
  },
  {
   "cell_type": "code",
   "execution_count": 12,
   "id": "52401e10-ade1-4f2a-9de7-036b7ee85556",
   "metadata": {},
   "outputs": [],
   "source": [
    "# Tamaño de vocabulario\n",
    "vocab_size = 10000\n",
    "\n",
    "vectorize_layer = TextVectorization(\n",
    "    standardize=None,\n",
    "    max_tokens=vocab_size,\n",
    "    output_mode='tf-idf')\n",
    "\n",
    "# Obtener el texto sin etiquetas\n",
    "text_ds = raw_train_ds.map(lambda x, y: x)\n",
    "vectorize_layer.adapt(text_ds)"
   ]
  },
  {
   "cell_type": "code",
   "execution_count": 13,
   "id": "3ed1f5fe-0b18-4b0e-8c5d-d1f7413bb780",
   "metadata": {
    "tags": []
   },
   "outputs": [],
   "source": [
    "# Define a function to convert the label to a one-hot encoding\n",
    "def convert_label_to_one_hot(text, label):\n",
    "    one_hot_label = tf.one_hot(label, 6)\n",
    "    return text, one_hot_label\n",
    "\n",
    "# Apply the function to the dataset using map()\n",
    "raw_train_ds = raw_train_ds.map(convert_label_to_one_hot)\n",
    "raw_val_ds = raw_val_ds.map(convert_label_to_one_hot)\n",
    "raw_test_ds = raw_test_ds.map(convert_label_to_one_hot)"
   ]
  },
  {
   "cell_type": "code",
   "execution_count": 14,
   "id": "862068ba-6861-441c-9ee2-dcd71a818bb1",
   "metadata": {
    "tags": []
   },
   "outputs": [],
   "source": [
    "batch_size = 32\n",
    "train_ds = raw_train_ds.shuffle(33384).batch(batch_size)\n",
    "val_ds = raw_val_ds.batch(batch_size)\n",
    "test_ds = raw_test_ds.batch(batch_size)"
   ]
  },
  {
   "cell_type": "code",
   "execution_count": 15,
   "id": "1fc023a2-3151-4426-93e0-86c4da4b201a",
   "metadata": {
    "scrolled": true,
    "tags": []
   },
   "outputs": [
    {
     "name": "stdout",
     "output_type": "stream",
     "text": [
      "tf.Tensor(\n",
      "[b'chickfila caves to radical left bullies the american family association afa has created a petition that urges chickfila to return to its support of christian ministries such as the salvation army on monday chickfila anno\\xe2\\x80\\xa6httpslnkdingnjakt'\n",
      " b'i am the middle school bully nobody fucks with me'\n",
      " b'annlynzee minorities are abusedharassed more and being a victim of harassment can make people act ways they normally wouldnt'\n",
      " b'ya just dont understand how happy that fuck ass dumb ass ugly ass fat ass annoying ass nigger makes me'\n",
      " b'odd to cherry pick one incident to wave the race card and call out fictitious racism in the system race baiting findher'\n",
      " b'\\xe2\\x80\\x9clocajae he everythinggggggg xx\\xe2\\x80\\x9dbet he has sex with you and leaves to fuck his other bitches dumb nigger'\n",
      " b'thank you  somebody got some sense  black people were called \\xe2\\x80\\x9ccolored\\xe2\\x80\\x9d and \\xe2\\x80\\x9cnegro\\xe2\\x80\\x9d until the 1970s nobody else was called this  but now we all people of color  foh and a white person definitely came up with that term  who gave them that right to define me '\n",
      " b'bluntmoms how' b'oh no  my inbox'\n",
      " b'so you dont know any okay cool thanks for clarifying fyi there are brits who also strongly believe homosexuality is a sin abuse their wives and are paedophiles do those minority idiots also represent other brits like you claim the same does for muslims in general'\n",
      " b'igabriellesolis i hope barack obama gets shot for being a black nigger you are disgusting'\n",
      " b'at least msm manages to do basic fact checking like not confusing ggautoblocker with theblockbot p'\n",
      " b'update'\n",
      " b'guys why did no one inform me were islams now ive been calling myself a muslim like a downright idiot the least you couldve done is inform me of this name change'\n",
      " b'mwforhr fauxnews bebird lvview fsa sold weapons they got from us to the islamofascists'\n",
      " b'online school bau online school bully'\n",
      " b'so black lives matter only focuses on police brutality they don\\xe2\\x80\\x99t care about anything else at 16 i was street gang member and now speak in school classrooms about my past life and how not to follow the road i was on i hope my past helps all kids regardless of skin color'\n",
      " b'u literally cant say anything thts not praise to them as a black person or they will indirectly call you an untreated nigger its rly disgusting '\n",
      " b'richsince86 dumb fuck nigger only applies to you if ur filthy not because ur black look it up'\n",
      " b'they be highschool sweethearts nshit rt polonicole it aint too early fa this  lol rt goldyylocks mezikans be forever in love'\n",
      " b'girls should not care about your opinion thatashtonkid girls should not participate in no shave november'\n",
      " b'this will always be apart of your life girls like me bullied you in high school now you pay me to do the exact same thing'\n",
      " b'if there was justice skynews and other msm would be shut down and those who worked in them whitewashing and promoting terrorist jihad amp jihadists as selfdefense amp civilians would be rotting behind bars for a 1000 yrs each for their crimes against syrians and humanity'\n",
      " b'you idiots hinduvta have problem with volume of azan but when it comes to brutalities which muslims are facing in the hands of exteremist hindus no one talks about that hypocrisy at its peak'\n",
      " b'dylanw i did that after he dismissed me amp my concerns as argumentative might wanna check the time stamps'\n",
      " b'\\xe2\\x80\\x9cwe voted for a guy who said he\\xe2\\x80\\x99d rather have a dead son than a gay one claimed poc weren\\xe2\\x80\\x99t \\xe2\\x80\\x98even good for procreation anymore\\xe2\\x80\\x99 amp told a female politician the only reason he wouldn\\xe2\\x80\\x99t rape her was bc she was ugly but please don\\xe2\\x80\\x99t think we\\xe2\\x80\\x99re sexist homophobic or racist\\xe2\\x80\\x9d'\n",
      " b'fuck these bitch ass niggers how you doin im the touche im a nonsense i go stupid i go dumb like the 3 stuges uh'\n",
      " b'oh boy rt sabbstreets secret service find her \\xc2\\xbb\\xc2\\xbb\\xc2\\xbb rt mrnatural05 rt tayyoung fuck obama dumb ass nigger'\n",
      " b'posing for extra style points before wrecking everyone selfie warlords httptcojr11tzm49x'\n",
      " b'rt curdistani shia militias armed by bagdad iraq with supplied us weapons are threatening kurds by attacking kirkuk with help of iran\\xe2\\x80\\xa6'\n",
      " b'y\\xe2\\x80\\x99all act like when kids come back to school they aren\\xe2\\x80\\x99t going to be sent to school sick or that bullies will be purposefully coughing on thier targets usually minorities especially around where i live and in rural areas that shit is fucking insane'\n",
      " b'and then you go back to being bullied by large girls'], shape=(32,), dtype=string) tf.Tensor(\n",
      "[[0. 0. 1. 0. 0. 0.]\n",
      " [0. 0. 0. 0. 1. 0.]\n",
      " [0. 0. 0. 1. 0. 0.]\n",
      " [0. 0. 0. 0. 0. 1.]\n",
      " [0. 0. 0. 0. 0. 1.]\n",
      " [0. 0. 0. 0. 0. 1.]\n",
      " [0. 0. 0. 0. 0. 1.]\n",
      " [0. 1. 0. 0. 0. 0.]\n",
      " [1. 0. 0. 0. 0. 0.]\n",
      " [0. 0. 1. 0. 0. 0.]\n",
      " [0. 0. 0. 0. 0. 1.]\n",
      " [0. 0. 0. 1. 0. 0.]\n",
      " [0. 0. 0. 1. 0. 0.]\n",
      " [0. 0. 1. 0. 0. 0.]\n",
      " [0. 0. 1. 0. 0. 0.]\n",
      " [0. 0. 0. 0. 1. 0.]\n",
      " [0. 0. 0. 0. 0. 1.]\n",
      " [0. 0. 0. 0. 0. 1.]\n",
      " [0. 0. 0. 0. 0. 1.]\n",
      " [1. 0. 0. 0. 0. 0.]\n",
      " [0. 1. 0. 0. 0. 0.]\n",
      " [0. 0. 0. 0. 1. 0.]\n",
      " [0. 0. 1. 0. 0. 0.]\n",
      " [0. 0. 1. 0. 0. 0.]\n",
      " [0. 0. 0. 1. 0. 0.]\n",
      " [0. 1. 0. 0. 0. 0.]\n",
      " [0. 0. 0. 0. 0. 1.]\n",
      " [0. 0. 0. 0. 0. 1.]\n",
      " [0. 0. 0. 1. 0. 0.]\n",
      " [1. 0. 0. 0. 0. 0.]\n",
      " [0. 0. 0. 0. 1. 0.]\n",
      " [0. 0. 0. 0. 1. 0.]], shape=(32, 6), dtype=float32)\n"
     ]
    }
   ],
   "source": [
    "for inp, target in train_ds.take(1):\n",
    "    print(inp, target)"
   ]
  },
  {
   "cell_type": "code",
   "execution_count": 16,
   "id": "c31ebadd-1c86-4c71-886f-32adab6e453f",
   "metadata": {
    "tags": []
   },
   "outputs": [
    {
     "data": {
      "text/plain": [
       "<tf.Tensor: shape=(32, 10000), dtype=float32, numpy=\n",
       "array([[38.53385  ,  2.46711  ,  1.3331412, ...,  0.       ,  0.       ,\n",
       "         0.       ],\n",
       "       [ 0.       ,  1.233555 ,  0.       , ...,  0.       ,  0.       ,\n",
       "         0.       ],\n",
       "       [ 7.70677  ,  0.       ,  1.3331412, ...,  0.       ,  0.       ,\n",
       "         0.       ],\n",
       "       ...,\n",
       "       [30.82708  ,  0.       ,  0.       , ...,  0.       ,  0.       ,\n",
       "         0.       ],\n",
       "       [ 7.70677  ,  0.       ,  0.       , ...,  0.       ,  0.       ,\n",
       "         0.       ],\n",
       "       [ 0.       ,  0.       ,  0.       , ...,  0.       ,  0.       ,\n",
       "         0.       ]], dtype=float32)>"
      ]
     },
     "execution_count": 16,
     "metadata": {},
     "output_type": "execute_result"
    }
   ],
   "source": [
    "vectorize_layer(inp)"
   ]
  },
  {
   "cell_type": "markdown",
   "id": "938c3502-a5d2-4124-a485-00046a013ed2",
   "metadata": {},
   "source": [
    "## 3.- Modelo"
   ]
  },
  {
   "cell_type": "code",
   "execution_count": 17,
   "id": "0d0318dc-2cf6-4a0e-b679-2e4bf48d844d",
   "metadata": {
    "tags": []
   },
   "outputs": [
    {
     "data": {
      "text/plain": [
       "<__main__.Linear at 0x7f700819d6d0>"
      ]
     },
     "execution_count": 17,
     "metadata": {},
     "output_type": "execute_result"
    }
   ],
   "source": [
    "class Linear(tf.keras.layers.Layer):\n",
    "    def __init__(self, num_outputs, activation=None):\n",
    "        super(Linear, self).__init__()\n",
    "        self.num_outputs = num_outputs\n",
    "        self.activation = activation\n",
    "\n",
    "    def build(self, input_shape):\n",
    "        self.kernel = self.add_weight(\"kernel\",\n",
    "                                  shape=[int(input_shape[-1]), \n",
    "                                         self.num_outputs])\n",
    "        self.bias = self.add_weight(\"bias\",\n",
    "                                shape=[1, self.num_outputs])\n",
    "\n",
    "    def call(self, inputs):\n",
    "        x = tf.matmul(inputs, self.kernel) + self.bias\n",
    "        if self.activation == 'relu':\n",
    "            x = tf.nn.relu(x)\n",
    "        return x\n",
    "\n",
    "layer = Linear(1)\n",
    "layer"
   ]
  },
  {
   "cell_type": "code",
   "execution_count": 18,
   "id": "8e2fc910-99e9-4eae-9f31-424d836f9aea",
   "metadata": {},
   "outputs": [],
   "source": [
    "model = Sequential([\n",
    "  vectorize_layer,\n",
    "  layers.Dropout(0.5),\n",
    "  Linear(50, activation='relu'),\n",
    "  layers.Dropout(0.5),\n",
    "  Linear(50, activation='relu'),\n",
    "  layers.Dropout(0.5),\n",
    "  Linear(6)\n",
    "])\n",
    "\n",
    "lr = 0.0001\n",
    "opt = tf.keras.optimizers.Adam(learning_rate=lr)"
   ]
  },
  {
   "cell_type": "code",
   "execution_count": 19,
   "id": "4e1d3441-4324-4b77-a26a-6eac2bc6b1c8",
   "metadata": {
    "tags": []
   },
   "outputs": [
    {
     "data": {
      "text/plain": [
       "TensorShape([32, 6])"
      ]
     },
     "execution_count": 19,
     "metadata": {},
     "output_type": "execute_result"
    }
   ],
   "source": [
    "model(inp).shape"
   ]
  },
  {
   "cell_type": "code",
   "execution_count": 20,
   "id": "5af85160-1b3b-40d9-adbb-bbe82a698132",
   "metadata": {},
   "outputs": [
    {
     "name": "stdout",
     "output_type": "stream",
     "text": [
      "Model: \"sequential\"\n",
      "_________________________________________________________________\n",
      " Layer (type)                Output Shape              Param #   \n",
      "=================================================================\n",
      " text_vectorization (TextVec  (None, 10000)            1         \n",
      " torization)                                                     \n",
      "                                                                 \n",
      " dropout (Dropout)           (None, 10000)             0         \n",
      "                                                                 \n",
      " linear_1 (Linear)           (None, 50)                500050    \n",
      "                                                                 \n",
      " dropout_1 (Dropout)         (None, 50)                0         \n",
      "                                                                 \n",
      " linear_2 (Linear)           (None, 50)                2550      \n",
      "                                                                 \n",
      " dropout_2 (Dropout)         (None, 50)                0         \n",
      "                                                                 \n",
      " linear_3 (Linear)           (None, 6)                 306       \n",
      "                                                                 \n",
      "=================================================================\n",
      "Total params: 502,907\n",
      "Trainable params: 502,906\n",
      "Non-trainable params: 1\n",
      "_________________________________________________________________\n"
     ]
    }
   ],
   "source": [
    "model.summary()"
   ]
  },
  {
   "cell_type": "code",
   "execution_count": 21,
   "id": "24c7fb99-15a4-410f-9bc8-2bdc87e75985",
   "metadata": {
    "tags": []
   },
   "outputs": [],
   "source": [
    "checkpoint_filepath = './tmp/checkpoint'\n",
    "model_checkpoint_callback = tf.keras.callbacks.ModelCheckpoint(\n",
    "    filepath=checkpoint_filepath,\n",
    "    save_weights_only=True,\n",
    "    monitor='val_accuracy',\n",
    "    mode='max',\n",
    "    save_best_only=True)"
   ]
  },
  {
   "cell_type": "code",
   "execution_count": 22,
   "id": "f1a28c86-cea1-4492-ab77-5a45d922917d",
   "metadata": {
    "tags": []
   },
   "outputs": [],
   "source": [
    "model.compile(loss=tf.keras.losses.CategoricalCrossentropy(from_logits=True),\n",
    "              optimizer=opt,\n",
    "              metrics=['accuracy'])"
   ]
  },
  {
   "cell_type": "code",
   "execution_count": 23,
   "id": "375d4ab4-d619-4ce2-a6d0-010edf5c8676",
   "metadata": {
    "scrolled": true,
    "tags": []
   },
   "outputs": [
    {
     "name": "stdout",
     "output_type": "stream",
     "text": [
      "Epoch 1/20\n",
      "1044/1044 [==============================] - 4s 3ms/step - loss: 1.8138 - accuracy: 0.2440 - val_loss: 1.4583 - val_accuracy: 0.5310\n",
      "Epoch 2/20\n",
      "1044/1044 [==============================] - 3s 3ms/step - loss: 1.4312 - accuracy: 0.4361 - val_loss: 0.9411 - val_accuracy: 0.7385\n",
      "Epoch 3/20\n",
      "1044/1044 [==============================] - 3s 3ms/step - loss: 1.1261 - accuracy: 0.5788 - val_loss: 0.6687 - val_accuracy: 0.7776\n",
      "Epoch 4/20\n",
      "1044/1044 [==============================] - 3s 3ms/step - loss: 0.9776 - accuracy: 0.6357 - val_loss: 0.5675 - val_accuracy: 0.7905\n",
      "Epoch 5/20\n",
      "1044/1044 [==============================] - 3s 3ms/step - loss: 0.8838 - accuracy: 0.6656 - val_loss: 0.5153 - val_accuracy: 0.8040\n",
      "Epoch 6/20\n",
      "1044/1044 [==============================] - 3s 3ms/step - loss: 0.8265 - accuracy: 0.6899 - val_loss: 0.4888 - val_accuracy: 0.8105\n",
      "Epoch 7/20\n",
      "1044/1044 [==============================] - 4s 3ms/step - loss: 0.8013 - accuracy: 0.6973 - val_loss: 0.4716 - val_accuracy: 0.8184\n",
      "Epoch 8/20\n",
      "1044/1044 [==============================] - 3s 3ms/step - loss: 0.7722 - accuracy: 0.7129 - val_loss: 0.4569 - val_accuracy: 0.8261\n",
      "Epoch 9/20\n",
      "1044/1044 [==============================] - 3s 2ms/step - loss: 0.7505 - accuracy: 0.7193 - val_loss: 0.4496 - val_accuracy: 0.8264\n",
      "Epoch 10/20\n",
      "1044/1044 [==============================] - 3s 3ms/step - loss: 0.7313 - accuracy: 0.7247 - val_loss: 0.4449 - val_accuracy: 0.8289\n",
      "Epoch 11/20\n",
      "1044/1044 [==============================] - 3s 3ms/step - loss: 0.7189 - accuracy: 0.7338 - val_loss: 0.4412 - val_accuracy: 0.8310\n",
      "Epoch 12/20\n",
      "1044/1044 [==============================] - 3s 3ms/step - loss: 0.7069 - accuracy: 0.7371 - val_loss: 0.4344 - val_accuracy: 0.8295\n",
      "Epoch 13/20\n",
      "1044/1044 [==============================] - 3s 2ms/step - loss: 0.6936 - accuracy: 0.7448 - val_loss: 0.4286 - val_accuracy: 0.8341\n",
      "Epoch 14/20\n",
      "1044/1044 [==============================] - 3s 3ms/step - loss: 0.6817 - accuracy: 0.7525 - val_loss: 0.4247 - val_accuracy: 0.8302\n",
      "Epoch 15/20\n",
      "1044/1044 [==============================] - 4s 3ms/step - loss: 0.6743 - accuracy: 0.7532 - val_loss: 0.4240 - val_accuracy: 0.8335\n",
      "Epoch 16/20\n",
      "1044/1044 [==============================] - 3s 3ms/step - loss: 0.6560 - accuracy: 0.7557 - val_loss: 0.4189 - val_accuracy: 0.8342\n",
      "Epoch 17/20\n",
      "1044/1044 [==============================] - 3s 3ms/step - loss: 0.6597 - accuracy: 0.7564 - val_loss: 0.4196 - val_accuracy: 0.8318\n",
      "Epoch 18/20\n",
      "1044/1044 [==============================] - 3s 3ms/step - loss: 0.6518 - accuracy: 0.7601 - val_loss: 0.4190 - val_accuracy: 0.8324\n",
      "Epoch 19/20\n",
      "1044/1044 [==============================] - 3s 3ms/step - loss: 0.6386 - accuracy: 0.7631 - val_loss: 0.4160 - val_accuracy: 0.8321\n",
      "Epoch 20/20\n",
      "1044/1044 [==============================] - 3s 3ms/step - loss: 0.6381 - accuracy: 0.7664 - val_loss: 0.4161 - val_accuracy: 0.8342\n"
     ]
    }
   ],
   "source": [
    "epochs = 20\n",
    "history = model.fit(\n",
    "    train_ds,\n",
    "    validation_data=val_ds,\n",
    "    epochs=epochs, callbacks=model_checkpoint_callback)"
   ]
  },
  {
   "cell_type": "code",
   "execution_count": 24,
   "id": "e57e633a-a608-4d64-b988-cd86446e0ff5",
   "metadata": {},
   "outputs": [
    {
     "data": {
      "text/plain": [
       "<tensorflow.python.checkpoint.checkpoint.CheckpointLoadStatus at 0x7f70003f4c90>"
      ]
     },
     "execution_count": 24,
     "metadata": {},
     "output_type": "execute_result"
    }
   ],
   "source": [
    "model.load_weights(checkpoint_filepath)"
   ]
  },
  {
   "cell_type": "markdown",
   "id": "0fa8a339-98cf-45d5-8633-70a59badcf3f",
   "metadata": {},
   "source": [
    "## 4.- Evaluación"
   ]
  },
  {
   "cell_type": "code",
   "execution_count": 25,
   "id": "48f29125-8645-490b-9361-53c85e5e69d2",
   "metadata": {
    "tags": []
   },
   "outputs": [
    {
     "name": "stdout",
     "output_type": "stream",
     "text": [
      "224/224 [==============================] - 0s 1ms/step - loss: 0.4285 - accuracy: 0.8379\n"
     ]
    },
    {
     "data": {
      "text/plain": [
       "[0.42850202322006226, 0.837852954864502]"
      ]
     },
     "execution_count": 25,
     "metadata": {},
     "output_type": "execute_result"
    }
   ],
   "source": [
    "model.evaluate(test_ds)"
   ]
  },
  {
   "cell_type": "code",
   "execution_count": 26,
   "id": "d083e8d7-34f0-4d19-9630-9c9493f98642",
   "metadata": {
    "tags": []
   },
   "outputs": [
    {
     "name": "stdout",
     "output_type": "stream",
     "text": [
      "224/224 [==============================] - 0s 1ms/step\n"
     ]
    }
   ],
   "source": [
    "y_pred = model.predict(test_ds)"
   ]
  },
  {
   "cell_type": "code",
   "execution_count": 27,
   "id": "e66ac8b7-a195-4a37-9ba5-c34cddd0b32c",
   "metadata": {
    "tags": []
   },
   "outputs": [],
   "source": [
    "from sklearn.metrics import confusion_matrix\n",
    "import numpy as np"
   ]
  },
  {
   "cell_type": "code",
   "execution_count": 28,
   "id": "bd566ead-a045-472a-9f27-a1068fc396a1",
   "metadata": {
    "tags": []
   },
   "outputs": [
    {
     "data": {
      "text/plain": [
       "array([2, 3, 3, ..., 4, 4, 3])"
      ]
     },
     "execution_count": 28,
     "metadata": {},
     "output_type": "execute_result"
    }
   ],
   "source": [
    "y_test"
   ]
  },
  {
   "cell_type": "code",
   "execution_count": 29,
   "id": "8edfc67d-3308-4d9e-8302-580eed220d80",
   "metadata": {
    "tags": []
   },
   "outputs": [
    {
     "data": {
      "text/plain": [
       "array([2, 0, 3, ..., 4, 4, 3])"
      ]
     },
     "execution_count": 29,
     "metadata": {},
     "output_type": "execute_result"
    }
   ],
   "source": [
    "y_pred_labels = np.argmax(y_pred, axis=1)\n",
    "y_pred_labels"
   ]
  },
  {
   "cell_type": "code",
   "execution_count": 30,
   "id": "7bdea9e6-860e-4b1a-b550-efc55303766b",
   "metadata": {
    "tags": []
   },
   "outputs": [
    {
     "data": {
      "text/plain": [
       "{'not_cyberbullying': 0,\n",
       " 'gender': 1,\n",
       " 'religion': 2,\n",
       " 'other_cyberbullying': 3,\n",
       " 'age': 4,\n",
       " 'ethnicity': 5}"
      ]
     },
     "execution_count": 30,
     "metadata": {},
     "output_type": "execute_result"
    }
   ],
   "source": [
    "labels_dict"
   ]
  },
  {
   "cell_type": "code",
   "execution_count": 31,
   "id": "8110b816-80d9-4802-9d65-52d85ed36a1e",
   "metadata": {
    "tags": []
   },
   "outputs": [
    {
     "data": {
      "text/plain": [
       "(dict_keys(['not_cyberbullying', 'gender', 'religion', 'other_cyberbullying', 'age', 'ethnicity']),)"
      ]
     },
     "execution_count": 31,
     "metadata": {},
     "output_type": "execute_result"
    }
   ],
   "source": [
    "labels_dict.keys(), "
   ]
  },
  {
   "cell_type": "code",
   "execution_count": 32,
   "id": "ef2a3235-9638-4cf2-a9d4-dcdcdf54eceb",
   "metadata": {
    "tags": []
   },
   "outputs": [
    {
     "name": "stdout",
     "output_type": "stream",
     "text": [
      "                     precision    recall  f1-score   support\n",
      "\n",
      "  not_cyberbullying       0.62      0.57      0.59      1189\n",
      "             gender       0.89      0.83      0.86      1141\n",
      "           religion       0.95      0.95      0.95      1191\n",
      "other_cyberbullying       0.65      0.71      0.68      1216\n",
      "                age       0.94      0.98      0.96      1221\n",
      "          ethnicity       0.97      0.98      0.98      1196\n",
      "\n",
      "           accuracy                           0.84      7154\n",
      "          macro avg       0.84      0.84      0.84      7154\n",
      "       weighted avg       0.84      0.84      0.84      7154\n",
      "\n"
     ]
    }
   ],
   "source": [
    "from sklearn.metrics import classification_report\n",
    "\n",
    "print(classification_report(y_test, y_pred_labels, target_names=labels_dict.keys()))"
   ]
  },
  {
   "cell_type": "code",
   "execution_count": 33,
   "id": "a3e4dbab-e8a8-445d-b7da-1ad0eda36ed7",
   "metadata": {
    "tags": []
   },
   "outputs": [
    {
     "data": {
      "image/png": "[encoded data removed]",
      "text/plain": [
       "<Figure size 640x480 with 2 Axes>"
      ]
     },
     "metadata": {},
     "output_type": "display_data"
    }
   ],
   "source": [
    "from sklearn.metrics import confusion_matrix\n",
    "import matplotlib.pyplot as plt\n",
    "\n",
    "# Crea la matriz de confusión\n",
    "cm = confusion_matrix(y_test, y_pred_labels)\n",
    "\n",
    "# Define las etiquetas de las clases\n",
    "class_names = list(labels_dict.keys())\n",
    "\n",
    "# Crea la figura y el eje\n",
    "fig, ax = plt.subplots()\n",
    "\n",
    "# Crea la matriz de colores\n",
    "im = ax.imshow(cm, interpolation='nearest', cmap=plt.cm.Blues)\n",
    "\n",
    "# Añade la barra de colores\n",
    "cbar = ax.figure.colorbar(im, ax=ax)\n",
    "\n",
    "# Añade las etiquetas de las clases\n",
    "ax.set(xticks=np.arange(cm.shape[1]),\n",
    "       yticks=np.arange(cm.shape[0]),\n",
    "       xticklabels=class_names, yticklabels=class_names,\n",
    "       title='Matriz de confusión',\n",
    "       ylabel='Etiqueta verdadera',\n",
    "       xlabel='Etiqueta predicha')\n",
    "\n",
    "# Rota las etiquetas de las clases\n",
    "plt.setp(ax.get_xticklabels(), rotation=45, ha=\"right\",\n",
    "         rotation_mode=\"anchor\")\n",
    "\n",
    "# Añade los valores de la matriz de confusión en cada celda\n",
    "thresh = cm.max() / 2.  # Umbral para aplicar estilo de texto\n",
    "for i in range(cm.shape[0]):\n",
    "    for j in range(cm.shape[1]):\n",
    "        ax.text(j, i, format(cm[i, j]),\n",
    "                ha=\"center\", va=\"center\",\n",
    "                color=\"white\" if cm[i, j] > thresh else \"black\")\n",
    "\n",
    "# Ajusta el diseño de la figura\n",
    "fig.tight_layout()\n",
    "plt.savefig('cyber_cm.png')\n",
    "# Muestra la figura\n",
    "plt.show()"
   ]
  }
 ],
 "metadata": {
  "kernelspec": {
   "display_name": "Python 3 (ipykernel)",
   "language": "python",
   "name": "python3"
  },
  "language_info": {
   "codemirror_mode": {
    "name": "ipython",
    "version": 3
   },
   "file_extension": ".py",
   "mimetype": "text/x-python",
   "name": "python",
   "nbconvert_exporter": "python",
   "pygments_lexer": "ipython3",
   "version": "3.11.2"
  }
 },
 "nbformat": 4,
 "nbformat_minor": 5
}

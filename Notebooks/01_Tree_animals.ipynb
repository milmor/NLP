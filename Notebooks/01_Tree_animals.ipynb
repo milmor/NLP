{
 "cells": [
  {
   "cell_type": "markdown",
   "id": "d13868a6-96f3-4bbc-b246-40d6f6c87775",
   "metadata": {},
   "source": [
    "<table class=\"tfo-notebook-buttons\" align=\"left\">\n",
    "  <td>\n",
    "    <a target=\"_blank\" href=\"https://colab.research.google.com/github/milmor/NLP/blob/main/Notebooks/01_Tree_animals.ipynb\">\n",
    "    <img src=\"https://www.tensorflow.org/images/colab_logo_32px.png\" />\n",
    "    Run in Google Colab</a>\n",
    "  </td>\n",
    "</table>"
   ]
  },
  {
   "cell_type": "markdown",
   "id": "b7ed7165-3bb1-4425-8c8e-af769a9e230b",
   "metadata": {},
   "source": [
    "# Tree"
   ]
  },
  {
   "cell_type": "code",
   "execution_count": 1,
   "id": "9e2c4447-c28b-4c93-bc62-f3e558a6bdea",
   "metadata": {},
   "outputs": [],
   "source": [
    "import numpy as np"
   ]
  },
  {
   "cell_type": "code",
   "execution_count": 2,
   "id": "20e30440-c3b3-45cd-b5a2-c881aa5cd324",
   "metadata": {},
   "outputs": [
    {
     "name": "stdout",
     "output_type": "stream",
     "text": [
      "[0]\n"
     ]
    }
   ],
   "source": [
    "from sklearn.tree import DecisionTreeClassifier\n",
    "from sklearn.feature_extraction.text import CountVectorizer\n",
    "from sklearn import tree\n",
    "\n",
    "# datos\n",
    "X = [\"Lobos Gatos Elefantes\",\n",
    "     \"Lobos Lobos Caballos Teatro\",\n",
    "     \"Lobos Elefantes Lobos\",\n",
    "     \"Computadora Procesador Lobos\",\n",
    "     \"Teatro Pintura Elefantes\",\n",
    "     \"Teatro Música Caballos Teatro Teatro\"]\n",
    "y = [0, 0, 0, 1, 2, 2]\n",
    "\n",
    "# bow\n",
    "vectorizer = CountVectorizer()\n",
    "X_vect = vectorizer.fit_transform(X)\n",
    "\n",
    "\n",
    "clf = DecisionTreeClassifier()\n",
    "clf.fit(X_vect, y)\n",
    "\n",
    "# predecir\n",
    "nuevo_texto = 'Lobos Lobos Lobos Computadora Gatos'\n",
    "nuevo_vect = vectorizer.transform([nuevo_texto])\n",
    "prediccion = clf.predict(nuevo_vect)\n",
    "\n",
    "print(prediccion)  "
   ]
  },
  {
   "cell_type": "code",
   "execution_count": 3,
   "id": "622a1e72-47e7-4b35-8c02-46b817700465",
   "metadata": {},
   "outputs": [
    {
     "data": {
      "text/plain": [
       "array([[0, 0, 1, 1, 1, 0, 0, 0, 0],\n",
       "       [1, 0, 0, 0, 2, 0, 0, 0, 1],\n",
       "       [0, 0, 1, 0, 2, 0, 0, 0, 0],\n",
       "       [0, 1, 0, 0, 1, 0, 0, 1, 0],\n",
       "       [0, 0, 1, 0, 0, 0, 1, 0, 1],\n",
       "       [1, 0, 0, 0, 0, 1, 0, 0, 3]])"
      ]
     },
     "execution_count": 3,
     "metadata": {},
     "output_type": "execute_result"
    }
   ],
   "source": [
    "X_vect.toarray()"
   ]
  },
  {
   "cell_type": "code",
   "execution_count": 4,
   "id": "c88655eb-c519-45c6-b276-06d7aa3e90e1",
   "metadata": {},
   "outputs": [
    {
     "data": {
      "text/plain": [
       "[Text(0.4, 0.8333333333333334, 'X[4] <= 0.5\\ngini = 0.611\\nsamples = 6\\nvalue = [3, 1, 2]'),\n",
       " Text(0.2, 0.5, 'gini = 0.0\\nsamples = 2\\nvalue = [0, 0, 2]'),\n",
       " Text(0.6, 0.5, 'X[7] <= 0.5\\ngini = 0.375\\nsamples = 4\\nvalue = [3, 1, 0]'),\n",
       " Text(0.4, 0.16666666666666666, 'gini = 0.0\\nsamples = 3\\nvalue = [3, 0, 0]'),\n",
       " Text(0.8, 0.16666666666666666, 'gini = 0.0\\nsamples = 1\\nvalue = [0, 1, 0]')]"
      ]
     },
     "execution_count": 4,
     "metadata": {},
     "output_type": "execute_result"
    },
    {
     "data": {
      "image/png": "[encoded data removed]",
      "text/plain": [
       "<Figure size 432x288 with 1 Axes>"
      ]
     },
     "metadata": {
      "needs_background": "light"
     },
     "output_type": "display_data"
    }
   ],
   "source": [
    "tree.plot_tree(clf)"
   ]
  },
  {
   "cell_type": "code",
   "execution_count": 5,
   "id": "235734c5-aebf-45a8-9221-1587745fda6b",
   "metadata": {},
   "outputs": [
    {
     "data": {
      "text/plain": [
       "0.6111111111111112"
      ]
     },
     "execution_count": 5,
     "metadata": {},
     "output_type": "execute_result"
    }
   ],
   "source": [
    "1 - (3/6)**2 - (1/6)**2 - (2/6)**2 "
   ]
  },
  {
   "cell_type": "code",
   "execution_count": 6,
   "id": "5335b0f7-c685-4fc5-b134-63613296bbb9",
   "metadata": {},
   "outputs": [
    {
     "data": {
      "text/plain": [
       "0.375"
      ]
     },
     "execution_count": 6,
     "metadata": {},
     "output_type": "execute_result"
    }
   ],
   "source": [
    "1 - (3/4)**2 - (1/4)**2 - (0/4)**2 "
   ]
  }
 ],
 "metadata": {
  "kernelspec": {
   "display_name": "Python 3 (ipykernel)",
   "language": "python",
   "name": "python3"
  },
  "language_info": {
   "codemirror_mode": {
    "name": "ipython",
    "version": 3
   },
   "file_extension": ".py",
   "mimetype": "text/x-python",
   "name": "python",
   "nbconvert_exporter": "python",
   "pygments_lexer": "ipython3",
   "version": "3.9.18"
  }
 },
 "nbformat": 4,
 "nbformat_minor": 5
}

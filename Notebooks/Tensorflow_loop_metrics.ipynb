{
 "cells": [
  {
   "cell_type": "code",
   "execution_count": 1,
   "id": "dbc49d9b-5f41-4169-bbda-5d77f285459f",
   "metadata": {},
   "outputs": [],
   "source": [
    "import os\n",
    "os.environ['TF_CPP_MIN_LOG_LEVEL'] = '3' # Disable tensorflow debugging logs\n",
    "import tensorflow as tf\n",
    "import matplotlib.pyplot as plt"
   ]
  },
  {
   "cell_type": "markdown",
   "id": "3a642caa-21df-4ba3-94ea-ac7cd008fa10",
   "metadata": {},
   "source": [
    "- Vector"
   ]
  },
  {
   "cell_type": "code",
   "execution_count": 2,
   "id": "fbe90022-cc15-4a43-9bd0-8a929dbdf665",
   "metadata": {},
   "outputs": [
    {
     "data": {
      "text/plain": [
       "<tf.Tensor: shape=(3,), dtype=int32, numpy=array([3, 4, 5], dtype=int32)>"
      ]
     },
     "execution_count": 2,
     "metadata": {},
     "output_type": "execute_result"
    }
   ],
   "source": [
    "tensor = tf.constant([3, 4, 5])\n",
    "tensor"
   ]
  },
  {
   "cell_type": "markdown",
   "id": "16ea38b5-b7d8-42e0-b563-b8c9a7c5868a",
   "metadata": {},
   "source": [
    "- Obtener dimensión de tensor con __shape__"
   ]
  },
  {
   "cell_type": "code",
   "execution_count": 3,
   "id": "3c55475b-4fac-4c19-99f1-0bf08394906d",
   "metadata": {},
   "outputs": [
    {
     "data": {
      "text/plain": [
       "TensorShape([3])"
      ]
     },
     "execution_count": 3,
     "metadata": {},
     "output_type": "execute_result"
    }
   ],
   "source": [
    "tensor.shape"
   ]
  },
  {
   "cell_type": "markdown",
   "id": "6eab6fb3-c3c0-41bb-ad4c-fff7f83c3adb",
   "metadata": {},
   "source": [
    "- Tensor de 2 dimensiones"
   ]
  },
  {
   "cell_type": "code",
   "execution_count": 4,
   "id": "7b814980-000e-461e-be16-376c028c1729",
   "metadata": {},
   "outputs": [
    {
     "data": {
      "text/plain": [
       "(<tf.Tensor: shape=(2, 3), dtype=int32, numpy=\n",
       " array([[3, 4, 5],\n",
       "        [3, 4, 5]], dtype=int32)>,\n",
       " TensorShape([2, 3]))"
      ]
     },
     "execution_count": 4,
     "metadata": {},
     "output_type": "execute_result"
    }
   ],
   "source": [
    "tensor = tf.constant([[3, 4, 5], [3, 4, 5]])\n",
    "tensor, tensor.shape"
   ]
  },
  {
   "cell_type": "markdown",
   "id": "b2d72431-0440-4dcf-bfa3-8b52d03cc61f",
   "metadata": {},
   "source": [
    "- Ejercicio: Crear un tensor de $3 \\times 3 \\times 2 \\times 1$"
   ]
  },
  {
   "cell_type": "code",
   "execution_count": null,
   "id": "0887a4cf-5f57-4b4c-8973-5b02aa39ee96",
   "metadata": {},
   "outputs": [],
   "source": []
  },
  {
   "cell_type": "markdown",
   "id": "8e159f89-9b16-4584-bcd1-7a7ba449dff1",
   "metadata": {},
   "source": [
    "### Operaciones de tensores"
   ]
  },
  {
   "cell_type": "code",
   "execution_count": 5,
   "id": "3c8891c4-e477-4f0d-863f-eac6bc99ab63",
   "metadata": {},
   "outputs": [],
   "source": [
    "tensor = tf.constant([[3, 4], [3, 4]])"
   ]
  },
  {
   "cell_type": "code",
   "execution_count": 6,
   "id": "32076b47-196f-4d57-ba95-5b6b7cb25ec6",
   "metadata": {},
   "outputs": [
    {
     "data": {
      "text/plain": [
       "<tf.Tensor: shape=(2, 2), dtype=int32, numpy=\n",
       "array([[6, 8],\n",
       "       [6, 8]], dtype=int32)>"
      ]
     },
     "execution_count": 6,
     "metadata": {},
     "output_type": "execute_result"
    }
   ],
   "source": [
    "tensor + tensor"
   ]
  },
  {
   "cell_type": "code",
   "execution_count": 7,
   "id": "511b1a2b-9114-4f1a-a483-a84578d940fd",
   "metadata": {},
   "outputs": [
    {
     "data": {
      "text/plain": [
       "<tf.Tensor: shape=(2, 2), dtype=int32, numpy=\n",
       "array([[ 9, 16],\n",
       "       [ 9, 16]], dtype=int32)>"
      ]
     },
     "execution_count": 7,
     "metadata": {},
     "output_type": "execute_result"
    }
   ],
   "source": [
    "tensor * tensor"
   ]
  },
  {
   "cell_type": "markdown",
   "id": "d3011a4f-c8ef-4f8a-983a-5b24809a31f0",
   "metadata": {},
   "source": [
    "- Multiplicación de matrices con __@__"
   ]
  },
  {
   "cell_type": "code",
   "execution_count": 8,
   "id": "4a0c896b-76cf-4cd6-b889-93f0602c74e7",
   "metadata": {},
   "outputs": [
    {
     "data": {
      "text/plain": [
       "<tf.Tensor: shape=(2, 2), dtype=int32, numpy=\n",
       "array([[21, 28],\n",
       "       [21, 28]], dtype=int32)>"
      ]
     },
     "execution_count": 8,
     "metadata": {},
     "output_type": "execute_result"
    }
   ],
   "source": [
    "tensor @ tensor"
   ]
  },
  {
   "cell_type": "markdown",
   "id": "d45d9dda-e20e-40a5-b450-a9b7de96c923",
   "metadata": {},
   "source": [
    "### Métodos de tensores"
   ]
  },
  {
   "cell_type": "markdown",
   "id": "5f6f6006-345a-4a8e-aea9-0b733b984aa6",
   "metadata": {},
   "source": [
    "- Inicialización en ceros. Pasar como argumento la dimensión del tensor"
   ]
  },
  {
   "cell_type": "code",
   "execution_count": 9,
   "id": "245b78ac-259e-4a2f-b1c5-5ca93b499def",
   "metadata": {},
   "outputs": [
    {
     "data": {
      "text/plain": [
       "TensorShape([3, 3, 9])"
      ]
     },
     "execution_count": 9,
     "metadata": {},
     "output_type": "execute_result"
    }
   ],
   "source": [
    "tensor = tf.zeros([3, 3, 9])\n",
    "tensor.shape"
   ]
  },
  {
   "cell_type": "markdown",
   "id": "fe06f762-23a6-46b2-8497-f79deeb055f3",
   "metadata": {},
   "source": [
    "- Método __reshape__"
   ]
  },
  {
   "cell_type": "code",
   "execution_count": 10,
   "id": "7e6a6ec2-eb5d-4fe9-ae19-d64b25735044",
   "metadata": {},
   "outputs": [
    {
     "data": {
      "text/plain": [
       "<tf.Tensor: shape=(9, 9), dtype=float32, numpy=\n",
       "array([[0., 0., 0., 0., 0., 0., 0., 0., 0.],\n",
       "       [0., 0., 0., 0., 0., 0., 0., 0., 0.],\n",
       "       [0., 0., 0., 0., 0., 0., 0., 0., 0.],\n",
       "       [0., 0., 0., 0., 0., 0., 0., 0., 0.],\n",
       "       [0., 0., 0., 0., 0., 0., 0., 0., 0.],\n",
       "       [0., 0., 0., 0., 0., 0., 0., 0., 0.],\n",
       "       [0., 0., 0., 0., 0., 0., 0., 0., 0.],\n",
       "       [0., 0., 0., 0., 0., 0., 0., 0., 0.],\n",
       "       [0., 0., 0., 0., 0., 0., 0., 0., 0.]], dtype=float32)>"
      ]
     },
     "execution_count": 10,
     "metadata": {},
     "output_type": "execute_result"
    }
   ],
   "source": [
    "tf.reshape(tensor, [9, 9])"
   ]
  },
  {
   "cell_type": "markdown",
   "id": "5ae8856b-d97f-4862-ac9c-37325e604715",
   "metadata": {},
   "source": [
    "- Cast de tensores"
   ]
  },
  {
   "cell_type": "code",
   "execution_count": 11,
   "id": "04078808-05b0-4b80-8b3e-6d0a7ad7f732",
   "metadata": {},
   "outputs": [
    {
     "data": {
      "text/plain": [
       "<tf.Tensor: shape=(3, 3, 9), dtype=uint8, numpy=\n",
       "array([[[0, 0, 0, 0, 0, 0, 0, 0, 0],\n",
       "        [0, 0, 0, 0, 0, 0, 0, 0, 0],\n",
       "        [0, 0, 0, 0, 0, 0, 0, 0, 0]],\n",
       "\n",
       "       [[0, 0, 0, 0, 0, 0, 0, 0, 0],\n",
       "        [0, 0, 0, 0, 0, 0, 0, 0, 0],\n",
       "        [0, 0, 0, 0, 0, 0, 0, 0, 0]],\n",
       "\n",
       "       [[0, 0, 0, 0, 0, 0, 0, 0, 0],\n",
       "        [0, 0, 0, 0, 0, 0, 0, 0, 0],\n",
       "        [0, 0, 0, 0, 0, 0, 0, 0, 0]]], dtype=uint8)>"
      ]
     },
     "execution_count": 11,
     "metadata": {},
     "output_type": "execute_result"
    }
   ],
   "source": [
    "tf.cast(tensor, dtype=tf.uint8)"
   ]
  },
  {
   "cell_type": "markdown",
   "id": "813a8d7e-c69e-40d8-9c33-116968e17bc1",
   "metadata": {},
   "source": [
    "- Método __range__"
   ]
  },
  {
   "cell_type": "code",
   "execution_count": 12,
   "id": "68ce2cb1-ef06-4af4-8092-9f3361bd92c0",
   "metadata": {},
   "outputs": [
    {
     "data": {
      "text/plain": [
       "<tf.Tensor: shape=(4,), dtype=int32, numpy=array([4, 5, 6, 7], dtype=int32)>"
      ]
     },
     "execution_count": 12,
     "metadata": {},
     "output_type": "execute_result"
    }
   ],
   "source": [
    "tf.range(4, 8)"
   ]
  },
  {
   "cell_type": "markdown",
   "id": "74899028-b1b8-44a9-849e-e19493b9d5e0",
   "metadata": {},
   "source": [
    "### Cadenas en tensores"
   ]
  },
  {
   "cell_type": "code",
   "execution_count": 13,
   "id": "ae8260e9-33c7-46f9-a149-890dfba741e2",
   "metadata": {},
   "outputs": [
    {
     "data": {
      "text/plain": [
       "<tf.Tensor: shape=(1,), dtype=string, numpy=array([b'Hola como estas'], dtype=object)>"
      ]
     },
     "execution_count": 13,
     "metadata": {},
     "output_type": "execute_result"
    }
   ],
   "source": [
    "tf.constant(['Hola como estas'])"
   ]
  },
  {
   "cell_type": "markdown",
   "id": "d3afd48f-7d9d-474b-8a3d-67ecfea3ba57",
   "metadata": {},
   "source": [
    "- Listas de cadenas"
   ]
  },
  {
   "cell_type": "code",
   "execution_count": 14,
   "id": "f77e7125-0ce5-4286-8ef3-ace1b9c318f5",
   "metadata": {},
   "outputs": [
    {
     "data": {
      "text/plain": [
       "(<tf.Tensor: shape=(), dtype=string, numpy=b'Hola como estas'>,\n",
       " <tf.Tensor: shape=(), dtype=string, numpy=b'Que haciendo?'>)"
      ]
     },
     "execution_count": 14,
     "metadata": {},
     "output_type": "execute_result"
    }
   ],
   "source": [
    "string = tf.constant(['Hola como estas',\n",
    "                      'Bien y tu?',\n",
    "                      'Que haciendo?'])\n",
    "\n",
    "string[0], string[2]"
   ]
  },
  {
   "cell_type": "markdown",
   "id": "953c4517-86bd-4ed3-836a-f7356c895317",
   "metadata": {
    "tags": []
   },
   "source": [
    "## Importar dataset"
   ]
  },
  {
   "cell_type": "code",
   "execution_count": 15,
   "id": "3404f6ab-2dd4-4c7e-989a-ea33ee8c14f9",
   "metadata": {},
   "outputs": [],
   "source": [
    "import tensorflow_datasets as tfds"
   ]
  },
  {
   "cell_type": "code",
   "execution_count": 16,
   "id": "342afe6a-fe93-4832-b573-96f8e209cc1c",
   "metadata": {},
   "outputs": [],
   "source": [
    "dataset = tfds.load('imdb_reviews', as_supervised=True)"
   ]
  },
  {
   "cell_type": "code",
   "execution_count": 17,
   "id": "b155f67f-344e-4841-adab-3a2e58608756",
   "metadata": {},
   "outputs": [],
   "source": [
    "raw_train_ds, raw_test_ds = dataset['train'], dataset['test']"
   ]
  },
  {
   "cell_type": "code",
   "execution_count": 18,
   "id": "76dae875-74f1-46d0-a402-03cf4bdd4681",
   "metadata": {},
   "outputs": [
    {
     "name": "stdout",
     "output_type": "stream",
     "text": [
      "b\"This was an absolutely terrible movie. Don't be lured in by Christopher Walken or Michael Ironside. Both are great actors, but this must simply be their worst role in history. Even their great acting could not redeem this movie's ridiculous storyline. This movie is an early nineties US propaganda piece. The most pathetic scenes were those when the Columbian rebels were making their cases for revolutions. Maria Conchita Alonso appeared phony, and her pseudo-love affair with Walken was nothing but a pathetic emotional plug in a movie that was devoid of any real meaning. I am disappointed that there are movies like this, ruining actor's like Christopher Walken's good name. I could barely sit through it.\" 0\n"
     ]
    }
   ],
   "source": [
    "for text, label in raw_train_ds.take(1):\n",
    "    print(text.numpy(), label.numpy())"
   ]
  },
  {
   "cell_type": "markdown",
   "id": "b5b56f4b-0c53-466f-a810-48091062b5af",
   "metadata": {},
   "source": [
    "## Preparar dataset"
   ]
  },
  {
   "cell_type": "code",
   "execution_count": 19,
   "id": "39b8f2a7-f119-48ae-8dba-f8fa7fb03b22",
   "metadata": {},
   "outputs": [
    {
     "data": {
      "text/plain": [
       "25000"
      ]
     },
     "execution_count": 19,
     "metadata": {},
     "output_type": "execute_result"
    }
   ],
   "source": [
    "AUTOTUNE = tf.data.experimental.AUTOTUNE\n",
    "BUFFER_SIZE = tf.data.experimental.cardinality(raw_train_ds)\n",
    "BUFFER_SIZE.numpy()"
   ]
  },
  {
   "cell_type": "code",
   "execution_count": 20,
   "id": "b380bb5a-b845-4440-a468-147af7bbcb43",
   "metadata": {},
   "outputs": [],
   "source": [
    "batch_size = 16\n",
    "voc_size = 5000\n",
    "seq_length = 20\n",
    "\n",
    "train_ds = raw_train_ds.shuffle(BUFFER_SIZE).batch(\n",
    "        batch_size, num_parallel_calls=AUTOTUNE).prefetch(\n",
    "        AUTOTUNE)\n",
    "\n",
    "\n",
    "test_ds = raw_test_ds.batch(\n",
    "        batch_size, num_parallel_calls=AUTOTUNE).prefetch(\n",
    "        AUTOTUNE)"
   ]
  },
  {
   "cell_type": "code",
   "execution_count": 21,
   "id": "48972e5d-a421-415c-bbae-c3b1440ea599",
   "metadata": {
    "scrolled": true,
    "tags": []
   },
   "outputs": [
    {
     "name": "stdout",
     "output_type": "stream",
     "text": [
      "(<tf.Tensor: shape=(16,), dtype=string, numpy=\n",
      "array([b'For the record, I am not affiliated with the production in any way.<br /><br />Hidden Frontier is probably the Star Trek fan film with the most episodes produced to date. Over 7 seasons (this is the last) they have produced some 50 or so episodes.<br /><br />This is no mean feat on almost no budget and everyone volunteering their time and energy.<br /><br />By their own admission, the earlier seasons do not have as good production qualities as later ones but as they progress the effects, green screen work and acting all improve.<br /><br />I did find it difficult to \"dip into\" so started from the beginning and watched all the way through. HF benefits from story arcs just like all the best sci fi and dovetails nicely into the Star Trek universe in which it is set. Characters and \"relatives\" from the original series have been brought into the stories and add a lot to the feel of the stories, sometimes improving on the characters over the original.<br /><br />The whole experience includes an excellent web site, blooper reels, a high membership forum which is frequented by many of the actors and production staff and a weekly chat.<br /><br />If you are looking for high definition, high budget productions, this is probably not for you.<br /><br />If you are looking for continued adventures in the Star Trek universe with stories that does Star Trek credit and makes you think, this is the one.',\n",
      "       b\"#3 in young John Travolta's trilogy of blockbusters. He dances to disco, rock 'n' roll and country. He heads to Houston to find work and love. Gilley's is the hot spot, and it is the time of the mechanical bull. Not to be outdone, I rode the bull at a club in Nashville. I recently saw this nearly forgotten film on television and remembered how good it was and how good a year 1980 was. I wore a black cowboy hat that year just like Travolta. Debra Winger was in her prime. She looks stunning in her red top. There is plenty of charisma. Bud and Sissy seem the ideal couple even if they are trailer trash. They split up just because it feels so good getting back together. Urban Cowboy has an amazing soundtrack. We get to hear Lyin' Eyes by The Eagles and Lookin' For Love by Johnny Lee.\",\n",
      "       b'I do miss the company Vestron, they sure had their finger on the pulse of unique and unusual cinema back in the 1980s. This is very apparent with the astonishing Paperhouse, a film that touches me deeply each and every time I watch it.<br /><br />The idea of a girl manipulating a dream world with her drawings (thusly the dream world manipulating reality), and also connecting with and affecting the life of a boy she\\'s never actually met, is fascinating and never disappoints. Charlotte Burke at first seems quite precocious and yet you warm up to her because by being a bit of a mischievous child, it makes it hard for the adults to believe what she is experiencing. She becomes very self aware and strong towards the end, even finding she doesn\\'t \"hate boys\" as she so defiantly claimed at first. Through this we are treated to many touching moments and some immensely scary ones, all visually stunning with a grand score from Hans Zimmer. I\\'m quite proud to be an owner of the soundtrack on CD when it was released in the United States on RCA Victor. At the time of this writing there is no DVD of Paperhouse yet available in the U.S. (only in Europe), here\\'s hoping one of my wishes will come true as I truly cherish this beautiful film and a DVD of it would be very welcome!<br /><br />It\\'s satisfying watching the girl work out her thoughts like a puzzle game trying to make the dream world work for her and her newfound friend Marc (Elliot Spiers). Both Charlotte Burke and Elliot Spiers do a magnificent job throughout, I find the editorial comment on Amazon.com about it being \"hammy acting\" quite perplexing -- I found every aspect of Paperhouse to be exhilarating. Even in minor scenes of brilliance like when Charlotte and the girl in the classroom are staring at each other through the glass on a door, it\\'s quite powerful.<br /><br />You don\\'t have to be an arthouse type to enjoy Paperhouse, just be a person that enjoys a film that stimulates and has you wanting more. There is enough in this film to invite repeated viewings and I\\'m still in awe of the cinematography and sets. For me, it\\'s never like watching the same film twice, as there are so many details to absorb and savor. A very emotional experience indeed.<br /><br />While there are many films I adore, there are only a few specific ones that strike a great emotional chord in me: films like Paperhouse, Static, Resurrection, and Donnie Darko. When I see so much drek out there passing as films that will easily be forgotten and in bargain bins, all I have to do is watch Paperhouse and my faith in wondrous storytelling is renewed.',\n",
      "       b'That\\'s right. A movie written, directed and produced by Fred Tepper and family. (Fred should have known better, having worked the sets of \\'Titantic\\' and \\'Dogma\\'.) <br /><br />So, the plot. There are some scientists, and some forest rangers, and a hot chick with huge fake breasts. They are all really bad at their jobs, including the hot chick(who I think is supposed to be a photographer, but who cares because she wears a bikini). One of the forest rangers comments that the scientists are \"professional people,\" which is good, because it would be horrible if they were professional grubs or jellybeans or Ewoks.<br /><br />They are hiking through the woods in search of some strange ape-like bones, and no one even once mentions that the bones just might be those of the infamous Bigfoot. They just wander around and one of the rangers unabashedly hits on the hottie. We all hope he dies real soon (along with his sister who\\'s meant to be the cute naive one, but is really just annoying). Then they, *gasp*, find a Sasqu... I mean, Ape-like Animal Burial Ground. Of course, no mentions that it might just be Bigfoot bones they\\'re messing with... I guess scientists and forest rangers just don\\'t think about those types of things.<br /><br />Then Sasquatch and his tribe get really angry and kill all the people we dislike, chases the other losers away and buries his Great Aunt Muriel and Cousin Josh (who died in an unfortunate trout accident) all over again.<br /><br />Insipid, boring dialogue (I zoned out several times), inane plot, unlikable characters, bad CGI (a man in a monkey suit would look better), and acting that just wasn\\'t very good all add up to make a movie I won\\'t be watching again.<br /><br />You check it out though; it\\'s good for some unintentional laughs.',\n",
      "       b\"One of Frances Farmer's earliest movies; at 22, she is absolutely beautiful. Bing Crosby is in great voice, but the songs are not his best. Martha Raye and Bob Burns are interesting, but their comedy, probably great in its time, is really corny today. Roy Rogers also appears- in a singing role. In my view only worth watching if you are a Frances Farmer fan, and possibly a Bing Crosby fan.\",\n",
      "       b\"When I saw this film on FearNet, I thought it would be a scary movie. Apparently, it wasn't. I have no clue how this movie was allowed to be featured on that site. FearNet is a site that shows scary horror movies.<br /><br />The acting is wonderful from all the actors. I hated the story. The story was stupid. The movie starts out with a man with a scroll with a signia stamped onto it. He breaks the seal and certain disasters happen. The water turns to blood, the oceans die out, the moon turns red, etc. <br /><br />The female character was annoying as well. A lot of the stuff she did didn't make sense. Like when she sees a piece of paper with a date on it. Coincidentally, it's the date she's expected to give birth to her baby and she starts freaking out about it and starts researching it and asking religious people what it all means.<br /><br />*Spoiler Alert* <br /><br />The two worst things happened in this movie are the execution of a mentally retarded man who claimed that God told him to murder his parents and the end where Demi Moore dies after giving birth to her baby and transferring her soul into it.<br /><br />Here's what happens. The mentally retarded person gets shot and killed and the apocalypse begins. Demi Moore gets into a hospital in the middle of a massive earthquake and gives birth to her child. She touches her child's head, transferring her soul into the child and then dies. Then, the apocalypse stops.<br /><br />Why does God all of a sudden have a change of heart? He gets furious when the Governor allows the execution of a mentally retarded man then he's all about forgiveness once a lone woman transfers her soul into her baby? <br /><br />*End Spoiler* <br /><br />The movie is pretty stupid. It's another religious end of the world propaganda piece. The acting from Demi Moore and Michael Biehn and everybody else is excellent. That's about all there is.<br /><br />I give this movie 2 stars out of 10. Good acting with a lot of nonsense!\",\n",
      "       b'I watched this movie on march 21 this year.Must say disappointment.But much better than \"Tridev\".Plot is hackneyed.Tells about Prabhat who lives with his father,Wife and his little brother.The movie opens when he saves a bride.Anyway.Azghar Jhurhad makes a plot to kill his young brother.He makes a plan by sending few man.They come to a school pretended to be Prabhats friends.Kill that kid.His father throws him out of the house.Then later comes back.He and Aakash go to Kenya to find him.Sunny gives a good performance,Chunky was annoying at best,Naseerdun is wasted.Divya did good,Sonam was wasted,Jyotsna was wasted but looked cute.The kid which played Sunnys brother in the movie was cute.Too sad he had to get his character killed.The girl was cute but was annoying.The other kid did good.Alok did good.Kiran was adequate.Amrish and Gulshan did good.The cinematography is excellent in both India and Kenya.Script is weak but has a few good dialogs.Also drags .The movie.The music was alright.I only liked one song\"Saat Samundar\" the lyrics of that song was good.The other songs were forgettable.Don\\'t watch this. Rating-3/10',\n",
      "       b\"I love this show as it action packed with adventure, love and intrigue. Well some times love! It's so good see a show where all the characters work well together and they treat each other with respect. It's also very good to se Dick Van Dyke in a television role as I have only seen him in Mary Poppins. the mixture of the main characters, Mark, Amanda, Jesse and Steve is very capturing to the audience. This is a show you have to watch!\",\n",
      "       b\"I simply cant understand why all these relics from the Ceausescu era refuse to let go. One can see clearly how frustrated they were during the commie censorship that forbade them so many things to show in their movies, and now they imagine its dunno what big deal of artsy-fartsy freedom so fill the screen with people defecating, urinating, vomiting, swearing, and any other kinds of hideousness imaginable. THIS IS NOT CINEMA, FRIENDS AND NEIGHBORS! This is simply visual perversion. Forget about Bunuels Chien Andalou, about David Lynch, about Forman and neorealism and other movie makers who were able to work with an aesthetics of ugliness. THOSE people were mastering their jobs - well, you Don't! Do us a favor, all you Daneliucs and Nicolaescus and Saizescus and Muresans and Marinescus and Margineanus and other obsolete old-timers, and leave us alone! Its bit time to see some Romanian MOVIES on screen, enough with your immature terribilisms! You are not directors, you are ILLITERATE!!!\",\n",
      "       b\"A Damsel in Distress is a delight because of the great Gershwin songs, Fred Astaire, Joan Fontaine, and a terrific supporting cast headed by Gracie Allen and George Burns.<br /><br />Typically silly plot for an Astaire film has him as an American dance star in England with Burns as his publicist and Allen his secretary. They concoct a story about his being a love bug with women falling victim to him left and right. He runs into Fontaine who is being held captive in her castle by a domineering aunt and docile father. Silly plot.<br /><br />The great songs include A Foggy Day, Things Are Looking Up, Nice Work if You Can get It, and I Can't Be Bothered Now. Fontaine does not sing, but does a brief (and decent) number with Astaire. Surprisingly good in a few dance numbers with Astaire are Burns and Allen, including an inventive and fun romp through an amusement park.<br /><br />Also in the cast are Reginald Gardiner, Constance Collier, Montagu Love, Harry Watson (as Albert), Ray Noble, and my favorite--Jan Duggan as the lead madrigal singer.<br /><br />Jan Duggan is in the middle of the swoony trio who sings Nice Work if You Can Get It. Her facial expressions are hilarious. She was also a scene stealer in the W.C. Fields comedy, The Old Fashioned Way, playing Cleopatra Pepperday.<br /><br />Much abuse has been heaped on this film because of the absence of Ginger Rogers, who, as noted elsewhere, would have been hideously miscast. The TCM host notes that Ruby Keeler and Jessie Matthews were considered. Yikes. Two more would-be disasters. Fontaine is fine as Alyce and the dynamic allows the musical numbers to belong to Astaire, with ample comic relief by Burns and Allen.<br /><br />Fun film, great songs, good cast, and Jan Duggan in a rare spotlight!\",\n",
      "       b'Carnosaur 3: Primal Species (1996) D: Jonathan Winfrey. Scott Valentine, Janet Gunn, Rick Dean, Anthony Peck, Rodger Halston, Terri J. Vaughn, Billy Burnette. Why even bother reviewing this movie? Another stupid dinosaur movie in which top secret military guys discover those lethal (and very fake-looking) prehistoric monsters running around killing people in gory ways. The original was bad enough, the sequel was even worse. This falls somewhere in between, though unrelated to either of the previous CARNOSAUR films. RATING: 2 out of 10. Rated R for graphic violence and gore, grisly images, and profanity.',\n",
      "       b'The genre of suspense films really takes a dive in this one. The big problem is IMPLAUSABILITY. I realize that you need to create difficult situations which would cause suspense and the tense feeling of whats going to happen next, but this movie was so predictable, and is just not believable. I find that the more I watch this kind of movie, the more I am continually saying things to actors to direct them away from danger. Continually making bad decisions just borders on being plain stupid. If they took the time to make it more realistic, I might have enjoyed it a little. Having said that, you might be better off staying away from this one.',\n",
      "       b\"CitizenX(1995) is the developing world's answer to Silence of the Lambs. Where `Silence' terrorized our peace of mind, `Citizen' exhausts and saddens us instead. This dramatization of the Chikatilo case translates rather well, thanks to a Westernized friendship between two Rostov cops who become equals.<br /><br />CitizenX may also argue against(!) the death penalty far better than Kevin Spacey's The Life of David Gayle(2002).<br /><br />Humans are Machiavellian mammals, under which lie limbic brains (lizard-logic). Why did two kids, who knew better, stone to death a toddler they kidnapped? Why do bloodthirsty women yell `li-lilililililii' at acts of OBSCENE terrorism? -My own term for this is `limbic domination', the lizard-logic urge to dominate an `enemy'. If you have the words `enemy'/`vengeance' in your vocabulary, you're easily capable of `limbic domination'.<br /><br />In WWII-devastated 1980s Rostov (located at the mouth of the Don river near the Black Sea), nothing suppressed Andrei Chikatilo's urge for `limbic domination' from overpowering his layers of civilization. Chikatilo(Jeffrey DeMunn)'s easy victims were paupers, usually children, who rode the interurban train for fun, since they couldn't afford anything else.<br /><br />CitizenX reminds us that the denials of a rampant Soviet bureaucracy cost the lives of 52 such `lambs'. Rostov's serial killer roamed free for almost 7 years AFTER the police arrested and let him go.<br /><br />The politicization of crimefighting is harmful to police forces everywhere. Although policing routinely suffers from corruption all over the world, in the west, vote-grabbing by politicians can set up chronic inter-agency rivalries, stymieing a more coordinated response to crime. In the Soviet Union of CitizenX, however, Viktor Burakov(Stephen Rea)'s Killer Department was suffering from a repressive bureaucracy.<br /><br />Geoffrey DeMunn plays the psychosexually inadequate Chikatilo with faultless but understated authority--to the point of complete obscurity. In real life, too, Chikatilo had a lifetime's experience blending in and evading capture.<br /><br />His pursuer, on the other hand, sticks out as a strange bird, given to unheralded, naive outbursts. Perhaps by design, Stephen Rea gives a very strange performance as forensics chief Burakov. Rea's Russian accent is impenetrable; and his Burakov is humourless and sullen, at odds with everyone.<br /><br />So it's Donald Sutherland who walks away with the picture. Sutherland's Col.Fetisov, Burakov's boss, and at first his only supporter, is an overly restrained, patient Militiaman whose dignified carriage bears testimony to decades of bureaucratic machinations. His reawakening as a logic-driven yet still passionate cop becomes the film's cornerstone idealism.<br /><br />Joss Ackland does another turn as a vicious apparatchik, Secretary of Communist Ideology Bondarchuk, overseeing the investigation. Naturally, he quashed the arrest of the most likely suspect, a Communist, in 1984, a man carrying rope and a knife in his bag, supposedly going home: Andrei Chikatilo.<br /><br />Soon, he replaced Burakov with another Moscow apparatchik, Detective Gorbunov(John Wood), insisting that the investigation now focus on `known homosexuals'. The funniest scene of this sad, sad film comes during Bondarchuk's & Gorbunov's institutionalized harassment: one stupid cop earnestly reports, `As I suspected, comrade, it's fornication. I've made some drawings'--cue howling laughter.<br /><br />5yrs after the bodies began piling up, in 1987, the police finally tried soliciting criminal profiles. The only cooperating Soviet psychiatrist was Dr Aleksandr Bukhanovsky(Max Von Sydow), who termed the UNSUB `CitizenX'. He later also observed to Fetisov & Burakov that `...together you make a wonderful person'. We concur.<br /><br />The drawn-out pace, spread over a decade, perfectly captures the institutional inertia of Glasnost--`openness'--that wasn't. The contrast with Perestroika--`restructuring'--couldn't've been greater for the case. Although Chikatilo was still prowling railway stations, police plans were about to bear fruit.<br /><br />In 1990, Col.Fetisov was expeditiously promoted to General. His nemesis Bondarchuk disappeared off the scene, allowing the investigation to finally proceed without political interference. Staff, communications, publicity--suddenly all were available. In just one night of telephoning around, Fetisov got his depressed forensics chief access to the FBI's Serial Murder Task Force at Quantico, where, Fetisov discovered, staff are regularly rotated off serial murder cases to stave off just such psychological damage to investigators.<br /><br />Fetisov advises his newly promoted forensics chief, now `Colonel' Burakov, of all these changes in an avalanche of confession that becomes the movie's powerhouse watershed scene. Fetisov's is the most tender apology I've ever seen on film: `Privately, I offer my deepest apologies to you and your wife. I hope that someday you can forgive me my ignorance', he almost whispers.<br /><br />A HBO production, CitizenX is a film of the highest caliber. Not only do the exteriors look authentically bleak (shot exclusively in the most run-down parts of otherwise spectacular Budapest), but Randy Edelman's soaring soundtrack is entirely overwhelming--and frequently our only respite from the bleak brutality. Those who speak Hungarian will recognize the many Hungarian accents and credits.<br /><br />Chikatilo's actual murders are depicted as bleak, aberrant behaviour born of character flaws and ignorance in an equally bleak world. This makes the murders seem not-entirely-out-of-place--but of course they were. As President Kennedy reminded us, `we all cherish the futures of our children'.<br /><br />CitizenX communicates perfectly that killing is far more grisly and obscene than any vengeance fantasy might imply. Serial rapists rape to dominate; serial killers kill to dominate. So do some soldiers. Such `limbic dominators' make poor humans.<br /><br />WARNING-SPOILER:----------------------------------------------- The real Andrei Chikatilo WAS the world's most prolific known serial killer. Convicted, he was executed in 1992 in the manner of all Soviet Union death sentences: one shot, in the back of the head. Foolishly, such methods destroy any possibility of studying a deviant brain after death.<br /><br />Conclusion:------------------------------------------------------------ The best outcome is always the prevention of killings, not their prosecution. Executions merely guarantee society's failure to learn from the complex reality of victims' deaths when we dispatch even anecdotal evidence of HOW/WHY they died. Nor do killers learn regret if they're dead.<br /><br />Vengeance doesn't unkill victims. Baying for the killer's blood constitutes nothing better than counter-domination--once it's too late.<br /><br />Vengeance on behalf of the grieving isn't justice for the deceased--it's appeasement of the living.(10/10)\",\n",
      "       b'I have no idea why they made this version of \"Persuasion\" when they already had that fine mini-series with Amanda Root and Ciaran Hinds. I suppose that they wanted to make a feature-length version, but of course a lot had to be deleted; alas, what ended up on the cutting-room floor was all the lovely wit and humour, leaving a film that was mere melodrama rather than an amusing exposition of English country manners and mores.<br /><br />Also, the characters were shallow and uninteresting. They had poor Anne chasing up and down the streets after Captain Wentworth like a silly modern adolescent (and if you happen to be a silly modern adolescent reading this, let me tell you: running after a male like a female in heat is NOT cool). That is something a well-bred woman of the Napoleonic era would never have done, and certainly not this level-headed heroine.<br /><br />Some have said they found this antic laughable; my reaction was not laughter, but outrage. The very idea of such a corruption of an Austen work is beneath contempt.<br /><br />It was ghastly.',\n",
      "       b\"Really...and incredible film that though isn't very popular...extremely touching and almost life altering...was for me at least.<br /><br />Definitely worth seeing and buying .....Added to my favorite movie list....it's number one now....<br /><br />This is a very touching movie that all people should see..<br /><br />The Man in the Moon.....we'll it's just incredible. It's now my favorite movie and I only saw it today and I'd recommend it to anyone above 15 as long as you're somewhat mature......If you don't really try to feel the characters emotions then you'll never get the true meaning and value of this movie....But it really is incredible....just watch it because it'll alter the way some people look at life....worth seeing 5/5\",\n",
      "       b'I love Anthony Hopkins as an actor so I was very interested to see how he would do as a writer/director. I could not have been more disappointed by this move. The movie was so disjointed and the cinematography was so over done to the point I wanted to pull the plug out of the wall. The actors were very good but it was such a waste of talent. Not all actors are cut out to be writers or directors and clearly Mr. Hopkins falls into this category. Of all the movies I have ever seen in my 50 years, this is absolutely the worst movie ever. Please do us all a favor Mr. Hopkins and stick to acting, which you are excellent at, and leave the writing and directing to those who are talented in those areas. If I could give this movie a rating less than one I certainly would.'],\n",
      "      dtype=object)>, <tf.Tensor: shape=(16,), dtype=int64, numpy=array([1, 1, 1, 0, 0, 0, 0, 1, 0, 1, 0, 0, 1, 0, 1, 0])>)\n"
     ]
    }
   ],
   "source": [
    "for i in train_ds.take(1):\n",
    "    print(i)"
   ]
  },
  {
   "cell_type": "markdown",
   "id": "66bae1da-6e63-4d24-828d-3347905e8e10",
   "metadata": {},
   "source": [
    "## Definir modelo"
   ]
  },
  {
   "cell_type": "code",
   "execution_count": 22,
   "id": "280ce233-1688-4c27-be29-dec42ab51b17",
   "metadata": {},
   "outputs": [],
   "source": [
    "from tensorflow.keras.layers import TextVectorization"
   ]
  },
  {
   "cell_type": "code",
   "execution_count": 23,
   "id": "288fb5a9-8fac-40a7-a696-d58adfa6d4e6",
   "metadata": {},
   "outputs": [],
   "source": [
    "def clean_text(raw_text):\n",
    "    lowercase = tf.strings.lower(raw_text)\n",
    "    clean = tf.strings.regex_replace(lowercase, '<br />', ' ')\n",
    "    return clean\n",
    "\n",
    "vectorize_layer = TextVectorization(\n",
    "    standardize=clean_text,\n",
    "    max_tokens=voc_size,\n",
    "    output_mode='int',\n",
    "    output_sequence_length=seq_length)"
   ]
  },
  {
   "cell_type": "markdown",
   "id": "a3ee458d-4856-40c4-b3f7-e9adeda67af5",
   "metadata": {},
   "source": [
    "- Adaptar la capa"
   ]
  },
  {
   "cell_type": "code",
   "execution_count": 24,
   "id": "42deec01-632e-406a-96d2-bea5dc563572",
   "metadata": {},
   "outputs": [],
   "source": [
    "vectorize_layer_ds = train_ds.map(lambda text, label: text)\n",
    "vectorize_layer.adapt(vectorize_layer_ds)"
   ]
  },
  {
   "cell_type": "code",
   "execution_count": 25,
   "id": "a992d26a-a2a5-43a6-801a-69185baa09da",
   "metadata": {
    "scrolled": true,
    "tags": []
   },
   "outputs": [
    {
     "data": {
      "text/plain": [
       "['',\n",
       " '[UNK]',\n",
       " 'the',\n",
       " 'a',\n",
       " 'and',\n",
       " 'of',\n",
       " 'to',\n",
       " 'is',\n",
       " 'in',\n",
       " 'i',\n",
       " 'this',\n",
       " 'that',\n",
       " 'it',\n",
       " 'was',\n",
       " 'as',\n",
       " 'for',\n",
       " 'with',\n",
       " 'but',\n",
       " 'on',\n",
       " 'movie',\n",
       " 'his',\n",
       " 'not',\n",
       " 'are',\n",
       " 'film',\n",
       " 'you',\n",
       " 'have',\n",
       " 'he',\n",
       " 'be',\n",
       " 'at',\n",
       " 'one',\n",
       " 'by',\n",
       " 'an',\n",
       " 'they',\n",
       " 'all',\n",
       " 'from',\n",
       " 'who',\n",
       " 'like',\n",
       " 'so',\n",
       " 'just',\n",
       " 'or',\n",
       " \"it's\",\n",
       " 'has',\n",
       " 'her',\n",
       " 'about',\n",
       " 'if',\n",
       " 'some',\n",
       " 'what',\n",
       " 'out',\n",
       " 'there',\n",
       " 'when',\n",
       " 'very',\n",
       " 'more',\n",
       " 'she',\n",
       " 'even',\n",
       " 'my',\n",
       " 'would',\n",
       " 'good',\n",
       " 'only',\n",
       " 'no',\n",
       " 'their',\n",
       " 'really',\n",
       " 'had',\n",
       " 'which',\n",
       " 'can',\n",
       " 'up',\n",
       " 'were',\n",
       " 'see',\n",
       " 'than',\n",
       " 'we',\n",
       " '-',\n",
       " 'been',\n",
       " 'into',\n",
       " 'get',\n",
       " 'will',\n",
       " 'much',\n",
       " 'because',\n",
       " 'story',\n",
       " 'most',\n",
       " 'how',\n",
       " 'other',\n",
       " 'first',\n",
       " 'also',\n",
       " \"don't\",\n",
       " 'its',\n",
       " 'do',\n",
       " 'time',\n",
       " 'great',\n",
       " 'me',\n",
       " 'people',\n",
       " 'make',\n",
       " 'could',\n",
       " 'any',\n",
       " 'after',\n",
       " 'then',\n",
       " 'made',\n",
       " 'bad',\n",
       " 'think',\n",
       " 'many',\n",
       " 'being',\n",
       " 'it.',\n",
       " 'him',\n",
       " 'never',\n",
       " 'two',\n",
       " 'too',\n",
       " 'little',\n",
       " 'where',\n",
       " 'movie.',\n",
       " 'well',\n",
       " 'way',\n",
       " 'watch',\n",
       " 'your',\n",
       " 'did',\n",
       " 'does',\n",
       " 'best',\n",
       " 'them',\n",
       " 'seen',\n",
       " 'know',\n",
       " 'love',\n",
       " 'these',\n",
       " 'characters',\n",
       " 'movies',\n",
       " 'character',\n",
       " 'film.',\n",
       " 'still',\n",
       " 'ever',\n",
       " 'over',\n",
       " 'while',\n",
       " 'should',\n",
       " 'such',\n",
       " 'films',\n",
       " 'plot',\n",
       " 'acting',\n",
       " 'show',\n",
       " 'those',\n",
       " 'go',\n",
       " 'off',\n",
       " 'better',\n",
       " 'through',\n",
       " 'why',\n",
       " \"doesn't\",\n",
       " \"i'm\",\n",
       " 'something',\n",
       " 'say',\n",
       " \"didn't\",\n",
       " 'makes',\n",
       " 'watching',\n",
       " 'back',\n",
       " 'scene',\n",
       " 'film,',\n",
       " 'real',\n",
       " 'find',\n",
       " 'new',\n",
       " 'movie,',\n",
       " 'few',\n",
       " 'every',\n",
       " 'actually',\n",
       " 'man',\n",
       " 'scenes',\n",
       " 'life',\n",
       " 'another',\n",
       " 'going',\n",
       " 'nothing',\n",
       " 'same',\n",
       " 'look',\n",
       " 'quite',\n",
       " 'lot',\n",
       " 'old',\n",
       " 'want',\n",
       " 'end',\n",
       " 'pretty',\n",
       " 'thing',\n",
       " 'seems',\n",
       " 'got',\n",
       " '&',\n",
       " 'before',\n",
       " \"can't\",\n",
       " 'take',\n",
       " 'years',\n",
       " 'part',\n",
       " 'give',\n",
       " 'actors',\n",
       " 'young',\n",
       " 'may',\n",
       " \"i've\",\n",
       " \"that's\",\n",
       " 'between',\n",
       " 'though',\n",
       " 'us',\n",
       " 'now',\n",
       " 'without',\n",
       " 'both',\n",
       " 'things',\n",
       " 'director',\n",
       " 'gets',\n",
       " 'here',\n",
       " 'big',\n",
       " 'around',\n",
       " 'thought',\n",
       " 'saw',\n",
       " 'almost',\n",
       " 'it,',\n",
       " \"isn't\",\n",
       " 'always',\n",
       " 'must',\n",
       " \"there's\",\n",
       " 'come',\n",
       " 'own',\n",
       " 'work',\n",
       " 'whole',\n",
       " 'cast',\n",
       " 'horror',\n",
       " 'down',\n",
       " 'might',\n",
       " \"he's\",\n",
       " '\"the',\n",
       " 'bit',\n",
       " 'least',\n",
       " 'probably',\n",
       " 'enough',\n",
       " 'last',\n",
       " 'since',\n",
       " 'feel',\n",
       " 'original',\n",
       " 'am',\n",
       " 'rather',\n",
       " 'long',\n",
       " 'far',\n",
       " 'fact',\n",
       " 'kind',\n",
       " 'however,',\n",
       " 'each',\n",
       " 'funny',\n",
       " 'world',\n",
       " 'having',\n",
       " 'found',\n",
       " 'anything',\n",
       " 'our',\n",
       " 'worst',\n",
       " 'comes',\n",
       " 'making',\n",
       " 'trying',\n",
       " 'action',\n",
       " 'right',\n",
       " 'interesting',\n",
       " 'done',\n",
       " 'point',\n",
       " 'believe',\n",
       " 'looks',\n",
       " 'guy',\n",
       " 'put',\n",
       " 'goes',\n",
       " 'family',\n",
       " 'anyone',\n",
       " 'played',\n",
       " 'time.',\n",
       " 'main',\n",
       " 'series',\n",
       " 'hard',\n",
       " \"wasn't\",\n",
       " 'although',\n",
       " 'yet',\n",
       " 'role',\n",
       " 'worth',\n",
       " 'especially',\n",
       " 'music',\n",
       " 'seem',\n",
       " 'script',\n",
       " 'performance',\n",
       " 'plays',\n",
       " 'takes',\n",
       " 'sure',\n",
       " 'looking',\n",
       " 'watched',\n",
       " 'during',\n",
       " 'someone',\n",
       " 'minutes',\n",
       " 'maybe',\n",
       " 'different',\n",
       " 'tv',\n",
       " 'three',\n",
       " 'set',\n",
       " 'woman',\n",
       " 'away',\n",
       " 'times',\n",
       " 'shows',\n",
       " 'everything',\n",
       " 'comedy',\n",
       " 'girl',\n",
       " 'once',\n",
       " 'john',\n",
       " 'left',\n",
       " 'seeing',\n",
       " 'simply',\n",
       " \"you're\",\n",
       " 'well,',\n",
       " 'american',\n",
       " 'fun',\n",
       " 'special',\n",
       " 'everyone',\n",
       " 'completely',\n",
       " 'true',\n",
       " 'play',\n",
       " 'again',\n",
       " 'reason',\n",
       " 'read',\n",
       " 'given',\n",
       " 'used',\n",
       " 'need',\n",
       " 'nice',\n",
       " 'until',\n",
       " 'beautiful',\n",
       " 'use',\n",
       " 'high',\n",
       " 'truly',\n",
       " 'sense',\n",
       " 'place',\n",
       " '--',\n",
       " 'idea',\n",
       " 'try',\n",
       " 'help',\n",
       " 'version',\n",
       " 'rest',\n",
       " 'less',\n",
       " 'black',\n",
       " 'dvd',\n",
       " 'money',\n",
       " 'second',\n",
       " 'came',\n",
       " 'job',\n",
       " 'excellent',\n",
       " 'recommend',\n",
       " 'ending',\n",
       " 'instead',\n",
       " 'let',\n",
       " 'tell',\n",
       " 'shot',\n",
       " 'getting',\n",
       " 'keep',\n",
       " 'full',\n",
       " 'actor',\n",
       " '(and',\n",
       " 'poor',\n",
       " 'gives',\n",
       " 'said',\n",
       " 'half',\n",
       " 'enjoy',\n",
       " 'definitely',\n",
       " 'couple',\n",
       " 'day',\n",
       " 'himself',\n",
       " 'playing',\n",
       " 'supposed',\n",
       " 'along',\n",
       " 'early',\n",
       " 'audience',\n",
       " 'them.',\n",
       " 'become',\n",
       " 'perhaps',\n",
       " 'felt',\n",
       " 'remember',\n",
       " 'later',\n",
       " 'understand',\n",
       " 'effects',\n",
       " 'all,',\n",
       " 'small',\n",
       " \"couldn't\",\n",
       " 'absolutely',\n",
       " 'entire',\n",
       " 'book',\n",
       " 'next',\n",
       " 'together',\n",
       " 'liked',\n",
       " 'star',\n",
       " 'against',\n",
       " 'wife',\n",
       " 'went',\n",
       " 'fan',\n",
       " 'doing',\n",
       " 'start',\n",
       " 'often',\n",
       " 'hollywood',\n",
       " 'certainly',\n",
       " 'year',\n",
       " '2',\n",
       " 'several',\n",
       " 'screen',\n",
       " '(the',\n",
       " \"she's\",\n",
       " 'waste',\n",
       " 'time,',\n",
       " 'sort',\n",
       " 'night',\n",
       " 'human',\n",
       " '10',\n",
       " 'is,',\n",
       " 'becomes',\n",
       " 'wonderful',\n",
       " 'short',\n",
       " 'one.',\n",
       " 'loved',\n",
       " 'seemed',\n",
       " 'kids',\n",
       " '.',\n",
       " 'men',\n",
       " '\\x96',\n",
       " 'piece',\n",
       " 'him.',\n",
       " 'war',\n",
       " 'this.',\n",
       " 'classic',\n",
       " 'father',\n",
       " 'house',\n",
       " \"i'd\",\n",
       " 'despite',\n",
       " 'production',\n",
       " 'me.',\n",
       " 'home',\n",
       " 'camera',\n",
       " 'hope',\n",
       " 'else',\n",
       " 'wanted',\n",
       " 'women',\n",
       " 'totally',\n",
       " 'that,',\n",
       " 'based',\n",
       " 'live',\n",
       " 'performances',\n",
       " 'final',\n",
       " 'course',\n",
       " 'lost',\n",
       " 'top',\n",
       " 'story.',\n",
       " 'well.',\n",
       " \"you'll\",\n",
       " 'tries',\n",
       " 'mind',\n",
       " 'line',\n",
       " 'video',\n",
       " 'able',\n",
       " 'wants',\n",
       " 'called',\n",
       " 'perfect',\n",
       " 'friends',\n",
       " 'all.',\n",
       " 'finally',\n",
       " 'under',\n",
       " \"they're\",\n",
       " 'gave',\n",
       " 'death',\n",
       " 'already',\n",
       " 'enjoyed',\n",
       " 'story,',\n",
       " 'either',\n",
       " 'good.',\n",
       " 'turn',\n",
       " 'person',\n",
       " 'name',\n",
       " 'sex',\n",
       " 'written',\n",
       " 'turns',\n",
       " 'episode',\n",
       " 'care',\n",
       " 'life.',\n",
       " 'starts',\n",
       " 'dead',\n",
       " 'problem',\n",
       " \"won't\",\n",
       " 'low',\n",
       " 'and,',\n",
       " 'stupid',\n",
       " 'this,',\n",
       " 'school',\n",
       " 'mean',\n",
       " 'face',\n",
       " 'behind',\n",
       " 'title',\n",
       " 'michael',\n",
       " 'moments',\n",
       " 'favorite',\n",
       " 'lead',\n",
       " 'sound',\n",
       " 'lines',\n",
       " 'stars',\n",
       " 'white',\n",
       " 'head',\n",
       " 'guess',\n",
       " 'took',\n",
       " 'cannot',\n",
       " 'highly',\n",
       " 'budget',\n",
       " 'fine',\n",
       " 'terrible',\n",
       " 'me,',\n",
       " 'kill',\n",
       " 'extremely',\n",
       " 'others',\n",
       " 'sometimes',\n",
       " 'throughout',\n",
       " 'movies.',\n",
       " 'dialogue',\n",
       " 'evil',\n",
       " 'obviously',\n",
       " 'lack',\n",
       " 'beginning',\n",
       " \"film's\",\n",
       " 'fans',\n",
       " \"wouldn't\",\n",
       " 'style',\n",
       " 'boring',\n",
       " 'heard',\n",
       " 'that.',\n",
       " 'dark',\n",
       " 'directed',\n",
       " 'feeling',\n",
       " 'mr.',\n",
       " 'itself',\n",
       " 'lives',\n",
       " 'decent',\n",
       " 'soon',\n",
       " 'works',\n",
       " 'expect',\n",
       " 'good,',\n",
       " 'bad.',\n",
       " 'here.',\n",
       " 'killer',\n",
       " 'boy',\n",
       " 'particularly',\n",
       " 'looked',\n",
       " 'late',\n",
       " 'amazing',\n",
       " 'case',\n",
       " 'attempt',\n",
       " 'friend',\n",
       " 'course,',\n",
       " 'leave',\n",
       " 'save',\n",
       " 'fight',\n",
       " 'wrong',\n",
       " 'picture',\n",
       " 'mother',\n",
       " 'quality',\n",
       " 'out.',\n",
       " 'entertaining',\n",
       " 'thinking',\n",
       " 'complete',\n",
       " 'awful',\n",
       " 'viewer',\n",
       " 'taken',\n",
       " 'guys',\n",
       " 'exactly',\n",
       " 'close',\n",
       " 'except',\n",
       " 'writing',\n",
       " 'again.',\n",
       " 'run',\n",
       " 'finds',\n",
       " 'whose',\n",
       " 'james',\n",
       " 'wonder',\n",
       " '3',\n",
       " 'somewhat',\n",
       " 'living',\n",
       " 'number',\n",
       " 'end.',\n",
       " 'strong',\n",
       " 'across',\n",
       " 'police',\n",
       " 'worse',\n",
       " 'told',\n",
       " 'direction',\n",
       " 'coming',\n",
       " 'says',\n",
       " 'opening',\n",
       " 'movies,',\n",
       " 'way.',\n",
       " 'shown',\n",
       " 'obvious',\n",
       " 'usually',\n",
       " \"i'll\",\n",
       " 'running',\n",
       " 'parts',\n",
       " 'laugh',\n",
       " 'car',\n",
       " 'taking',\n",
       " 'films,',\n",
       " 'past',\n",
       " 'type',\n",
       " 'side',\n",
       " 'none',\n",
       " 'wish',\n",
       " 'is.',\n",
       " 'huge',\n",
       " 'group',\n",
       " 'yes,',\n",
       " 'acting,',\n",
       " 'major',\n",
       " 'supporting',\n",
       " 'children',\n",
       " 'act',\n",
       " 'stop',\n",
       " 'girls',\n",
       " 'turned',\n",
       " 'hour',\n",
       " 'tells',\n",
       " 'known',\n",
       " 'started',\n",
       " 'local',\n",
       " 'david',\n",
       " 'knew',\n",
       " 'again,',\n",
       " 'here,',\n",
       " 'due',\n",
       " 'her.',\n",
       " 'myself',\n",
       " 'stories',\n",
       " 'killed',\n",
       " 'so,',\n",
       " \"aren't\",\n",
       " 'town',\n",
       " 'single',\n",
       " 'happens',\n",
       " 'game',\n",
       " 'female',\n",
       " 'bring',\n",
       " 'brilliant',\n",
       " 'cinema',\n",
       " 'call',\n",
       " 'robert',\n",
       " 'clearly',\n",
       " 'including',\n",
       " ',',\n",
       " 'way,',\n",
       " 'films.',\n",
       " 'whether',\n",
       " 'son',\n",
       " 'british',\n",
       " 'mostly',\n",
       " 'seen.',\n",
       " 'fact,',\n",
       " 'however',\n",
       " 'actress',\n",
       " 'overall',\n",
       " '!',\n",
       " 'talking',\n",
       " 'art',\n",
       " 'hit',\n",
       " 'voice',\n",
       " 'humor',\n",
       " 'on.',\n",
       " 'child',\n",
       " 'giving',\n",
       " 'involved',\n",
       " 'history',\n",
       " 'characters,',\n",
       " 'one,',\n",
       " 'musical',\n",
       " 'order',\n",
       " 'ends',\n",
       " 'saying',\n",
       " 'falls',\n",
       " 'easily',\n",
       " 'end,',\n",
       " 'heart',\n",
       " 'drama',\n",
       " 'but,',\n",
       " 'serious',\n",
       " 'matter',\n",
       " 'beyond',\n",
       " 'horrible',\n",
       " 'bad,',\n",
       " 'eyes',\n",
       " 'relationship',\n",
       " 'nearly',\n",
       " 'modern',\n",
       " 'cut',\n",
       " 'feels',\n",
       " 'chance',\n",
       " 'five',\n",
       " 'kid',\n",
       " 'needs',\n",
       " 'actual',\n",
       " 'similar',\n",
       " \"haven't\",\n",
       " 'upon',\n",
       " 'themselves',\n",
       " 'important',\n",
       " 'appears',\n",
       " 'too.',\n",
       " 'example',\n",
       " 'using',\n",
       " 'moment',\n",
       " 'change',\n",
       " 'four',\n",
       " 'comic',\n",
       " 'simple',\n",
       " 'strange',\n",
       " 'within',\n",
       " 'knows',\n",
       " 'basically',\n",
       " 'lots',\n",
       " 'happened',\n",
       " 'released',\n",
       " 'named',\n",
       " 'funny.',\n",
       " 'among',\n",
       " 'usual',\n",
       " 'english',\n",
       " 'also,',\n",
       " 'slow',\n",
       " 'mention',\n",
       " 'certain',\n",
       " 'romantic',\n",
       " 'typical',\n",
       " 'stuff',\n",
       " 'characters.',\n",
       " 'near',\n",
       " 'kept',\n",
       " 'bunch',\n",
       " '(i',\n",
       " 'jack',\n",
       " 'interest',\n",
       " 'city',\n",
       " 'apparently',\n",
       " 'showing',\n",
       " 'hours',\n",
       " 'blood',\n",
       " 'plot,',\n",
       " 'george',\n",
       " 'brought',\n",
       " 'please',\n",
       " 'murder',\n",
       " 'miss',\n",
       " 'fall',\n",
       " \"what's\",\n",
       " 'days',\n",
       " 'song',\n",
       " 'add',\n",
       " 'tried',\n",
       " 'body',\n",
       " 'richard',\n",
       " 'paul',\n",
       " 'middle',\n",
       " 'him,',\n",
       " 'greatest',\n",
       " 'stay',\n",
       " 'life,',\n",
       " 'sad',\n",
       " 'happy',\n",
       " 'events',\n",
       " 'score',\n",
       " 'yourself',\n",
       " 'talk',\n",
       " 'better.',\n",
       " 'working',\n",
       " 'cheap',\n",
       " 'shots',\n",
       " '(as',\n",
       " 'decided',\n",
       " 'buy',\n",
       " 'begins',\n",
       " 'oh',\n",
       " 'age',\n",
       " 'there.',\n",
       " 'surprised',\n",
       " 'hear',\n",
       " 'french',\n",
       " 'brother',\n",
       " 'alone',\n",
       " 'famous',\n",
       " 'hate',\n",
       " 'became',\n",
       " 'work.',\n",
       " 'daughter',\n",
       " 'annoying',\n",
       " 'peter',\n",
       " 'learn',\n",
       " \"you've\",\n",
       " 'happen',\n",
       " 'ten',\n",
       " '(which',\n",
       " 'show.',\n",
       " '1',\n",
       " 'songs',\n",
       " 'sit',\n",
       " 'de',\n",
       " 'jokes',\n",
       " 'watch.',\n",
       " 'nor',\n",
       " 'easy',\n",
       " 'above',\n",
       " 'sets',\n",
       " 'documentary',\n",
       " 'light',\n",
       " 'view',\n",
       " 'up.',\n",
       " 'sexual',\n",
       " 'possibly',\n",
       " 'experience',\n",
       " 'cinematography',\n",
       " \"who's\",\n",
       " 'you.',\n",
       " 'king',\n",
       " 'hell',\n",
       " 'funny,',\n",
       " 'straight',\n",
       " 'sequence',\n",
       " 'attention',\n",
       " 'now,',\n",
       " 'unfortunately',\n",
       " 'power',\n",
       " 'stand',\n",
       " 'avoid',\n",
       " 'red',\n",
       " 'meets',\n",
       " 'hand',\n",
       " 'gore',\n",
       " 'episodes',\n",
       " 'word',\n",
       " 'god',\n",
       " 'difficult',\n",
       " 'japanese',\n",
       " 'husband',\n",
       " 'tom',\n",
       " 'elements',\n",
       " 'clear',\n",
       " 'violence',\n",
       " 'poorly',\n",
       " 'somehow',\n",
       " 'leaves',\n",
       " 'keeps',\n",
       " 'unfortunately,',\n",
       " 'realize',\n",
       " 'television',\n",
       " 'means',\n",
       " 'eventually',\n",
       " '5',\n",
       " 'ones',\n",
       " 'genre',\n",
       " 'roles',\n",
       " 'rent',\n",
       " 'flick',\n",
       " 'cool',\n",
       " 'character,',\n",
       " 'possible',\n",
       " 'out,',\n",
       " 'figure',\n",
       " 'towards',\n",
       " 'imagine',\n",
       " 'silly',\n",
       " 'reality',\n",
       " 'filmed',\n",
       " 'them,',\n",
       " 'reading',\n",
       " 'forget',\n",
       " 'scary',\n",
       " 'doubt',\n",
       " 'moving',\n",
       " 'move',\n",
       " 'check',\n",
       " 'brings',\n",
       " 'theme',\n",
       " 'rock',\n",
       " 'lady',\n",
       " 'killing',\n",
       " 'third',\n",
       " 'previous',\n",
       " 'on,',\n",
       " 'emotional',\n",
       " 'room',\n",
       " 'oscar',\n",
       " 'leads',\n",
       " '(or',\n",
       " 'say,',\n",
       " 'problems',\n",
       " 'deal',\n",
       " 'though,',\n",
       " 'review',\n",
       " 'novel',\n",
       " '4',\n",
       " 'talent',\n",
       " 'hero',\n",
       " 'comments',\n",
       " 'incredibly',\n",
       " 'leading',\n",
       " 'message',\n",
       " 'level',\n",
       " 'enjoyable',\n",
       " 'write',\n",
       " 'ridiculous',\n",
       " 'various',\n",
       " 'career',\n",
       " 'animation',\n",
       " 'writer',\n",
       " 'unless',\n",
       " 'plenty',\n",
       " 'meant',\n",
       " 'personal',\n",
       " 'needed',\n",
       " 'feature',\n",
       " 'gone',\n",
       " 'herself',\n",
       " 'future',\n",
       " 'total',\n",
       " 'meet',\n",
       " 'hardly',\n",
       " 'create',\n",
       " 'whom',\n",
       " 'begin',\n",
       " 'country',\n",
       " 'forced',\n",
       " 'theater',\n",
       " 'team',\n",
       " 'manages',\n",
       " \"let's\",\n",
       " 'fairly',\n",
       " 'particular',\n",
       " 'form',\n",
       " 'then,',\n",
       " 'hilarious',\n",
       " 'appear',\n",
       " 'points',\n",
       " 'viewers',\n",
       " 'people.',\n",
       " 'fast',\n",
       " 'fantastic',\n",
       " 'etc.',\n",
       " 'joe',\n",
       " 'interested',\n",
       " 'follow',\n",
       " 'years.',\n",
       " 'words',\n",
       " 'zombie',\n",
       " 'whatever',\n",
       " 'weak',\n",
       " 'effort',\n",
       " 'tale',\n",
       " 'sounds',\n",
       " 'expecting',\n",
       " 'dramatic',\n",
       " 'plot.',\n",
       " 'male',\n",
       " 'average',\n",
       " 'older',\n",
       " 'her,',\n",
       " 'lee',\n",
       " 'reviews',\n",
       " 'political',\n",
       " 'mystery',\n",
       " 'general',\n",
       " 'attempts',\n",
       " 'scenes,',\n",
       " 'york',\n",
       " 'subject',\n",
       " 'features',\n",
       " 'class',\n",
       " '(a',\n",
       " 'pay',\n",
       " 'up,',\n",
       " 'crap',\n",
       " 'disney',\n",
       " 'unlike',\n",
       " 'scene,',\n",
       " 'scenes.',\n",
       " 'worked',\n",
       " 'man,',\n",
       " 'made.',\n",
       " 'dance',\n",
       " 'decides',\n",
       " 'premise',\n",
       " 'plain',\n",
       " '...',\n",
       " 'badly',\n",
       " \"'the\",\n",
       " 'it!',\n",
       " 'more.',\n",
       " 'minute',\n",
       " 'ask',\n",
       " 'wait',\n",
       " 'viewing',\n",
       " '20',\n",
       " 'open',\n",
       " 'dialog',\n",
       " 'screen.',\n",
       " 'expected',\n",
       " 'be.',\n",
       " 'social',\n",
       " 'eye',\n",
       " 'uses',\n",
       " 'deep',\n",
       " 'considering',\n",
       " '(who',\n",
       " 'world.',\n",
       " 'storyline',\n",
       " 'forward',\n",
       " 'directors',\n",
       " 'writers',\n",
       " 'there,',\n",
       " 'front',\n",
       " 'waiting',\n",
       " 'crime',\n",
       " ...]"
      ]
     },
     "execution_count": 25,
     "metadata": {},
     "output_type": "execute_result"
    }
   ],
   "source": [
    "vectorize_layer.get_vocabulary()"
   ]
  },
  {
   "cell_type": "markdown",
   "id": "5dd289ef-b4ea-43f9-b059-4439e4a71888",
   "metadata": {},
   "source": [
    "- Probar vectorize_layer con batch de prueba"
   ]
  },
  {
   "cell_type": "code",
   "execution_count": 26,
   "id": "5a5741fa-1582-4479-9697-9aa424da11be",
   "metadata": {},
   "outputs": [
    {
     "data": {
      "text/plain": [
       "<tf.Tensor: shape=(1, 20), dtype=int64, numpy=\n",
       "array([[ 1, 48,  0,  0,  0,  0,  0,  0,  0,  0,  0,  0,  0,  0,  0,  0,\n",
       "         0,  0,  0,  0]])>"
      ]
     },
     "execution_count": 26,
     "metadata": {},
     "output_type": "execute_result"
    }
   ],
   "source": [
    "test_batch = tf.constant([['Hi there']])\n",
    "vectorize_layer(test_batch)"
   ]
  },
  {
   "cell_type": "code",
   "execution_count": 37,
   "id": "59d56968-9a5f-4dec-adaf-a4e7d8f66f91",
   "metadata": {},
   "outputs": [],
   "source": [
    "rnn = tf.keras.Sequential([\n",
    "    vectorize_layer,\n",
    "    tf.keras.layers.Embedding(\n",
    "        input_dim=voc_size, output_dim=128),\n",
    "    tf.keras.layers.SimpleRNN(128),\n",
    "    tf.keras.layers.Dense(1)\n",
    "])"
   ]
  },
  {
   "cell_type": "markdown",
   "id": "3ea47915-00bb-42f5-81e4-d33d3e37b4be",
   "metadata": {},
   "source": [
    "- Probar rnn con batch de prueba"
   ]
  },
  {
   "cell_type": "code",
   "execution_count": 38,
   "id": "aa876b8a-c6fa-4c9d-8819-476b70288bc9",
   "metadata": {},
   "outputs": [
    {
     "data": {
      "text/plain": [
       "<tf.Tensor: shape=(1, 1), dtype=float32, numpy=array([[-0.0050434]], dtype=float32)>"
      ]
     },
     "execution_count": 38,
     "metadata": {},
     "output_type": "execute_result"
    }
   ],
   "source": [
    "rnn(test_batch)"
   ]
  },
  {
   "cell_type": "markdown",
   "id": "ddfca56a-eb6d-418c-9b11-4a5300ab9bd1",
   "metadata": {},
   "source": [
    "- Información del modelo"
   ]
  },
  {
   "cell_type": "code",
   "execution_count": 39,
   "id": "a315c30f-f107-43fa-b5d6-1a4334ff0c3e",
   "metadata": {},
   "outputs": [
    {
     "name": "stdout",
     "output_type": "stream",
     "text": [
      "Model: \"sequential_1\"\n",
      "_________________________________________________________________\n",
      " Layer (type)                Output Shape              Param #   \n",
      "=================================================================\n",
      " text_vectorization (TextVec  (None, 20)               0         \n",
      " torization)                                                     \n",
      "                                                                 \n",
      " embedding_1 (Embedding)     (None, 20, 128)           640000    \n",
      "                                                                 \n",
      " simple_rnn_1 (SimpleRNN)    (None, 128)               32896     \n",
      "                                                                 \n",
      " dense_1 (Dense)             (None, 1)                 129       \n",
      "                                                                 \n",
      "=================================================================\n",
      "Total params: 673,025\n",
      "Trainable params: 673,025\n",
      "Non-trainable params: 0\n",
      "_________________________________________________________________\n"
     ]
    }
   ],
   "source": [
    "rnn.summary()"
   ]
  },
  {
   "cell_type": "markdown",
   "id": "78948806-9b9b-4a4b-960b-e3668b750240",
   "metadata": {},
   "source": [
    "## Entrenamiento "
   ]
  },
  {
   "cell_type": "code",
   "execution_count": 40,
   "id": "29a2b23f-a780-4b94-b280-5feeecc07ad1",
   "metadata": {},
   "outputs": [],
   "source": [
    "loss = tf.keras.losses.BinaryCrossentropy(from_logits=True)"
   ]
  },
  {
   "cell_type": "code",
   "execution_count": 41,
   "id": "1f299f93-f2ac-4964-a2fb-bdfd7668217e",
   "metadata": {},
   "outputs": [],
   "source": [
    "opt = tf.keras.optimizers.SGD(learning_rate=0.001)"
   ]
  },
  {
   "cell_type": "code",
   "execution_count": 42,
   "id": "6578dcd0-2eca-4a94-8d6d-2efbba652d92",
   "metadata": {},
   "outputs": [],
   "source": [
    "train_loss_metric = tf.keras.metrics.BinaryCrossentropy(from_logits=True)\n",
    "val_loss_metric = tf.keras.metrics.BinaryCrossentropy(from_logits=True)"
   ]
  },
  {
   "cell_type": "code",
   "execution_count": 43,
   "id": "f131dd23-8c8f-450c-9a86-b5c6b71a2868",
   "metadata": {},
   "outputs": [
    {
     "data": {
      "text/plain": [
       "(1563, <tf.Tensor: shape=(), dtype=int64, numpy=1563>)"
      ]
     },
     "execution_count": 43,
     "metadata": {},
     "output_type": "execute_result"
    }
   ],
   "source": [
    "len(test_ds), tf.data.experimental.cardinality(test_ds)"
   ]
  },
  {
   "cell_type": "code",
   "execution_count": 44,
   "id": "a761811b-6555-43e6-ae7a-031c50781aab",
   "metadata": {},
   "outputs": [],
   "source": [
    "epochs = 3"
   ]
  },
  {
   "cell_type": "markdown",
   "id": "823c1b78-7706-4ce7-842b-6f8ce24b244a",
   "metadata": {},
   "source": [
    "- Definir __train_step__. Obtener pesos de la red recurrente con __trainable_weights__ y aplicar optimizador."
   ]
  },
  {
   "cell_type": "code",
   "execution_count": 45,
   "id": "298716de-4ec4-4b9a-a382-c6ffddc7335b",
   "metadata": {},
   "outputs": [],
   "source": [
    "@tf.function\n",
    "def train_step(text, target):\n",
    "    with tf.GradientTape() as tape:\n",
    "        logits = rnn(text, training=True)\n",
    "        loss_value = loss(tf.cast(target, tf.float32), logits)\n",
    "\n",
    "    gradients = tape.gradient(loss_value, rnn.trainable_weights)\n",
    "    opt.apply_gradients(zip(gradients, rnn.trainable_weights))\n",
    "    train_loss_metric.update_state(tf.cast(target, tf.float32), logits)"
   ]
  },
  {
   "cell_type": "code",
   "execution_count": 46,
   "id": "d8d7010c-48b3-49e3-bf55-16c19197b65c",
   "metadata": {},
   "outputs": [
    {
     "name": "stdout",
     "output_type": "stream",
     "text": [
      "Loss: 0.6950814723968506\n",
      "Loss: 0.6925076842308044\n",
      "Loss: 0.69037264585495\n"
     ]
    }
   ],
   "source": [
    "for epoch in range(epochs):\n",
    "    for text, target in train_ds:\n",
    "        train_step(text, target)\n",
    "        \n",
    "    print(f'Loss: {train_loss_metric.result().numpy()}')\n",
    "    train_loss_metric.reset_states()\n"
   ]
  },
  {
   "cell_type": "markdown",
   "id": "65c48752-cf76-48ac-997d-8f245d257811",
   "metadata": {},
   "source": [
    "## Ejercicio"
   ]
  },
  {
   "cell_type": "markdown",
   "id": "0d1df65d-ba82-4850-b59b-768a3cc8ff51",
   "metadata": {},
   "source": [
    "- Agregar loop para conjunto de validación, métrica accuracy, recall, precision y tiempo de entrenamiento para cada conjunto de datos."
   ]
  }
 ],
 "metadata": {
  "kernelspec": {
   "display_name": "Python 3 (ipykernel)",
   "language": "python",
   "name": "python3"
  },
  "language_info": {
   "codemirror_mode": {
    "name": "ipython",
    "version": 3
   },
   "file_extension": ".py",
   "mimetype": "text/x-python",
   "name": "python",
   "nbconvert_exporter": "python",
   "pygments_lexer": "ipython3",
   "version": "3.7.11"
  }
 },
 "nbformat": 4,
 "nbformat_minor": 5
}

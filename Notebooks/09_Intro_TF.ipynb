{
 "cells": [
  {
   "cell_type": "code",
   "execution_count": 1,
   "id": "dbc49d9b-5f41-4169-bbda-5d77f285459f",
   "metadata": {},
   "outputs": [],
   "source": [
    "import os\n",
    "os.environ['TF_CPP_MIN_LOG_LEVEL'] = '3' # Disable tensorflow debugging logs\n",
    "import tensorflow as tf\n",
    "import matplotlib.pyplot as plt"
   ]
  },
  {
   "cell_type": "markdown",
   "id": "12769da3-4b85-488f-ac95-3fa9258e7aa2",
   "metadata": {},
   "source": [
    "## Introducción a tensores"
   ]
  },
  {
   "cell_type": "markdown",
   "id": "dce10320-6411-42c1-8928-f6fdb78f32c1",
   "metadata": {},
   "source": [
    "- Tensor"
   ]
  },
  {
   "cell_type": "code",
   "execution_count": 2,
   "id": "dc1f72e7-3276-4e67-9eca-e4bac5b5a5d4",
   "metadata": {
    "scrolled": true,
    "tags": []
   },
   "outputs": [
    {
     "data": {
      "text/plain": [
       "<tf.Tensor: shape=(), dtype=int32, numpy=4>"
      ]
     },
     "execution_count": 2,
     "metadata": {},
     "output_type": "execute_result"
    }
   ],
   "source": [
    "tensor = tf.constant(4)\n",
    "tensor"
   ]
  },
  {
   "cell_type": "markdown",
   "id": "3a642caa-21df-4ba3-94ea-ac7cd008fa10",
   "metadata": {},
   "source": [
    "- Vector"
   ]
  },
  {
   "cell_type": "code",
   "execution_count": 3,
   "id": "fbe90022-cc15-4a43-9bd0-8a929dbdf665",
   "metadata": {},
   "outputs": [
    {
     "data": {
      "text/plain": [
       "<tf.Tensor: shape=(3,), dtype=int32, numpy=array([3, 4, 5], dtype=int32)>"
      ]
     },
     "execution_count": 3,
     "metadata": {},
     "output_type": "execute_result"
    }
   ],
   "source": [
    "tensor = tf.constant([3, 4, 5])\n",
    "tensor"
   ]
  },
  {
   "cell_type": "markdown",
   "id": "16ea38b5-b7d8-42e0-b563-b8c9a7c5868a",
   "metadata": {},
   "source": [
    "- Obtener dimensión de tensor con __shape__"
   ]
  },
  {
   "cell_type": "code",
   "execution_count": 4,
   "id": "3c55475b-4fac-4c19-99f1-0bf08394906d",
   "metadata": {},
   "outputs": [
    {
     "data": {
      "text/plain": [
       "TensorShape([3])"
      ]
     },
     "execution_count": 4,
     "metadata": {},
     "output_type": "execute_result"
    }
   ],
   "source": [
    "tensor.shape"
   ]
  },
  {
   "cell_type": "markdown",
   "id": "6eab6fb3-c3c0-41bb-ad4c-fff7f83c3adb",
   "metadata": {},
   "source": [
    "- Tensor de 2 dimensiones"
   ]
  },
  {
   "cell_type": "code",
   "execution_count": 5,
   "id": "7b814980-000e-461e-be16-376c028c1729",
   "metadata": {},
   "outputs": [
    {
     "data": {
      "text/plain": [
       "(<tf.Tensor: shape=(2, 3), dtype=int32, numpy=\n",
       " array([[3, 4, 5],\n",
       "        [3, 4, 5]], dtype=int32)>,\n",
       " TensorShape([2, 3]))"
      ]
     },
     "execution_count": 5,
     "metadata": {},
     "output_type": "execute_result"
    }
   ],
   "source": [
    "tensor = tf.constant([[3, 4, 5], [3, 4, 5]])\n",
    "tensor, tensor.shape"
   ]
  },
  {
   "cell_type": "markdown",
   "id": "8e159f89-9b16-4584-bcd1-7a7ba449dff1",
   "metadata": {},
   "source": [
    "### Operaciones de tensores"
   ]
  },
  {
   "cell_type": "code",
   "execution_count": 6,
   "id": "3c8891c4-e477-4f0d-863f-eac6bc99ab63",
   "metadata": {},
   "outputs": [],
   "source": [
    "tensor = tf.constant([[3, 4], [3, 4]])"
   ]
  },
  {
   "cell_type": "code",
   "execution_count": 7,
   "id": "32076b47-196f-4d57-ba95-5b6b7cb25ec6",
   "metadata": {},
   "outputs": [
    {
     "data": {
      "text/plain": [
       "<tf.Tensor: shape=(2, 2), dtype=int32, numpy=\n",
       "array([[6, 8],\n",
       "       [6, 8]], dtype=int32)>"
      ]
     },
     "execution_count": 7,
     "metadata": {},
     "output_type": "execute_result"
    }
   ],
   "source": [
    "tensor + tensor"
   ]
  },
  {
   "cell_type": "code",
   "execution_count": 8,
   "id": "511b1a2b-9114-4f1a-a483-a84578d940fd",
   "metadata": {},
   "outputs": [
    {
     "data": {
      "text/plain": [
       "<tf.Tensor: shape=(2, 2), dtype=int32, numpy=\n",
       "array([[ 9, 16],\n",
       "       [ 9, 16]], dtype=int32)>"
      ]
     },
     "execution_count": 8,
     "metadata": {},
     "output_type": "execute_result"
    }
   ],
   "source": [
    "tensor * tensor"
   ]
  },
  {
   "cell_type": "markdown",
   "id": "d3011a4f-c8ef-4f8a-983a-5b24809a31f0",
   "metadata": {},
   "source": [
    "- Multiplicación de matrices con __@__"
   ]
  },
  {
   "cell_type": "code",
   "execution_count": 9,
   "id": "4a0c896b-76cf-4cd6-b889-93f0602c74e7",
   "metadata": {},
   "outputs": [
    {
     "data": {
      "text/plain": [
       "<tf.Tensor: shape=(2, 2), dtype=int32, numpy=\n",
       "array([[21, 28],\n",
       "       [21, 28]], dtype=int32)>"
      ]
     },
     "execution_count": 9,
     "metadata": {},
     "output_type": "execute_result"
    }
   ],
   "source": [
    "tensor @ tensor"
   ]
  },
  {
   "cell_type": "markdown",
   "id": "d45d9dda-e20e-40a5-b450-a9b7de96c923",
   "metadata": {},
   "source": [
    "### Métodos de tensores"
   ]
  },
  {
   "cell_type": "markdown",
   "id": "5f6f6006-345a-4a8e-aea9-0b733b984aa6",
   "metadata": {},
   "source": [
    "- Inicialización en ceros. Pasar como argumento la dimensión del tensor"
   ]
  },
  {
   "cell_type": "code",
   "execution_count": 10,
   "id": "245b78ac-259e-4a2f-b1c5-5ca93b499def",
   "metadata": {},
   "outputs": [
    {
     "data": {
      "text/plain": [
       "TensorShape([3, 3, 9])"
      ]
     },
     "execution_count": 10,
     "metadata": {},
     "output_type": "execute_result"
    }
   ],
   "source": [
    "tensor = tf.zeros([3, 3, 9])\n",
    "tensor.shape"
   ]
  },
  {
   "cell_type": "markdown",
   "id": "fe06f762-23a6-46b2-8497-f79deeb055f3",
   "metadata": {},
   "source": [
    "- Método __reshape__"
   ]
  },
  {
   "cell_type": "code",
   "execution_count": 11,
   "id": "7e6a6ec2-eb5d-4fe9-ae19-d64b25735044",
   "metadata": {},
   "outputs": [
    {
     "data": {
      "text/plain": [
       "<tf.Tensor: shape=(9, 9), dtype=float32, numpy=\n",
       "array([[0., 0., 0., 0., 0., 0., 0., 0., 0.],\n",
       "       [0., 0., 0., 0., 0., 0., 0., 0., 0.],\n",
       "       [0., 0., 0., 0., 0., 0., 0., 0., 0.],\n",
       "       [0., 0., 0., 0., 0., 0., 0., 0., 0.],\n",
       "       [0., 0., 0., 0., 0., 0., 0., 0., 0.],\n",
       "       [0., 0., 0., 0., 0., 0., 0., 0., 0.],\n",
       "       [0., 0., 0., 0., 0., 0., 0., 0., 0.],\n",
       "       [0., 0., 0., 0., 0., 0., 0., 0., 0.],\n",
       "       [0., 0., 0., 0., 0., 0., 0., 0., 0.]], dtype=float32)>"
      ]
     },
     "execution_count": 11,
     "metadata": {},
     "output_type": "execute_result"
    }
   ],
   "source": [
    "tf.reshape(tensor, [9, 9])"
   ]
  },
  {
   "cell_type": "markdown",
   "id": "5ae8856b-d97f-4862-ac9c-37325e604715",
   "metadata": {},
   "source": [
    "- Cast de tensores"
   ]
  },
  {
   "cell_type": "code",
   "execution_count": 12,
   "id": "04078808-05b0-4b80-8b3e-6d0a7ad7f732",
   "metadata": {},
   "outputs": [
    {
     "data": {
      "text/plain": [
       "<tf.Tensor: shape=(3, 3, 9), dtype=uint8, numpy=\n",
       "array([[[0, 0, 0, 0, 0, 0, 0, 0, 0],\n",
       "        [0, 0, 0, 0, 0, 0, 0, 0, 0],\n",
       "        [0, 0, 0, 0, 0, 0, 0, 0, 0]],\n",
       "\n",
       "       [[0, 0, 0, 0, 0, 0, 0, 0, 0],\n",
       "        [0, 0, 0, 0, 0, 0, 0, 0, 0],\n",
       "        [0, 0, 0, 0, 0, 0, 0, 0, 0]],\n",
       "\n",
       "       [[0, 0, 0, 0, 0, 0, 0, 0, 0],\n",
       "        [0, 0, 0, 0, 0, 0, 0, 0, 0],\n",
       "        [0, 0, 0, 0, 0, 0, 0, 0, 0]]], dtype=uint8)>"
      ]
     },
     "execution_count": 12,
     "metadata": {},
     "output_type": "execute_result"
    }
   ],
   "source": [
    "tf.cast(tensor, dtype=tf.uint8)"
   ]
  },
  {
   "cell_type": "markdown",
   "id": "813a8d7e-c69e-40d8-9c33-116968e17bc1",
   "metadata": {},
   "source": [
    "- Método __range__"
   ]
  },
  {
   "cell_type": "code",
   "execution_count": 13,
   "id": "68ce2cb1-ef06-4af4-8092-9f3361bd92c0",
   "metadata": {},
   "outputs": [
    {
     "data": {
      "text/plain": [
       "<tf.Tensor: shape=(4,), dtype=int32, numpy=array([4, 5, 6, 7], dtype=int32)>"
      ]
     },
     "execution_count": 13,
     "metadata": {},
     "output_type": "execute_result"
    }
   ],
   "source": [
    "tf.range(4, 8)"
   ]
  },
  {
   "cell_type": "markdown",
   "id": "74899028-b1b8-44a9-849e-e19493b9d5e0",
   "metadata": {},
   "source": [
    "### Cadenas en tensores"
   ]
  },
  {
   "cell_type": "code",
   "execution_count": 14,
   "id": "ae8260e9-33c7-46f9-a149-890dfba741e2",
   "metadata": {},
   "outputs": [
    {
     "data": {
      "text/plain": [
       "<tf.Tensor: shape=(1,), dtype=string, numpy=array([b'Hola como estas'], dtype=object)>"
      ]
     },
     "execution_count": 14,
     "metadata": {},
     "output_type": "execute_result"
    }
   ],
   "source": [
    "tf.constant(['Hola como estas'])"
   ]
  },
  {
   "cell_type": "markdown",
   "id": "d3afd48f-7d9d-474b-8a3d-67ecfea3ba57",
   "metadata": {},
   "source": [
    "- Listas de cadenas"
   ]
  },
  {
   "cell_type": "code",
   "execution_count": 15,
   "id": "f77e7125-0ce5-4286-8ef3-ace1b9c318f5",
   "metadata": {},
   "outputs": [
    {
     "data": {
      "text/plain": [
       "(<tf.Tensor: shape=(), dtype=string, numpy=b'Hola como estas'>,\n",
       " <tf.Tensor: shape=(), dtype=string, numpy=b'Ola k ase?'>)"
      ]
     },
     "execution_count": 15,
     "metadata": {},
     "output_type": "execute_result"
    }
   ],
   "source": [
    "string = tf.constant(['Hola como estas',\n",
    "                      'Bien y tu?',\n",
    "                      'Ola k ase?'])\n",
    "\n",
    "string[0], string[2]"
   ]
  },
  {
   "cell_type": "markdown",
   "id": "5395006d-f823-472c-83a1-7c7dbce1421b",
   "metadata": {},
   "source": [
    "- Ejercicio: Crear un tensor de $3 \\times 3 \\times 2 \\times 1$"
   ]
  },
  {
   "cell_type": "code",
   "execution_count": null,
   "id": "0887a4cf-5f57-4b4c-8973-5b02aa39ee96",
   "metadata": {},
   "outputs": [],
   "source": []
  }
 ],
 "metadata": {
  "kernelspec": {
   "display_name": "Python 3 (ipykernel)",
   "language": "python",
   "name": "python3"
  },
  "language_info": {
   "codemirror_mode": {
    "name": "ipython",
    "version": 3
   },
   "file_extension": ".py",
   "mimetype": "text/x-python",
   "name": "python",
   "nbconvert_exporter": "python",
   "pygments_lexer": "ipython3",
   "version": "3.9.16"
  }
 },
 "nbformat": 4,
 "nbformat_minor": 5
}

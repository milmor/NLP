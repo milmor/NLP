{
 "cells": [
  {
   "cell_type": "markdown",
   "id": "fdb86772-2b9d-4781-9570-89e87d401d1d",
   "metadata": {},
   "source": [
    "<table class=\"tfo-notebook-buttons\" align=\"left\">\n",
    "  <td>\n",
    "    <a target=\"_blank\" href=\"https://colab.research.google.com/github/milmor/NLP/blob/main/Notebooks/21_FAISS_hf.ipynb\">\n",
    "    <img src=\"https://www.tensorflow.org/images/colab_logo_32px.png\" />\n",
    "    Run in Google Colab</a>\n",
    "  </td>\n",
    "</table>"
   ]
  },
  {
   "cell_type": "markdown",
   "id": "78050bf9-5ebf-48d8-a528-11627be1019c",
   "metadata": {},
   "source": [
    "# FAISS  \n",
    "- Game of thrones book: https://www.kaggle.com/datasets/khulasasndh/game-of-thrones-books"
   ]
  },
  {
   "cell_type": "code",
   "execution_count": 1,
   "id": "9fd95798-f664-4351-b7f0-792152d709f3",
   "metadata": {},
   "outputs": [
    {
     "data": {
      "text/plain": [
       "'2.5.1+cu124'"
      ]
     },
     "execution_count": 1,
     "metadata": {},
     "output_type": "execute_result"
    }
   ],
   "source": [
    "import torch\n",
    "import pandas as pd\n",
    "from datasets import Dataset\n",
    "\n",
    "torch.__version__"
   ]
  },
  {
   "cell_type": "markdown",
   "id": "e140bb75-fe87-4ce0-85d7-a2730b753628",
   "metadata": {},
   "source": [
    "## 1.- Dataset"
   ]
  },
  {
   "cell_type": "code",
   "execution_count": 2,
   "id": "287d4f80-d57c-4fe9-84b6-36e441bc340c",
   "metadata": {},
   "outputs": [
    {
     "name": "stdout",
     "output_type": "stream",
     "text": [
      "Words: 1628063\n"
     ]
    }
   ],
   "source": [
    "path = './001ssb.txt'\n",
    "book = open(path, 'rb').read().decode(encoding='utf-8').lower()\n",
    "\n",
    "print(f'Words: {len(book)}')"
   ]
  },
  {
   "cell_type": "code",
   "execution_count": 3,
   "id": "19c85f48-159c-402e-bd58-017ede13cf0d",
   "metadata": {},
   "outputs": [],
   "source": [
    "import re\n",
    "\n",
    "words = re.findall(r'\\b\\w+\\b|[\\.,;!?()\"\\']', book)\n",
    "\n",
    "maxlen = 50\n",
    "# Crear lotes de 50 palabras\n",
    "sentences = [words[i:i + maxlen] for i in range(0, len(words), maxlen)]"
   ]
  },
  {
   "cell_type": "code",
   "execution_count": 4,
   "id": "47dab325-c250-477f-adee-d0184ae2ec70",
   "metadata": {},
   "outputs": [
    {
     "data": {
      "text/plain": [
       "['a',\n",
       " 'game',\n",
       " 'of',\n",
       " 'thrones',\n",
       " 'book',\n",
       " 'one',\n",
       " 'of',\n",
       " 'a',\n",
       " 'song',\n",
       " 'of',\n",
       " 'ice',\n",
       " 'and',\n",
       " 'fire',\n",
       " 'by',\n",
       " 'george',\n",
       " 'r',\n",
       " '.',\n",
       " 'r',\n",
       " '.',\n",
       " 'martin']"
      ]
     },
     "execution_count": 4,
     "metadata": {},
     "output_type": "execute_result"
    }
   ],
   "source": [
    "sentences[0][:20]"
   ]
  },
  {
   "cell_type": "code",
   "execution_count": 5,
   "id": "7bd6b0ee-9f8e-4a40-844f-122b7dd12b6f",
   "metadata": {},
   "outputs": [
    {
     "data": {
      "text/plain": [
       "7367"
      ]
     },
     "execution_count": 5,
     "metadata": {},
     "output_type": "execute_result"
    }
   ],
   "source": [
    "len(sentences)"
   ]
  },
  {
   "cell_type": "code",
   "execution_count": 6,
   "id": "a81fc7bd-a2d4-4304-bc57-f2ebd2489435",
   "metadata": {},
   "outputs": [
    {
     "data": {
      "text/plain": [
       "Dataset({\n",
       "    features: ['id', 'text'],\n",
       "    num_rows: 7367\n",
       "})"
      ]
     },
     "execution_count": 6,
     "metadata": {},
     "output_type": "execute_result"
    }
   ],
   "source": [
    "my_dict = {\n",
    "    \"id\": list(range(len(sentences))),\n",
    "    \"text\": [\" \".join(sentence) for sentence in sentences]\n",
    "}\n",
    "\n",
    "dataset = Dataset.from_dict(my_dict)\n",
    "dataset"
   ]
  },
  {
   "cell_type": "code",
   "execution_count": 7,
   "id": "cb0d45c0-17be-4917-9f51-78501a2e1eae",
   "metadata": {},
   "outputs": [
    {
     "data": {
      "text/plain": [
       "{'id': 0,\n",
       " 'text': 'a game of thrones book one of a song of ice and fire by george r . r . martin prologue \" we should start back , \" gared urged as the woods began to grow dark around them . \" the wildlings are dead . \" \" do the'}"
      ]
     },
     "execution_count": 7,
     "metadata": {},
     "output_type": "execute_result"
    }
   ],
   "source": [
    "dataset[0]"
   ]
  },
  {
   "cell_type": "markdown",
   "id": "5b4d8aa8-3d76-4e16-8662-3890e1bb4b47",
   "metadata": {},
   "source": [
    "## 2.- Model"
   ]
  },
  {
   "cell_type": "code",
   "execution_count": 8,
   "id": "e5f96d13-6256-452a-bf22-a8f1a1c09574",
   "metadata": {
    "scrolled": true
   },
   "outputs": [],
   "source": [
    "from sentence_transformers import SentenceTransformer\n",
    "\n",
    "model = SentenceTransformer(\"jinaai/jina-embeddings-v2-base-en\", \n",
    "                            trust_remote_code=True)"
   ]
  },
  {
   "cell_type": "code",
   "execution_count": 9,
   "id": "aaa4649a-6efa-49c6-ae01-4d072ac2a320",
   "metadata": {},
   "outputs": [
    {
     "data": {
      "application/vnd.jupyter.widget-view+json": {
       "model_id": "08a4713b434c4e44ab6ddbaa5ef74261",
       "version_major": 2,
       "version_minor": 0
      },
      "text/plain": [
       "Map:   0%|          | 0/7367 [00:00<?, ? examples/s]"
      ]
     },
     "metadata": {},
     "output_type": "display_data"
    }
   ],
   "source": [
    "def embed(batch): # adds embedding column\n",
    "    information = batch[\"text\"]\n",
    "    return {\"embeddings\" : model.encode(information)}\n",
    "\n",
    "dataset = dataset.map(embed,batched=True,batch_size=16)"
   ]
  },
  {
   "cell_type": "code",
   "execution_count": 10,
   "id": "aa8114b0-b2e5-4aa0-969b-a591e2d06708",
   "metadata": {},
   "outputs": [
    {
     "data": {
      "text/plain": [
       "Dataset({\n",
       "    features: ['id', 'text', 'embeddings'],\n",
       "    num_rows: 7367\n",
       "})"
      ]
     },
     "execution_count": 10,
     "metadata": {},
     "output_type": "execute_result"
    }
   ],
   "source": [
    "dataset"
   ]
  },
  {
   "cell_type": "code",
   "execution_count": 11,
   "id": "36457c54-655f-460d-b5c5-33286b32ec2e",
   "metadata": {
    "scrolled": true
   },
   "outputs": [
    {
     "data": {
      "text/plain": [
       "768"
      ]
     },
     "execution_count": 11,
     "metadata": {},
     "output_type": "execute_result"
    }
   ],
   "source": [
    "len(dataset[0]['embeddings'])"
   ]
  },
  {
   "cell_type": "code",
   "execution_count": 12,
   "id": "08c53704-bce4-4510-8fc4-9a3176dd671e",
   "metadata": {},
   "outputs": [
    {
     "data": {
      "application/vnd.jupyter.widget-view+json": {
       "model_id": "cda4c57450bf4b9a92f779f04bef9465",
       "version_major": 2,
       "version_minor": 0
      },
      "text/plain": [
       "  0%|          | 0/8 [00:00<?, ?it/s]"
      ]
     },
     "metadata": {},
     "output_type": "display_data"
    }
   ],
   "source": [
    "data = dataset.add_faiss_index(\"embeddings\")"
   ]
  },
  {
   "cell_type": "markdown",
   "id": "54d98129-3c4f-4030-8d8d-a8cbe35a201a",
   "metadata": {},
   "source": [
    "## 3.- Search"
   ]
  },
  {
   "cell_type": "code",
   "execution_count": 13,
   "id": "cee9024e-f675-4a48-9484-618136915191",
   "metadata": {},
   "outputs": [],
   "source": [
    "def search(query: str, k: int = 3):\n",
    "    embedded_query = model.encode(query) # embed new query\n",
    "    scores, retrieved_examples = data.get_nearest_examples( \n",
    "        \"embeddings\", embedded_query, # compare our new embedded query with the dataset embeddings\n",
    "        k=k # get only top k results\n",
    "    )\n",
    "    return scores, retrieved_examples"
   ]
  },
  {
   "cell_type": "code",
   "execution_count": 14,
   "id": "205cd8ab-2b13-4665-87f6-4ae4cae187e7",
   "metadata": {},
   "outputs": [
    {
     "data": {
      "text/plain": [
       "[\"or his hand ? tyrion had no illusions about the king ' s love for his sister . if cersei kept her wits about her , she would insist the king sit in judgment of tyrion himself . even ned stark could scarcely object to that , not without impugning\",\n",
       " \"t love you for it . and his ascent will mean war . stannis cannot rest easy on the throne until cersei and her bastards are dead . do you think lord tywin will sit idly while his daughter ' s head is measured for a spike ? casterly rock\",\n",
       " 'affection or respect , and for that tyrion was willing to forgive him most anything . a servant approached . \" bread , \" tyrion told him , \" and two of those little fish , and a mug of that good dark beer to wash them down . oh',\n",
       " 'love him , father , i truly truly do , i love him as much as queen naerys loved prince aemon the dragonknight , as much as jonquil loved ser florian . i want to be his queen and have his babies . \" \" sweet one , \" her',\n",
       " \". an archer so armed can outrange any wooden bow . tyrion had a morbid fascination with dragons . when he had first come to king ' s landing for his sister ' s wedding to robert baratheon , he had made it a point to seek out the dragon\"]"
      ]
     },
     "execution_count": 14,
     "metadata": {},
     "output_type": "execute_result"
    }
   ],
   "source": [
    "scores , result = search(\"tyrion loves\", 5) \n",
    "result['text']"
   ]
  },
  {
   "cell_type": "code",
   "execution_count": 15,
   "id": "0992c3fa-94e2-4a54-917d-badc4fb36ce7",
   "metadata": {},
   "outputs": [
    {
     "data": {
      "text/plain": [
       "['lady stark . littlefinger has never loved anyone but littlefinger , and i promise you that it is not your hand that he boasts of , it \\' s those ripe breasts of yours , and that sweet mouth , and the heat between your legs . \" kurleket grabbed',\n",
       " '. ser alliser \\' s onyx eyes were fixed on jon snow . \" it would seem our bastard is in love , \" he said as jon helped the fat boy to his feet . \" show me your steel , lord snow . \" jon drew his longsword',\n",
       " '. winterfell was such a vast place . \" keep him off the walls , then , \" she said bravely . \" you know how bran loves to climb . \" ned kissed the tears from her eyes before they could fall . \" thank you , my lady',\n",
       " 'stark . too long in the north , all the juices have frozen inside you . well , mine are still running . \" he slapped his chest to prove it . \" you are the king , \" ned reminded him . \" i sit on the damn iron',\n",
       " \"robert dies and joff takes the throne ? and the sooner that comes to pass , the safer we ' ll all be . my husband grows more restless every day . having stark beside him will only make him worse . he ' s still in love with the\"]"
      ]
     },
     "execution_count": 15,
     "metadata": {},
     "output_type": "execute_result"
    }
   ],
   "source": [
    "scores , result = search(\"stark loves\", 5) \n",
    "result['text']"
   ]
  }
 ],
 "metadata": {
  "kernelspec": {
   "display_name": "Python 3 (ipykernel)",
   "language": "python",
   "name": "python3"
  },
  "language_info": {
   "codemirror_mode": {
    "name": "ipython",
    "version": 3
   },
   "file_extension": ".py",
   "mimetype": "text/x-python",
   "name": "python",
   "nbconvert_exporter": "python",
   "pygments_lexer": "ipython3",
   "version": "3.10.14"
  }
 },
 "nbformat": 4,
 "nbformat_minor": 5
}
